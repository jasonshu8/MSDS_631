{
 "cells": [
  {
   "cell_type": "code",
   "execution_count": 1,
   "metadata": {
    "collapsed": true
   },
   "outputs": [],
   "source": [
    "import os\n",
    "import re\n",
    "def get_file_paths(folder, full_path=True):\n",
    "    file_paths = []\n",
    "    for (dirpath, dirnames, filenames) in os.walk(folder):\n",
    "        for file_ in filenames:\n",
    "            if not re.match('\\.', file_):\n",
    "                if full_path:\n",
    "                    file_paths.append(os.path.join(dirpath, file_))\n",
    "                else:\n",
    "                    file_paths.append((dirpath, file_))\n",
    "    return file_paths\n",
    "\n",
    "\n",
    "def get_all_paths(subfolder):\n",
    "    folder = os.path.join(subfolder)\n",
    "    files = get_file_paths(folder)\n",
    "    return files"
   ]
  },
  {
   "cell_type": "code",
   "execution_count": 2,
   "metadata": {},
   "outputs": [
    {
     "data": {
      "text/plain": [
       "['stock_prices/AAPL.csv',\n",
       " 'stock_prices/AMZN.csv',\n",
       " 'stock_prices/BA.csv',\n",
       " 'stock_prices/FB.csv',\n",
       " 'stock_prices/GE.csv',\n",
       " 'stock_prices/GOOG.csv']"
      ]
     },
     "execution_count": 2,
     "metadata": {},
     "output_type": "execute_result"
    }
   ],
   "source": [
    "file_paths = get_all_paths('stock_prices')\n",
    "file_paths"
   ]
  },
  {
   "cell_type": "code",
   "execution_count": 3,
   "metadata": {
    "collapsed": true
   },
   "outputs": [],
   "source": [
    "import pandas as pd\n",
    "from datetime import datetime as dt\n",
    "%matplotlib inline"
   ]
  },
  {
   "cell_type": "code",
   "execution_count": 4,
   "metadata": {
    "collapsed": true
   },
   "outputs": [],
   "source": [
    "def get_ticker_from_filepath(filepath):\n",
    "    #<fill in code>\n",
    "    return ticker"
   ]
  },
  {
   "cell_type": "code",
   "execution_count": 5,
   "metadata": {
    "collapsed": true
   },
   "outputs": [],
   "source": [
    "def get_df_from_file(filepath):\n",
    "    #<fill in code>\n",
    "    #Add ticker symbol to DF\n",
    "    return df"
   ]
  },
  {
   "cell_type": "code",
   "execution_count": 81,
   "metadata": {
    "collapsed": true
   },
   "outputs": [],
   "source": []
  },
  {
   "cell_type": "code",
   "execution_count": null,
   "metadata": {
    "collapsed": true
   },
   "outputs": [],
   "source": []
  }
 ],
 "metadata": {
  "kernelspec": {
   "display_name": "Python 3",
   "language": "python",
   "name": "python3"
  },
  "language_info": {
   "codemirror_mode": {
    "name": "ipython",
    "version": 3
   },
   "file_extension": ".py",
   "mimetype": "text/x-python",
   "name": "python",
   "nbconvert_exporter": "python",
   "pygments_lexer": "ipython3",
   "version": "3.7.1"
  }
 },
 "nbformat": 4,
 "nbformat_minor": 1
}
