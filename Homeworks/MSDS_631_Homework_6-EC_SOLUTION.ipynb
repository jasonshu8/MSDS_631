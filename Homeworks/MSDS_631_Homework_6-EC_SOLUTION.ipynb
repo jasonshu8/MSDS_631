{
 "cells": [
  {
   "cell_type": "markdown",
   "metadata": {},
   "source": [
    "# Homework 6 (Extra Credit)\n",
    "In this assignment, you will practice using Pandas to solve problems you implemented with base Python. For those of you who attempted Part 6 of Homework 2/3, it is exactly the same as what you did then. This time, however, you will use the power of Pandas to generate your answers."
   ]
  },
  {
   "cell_type": "markdown",
   "metadata": {},
   "source": [
    "#### Part 1 - Describe my students"
   ]
  },
  {
   "cell_type": "markdown",
   "metadata": {},
   "source": [
    "In the cell below, I've written a bit of code to load some data for you to analyze.\n",
    "\n",
    "`student_info` contains personal information for several students. You will use this to answer all of the questions in Part 4."
   ]
  },
  {
   "cell_type": "code",
   "execution_count": 2,
   "metadata": {
    "collapsed": false
   },
   "outputs": [],
   "source": [
    "import pandas as pd\n",
    "student_info = pd.read_csv('students.csv')"
   ]
  },
  {
   "cell_type": "code",
   "execution_count": 3,
   "metadata": {
    "collapsed": false
   },
   "outputs": [
    {
     "data": {
      "text/html": [
       "<div>\n",
       "<style>\n",
       "    .dataframe thead tr:only-child th {\n",
       "        text-align: right;\n",
       "    }\n",
       "\n",
       "    .dataframe thead th {\n",
       "        text-align: left;\n",
       "    }\n",
       "\n",
       "    .dataframe tbody tr th {\n",
       "        vertical-align: top;\n",
       "    }\n",
       "</style>\n",
       "<table border=\"1\" class=\"dataframe\">\n",
       "  <thead>\n",
       "    <tr style=\"text-align: right;\">\n",
       "      <th></th>\n",
       "      <th>student_id</th>\n",
       "      <th>first</th>\n",
       "      <th>last</th>\n",
       "      <th>gender</th>\n",
       "      <th>class</th>\n",
       "      <th>major</th>\n",
       "      <th>gpa</th>\n",
       "    </tr>\n",
       "  </thead>\n",
       "  <tbody>\n",
       "    <tr>\n",
       "      <th>0</th>\n",
       "      <td>5a397209-3782-4764-a285-10fae807ee71</td>\n",
       "      <td>Janis</td>\n",
       "      <td>Brown</td>\n",
       "      <td>Female</td>\n",
       "      <td>Junior</td>\n",
       "      <td>Economics</td>\n",
       "      <td>3.12</td>\n",
       "    </tr>\n",
       "    <tr>\n",
       "      <th>1</th>\n",
       "      <td>e26c3d69-3c74-49b6-81d7-47232787fad9</td>\n",
       "      <td>Timothy</td>\n",
       "      <td>Bishop</td>\n",
       "      <td>Male</td>\n",
       "      <td>Sophomore</td>\n",
       "      <td>Economics</td>\n",
       "      <td>3.48</td>\n",
       "    </tr>\n",
       "    <tr>\n",
       "      <th>2</th>\n",
       "      <td>975c1581-5ba2-430c-a3d1-01ce03bd83f9</td>\n",
       "      <td>Elizabeth</td>\n",
       "      <td>Owens</td>\n",
       "      <td>Female</td>\n",
       "      <td>Freshman</td>\n",
       "      <td>Finance</td>\n",
       "      <td>3.40</td>\n",
       "    </tr>\n",
       "    <tr>\n",
       "      <th>3</th>\n",
       "      <td>6081f91d-365c-46ce-ad1b-38af120781d9</td>\n",
       "      <td>Edward</td>\n",
       "      <td>Pearson</td>\n",
       "      <td>Male</td>\n",
       "      <td>Freshman</td>\n",
       "      <td>Math</td>\n",
       "      <td>3.84</td>\n",
       "    </tr>\n",
       "    <tr>\n",
       "      <th>4</th>\n",
       "      <td>84cec8f4-0b64-44ce-a628-c0eb73f6ca6f</td>\n",
       "      <td>Lisa</td>\n",
       "      <td>Gonzalez</td>\n",
       "      <td>Female</td>\n",
       "      <td>Junior</td>\n",
       "      <td>Finance</td>\n",
       "      <td>4.00</td>\n",
       "    </tr>\n",
       "  </tbody>\n",
       "</table>\n",
       "</div>"
      ],
      "text/plain": [
       "                             student_id      first      last  gender  \\\n",
       "0  5a397209-3782-4764-a285-10fae807ee71      Janis     Brown  Female   \n",
       "1  e26c3d69-3c74-49b6-81d7-47232787fad9    Timothy    Bishop    Male   \n",
       "2  975c1581-5ba2-430c-a3d1-01ce03bd83f9  Elizabeth     Owens  Female   \n",
       "3  6081f91d-365c-46ce-ad1b-38af120781d9     Edward   Pearson    Male   \n",
       "4  84cec8f4-0b64-44ce-a628-c0eb73f6ca6f       Lisa  Gonzalez  Female   \n",
       "\n",
       "       class      major   gpa  \n",
       "0     Junior  Economics  3.12  \n",
       "1  Sophomore  Economics  3.48  \n",
       "2   Freshman    Finance  3.40  \n",
       "3   Freshman       Math  3.84  \n",
       "4     Junior    Finance  4.00  "
      ]
     },
     "execution_count": 3,
     "metadata": {},
     "output_type": "execute_result"
    }
   ],
   "source": [
    "student_info.head()"
   ]
  },
  {
   "cell_type": "markdown",
   "metadata": {},
   "source": [
    "1.1) How many different majors are represented by these students?"
   ]
  },
  {
   "cell_type": "code",
   "execution_count": 4,
   "metadata": {
    "collapsed": false
   },
   "outputs": [
    {
     "data": {
      "text/plain": [
       "6"
      ]
     },
     "execution_count": 4,
     "metadata": {},
     "output_type": "execute_result"
    }
   ],
   "source": [
    "len(set(student_info['major']))"
   ]
  },
  {
   "cell_type": "code",
   "execution_count": 7,
   "metadata": {
    "collapsed": false
   },
   "outputs": [
    {
     "data": {
      "text/plain": [
       "6"
      ]
     },
     "execution_count": 7,
     "metadata": {},
     "output_type": "execute_result"
    }
   ],
   "source": [
    "#You could also you Pandas built-in \"nunique\" method\n",
    "student_info['major'].nunique()"
   ]
  },
  {
   "cell_type": "markdown",
   "metadata": {},
   "source": [
    "1.2) What is the most popular major amongst each gender?\n",
    "\n",
    "#### Approach 1"
   ]
  },
  {
   "cell_type": "code",
   "execution_count": 13,
   "metadata": {
    "collapsed": true
   },
   "outputs": [],
   "source": [
    "def find_most_common_thing(df, column):\n",
    "    counts = df.groupby(column).size()\n",
    "    largest_index = counts.idxmax()\n",
    "    return largest_index, counts[largest_index]"
   ]
  },
  {
   "cell_type": "code",
   "execution_count": 14,
   "metadata": {
    "collapsed": false
   },
   "outputs": [
    {
     "data": {
      "text/plain": [
       "('Finance', 2241)"
      ]
     },
     "execution_count": 14,
     "metadata": {},
     "output_type": "execute_result"
    }
   ],
   "source": [
    "find_most_common_thing(student_info, 'major')"
   ]
  },
  {
   "cell_type": "code",
   "execution_count": 16,
   "metadata": {
    "collapsed": false
   },
   "outputs": [
    {
     "name": "stdout",
     "output_type": "stream",
     "text": [
      "Male Engineering 1524\n",
      "Female Economics 1500\n"
     ]
    }
   ],
   "source": [
    "for gender in set(student_info['gender']):\n",
    "    gender_df = student_info[student_info['gender']==gender]\n",
    "    most_popular = find_most_common_thing(gender_df, 'major')\n",
    "    print(gender, most_popular[0], most_popular[1])"
   ]
  },
  {
   "cell_type": "markdown",
   "metadata": {},
   "source": [
    "#### Approach 2"
   ]
  },
  {
   "cell_type": "code",
   "execution_count": 18,
   "metadata": {
    "collapsed": true
   },
   "outputs": [],
   "source": [
    "gender_major_counts = student_info.groupby(['gender', 'major']).size()"
   ]
  },
  {
   "cell_type": "code",
   "execution_count": 21,
   "metadata": {
    "collapsed": false
   },
   "outputs": [
    {
     "name": "stdout",
     "output_type": "stream",
     "text": [
      "Male Engineering 1524\n",
      "Female Economics 1500\n"
     ]
    }
   ],
   "source": [
    "for gender in set(student_info['gender']):\n",
    "    gender_count = gender_major_counts[gender]\n",
    "    largest_index = gender_count.idxmax()\n",
    "    largest_value = gender_count[largest_index]\n",
    "    print(gender, largest_index, largest_value)"
   ]
  },
  {
   "cell_type": "markdown",
   "metadata": {},
   "source": [
    "1.3) For each major, what is the ratio of males to females in each class? For example, in the major or Economics, what are the ratios of males to females in the freshman class, sophomore class, junior class, and senior class? (NOTE: I *strongly* recommend creating a function to help you answer this one)."
   ]
  },
  {
   "cell_type": "code",
   "execution_count": 31,
   "metadata": {
    "collapsed": false
   },
   "outputs": [],
   "source": [
    "genders = set(student_info['gender'])\n",
    "majors = set(student_info['major'])\n",
    "classes = set(student_info['class'])"
   ]
  },
  {
   "cell_type": "code",
   "execution_count": 35,
   "metadata": {
    "collapsed": false
   },
   "outputs": [
    {
     "data": {
      "text/plain": [
       "major      class     gender\n",
       "Chemistry  Freshman  Female    243\n",
       "                     Male      125\n",
       "           Junior    Female    245\n",
       "                     Male      130\n",
       "           Senior    Female    224\n",
       "dtype: int64"
      ]
     },
     "execution_count": 35,
     "metadata": {},
     "output_type": "execute_result"
    }
   ],
   "source": [
    "gender_counts = student_info.groupby(['major', 'class', 'gender']).size()\n",
    "gender_counts.head()"
   ]
  },
  {
   "cell_type": "code",
   "execution_count": 36,
   "metadata": {
    "collapsed": true
   },
   "outputs": [],
   "source": [
    "def compute_ratio(major, class_):\n",
    "    num_males = gender_counts.loc[(major, class_, 'Male')]\n",
    "    num_females = gender_counts.loc[(major, class_, 'Female')]\n",
    "    ratio = num_males / num_females\n",
    "    return ratio"
   ]
  },
  {
   "cell_type": "code",
   "execution_count": 40,
   "metadata": {
    "collapsed": false
   },
   "outputs": [],
   "source": [
    "all_ratios = []\n",
    "for major in majors:\n",
    "    for major_class in classes:\n",
    "        ratio = compute_ratio(major, major_class)\n",
    "        all_ratios.append([major, major_class, ratio])\n",
    "all_ratios_df = pd.DataFrame(all_ratios, columns=['major', 'class', 'm/f_ratio'])"
   ]
  },
  {
   "cell_type": "code",
   "execution_count": 42,
   "metadata": {
    "collapsed": false
   },
   "outputs": [
    {
     "data": {
      "text/html": [
       "<div>\n",
       "<style>\n",
       "    .dataframe thead tr:only-child th {\n",
       "        text-align: right;\n",
       "    }\n",
       "\n",
       "    .dataframe thead th {\n",
       "        text-align: left;\n",
       "    }\n",
       "\n",
       "    .dataframe tbody tr th {\n",
       "        vertical-align: top;\n",
       "    }\n",
       "</style>\n",
       "<table border=\"1\" class=\"dataframe\">\n",
       "  <thead>\n",
       "    <tr style=\"text-align: right;\">\n",
       "      <th></th>\n",
       "      <th>major</th>\n",
       "      <th>class</th>\n",
       "      <th>m/f_ratio</th>\n",
       "    </tr>\n",
       "  </thead>\n",
       "  <tbody>\n",
       "    <tr>\n",
       "      <th>7</th>\n",
       "      <td>Chemistry</td>\n",
       "      <td>Freshman</td>\n",
       "      <td>0.514403</td>\n",
       "    </tr>\n",
       "    <tr>\n",
       "      <th>5</th>\n",
       "      <td>Chemistry</td>\n",
       "      <td>Junior</td>\n",
       "      <td>0.530612</td>\n",
       "    </tr>\n",
       "    <tr>\n",
       "      <th>6</th>\n",
       "      <td>Chemistry</td>\n",
       "      <td>Senior</td>\n",
       "      <td>0.558036</td>\n",
       "    </tr>\n",
       "    <tr>\n",
       "      <th>4</th>\n",
       "      <td>Chemistry</td>\n",
       "      <td>Sophomore</td>\n",
       "      <td>0.596154</td>\n",
       "    </tr>\n",
       "    <tr>\n",
       "      <th>23</th>\n",
       "      <td>Economics</td>\n",
       "      <td>Freshman</td>\n",
       "      <td>0.281977</td>\n",
       "    </tr>\n",
       "    <tr>\n",
       "      <th>21</th>\n",
       "      <td>Economics</td>\n",
       "      <td>Junior</td>\n",
       "      <td>0.298295</td>\n",
       "    </tr>\n",
       "    <tr>\n",
       "      <th>22</th>\n",
       "      <td>Economics</td>\n",
       "      <td>Senior</td>\n",
       "      <td>0.352113</td>\n",
       "    </tr>\n",
       "    <tr>\n",
       "      <th>20</th>\n",
       "      <td>Economics</td>\n",
       "      <td>Sophomore</td>\n",
       "      <td>0.320106</td>\n",
       "    </tr>\n",
       "    <tr>\n",
       "      <th>11</th>\n",
       "      <td>Engineering</td>\n",
       "      <td>Freshman</td>\n",
       "      <td>3.571429</td>\n",
       "    </tr>\n",
       "    <tr>\n",
       "      <th>9</th>\n",
       "      <td>Engineering</td>\n",
       "      <td>Junior</td>\n",
       "      <td>2.524194</td>\n",
       "    </tr>\n",
       "    <tr>\n",
       "      <th>10</th>\n",
       "      <td>Engineering</td>\n",
       "      <td>Senior</td>\n",
       "      <td>3.129032</td>\n",
       "    </tr>\n",
       "    <tr>\n",
       "      <th>8</th>\n",
       "      <td>Engineering</td>\n",
       "      <td>Sophomore</td>\n",
       "      <td>2.785714</td>\n",
       "    </tr>\n",
       "    <tr>\n",
       "      <th>15</th>\n",
       "      <td>Finance</td>\n",
       "      <td>Freshman</td>\n",
       "      <td>0.871383</td>\n",
       "    </tr>\n",
       "    <tr>\n",
       "      <th>13</th>\n",
       "      <td>Finance</td>\n",
       "      <td>Junior</td>\n",
       "      <td>0.769492</td>\n",
       "    </tr>\n",
       "    <tr>\n",
       "      <th>14</th>\n",
       "      <td>Finance</td>\n",
       "      <td>Senior</td>\n",
       "      <td>0.788820</td>\n",
       "    </tr>\n",
       "    <tr>\n",
       "      <th>12</th>\n",
       "      <td>Finance</td>\n",
       "      <td>Sophomore</td>\n",
       "      <td>0.989362</td>\n",
       "    </tr>\n",
       "    <tr>\n",
       "      <th>3</th>\n",
       "      <td>Math</td>\n",
       "      <td>Freshman</td>\n",
       "      <td>1.682353</td>\n",
       "    </tr>\n",
       "    <tr>\n",
       "      <th>1</th>\n",
       "      <td>Math</td>\n",
       "      <td>Junior</td>\n",
       "      <td>2.098039</td>\n",
       "    </tr>\n",
       "    <tr>\n",
       "      <th>2</th>\n",
       "      <td>Math</td>\n",
       "      <td>Senior</td>\n",
       "      <td>2.333333</td>\n",
       "    </tr>\n",
       "    <tr>\n",
       "      <th>0</th>\n",
       "      <td>Math</td>\n",
       "      <td>Sophomore</td>\n",
       "      <td>2.851852</td>\n",
       "    </tr>\n",
       "    <tr>\n",
       "      <th>19</th>\n",
       "      <td>Physics</td>\n",
       "      <td>Freshman</td>\n",
       "      <td>1.567568</td>\n",
       "    </tr>\n",
       "    <tr>\n",
       "      <th>17</th>\n",
       "      <td>Physics</td>\n",
       "      <td>Junior</td>\n",
       "      <td>2.113924</td>\n",
       "    </tr>\n",
       "    <tr>\n",
       "      <th>18</th>\n",
       "      <td>Physics</td>\n",
       "      <td>Senior</td>\n",
       "      <td>2.555556</td>\n",
       "    </tr>\n",
       "    <tr>\n",
       "      <th>16</th>\n",
       "      <td>Physics</td>\n",
       "      <td>Sophomore</td>\n",
       "      <td>2.336207</td>\n",
       "    </tr>\n",
       "  </tbody>\n",
       "</table>\n",
       "</div>"
      ],
      "text/plain": [
       "          major      class  m/f_ratio\n",
       "7     Chemistry   Freshman   0.514403\n",
       "5     Chemistry     Junior   0.530612\n",
       "6     Chemistry     Senior   0.558036\n",
       "4     Chemistry  Sophomore   0.596154\n",
       "23    Economics   Freshman   0.281977\n",
       "21    Economics     Junior   0.298295\n",
       "22    Economics     Senior   0.352113\n",
       "20    Economics  Sophomore   0.320106\n",
       "11  Engineering   Freshman   3.571429\n",
       "9   Engineering     Junior   2.524194\n",
       "10  Engineering     Senior   3.129032\n",
       "8   Engineering  Sophomore   2.785714\n",
       "15      Finance   Freshman   0.871383\n",
       "13      Finance     Junior   0.769492\n",
       "14      Finance     Senior   0.788820\n",
       "12      Finance  Sophomore   0.989362\n",
       "3          Math   Freshman   1.682353\n",
       "1          Math     Junior   2.098039\n",
       "2          Math     Senior   2.333333\n",
       "0          Math  Sophomore   2.851852\n",
       "19      Physics   Freshman   1.567568\n",
       "17      Physics     Junior   2.113924\n",
       "18      Physics     Senior   2.555556\n",
       "16      Physics  Sophomore   2.336207"
      ]
     },
     "execution_count": 42,
     "metadata": {},
     "output_type": "execute_result"
    }
   ],
   "source": [
    "all_ratios_df.sort_values(['major', 'class'])"
   ]
  },
  {
   "cell_type": "markdown",
   "metadata": {},
   "source": [
    "1.4) Which major has the highest average gpa for men and which major has the highest gpa for women?"
   ]
  },
  {
   "cell_type": "code",
   "execution_count": 49,
   "metadata": {
    "collapsed": false
   },
   "outputs": [
    {
     "data": {
      "text/plain": [
       "gender  major      \n",
       "Female  Chemistry      3.395772\n",
       "        Economics      3.495707\n",
       "        Engineering    2.995098\n",
       "        Finance        3.654529\n",
       "        Math           3.268426\n",
       "Name: gpa, dtype: float64"
      ]
     },
     "execution_count": 49,
     "metadata": {},
     "output_type": "execute_result"
    }
   ],
   "source": [
    "gender_major_gpas = student_info.groupby(['gender', 'major'])['gpa'].mean()\n",
    "gender_major_gpas.head()"
   ]
  },
  {
   "cell_type": "code",
   "execution_count": 54,
   "metadata": {
    "collapsed": true
   },
   "outputs": [],
   "source": [
    "def get_max_gpa_major(series):\n",
    "    max_major = series.idxmax()\n",
    "    max_gpa = series[max_major]\n",
    "    return max_major, max_gpa"
   ]
  },
  {
   "cell_type": "code",
   "execution_count": 58,
   "metadata": {
    "collapsed": false
   },
   "outputs": [
    {
     "name": "stdout",
     "output_type": "stream",
     "text": [
      "Male ('Finance', 3.5685354025218197)\n",
      "Female ('Finance', 3.6545289256198346)\n"
     ]
    }
   ],
   "source": [
    "for gender in genders:\n",
    "    print(gender, get_max_gpa_major(gender_major_gpas[gender]))"
   ]
  }
 ],
 "metadata": {
  "anaconda-cloud": {},
  "kernelspec": {
   "display_name": "Python [conda env:py35]",
   "language": "python",
   "name": "conda-env-py35-py"
  },
  "language_info": {
   "codemirror_mode": {
    "name": "ipython",
    "version": 3.0
   },
   "file_extension": ".py",
   "mimetype": "text/x-python",
   "name": "python",
   "nbconvert_exporter": "python",
   "pygments_lexer": "ipython3",
   "version": "3.5.4"
  }
 },
 "nbformat": 4,
 "nbformat_minor": 0
}