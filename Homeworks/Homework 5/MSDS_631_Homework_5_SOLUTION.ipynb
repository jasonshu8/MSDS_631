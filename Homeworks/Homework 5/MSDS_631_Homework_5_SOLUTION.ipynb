{
 "cells": [
  {
   "cell_type": "markdown",
   "metadata": {},
   "source": [
    "# Homework 5\n",
    "### Intro to Numpy and Pandas\n",
    "\n",
    "In this assignment, you will start practice using the two most important scientific libraries in Python. You will be asked to perform a variety of mathematical operations, filtering, and other challenges to gain familiarity with the libraries.\n",
    "\n",
    "Some of the questions will ask you to perform Numpy and Pandas operations that have yet to be covered in class. As I indicated at the end of class, the benefit of these scientific libraries is that you can do a LOT of things with very little code. It does, however, require a LOT of memorization and searching as to how to do things (whereas in base Python you have very few things to memorize but need the creativity to write code that will yield your desired objective). Thus, you will constantly be having to do searches on how to do things. You should use Google or you may search the libraries' documentation here:\n",
    "- Numpy: https://docs.scipy.org/doc/numpy-1.16.1/reference/\n",
    "- Pandas: https://pandas.pydata.org/pandas-docs/stable/user_guide/index.html\n",
    "\n",
    "There are extra problems at the end for students in Section 05. Section 04-only students are not required to do these, but I highly encourage you to do them anyway since it is excellent practice for figuring out how to analyze data."
   ]
  },
  {
   "cell_type": "markdown",
   "metadata": {},
   "source": [
    "#### Part 1 - Read the Docs\n",
    "\n",
    "1.1) Go to the Pandas documentation and read the 10-minute tutorial on Pandas.\n",
    "\n",
    "https://pandas.pydata.org/pandas-docs/stable/getting_started/10min.html"
   ]
  },
  {
   "cell_type": "markdown",
   "metadata": {},
   "source": [
    "1.2) Describe two things from the tutorial that you learned Pandas can do that was not covered in class"
   ]
  },
  {
   "cell_type": "raw",
   "metadata": {},
   "source": []
  },
  {
   "cell_type": "markdown",
   "metadata": {},
   "source": [
    "#### Part 2 - Loading Data\n",
    "\n",
    "2.1) Load the **`students.csv`** using Pandas into a DataFrame and store it as a variable called **`students_df1`**. Display the first 5 rows."
   ]
  },
  {
   "cell_type": "code",
   "execution_count": 2,
   "metadata": {
    "collapsed": false
   },
   "outputs": [],
   "source": [
    "import pandas as pd\n",
    "students_df1 = pd.read_csv('students.csv')"
   ]
  },
  {
   "cell_type": "code",
   "execution_count": 3,
   "metadata": {
    "collapsed": false
   },
   "outputs": [
    {
     "data": {
      "text/html": [
       "<div>\n",
       "<table border=\"1\" class=\"dataframe\">\n",
       "  <thead>\n",
       "    <tr style=\"text-align: right;\">\n",
       "      <th></th>\n",
       "      <th>student_id</th>\n",
       "      <th>first</th>\n",
       "      <th>last</th>\n",
       "      <th>gender</th>\n",
       "      <th>class</th>\n",
       "      <th>major</th>\n",
       "      <th>gpa</th>\n",
       "    </tr>\n",
       "  </thead>\n",
       "  <tbody>\n",
       "    <tr>\n",
       "      <th>0</th>\n",
       "      <td>5a397209-3782-4764-a285-10fae807ee71</td>\n",
       "      <td>Janis</td>\n",
       "      <td>Brown</td>\n",
       "      <td>Female</td>\n",
       "      <td>Junior</td>\n",
       "      <td>Economics</td>\n",
       "      <td>3.12</td>\n",
       "    </tr>\n",
       "    <tr>\n",
       "      <th>1</th>\n",
       "      <td>e26c3d69-3c74-49b6-81d7-47232787fad9</td>\n",
       "      <td>Timothy</td>\n",
       "      <td>Bishop</td>\n",
       "      <td>Male</td>\n",
       "      <td>Sophomore</td>\n",
       "      <td>Economics</td>\n",
       "      <td>3.48</td>\n",
       "    </tr>\n",
       "    <tr>\n",
       "      <th>2</th>\n",
       "      <td>975c1581-5ba2-430c-a3d1-01ce03bd83f9</td>\n",
       "      <td>Elizabeth</td>\n",
       "      <td>Owens</td>\n",
       "      <td>Female</td>\n",
       "      <td>Freshman</td>\n",
       "      <td>Finance</td>\n",
       "      <td>3.40</td>\n",
       "    </tr>\n",
       "    <tr>\n",
       "      <th>3</th>\n",
       "      <td>6081f91d-365c-46ce-ad1b-38af120781d9</td>\n",
       "      <td>Edward</td>\n",
       "      <td>Pearson</td>\n",
       "      <td>Male</td>\n",
       "      <td>Freshman</td>\n",
       "      <td>Math</td>\n",
       "      <td>3.84</td>\n",
       "    </tr>\n",
       "    <tr>\n",
       "      <th>4</th>\n",
       "      <td>84cec8f4-0b64-44ce-a628-c0eb73f6ca6f</td>\n",
       "      <td>Lisa</td>\n",
       "      <td>Gonzalez</td>\n",
       "      <td>Female</td>\n",
       "      <td>Junior</td>\n",
       "      <td>Finance</td>\n",
       "      <td>4.00</td>\n",
       "    </tr>\n",
       "  </tbody>\n",
       "</table>\n",
       "</div>"
      ],
      "text/plain": [
       "                             student_id      first      last  gender  \\\n",
       "0  5a397209-3782-4764-a285-10fae807ee71      Janis     Brown  Female   \n",
       "1  e26c3d69-3c74-49b6-81d7-47232787fad9    Timothy    Bishop    Male   \n",
       "2  975c1581-5ba2-430c-a3d1-01ce03bd83f9  Elizabeth     Owens  Female   \n",
       "3  6081f91d-365c-46ce-ad1b-38af120781d9     Edward   Pearson    Male   \n",
       "4  84cec8f4-0b64-44ce-a628-c0eb73f6ca6f       Lisa  Gonzalez  Female   \n",
       "\n",
       "       class      major   gpa  \n",
       "0     Junior  Economics  3.12  \n",
       "1  Sophomore  Economics  3.48  \n",
       "2   Freshman    Finance  3.40  \n",
       "3   Freshman       Math  3.84  \n",
       "4     Junior    Finance  4.00  "
      ]
     },
     "execution_count": 3,
     "metadata": {},
     "output_type": "execute_result"
    }
   ],
   "source": [
    "students_df1.head()"
   ]
  },
  {
   "cell_type": "markdown",
   "metadata": {},
   "source": [
    "2.2) Using the **`json`** library, load the **`students.json`** file and store it as a variable called **`students_list_of_dicts`**"
   ]
  },
  {
   "cell_type": "code",
   "execution_count": 4,
   "metadata": {
    "collapsed": false
   },
   "outputs": [
    {
     "data": {
      "text/plain": [
       "[{u'class': u'Junior',\n",
       "  u'first': u'Janis',\n",
       "  u'gender': u'Female',\n",
       "  u'gpa': 3.12,\n",
       "  u'last': u'Brown',\n",
       "  u'major': u'Economics',\n",
       "  u'student_id': u'5a397209-3782-4764-a285-10fae807ee71'},\n",
       " {u'class': u'Sophomore',\n",
       "  u'first': u'Timothy',\n",
       "  u'gender': u'Male',\n",
       "  u'gpa': 3.48,\n",
       "  u'last': u'Bishop',\n",
       "  u'major': u'Economics',\n",
       "  u'student_id': u'e26c3d69-3c74-49b6-81d7-47232787fad9'},\n",
       " {u'class': u'Freshman',\n",
       "  u'first': u'Elizabeth',\n",
       "  u'gender': u'Female',\n",
       "  u'gpa': 3.4,\n",
       "  u'last': u'Owens',\n",
       "  u'major': u'Finance',\n",
       "  u'student_id': u'975c1581-5ba2-430c-a3d1-01ce03bd83f9'},\n",
       " {u'class': u'Freshman',\n",
       "  u'first': u'Edward',\n",
       "  u'gender': u'Male',\n",
       "  u'gpa': 3.84,\n",
       "  u'last': u'Pearson',\n",
       "  u'major': u'Math',\n",
       "  u'student_id': u'6081f91d-365c-46ce-ad1b-38af120781d9'},\n",
       " {u'class': u'Junior',\n",
       "  u'first': u'Lisa',\n",
       "  u'gender': u'Female',\n",
       "  u'gpa': 4.0,\n",
       "  u'last': u'Gonzalez',\n",
       "  u'major': u'Finance',\n",
       "  u'student_id': u'84cec8f4-0b64-44ce-a628-c0eb73f6ca6f'}]"
      ]
     },
     "execution_count": 4,
     "metadata": {},
     "output_type": "execute_result"
    }
   ],
   "source": [
    "import json\n",
    "students_list_of_dicts = json.load(open('students.json', 'r'))\n",
    "students_list_of_dicts[:5]"
   ]
  },
  {
   "cell_type": "markdown",
   "metadata": {},
   "source": [
    "2.3) The **`students_list_of_dicts`** variable is a list of dictionaries where each dictionary contains a student's information. From this data, create a list of lists where each interior list contains a student's information in the following order:\n",
    "1. Student ID\n",
    "2. First Name\n",
    "3. Last Name\n",
    "4. Gender\n",
    "5. Major\n",
    "6. Class\n",
    "7. GPA\n",
    "\n",
    "Assign your list of lists to a variable called **`students_list_of_lists`**"
   ]
  },
  {
   "cell_type": "code",
   "execution_count": 9,
   "metadata": {
    "collapsed": true
   },
   "outputs": [],
   "source": [
    "def convert_dict_to_list(student_dict):\n",
    "    student_list = []\n",
    "    key_order = ['student_id', 'first', 'last', 'gender', 'major', 'class', 'gpa']\n",
    "    for key in key_order:\n",
    "        student_list.append(student_dict[key])\n",
    "    return student_list"
   ]
  },
  {
   "cell_type": "code",
   "execution_count": 10,
   "metadata": {
    "collapsed": false
   },
   "outputs": [],
   "source": [
    "students_list_of_lists = []\n",
    "for student in students_list_of_dicts:\n",
    "    student_list = convert_dict_to_list(student)\n",
    "    students_list_of_lists.append(student_list)"
   ]
  },
  {
   "cell_type": "markdown",
   "metadata": {},
   "source": [
    "You can convert your list of lists into a DataFrame by passing it into a DataFrame Object. Run the code in the cell below."
   ]
  },
  {
   "cell_type": "code",
   "execution_count": 11,
   "metadata": {
    "collapsed": true
   },
   "outputs": [],
   "source": [
    "students_df2 = pd.DataFrame(students_list_of_lists)"
   ]
  },
  {
   "cell_type": "markdown",
   "metadata": {},
   "source": [
    "Now look at the first five rows of this new DataFrame"
   ]
  },
  {
   "cell_type": "code",
   "execution_count": 12,
   "metadata": {
    "collapsed": false
   },
   "outputs": [
    {
     "data": {
      "text/html": [
       "<div>\n",
       "<table border=\"1\" class=\"dataframe\">\n",
       "  <thead>\n",
       "    <tr style=\"text-align: right;\">\n",
       "      <th></th>\n",
       "      <th>0</th>\n",
       "      <th>1</th>\n",
       "      <th>2</th>\n",
       "      <th>3</th>\n",
       "      <th>4</th>\n",
       "      <th>5</th>\n",
       "      <th>6</th>\n",
       "    </tr>\n",
       "  </thead>\n",
       "  <tbody>\n",
       "    <tr>\n",
       "      <th>0</th>\n",
       "      <td>5a397209-3782-4764-a285-10fae807ee71</td>\n",
       "      <td>Janis</td>\n",
       "      <td>Brown</td>\n",
       "      <td>Female</td>\n",
       "      <td>Economics</td>\n",
       "      <td>Junior</td>\n",
       "      <td>3.12</td>\n",
       "    </tr>\n",
       "    <tr>\n",
       "      <th>1</th>\n",
       "      <td>e26c3d69-3c74-49b6-81d7-47232787fad9</td>\n",
       "      <td>Timothy</td>\n",
       "      <td>Bishop</td>\n",
       "      <td>Male</td>\n",
       "      <td>Economics</td>\n",
       "      <td>Sophomore</td>\n",
       "      <td>3.48</td>\n",
       "    </tr>\n",
       "    <tr>\n",
       "      <th>2</th>\n",
       "      <td>975c1581-5ba2-430c-a3d1-01ce03bd83f9</td>\n",
       "      <td>Elizabeth</td>\n",
       "      <td>Owens</td>\n",
       "      <td>Female</td>\n",
       "      <td>Finance</td>\n",
       "      <td>Freshman</td>\n",
       "      <td>3.40</td>\n",
       "    </tr>\n",
       "    <tr>\n",
       "      <th>3</th>\n",
       "      <td>6081f91d-365c-46ce-ad1b-38af120781d9</td>\n",
       "      <td>Edward</td>\n",
       "      <td>Pearson</td>\n",
       "      <td>Male</td>\n",
       "      <td>Math</td>\n",
       "      <td>Freshman</td>\n",
       "      <td>3.84</td>\n",
       "    </tr>\n",
       "    <tr>\n",
       "      <th>4</th>\n",
       "      <td>84cec8f4-0b64-44ce-a628-c0eb73f6ca6f</td>\n",
       "      <td>Lisa</td>\n",
       "      <td>Gonzalez</td>\n",
       "      <td>Female</td>\n",
       "      <td>Finance</td>\n",
       "      <td>Junior</td>\n",
       "      <td>4.00</td>\n",
       "    </tr>\n",
       "  </tbody>\n",
       "</table>\n",
       "</div>"
      ],
      "text/plain": [
       "                                      0          1         2       3  \\\n",
       "0  5a397209-3782-4764-a285-10fae807ee71      Janis     Brown  Female   \n",
       "1  e26c3d69-3c74-49b6-81d7-47232787fad9    Timothy    Bishop    Male   \n",
       "2  975c1581-5ba2-430c-a3d1-01ce03bd83f9  Elizabeth     Owens  Female   \n",
       "3  6081f91d-365c-46ce-ad1b-38af120781d9     Edward   Pearson    Male   \n",
       "4  84cec8f4-0b64-44ce-a628-c0eb73f6ca6f       Lisa  Gonzalez  Female   \n",
       "\n",
       "           4          5     6  \n",
       "0  Economics     Junior  3.12  \n",
       "1  Economics  Sophomore  3.48  \n",
       "2    Finance   Freshman  3.40  \n",
       "3       Math   Freshman  3.84  \n",
       "4    Finance     Junior  4.00  "
      ]
     },
     "execution_count": 12,
     "metadata": {},
     "output_type": "execute_result"
    }
   ],
   "source": [
    "students_df2.head()"
   ]
  },
  {
   "cell_type": "markdown",
   "metadata": {},
   "source": [
    "2.4) The data in your new DataFrame looks like the data in your first DataFrame, but now it has no headers. Please give your new DataFrame column names that match your first DataFrame **(this was not covered in class)**."
   ]
  },
  {
   "cell_type": "code",
   "execution_count": 13,
   "metadata": {
    "collapsed": true
   },
   "outputs": [],
   "source": [
    "cols = ['student_id', 'first', 'last', 'gender', 'major', 'class', 'gpa']\n",
    "students_df2.columns = cols"
   ]
  },
  {
   "cell_type": "markdown",
   "metadata": {},
   "source": [
    "2.5) Create a dictionary and assigne it to the variable **`students_dict_of_lists`**. The dictionary should have the following keys:\n",
    "- \"student_id\"\n",
    "- \"first\"\n",
    "- \"last\"\n",
    "- \"gender\"\n",
    "- \"major\"\n",
    "- \"class\"\n",
    "- \"gpa\"\n",
    "\n",
    "The value of each of these keys should be an empty list.\n",
    "\n",
    "Now iterate though **`students_list_of_dicts`** and extract the relevent information from each student's info and add it into the appropriate list within **`students_dict_of_lists`**. Each respective index within the various lists should contain information for the same student (i.e. index 0 for student_id, first, last, etc should be for the first student, index 1 should be the second student, and so on and so forth)."
   ]
  },
  {
   "cell_type": "code",
   "execution_count": 14,
   "metadata": {
    "collapsed": true
   },
   "outputs": [],
   "source": [
    "students_dict_of_lists = {}\n",
    "fields = list(students_list_of_dicts[0].keys())"
   ]
  },
  {
   "cell_type": "code",
   "execution_count": 15,
   "metadata": {
    "collapsed": false
   },
   "outputs": [],
   "source": [
    "for student in students_list_of_dicts:\n",
    "    for field in fields:\n",
    "        if field in students_dict_of_lists:\n",
    "            students_dict_of_lists[field].append(student[field])\n",
    "        else:\n",
    "            students_dict_of_lists[field] = [student[field]]"
   ]
  },
  {
   "cell_type": "markdown",
   "metadata": {},
   "source": [
    "You can convert your dictionary of lists into a DataFrame by passing the DataFrame Object a dictionary of lists. Run the code in the cell below."
   ]
  },
  {
   "cell_type": "code",
   "execution_count": 16,
   "metadata": {
    "collapsed": true
   },
   "outputs": [],
   "source": [
    "students_df3 = pd.DataFrame(students_dict_of_lists)"
   ]
  },
  {
   "cell_type": "markdown",
   "metadata": {},
   "source": [
    "2.6) Now look at the first five rows of this new DataFrame."
   ]
  },
  {
   "cell_type": "code",
   "execution_count": 17,
   "metadata": {
    "collapsed": false
   },
   "outputs": [
    {
     "data": {
      "text/html": [
       "<div>\n",
       "<table border=\"1\" class=\"dataframe\">\n",
       "  <thead>\n",
       "    <tr style=\"text-align: right;\">\n",
       "      <th></th>\n",
       "      <th>class</th>\n",
       "      <th>first</th>\n",
       "      <th>gender</th>\n",
       "      <th>gpa</th>\n",
       "      <th>last</th>\n",
       "      <th>major</th>\n",
       "      <th>student_id</th>\n",
       "    </tr>\n",
       "  </thead>\n",
       "  <tbody>\n",
       "    <tr>\n",
       "      <th>0</th>\n",
       "      <td>Junior</td>\n",
       "      <td>Janis</td>\n",
       "      <td>Female</td>\n",
       "      <td>3.12</td>\n",
       "      <td>Brown</td>\n",
       "      <td>Economics</td>\n",
       "      <td>5a397209-3782-4764-a285-10fae807ee71</td>\n",
       "    </tr>\n",
       "    <tr>\n",
       "      <th>1</th>\n",
       "      <td>Sophomore</td>\n",
       "      <td>Timothy</td>\n",
       "      <td>Male</td>\n",
       "      <td>3.48</td>\n",
       "      <td>Bishop</td>\n",
       "      <td>Economics</td>\n",
       "      <td>e26c3d69-3c74-49b6-81d7-47232787fad9</td>\n",
       "    </tr>\n",
       "    <tr>\n",
       "      <th>2</th>\n",
       "      <td>Freshman</td>\n",
       "      <td>Elizabeth</td>\n",
       "      <td>Female</td>\n",
       "      <td>3.40</td>\n",
       "      <td>Owens</td>\n",
       "      <td>Finance</td>\n",
       "      <td>975c1581-5ba2-430c-a3d1-01ce03bd83f9</td>\n",
       "    </tr>\n",
       "    <tr>\n",
       "      <th>3</th>\n",
       "      <td>Freshman</td>\n",
       "      <td>Edward</td>\n",
       "      <td>Male</td>\n",
       "      <td>3.84</td>\n",
       "      <td>Pearson</td>\n",
       "      <td>Math</td>\n",
       "      <td>6081f91d-365c-46ce-ad1b-38af120781d9</td>\n",
       "    </tr>\n",
       "    <tr>\n",
       "      <th>4</th>\n",
       "      <td>Junior</td>\n",
       "      <td>Lisa</td>\n",
       "      <td>Female</td>\n",
       "      <td>4.00</td>\n",
       "      <td>Gonzalez</td>\n",
       "      <td>Finance</td>\n",
       "      <td>84cec8f4-0b64-44ce-a628-c0eb73f6ca6f</td>\n",
       "    </tr>\n",
       "  </tbody>\n",
       "</table>\n",
       "</div>"
      ],
      "text/plain": [
       "       class      first  gender   gpa      last      major  \\\n",
       "0     Junior      Janis  Female  3.12     Brown  Economics   \n",
       "1  Sophomore    Timothy    Male  3.48    Bishop  Economics   \n",
       "2   Freshman  Elizabeth  Female  3.40     Owens    Finance   \n",
       "3   Freshman     Edward    Male  3.84   Pearson       Math   \n",
       "4     Junior       Lisa  Female  4.00  Gonzalez    Finance   \n",
       "\n",
       "                             student_id  \n",
       "0  5a397209-3782-4764-a285-10fae807ee71  \n",
       "1  e26c3d69-3c74-49b6-81d7-47232787fad9  \n",
       "2  975c1581-5ba2-430c-a3d1-01ce03bd83f9  \n",
       "3  6081f91d-365c-46ce-ad1b-38af120781d9  \n",
       "4  84cec8f4-0b64-44ce-a628-c0eb73f6ca6f  "
      ]
     },
     "execution_count": 17,
     "metadata": {},
     "output_type": "execute_result"
    }
   ],
   "source": [
    "students_df3.head()"
   ]
  },
  {
   "cell_type": "markdown",
   "metadata": {},
   "source": [
    "Note how the column headers are already assigned using the keys from the dictionary! However, the order is quite random. Let's reorder the columns and store it back into students_df3 by running the code in the cell below."
   ]
  },
  {
   "cell_type": "code",
   "execution_count": 18,
   "metadata": {
    "collapsed": true
   },
   "outputs": [],
   "source": [
    "column_order = ['student_id', 'first', 'last', 'gender', 'class', 'major', 'gpa']\n",
    "students_df3 = students_df3[column_order]"
   ]
  },
  {
   "cell_type": "code",
   "execution_count": 19,
   "metadata": {
    "collapsed": false
   },
   "outputs": [
    {
     "data": {
      "text/html": [
       "<div>\n",
       "<table border=\"1\" class=\"dataframe\">\n",
       "  <thead>\n",
       "    <tr style=\"text-align: right;\">\n",
       "      <th></th>\n",
       "      <th>student_id</th>\n",
       "      <th>first</th>\n",
       "      <th>last</th>\n",
       "      <th>gender</th>\n",
       "      <th>class</th>\n",
       "      <th>major</th>\n",
       "      <th>gpa</th>\n",
       "    </tr>\n",
       "  </thead>\n",
       "  <tbody>\n",
       "    <tr>\n",
       "      <th>0</th>\n",
       "      <td>5a397209-3782-4764-a285-10fae807ee71</td>\n",
       "      <td>Janis</td>\n",
       "      <td>Brown</td>\n",
       "      <td>Female</td>\n",
       "      <td>Junior</td>\n",
       "      <td>Economics</td>\n",
       "      <td>3.12</td>\n",
       "    </tr>\n",
       "    <tr>\n",
       "      <th>1</th>\n",
       "      <td>e26c3d69-3c74-49b6-81d7-47232787fad9</td>\n",
       "      <td>Timothy</td>\n",
       "      <td>Bishop</td>\n",
       "      <td>Male</td>\n",
       "      <td>Sophomore</td>\n",
       "      <td>Economics</td>\n",
       "      <td>3.48</td>\n",
       "    </tr>\n",
       "    <tr>\n",
       "      <th>2</th>\n",
       "      <td>975c1581-5ba2-430c-a3d1-01ce03bd83f9</td>\n",
       "      <td>Elizabeth</td>\n",
       "      <td>Owens</td>\n",
       "      <td>Female</td>\n",
       "      <td>Freshman</td>\n",
       "      <td>Finance</td>\n",
       "      <td>3.40</td>\n",
       "    </tr>\n",
       "    <tr>\n",
       "      <th>3</th>\n",
       "      <td>6081f91d-365c-46ce-ad1b-38af120781d9</td>\n",
       "      <td>Edward</td>\n",
       "      <td>Pearson</td>\n",
       "      <td>Male</td>\n",
       "      <td>Freshman</td>\n",
       "      <td>Math</td>\n",
       "      <td>3.84</td>\n",
       "    </tr>\n",
       "    <tr>\n",
       "      <th>4</th>\n",
       "      <td>84cec8f4-0b64-44ce-a628-c0eb73f6ca6f</td>\n",
       "      <td>Lisa</td>\n",
       "      <td>Gonzalez</td>\n",
       "      <td>Female</td>\n",
       "      <td>Junior</td>\n",
       "      <td>Finance</td>\n",
       "      <td>4.00</td>\n",
       "    </tr>\n",
       "  </tbody>\n",
       "</table>\n",
       "</div>"
      ],
      "text/plain": [
       "                             student_id      first      last  gender  \\\n",
       "0  5a397209-3782-4764-a285-10fae807ee71      Janis     Brown  Female   \n",
       "1  e26c3d69-3c74-49b6-81d7-47232787fad9    Timothy    Bishop    Male   \n",
       "2  975c1581-5ba2-430c-a3d1-01ce03bd83f9  Elizabeth     Owens  Female   \n",
       "3  6081f91d-365c-46ce-ad1b-38af120781d9     Edward   Pearson    Male   \n",
       "4  84cec8f4-0b64-44ce-a628-c0eb73f6ca6f       Lisa  Gonzalez  Female   \n",
       "\n",
       "       class      major   gpa  \n",
       "0     Junior  Economics  3.12  \n",
       "1  Sophomore  Economics  3.48  \n",
       "2   Freshman    Finance  3.40  \n",
       "3   Freshman       Math  3.84  \n",
       "4     Junior    Finance  4.00  "
      ]
     },
     "execution_count": 19,
     "metadata": {},
     "output_type": "execute_result"
    }
   ],
   "source": [
    "students_df3.head()"
   ]
  },
  {
   "cell_type": "markdown",
   "metadata": {},
   "source": [
    "2.7) Now pass your original list of dictionaries (**`students_list_of_dicts`**) into a DataFrame Object and assign it to a variable **`students_df4`**. Take a look at the first five rows."
   ]
  },
  {
   "cell_type": "code",
   "execution_count": 20,
   "metadata": {
    "collapsed": true
   },
   "outputs": [],
   "source": [
    "students_df4 = pd.DataFrame(students_list_of_dicts)"
   ]
  },
  {
   "cell_type": "code",
   "execution_count": 21,
   "metadata": {
    "collapsed": false
   },
   "outputs": [
    {
     "data": {
      "text/html": [
       "<div>\n",
       "<table border=\"1\" class=\"dataframe\">\n",
       "  <thead>\n",
       "    <tr style=\"text-align: right;\">\n",
       "      <th></th>\n",
       "      <th>class</th>\n",
       "      <th>first</th>\n",
       "      <th>gender</th>\n",
       "      <th>gpa</th>\n",
       "      <th>last</th>\n",
       "      <th>major</th>\n",
       "      <th>student_id</th>\n",
       "    </tr>\n",
       "  </thead>\n",
       "  <tbody>\n",
       "    <tr>\n",
       "      <th>0</th>\n",
       "      <td>Junior</td>\n",
       "      <td>Janis</td>\n",
       "      <td>Female</td>\n",
       "      <td>3.12</td>\n",
       "      <td>Brown</td>\n",
       "      <td>Economics</td>\n",
       "      <td>5a397209-3782-4764-a285-10fae807ee71</td>\n",
       "    </tr>\n",
       "    <tr>\n",
       "      <th>1</th>\n",
       "      <td>Sophomore</td>\n",
       "      <td>Timothy</td>\n",
       "      <td>Male</td>\n",
       "      <td>3.48</td>\n",
       "      <td>Bishop</td>\n",
       "      <td>Economics</td>\n",
       "      <td>e26c3d69-3c74-49b6-81d7-47232787fad9</td>\n",
       "    </tr>\n",
       "    <tr>\n",
       "      <th>2</th>\n",
       "      <td>Freshman</td>\n",
       "      <td>Elizabeth</td>\n",
       "      <td>Female</td>\n",
       "      <td>3.40</td>\n",
       "      <td>Owens</td>\n",
       "      <td>Finance</td>\n",
       "      <td>975c1581-5ba2-430c-a3d1-01ce03bd83f9</td>\n",
       "    </tr>\n",
       "    <tr>\n",
       "      <th>3</th>\n",
       "      <td>Freshman</td>\n",
       "      <td>Edward</td>\n",
       "      <td>Male</td>\n",
       "      <td>3.84</td>\n",
       "      <td>Pearson</td>\n",
       "      <td>Math</td>\n",
       "      <td>6081f91d-365c-46ce-ad1b-38af120781d9</td>\n",
       "    </tr>\n",
       "    <tr>\n",
       "      <th>4</th>\n",
       "      <td>Junior</td>\n",
       "      <td>Lisa</td>\n",
       "      <td>Female</td>\n",
       "      <td>4.00</td>\n",
       "      <td>Gonzalez</td>\n",
       "      <td>Finance</td>\n",
       "      <td>84cec8f4-0b64-44ce-a628-c0eb73f6ca6f</td>\n",
       "    </tr>\n",
       "  </tbody>\n",
       "</table>\n",
       "</div>"
      ],
      "text/plain": [
       "       class      first  gender   gpa      last      major  \\\n",
       "0     Junior      Janis  Female  3.12     Brown  Economics   \n",
       "1  Sophomore    Timothy    Male  3.48    Bishop  Economics   \n",
       "2   Freshman  Elizabeth  Female  3.40     Owens    Finance   \n",
       "3   Freshman     Edward    Male  3.84   Pearson       Math   \n",
       "4     Junior       Lisa  Female  4.00  Gonzalez    Finance   \n",
       "\n",
       "                             student_id  \n",
       "0  5a397209-3782-4764-a285-10fae807ee71  \n",
       "1  e26c3d69-3c74-49b6-81d7-47232787fad9  \n",
       "2  975c1581-5ba2-430c-a3d1-01ce03bd83f9  \n",
       "3  6081f91d-365c-46ce-ad1b-38af120781d9  \n",
       "4  84cec8f4-0b64-44ce-a628-c0eb73f6ca6f  "
      ]
     },
     "execution_count": 21,
     "metadata": {},
     "output_type": "execute_result"
    }
   ],
   "source": [
    "students_df4.head()"
   ]
  },
  {
   "cell_type": "code",
   "execution_count": 23,
   "metadata": {
    "collapsed": false
   },
   "outputs": [
    {
     "data": {
      "text/html": [
       "<div>\n",
       "<table border=\"1\" class=\"dataframe\">\n",
       "  <thead>\n",
       "    <tr style=\"text-align: right;\">\n",
       "      <th></th>\n",
       "      <th>student_id</th>\n",
       "      <th>first</th>\n",
       "      <th>last</th>\n",
       "      <th>gender</th>\n",
       "      <th>class</th>\n",
       "      <th>major</th>\n",
       "      <th>gpa</th>\n",
       "    </tr>\n",
       "  </thead>\n",
       "  <tbody>\n",
       "    <tr>\n",
       "      <th>0</th>\n",
       "      <td>5a397209-3782-4764-a285-10fae807ee71</td>\n",
       "      <td>Janis</td>\n",
       "      <td>Brown</td>\n",
       "      <td>Female</td>\n",
       "      <td>Junior</td>\n",
       "      <td>Economics</td>\n",
       "      <td>3.12</td>\n",
       "    </tr>\n",
       "    <tr>\n",
       "      <th>1</th>\n",
       "      <td>e26c3d69-3c74-49b6-81d7-47232787fad9</td>\n",
       "      <td>Timothy</td>\n",
       "      <td>Bishop</td>\n",
       "      <td>Male</td>\n",
       "      <td>Sophomore</td>\n",
       "      <td>Economics</td>\n",
       "      <td>3.48</td>\n",
       "    </tr>\n",
       "    <tr>\n",
       "      <th>2</th>\n",
       "      <td>975c1581-5ba2-430c-a3d1-01ce03bd83f9</td>\n",
       "      <td>Elizabeth</td>\n",
       "      <td>Owens</td>\n",
       "      <td>Female</td>\n",
       "      <td>Freshman</td>\n",
       "      <td>Finance</td>\n",
       "      <td>3.40</td>\n",
       "    </tr>\n",
       "    <tr>\n",
       "      <th>3</th>\n",
       "      <td>6081f91d-365c-46ce-ad1b-38af120781d9</td>\n",
       "      <td>Edward</td>\n",
       "      <td>Pearson</td>\n",
       "      <td>Male</td>\n",
       "      <td>Freshman</td>\n",
       "      <td>Math</td>\n",
       "      <td>3.84</td>\n",
       "    </tr>\n",
       "    <tr>\n",
       "      <th>4</th>\n",
       "      <td>84cec8f4-0b64-44ce-a628-c0eb73f6ca6f</td>\n",
       "      <td>Lisa</td>\n",
       "      <td>Gonzalez</td>\n",
       "      <td>Female</td>\n",
       "      <td>Junior</td>\n",
       "      <td>Finance</td>\n",
       "      <td>4.00</td>\n",
       "    </tr>\n",
       "  </tbody>\n",
       "</table>\n",
       "</div>"
      ],
      "text/plain": [
       "                             student_id      first      last  gender  \\\n",
       "0  5a397209-3782-4764-a285-10fae807ee71      Janis     Brown  Female   \n",
       "1  e26c3d69-3c74-49b6-81d7-47232787fad9    Timothy    Bishop    Male   \n",
       "2  975c1581-5ba2-430c-a3d1-01ce03bd83f9  Elizabeth     Owens  Female   \n",
       "3  6081f91d-365c-46ce-ad1b-38af120781d9     Edward   Pearson    Male   \n",
       "4  84cec8f4-0b64-44ce-a628-c0eb73f6ca6f       Lisa  Gonzalez  Female   \n",
       "\n",
       "       class      major   gpa  \n",
       "0     Junior  Economics  3.12  \n",
       "1  Sophomore  Economics  3.48  \n",
       "2   Freshman    Finance  3.40  \n",
       "3   Freshman       Math  3.84  \n",
       "4     Junior    Finance  4.00  "
      ]
     },
     "execution_count": 23,
     "metadata": {},
     "output_type": "execute_result"
    }
   ],
   "source": [
    "students_df4 = students_df4[column_order] #Reorder the columns\n",
    "students_df4.head()"
   ]
  },
  {
   "cell_type": "markdown",
   "metadata": {},
   "source": [
    "2.8) Describe the four ways that you just created a DataFrame with the same information."
   ]
  },
  {
   "cell_type": "raw",
   "metadata": {},
   "source": [
    "1) Loaded a csv file directly into a DataFrame\n",
    "2) Converted a list of lists into a DataFrame, then gave the DataFrame some column names\n",
    "3) Converted a dictionary of lists into a DataFrame, then reordered the columns (since the keys are unordered)\n",
    "4) Converted a list of dictionaries int a DataFrame, then reordered the columns (since the keys are unordered)"
   ]
  },
  {
   "cell_type": "markdown",
   "metadata": {},
   "source": [
    "#### Part 3 - Numpy Arrays\n",
    "\n",
    "3.1) Take the list of GPAs from **`students_dict_of_lists`** and create a numpy array with it (stored in a new variable, not in **`students_dict_of_lists`**)"
   ]
  },
  {
   "cell_type": "code",
   "execution_count": 24,
   "metadata": {
    "collapsed": false
   },
   "outputs": [],
   "source": [
    "import numpy as np\n",
    "gpas = np.array(students_dict_of_lists['gpa'])"
   ]
  },
  {
   "cell_type": "markdown",
   "metadata": {},
   "source": [
    "3.2) With your array, compute the min, max, mean, and median GPAs."
   ]
  },
  {
   "cell_type": "code",
   "execution_count": 25,
   "metadata": {
    "collapsed": false
   },
   "outputs": [
    {
     "data": {
      "text/plain": [
       "3.3799999999999999"
      ]
     },
     "execution_count": 25,
     "metadata": {},
     "output_type": "execute_result"
    }
   ],
   "source": [
    "gpas.min()\n",
    "gpas.max()\n",
    "gpas.mean()\n",
    "np.median(gpas)"
   ]
  },
  {
   "cell_type": "markdown",
   "metadata": {},
   "source": [
    "3.3) With your array, compute the number of students who have GPAs below a 3.0."
   ]
  },
  {
   "cell_type": "code",
   "execution_count": 26,
   "metadata": {
    "collapsed": false
   },
   "outputs": [
    {
     "data": {
      "text/plain": [
       "1595"
      ]
     },
     "execution_count": 26,
     "metadata": {},
     "output_type": "execute_result"
    }
   ],
   "source": [
    "(gpas < 3).sum()"
   ]
  },
  {
   "cell_type": "markdown",
   "metadata": {},
   "source": [
    "3.4) With your array, compute the percentage of students who have GPAs below a 3.0."
   ]
  },
  {
   "cell_type": "code",
   "execution_count": 27,
   "metadata": {
    "collapsed": false
   },
   "outputs": [
    {
     "data": {
      "text/plain": [
       "0.1595"
      ]
     },
     "execution_count": 27,
     "metadata": {},
     "output_type": "execute_result"
    }
   ],
   "source": [
    "(gpas < 3).mean()"
   ]
  },
  {
   "cell_type": "markdown",
   "metadata": {},
   "source": [
    "3.5) Create another array and use it with your previous array to compute the average GPA amongst Physics students"
   ]
  },
  {
   "cell_type": "code",
   "execution_count": 28,
   "metadata": {
    "collapsed": false
   },
   "outputs": [
    {
     "data": {
      "text/plain": [
       "3.2956633663366337"
      ]
     },
     "execution_count": 28,
     "metadata": {},
     "output_type": "execute_result"
    }
   ],
   "source": [
    "majors = np.array(students_dict_of_lists['major'])\n",
    "physics_filter = majors == 'Physics'\n",
    "physics_gpas = gpas[physics_filter]\n",
    "physics_gpas.mean()"
   ]
  },
  {
   "cell_type": "markdown",
   "metadata": {},
   "source": [
    "3.6) Compute the percentage of Engineering students that have GPAs below a 3.0 without using any division."
   ]
  },
  {
   "cell_type": "code",
   "execution_count": 29,
   "metadata": {
    "collapsed": false
   },
   "outputs": [
    {
     "data": {
      "text/plain": [
       "0.35939036381514256"
      ]
     },
     "execution_count": 29,
     "metadata": {},
     "output_type": "execute_result"
    }
   ],
   "source": [
    "eng_filter = majors == 'Engineering'\n",
    "eng_gpas = gpas[eng_filter]\n",
    "eng_probation = eng_gpas < 3\n",
    "eng_probation.mean()"
   ]
  },
  {
   "cell_type": "markdown",
   "metadata": {},
   "source": [
    "3.7) Create another array from **`students_dict_of_lists`** containing the students genders. Use it with your other arrays to compute the percentage of Male Engineering students that have GPAs below a 3.0. Do it without explicitly using any division."
   ]
  },
  {
   "cell_type": "code",
   "execution_count": 30,
   "metadata": {
    "collapsed": false
   },
   "outputs": [
    {
     "data": {
      "text/plain": [
       "0.31758530183727035"
      ]
     },
     "execution_count": 30,
     "metadata": {},
     "output_type": "execute_result"
    }
   ],
   "source": [
    "genders = np.array(students_dict_of_lists['gender'])\n",
    "male_filt = genders == 'Male'\n",
    "male_eng_filt = male_filt & eng_filter\n",
    "male_eng_gpas = gpas[male_eng_filt]\n",
    "male_eng_filt\n",
    "male_eng_probation = male_eng_gpas < 3\n",
    "male_eng_probation.mean()"
   ]
  },
  {
   "cell_type": "markdown",
   "metadata": {},
   "source": [
    "#### Part 4 - Pandas Filtering\n",
    "\n",
    "For the problems in Part 3, please use **`students_df1`** as the source of your data."
   ]
  },
  {
   "cell_type": "markdown",
   "metadata": {},
   "source": [
    "4.1) Create a variable that is a filter for all students that are majoring in Economics."
   ]
  },
  {
   "cell_type": "code",
   "execution_count": 31,
   "metadata": {
    "collapsed": true
   },
   "outputs": [],
   "source": [
    "econ_filt = students_df1['major'] == 'Economics'"
   ]
  },
  {
   "cell_type": "markdown",
   "metadata": {},
   "source": [
    "4.2) Create a DataFrame of information of Economics students by using your filter from 3.1."
   ]
  },
  {
   "cell_type": "code",
   "execution_count": 32,
   "metadata": {
    "collapsed": false
   },
   "outputs": [
    {
     "data": {
      "text/html": [
       "<div>\n",
       "<table border=\"1\" class=\"dataframe\">\n",
       "  <thead>\n",
       "    <tr style=\"text-align: right;\">\n",
       "      <th></th>\n",
       "      <th>student_id</th>\n",
       "      <th>first</th>\n",
       "      <th>last</th>\n",
       "      <th>gender</th>\n",
       "      <th>class</th>\n",
       "      <th>major</th>\n",
       "      <th>gpa</th>\n",
       "    </tr>\n",
       "  </thead>\n",
       "  <tbody>\n",
       "    <tr>\n",
       "      <th>0</th>\n",
       "      <td>5a397209-3782-4764-a285-10fae807ee71</td>\n",
       "      <td>Janis</td>\n",
       "      <td>Brown</td>\n",
       "      <td>Female</td>\n",
       "      <td>Junior</td>\n",
       "      <td>Economics</td>\n",
       "      <td>3.12</td>\n",
       "    </tr>\n",
       "    <tr>\n",
       "      <th>1</th>\n",
       "      <td>e26c3d69-3c74-49b6-81d7-47232787fad9</td>\n",
       "      <td>Timothy</td>\n",
       "      <td>Bishop</td>\n",
       "      <td>Male</td>\n",
       "      <td>Sophomore</td>\n",
       "      <td>Economics</td>\n",
       "      <td>3.48</td>\n",
       "    </tr>\n",
       "    <tr>\n",
       "      <th>12</th>\n",
       "      <td>1846c044-9a87-49e4-ad4f-d1bfadb4e41b</td>\n",
       "      <td>Lisa</td>\n",
       "      <td>Walden</td>\n",
       "      <td>Female</td>\n",
       "      <td>Senior</td>\n",
       "      <td>Economics</td>\n",
       "      <td>3.40</td>\n",
       "    </tr>\n",
       "    <tr>\n",
       "      <th>15</th>\n",
       "      <td>35de9214-505e-4d55-80e6-0302098a44b6</td>\n",
       "      <td>Joan</td>\n",
       "      <td>Decoteau</td>\n",
       "      <td>Female</td>\n",
       "      <td>Senior</td>\n",
       "      <td>Economics</td>\n",
       "      <td>3.81</td>\n",
       "    </tr>\n",
       "    <tr>\n",
       "      <th>35</th>\n",
       "      <td>906aede7-c027-486b-8237-5b4f6cec14bd</td>\n",
       "      <td>Scott</td>\n",
       "      <td>Avenoso</td>\n",
       "      <td>Male</td>\n",
       "      <td>Senior</td>\n",
       "      <td>Economics</td>\n",
       "      <td>3.80</td>\n",
       "    </tr>\n",
       "  </tbody>\n",
       "</table>\n",
       "</div>"
      ],
      "text/plain": [
       "                              student_id    first      last  gender  \\\n",
       "0   5a397209-3782-4764-a285-10fae807ee71    Janis     Brown  Female   \n",
       "1   e26c3d69-3c74-49b6-81d7-47232787fad9  Timothy    Bishop    Male   \n",
       "12  1846c044-9a87-49e4-ad4f-d1bfadb4e41b     Lisa    Walden  Female   \n",
       "15  35de9214-505e-4d55-80e6-0302098a44b6     Joan  Decoteau  Female   \n",
       "35  906aede7-c027-486b-8237-5b4f6cec14bd    Scott   Avenoso    Male   \n",
       "\n",
       "        class      major   gpa  \n",
       "0      Junior  Economics  3.12  \n",
       "1   Sophomore  Economics  3.48  \n",
       "12     Senior  Economics  3.40  \n",
       "15     Senior  Economics  3.81  \n",
       "35     Senior  Economics  3.80  "
      ]
     },
     "execution_count": 32,
     "metadata": {},
     "output_type": "execute_result"
    }
   ],
   "source": [
    "econ_df = students_df1[econ_filt]\n",
    "econ_df.head()"
   ]
  },
  {
   "cell_type": "markdown",
   "metadata": {},
   "source": [
    "4.3) Create a variable containing a DataFrame of students' information for Physics students **without explicitly creating a filter variable**"
   ]
  },
  {
   "cell_type": "code",
   "execution_count": 33,
   "metadata": {
    "collapsed": false
   },
   "outputs": [
    {
     "data": {
      "text/html": [
       "<div>\n",
       "<table border=\"1\" class=\"dataframe\">\n",
       "  <thead>\n",
       "    <tr style=\"text-align: right;\">\n",
       "      <th></th>\n",
       "      <th>student_id</th>\n",
       "      <th>first</th>\n",
       "      <th>last</th>\n",
       "      <th>gender</th>\n",
       "      <th>class</th>\n",
       "      <th>major</th>\n",
       "      <th>gpa</th>\n",
       "    </tr>\n",
       "  </thead>\n",
       "  <tbody>\n",
       "    <tr>\n",
       "      <th>14</th>\n",
       "      <td>15714049-2a88-4dbc-8d1a-dde0095a3acf</td>\n",
       "      <td>Lola</td>\n",
       "      <td>Bailey</td>\n",
       "      <td>Female</td>\n",
       "      <td>Senior</td>\n",
       "      <td>Physics</td>\n",
       "      <td>3.28</td>\n",
       "    </tr>\n",
       "    <tr>\n",
       "      <th>18</th>\n",
       "      <td>abfe23e2-fe76-42a4-b8ae-1bd24b7ed1bf</td>\n",
       "      <td>James</td>\n",
       "      <td>Bertolini</td>\n",
       "      <td>Male</td>\n",
       "      <td>Junior</td>\n",
       "      <td>Physics</td>\n",
       "      <td>3.53</td>\n",
       "    </tr>\n",
       "    <tr>\n",
       "      <th>19</th>\n",
       "      <td>a1dbc2a8-7e1a-4276-82fc-c3f7dbc42661</td>\n",
       "      <td>David</td>\n",
       "      <td>Burnette</td>\n",
       "      <td>Male</td>\n",
       "      <td>Senior</td>\n",
       "      <td>Physics</td>\n",
       "      <td>3.09</td>\n",
       "    </tr>\n",
       "    <tr>\n",
       "      <th>27</th>\n",
       "      <td>fb41a474-ee2b-492f-982e-d0acdd8c277d</td>\n",
       "      <td>Pedro</td>\n",
       "      <td>Baldyga</td>\n",
       "      <td>Male</td>\n",
       "      <td>Junior</td>\n",
       "      <td>Physics</td>\n",
       "      <td>3.68</td>\n",
       "    </tr>\n",
       "    <tr>\n",
       "      <th>33</th>\n",
       "      <td>396c12bc-a0de-4b4c-b6e4-eee71c642412</td>\n",
       "      <td>George</td>\n",
       "      <td>Arellano</td>\n",
       "      <td>Male</td>\n",
       "      <td>Senior</td>\n",
       "      <td>Physics</td>\n",
       "      <td>3.38</td>\n",
       "    </tr>\n",
       "  </tbody>\n",
       "</table>\n",
       "</div>"
      ],
      "text/plain": [
       "                              student_id   first       last  gender   class  \\\n",
       "14  15714049-2a88-4dbc-8d1a-dde0095a3acf    Lola     Bailey  Female  Senior   \n",
       "18  abfe23e2-fe76-42a4-b8ae-1bd24b7ed1bf   James  Bertolini    Male  Junior   \n",
       "19  a1dbc2a8-7e1a-4276-82fc-c3f7dbc42661   David   Burnette    Male  Senior   \n",
       "27  fb41a474-ee2b-492f-982e-d0acdd8c277d   Pedro    Baldyga    Male  Junior   \n",
       "33  396c12bc-a0de-4b4c-b6e4-eee71c642412  George   Arellano    Male  Senior   \n",
       "\n",
       "      major   gpa  \n",
       "14  Physics  3.28  \n",
       "18  Physics  3.53  \n",
       "19  Physics  3.09  \n",
       "27  Physics  3.68  \n",
       "33  Physics  3.38  "
      ]
     },
     "execution_count": 33,
     "metadata": {},
     "output_type": "execute_result"
    }
   ],
   "source": [
    "physics_df = students_df1[students_df1['major']=='Physics']\n",
    "physics_df.head()"
   ]
  },
  {
   "cell_type": "markdown",
   "metadata": {},
   "source": [
    "4.4) Create a variable containing a dictionary whose keys are the possible majors. The value for those keys should be a DataFrame of information of students in that major. Do not manually do this - you must use a for-loop."
   ]
  },
  {
   "cell_type": "code",
   "execution_count": 34,
   "metadata": {
    "collapsed": false
   },
   "outputs": [],
   "source": [
    "major_dfs = {}\n",
    "majors = set(students_df1['major'])\n",
    "for major in majors:\n",
    "    filtered_df = students_df1[students_df1['major']==major]\n",
    "    major_dfs[major] = filtered_df"
   ]
  },
  {
   "cell_type": "code",
   "execution_count": 35,
   "metadata": {
    "collapsed": false
   },
   "outputs": [
    {
     "name": "stdout",
     "output_type": "stream",
     "text": [
      "['Finance', 'Economics', 'Engineering', 'Chemistry', 'Physics', 'Math']\n",
      "                              student_id    first      last  gender  \\\n",
      "0   5a397209-3782-4764-a285-10fae807ee71    Janis     Brown  Female   \n",
      "1   e26c3d69-3c74-49b6-81d7-47232787fad9  Timothy    Bishop    Male   \n",
      "12  1846c044-9a87-49e4-ad4f-d1bfadb4e41b     Lisa    Walden  Female   \n",
      "15  35de9214-505e-4d55-80e6-0302098a44b6     Joan  Decoteau  Female   \n",
      "35  906aede7-c027-486b-8237-5b4f6cec14bd    Scott   Avenoso    Male   \n",
      "\n",
      "        class      major   gpa  \n",
      "0      Junior  Economics  3.12  \n",
      "1   Sophomore  Economics  3.48  \n",
      "12     Senior  Economics  3.40  \n",
      "15     Senior  Economics  3.81  \n",
      "35     Senior  Economics  3.80  \n"
     ]
    }
   ],
   "source": [
    "print(major_dfs.keys())\n",
    "print(major_dfs['Economics'].head())"
   ]
  },
  {
   "cell_type": "markdown",
   "metadata": {},
   "source": [
    "4.5) Create a variable containing a dictionary whose keys are the possible majors. The value for those keys should be a DataFrame containing all of the information for students with GPAs greater than or equal to 3.7. Do not manually do this -  you must use a for-loop."
   ]
  },
  {
   "cell_type": "code",
   "execution_count": 36,
   "metadata": {
    "collapsed": true
   },
   "outputs": [],
   "source": [
    "smart_major_dfs = {}\n",
    "for major in majors:\n",
    "    major_df = major_dfs[major]\n",
    "    smart_filt = major_df['gpa'] > 3.7\n",
    "    smart_major_df = major_df[smart_filt]\n",
    "    smart_major_dfs[major] = smart_major_df"
   ]
  },
  {
   "cell_type": "code",
   "execution_count": 37,
   "metadata": {
    "collapsed": false
   },
   "outputs": [
    {
     "name": "stdout",
     "output_type": "stream",
     "text": [
      "['Finance', 'Economics', 'Engineering', 'Chemistry', 'Physics', 'Math']\n",
      "                              student_id    first      last  gender   class  \\\n",
      "15  35de9214-505e-4d55-80e6-0302098a44b6     Joan  Decoteau  Female  Senior   \n",
      "35  906aede7-c027-486b-8237-5b4f6cec14bd    Scott   Avenoso    Male  Senior   \n",
      "43  667a8999-3765-4a83-bc64-612f64a2011e    Tosha  Flanagan  Female  Junior   \n",
      "67  b7fd1a05-80b7-4fa4-8eef-db1851ad2a4f     Alma     Hines  Female  Junior   \n",
      "99  014cde8b-d943-4187-b711-402c316ee546  Michael    Walden    Male  Senior   \n",
      "\n",
      "        major   gpa  \n",
      "15  Economics  3.81  \n",
      "35  Economics  3.80  \n",
      "43  Economics  3.92  \n",
      "67  Economics  3.77  \n",
      "99  Economics  3.89  \n"
     ]
    }
   ],
   "source": [
    "print(smart_major_dfs.keys())\n",
    "print(smart_major_dfs['Economics'].head())"
   ]
  },
  {
   "cell_type": "markdown",
   "metadata": {},
   "source": [
    "# Extra Problems - Only Required by Section 05\n",
    "Below are some computations that will help improve your understanding of how to compute information using DataFrames."
   ]
  },
  {
   "cell_type": "markdown",
   "metadata": {},
   "source": [
    "#### Part 5 - Computing"
   ]
  },
  {
   "cell_type": "markdown",
   "metadata": {},
   "source": [
    "5.1) Create a function that, given a DataFrame, computes the following information:\n",
    "- The mean gpa\n",
    "- The standard deviation of gpa\n",
    "- The median gpa\n",
    "\n",
    "Your function should return a dictionary with two keys for the above information."
   ]
  },
  {
   "cell_type": "code",
   "execution_count": 42,
   "metadata": {
    "collapsed": true
   },
   "outputs": [],
   "source": [
    "def generate_summary(df):\n",
    "    major_dict = {}\n",
    "    major_dict['gpa_mean'] = df.gpa.mean()\n",
    "    major_dict['gpa_std'] = df.gpa.std()\n",
    "    major_dict['gpa_median'] = df.gpa.median()\n",
    "    return major_dict"
   ]
  },
  {
   "cell_type": "markdown",
   "metadata": {},
   "source": [
    "5.2) Create a function that returns a filter for students whose GPAs lie within one standard deviation of the mean."
   ]
  },
  {
   "cell_type": "code",
   "execution_count": 44,
   "metadata": {
    "collapsed": true
   },
   "outputs": [],
   "source": [
    "def filter_one_std(df):\n",
    "    one_std_filt = (df.gpa - df.gpa.mean()).abs() < df.gpa.std()\n",
    "    return one_std_filt"
   ]
  },
  {
   "cell_type": "markdown",
   "metadata": {},
   "source": [
    "5.3) Take the same code you wrote for 5.1 and add it to the cell below. To it, let's add one more keys to the returned dictionary:\n",
    "- The percentage of students whose GPAs lie within one standard deviation of the mean"
   ]
  },
  {
   "cell_type": "code",
   "execution_count": 45,
   "metadata": {
    "collapsed": true
   },
   "outputs": [],
   "source": [
    "def generate_summary(df):\n",
    "    major_dict = {}\n",
    "    major_dict['gpa_mean'] = df.gpa.mean()\n",
    "    major_dict['gpa_std'] = df.gpa.std()\n",
    "    students_w_in_1_std_filt = filter_one_std(df).mean()\n",
    "    major_dict['pct_students_w_in_1_std'] = students_w_in_1_std_filt.mean()\n",
    "    major_dict['gpa_median'] = df.gpa.median()\n",
    "    return major_dict"
   ]
  },
  {
   "cell_type": "code",
   "execution_count": 46,
   "metadata": {
    "collapsed": false
   },
   "outputs": [
    {
     "data": {
      "text/plain": [
       "{'gpa_mean': 3.376525999999985,\n",
       " 'gpa_median': 3.38,\n",
       " 'gpa_std': 0.3700415171253616,\n",
       " 'pct_students_w_in_1_std': 0.65129999999999999}"
      ]
     },
     "execution_count": 46,
     "metadata": {},
     "output_type": "execute_result"
    }
   ],
   "source": [
    "generate_summary(students_df1)"
   ]
  },
  {
   "cell_type": "markdown",
   "metadata": {},
   "source": [
    "5.4) Create an empty dictionary Store called **`major_summary_dict`**. Now write a for-loop that computes the information from `5.3` for students in each major. You should loop through the majors and use the major to filter your original DataFrame to yield a DataFrame that only includes students that are in that major. You should then pass that filtered DataFrame into your function to retrieve the summary statistics for that major. Store that returned dictionary in your empty dictionary as the value of the key-value pair where the key is the major name. In the end you should have a dictionary of dictionaries (keyed on the various majors)."
   ]
  },
  {
   "cell_type": "code",
   "execution_count": 47,
   "metadata": {
    "collapsed": true
   },
   "outputs": [],
   "source": [
    "majors = students_df1.major.unique()"
   ]
  },
  {
   "cell_type": "code",
   "execution_count": 48,
   "metadata": {
    "collapsed": true
   },
   "outputs": [],
   "source": [
    "major_summary_dict = {}\n",
    "for major in majors:\n",
    "    major_summary_dict[major] = generate_summary(students_df1[students_df1.major==major])"
   ]
  },
  {
   "cell_type": "code",
   "execution_count": 49,
   "metadata": {
    "collapsed": false
   },
   "outputs": [
    {
     "data": {
      "text/plain": [
       "{'Chemistry': {'gpa_mean': 3.359150630391504,\n",
       "  'gpa_median': 3.36,\n",
       "  'gpa_std': 0.32550105701639787,\n",
       "  'pct_students_w_in_1_std': 0.67352355673523556},\n",
       " 'Economics': {'gpa_mean': 3.487805372529144,\n",
       "  'gpa_median': 3.51,\n",
       "  'gpa_std': 0.3287228630953865,\n",
       "  'pct_students_w_in_1_std': 0.64419665484034461},\n",
       " 'Engineering': {'gpa_mean': 3.10628318584071,\n",
       "  'gpa_median': 3.11,\n",
       "  'gpa_std': 0.316305142046217,\n",
       "  'pct_students_w_in_1_std': 0.68584070796460173},\n",
       " 'Finance': {'gpa_mean': 3.614966532797852,\n",
       "  'gpa_median': 3.65,\n",
       "  'gpa_std': 0.3239709136593943,\n",
       "  'pct_students_w_in_1_std': 0.60240963855421692},\n",
       " 'Math': {'gpa_mean': 3.300452054794523,\n",
       "  'gpa_median': 3.31,\n",
       "  'gpa_std': 0.32736959481229905,\n",
       "  'pct_students_w_in_1_std': 0.67260273972602735},\n",
       " 'Physics': {'gpa_mean': 3.2956633663366346,\n",
       "  'gpa_median': 3.3,\n",
       "  'gpa_std': 0.33003803503320817,\n",
       "  'pct_students_w_in_1_std': 0.67326732673267331}}"
      ]
     },
     "execution_count": 49,
     "metadata": {},
     "output_type": "execute_result"
    }
   ],
   "source": [
    "major_summary_dict"
   ]
  },
  {
   "cell_type": "markdown",
   "metadata": {},
   "source": [
    "Let's convert your dictionary into a DataFrame now."
   ]
  },
  {
   "cell_type": "code",
   "execution_count": 50,
   "metadata": {
    "collapsed": false
   },
   "outputs": [
    {
     "data": {
      "text/html": [
       "<div>\n",
       "<table border=\"1\" class=\"dataframe\">\n",
       "  <thead>\n",
       "    <tr style=\"text-align: right;\">\n",
       "      <th></th>\n",
       "      <th>Chemistry</th>\n",
       "      <th>Economics</th>\n",
       "      <th>Engineering</th>\n",
       "      <th>Finance</th>\n",
       "      <th>Math</th>\n",
       "      <th>Physics</th>\n",
       "    </tr>\n",
       "  </thead>\n",
       "  <tbody>\n",
       "    <tr>\n",
       "      <th>gpa_mean</th>\n",
       "      <td>3.359151</td>\n",
       "      <td>3.487805</td>\n",
       "      <td>3.106283</td>\n",
       "      <td>3.614967</td>\n",
       "      <td>3.300452</td>\n",
       "      <td>3.295663</td>\n",
       "    </tr>\n",
       "    <tr>\n",
       "      <th>gpa_median</th>\n",
       "      <td>3.360000</td>\n",
       "      <td>3.510000</td>\n",
       "      <td>3.110000</td>\n",
       "      <td>3.650000</td>\n",
       "      <td>3.310000</td>\n",
       "      <td>3.300000</td>\n",
       "    </tr>\n",
       "    <tr>\n",
       "      <th>gpa_std</th>\n",
       "      <td>0.325501</td>\n",
       "      <td>0.328723</td>\n",
       "      <td>0.316305</td>\n",
       "      <td>0.323971</td>\n",
       "      <td>0.327370</td>\n",
       "      <td>0.330038</td>\n",
       "    </tr>\n",
       "    <tr>\n",
       "      <th>pct_students_w_in_1_std</th>\n",
       "      <td>0.673524</td>\n",
       "      <td>0.644197</td>\n",
       "      <td>0.685841</td>\n",
       "      <td>0.602410</td>\n",
       "      <td>0.672603</td>\n",
       "      <td>0.673267</td>\n",
       "    </tr>\n",
       "  </tbody>\n",
       "</table>\n",
       "</div>"
      ],
      "text/plain": [
       "                         Chemistry  Economics  Engineering   Finance  \\\n",
       "gpa_mean                  3.359151   3.487805     3.106283  3.614967   \n",
       "gpa_median                3.360000   3.510000     3.110000  3.650000   \n",
       "gpa_std                   0.325501   0.328723     0.316305  0.323971   \n",
       "pct_students_w_in_1_std   0.673524   0.644197     0.685841  0.602410   \n",
       "\n",
       "                             Math   Physics  \n",
       "gpa_mean                 3.300452  3.295663  \n",
       "gpa_median               3.310000  3.300000  \n",
       "gpa_std                  0.327370  0.330038  \n",
       "pct_students_w_in_1_std  0.672603  0.673267  "
      ]
     },
     "execution_count": 50,
     "metadata": {},
     "output_type": "execute_result"
    }
   ],
   "source": [
    "major_summary_df = pd.DataFrame(major_summary_dict)\n",
    "major_summary_df"
   ]
  },
  {
   "cell_type": "markdown",
   "metadata": {},
   "source": [
    "This is wrong because columns are supposed to be \"attributes\" and rows are supposed to be \"observations.\" In this case, your columns are the majors and the attributes are in the rows. Let's transpose your data so that your DataFrame is appropriately shaped."
   ]
  },
  {
   "cell_type": "code",
   "execution_count": 51,
   "metadata": {
    "collapsed": false
   },
   "outputs": [],
   "source": [
    "major_summary_df = major_summary_df.transpose()"
   ]
  },
  {
   "cell_type": "code",
   "execution_count": 52,
   "metadata": {
    "collapsed": false
   },
   "outputs": [
    {
     "data": {
      "text/html": [
       "<div>\n",
       "<table border=\"1\" class=\"dataframe\">\n",
       "  <thead>\n",
       "    <tr style=\"text-align: right;\">\n",
       "      <th></th>\n",
       "      <th>gpa_mean</th>\n",
       "      <th>gpa_median</th>\n",
       "      <th>gpa_std</th>\n",
       "      <th>pct_students_w_in_1_std</th>\n",
       "    </tr>\n",
       "  </thead>\n",
       "  <tbody>\n",
       "    <tr>\n",
       "      <th>Chemistry</th>\n",
       "      <td>3.359151</td>\n",
       "      <td>3.36</td>\n",
       "      <td>0.325501</td>\n",
       "      <td>0.673524</td>\n",
       "    </tr>\n",
       "    <tr>\n",
       "      <th>Economics</th>\n",
       "      <td>3.487805</td>\n",
       "      <td>3.51</td>\n",
       "      <td>0.328723</td>\n",
       "      <td>0.644197</td>\n",
       "    </tr>\n",
       "    <tr>\n",
       "      <th>Engineering</th>\n",
       "      <td>3.106283</td>\n",
       "      <td>3.11</td>\n",
       "      <td>0.316305</td>\n",
       "      <td>0.685841</td>\n",
       "    </tr>\n",
       "    <tr>\n",
       "      <th>Finance</th>\n",
       "      <td>3.614967</td>\n",
       "      <td>3.65</td>\n",
       "      <td>0.323971</td>\n",
       "      <td>0.602410</td>\n",
       "    </tr>\n",
       "    <tr>\n",
       "      <th>Math</th>\n",
       "      <td>3.300452</td>\n",
       "      <td>3.31</td>\n",
       "      <td>0.327370</td>\n",
       "      <td>0.672603</td>\n",
       "    </tr>\n",
       "    <tr>\n",
       "      <th>Physics</th>\n",
       "      <td>3.295663</td>\n",
       "      <td>3.30</td>\n",
       "      <td>0.330038</td>\n",
       "      <td>0.673267</td>\n",
       "    </tr>\n",
       "  </tbody>\n",
       "</table>\n",
       "</div>"
      ],
      "text/plain": [
       "             gpa_mean  gpa_median   gpa_std  pct_students_w_in_1_std\n",
       "Chemistry    3.359151        3.36  0.325501                 0.673524\n",
       "Economics    3.487805        3.51  0.328723                 0.644197\n",
       "Engineering  3.106283        3.11  0.316305                 0.685841\n",
       "Finance      3.614967        3.65  0.323971                 0.602410\n",
       "Math         3.300452        3.31  0.327370                 0.672603\n",
       "Physics      3.295663        3.30  0.330038                 0.673267"
      ]
     },
     "execution_count": 52,
     "metadata": {},
     "output_type": "execute_result"
    }
   ],
   "source": [
    "major_summary_df"
   ]
  },
  {
   "cell_type": "markdown",
   "metadata": {},
   "source": [
    "Now if we wanted to, we can do some analysis on your summaries!"
   ]
  }
 ],
 "metadata": {
  "anaconda-cloud": {},
  "kernelspec": {
   "display_name": "Python [default]",
   "language": "python",
   "name": "python2"
  },
  "language_info": {
   "codemirror_mode": {
    "name": "ipython",
    "version": 2
   },
   "file_extension": ".py",
   "mimetype": "text/x-python",
   "name": "python",
   "nbconvert_exporter": "python",
   "pygments_lexer": "ipython2",
   "version": "2.7.12"
  }
 },
 "nbformat": 4,
 "nbformat_minor": 1
}
