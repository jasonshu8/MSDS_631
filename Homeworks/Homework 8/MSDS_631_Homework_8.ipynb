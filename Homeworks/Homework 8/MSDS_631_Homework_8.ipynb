{
 "cells": [
  {
   "cell_type": "markdown",
   "metadata": {},
   "source": [
    "# Homework 8\n",
    "\n",
    "### Intro to Matplotlib\n",
    "In this assignment, you will practice using Matplotlib (integrated with Pandas) to visualize and analyze your data set. Your visuals should provide a meaningful analysis of the data as it pertains to your working hypothesis.\n",
    "\n",
    "(Reminder: a chart is a single plot or set of plots intended to convey a total idea)\n",
    "\n",
    "Your visuals should include at least one of the following:\n",
    "- Bar plot (both horizontal and vertical)\n",
    "- Line plot\n",
    "- Histogram\n",
    "- Scatter plot (if you have only time series data, you may not be able to do this; email me if this is the case and I will waive the requirement)\n",
    "\n",
    "Each chart should be accompanied with a meaningful interpretation of the data (\"x category has the most observations\" is not meaningful unless it is accompanied with a reason why having the most observations is important to your hypothesis). Graphics are meant to provide insights into the data that cannot be easily or effectively explained (i.e. \"a picture is worth a thousand words\"). If you are just plotting for the sake of plotting, you will not receive full credit.\n",
    "\n",
    "Your charts should be structured using at least one of each of the following (which will contain one or some of your plots above):\n",
    "- A chart with a single plot\n",
    "- A chart with side-by-side plots\n",
    "- A multi-plot chart with three or more plots\n",
    "\n",
    "For each chart, you should put: \n",
    "- A meaningful title\n",
    "- Descriptive subtitles\n",
    "- Modify the x- and y-labels appropriately\n",
    "- A legend for your line plot placed in a non-obstructive location\n",
    "\n",
    "I've created sections in this notebook for you to create each of your three major charts."
   ]
  },
  {
   "cell_type": "markdown",
   "metadata": {},
   "source": [
    "## Data Topic\n",
    "\n",
    "In the space below, describe the topic you are analyzing"
   ]
  },
  {
   "cell_type": "markdown",
   "metadata": {},
   "source": [
    "Student distribution by GPA."
   ]
  },
  {
   "cell_type": "markdown",
   "metadata": {},
   "source": [
    "In the space below, describe your working hypothesis. A hypothesis is an idea that you are trying to prove through analysis"
   ]
  },
  {
   "cell_type": "markdown",
   "metadata": {},
   "source": [
    "GPA is higher for woman regarless of class or major."
   ]
  },
  {
   "cell_type": "markdown",
   "metadata": {},
   "source": [
    "## Data Load\n",
    "\n",
    "Use this section to load your data from Homework 7 so that you can either re-create your analyses or create new analysis so that you can generate the plots for this homework."
   ]
  },
  {
   "cell_type": "code",
   "execution_count": 1,
   "metadata": {},
   "outputs": [],
   "source": [
    "import matplotlib\n",
    "from matplotlib import pyplot as plt\n",
    "%matplotlib inline\n",
    "import pandas as pd\n",
    "import numpy as np\n",
    "import json\n",
    "import csv\n",
    "from datetime import datetime"
   ]
  },
  {
   "cell_type": "code",
   "execution_count": 6,
   "metadata": {},
   "outputs": [],
   "source": [
    "student_info = pd.read_csv(\"../Homework 6-EC/students.csv\")"
   ]
  },
  {
   "cell_type": "code",
   "execution_count": null,
   "metadata": {},
   "outputs": [],
   "source": []
  },
  {
   "cell_type": "code",
   "execution_count": null,
   "metadata": {},
   "outputs": [],
   "source": []
  },
  {
   "cell_type": "markdown",
   "metadata": {},
   "source": [
    "## Chart 1 - Single Chart\n",
    "\n",
    "In this section, please analyze your data to generate a single chart that represents a critical high level observation/insight about your data."
   ]
  },
  {
   "cell_type": "code",
   "execution_count": 213,
   "metadata": {},
   "outputs": [],
   "source": [
    "female_gpas = student_info[student_info['gender']=='Female']"
   ]
  },
  {
   "cell_type": "code",
   "execution_count": 236,
   "metadata": {},
   "outputs": [
    {
     "data": {
      "text/plain": [
       "<matplotlib.legend.Legend at 0x7f810151fb10>"
      ]
     },
     "execution_count": 236,
     "metadata": {},
     "output_type": "execute_result"
    },
    {
     "data": {
      "image/png": "[encoded data removed]",
      "text/plain": [
       "<Figure size 576x432 with 1 Axes>"
      ]
     },
     "metadata": {
      "needs_background": "light"
     },
     "output_type": "display_data"
    }
   ],
   "source": [
    "#Generate chart here\n",
    "\n",
    "fig, ax = plt.subplots(figsize=(8,6))\n",
    "first_plot = female_gpas['gpa'].hist()\n",
    "ax.set_title(\"Gpa Distribution\")\n",
    "plt.suptitle(\"Female\")\n",
    "ax.set_xlabel(\"GPA\")\n",
    "ax.set_ylabel(\"Count of Students\")\n",
    "ax.legend('Distro', loc='upper left')"
   ]
  },
  {
   "cell_type": "markdown",
   "metadata": {},
   "source": [
    "#### Chart 1 Key Insight or Takeaway\n",
    "Please describe what you analyzed and how it supports or refutes your working hypothesis. You do not necessarily have to have proven your hypothesis - just that you understand how your chart supports or disputes your hypothesis."
   ]
  },
  {
   "cell_type": "markdown",
   "metadata": {
    "collapsed": true
   },
   "source": [
    "Distribution of Female GPAs showes a strong push towards the 4.0 range."
   ]
  },
  {
   "cell_type": "markdown",
   "metadata": {
    "collapsed": true
   },
   "source": [
    "## Chart 2 - Side-by-Side Chart\n",
    "\n",
    "In this section, , positioned side-by-side, and put them into a single chart .\n",
    "\n",
    "In this section, please analyze your data to generate two plots, positioned side-by-side, in a single chart that can be looked at *together* to generate a comparison."
   ]
  },
  {
   "cell_type": "code",
   "execution_count": 186,
   "metadata": {},
   "outputs": [
    {
     "data": {
      "text/html": [
       "<div>\n",
       "<style scoped>\n",
       "    .dataframe tbody tr th:only-of-type {\n",
       "        vertical-align: middle;\n",
       "    }\n",
       "\n",
       "    .dataframe tbody tr th {\n",
       "        vertical-align: top;\n",
       "    }\n",
       "\n",
       "    .dataframe thead th {\n",
       "        text-align: right;\n",
       "    }\n",
       "</style>\n",
       "<table border=\"1\" class=\"dataframe\">\n",
       "  <thead>\n",
       "    <tr style=\"text-align: right;\">\n",
       "      <th></th>\n",
       "      <th>gpa</th>\n",
       "    </tr>\n",
       "    <tr>\n",
       "      <th>gender</th>\n",
       "      <th></th>\n",
       "    </tr>\n",
       "  </thead>\n",
       "  <tbody>\n",
       "    <tr>\n",
       "      <th>Female</th>\n",
       "      <td>3.430955</td>\n",
       "    </tr>\n",
       "    <tr>\n",
       "      <th>Male</th>\n",
       "      <td>3.323790</td>\n",
       "    </tr>\n",
       "  </tbody>\n",
       "</table>\n",
       "</div>"
      ],
      "text/plain": [
       "             gpa\n",
       "gender          \n",
       "Female  3.430955\n",
       "Male    3.323790"
      ]
     },
     "execution_count": 186,
     "metadata": {},
     "output_type": "execute_result"
    }
   ],
   "source": [
    "gender_gpa = student_info.groupby(['gender'])[['gpa']].mean()\n",
    "\n",
    "gender_gpa"
   ]
  },
  {
   "cell_type": "code",
   "execution_count": 281,
   "metadata": {
    "scrolled": true
   },
   "outputs": [
    {
     "data": {
      "text/plain": [
       "Text(0.5,0.98,'By Gender')"
      ]
     },
     "execution_count": 281,
     "metadata": {},
     "output_type": "execute_result"
    },
    {
     "data": {
      "image/png": "[encoded data removed]",
      "text/plain": [
       "<Figure size 432x288 with 1 Axes>"
      ]
     },
     "metadata": {
      "needs_background": "light"
     },
     "output_type": "display_data"
    }
   ],
   "source": [
    "#Generate chart here\n",
    "gender_gpa.plot.bar(y='gpa', rot=0)\n",
    "plt.xlabel(\"Gender\")\n",
    "plt.ylabel(\"GPA\")\n",
    "plt.title(\"Gpa Distribution\")\n",
    "plt.suptitle(\"By Gender\")"
   ]
  },
  {
   "cell_type": "markdown",
   "metadata": {},
   "source": [
    "#### Chart 2 Key Insight or Takeaway\n",
    "Please describe what you analyzed and how it supports or refutes your working hypothesis. You do not necessarily have to have proven your hypothesis - just that you understand how your chart supports or disputes your hypothesis."
   ]
  },
  {
   "cell_type": "markdown",
   "metadata": {},
   "source": [
    "Females have an overall higher GPA than Males by 0.11."
   ]
  },
  {
   "cell_type": "markdown",
   "metadata": {},
   "source": [
    "## Chart 3 - Multi-Plot Chart\n",
    "\n",
    "In this section, please generate three or more plots, positioned , and put them into a single chart that can be looked at *together* to generate a summary visual that conveys a complex insight or comparison."
   ]
  },
  {
   "cell_type": "code",
   "execution_count": null,
   "metadata": {},
   "outputs": [],
   "source": [
    "A meaningful title\n",
    "Descriptive subtitles\n",
    "Modify the x- and y-labels appropriately\n",
    "A legend for your line plot placed in a non-obstructive location"
   ]
  },
  {
   "cell_type": "code",
   "execution_count": 277,
   "metadata": {},
   "outputs": [
    {
     "data": {
      "text/html": [
       "<div>\n",
       "<style scoped>\n",
       "    .dataframe tbody tr th:only-of-type {\n",
       "        vertical-align: middle;\n",
       "    }\n",
       "\n",
       "    .dataframe tbody tr th {\n",
       "        vertical-align: top;\n",
       "    }\n",
       "\n",
       "    .dataframe thead tr th {\n",
       "        text-align: left;\n",
       "    }\n",
       "\n",
       "    .dataframe thead tr:last-of-type th {\n",
       "        text-align: right;\n",
       "    }\n",
       "</style>\n",
       "<table border=\"1\" class=\"dataframe\">\n",
       "  <thead>\n",
       "    <tr>\n",
       "      <th></th>\n",
       "      <th colspan=\"2\" halign=\"left\">gpa</th>\n",
       "    </tr>\n",
       "    <tr>\n",
       "      <th>gender</th>\n",
       "      <th>Female</th>\n",
       "      <th>Male</th>\n",
       "    </tr>\n",
       "    <tr>\n",
       "      <th>major</th>\n",
       "      <th></th>\n",
       "      <th></th>\n",
       "    </tr>\n",
       "  </thead>\n",
       "  <tbody>\n",
       "    <tr>\n",
       "      <th>Chemistry</th>\n",
       "      <td>3.395772</td>\n",
       "      <td>3.292617</td>\n",
       "    </tr>\n",
       "    <tr>\n",
       "      <th>Economics</th>\n",
       "      <td>3.495707</td>\n",
       "      <td>3.462748</td>\n",
       "    </tr>\n",
       "    <tr>\n",
       "      <th>Engineering</th>\n",
       "      <td>2.995098</td>\n",
       "      <td>3.143491</td>\n",
       "    </tr>\n",
       "    <tr>\n",
       "      <th>Finance</th>\n",
       "      <td>3.654529</td>\n",
       "      <td>3.568535</td>\n",
       "    </tr>\n",
       "    <tr>\n",
       "      <th>Math</th>\n",
       "      <td>3.268426</td>\n",
       "      <td>3.315657</td>\n",
       "    </tr>\n",
       "    <tr>\n",
       "      <th>Physics</th>\n",
       "      <td>3.283239</td>\n",
       "      <td>3.301675</td>\n",
       "    </tr>\n",
       "  </tbody>\n",
       "</table>\n",
       "</div>"
      ],
      "text/plain": [
       "                  gpa          \n",
       "gender         Female      Male\n",
       "major                          \n",
       "Chemistry    3.395772  3.292617\n",
       "Economics    3.495707  3.462748\n",
       "Engineering  2.995098  3.143491\n",
       "Finance      3.654529  3.568535\n",
       "Math         3.268426  3.315657\n",
       "Physics      3.283239  3.301675"
      ]
     },
     "execution_count": 277,
     "metadata": {},
     "output_type": "execute_result"
    }
   ],
   "source": [
    "major_gpa = student_info.groupby(['major', 'gender'])[['gpa']].mean().unstack()\n",
    "\n",
    "major_gpa"
   ]
  },
  {
   "cell_type": "code",
   "execution_count": null,
   "metadata": {},
   "outputs": [],
   "source": []
  },
  {
   "cell_type": "code",
   "execution_count": 285,
   "metadata": {},
   "outputs": [
    {
     "data": {
      "text/plain": [
       "<matplotlib.legend.Legend at 0x7f80e37a0d10>"
      ]
     },
     "execution_count": 285,
     "metadata": {},
     "output_type": "execute_result"
    },
    {
     "data": {
      "image/png": "[encoded data removed]",
      "text/plain": [
       "<Figure size 1080x504 with 1 Axes>"
      ]
     },
     "metadata": {
      "needs_background": "light"
     },
     "output_type": "display_data"
    }
   ],
   "source": [
    "#Generate chart here\n",
    "\n",
    "fig,ax = plt.subplots(figsize=(15,7))\n",
    "major_gpa.plot.bar(ax=ax)\n",
    "plt.title(\"Gpa Distribution\")\n",
    "plt.suptitle(\"By Major\")\n",
    "ax.legend(loc='upper left')"
   ]
  },
  {
   "cell_type": "markdown",
   "metadata": {},
   "source": [
    "#### Chart 3 Key Insight or Takeaway\n",
    "Please describe what you analyzed and how it supports or refutes your working hypothesis. You do not necessarily have to have proven your hypothesis - just that you understand how your chart supports or disputes your hypothesis."
   ]
  },
  {
   "cell_type": "markdown",
   "metadata": {},
   "source": [
    "Not all majors showed higher gpas for females. The hypothesis has been proven wrong."
   ]
  }
 ],
 "metadata": {
  "anaconda-cloud": {},
  "kernelspec": {
   "display_name": "Python 3",
   "language": "python",
   "name": "python3"
  },
  "language_info": {
   "codemirror_mode": {
    "name": "ipython",
    "version": 3
   },
   "file_extension": ".py",
   "mimetype": "text/x-python",
   "name": "python",
   "nbconvert_exporter": "python",
   "pygments_lexer": "ipython3",
   "version": "3.7.4"
  }
 },
 "nbformat": 4,
 "nbformat_minor": 1
}
