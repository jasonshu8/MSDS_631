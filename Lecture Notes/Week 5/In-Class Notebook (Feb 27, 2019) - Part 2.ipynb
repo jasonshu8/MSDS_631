{
 "cells": [
  {
   "cell_type": "markdown",
   "metadata": {},
   "source": [
    "# MSDS 631 - Lecture 5 (February 20, 2019)\n",
    "\n",
    "## Debugging"
   ]
  },
  {
   "cell_type": "markdown",
   "metadata": {},
   "source": [
    "Coding never goes as one plans. We can come up with the best plan, yet we will inevitably mess up our code somewhere. With all of the specificity that computers require, the smallest detail can cause an error. The following are the most common issues you'll run into:\n",
    "- Incorrect indentations\n",
    "- Missing or incorrectly placed parentheses\n",
    "- Missing colons\n",
    "- Having a return in the wrong level of indentation in a for-loop or function\n",
    "- Accidentally naming a variable in a function that it isn't passed (i.e. assuming the existance of global variables)\n",
    "- Changing the name of a variable but forgetting a few instances\n",
    "- Thinking a data structure is a list instead of a dictionary (or vice versa)\n",
    "\n",
    "There are too many possibilities to list, but addressing any issues from this list will be a good start.\n",
    "\n",
    "If running through this checklist doesn't help, then I always recommend starting with \"The Squirrel\" technique.\n",
    "\n",
    "When you've reached a point of frustration, you will often ask your friend/classmate for some help. You will start explaining to them what your solution, and at some point during your explanation, you will often come to realize what your error was without your helper ever having spoken a word. You may as well have been speaking to an inanimate object!"
   ]
  },
  {
   "cell_type": "markdown",
   "metadata": {},
   "source": [
    "#### Rubber Duck Debugging\n",
    "The Squirrel is *actually* called the \"Rubber Duck Technique\"... I just adopted the squirrel version that one of my past professors taught me.\n",
    "\n",
    "*```In software engineering, rubber duck debugging is a method of debugging code. The name is a reference to a story in the book The Pragmatic Programmer in which a programmer would carry around a rubber duck and debug their code by forcing themselves to explain it, line-by-line, to the duck. Many other terms exist for this technique, often involving different inanimate objects. (https://en.wikipedia.org/wiki/Rubber_duck_debugging)\n",
    "```*"
   ]
  },
  {
   "cell_type": "markdown",
   "metadata": {},
   "source": [
    "#### Break apart your code\n",
    "When Rubber Ducking doesn't work, start breaking apart your code.One of the most common issues is when coders try to pack in too many expressions into a single line of code. This could include multiple method calls, function calls, or data structure accessing"
   ]
  },
  {
   "cell_type": "code",
   "execution_count": 1,
   "metadata": {
    "collapsed": true
   },
   "outputs": [],
   "source": [
    "import json\n",
    "students = json.load(open('students.json', 'r'))"
   ]
  },
  {
   "cell_type": "markdown",
   "metadata": {},
   "source": [
    "If I wanted to print a sentence regarding the first student, the code could look something like this:"
   ]
  },
  {
   "cell_type": "code",
   "execution_count": 6,
   "metadata": {
    "collapsed": false
   },
   "outputs": [
    {
     "name": "stdout",
     "output_type": "stream",
     "text": [
      "The first student's GPA was 3, which was high for her major\n"
     ]
    },
    {
     "ename": "AttributeError",
     "evalue": "'NoneType' object has no attribute 'capitalize'",
     "output_type": "error",
     "traceback": [
      "\u001b[0;31m---------------------------------------------------------------------------\u001b[0m",
      "\u001b[0;31mAttributeError\u001b[0m                            Traceback (most recent call last)",
      "\u001b[0;32m<ipython-input-6-c3a239d7bb43>\u001b[0m in \u001b[0;36m<module>\u001b[0;34m()\u001b[0m\n\u001b[0;32m----> 1\u001b[0;31m \u001b[0mprint\u001b[0m\u001b[0;34m(\u001b[0m\u001b[0;34m\"The first student's GPA was {}, which was high for her major\"\u001b[0m\u001b[0;34m.\u001b[0m\u001b[0mformat\u001b[0m\u001b[0;34m(\u001b[0m\u001b[0mround\u001b[0m\u001b[0;34m(\u001b[0m\u001b[0mstudents\u001b[0m\u001b[0;34m[\u001b[0m\u001b[0;36m0\u001b[0m\u001b[0;34m]\u001b[0m\u001b[0;34m[\u001b[0m\u001b[0;34m'gpa'\u001b[0m\u001b[0;34m]\u001b[0m\u001b[0;34m)\u001b[0m\u001b[0;34m,\u001b[0m\u001b[0;36m1\u001b[0m\u001b[0;34m)\u001b[0m\u001b[0;34m)\u001b[0m\u001b[0;34m.\u001b[0m\u001b[0mcapitalize\u001b[0m\u001b[0;34m(\u001b[0m\u001b[0;34m)\u001b[0m\u001b[0;34m\u001b[0m\u001b[0m\n\u001b[0m",
      "\u001b[0;31mAttributeError\u001b[0m: 'NoneType' object has no attribute 'capitalize'"
     ]
    }
   ],
   "source": [
    "print(\"The first student's GPA was {}, which was high for her major\".format(round(students[0]['gpa']),1)).capitalize()"
   ]
  },
  {
   "cell_type": "markdown",
   "metadata": {},
   "source": [
    "That's a lot going on in a single line. When you're running into errors when you've got complex code like this, you should start by breaking apart the code."
   ]
  },
  {
   "cell_type": "code",
   "execution_count": 8,
   "metadata": {
    "collapsed": true
   },
   "outputs": [],
   "source": [
    "#First thing I want to do is access the first student's records and get their GPA.\n",
    "student = students[0]\n",
    "first_gpa = student['gpa']"
   ]
  },
  {
   "cell_type": "code",
   "execution_count": 9,
   "metadata": {
    "collapsed": false
   },
   "outputs": [
    {
     "name": "stdout",
     "output_type": "stream",
     "text": [
      "The first student's GPA was 3, which was high for her major\n"
     ]
    },
    {
     "ename": "AttributeError",
     "evalue": "'NoneType' object has no attribute 'capitalize'",
     "output_type": "error",
     "traceback": [
      "\u001b[0;31m---------------------------------------------------------------------------\u001b[0m",
      "\u001b[0;31mAttributeError\u001b[0m                            Traceback (most recent call last)",
      "\u001b[0;32m<ipython-input-9-3534c2e3b473>\u001b[0m in \u001b[0;36m<module>\u001b[0;34m()\u001b[0m\n\u001b[1;32m      1\u001b[0m \u001b[0;31m#Now we're down to the following code:\u001b[0m\u001b[0;34m\u001b[0m\u001b[0;34m\u001b[0m\u001b[0m\n\u001b[0;32m----> 2\u001b[0;31m \u001b[0mprint\u001b[0m\u001b[0;34m(\u001b[0m\u001b[0;34m\"The first student's GPA was {}, which was high for her major\"\u001b[0m\u001b[0;34m.\u001b[0m\u001b[0mformat\u001b[0m\u001b[0;34m(\u001b[0m\u001b[0mround\u001b[0m\u001b[0;34m(\u001b[0m\u001b[0mfirst_gpa\u001b[0m\u001b[0;34m)\u001b[0m\u001b[0;34m,\u001b[0m\u001b[0;36m1\u001b[0m\u001b[0;34m)\u001b[0m\u001b[0;34m)\u001b[0m\u001b[0;34m.\u001b[0m\u001b[0mcapitalize\u001b[0m\u001b[0;34m(\u001b[0m\u001b[0;34m)\u001b[0m\u001b[0;34m\u001b[0m\u001b[0m\n\u001b[0m",
      "\u001b[0;31mAttributeError\u001b[0m: 'NoneType' object has no attribute 'capitalize'"
     ]
    }
   ],
   "source": [
    "#Now we're down to the following code:\n",
    "print(\"The first student's GPA was {}, which was high for her major\".format(round(first_gpa),1)).capitalize()"
   ]
  },
  {
   "cell_type": "code",
   "execution_count": 10,
   "metadata": {
    "collapsed": false
   },
   "outputs": [
    {
     "ename": "SyntaxError",
     "evalue": "invalid syntax (<ipython-input-10-4633ac30aa7c>, line 3)",
     "output_type": "error",
     "traceback": [
      "\u001b[0;36m  File \u001b[0;32m\"<ipython-input-10-4633ac30aa7c>\"\u001b[0;36m, line \u001b[0;32m3\u001b[0m\n\u001b[0;31m    round(first_gpa),1) #This is clearly wrong\u001b[0m\n\u001b[0m                      ^\u001b[0m\n\u001b[0;31mSyntaxError\u001b[0m\u001b[0;31m:\u001b[0m invalid syntax\n"
     ]
    }
   ],
   "source": [
    "#Let's steal the code from within parentheses to see how each part works\n",
    "#The first thing that will get computed is what is inside the format parentheses\n",
    "round(first_gpa,1) #This is clearly wrong"
   ]
  },
  {
   "cell_type": "code",
   "execution_count": 11,
   "metadata": {
    "collapsed": true
   },
   "outputs": [],
   "source": [
    "rounded_first_gpa = round(first_gpa,1)"
   ]
  },
  {
   "cell_type": "code",
   "execution_count": 12,
   "metadata": {
    "collapsed": false
   },
   "outputs": [
    {
     "ename": "SyntaxError",
     "evalue": "unexpected EOF while parsing (<ipython-input-12-ce087c1685fc>, line 2)",
     "output_type": "error",
     "traceback": [
      "\u001b[0;36m  File \u001b[0;32m\"<ipython-input-12-ce087c1685fc>\"\u001b[0;36m, line \u001b[0;32m2\u001b[0m\n\u001b[0;31m    print(\"The first student's GPA was {}, which was high for her major\".format(rounded_first_gpa).capitalize()\u001b[0m\n\u001b[0m                                                                                                               ^\u001b[0m\n\u001b[0;31mSyntaxError\u001b[0m\u001b[0;31m:\u001b[0m unexpected EOF while parsing\n"
     ]
    }
   ],
   "source": [
    "#Now the code reads\n",
    "print(\"The first student's GPA was {}, which was high for her major\".format(rounded_first_gpa).capitalize()"
   ]
  },
  {
   "cell_type": "code",
   "execution_count": 14,
   "metadata": {
    "collapsed": false
   },
   "outputs": [
    {
     "data": {
      "text/plain": [
       "\"The first student's gpa was 3.1, which was high for her major\""
      ]
     },
     "execution_count": 14,
     "metadata": {},
     "output_type": "execute_result"
    }
   ],
   "source": [
    "#Let's go back to checking things within parentheses\n",
    "#Now we're down to the contents within the print statement\n",
    "\"The first student's GPA was {}, which was high for her major\".format(rounded_first_gpa).capitalize()"
   ]
  },
  {
   "cell_type": "code",
   "execution_count": 15,
   "metadata": {
    "collapsed": true
   },
   "outputs": [],
   "source": [
    "#Now we've found the next culprit... a missing parenthesis!\n",
    "#Let's assign the phrase to another variable\n",
    "phrase = \"The first student's GPA was {}, which was high for her major\".format(rounded_first_gpa).capitalize()"
   ]
  },
  {
   "cell_type": "code",
   "execution_count": 16,
   "metadata": {
    "collapsed": false
   },
   "outputs": [
    {
     "name": "stdout",
     "output_type": "stream",
     "text": [
      "The first student's gpa was 3.1, which was high for her major\n"
     ]
    }
   ],
   "source": [
    "#Now all we have to do is print the phrase\n",
    "print(phrase)"
   ]
  },
  {
   "cell_type": "markdown",
   "metadata": {},
   "source": [
    "More lines of code may not seem as efficient or elegant, but I promise it will result in less buggy code. The key is to improve readability.\n",
    "\n",
    "##### Example"
   ]
  },
  {
   "cell_type": "code",
   "execution_count": 2,
   "metadata": {
    "collapsed": false
   },
   "outputs": [
    {
     "ename": "SyntaxError",
     "evalue": "invalid syntax (<ipython-input-2-02936e3da5ec>, line 8)",
     "output_type": "error",
     "traceback": [
      "\u001b[0;36m  File \u001b[0;32m\"<ipython-input-2-02936e3da5ec>\"\u001b[0;36m, line \u001b[0;32m8\u001b[0m\n\u001b[0;31m    elif grade >=69 & grade <79:\u001b[0m\n\u001b[0m       ^\u001b[0m\n\u001b[0;31mSyntaxError\u001b[0m\u001b[0;31m:\u001b[0m invalid syntax\n"
     ]
    }
   ],
   "source": [
    "my_points = 53\n",
    "possible_points = 70\n",
    "score = (my_points / possible_points) * 100\n",
    "grade = letter_grade(score)\n",
    "\n",
    "if grade >= 60 & grade <69:\n",
    "        print ('your grade is {}, so your letter grade is D'.format(round(grade),0)\n",
    "elif grade >=69 & grade <79:\n",
    "        print ('your grade is {}, so your letter grade is C'.format(round(grade),0)\n",
    "elif grade >=79 & grade <89:\n",
    "        print ('your grade is {}, so your letter grade is B'.format(round(grade),0)\n",
    "else:\n",
    "    print ('your grade is {}, so your letter grade is A'.format(round(grade),0)"
   ]
  },
  {
   "cell_type": "markdown",
   "metadata": {
    "collapsed": true
   },
   "source": [
    "In the above code, there are several errors, including:\n",
    "- Extra indentations for the code block of the first three items in the if-elif-else block\n",
    "- Too few closing parentheses in the print statements\n",
    "- The argument for number of digits to round to falling outside of the parentheses for the `round` function\n",
    "- We don't know what the **`letter_grade`** function returns, but it is presumably a string - this won't work\n",
    "- The \"&\" symbol does not work (contrary to what I said earlier) when combining control flow logic"
   ]
  },
  {
   "cell_type": "code",
   "execution_count": 4,
   "metadata": {
    "collapsed": false
   },
   "outputs": [
    {
     "name": "stdout",
     "output_type": "stream",
     "text": [
      "your grade is 75.7, so your letter grade is C\n"
     ]
    }
   ],
   "source": [
    "my_points = 53\n",
    "possible_points = 70\n",
    "score = (my_points / possible_points) * 100\n",
    "# grade = letter_grade(score)\n",
    "\n",
    "rounded_score = round(score, 1)\n",
    "\n",
    "if 60 <= score <69:\n",
    "    print ('your grade is {}, so your letter grade is D'.format(rounded_score))\n",
    "elif score >=69. and score <79.:\n",
    "    print ('your grade is {}, so your letter grade is C'.format(rounded_score))\n",
    "elif score >=79. and score <89.:\n",
    "    print ('your grade is {}, so your letter grade is B'.format(rounded_score))\n",
    "elif score >=89.:\n",
    "    print ('your grade is {}, so your letter grade is A'.format(rounded_score))"
   ]
  }
 ],
 "metadata": {
  "anaconda-cloud": {},
  "kernelspec": {
   "display_name": "Python [conda env:py35]",
   "language": "python",
   "name": "conda-env-py35-py"
  },
  "language_info": {
   "codemirror_mode": {
    "name": "ipython",
    "version": 3
   },
   "file_extension": ".py",
   "mimetype": "text/x-python",
   "name": "python",
   "nbconvert_exporter": "python",
   "pygments_lexer": "ipython3",
   "version": "3.5.4"
  }
 },
 "nbformat": 4,
 "nbformat_minor": 0
}
