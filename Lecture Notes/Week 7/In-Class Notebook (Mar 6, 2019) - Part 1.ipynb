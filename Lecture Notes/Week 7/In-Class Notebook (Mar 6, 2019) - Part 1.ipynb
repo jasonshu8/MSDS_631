{
 "cells": [
  {
   "cell_type": "markdown",
   "metadata": {},
   "source": [
    "# MSDS 631 - Lecture 7 (March 6, 2019)\n",
    "\n",
    "## Pandas Aggregations and Analytical Methods and Combining Data"
   ]
  },
  {
   "cell_type": "markdown",
   "metadata": {},
   "source": [
    "### Aggregations"
   ]
  },
  {
   "cell_type": "markdown",
   "metadata": {},
   "source": [
    "A great deal of analyzing raw data is trying to summarize it for further analysis. So far, we've been writing for-loops and storing data into dictionaries to then run other analyses (think percentage of students on probation). To do this, you defined the attribute you wanted to \"group by\" (majors, in this case). Pandas allows you to do this automatically and perform certain functions on all of the data associated with each particular value.\n",
    "\n",
    "If we wanted to use base Python to find the average GPA amongst students in each major, we would do the following:"
   ]
  },
  {
   "cell_type": "code",
   "execution_count": 2,
   "metadata": {
    "collapsed": false
   },
   "outputs": [
    {
     "data": {
      "text/plain": [
       "{'Chemistry': 3.359,\n",
       " 'Economics': 3.488,\n",
       " 'Engineering': 3.106,\n",
       " 'Finance': 3.615,\n",
       " 'Math': 3.3,\n",
       " 'Physics': 3.296}"
      ]
     },
     "execution_count": 2,
     "metadata": {},
     "output_type": "execute_result"
    }
   ],
   "source": [
    "#Open data\n",
    "import json\n",
    "with open('students.json', 'r') as f:\n",
    "    students_list_of_dicts = json.load(f)\n",
    "\n",
    "#Create an empty list for each major so we can add the students' GPAs\n",
    "major_gpas = {}\n",
    "possible_majors = set([i['major'] for i in students_list_of_dicts])\n",
    "for major in possible_majors:\n",
    "    major_gpas[major] = []\n",
    "\n",
    "#Get all of the students GPAs for their major\n",
    "for student in students_list_of_dicts:\n",
    "    student_major = student['major']\n",
    "    major_gpas[student_major].append(student['gpa'])\n",
    "\n",
    "#Compute the average\n",
    "average_gpas = {}\n",
    "for major in major_gpas:\n",
    "    avg_gpa = sum(major_gpas[major]) / len(major_gpas[major])\n",
    "    rounded_gpa = round(avg_gpa, 3)\n",
    "    average_gpas[major] = rounded_gpa\n",
    "average_gpas"
   ]
  },
  {
   "cell_type": "markdown",
   "metadata": {
    "collapsed": true
   },
   "source": [
    "That's **three** separate for-loops with two separate dictionaries that we had to use in order to move data into their appropriate locations so that we could make computations. That's a lot! Imagine what we'd have to do if we wanted to add gender, or worse yet, gender AND class.\n",
    "\n",
    "With Pandas aggregations we can tell the DataFrame what we want to do with a LOT less code.\n",
    "\n",
    "Let's start by loading the data into a DataFrame."
   ]
  },
  {
   "cell_type": "code",
   "execution_count": 22,
   "metadata": {
    "collapsed": false
   },
   "outputs": [
    {
     "data": {
      "text/html": [
       "<div>\n",
       "<style>\n",
       "    .dataframe thead tr:only-child th {\n",
       "        text-align: right;\n",
       "    }\n",
       "\n",
       "    .dataframe thead th {\n",
       "        text-align: left;\n",
       "    }\n",
       "\n",
       "    .dataframe tbody tr th {\n",
       "        vertical-align: top;\n",
       "    }\n",
       "</style>\n",
       "<table border=\"1\" class=\"dataframe\">\n",
       "  <thead>\n",
       "    <tr style=\"text-align: right;\">\n",
       "      <th></th>\n",
       "      <th>student_id</th>\n",
       "      <th>first</th>\n",
       "      <th>last</th>\n",
       "      <th>gender</th>\n",
       "      <th>class</th>\n",
       "      <th>major</th>\n",
       "      <th>gpa</th>\n",
       "    </tr>\n",
       "  </thead>\n",
       "  <tbody>\n",
       "    <tr>\n",
       "      <th>0</th>\n",
       "      <td>5a397209-3782-4764-a285-10fae807ee71</td>\n",
       "      <td>Janis</td>\n",
       "      <td>Brown</td>\n",
       "      <td>Female</td>\n",
       "      <td>Junior</td>\n",
       "      <td>Economics</td>\n",
       "      <td>3.12</td>\n",
       "    </tr>\n",
       "    <tr>\n",
       "      <th>1</th>\n",
       "      <td>e26c3d69-3c74-49b6-81d7-47232787fad9</td>\n",
       "      <td>Timothy</td>\n",
       "      <td>Bishop</td>\n",
       "      <td>Male</td>\n",
       "      <td>Sophomore</td>\n",
       "      <td>Economics</td>\n",
       "      <td>3.48</td>\n",
       "    </tr>\n",
       "    <tr>\n",
       "      <th>2</th>\n",
       "      <td>975c1581-5ba2-430c-a3d1-01ce03bd83f9</td>\n",
       "      <td>Elizabeth</td>\n",
       "      <td>Owens</td>\n",
       "      <td>Female</td>\n",
       "      <td>Freshman</td>\n",
       "      <td>Finance</td>\n",
       "      <td>3.40</td>\n",
       "    </tr>\n",
       "    <tr>\n",
       "      <th>3</th>\n",
       "      <td>6081f91d-365c-46ce-ad1b-38af120781d9</td>\n",
       "      <td>Edward</td>\n",
       "      <td>Pearson</td>\n",
       "      <td>Male</td>\n",
       "      <td>Freshman</td>\n",
       "      <td>Math</td>\n",
       "      <td>3.84</td>\n",
       "    </tr>\n",
       "    <tr>\n",
       "      <th>4</th>\n",
       "      <td>84cec8f4-0b64-44ce-a628-c0eb73f6ca6f</td>\n",
       "      <td>Lisa</td>\n",
       "      <td>Gonzalez</td>\n",
       "      <td>Female</td>\n",
       "      <td>Junior</td>\n",
       "      <td>Finance</td>\n",
       "      <td>4.00</td>\n",
       "    </tr>\n",
       "  </tbody>\n",
       "</table>\n",
       "</div>"
      ],
      "text/plain": [
       "                             student_id      first      last  gender  \\\n",
       "0  5a397209-3782-4764-a285-10fae807ee71      Janis     Brown  Female   \n",
       "1  e26c3d69-3c74-49b6-81d7-47232787fad9    Timothy    Bishop    Male   \n",
       "2  975c1581-5ba2-430c-a3d1-01ce03bd83f9  Elizabeth     Owens  Female   \n",
       "3  6081f91d-365c-46ce-ad1b-38af120781d9     Edward   Pearson    Male   \n",
       "4  84cec8f4-0b64-44ce-a628-c0eb73f6ca6f       Lisa  Gonzalez  Female   \n",
       "\n",
       "       class      major   gpa  \n",
       "0     Junior  Economics  3.12  \n",
       "1  Sophomore  Economics  3.48  \n",
       "2   Freshman    Finance  3.40  \n",
       "3   Freshman       Math  3.84  \n",
       "4     Junior    Finance  4.00  "
      ]
     },
     "execution_count": 22,
     "metadata": {},
     "output_type": "execute_result"
    }
   ],
   "source": [
    "import pandas as pd\n",
    "#Loading from a csv\n",
    "#Could have also used original json data to create our DataFrame but without any specific column order\n",
    "students_df = pd.read_csv('students.csv')\n",
    "students_df.head()"
   ]
  },
  {
   "cell_type": "markdown",
   "metadata": {},
   "source": [
    "In a DataFrame we access rows via either the `.loc` or `.iloc` methods.\n",
    "- `.loc` uses the \"name\" of the index\n",
    "- `.iloc` uses the positional index of the DataFrame or Series\n",
    "\n",
    "The default index for DataFrames and Series in Pandas are integer indices so either `.loc` or `.iloc` would work."
   ]
  },
  {
   "cell_type": "code",
   "execution_count": 23,
   "metadata": {
    "collapsed": false
   },
   "outputs": [
    {
     "data": {
      "text/plain": [
       "'5a397209-3782-4764-a285-10fae807ee71'"
      ]
     },
     "execution_count": 23,
     "metadata": {},
     "output_type": "execute_result"
    }
   ],
   "source": [
    "#Access the first student's student ID\n",
    "student_1 = students_df.loc[0]\n",
    "student_1['student_id']"
   ]
  },
  {
   "cell_type": "markdown",
   "metadata": {},
   "source": [
    "#### Grouping Data\n",
    "\n",
    "One of the great things about DataFrames is the ability to \"group\" data by as many columns' values as you wish. If you think about the way we've been doing things so far, consider each group to be a key in a series of nested dictionaries. In the example below, we would have created a dictionary with the keys being each of the possible majors from our list of students. If we group by a second attribute then we'd have nested dictionaries with the outer keys being the majors and the inner keys being another attribute (e.g. gender).\n",
    "\n",
    "The `.groupby` method creates a new object from which we can perform several operations. If possible, you can perform the operation on the entire DataFrame, but the data types must align with what you are requesting. Below we are seeking the arithmetic mean, so none of the text columns would work. In this case, we are specifically asking for the mean of the GPA (Note that we are putting `'gpa'` in double brackets so that we can get the data returned as a DataFrame. If we had put single brackets, we would only be able to perform the operation on a single column and we would yield a Series instead of a DataFrame."
   ]
  },
  {
   "cell_type": "code",
   "execution_count": 24,
   "metadata": {
    "collapsed": false
   },
   "outputs": [
    {
     "data": {
      "text/html": [
       "<div>\n",
       "<style>\n",
       "    .dataframe thead tr:only-child th {\n",
       "        text-align: right;\n",
       "    }\n",
       "\n",
       "    .dataframe thead th {\n",
       "        text-align: left;\n",
       "    }\n",
       "\n",
       "    .dataframe tbody tr th {\n",
       "        vertical-align: top;\n",
       "    }\n",
       "</style>\n",
       "<table border=\"1\" class=\"dataframe\">\n",
       "  <thead>\n",
       "    <tr style=\"text-align: right;\">\n",
       "      <th></th>\n",
       "      <th>gpa</th>\n",
       "    </tr>\n",
       "    <tr>\n",
       "      <th>major</th>\n",
       "      <th></th>\n",
       "    </tr>\n",
       "  </thead>\n",
       "  <tbody>\n",
       "    <tr>\n",
       "      <th>Chemistry</th>\n",
       "      <td>3.359151</td>\n",
       "    </tr>\n",
       "    <tr>\n",
       "      <th>Economics</th>\n",
       "      <td>3.487805</td>\n",
       "    </tr>\n",
       "    <tr>\n",
       "      <th>Engineering</th>\n",
       "      <td>3.106283</td>\n",
       "    </tr>\n",
       "    <tr>\n",
       "      <th>Finance</th>\n",
       "      <td>3.614967</td>\n",
       "    </tr>\n",
       "    <tr>\n",
       "      <th>Math</th>\n",
       "      <td>3.300452</td>\n",
       "    </tr>\n",
       "    <tr>\n",
       "      <th>Physics</th>\n",
       "      <td>3.295663</td>\n",
       "    </tr>\n",
       "  </tbody>\n",
       "</table>\n",
       "</div>"
      ],
      "text/plain": [
       "                  gpa\n",
       "major                \n",
       "Chemistry    3.359151\n",
       "Economics    3.487805\n",
       "Engineering  3.106283\n",
       "Finance      3.614967\n",
       "Math         3.300452\n",
       "Physics      3.295663"
      ]
     },
     "execution_count": 24,
     "metadata": {},
     "output_type": "execute_result"
    }
   ],
   "source": [
    "#Now let's compute the mean GPA by major\n",
    "gpa_by_major = students_df.groupby('major')[['gpa']].mean()\n",
    "gpa_by_major"
   ]
  },
  {
   "cell_type": "code",
   "execution_count": 25,
   "metadata": {
    "collapsed": false
   },
   "outputs": [
    {
     "data": {
      "text/plain": [
       "3.4878053725291438"
      ]
     },
     "execution_count": 25,
     "metadata": {},
     "output_type": "execute_result"
    }
   ],
   "source": [
    "#Groupby results come with the values of the attribute as the new index (in no particular order).\n",
    "#You can access individual data points using the .loc method\n",
    "gpa_by_major.loc['Economics', 'gpa']"
   ]
  },
  {
   "cell_type": "code",
   "execution_count": 26,
   "metadata": {
    "collapsed": false
   },
   "outputs": [
    {
     "data": {
      "text/plain": [
       "gpa    3.487805\n",
       "Name: Economics, dtype: float64"
      ]
     },
     "execution_count": 26,
     "metadata": {},
     "output_type": "execute_result"
    }
   ],
   "source": [
    "#You can also access the data via the iloc method.\n",
    "gpa_by_major.iloc[1]"
   ]
  },
  {
   "cell_type": "code",
   "execution_count": 27,
   "metadata": {
    "collapsed": false
   },
   "outputs": [
    {
     "data": {
      "text/html": [
       "<div>\n",
       "<style>\n",
       "    .dataframe thead tr:only-child th {\n",
       "        text-align: right;\n",
       "    }\n",
       "\n",
       "    .dataframe thead th {\n",
       "        text-align: left;\n",
       "    }\n",
       "\n",
       "    .dataframe tbody tr th {\n",
       "        vertical-align: top;\n",
       "    }\n",
       "</style>\n",
       "<table border=\"1\" class=\"dataframe\">\n",
       "  <thead>\n",
       "    <tr style=\"text-align: right;\">\n",
       "      <th></th>\n",
       "      <th></th>\n",
       "      <th>gpa</th>\n",
       "    </tr>\n",
       "    <tr>\n",
       "      <th>major</th>\n",
       "      <th>gender</th>\n",
       "      <th></th>\n",
       "    </tr>\n",
       "  </thead>\n",
       "  <tbody>\n",
       "    <tr>\n",
       "      <th rowspan=\"2\" valign=\"top\">Chemistry</th>\n",
       "      <th>Female</th>\n",
       "      <td>3.395772</td>\n",
       "    </tr>\n",
       "    <tr>\n",
       "      <th>Male</th>\n",
       "      <td>3.292617</td>\n",
       "    </tr>\n",
       "    <tr>\n",
       "      <th rowspan=\"2\" valign=\"top\">Economics</th>\n",
       "      <th>Female</th>\n",
       "      <td>3.495707</td>\n",
       "    </tr>\n",
       "    <tr>\n",
       "      <th>Male</th>\n",
       "      <td>3.462748</td>\n",
       "    </tr>\n",
       "    <tr>\n",
       "      <th rowspan=\"2\" valign=\"top\">Engineering</th>\n",
       "      <th>Female</th>\n",
       "      <td>2.995098</td>\n",
       "    </tr>\n",
       "    <tr>\n",
       "      <th>Male</th>\n",
       "      <td>3.143491</td>\n",
       "    </tr>\n",
       "    <tr>\n",
       "      <th rowspan=\"2\" valign=\"top\">Finance</th>\n",
       "      <th>Female</th>\n",
       "      <td>3.654529</td>\n",
       "    </tr>\n",
       "    <tr>\n",
       "      <th>Male</th>\n",
       "      <td>3.568535</td>\n",
       "    </tr>\n",
       "    <tr>\n",
       "      <th rowspan=\"2\" valign=\"top\">Math</th>\n",
       "      <th>Female</th>\n",
       "      <td>3.268426</td>\n",
       "    </tr>\n",
       "    <tr>\n",
       "      <th>Male</th>\n",
       "      <td>3.315657</td>\n",
       "    </tr>\n",
       "    <tr>\n",
       "      <th rowspan=\"2\" valign=\"top\">Physics</th>\n",
       "      <th>Female</th>\n",
       "      <td>3.283239</td>\n",
       "    </tr>\n",
       "    <tr>\n",
       "      <th>Male</th>\n",
       "      <td>3.301675</td>\n",
       "    </tr>\n",
       "  </tbody>\n",
       "</table>\n",
       "</div>"
      ],
      "text/plain": [
       "                         gpa\n",
       "major       gender          \n",
       "Chemistry   Female  3.395772\n",
       "            Male    3.292617\n",
       "Economics   Female  3.495707\n",
       "            Male    3.462748\n",
       "Engineering Female  2.995098\n",
       "            Male    3.143491\n",
       "Finance     Female  3.654529\n",
       "            Male    3.568535\n",
       "Math        Female  3.268426\n",
       "            Male    3.315657\n",
       "Physics     Female  3.283239\n",
       "            Male    3.301675"
      ]
     },
     "execution_count": 27,
     "metadata": {},
     "output_type": "execute_result"
    }
   ],
   "source": [
    "#Now let's compute the mean GPA by major AND gender\n",
    "gpa_by_major_gender = students_df.groupby(['major','gender'])[['gpa']].mean()\n",
    "gpa_by_major_gender"
   ]
  },
  {
   "cell_type": "markdown",
   "metadata": {},
   "source": [
    "There are several ways of accessing data that have multi-level indices. You can chain together multiple .loc methods as we're doing below."
   ]
  },
  {
   "cell_type": "code",
   "execution_count": 28,
   "metadata": {
    "collapsed": false
   },
   "outputs": [
    {
     "data": {
      "text/plain": [
       "3.6545289256198346"
      ]
     },
     "execution_count": 28,
     "metadata": {},
     "output_type": "execute_result"
    }
   ],
   "source": [
    "#\"Chaining\" together multiple .loc methods\n",
    "gpa_by_major_gender.loc['Finance'].loc['Female', 'gpa']"
   ]
  },
  {
   "cell_type": "markdown",
   "metadata": {},
   "source": [
    "We can also access multi-level indices with a single .loc command. First, in order to do this, we need to understand how the data is being stored. Let's look at the actual values of the index."
   ]
  },
  {
   "cell_type": "code",
   "execution_count": 29,
   "metadata": {
    "collapsed": false
   },
   "outputs": [
    {
     "data": {
      "text/plain": [
       "[('Chemistry', 'Female'),\n",
       " ('Chemistry', 'Male'),\n",
       " ('Economics', 'Female'),\n",
       " ('Economics', 'Male'),\n",
       " ('Engineering', 'Female'),\n",
       " ('Engineering', 'Male'),\n",
       " ('Finance', 'Female'),\n",
       " ('Finance', 'Male'),\n",
       " ('Math', 'Female'),\n",
       " ('Math', 'Male'),\n",
       " ('Physics', 'Female'),\n",
       " ('Physics', 'Male')]"
      ]
     },
     "execution_count": 29,
     "metadata": {},
     "output_type": "execute_result"
    }
   ],
   "source": [
    "gpa_by_major_gender.index.tolist()"
   ]
  },
  {
   "cell_type": "markdown",
   "metadata": {},
   "source": [
    "From the above code, the indices are actually tuples of the two values. If we now pass the .loc method a single tuple with the values we want, then we don't have to chain together our data accessing methods."
   ]
  },
  {
   "cell_type": "code",
   "execution_count": 30,
   "metadata": {
    "collapsed": false
   },
   "outputs": [
    {
     "data": {
      "text/plain": [
       "3.3957716049382709"
      ]
     },
     "execution_count": 30,
     "metadata": {},
     "output_type": "execute_result"
    }
   ],
   "source": [
    "#Pass the .loc method a tuple of two values\n",
    "gpa_by_major_gender.loc[('Chemistry', 'Female'), 'gpa']"
   ]
  },
  {
   "cell_type": "code",
   "execution_count": 31,
   "metadata": {
    "collapsed": false
   },
   "outputs": [
    {
     "data": {
      "text/html": [
       "<div>\n",
       "<style>\n",
       "    .dataframe thead tr:only-child th {\n",
       "        text-align: right;\n",
       "    }\n",
       "\n",
       "    .dataframe thead th {\n",
       "        text-align: left;\n",
       "    }\n",
       "\n",
       "    .dataframe tbody tr th {\n",
       "        vertical-align: top;\n",
       "    }\n",
       "</style>\n",
       "<table border=\"1\" class=\"dataframe\">\n",
       "  <thead>\n",
       "    <tr style=\"text-align: right;\">\n",
       "      <th></th>\n",
       "      <th></th>\n",
       "      <th></th>\n",
       "      <th>gpa</th>\n",
       "    </tr>\n",
       "    <tr>\n",
       "      <th>major</th>\n",
       "      <th>class</th>\n",
       "      <th>gender</th>\n",
       "      <th></th>\n",
       "    </tr>\n",
       "  </thead>\n",
       "  <tbody>\n",
       "    <tr>\n",
       "      <th rowspan=\"8\" valign=\"top\">Chemistry</th>\n",
       "      <th rowspan=\"2\" valign=\"top\">Freshman</th>\n",
       "      <th>Female</th>\n",
       "      <td>3.387490</td>\n",
       "    </tr>\n",
       "    <tr>\n",
       "      <th>Male</th>\n",
       "      <td>3.286800</td>\n",
       "    </tr>\n",
       "    <tr>\n",
       "      <th rowspan=\"2\" valign=\"top\">Junior</th>\n",
       "      <th>Female</th>\n",
       "      <td>3.407347</td>\n",
       "    </tr>\n",
       "    <tr>\n",
       "      <th>Male</th>\n",
       "      <td>3.327231</td>\n",
       "    </tr>\n",
       "    <tr>\n",
       "      <th rowspan=\"2\" valign=\"top\">Senior</th>\n",
       "      <th>Female</th>\n",
       "      <td>3.401786</td>\n",
       "    </tr>\n",
       "    <tr>\n",
       "      <th>Male</th>\n",
       "      <td>3.297280</td>\n",
       "    </tr>\n",
       "    <tr>\n",
       "      <th rowspan=\"2\" valign=\"top\">Sophomore</th>\n",
       "      <th>Female</th>\n",
       "      <td>3.387423</td>\n",
       "    </tr>\n",
       "    <tr>\n",
       "      <th>Male</th>\n",
       "      <td>3.264516</td>\n",
       "    </tr>\n",
       "    <tr>\n",
       "      <th rowspan=\"2\" valign=\"top\">Economics</th>\n",
       "      <th rowspan=\"2\" valign=\"top\">Freshman</th>\n",
       "      <th>Female</th>\n",
       "      <td>3.489215</td>\n",
       "    </tr>\n",
       "    <tr>\n",
       "      <th>Male</th>\n",
       "      <td>3.503711</td>\n",
       "    </tr>\n",
       "  </tbody>\n",
       "</table>\n",
       "</div>"
      ],
      "text/plain": [
       "                                 gpa\n",
       "major     class     gender          \n",
       "Chemistry Freshman  Female  3.387490\n",
       "                    Male    3.286800\n",
       "          Junior    Female  3.407347\n",
       "                    Male    3.327231\n",
       "          Senior    Female  3.401786\n",
       "                    Male    3.297280\n",
       "          Sophomore Female  3.387423\n",
       "                    Male    3.264516\n",
       "Economics Freshman  Female  3.489215\n",
       "                    Male    3.503711"
      ]
     },
     "execution_count": 31,
     "metadata": {},
     "output_type": "execute_result"
    }
   ],
   "source": [
    "#Now let's compute the mean GPA by major, class, and gender\n",
    "gpa_by_major_class_gender = students_df.groupby(['major', 'class', 'gender'])[['gpa']].mean()\n",
    "gpa_by_major_class_gender.head(10)"
   ]
  },
  {
   "cell_type": "code",
   "execution_count": 32,
   "metadata": {
    "collapsed": false
   },
   "outputs": [
    {
     "data": {
      "text/plain": [
       "('Chemistry', 'Freshman', 'Female')"
      ]
     },
     "execution_count": 32,
     "metadata": {},
     "output_type": "execute_result"
    }
   ],
   "source": [
    "#What is the first index?\n",
    "gpa_by_major_class_gender.index.tolist()[0]"
   ]
  },
  {
   "cell_type": "code",
   "execution_count": 33,
   "metadata": {
    "collapsed": false
   },
   "outputs": [
    {
     "data": {
      "text/plain": [
       "3.2343055555555558"
      ]
     },
     "execution_count": 33,
     "metadata": {},
     "output_type": "execute_result"
    }
   ],
   "source": [
    "#Access the first index via a single tuple\n",
    "gpa_by_major_class_gender.loc[('Physics', 'Senior', 'Female'), 'gpa']"
   ]
  },
  {
   "cell_type": "code",
   "execution_count": 34,
   "metadata": {
    "collapsed": false
   },
   "outputs": [
    {
     "data": {
      "text/plain": [
       "3.2868000000000013"
      ]
     },
     "execution_count": 34,
     "metadata": {},
     "output_type": "execute_result"
    }
   ],
   "source": [
    "#Access the second index via iloc; Note iloc returns a Series that you access with brackets afterwards\n",
    "gpa_by_major_class_gender.iloc[1]['gpa']"
   ]
  },
  {
   "cell_type": "code",
   "execution_count": 35,
   "metadata": {
    "collapsed": false
   },
   "outputs": [
    {
     "data": {
      "text/plain": [
       "3.2343055555555558"
      ]
     },
     "execution_count": 35,
     "metadata": {},
     "output_type": "execute_result"
    }
   ],
   "source": [
    "gpa_by_major_class_gender.loc['Physics'].loc['Senior'].loc['Female', 'gpa']"
   ]
  },
  {
   "cell_type": "markdown",
   "metadata": {},
   "source": [
    "I've shown a lot about accessing data, but ultimately, the point of doing analytics is to perform analyses on large sets of data with multiple attributes and multiple values, all at once. This allows you to perform better comparisons rather than obtain individual specific answers (as you may be accustomed to). When we get into merges and plotting in the next class you will see how to effectively use all of these capabilities. In the meantime, it's enough to simply understand how aggregations work.\n",
    "\n",
    "#### Groupby using variables\n",
    "\n",
    "While it may not seem useful yet, instead of passing the literal column name into a groupby, we can use a variable name instead. This allows us to run loops or to create functiosn that allows u to choose which variable to group by. Below is an example of looking at multiple analyses at once."
   ]
  },
  {
   "cell_type": "code",
   "execution_count": 44,
   "metadata": {
    "collapsed": false
   },
   "outputs": [
    {
     "name": "stdout",
     "output_type": "stream",
     "text": [
      "              gpa\n",
      "major            \n",
      "Chemistry    2.41\n",
      "Economics    2.39\n",
      "Engineering  1.72\n",
      "Finance      2.31\n",
      "Math         2.23\n",
      "Physics      2.17\n",
      "         gpa\n",
      "gender      \n",
      "Female  1.72\n",
      "Male    1.97\n",
      "            gpa\n",
      "class          \n",
      "Freshman   2.19\n",
      "Junior     2.10\n",
      "Senior     1.72\n",
      "Sophomore  2.13\n"
     ]
    }
   ],
   "source": [
    "#Getting minimum GPAs by several columns and assigning the results into a dictionary.\n",
    "mins = {}\n",
    "stuff = ['major', 'gender', 'class']\n",
    "for i in stuff:\n",
    "    mins[i] = students_df.groupby(i)[['gpa']].min()\n",
    "for i in stuff:\n",
    "    print(mins[i])"
   ]
  },
  {
   "cell_type": "markdown",
   "metadata": {},
   "source": [
    "#### More groupby methods\n",
    "\n",
    "There are many types of computations you can do with aggregations (too many to list here). The most common methods you will call include:\n",
    "- .mean()\n",
    "- .max()\n",
    "- .min()\n",
    "- .median()\n",
    "- .size()\n",
    " - Counts how many times you see the value of the attribute(s) you are grouping by\n",
    "- .count()\n",
    " - Counts how many non-null values you have in a column\n",
    "- .rank()\n",
    " - Ranks a particular value within a group\n",
    " \n",
    "Let's use the methods above to understand what it's doing"
   ]
  },
  {
   "cell_type": "code",
   "execution_count": 36,
   "metadata": {
    "collapsed": false
   },
   "outputs": [
    {
     "data": {
      "text/html": [
       "<div>\n",
       "<style>\n",
       "    .dataframe thead tr:only-child th {\n",
       "        text-align: right;\n",
       "    }\n",
       "\n",
       "    .dataframe thead th {\n",
       "        text-align: left;\n",
       "    }\n",
       "\n",
       "    .dataframe tbody tr th {\n",
       "        vertical-align: top;\n",
       "    }\n",
       "</style>\n",
       "<table border=\"1\" class=\"dataframe\">\n",
       "  <thead>\n",
       "    <tr style=\"text-align: right;\">\n",
       "      <th></th>\n",
       "      <th>gpa</th>\n",
       "    </tr>\n",
       "    <tr>\n",
       "      <th>major</th>\n",
       "      <th></th>\n",
       "    </tr>\n",
       "  </thead>\n",
       "  <tbody>\n",
       "    <tr>\n",
       "      <th>Chemistry</th>\n",
       "      <td>4.0</td>\n",
       "    </tr>\n",
       "    <tr>\n",
       "      <th>Economics</th>\n",
       "      <td>4.0</td>\n",
       "    </tr>\n",
       "    <tr>\n",
       "      <th>Engineering</th>\n",
       "      <td>4.0</td>\n",
       "    </tr>\n",
       "    <tr>\n",
       "      <th>Finance</th>\n",
       "      <td>4.0</td>\n",
       "    </tr>\n",
       "    <tr>\n",
       "      <th>Math</th>\n",
       "      <td>4.0</td>\n",
       "    </tr>\n",
       "    <tr>\n",
       "      <th>Physics</th>\n",
       "      <td>4.0</td>\n",
       "    </tr>\n",
       "  </tbody>\n",
       "</table>\n",
       "</div>"
      ],
      "text/plain": [
       "             gpa\n",
       "major           \n",
       "Chemistry    4.0\n",
       "Economics    4.0\n",
       "Engineering  4.0\n",
       "Finance      4.0\n",
       "Math         4.0\n",
       "Physics      4.0"
      ]
     },
     "execution_count": 36,
     "metadata": {},
     "output_type": "execute_result"
    }
   ],
   "source": [
    "#Max GPA by major\n",
    "max_gpa_by_major = students_df.groupby('major')[['gpa']].max()\n",
    "max_gpa_by_major"
   ]
  },
  {
   "cell_type": "code",
   "execution_count": 40,
   "metadata": {
    "collapsed": false
   },
   "outputs": [
    {
     "data": {
      "text/html": [
       "<div>\n",
       "<style>\n",
       "    .dataframe thead tr:only-child th {\n",
       "        text-align: right;\n",
       "    }\n",
       "\n",
       "    .dataframe thead th {\n",
       "        text-align: left;\n",
       "    }\n",
       "\n",
       "    .dataframe tbody tr th {\n",
       "        vertical-align: top;\n",
       "    }\n",
       "</style>\n",
       "<table border=\"1\" class=\"dataframe\">\n",
       "  <thead>\n",
       "    <tr style=\"text-align: right;\">\n",
       "      <th></th>\n",
       "      <th>gpa</th>\n",
       "    </tr>\n",
       "    <tr>\n",
       "      <th>major</th>\n",
       "      <th></th>\n",
       "    </tr>\n",
       "  </thead>\n",
       "  <tbody>\n",
       "    <tr>\n",
       "      <th>Chemistry</th>\n",
       "      <td>3.36</td>\n",
       "    </tr>\n",
       "    <tr>\n",
       "      <th>Economics</th>\n",
       "      <td>3.51</td>\n",
       "    </tr>\n",
       "    <tr>\n",
       "      <th>Engineering</th>\n",
       "      <td>3.11</td>\n",
       "    </tr>\n",
       "    <tr>\n",
       "      <th>Finance</th>\n",
       "      <td>3.65</td>\n",
       "    </tr>\n",
       "    <tr>\n",
       "      <th>Math</th>\n",
       "      <td>3.31</td>\n",
       "    </tr>\n",
       "    <tr>\n",
       "      <th>Physics</th>\n",
       "      <td>3.30</td>\n",
       "    </tr>\n",
       "  </tbody>\n",
       "</table>\n",
       "</div>"
      ],
      "text/plain": [
       "              gpa\n",
       "major            \n",
       "Chemistry    3.36\n",
       "Economics    3.51\n",
       "Engineering  3.11\n",
       "Finance      3.65\n",
       "Math         3.31\n",
       "Physics      3.30"
      ]
     },
     "execution_count": 40,
     "metadata": {},
     "output_type": "execute_result"
    }
   ],
   "source": [
    "#Median GPA by major\n",
    "students_df.groupby('major')[['gpa']].median()"
   ]
  },
  {
   "cell_type": "code",
   "execution_count": 183,
   "metadata": {
    "collapsed": false
   },
   "outputs": [
    {
     "data": {
      "text/plain": [
       "major\n",
       "Chemistry      1507\n",
       "Economics      1973\n",
       "Engineering    2034\n",
       "Finance        2241\n",
       "Math            730\n",
       "Physics        1515\n",
       "dtype: int64"
      ]
     },
     "execution_count": 183,
     "metadata": {},
     "output_type": "execute_result"
    }
   ],
   "source": [
    "#How many students are in each major\n",
    "num_students_by_major = students_df.groupby('major').size()\n",
    "num_students_by_major"
   ]
  },
  {
   "cell_type": "code",
   "execution_count": 190,
   "metadata": {
    "collapsed": false
   },
   "outputs": [
    {
     "data": {
      "text/html": [
       "<div>\n",
       "<style>\n",
       "    .dataframe thead tr:only-child th {\n",
       "        text-align: right;\n",
       "    }\n",
       "\n",
       "    .dataframe thead th {\n",
       "        text-align: left;\n",
       "    }\n",
       "\n",
       "    .dataframe tbody tr th {\n",
       "        vertical-align: top;\n",
       "    }\n",
       "</style>\n",
       "<table border=\"1\" class=\"dataframe\">\n",
       "  <thead>\n",
       "    <tr style=\"text-align: right;\">\n",
       "      <th></th>\n",
       "      <th>student_id</th>\n",
       "      <th>first</th>\n",
       "      <th>last</th>\n",
       "      <th>gender</th>\n",
       "      <th>class</th>\n",
       "      <th>gpa</th>\n",
       "    </tr>\n",
       "    <tr>\n",
       "      <th>major</th>\n",
       "      <th></th>\n",
       "      <th></th>\n",
       "      <th></th>\n",
       "      <th></th>\n",
       "      <th></th>\n",
       "      <th></th>\n",
       "    </tr>\n",
       "  </thead>\n",
       "  <tbody>\n",
       "    <tr>\n",
       "      <th>Chemistry</th>\n",
       "      <td>1507</td>\n",
       "      <td>1507</td>\n",
       "      <td>1507</td>\n",
       "      <td>1507</td>\n",
       "      <td>1507</td>\n",
       "      <td>1507</td>\n",
       "    </tr>\n",
       "    <tr>\n",
       "      <th>Economics</th>\n",
       "      <td>1973</td>\n",
       "      <td>1973</td>\n",
       "      <td>1973</td>\n",
       "      <td>1972</td>\n",
       "      <td>1973</td>\n",
       "      <td>1973</td>\n",
       "    </tr>\n",
       "    <tr>\n",
       "      <th>Engineering</th>\n",
       "      <td>2034</td>\n",
       "      <td>2034</td>\n",
       "      <td>2034</td>\n",
       "      <td>2034</td>\n",
       "      <td>2034</td>\n",
       "      <td>2034</td>\n",
       "    </tr>\n",
       "    <tr>\n",
       "      <th>Finance</th>\n",
       "      <td>2241</td>\n",
       "      <td>2240</td>\n",
       "      <td>2241</td>\n",
       "      <td>2241</td>\n",
       "      <td>2241</td>\n",
       "      <td>2241</td>\n",
       "    </tr>\n",
       "    <tr>\n",
       "      <th>Math</th>\n",
       "      <td>730</td>\n",
       "      <td>730</td>\n",
       "      <td>730</td>\n",
       "      <td>730</td>\n",
       "      <td>730</td>\n",
       "      <td>730</td>\n",
       "    </tr>\n",
       "    <tr>\n",
       "      <th>Physics</th>\n",
       "      <td>1515</td>\n",
       "      <td>1515</td>\n",
       "      <td>1515</td>\n",
       "      <td>1515</td>\n",
       "      <td>1515</td>\n",
       "      <td>1515</td>\n",
       "    </tr>\n",
       "  </tbody>\n",
       "</table>\n",
       "</div>"
      ],
      "text/plain": [
       "             student_id  first  last  gender  class   gpa\n",
       "major                                                    \n",
       "Chemistry          1507   1507  1507    1507   1507  1507\n",
       "Economics          1973   1973  1973    1972   1973  1973\n",
       "Engineering        2034   2034  2034    2034   2034  2034\n",
       "Finance            2241   2240  2241    2241   2241  2241\n",
       "Math                730    730   730     730    730   730\n",
       "Physics            1515   1515  1515    1515   1515  1515"
      ]
     },
     "execution_count": 190,
     "metadata": {},
     "output_type": "execute_result"
    }
   ],
   "source": [
    "#How many non-null values are there for each column grouped by major\n",
    "students_df.groupby('major').count()"
   ]
  },
  {
   "cell_type": "code",
   "execution_count": 210,
   "metadata": {
    "collapsed": false
   },
   "outputs": [],
   "source": [
    "#Copute the rank of the students' GPAs, by major\n",
    "#Ties are assigned the \"best\" rank\n",
    "gpa_ranks = students_df.groupby('major')['gpa'].rank(method='min', ascending=False)"
   ]
  },
  {
   "cell_type": "code",
   "execution_count": 211,
   "metadata": {
    "collapsed": false
   },
   "outputs": [
    {
     "data": {
      "text/plain": [
       "student_id\n",
       "5a397209-3782-4764-a285-10fae807ee71    1675.0\n",
       "e26c3d69-3c74-49b6-81d7-47232787fad9    1026.0\n",
       "975c1581-5ba2-430c-a3d1-01ce03bd83f9    1657.0\n",
       "6081f91d-365c-46ce-ad1b-38af120781d9      32.0\n",
       "84cec8f4-0b64-44ce-a628-c0eb73f6ca6f       1.0\n",
       "Name: gpa, dtype: float64"
      ]
     },
     "execution_count": 211,
     "metadata": {},
     "output_type": "execute_result"
    }
   ],
   "source": [
    "gpa_ranks.head()"
   ]
  },
  {
   "cell_type": "code",
   "execution_count": 212,
   "metadata": {
    "collapsed": false
   },
   "outputs": [
    {
     "data": {
      "text/html": [
       "<div>\n",
       "<style>\n",
       "    .dataframe thead tr:only-child th {\n",
       "        text-align: right;\n",
       "    }\n",
       "\n",
       "    .dataframe thead th {\n",
       "        text-align: left;\n",
       "    }\n",
       "\n",
       "    .dataframe tbody tr th {\n",
       "        vertical-align: top;\n",
       "    }\n",
       "</style>\n",
       "<table border=\"1\" class=\"dataframe\">\n",
       "  <thead>\n",
       "    <tr style=\"text-align: right;\">\n",
       "      <th></th>\n",
       "      <th>first</th>\n",
       "      <th>last</th>\n",
       "      <th>gender</th>\n",
       "      <th>class</th>\n",
       "      <th>major</th>\n",
       "      <th>gpa</th>\n",
       "      <th>gpa_rank</th>\n",
       "    </tr>\n",
       "    <tr>\n",
       "      <th>student_id</th>\n",
       "      <th></th>\n",
       "      <th></th>\n",
       "      <th></th>\n",
       "      <th></th>\n",
       "      <th></th>\n",
       "      <th></th>\n",
       "      <th></th>\n",
       "    </tr>\n",
       "  </thead>\n",
       "  <tbody>\n",
       "    <tr>\n",
       "      <th>5a397209-3782-4764-a285-10fae807ee71</th>\n",
       "      <td>Janis</td>\n",
       "      <td>Brown</td>\n",
       "      <td>Female</td>\n",
       "      <td>Junior</td>\n",
       "      <td>Economics</td>\n",
       "      <td>3.12</td>\n",
       "      <td>1675</td>\n",
       "    </tr>\n",
       "    <tr>\n",
       "      <th>e26c3d69-3c74-49b6-81d7-47232787fad9</th>\n",
       "      <td>Timothy</td>\n",
       "      <td>Bishop</td>\n",
       "      <td>Male</td>\n",
       "      <td>Sophomore</td>\n",
       "      <td>Economics</td>\n",
       "      <td>3.48</td>\n",
       "      <td>1026</td>\n",
       "    </tr>\n",
       "    <tr>\n",
       "      <th>975c1581-5ba2-430c-a3d1-01ce03bd83f9</th>\n",
       "      <td>Elizabeth</td>\n",
       "      <td>Owens</td>\n",
       "      <td>Female</td>\n",
       "      <td>Freshman</td>\n",
       "      <td>Finance</td>\n",
       "      <td>3.40</td>\n",
       "      <td>1657</td>\n",
       "    </tr>\n",
       "    <tr>\n",
       "      <th>6081f91d-365c-46ce-ad1b-38af120781d9</th>\n",
       "      <td>Edward</td>\n",
       "      <td>Pearson</td>\n",
       "      <td>Male</td>\n",
       "      <td>Freshman</td>\n",
       "      <td>Math</td>\n",
       "      <td>3.84</td>\n",
       "      <td>32</td>\n",
       "    </tr>\n",
       "    <tr>\n",
       "      <th>84cec8f4-0b64-44ce-a628-c0eb73f6ca6f</th>\n",
       "      <td>Lisa</td>\n",
       "      <td>Gonzalez</td>\n",
       "      <td>Female</td>\n",
       "      <td>Junior</td>\n",
       "      <td>Finance</td>\n",
       "      <td>4.00</td>\n",
       "      <td>1</td>\n",
       "    </tr>\n",
       "  </tbody>\n",
       "</table>\n",
       "</div>"
      ],
      "text/plain": [
       "                                          first      last  gender      class  \\\n",
       "student_id                                                                     \n",
       "5a397209-3782-4764-a285-10fae807ee71      Janis     Brown  Female     Junior   \n",
       "e26c3d69-3c74-49b6-81d7-47232787fad9    Timothy    Bishop    Male  Sophomore   \n",
       "975c1581-5ba2-430c-a3d1-01ce03bd83f9  Elizabeth     Owens  Female   Freshman   \n",
       "6081f91d-365c-46ce-ad1b-38af120781d9     Edward   Pearson    Male   Freshman   \n",
       "84cec8f4-0b64-44ce-a628-c0eb73f6ca6f       Lisa  Gonzalez  Female     Junior   \n",
       "\n",
       "                                          major   gpa  gpa_rank  \n",
       "student_id                                                       \n",
       "5a397209-3782-4764-a285-10fae807ee71  Economics  3.12      1675  \n",
       "e26c3d69-3c74-49b6-81d7-47232787fad9  Economics  3.48      1026  \n",
       "975c1581-5ba2-430c-a3d1-01ce03bd83f9    Finance  3.40      1657  \n",
       "6081f91d-365c-46ce-ad1b-38af120781d9       Math  3.84        32  \n",
       "84cec8f4-0b64-44ce-a628-c0eb73f6ca6f    Finance  4.00         1  "
      ]
     },
     "execution_count": 212,
     "metadata": {},
     "output_type": "execute_result"
    }
   ],
   "source": [
    "#We can assign a new column the same way we add data to a dictionary. \n",
    "#In this case we are adding a new column (would be key in a dictionary) and assigning it a value of the gpa_ranks Series\n",
    "students_df['gpa_rank'] = gpa_ranks.astype(int) #Ranks returned as floats, so we converted them to integers using .astype()\n",
    "students_df.head()"
   ]
  },
  {
   "cell_type": "code",
   "execution_count": 221,
   "metadata": {
    "collapsed": true
   },
   "outputs": [],
   "source": [
    "students_df = students_df.sort_values(['major', 'gpa_rank'])"
   ]
  },
  {
   "cell_type": "code",
   "execution_count": 222,
   "metadata": {
    "collapsed": false
   },
   "outputs": [
    {
     "data": {
      "text/html": [
       "<div>\n",
       "<style>\n",
       "    .dataframe thead tr:only-child th {\n",
       "        text-align: right;\n",
       "    }\n",
       "\n",
       "    .dataframe thead th {\n",
       "        text-align: left;\n",
       "    }\n",
       "\n",
       "    .dataframe tbody tr th {\n",
       "        vertical-align: top;\n",
       "    }\n",
       "</style>\n",
       "<table border=\"1\" class=\"dataframe\">\n",
       "  <thead>\n",
       "    <tr style=\"text-align: right;\">\n",
       "      <th></th>\n",
       "      <th>first</th>\n",
       "      <th>last</th>\n",
       "      <th>gender</th>\n",
       "      <th>class</th>\n",
       "      <th>major</th>\n",
       "      <th>gpa</th>\n",
       "      <th>gpa_rank</th>\n",
       "    </tr>\n",
       "    <tr>\n",
       "      <th>student_id</th>\n",
       "      <th></th>\n",
       "      <th></th>\n",
       "      <th></th>\n",
       "      <th></th>\n",
       "      <th></th>\n",
       "      <th></th>\n",
       "      <th></th>\n",
       "    </tr>\n",
       "  </thead>\n",
       "  <tbody>\n",
       "    <tr>\n",
       "      <th>c52f24b1-34fc-48ca-a4fb-627a4cda0365</th>\n",
       "      <td>Cinthia</td>\n",
       "      <td>Gonzalez</td>\n",
       "      <td>Female</td>\n",
       "      <td>Freshman</td>\n",
       "      <td>Chemistry</td>\n",
       "      <td>4.00</td>\n",
       "      <td>1</td>\n",
       "    </tr>\n",
       "    <tr>\n",
       "      <th>baa2901d-a51c-4a3f-b7a5-8d21b8ef1962</th>\n",
       "      <td>Donna</td>\n",
       "      <td>Thompson</td>\n",
       "      <td>Female</td>\n",
       "      <td>Freshman</td>\n",
       "      <td>Chemistry</td>\n",
       "      <td>4.00</td>\n",
       "      <td>1</td>\n",
       "    </tr>\n",
       "    <tr>\n",
       "      <th>13a5fabf-787b-4f40-8609-08366ebae350</th>\n",
       "      <td>Roger</td>\n",
       "      <td>Daise</td>\n",
       "      <td>Male</td>\n",
       "      <td>Freshman</td>\n",
       "      <td>Chemistry</td>\n",
       "      <td>4.00</td>\n",
       "      <td>1</td>\n",
       "    </tr>\n",
       "    <tr>\n",
       "      <th>3063e328-9e0d-4ac7-b576-af47b6c453fa</th>\n",
       "      <td>Margie</td>\n",
       "      <td>Levin</td>\n",
       "      <td>Female</td>\n",
       "      <td>Freshman</td>\n",
       "      <td>Chemistry</td>\n",
       "      <td>4.00</td>\n",
       "      <td>1</td>\n",
       "    </tr>\n",
       "    <tr>\n",
       "      <th>693cd228-ac6b-4d38-8a0c-eea00454ad5f</th>\n",
       "      <td>Marion</td>\n",
       "      <td>Martinez</td>\n",
       "      <td>Female</td>\n",
       "      <td>Freshman</td>\n",
       "      <td>Chemistry</td>\n",
       "      <td>4.00</td>\n",
       "      <td>1</td>\n",
       "    </tr>\n",
       "    <tr>\n",
       "      <th>e9934d1a-d1aa-42ba-8633-8bb46c7dd8c1</th>\n",
       "      <td>Emily</td>\n",
       "      <td>Capozzoli</td>\n",
       "      <td>Female</td>\n",
       "      <td>Freshman</td>\n",
       "      <td>Chemistry</td>\n",
       "      <td>4.00</td>\n",
       "      <td>1</td>\n",
       "    </tr>\n",
       "    <tr>\n",
       "      <th>6a54ada8-b1fc-481d-aad4-db3aaf5f0d8a</th>\n",
       "      <td>Jana</td>\n",
       "      <td>Zumwalt</td>\n",
       "      <td>Female</td>\n",
       "      <td>Freshman</td>\n",
       "      <td>Chemistry</td>\n",
       "      <td>4.00</td>\n",
       "      <td>1</td>\n",
       "    </tr>\n",
       "    <tr>\n",
       "      <th>c66bca9c-8f6e-4a20-8463-01f0caba2a35</th>\n",
       "      <td>Maxine</td>\n",
       "      <td>Baker</td>\n",
       "      <td>Female</td>\n",
       "      <td>Freshman</td>\n",
       "      <td>Chemistry</td>\n",
       "      <td>4.00</td>\n",
       "      <td>1</td>\n",
       "    </tr>\n",
       "    <tr>\n",
       "      <th>c5b5f9de-f746-4399-90ba-5cb91519e344</th>\n",
       "      <td>Emilee</td>\n",
       "      <td>Alexander</td>\n",
       "      <td>Female</td>\n",
       "      <td>Freshman</td>\n",
       "      <td>Chemistry</td>\n",
       "      <td>4.00</td>\n",
       "      <td>1</td>\n",
       "    </tr>\n",
       "    <tr>\n",
       "      <th>b9aa2367-d178-418c-8c34-72e532d8cb88</th>\n",
       "      <td>Raul</td>\n",
       "      <td>Getz</td>\n",
       "      <td>Male</td>\n",
       "      <td>Freshman</td>\n",
       "      <td>Chemistry</td>\n",
       "      <td>3.99</td>\n",
       "      <td>47</td>\n",
       "    </tr>\n",
       "    <tr>\n",
       "      <th>c85d9c35-9d3b-4b15-b502-3b039aa8852a</th>\n",
       "      <td>Linda</td>\n",
       "      <td>Roop</td>\n",
       "      <td>Female</td>\n",
       "      <td>Freshman</td>\n",
       "      <td>Chemistry</td>\n",
       "      <td>3.99</td>\n",
       "      <td>47</td>\n",
       "    </tr>\n",
       "    <tr>\n",
       "      <th>d1c32297-d248-4e7a-ab99-6e5094c580e9</th>\n",
       "      <td>Maria</td>\n",
       "      <td>Lally</td>\n",
       "      <td>Female</td>\n",
       "      <td>Freshman</td>\n",
       "      <td>Chemistry</td>\n",
       "      <td>3.98</td>\n",
       "      <td>52</td>\n",
       "    </tr>\n",
       "    <tr>\n",
       "      <th>48cfb87b-8e68-49ff-80ae-858ce17ac89e</th>\n",
       "      <td>Lupita</td>\n",
       "      <td>Ponyah</td>\n",
       "      <td>Female</td>\n",
       "      <td>Freshman</td>\n",
       "      <td>Chemistry</td>\n",
       "      <td>3.98</td>\n",
       "      <td>52</td>\n",
       "    </tr>\n",
       "    <tr>\n",
       "      <th>2aef8f25-e05a-4af3-83a0-706e15d78a5e</th>\n",
       "      <td>Lori</td>\n",
       "      <td>Podolsky</td>\n",
       "      <td>Female</td>\n",
       "      <td>Freshman</td>\n",
       "      <td>Chemistry</td>\n",
       "      <td>3.97</td>\n",
       "      <td>56</td>\n",
       "    </tr>\n",
       "    <tr>\n",
       "      <th>313b5442-a082-4953-9596-445b9e67a31c</th>\n",
       "      <td>Bonnie</td>\n",
       "      <td>Mercer</td>\n",
       "      <td>Female</td>\n",
       "      <td>Freshman</td>\n",
       "      <td>Chemistry</td>\n",
       "      <td>3.97</td>\n",
       "      <td>56</td>\n",
       "    </tr>\n",
       "    <tr>\n",
       "      <th>4460a0a7-cede-4868-a960-f38eebf7f6fe</th>\n",
       "      <td>Elizabeth</td>\n",
       "      <td>Loree</td>\n",
       "      <td>Female</td>\n",
       "      <td>Freshman</td>\n",
       "      <td>Chemistry</td>\n",
       "      <td>3.93</td>\n",
       "      <td>65</td>\n",
       "    </tr>\n",
       "    <tr>\n",
       "      <th>38b6af43-f510-405a-8c87-3fe003b95719</th>\n",
       "      <td>Helen</td>\n",
       "      <td>Easley</td>\n",
       "      <td>Female</td>\n",
       "      <td>Freshman</td>\n",
       "      <td>Chemistry</td>\n",
       "      <td>3.93</td>\n",
       "      <td>65</td>\n",
       "    </tr>\n",
       "    <tr>\n",
       "      <th>52d5c413-e0ff-4d03-a0c2-fa1a53e5bfbe</th>\n",
       "      <td>Joseph</td>\n",
       "      <td>Galvan</td>\n",
       "      <td>Male</td>\n",
       "      <td>Freshman</td>\n",
       "      <td>Chemistry</td>\n",
       "      <td>3.93</td>\n",
       "      <td>65</td>\n",
       "    </tr>\n",
       "    <tr>\n",
       "      <th>5f6f22cd-be98-483e-ac14-0b1c9b1c2857</th>\n",
       "      <td>Russell</td>\n",
       "      <td>Hutcherson</td>\n",
       "      <td>Male</td>\n",
       "      <td>Freshman</td>\n",
       "      <td>Chemistry</td>\n",
       "      <td>3.91</td>\n",
       "      <td>72</td>\n",
       "    </tr>\n",
       "    <tr>\n",
       "      <th>1bd6836f-7d86-43ae-aa4b-585c20661735</th>\n",
       "      <td>Chelsea</td>\n",
       "      <td>Barlow</td>\n",
       "      <td>Female</td>\n",
       "      <td>Freshman</td>\n",
       "      <td>Chemistry</td>\n",
       "      <td>3.90</td>\n",
       "      <td>76</td>\n",
       "    </tr>\n",
       "  </tbody>\n",
       "</table>\n",
       "</div>"
      ],
      "text/plain": [
       "                                          first        last  gender     class  \\\n",
       "student_id                                                                      \n",
       "c52f24b1-34fc-48ca-a4fb-627a4cda0365    Cinthia    Gonzalez  Female  Freshman   \n",
       "baa2901d-a51c-4a3f-b7a5-8d21b8ef1962      Donna    Thompson  Female  Freshman   \n",
       "13a5fabf-787b-4f40-8609-08366ebae350      Roger       Daise    Male  Freshman   \n",
       "3063e328-9e0d-4ac7-b576-af47b6c453fa     Margie       Levin  Female  Freshman   \n",
       "693cd228-ac6b-4d38-8a0c-eea00454ad5f     Marion    Martinez  Female  Freshman   \n",
       "e9934d1a-d1aa-42ba-8633-8bb46c7dd8c1      Emily   Capozzoli  Female  Freshman   \n",
       "6a54ada8-b1fc-481d-aad4-db3aaf5f0d8a       Jana     Zumwalt  Female  Freshman   \n",
       "c66bca9c-8f6e-4a20-8463-01f0caba2a35     Maxine       Baker  Female  Freshman   \n",
       "c5b5f9de-f746-4399-90ba-5cb91519e344     Emilee   Alexander  Female  Freshman   \n",
       "b9aa2367-d178-418c-8c34-72e532d8cb88       Raul        Getz    Male  Freshman   \n",
       "c85d9c35-9d3b-4b15-b502-3b039aa8852a      Linda        Roop  Female  Freshman   \n",
       "d1c32297-d248-4e7a-ab99-6e5094c580e9      Maria       Lally  Female  Freshman   \n",
       "48cfb87b-8e68-49ff-80ae-858ce17ac89e     Lupita      Ponyah  Female  Freshman   \n",
       "2aef8f25-e05a-4af3-83a0-706e15d78a5e       Lori    Podolsky  Female  Freshman   \n",
       "313b5442-a082-4953-9596-445b9e67a31c     Bonnie      Mercer  Female  Freshman   \n",
       "4460a0a7-cede-4868-a960-f38eebf7f6fe  Elizabeth       Loree  Female  Freshman   \n",
       "38b6af43-f510-405a-8c87-3fe003b95719      Helen      Easley  Female  Freshman   \n",
       "52d5c413-e0ff-4d03-a0c2-fa1a53e5bfbe     Joseph      Galvan    Male  Freshman   \n",
       "5f6f22cd-be98-483e-ac14-0b1c9b1c2857    Russell  Hutcherson    Male  Freshman   \n",
       "1bd6836f-7d86-43ae-aa4b-585c20661735    Chelsea      Barlow  Female  Freshman   \n",
       "\n",
       "                                          major   gpa  gpa_rank  \n",
       "student_id                                                       \n",
       "c52f24b1-34fc-48ca-a4fb-627a4cda0365  Chemistry  4.00         1  \n",
       "baa2901d-a51c-4a3f-b7a5-8d21b8ef1962  Chemistry  4.00         1  \n",
       "13a5fabf-787b-4f40-8609-08366ebae350  Chemistry  4.00         1  \n",
       "3063e328-9e0d-4ac7-b576-af47b6c453fa  Chemistry  4.00         1  \n",
       "693cd228-ac6b-4d38-8a0c-eea00454ad5f  Chemistry  4.00         1  \n",
       "e9934d1a-d1aa-42ba-8633-8bb46c7dd8c1  Chemistry  4.00         1  \n",
       "6a54ada8-b1fc-481d-aad4-db3aaf5f0d8a  Chemistry  4.00         1  \n",
       "c66bca9c-8f6e-4a20-8463-01f0caba2a35  Chemistry  4.00         1  \n",
       "c5b5f9de-f746-4399-90ba-5cb91519e344  Chemistry  4.00         1  \n",
       "b9aa2367-d178-418c-8c34-72e532d8cb88  Chemistry  3.99        47  \n",
       "c85d9c35-9d3b-4b15-b502-3b039aa8852a  Chemistry  3.99        47  \n",
       "d1c32297-d248-4e7a-ab99-6e5094c580e9  Chemistry  3.98        52  \n",
       "48cfb87b-8e68-49ff-80ae-858ce17ac89e  Chemistry  3.98        52  \n",
       "2aef8f25-e05a-4af3-83a0-706e15d78a5e  Chemistry  3.97        56  \n",
       "313b5442-a082-4953-9596-445b9e67a31c  Chemistry  3.97        56  \n",
       "4460a0a7-cede-4868-a960-f38eebf7f6fe  Chemistry  3.93        65  \n",
       "38b6af43-f510-405a-8c87-3fe003b95719  Chemistry  3.93        65  \n",
       "52d5c413-e0ff-4d03-a0c2-fa1a53e5bfbe  Chemistry  3.93        65  \n",
       "5f6f22cd-be98-483e-ac14-0b1c9b1c2857  Chemistry  3.91        72  \n",
       "1bd6836f-7d86-43ae-aa4b-585c20661735  Chemistry  3.90        76  "
      ]
     },
     "execution_count": 222,
     "metadata": {},
     "output_type": "execute_result"
    }
   ],
   "source": [
    "students_df.head(20)"
   ]
  },
  {
   "cell_type": "markdown",
   "metadata": {},
   "source": [
    "### Modifying DataFrames\n",
    "\n",
    "Sometimes you need to modify a DataFrame to help you with your analyses. This might entail reordering columns, renaming columns, or setting the index (there are MANY more things to modify, but these are a good start).\n",
    "\n",
    "Keep in mind that these modifications can't just be \"done\" to a DataFrame. The changes must be saved into a variable - though it can be saved into the exact same variable that we started with.\n",
    "\n",
    "Let's start by setting the index.\n",
    "\n",
    "#### Setting the Index\n",
    "\n",
    "Indices are important because they make it easy for us to access data we want. In our *`student_directory`* dictionary from previous lectures, we were able to access the information of a specific student by passing the dictionary the student ID (rather than having to search in a list until we found a particular student). Using the .loc method allows us to do that. We can set the index using the code in the cell below."
   ]
  },
  {
   "cell_type": "code",
   "execution_count": 46,
   "metadata": {
    "collapsed": false
   },
   "outputs": [
    {
     "data": {
      "text/html": [
       "<div>\n",
       "<style>\n",
       "    .dataframe thead tr:only-child th {\n",
       "        text-align: right;\n",
       "    }\n",
       "\n",
       "    .dataframe thead th {\n",
       "        text-align: left;\n",
       "    }\n",
       "\n",
       "    .dataframe tbody tr th {\n",
       "        vertical-align: top;\n",
       "    }\n",
       "</style>\n",
       "<table border=\"1\" class=\"dataframe\">\n",
       "  <thead>\n",
       "    <tr style=\"text-align: right;\">\n",
       "      <th></th>\n",
       "      <th>first</th>\n",
       "      <th>last</th>\n",
       "      <th>gender</th>\n",
       "      <th>class</th>\n",
       "      <th>major</th>\n",
       "      <th>gpa</th>\n",
       "    </tr>\n",
       "    <tr>\n",
       "      <th>student_id</th>\n",
       "      <th></th>\n",
       "      <th></th>\n",
       "      <th></th>\n",
       "      <th></th>\n",
       "      <th></th>\n",
       "      <th></th>\n",
       "    </tr>\n",
       "  </thead>\n",
       "  <tbody>\n",
       "    <tr>\n",
       "      <th>5a397209-3782-4764-a285-10fae807ee71</th>\n",
       "      <td>Janis</td>\n",
       "      <td>Brown</td>\n",
       "      <td>Female</td>\n",
       "      <td>Junior</td>\n",
       "      <td>Economics</td>\n",
       "      <td>3.12</td>\n",
       "    </tr>\n",
       "    <tr>\n",
       "      <th>e26c3d69-3c74-49b6-81d7-47232787fad9</th>\n",
       "      <td>Timothy</td>\n",
       "      <td>Bishop</td>\n",
       "      <td>Male</td>\n",
       "      <td>Sophomore</td>\n",
       "      <td>Economics</td>\n",
       "      <td>3.48</td>\n",
       "    </tr>\n",
       "    <tr>\n",
       "      <th>975c1581-5ba2-430c-a3d1-01ce03bd83f9</th>\n",
       "      <td>Elizabeth</td>\n",
       "      <td>Owens</td>\n",
       "      <td>Female</td>\n",
       "      <td>Freshman</td>\n",
       "      <td>Finance</td>\n",
       "      <td>3.40</td>\n",
       "    </tr>\n",
       "    <tr>\n",
       "      <th>6081f91d-365c-46ce-ad1b-38af120781d9</th>\n",
       "      <td>Edward</td>\n",
       "      <td>Pearson</td>\n",
       "      <td>Male</td>\n",
       "      <td>Freshman</td>\n",
       "      <td>Math</td>\n",
       "      <td>3.84</td>\n",
       "    </tr>\n",
       "    <tr>\n",
       "      <th>84cec8f4-0b64-44ce-a628-c0eb73f6ca6f</th>\n",
       "      <td>Lisa</td>\n",
       "      <td>Gonzalez</td>\n",
       "      <td>Female</td>\n",
       "      <td>Junior</td>\n",
       "      <td>Finance</td>\n",
       "      <td>4.00</td>\n",
       "    </tr>\n",
       "  </tbody>\n",
       "</table>\n",
       "</div>"
      ],
      "text/plain": [
       "                                          first      last  gender      class  \\\n",
       "student_id                                                                     \n",
       "5a397209-3782-4764-a285-10fae807ee71      Janis     Brown  Female     Junior   \n",
       "e26c3d69-3c74-49b6-81d7-47232787fad9    Timothy    Bishop    Male  Sophomore   \n",
       "975c1581-5ba2-430c-a3d1-01ce03bd83f9  Elizabeth     Owens  Female   Freshman   \n",
       "6081f91d-365c-46ce-ad1b-38af120781d9     Edward   Pearson    Male   Freshman   \n",
       "84cec8f4-0b64-44ce-a628-c0eb73f6ca6f       Lisa  Gonzalez  Female     Junior   \n",
       "\n",
       "                                          major   gpa  \n",
       "student_id                                             \n",
       "5a397209-3782-4764-a285-10fae807ee71  Economics  3.12  \n",
       "e26c3d69-3c74-49b6-81d7-47232787fad9  Economics  3.48  \n",
       "975c1581-5ba2-430c-a3d1-01ce03bd83f9    Finance  3.40  \n",
       "6081f91d-365c-46ce-ad1b-38af120781d9       Math  3.84  \n",
       "84cec8f4-0b64-44ce-a628-c0eb73f6ca6f    Finance  4.00  "
      ]
     },
     "execution_count": 46,
     "metadata": {},
     "output_type": "execute_result"
    }
   ],
   "source": [
    "students_df = students_df.set_index('student_id')\n",
    "students_df.head()"
   ]
  },
  {
   "cell_type": "markdown",
   "metadata": {},
   "source": [
    "You should be able to see that the previous index of integers is now gone. We can now access a single student's information like this:"
   ]
  },
  {
   "cell_type": "code",
   "execution_count": 47,
   "metadata": {
    "collapsed": false
   },
   "outputs": [
    {
     "data": {
      "text/plain": [
       "first         Lisa\n",
       "last      Gonzalez\n",
       "gender      Female\n",
       "class       Junior\n",
       "major      Finance\n",
       "gpa              4\n",
       "Name: 84cec8f4-0b64-44ce-a628-c0eb73f6ca6f, dtype: object"
      ]
     },
     "execution_count": 47,
     "metadata": {},
     "output_type": "execute_result"
    }
   ],
   "source": [
    "students_df.loc['84cec8f4-0b64-44ce-a628-c0eb73f6ca6f']"
   ]
  },
  {
   "cell_type": "markdown",
   "metadata": {},
   "source": [
    "It is critical to understand that once you set the index like this, the column `student_id` no longer exists. If I try to get the student IDs like I used to, I will get an error. I can still access the IDs, but now I have to access it via the index as follows:"
   ]
  },
  {
   "cell_type": "code",
   "execution_count": 51,
   "metadata": {
    "collapsed": false
   },
   "outputs": [
    {
     "data": {
      "text/plain": [
       "Index(['5a397209-3782-4764-a285-10fae807ee71',\n",
       "       'e26c3d69-3c74-49b6-81d7-47232787fad9',\n",
       "       '975c1581-5ba2-430c-a3d1-01ce03bd83f9',\n",
       "       '6081f91d-365c-46ce-ad1b-38af120781d9',\n",
       "       '84cec8f4-0b64-44ce-a628-c0eb73f6ca6f',\n",
       "       '6c849c3e-e640-4bba-a86a-4323fd513b90',\n",
       "       'a5c87c39-447c-4c29-92af-fa702a8d5595',\n",
       "       'f6b177e8-e00a-480e-b62e-906c2ad80f85',\n",
       "       '8387594f-c9b2-4daa-ae93-c3e40f58cb26',\n",
       "       '156aefe7-73b4-4777-929c-7aa9c0cd35c5',\n",
       "       ...\n",
       "       '3927810e-476d-45db-b88c-660e00385ae5',\n",
       "       '6b8c4f7a-546d-41d5-978f-d461c287fba1',\n",
       "       'c32e6f19-817d-4e60-bf20-ed7ca573a7f7',\n",
       "       '32606dc2-862b-45cc-b0ac-f2b24253abdf',\n",
       "       '8dc612f4-8150-4045-9e2d-cf160fb71da4',\n",
       "       '3f1f6525-3ec0-4184-b435-c829419bf582',\n",
       "       'bc551659-ba48-447e-aa6a-0c2f49aaa9c1',\n",
       "       '4884e643-4a94-4362-a422-604763401487',\n",
       "       '034754f5-50dd-42e5-a916-cc6c9d9d0131',\n",
       "       '75c02f31-566f-439e-875e-5af9fe412977'],\n",
       "      dtype='object', name='student_id', length=10000)"
      ]
     },
     "execution_count": 51,
     "metadata": {},
     "output_type": "execute_result"
    }
   ],
   "source": [
    "students_df.index"
   ]
  },
  {
   "cell_type": "markdown",
   "metadata": {},
   "source": [
    "If we want to re-establish the integers as the index and move the student_id data back to a column, we can simply reset the index as we do below:"
   ]
  },
  {
   "cell_type": "code",
   "execution_count": 52,
   "metadata": {
    "collapsed": false
   },
   "outputs": [
    {
     "data": {
      "text/html": [
       "<div>\n",
       "<style>\n",
       "    .dataframe thead tr:only-child th {\n",
       "        text-align: right;\n",
       "    }\n",
       "\n",
       "    .dataframe thead th {\n",
       "        text-align: left;\n",
       "    }\n",
       "\n",
       "    .dataframe tbody tr th {\n",
       "        vertical-align: top;\n",
       "    }\n",
       "</style>\n",
       "<table border=\"1\" class=\"dataframe\">\n",
       "  <thead>\n",
       "    <tr style=\"text-align: right;\">\n",
       "      <th></th>\n",
       "      <th>student_id</th>\n",
       "      <th>first</th>\n",
       "      <th>last</th>\n",
       "      <th>gender</th>\n",
       "      <th>class</th>\n",
       "      <th>major</th>\n",
       "      <th>gpa</th>\n",
       "    </tr>\n",
       "  </thead>\n",
       "  <tbody>\n",
       "    <tr>\n",
       "      <th>0</th>\n",
       "      <td>5a397209-3782-4764-a285-10fae807ee71</td>\n",
       "      <td>Janis</td>\n",
       "      <td>Brown</td>\n",
       "      <td>Female</td>\n",
       "      <td>Junior</td>\n",
       "      <td>Economics</td>\n",
       "      <td>3.12</td>\n",
       "    </tr>\n",
       "    <tr>\n",
       "      <th>1</th>\n",
       "      <td>e26c3d69-3c74-49b6-81d7-47232787fad9</td>\n",
       "      <td>Timothy</td>\n",
       "      <td>Bishop</td>\n",
       "      <td>Male</td>\n",
       "      <td>Sophomore</td>\n",
       "      <td>Economics</td>\n",
       "      <td>3.48</td>\n",
       "    </tr>\n",
       "    <tr>\n",
       "      <th>2</th>\n",
       "      <td>975c1581-5ba2-430c-a3d1-01ce03bd83f9</td>\n",
       "      <td>Elizabeth</td>\n",
       "      <td>Owens</td>\n",
       "      <td>Female</td>\n",
       "      <td>Freshman</td>\n",
       "      <td>Finance</td>\n",
       "      <td>3.40</td>\n",
       "    </tr>\n",
       "    <tr>\n",
       "      <th>3</th>\n",
       "      <td>6081f91d-365c-46ce-ad1b-38af120781d9</td>\n",
       "      <td>Edward</td>\n",
       "      <td>Pearson</td>\n",
       "      <td>Male</td>\n",
       "      <td>Freshman</td>\n",
       "      <td>Math</td>\n",
       "      <td>3.84</td>\n",
       "    </tr>\n",
       "    <tr>\n",
       "      <th>4</th>\n",
       "      <td>84cec8f4-0b64-44ce-a628-c0eb73f6ca6f</td>\n",
       "      <td>Lisa</td>\n",
       "      <td>Gonzalez</td>\n",
       "      <td>Female</td>\n",
       "      <td>Junior</td>\n",
       "      <td>Finance</td>\n",
       "      <td>4.00</td>\n",
       "    </tr>\n",
       "  </tbody>\n",
       "</table>\n",
       "</div>"
      ],
      "text/plain": [
       "                             student_id      first      last  gender  \\\n",
       "0  5a397209-3782-4764-a285-10fae807ee71      Janis     Brown  Female   \n",
       "1  e26c3d69-3c74-49b6-81d7-47232787fad9    Timothy    Bishop    Male   \n",
       "2  975c1581-5ba2-430c-a3d1-01ce03bd83f9  Elizabeth     Owens  Female   \n",
       "3  6081f91d-365c-46ce-ad1b-38af120781d9     Edward   Pearson    Male   \n",
       "4  84cec8f4-0b64-44ce-a628-c0eb73f6ca6f       Lisa  Gonzalez  Female   \n",
       "\n",
       "       class      major   gpa  \n",
       "0     Junior  Economics  3.12  \n",
       "1  Sophomore  Economics  3.48  \n",
       "2   Freshman    Finance  3.40  \n",
       "3   Freshman       Math  3.84  \n",
       "4     Junior    Finance  4.00  "
      ]
     },
     "execution_count": 52,
     "metadata": {},
     "output_type": "execute_result"
    }
   ],
   "source": [
    "students_df = students_df.reset_index()\n",
    "students_df.head()"
   ]
  },
  {
   "cell_type": "markdown",
   "metadata": {},
   "source": [
    "#### Renaming Columns\n",
    "\n",
    "You will often run into a situation where you need to rename columns. Perhaps you're doing an aggregation and you want a better description for the resulting computation. Other times you're going to do a merge of two DataFrames (covered next week) and have repeated names in the two tables. You're going to need/want to change names. There are two ways to change columns in a DataFrame. The number of columns you need to change will determine which way makes the most sense.\n",
    "\n",
    "Imagine we want to format our column names of *`students_df` so they look prettier for presenting. We'd want to capitalize the names and replace underscores with spaces. Here we could just totally replace the attribute of the DataFrame object directly."
   ]
  },
  {
   "cell_type": "code",
   "execution_count": 54,
   "metadata": {
    "collapsed": false
   },
   "outputs": [
    {
     "data": {
      "text/html": [
       "<div>\n",
       "<style>\n",
       "    .dataframe thead tr:only-child th {\n",
       "        text-align: right;\n",
       "    }\n",
       "\n",
       "    .dataframe thead th {\n",
       "        text-align: left;\n",
       "    }\n",
       "\n",
       "    .dataframe tbody tr th {\n",
       "        vertical-align: top;\n",
       "    }\n",
       "</style>\n",
       "<table border=\"1\" class=\"dataframe\">\n",
       "  <thead>\n",
       "    <tr style=\"text-align: right;\">\n",
       "      <th></th>\n",
       "      <th>Student ID</th>\n",
       "      <th>First</th>\n",
       "      <th>Last</th>\n",
       "      <th>Gender</th>\n",
       "      <th>Class</th>\n",
       "      <th>Major</th>\n",
       "      <th>GPA</th>\n",
       "    </tr>\n",
       "  </thead>\n",
       "  <tbody>\n",
       "    <tr>\n",
       "      <th>0</th>\n",
       "      <td>5a397209-3782-4764-a285-10fae807ee71</td>\n",
       "      <td>Janis</td>\n",
       "      <td>Brown</td>\n",
       "      <td>Female</td>\n",
       "      <td>Junior</td>\n",
       "      <td>Economics</td>\n",
       "      <td>3.12</td>\n",
       "    </tr>\n",
       "    <tr>\n",
       "      <th>1</th>\n",
       "      <td>e26c3d69-3c74-49b6-81d7-47232787fad9</td>\n",
       "      <td>Timothy</td>\n",
       "      <td>Bishop</td>\n",
       "      <td>Male</td>\n",
       "      <td>Sophomore</td>\n",
       "      <td>Economics</td>\n",
       "      <td>3.48</td>\n",
       "    </tr>\n",
       "    <tr>\n",
       "      <th>2</th>\n",
       "      <td>975c1581-5ba2-430c-a3d1-01ce03bd83f9</td>\n",
       "      <td>Elizabeth</td>\n",
       "      <td>Owens</td>\n",
       "      <td>Female</td>\n",
       "      <td>Freshman</td>\n",
       "      <td>Finance</td>\n",
       "      <td>3.40</td>\n",
       "    </tr>\n",
       "    <tr>\n",
       "      <th>3</th>\n",
       "      <td>6081f91d-365c-46ce-ad1b-38af120781d9</td>\n",
       "      <td>Edward</td>\n",
       "      <td>Pearson</td>\n",
       "      <td>Male</td>\n",
       "      <td>Freshman</td>\n",
       "      <td>Math</td>\n",
       "      <td>3.84</td>\n",
       "    </tr>\n",
       "    <tr>\n",
       "      <th>4</th>\n",
       "      <td>84cec8f4-0b64-44ce-a628-c0eb73f6ca6f</td>\n",
       "      <td>Lisa</td>\n",
       "      <td>Gonzalez</td>\n",
       "      <td>Female</td>\n",
       "      <td>Junior</td>\n",
       "      <td>Finance</td>\n",
       "      <td>4.00</td>\n",
       "    </tr>\n",
       "  </tbody>\n",
       "</table>\n",
       "</div>"
      ],
      "text/plain": [
       "                             Student ID      First      Last  Gender  \\\n",
       "0  5a397209-3782-4764-a285-10fae807ee71      Janis     Brown  Female   \n",
       "1  e26c3d69-3c74-49b6-81d7-47232787fad9    Timothy    Bishop    Male   \n",
       "2  975c1581-5ba2-430c-a3d1-01ce03bd83f9  Elizabeth     Owens  Female   \n",
       "3  6081f91d-365c-46ce-ad1b-38af120781d9     Edward   Pearson    Male   \n",
       "4  84cec8f4-0b64-44ce-a628-c0eb73f6ca6f       Lisa  Gonzalez  Female   \n",
       "\n",
       "       Class      Major   GPA  \n",
       "0     Junior  Economics  3.12  \n",
       "1  Sophomore  Economics  3.48  \n",
       "2   Freshman    Finance  3.40  \n",
       "3   Freshman       Math  3.84  \n",
       "4     Junior    Finance  4.00  "
      ]
     },
     "execution_count": 54,
     "metadata": {},
     "output_type": "execute_result"
    }
   ],
   "source": [
    "students_df.columns = ['Student ID', 'First', 'Last', 'Gender', 'Class', 'Major', 'GPA']\n",
    "students_df.head()"
   ]
  },
  {
   "cell_type": "markdown",
   "metadata": {},
   "source": [
    "We can also rename specific columns.\n",
    "\n",
    "Let's say we think that \"First\" and \"Last\" aren't descriptive enough and we want to add \"Name\" to the end of those columns. We could replicate the code from above and rename all of the columns, but that's somewhat repetitive, and when your DataFrames get bigger, this will be infeasible.\n",
    "\n",
    "The code for renaming specific columns is quite simple. We are essentially creating a mapping of \"previous name\" to \"desired name.\""
   ]
  },
  {
   "cell_type": "code",
   "execution_count": 55,
   "metadata": {
    "collapsed": false
   },
   "outputs": [
    {
     "data": {
      "text/html": [
       "<div>\n",
       "<style>\n",
       "    .dataframe thead tr:only-child th {\n",
       "        text-align: right;\n",
       "    }\n",
       "\n",
       "    .dataframe thead th {\n",
       "        text-align: left;\n",
       "    }\n",
       "\n",
       "    .dataframe tbody tr th {\n",
       "        vertical-align: top;\n",
       "    }\n",
       "</style>\n",
       "<table border=\"1\" class=\"dataframe\">\n",
       "  <thead>\n",
       "    <tr style=\"text-align: right;\">\n",
       "      <th></th>\n",
       "      <th>Student ID</th>\n",
       "      <th>First Name</th>\n",
       "      <th>Last Name</th>\n",
       "      <th>Gender</th>\n",
       "      <th>Class</th>\n",
       "      <th>Major</th>\n",
       "      <th>GPA</th>\n",
       "    </tr>\n",
       "  </thead>\n",
       "  <tbody>\n",
       "    <tr>\n",
       "      <th>0</th>\n",
       "      <td>5a397209-3782-4764-a285-10fae807ee71</td>\n",
       "      <td>Janis</td>\n",
       "      <td>Brown</td>\n",
       "      <td>Female</td>\n",
       "      <td>Junior</td>\n",
       "      <td>Economics</td>\n",
       "      <td>3.12</td>\n",
       "    </tr>\n",
       "    <tr>\n",
       "      <th>1</th>\n",
       "      <td>e26c3d69-3c74-49b6-81d7-47232787fad9</td>\n",
       "      <td>Timothy</td>\n",
       "      <td>Bishop</td>\n",
       "      <td>Male</td>\n",
       "      <td>Sophomore</td>\n",
       "      <td>Economics</td>\n",
       "      <td>3.48</td>\n",
       "    </tr>\n",
       "    <tr>\n",
       "      <th>2</th>\n",
       "      <td>975c1581-5ba2-430c-a3d1-01ce03bd83f9</td>\n",
       "      <td>Elizabeth</td>\n",
       "      <td>Owens</td>\n",
       "      <td>Female</td>\n",
       "      <td>Freshman</td>\n",
       "      <td>Finance</td>\n",
       "      <td>3.40</td>\n",
       "    </tr>\n",
       "    <tr>\n",
       "      <th>3</th>\n",
       "      <td>6081f91d-365c-46ce-ad1b-38af120781d9</td>\n",
       "      <td>Edward</td>\n",
       "      <td>Pearson</td>\n",
       "      <td>Male</td>\n",
       "      <td>Freshman</td>\n",
       "      <td>Math</td>\n",
       "      <td>3.84</td>\n",
       "    </tr>\n",
       "    <tr>\n",
       "      <th>4</th>\n",
       "      <td>84cec8f4-0b64-44ce-a628-c0eb73f6ca6f</td>\n",
       "      <td>Lisa</td>\n",
       "      <td>Gonzalez</td>\n",
       "      <td>Female</td>\n",
       "      <td>Junior</td>\n",
       "      <td>Finance</td>\n",
       "      <td>4.00</td>\n",
       "    </tr>\n",
       "  </tbody>\n",
       "</table>\n",
       "</div>"
      ],
      "text/plain": [
       "                             Student ID First Name Last Name  Gender  \\\n",
       "0  5a397209-3782-4764-a285-10fae807ee71      Janis     Brown  Female   \n",
       "1  e26c3d69-3c74-49b6-81d7-47232787fad9    Timothy    Bishop    Male   \n",
       "2  975c1581-5ba2-430c-a3d1-01ce03bd83f9  Elizabeth     Owens  Female   \n",
       "3  6081f91d-365c-46ce-ad1b-38af120781d9     Edward   Pearson    Male   \n",
       "4  84cec8f4-0b64-44ce-a628-c0eb73f6ca6f       Lisa  Gonzalez  Female   \n",
       "\n",
       "       Class      Major   GPA  \n",
       "0     Junior  Economics  3.12  \n",
       "1  Sophomore  Economics  3.48  \n",
       "2   Freshman    Finance  3.40  \n",
       "3   Freshman       Math  3.84  \n",
       "4     Junior    Finance  4.00  "
      ]
     },
     "execution_count": 55,
     "metadata": {},
     "output_type": "execute_result"
    }
   ],
   "source": [
    "students_df = students_df.rename(columns={'First': 'First Name', 'Last': 'Last Name'})\n",
    "students_df.head()"
   ]
  },
  {
   "cell_type": "markdown",
   "metadata": {},
   "source": [
    "Lastly, if we want to re-order the columns, we just need to access the data in way we want to save it.\n",
    "\n",
    "If you recall, we can get a subset of a DataFrame by passing it a list of columns. For example, if we just wanted the names for each ID we could do this:"
   ]
  },
  {
   "cell_type": "code",
   "execution_count": 56,
   "metadata": {
    "collapsed": false
   },
   "outputs": [
    {
     "data": {
      "text/html": [
       "<div>\n",
       "<style>\n",
       "    .dataframe thead tr:only-child th {\n",
       "        text-align: right;\n",
       "    }\n",
       "\n",
       "    .dataframe thead th {\n",
       "        text-align: left;\n",
       "    }\n",
       "\n",
       "    .dataframe tbody tr th {\n",
       "        vertical-align: top;\n",
       "    }\n",
       "</style>\n",
       "<table border=\"1\" class=\"dataframe\">\n",
       "  <thead>\n",
       "    <tr style=\"text-align: right;\">\n",
       "      <th></th>\n",
       "      <th>Student ID</th>\n",
       "      <th>First Name</th>\n",
       "      <th>Last Name</th>\n",
       "    </tr>\n",
       "  </thead>\n",
       "  <tbody>\n",
       "    <tr>\n",
       "      <th>0</th>\n",
       "      <td>5a397209-3782-4764-a285-10fae807ee71</td>\n",
       "      <td>Janis</td>\n",
       "      <td>Brown</td>\n",
       "    </tr>\n",
       "    <tr>\n",
       "      <th>1</th>\n",
       "      <td>e26c3d69-3c74-49b6-81d7-47232787fad9</td>\n",
       "      <td>Timothy</td>\n",
       "      <td>Bishop</td>\n",
       "    </tr>\n",
       "    <tr>\n",
       "      <th>2</th>\n",
       "      <td>975c1581-5ba2-430c-a3d1-01ce03bd83f9</td>\n",
       "      <td>Elizabeth</td>\n",
       "      <td>Owens</td>\n",
       "    </tr>\n",
       "    <tr>\n",
       "      <th>3</th>\n",
       "      <td>6081f91d-365c-46ce-ad1b-38af120781d9</td>\n",
       "      <td>Edward</td>\n",
       "      <td>Pearson</td>\n",
       "    </tr>\n",
       "    <tr>\n",
       "      <th>4</th>\n",
       "      <td>84cec8f4-0b64-44ce-a628-c0eb73f6ca6f</td>\n",
       "      <td>Lisa</td>\n",
       "      <td>Gonzalez</td>\n",
       "    </tr>\n",
       "  </tbody>\n",
       "</table>\n",
       "</div>"
      ],
      "text/plain": [
       "                             Student ID First Name Last Name\n",
       "0  5a397209-3782-4764-a285-10fae807ee71      Janis     Brown\n",
       "1  e26c3d69-3c74-49b6-81d7-47232787fad9    Timothy    Bishop\n",
       "2  975c1581-5ba2-430c-a3d1-01ce03bd83f9  Elizabeth     Owens\n",
       "3  6081f91d-365c-46ce-ad1b-38af120781d9     Edward   Pearson\n",
       "4  84cec8f4-0b64-44ce-a628-c0eb73f6ca6f       Lisa  Gonzalez"
      ]
     },
     "execution_count": 56,
     "metadata": {},
     "output_type": "execute_result"
    }
   ],
   "source": [
    "names = students_df[['Student ID', 'First Name', 'Last Name']]\n",
    "names.head()"
   ]
  },
  {
   "cell_type": "code",
   "execution_count": 57,
   "metadata": {
    "collapsed": false
   },
   "outputs": [
    {
     "data": {
      "text/html": [
       "<div>\n",
       "<style>\n",
       "    .dataframe thead tr:only-child th {\n",
       "        text-align: right;\n",
       "    }\n",
       "\n",
       "    .dataframe thead th {\n",
       "        text-align: left;\n",
       "    }\n",
       "\n",
       "    .dataframe tbody tr th {\n",
       "        vertical-align: top;\n",
       "    }\n",
       "</style>\n",
       "<table border=\"1\" class=\"dataframe\">\n",
       "  <thead>\n",
       "    <tr style=\"text-align: right;\">\n",
       "      <th></th>\n",
       "      <th>Student ID</th>\n",
       "      <th>First Name</th>\n",
       "      <th>Last Name</th>\n",
       "    </tr>\n",
       "  </thead>\n",
       "  <tbody>\n",
       "    <tr>\n",
       "      <th>0</th>\n",
       "      <td>5a397209-3782-4764-a285-10fae807ee71</td>\n",
       "      <td>Janis</td>\n",
       "      <td>Brown</td>\n",
       "    </tr>\n",
       "    <tr>\n",
       "      <th>1</th>\n",
       "      <td>e26c3d69-3c74-49b6-81d7-47232787fad9</td>\n",
       "      <td>Timothy</td>\n",
       "      <td>Bishop</td>\n",
       "    </tr>\n",
       "    <tr>\n",
       "      <th>2</th>\n",
       "      <td>975c1581-5ba2-430c-a3d1-01ce03bd83f9</td>\n",
       "      <td>Elizabeth</td>\n",
       "      <td>Owens</td>\n",
       "    </tr>\n",
       "    <tr>\n",
       "      <th>3</th>\n",
       "      <td>6081f91d-365c-46ce-ad1b-38af120781d9</td>\n",
       "      <td>Edward</td>\n",
       "      <td>Pearson</td>\n",
       "    </tr>\n",
       "    <tr>\n",
       "      <th>4</th>\n",
       "      <td>84cec8f4-0b64-44ce-a628-c0eb73f6ca6f</td>\n",
       "      <td>Lisa</td>\n",
       "      <td>Gonzalez</td>\n",
       "    </tr>\n",
       "  </tbody>\n",
       "</table>\n",
       "</div>"
      ],
      "text/plain": [
       "                             Student ID First Name Last Name\n",
       "0  5a397209-3782-4764-a285-10fae807ee71      Janis     Brown\n",
       "1  e26c3d69-3c74-49b6-81d7-47232787fad9    Timothy    Bishop\n",
       "2  975c1581-5ba2-430c-a3d1-01ce03bd83f9  Elizabeth     Owens\n",
       "3  6081f91d-365c-46ce-ad1b-38af120781d9     Edward   Pearson\n",
       "4  84cec8f4-0b64-44ce-a628-c0eb73f6ca6f       Lisa  Gonzalez"
      ]
     },
     "execution_count": 57,
     "metadata": {},
     "output_type": "execute_result"
    }
   ],
   "source": [
    "#We could also have done this:\n",
    "name_cols = ['Student ID', 'First Name', 'Last Name']\n",
    "names = students_df[name_cols]\n",
    "names.head()"
   ]
  },
  {
   "cell_type": "markdown",
   "metadata": {},
   "source": [
    "Using the same principle, we can simply create the order we want and pass it to our DataFrame."
   ]
  },
  {
   "cell_type": "code",
   "execution_count": 58,
   "metadata": {
    "collapsed": false
   },
   "outputs": [
    {
     "data": {
      "text/html": [
       "<div>\n",
       "<style>\n",
       "    .dataframe thead tr:only-child th {\n",
       "        text-align: right;\n",
       "    }\n",
       "\n",
       "    .dataframe thead th {\n",
       "        text-align: left;\n",
       "    }\n",
       "\n",
       "    .dataframe tbody tr th {\n",
       "        vertical-align: top;\n",
       "    }\n",
       "</style>\n",
       "<table border=\"1\" class=\"dataframe\">\n",
       "  <thead>\n",
       "    <tr style=\"text-align: right;\">\n",
       "      <th></th>\n",
       "      <th>Student ID</th>\n",
       "      <th>Major</th>\n",
       "      <th>Class</th>\n",
       "      <th>GPA</th>\n",
       "      <th>Gender</th>\n",
       "      <th>First Name</th>\n",
       "      <th>Last Name</th>\n",
       "    </tr>\n",
       "  </thead>\n",
       "  <tbody>\n",
       "    <tr>\n",
       "      <th>0</th>\n",
       "      <td>5a397209-3782-4764-a285-10fae807ee71</td>\n",
       "      <td>Economics</td>\n",
       "      <td>Junior</td>\n",
       "      <td>3.12</td>\n",
       "      <td>Female</td>\n",
       "      <td>Janis</td>\n",
       "      <td>Brown</td>\n",
       "    </tr>\n",
       "    <tr>\n",
       "      <th>1</th>\n",
       "      <td>e26c3d69-3c74-49b6-81d7-47232787fad9</td>\n",
       "      <td>Economics</td>\n",
       "      <td>Sophomore</td>\n",
       "      <td>3.48</td>\n",
       "      <td>Male</td>\n",
       "      <td>Timothy</td>\n",
       "      <td>Bishop</td>\n",
       "    </tr>\n",
       "    <tr>\n",
       "      <th>2</th>\n",
       "      <td>975c1581-5ba2-430c-a3d1-01ce03bd83f9</td>\n",
       "      <td>Finance</td>\n",
       "      <td>Freshman</td>\n",
       "      <td>3.40</td>\n",
       "      <td>Female</td>\n",
       "      <td>Elizabeth</td>\n",
       "      <td>Owens</td>\n",
       "    </tr>\n",
       "    <tr>\n",
       "      <th>3</th>\n",
       "      <td>6081f91d-365c-46ce-ad1b-38af120781d9</td>\n",
       "      <td>Math</td>\n",
       "      <td>Freshman</td>\n",
       "      <td>3.84</td>\n",
       "      <td>Male</td>\n",
       "      <td>Edward</td>\n",
       "      <td>Pearson</td>\n",
       "    </tr>\n",
       "    <tr>\n",
       "      <th>4</th>\n",
       "      <td>84cec8f4-0b64-44ce-a628-c0eb73f6ca6f</td>\n",
       "      <td>Finance</td>\n",
       "      <td>Junior</td>\n",
       "      <td>4.00</td>\n",
       "      <td>Female</td>\n",
       "      <td>Lisa</td>\n",
       "      <td>Gonzalez</td>\n",
       "    </tr>\n",
       "  </tbody>\n",
       "</table>\n",
       "</div>"
      ],
      "text/plain": [
       "                             Student ID      Major      Class   GPA  Gender  \\\n",
       "0  5a397209-3782-4764-a285-10fae807ee71  Economics     Junior  3.12  Female   \n",
       "1  e26c3d69-3c74-49b6-81d7-47232787fad9  Economics  Sophomore  3.48    Male   \n",
       "2  975c1581-5ba2-430c-a3d1-01ce03bd83f9    Finance   Freshman  3.40  Female   \n",
       "3  6081f91d-365c-46ce-ad1b-38af120781d9       Math   Freshman  3.84    Male   \n",
       "4  84cec8f4-0b64-44ce-a628-c0eb73f6ca6f    Finance     Junior  4.00  Female   \n",
       "\n",
       "  First Name Last Name  \n",
       "0      Janis     Brown  \n",
       "1    Timothy    Bishop  \n",
       "2  Elizabeth     Owens  \n",
       "3     Edward   Pearson  \n",
       "4       Lisa  Gonzalez  "
      ]
     },
     "execution_count": 58,
     "metadata": {},
     "output_type": "execute_result"
    }
   ],
   "source": [
    "new_order = ['Student ID', 'Major', 'Class', 'GPA', 'Gender', 'First Name', 'Last Name']\n",
    "reordered_df = students_df[new_order]\n",
    "reordered_df.head()"
   ]
  },
  {
   "cell_type": "markdown",
   "metadata": {},
   "source": [
    "#### Inserting Columns\n",
    "\n",
    "Lastly, just to remind you, addding new columns is done exactly like in dictionaries. We simply need to add a new column header (in the same way we add a new key) and provide the data (though remember that the data inserted must be the same length as the DataFrame)."
   ]
  },
  {
   "cell_type": "code",
   "execution_count": 59,
   "metadata": {
    "collapsed": false
   },
   "outputs": [
    {
     "data": {
      "text/html": [
       "<div>\n",
       "<style>\n",
       "    .dataframe thead tr:only-child th {\n",
       "        text-align: right;\n",
       "    }\n",
       "\n",
       "    .dataframe thead th {\n",
       "        text-align: left;\n",
       "    }\n",
       "\n",
       "    .dataframe tbody tr th {\n",
       "        vertical-align: top;\n",
       "    }\n",
       "</style>\n",
       "<table border=\"1\" class=\"dataframe\">\n",
       "  <thead>\n",
       "    <tr style=\"text-align: right;\">\n",
       "      <th></th>\n",
       "      <th>Student ID</th>\n",
       "      <th>First Name</th>\n",
       "      <th>Last Name</th>\n",
       "      <th>Gender</th>\n",
       "      <th>Class</th>\n",
       "      <th>Major</th>\n",
       "      <th>GPA</th>\n",
       "      <th>On Probation</th>\n",
       "    </tr>\n",
       "  </thead>\n",
       "  <tbody>\n",
       "    <tr>\n",
       "      <th>0</th>\n",
       "      <td>5a397209-3782-4764-a285-10fae807ee71</td>\n",
       "      <td>Janis</td>\n",
       "      <td>Brown</td>\n",
       "      <td>Female</td>\n",
       "      <td>Junior</td>\n",
       "      <td>Economics</td>\n",
       "      <td>3.12</td>\n",
       "      <td>False</td>\n",
       "    </tr>\n",
       "    <tr>\n",
       "      <th>1</th>\n",
       "      <td>e26c3d69-3c74-49b6-81d7-47232787fad9</td>\n",
       "      <td>Timothy</td>\n",
       "      <td>Bishop</td>\n",
       "      <td>Male</td>\n",
       "      <td>Sophomore</td>\n",
       "      <td>Economics</td>\n",
       "      <td>3.48</td>\n",
       "      <td>False</td>\n",
       "    </tr>\n",
       "    <tr>\n",
       "      <th>2</th>\n",
       "      <td>975c1581-5ba2-430c-a3d1-01ce03bd83f9</td>\n",
       "      <td>Elizabeth</td>\n",
       "      <td>Owens</td>\n",
       "      <td>Female</td>\n",
       "      <td>Freshman</td>\n",
       "      <td>Finance</td>\n",
       "      <td>3.40</td>\n",
       "      <td>False</td>\n",
       "    </tr>\n",
       "    <tr>\n",
       "      <th>3</th>\n",
       "      <td>6081f91d-365c-46ce-ad1b-38af120781d9</td>\n",
       "      <td>Edward</td>\n",
       "      <td>Pearson</td>\n",
       "      <td>Male</td>\n",
       "      <td>Freshman</td>\n",
       "      <td>Math</td>\n",
       "      <td>3.84</td>\n",
       "      <td>False</td>\n",
       "    </tr>\n",
       "    <tr>\n",
       "      <th>4</th>\n",
       "      <td>84cec8f4-0b64-44ce-a628-c0eb73f6ca6f</td>\n",
       "      <td>Lisa</td>\n",
       "      <td>Gonzalez</td>\n",
       "      <td>Female</td>\n",
       "      <td>Junior</td>\n",
       "      <td>Finance</td>\n",
       "      <td>4.00</td>\n",
       "      <td>False</td>\n",
       "    </tr>\n",
       "  </tbody>\n",
       "</table>\n",
       "</div>"
      ],
      "text/plain": [
       "                             Student ID First Name Last Name  Gender  \\\n",
       "0  5a397209-3782-4764-a285-10fae807ee71      Janis     Brown  Female   \n",
       "1  e26c3d69-3c74-49b6-81d7-47232787fad9    Timothy    Bishop    Male   \n",
       "2  975c1581-5ba2-430c-a3d1-01ce03bd83f9  Elizabeth     Owens  Female   \n",
       "3  6081f91d-365c-46ce-ad1b-38af120781d9     Edward   Pearson    Male   \n",
       "4  84cec8f4-0b64-44ce-a628-c0eb73f6ca6f       Lisa  Gonzalez  Female   \n",
       "\n",
       "       Class      Major   GPA  On Probation  \n",
       "0     Junior  Economics  3.12         False  \n",
       "1  Sophomore  Economics  3.48         False  \n",
       "2   Freshman    Finance  3.40         False  \n",
       "3   Freshman       Math  3.84         False  \n",
       "4     Junior    Finance  4.00         False  "
      ]
     },
     "execution_count": 59,
     "metadata": {},
     "output_type": "execute_result"
    }
   ],
   "source": [
    "students_df['On Probation'] = students_df['GPA'] < 3.0\n",
    "students_df.head()"
   ]
  }
 ],
 "metadata": {
  "anaconda-cloud": {},
  "kernelspec": {
   "display_name": "Python [conda env:py35]",
   "language": "python",
   "name": "conda-env-py35-py"
  },
  "language_info": {
   "codemirror_mode": {
    "name": "ipython",
    "version": 3
   },
   "file_extension": ".py",
   "mimetype": "text/x-python",
   "name": "python",
   "nbconvert_exporter": "python",
   "pygments_lexer": "ipython3",
   "version": "3.5.4"
  }
 },
 "nbformat": 4,
 "nbformat_minor": 1
}
