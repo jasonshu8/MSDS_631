{
 "cells": [
  {
   "cell_type": "markdown",
   "metadata": {},
   "source": [
    "# MSDS 631 - Lecture 5 (February 20, 2019)\n",
    "\n",
    "## Key Scientific Libraries - Numpy and Pandas"
   ]
  },
  {
   "cell_type": "markdown",
   "metadata": {},
   "source": [
    "--------\n",
    "##### Sidenote: List Comprehensions\n",
    "Sometimes you want to create a simple list and writing so many lines of code might seem silly. List comprehensions are a nice, clean, efficient way to create lists without having to write out so much code."
   ]
  },
  {
   "cell_type": "code",
   "execution_count": 14,
   "metadata": {
    "collapsed": false
   },
   "outputs": [
    {
     "data": {
      "text/plain": [
       "[1, 0, 1, 0, 1, 0, 1, 0, 1]"
      ]
     },
     "execution_count": 14,
     "metadata": {},
     "output_type": "execute_result"
    }
   ],
   "source": [
    "list_of_numbers = list(range(1,10))\n",
    "remainders = [i % 2 for i in list_of_numbers]\n",
    "remainders"
   ]
  },
  {
   "cell_type": "markdown",
   "metadata": {},
   "source": [
    "While list comprehensions are cool and clean looking, please be careful to not go overboard with these. They are easy to screw up, so the more complex your logic, the harder it is to write them.\n",
    "\n",
    "---"
   ]
  },
  {
   "cell_type": "markdown",
   "metadata": {},
   "source": [
    "### Scientific Libraries"
   ]
  },
  {
   "cell_type": "markdown",
   "metadata": {},
   "source": [
    "While Python is arguably the most widely used language for Data Scientists, the language by itself does not necessarily lend itself to performing data analysis or modeling. The most influential evolution of the language that led the widespread adoption in the field was the creation of two libraries: Numpy and Pandas.\n",
    "\n",
    "Numpy (prounounced \"num-pie\") was originally written in 1995, but it took it's current form in 2006. Since then it has been a foundational library for performing data analysis in Python. Two years later, Wes McKinney wrote Pandas, which took the concepts started by Numpy and melded it with powerful data structures from R.\n",
    "\n",
    "Let's start by talking about Numpy.\n",
    "\n",
    "Numpy is a library that has many built-in Objects that utilize code written in the C language. This makes code run MUCH much faster than what you might see in Python (and often with a lot less code). Let's take a look at a few examples.\n",
    "\n",
    "### Intro to Numpy"
   ]
  },
  {
   "cell_type": "code",
   "execution_count": 1,
   "metadata": {
    "collapsed": true
   },
   "outputs": [],
   "source": [
    "import random\n",
    "import numpy as np #We use an alias to shorten our code"
   ]
  },
  {
   "cell_type": "markdown",
   "metadata": {},
   "source": [
    "##### Arrays\n",
    "\n",
    "The foundational data structure for Numpy is the array. Like lists, values within arrays are accessible by index, but the array has many more powerful features that make analysis much easier."
   ]
  },
  {
   "cell_type": "code",
   "execution_count": 2,
   "metadata": {
    "collapsed": false
   },
   "outputs": [
    {
     "data": {
      "text/plain": [
       "[53, 26, 47, 43, 35, 91, 38, 38, 67, 29]"
      ]
     },
     "execution_count": 2,
     "metadata": {},
     "output_type": "execute_result"
    }
   ],
   "source": [
    "#Create some random numbers in Python\n",
    "list_of_numbers1 = [random.randint(1,100) for _ in range(10)]\n",
    "list_of_numbers2 = [random.randint(1,100) for _ in range(10)]\n",
    "list_of_numbers3 = [random.randint(1,100) for _ in range(10)]\n",
    "\n",
    "list_of_numbers1"
   ]
  },
  {
   "cell_type": "code",
   "execution_count": 3,
   "metadata": {
    "collapsed": false
   },
   "outputs": [
    {
     "data": {
      "text/plain": [
       "array([53, 26, 47, 43, 35, 91, 38, 38, 67, 29])"
      ]
     },
     "execution_count": 3,
     "metadata": {},
     "output_type": "execute_result"
    }
   ],
   "source": [
    "#Create some random numbers in Numpy\n",
    "np_array_of_numbers1 = np.array(list_of_numbers1) #Casting a list as a new Numpy-specific data structure\n",
    "np_array_of_numbers2 = np.array(list_of_numbers2) #Casting a list as a new Numpy-specific data structure\n",
    "np_array_of_numbers3 = np.array(list_of_numbers3) #Casting a list as a new Numpy-specific data structure\n",
    "\n",
    "np_array_of_numbers1"
   ]
  },
  {
   "cell_type": "code",
   "execution_count": 4,
   "metadata": {
    "collapsed": false
   },
   "outputs": [
    {
     "data": {
      "text/plain": [
       "53"
      ]
     },
     "execution_count": 4,
     "metadata": {},
     "output_type": "execute_result"
    }
   ],
   "source": [
    "#Values can be accessed just like lists by index\n",
    "np_array_of_numbers1[0]"
   ]
  },
  {
   "cell_type": "code",
   "execution_count": 5,
   "metadata": {
    "collapsed": false
   },
   "outputs": [
    {
     "data": {
      "text/plain": [
       "array([53, 26, 47, 43, 35])"
      ]
     },
     "execution_count": 5,
     "metadata": {},
     "output_type": "execute_result"
    }
   ],
   "source": [
    "#... or by range\n",
    "np_array_of_numbers1[:5]"
   ]
  },
  {
   "cell_type": "code",
   "execution_count": 6,
   "metadata": {
    "collapsed": false
   },
   "outputs": [
    {
     "data": {
      "text/plain": [
       "array([53, 43, 35, 38])"
      ]
     },
     "execution_count": 6,
     "metadata": {},
     "output_type": "execute_result"
    }
   ],
   "source": [
    "#What you CAN do that's unique is access data by random indices\n",
    "np_array_of_numbers1[[0,3,4,7]]"
   ]
  },
  {
   "cell_type": "code",
   "execution_count": 7,
   "metadata": {
    "collapsed": false
   },
   "outputs": [
    {
     "ename": "TypeError",
     "evalue": "list indices must be integers or slices, not list",
     "output_type": "error",
     "traceback": [
      "\u001b[0;31m---------------------------------------------------------------------------\u001b[0m",
      "\u001b[0;31mTypeError\u001b[0m                                 Traceback (most recent call last)",
      "\u001b[0;32m<ipython-input-7-3bb79fe6d607>\u001b[0m in \u001b[0;36m<module>\u001b[0;34m()\u001b[0m\n\u001b[1;32m      1\u001b[0m \u001b[0;31m#This doesn't work for lists\u001b[0m\u001b[0;34m\u001b[0m\u001b[0;34m\u001b[0m\u001b[0m\n\u001b[0;32m----> 2\u001b[0;31m \u001b[0mlist_of_numbers1\u001b[0m\u001b[0;34m[\u001b[0m\u001b[0;34m[\u001b[0m\u001b[0;36m0\u001b[0m\u001b[0;34m,\u001b[0m\u001b[0;36m3\u001b[0m\u001b[0;34m,\u001b[0m\u001b[0;36m4\u001b[0m\u001b[0;34m,\u001b[0m\u001b[0;36m7\u001b[0m\u001b[0;34m]\u001b[0m\u001b[0;34m]\u001b[0m\u001b[0;34m\u001b[0m\u001b[0m\n\u001b[0m",
      "\u001b[0;31mTypeError\u001b[0m: list indices must be integers or slices, not list"
     ]
    }
   ],
   "source": [
    "#This doesn't work for lists\n",
    "list_of_numbers1[[0,3,4,7]]"
   ]
  },
  {
   "cell_type": "markdown",
   "metadata": {},
   "source": [
    "##### Array Math"
   ]
  },
  {
   "cell_type": "markdown",
   "metadata": {},
   "source": [
    "Let's add 5 to every number in the first list."
   ]
  },
  {
   "cell_type": "code",
   "execution_count": 8,
   "metadata": {
    "collapsed": false
   },
   "outputs": [],
   "source": [
    "#Base Python\n",
    "\n"
   ]
  },
  {
   "cell_type": "code",
   "execution_count": null,
   "metadata": {
    "collapsed": false
   },
   "outputs": [],
   "source": [
    "#Using Numpy\n",
    "\n"
   ]
  },
  {
   "cell_type": "markdown",
   "metadata": {},
   "source": [
    "What just happened here???\n",
    "\n",
    "Numpy uses something called \"broadcasting.\" This allows us to apply certain mathematical operations to each element in an array. We can do a lot more than this too! The more commonly used terminology for this is called **\"vectorization.\"**\n",
    "\n",
    "Let's multiply each number in list 1 by 5"
   ]
  },
  {
   "cell_type": "code",
   "execution_count": null,
   "metadata": {
    "collapsed": true
   },
   "outputs": [],
   "source": [
    "#Base Python\n",
    "python_nums = []\n",
    "\n",
    "\n",
    "\n",
    "python_nums"
   ]
  },
  {
   "cell_type": "code",
   "execution_count": null,
   "metadata": {
    "collapsed": true
   },
   "outputs": [],
   "source": [
    "#Using Numpy\n",
    "\n",
    "\n",
    "numpy_nums"
   ]
  },
  {
   "cell_type": "markdown",
   "metadata": {},
   "source": [
    "Now let's add each element of list 1 and list 2 and then divide the sum by each value of list 3"
   ]
  },
  {
   "cell_type": "code",
   "execution_count": null,
   "metadata": {
    "collapsed": false
   },
   "outputs": [],
   "source": [
    "#Example of first index\n",
    "(list_of_numbers1[0] + list_of_numbers2[0]) / list_of_numbers3[0]"
   ]
  },
  {
   "cell_type": "code",
   "execution_count": null,
   "metadata": {
    "collapsed": true
   },
   "outputs": [],
   "source": [
    "#Let's do it for all of the values now\n",
    "#Base Python\n",
    "\n",
    "\n",
    "python_nums"
   ]
  },
  {
   "cell_type": "code",
   "execution_count": null,
   "metadata": {
    "collapsed": true
   },
   "outputs": [],
   "source": [
    "#Using Numpy\n",
    "\n",
    "\n",
    "numpy_nums"
   ]
  },
  {
   "cell_type": "markdown",
   "metadata": {},
   "source": [
    "When doing **element-wise** math using arrays, it is critical that you are doing this with arrays that are the same shape."
   ]
  },
  {
   "cell_type": "code",
   "execution_count": null,
   "metadata": {
    "collapsed": false
   },
   "outputs": [],
   "source": [
    "longer_array = np.array([random.randint(1,100) for _ in range(10)])\n",
    "shorter_array = np.array([random.randint(1,100) for _ in range(5)])\n",
    "longer_array / shorter_array #This doesn't work"
   ]
  },
  {
   "cell_type": "markdown",
   "metadata": {},
   "source": [
    "Element-wise math can happen with almost standard mathematical operator (or combination of operators. In fact, you can even apply functions to arrays, as long as the operations being performed are mathematical in nature (and not logical)."
   ]
  },
  {
   "cell_type": "code",
   "execution_count": 9,
   "metadata": {
    "collapsed": true
   },
   "outputs": [],
   "source": [
    "#Basic arithmetic operations and numpy math functions\n",
    "def math_output(x):\n",
    "    a = x + 5\n",
    "    b = a / 2\n",
    "    c = b ** 3\n",
    "    d = np.sqrt(c) #Numpy has several built-in math functions\n",
    "    return d"
   ]
  },
  {
   "cell_type": "code",
   "execution_count": 10,
   "metadata": {
    "collapsed": false
   },
   "outputs": [
    {
     "data": {
      "text/plain": [
       "14.696938456699069"
      ]
     },
     "execution_count": 10,
     "metadata": {},
     "output_type": "execute_result"
    }
   ],
   "source": [
    "math_output(7)"
   ]
  },
  {
   "cell_type": "code",
   "execution_count": 15,
   "metadata": {
    "collapsed": false
   },
   "outputs": [
    {
     "data": {
      "text/plain": [
       "[156.16977940690063,\n",
       " 61.023561023591533,\n",
       " 132.5745073534124,\n",
       " 117.57550765359255,\n",
       " 89.442719099991592,\n",
       " 332.55375505322445,\n",
       " 99.691398826578819,\n",
       " 99.691398826578819,\n",
       " 216.0,\n",
       " 70.092795635500224]"
      ]
     },
     "execution_count": 15,
     "metadata": {},
     "output_type": "execute_result"
    }
   ],
   "source": [
    "#In base Python\n",
    "answers = []\n",
    "for i in list_of_numbers1:\n",
    "    answer = math_output(i)\n",
    "    answers.append(answer)\n",
    "answers"
   ]
  },
  {
   "cell_type": "code",
   "execution_count": 16,
   "metadata": {
    "collapsed": false
   },
   "outputs": [
    {
     "data": {
      "text/plain": [
       "array([ 156.16977941,   61.02356102,  132.57450735,  117.57550765,\n",
       "         89.4427191 ,  332.55375505,   99.69139883,   99.69139883,\n",
       "        216.        ,   70.09279564])"
      ]
     },
     "execution_count": 16,
     "metadata": {},
     "output_type": "execute_result"
    }
   ],
   "source": [
    "math_output(np_array_of_numbers1)"
   ]
  },
  {
   "cell_type": "markdown",
   "metadata": {},
   "source": [
    "That worked great! Even cleaner than list comprehensions!\n",
    "\n",
    "Unfortunately, there are limitations. As mentioned above, control flow cannot be used for vectorization."
   ]
  },
  {
   "cell_type": "code",
   "execution_count": 21,
   "metadata": {
    "collapsed": true
   },
   "outputs": [],
   "source": [
    "def logical_output(x):\n",
    "    if x % 2 == 0:\n",
    "        return 'even'\n",
    "    elif x % 2 == 1:\n",
    "        return 'odd'\n",
    "    else:\n",
    "        return 'something else'"
   ]
  },
  {
   "cell_type": "code",
   "execution_count": 22,
   "metadata": {
    "collapsed": false
   },
   "outputs": [
    {
     "data": {
      "text/plain": [
       "'even'"
      ]
     },
     "execution_count": 22,
     "metadata": {},
     "output_type": "execute_result"
    }
   ],
   "source": [
    "logical_output(4)"
   ]
  },
  {
   "cell_type": "code",
   "execution_count": 23,
   "metadata": {
    "collapsed": false
   },
   "outputs": [
    {
     "data": {
      "text/plain": [
       "['odd', 'even', 'odd', 'odd', 'odd', 'odd', 'even', 'even', 'odd', 'odd']"
      ]
     },
     "execution_count": 23,
     "metadata": {},
     "output_type": "execute_result"
    }
   ],
   "source": [
    "answers = []\n",
    "for i in list_of_numbers1:\n",
    "    answer = logical_output(i)\n",
    "    answers.append(answer)\n",
    "answers"
   ]
  },
  {
   "cell_type": "code",
   "execution_count": 24,
   "metadata": {
    "collapsed": false
   },
   "outputs": [
    {
     "ename": "ValueError",
     "evalue": "The truth value of an array with more than one element is ambiguous. Use a.any() or a.all()",
     "output_type": "error",
     "traceback": [
      "\u001b[0;31m---------------------------------------------------------------------------\u001b[0m",
      "\u001b[0;31mValueError\u001b[0m                                Traceback (most recent call last)",
      "\u001b[0;32m<ipython-input-24-b3373b34fb9d>\u001b[0m in \u001b[0;36m<module>\u001b[0;34m()\u001b[0m\n\u001b[0;32m----> 1\u001b[0;31m \u001b[0mlogical_output\u001b[0m\u001b[0;34m(\u001b[0m\u001b[0mnp_array_of_numbers1\u001b[0m\u001b[0;34m)\u001b[0m \u001b[0;31m#You cannot vectorize control flow\u001b[0m\u001b[0;34m\u001b[0m\u001b[0m\n\u001b[0m",
      "\u001b[0;32m<ipython-input-21-c96ea08f7de6>\u001b[0m in \u001b[0;36mlogical_output\u001b[0;34m(x)\u001b[0m\n\u001b[1;32m      1\u001b[0m \u001b[0;32mdef\u001b[0m \u001b[0mlogical_output\u001b[0m\u001b[0;34m(\u001b[0m\u001b[0mx\u001b[0m\u001b[0;34m)\u001b[0m\u001b[0;34m:\u001b[0m\u001b[0;34m\u001b[0m\u001b[0m\n\u001b[0;32m----> 2\u001b[0;31m     \u001b[0;32mif\u001b[0m \u001b[0mx\u001b[0m \u001b[0;34m%\u001b[0m \u001b[0;36m2\u001b[0m \u001b[0;34m==\u001b[0m \u001b[0;36m0\u001b[0m\u001b[0;34m:\u001b[0m\u001b[0;34m\u001b[0m\u001b[0m\n\u001b[0m\u001b[1;32m      3\u001b[0m         \u001b[0;32mreturn\u001b[0m \u001b[0;34m'even'\u001b[0m\u001b[0;34m\u001b[0m\u001b[0m\n\u001b[1;32m      4\u001b[0m     \u001b[0;32melif\u001b[0m \u001b[0mx\u001b[0m \u001b[0;34m%\u001b[0m \u001b[0;36m2\u001b[0m \u001b[0;34m==\u001b[0m \u001b[0;36m1\u001b[0m\u001b[0;34m:\u001b[0m\u001b[0;34m\u001b[0m\u001b[0m\n\u001b[1;32m      5\u001b[0m         \u001b[0;32mreturn\u001b[0m \u001b[0;34m'odd'\u001b[0m\u001b[0;34m\u001b[0m\u001b[0m\n",
      "\u001b[0;31mValueError\u001b[0m: The truth value of an array with more than one element is ambiguous. Use a.any() or a.all()"
     ]
    }
   ],
   "source": [
    "logical_output(np_array_of_numbers1) #You cannot vectorize control flow"
   ]
  },
  {
   "cell_type": "code",
   "execution_count": null,
   "metadata": {
    "collapsed": true
   },
   "outputs": [],
   "source": []
  },
  {
   "cell_type": "markdown",
   "metadata": {},
   "source": [
    "#### Numpy Filtering\n",
    "\n",
    "Filters are arrays consisting of True and False values. You can obtain these by applying in-line logic comparisons."
   ]
  },
  {
   "cell_type": "code",
   "execution_count": 25,
   "metadata": {
    "collapsed": false
   },
   "outputs": [
    {
     "data": {
      "text/plain": [
       "array([53, 26, 47, 43, 35, 91, 38, 38, 67, 29])"
      ]
     },
     "execution_count": 25,
     "metadata": {},
     "output_type": "execute_result"
    }
   ],
   "source": [
    "np_array_of_numbers1"
   ]
  },
  {
   "cell_type": "code",
   "execution_count": 28,
   "metadata": {
    "collapsed": false,
    "scrolled": true
   },
   "outputs": [
    {
     "data": {
      "text/plain": [
       "array([False,  True, False, False, False, False,  True,  True, False, False], dtype=bool)"
      ]
     },
     "execution_count": 28,
     "metadata": {},
     "output_type": "execute_result"
    }
   ],
   "source": [
    "#Let's find the even numbers in our array\n",
    "is_even = np_array_of_numbers1 % 2 == 0\n",
    "is_even"
   ]
  },
  {
   "cell_type": "markdown",
   "metadata": {},
   "source": [
    "Now, much like how indexing in an array returns a subset of values, we can use this filter to only return the values that are True."
   ]
  },
  {
   "cell_type": "code",
   "execution_count": 29,
   "metadata": {
    "collapsed": false
   },
   "outputs": [
    {
     "data": {
      "text/plain": [
       "array([26, 38, 38])"
      ]
     },
     "execution_count": 29,
     "metadata": {},
     "output_type": "execute_result"
    }
   ],
   "source": [
    "np_array_of_numbers1[is_even]"
   ]
  },
  {
   "cell_type": "code",
   "execution_count": 30,
   "metadata": {
    "collapsed": false
   },
   "outputs": [
    {
     "data": {
      "text/plain": [
       "array([], dtype=int64)"
      ]
     },
     "execution_count": 30,
     "metadata": {},
     "output_type": "execute_result"
    }
   ],
   "source": [
    "#Let's now find the numbers divisible by 3 in our array\n",
    "divis_by_3_filter = np_array_of_numbers1 % 3 == 0\n",
    "nums_divisible_by_3 = np_array_of_numbers1[divis_by_3_filter]\n",
    "nums_divisible_by_3"
   ]
  },
  {
   "cell_type": "code",
   "execution_count": 31,
   "metadata": {
    "collapsed": false
   },
   "outputs": [
    {
     "data": {
      "text/plain": [
       "array([], dtype=int64)"
      ]
     },
     "execution_count": 31,
     "metadata": {},
     "output_type": "execute_result"
    }
   ],
   "source": [
    "#We can also do this without creating a filter\n",
    "np_array_of_numbers1[np_array_of_numbers1 % 3 == 0]"
   ]
  },
  {
   "cell_type": "markdown",
   "metadata": {},
   "source": [
    "Filtering will be an extremely important concept as we move forward."
   ]
  },
  {
   "cell_type": "markdown",
   "metadata": {},
   "source": [
    "We can also use these filters on other arrays of the same shape, assuming the indices of the array are all associated with the same entity (e.g. the same student for the example below).\n",
    "\n",
    "Imagine we're on the school board and want to identify all of the honors students. We want to start by finding everyone with a GPA 3.7 or higher. When we did this previously, it required a complicated loop. Now, with Numpy, we can use simple filtering to identify those students."
   ]
  },
  {
   "cell_type": "code",
   "execution_count": null,
   "metadata": {
    "collapsed": false
   },
   "outputs": [],
   "source": [
    "students = json.load(open('students.json', 'r'))\n",
    "ids = np.array([i['student_id'] for i in students])\n",
    "gpas = np.array([i['gpa'] for i in students])"
   ]
  },
  {
   "cell_type": "code",
   "execution_count": null,
   "metadata": {
    "collapsed": false
   },
   "outputs": [],
   "source": [
    "#Let's find the students with GPAs over 3.7\n",
    "high_gpa_filter = <insert code here>\n",
    "\n",
    "print('There are {} students eligible for honor roll. They have the following IDs'.format(len(honor_ids)))\n",
    "honor_ids"
   ]
  },
  {
   "cell_type": "code",
   "execution_count": null,
   "metadata": {
    "collapsed": false
   },
   "outputs": [],
   "source": [
    "#If we wanted to know all of the students that were economics majors, we could create another filter\n",
    "majors = np.array([i['major'] for i in students])\n",
    "is_economics = majors == 'Economics'\n",
    "is_economics"
   ]
  },
  {
   "cell_type": "code",
   "execution_count": null,
   "metadata": {
    "collapsed": false
   },
   "outputs": [],
   "source": [
    "economics_ids = ids[is_economics]\n",
    "print('The following students are economics majors')\n",
    "print(economics_ids)"
   ]
  },
  {
   "cell_type": "markdown",
   "metadata": {},
   "source": [
    "##### Limits on usage of arrays\n",
    "There is one significant difference between arrays and lists where arrays are not as useful as lists, and that is in its ability to hold different variable types."
   ]
  },
  {
   "cell_type": "code",
   "execution_count": null,
   "metadata": {
    "collapsed": false
   },
   "outputs": [],
   "source": [
    "mixed_list = [1, 2.0, '3']\n",
    "mixed_list"
   ]
  },
  {
   "cell_type": "code",
   "execution_count": null,
   "metadata": {
    "collapsed": true
   },
   "outputs": [],
   "source": [
    "mixed_array = np.array(mixed_list) #No error, but be wary of what you wish for"
   ]
  },
  {
   "cell_type": "code",
   "execution_count": null,
   "metadata": {
    "collapsed": false
   },
   "outputs": [],
   "source": [
    "mixed_array"
   ]
  },
  {
   "cell_type": "markdown",
   "metadata": {},
   "source": [
    "In this case, Numpy is \"helping\" you by auto-casting all of the variable into a common data type. Unfortunately, this is not always something you want and you have to be mindful of when it happens."
   ]
  },
  {
   "cell_type": "markdown",
   "metadata": {},
   "source": [
    "##### Numpy built-in array methods"
   ]
  },
  {
   "cell_type": "code",
   "execution_count": null,
   "metadata": {
    "collapsed": false
   },
   "outputs": [],
   "source": [
    "gpas.mean() #Compute the arithmetic mean"
   ]
  },
  {
   "cell_type": "code",
   "execution_count": null,
   "metadata": {
    "collapsed": false
   },
   "outputs": [],
   "source": [
    "gpas.max() #Find the maximum value"
   ]
  },
  {
   "cell_type": "code",
   "execution_count": null,
   "metadata": {
    "collapsed": false
   },
   "outputs": [],
   "source": [
    "gpas.min() #Find the minimum value"
   ]
  },
  {
   "cell_type": "code",
   "execution_count": null,
   "metadata": {
    "collapsed": false
   },
   "outputs": [],
   "source": [
    "gpas.std() #Find the standard deviation"
   ]
  },
  {
   "cell_type": "code",
   "execution_count": null,
   "metadata": {
    "collapsed": false
   },
   "outputs": [],
   "source": [
    "gpas.argmax() #Find the FIRST index where the max value occurs"
   ]
  },
  {
   "cell_type": "code",
   "execution_count": null,
   "metadata": {
    "collapsed": false
   },
   "outputs": [],
   "source": [
    "#Alternatively, you can do this to find all of the IDs with a max value\n",
    "max_gpa = gpas.max()\n",
    "max_gpa_ids = ids[gpas == max_gpa]\n",
    "max_gpa_ids"
   ]
  },
  {
   "cell_type": "markdown",
   "metadata": {},
   "source": [
    "What percent of students have a 4.0?\n",
    "\n",
    "There are two ways."
   ]
  },
  {
   "cell_type": "code",
   "execution_count": null,
   "metadata": {
    "collapsed": false
   },
   "outputs": [],
   "source": [
    "len(max_gpa_ids) / len(students)"
   ]
  },
  {
   "cell_type": "code",
   "execution_count": null,
   "metadata": {
    "collapsed": false
   },
   "outputs": [],
   "source": [
    "(gpas == max_gpa).mean() #True's can be autocast as 1.0 and False's can be autocast as 0.0"
   ]
  },
  {
   "cell_type": "markdown",
   "metadata": {},
   "source": [
    "##### Numpy built-in scientific helper Objects\n",
    "\n",
    "Numpy has several built-in Objects that help with your analyses. There are WAY too many to cover, but here are a few that you may find yourself using.\n",
    "\n",
    "##### Native Math functions"
   ]
  },
  {
   "cell_type": "code",
   "execution_count": null,
   "metadata": {
    "collapsed": false
   },
   "outputs": [],
   "source": [
    "#Square root\n",
    "np.sqrt(25)"
   ]
  },
  {
   "cell_type": "code",
   "execution_count": null,
   "metadata": {
    "collapsed": false
   },
   "outputs": [],
   "source": [
    "#Base e logarithm\n",
    "np.log(20)"
   ]
  },
  {
   "cell_type": "code",
   "execution_count": null,
   "metadata": {
    "collapsed": false
   },
   "outputs": [],
   "source": [
    "#Base 10 logarithm\n",
    "np.log10(20)"
   ]
  },
  {
   "cell_type": "code",
   "execution_count": null,
   "metadata": {
    "collapsed": false
   },
   "outputs": [],
   "source": [
    "#Base n logarithm\n",
    "n = 10\n",
    "np.log(20) / np.log(n)"
   ]
  },
  {
   "cell_type": "code",
   "execution_count": null,
   "metadata": {
    "collapsed": false
   },
   "outputs": [],
   "source": [
    "squares = np.array([i**2 for i in range(1,10)])\n",
    "squares"
   ]
  },
  {
   "cell_type": "code",
   "execution_count": null,
   "metadata": {
    "collapsed": false
   },
   "outputs": [],
   "source": [
    "#As we showed before, we can vectorize mathematical operations\n",
    "np.sqrt(squares)"
   ]
  },
  {
   "cell_type": "code",
   "execution_count": null,
   "metadata": {
    "collapsed": false
   },
   "outputs": [],
   "source": [
    "np.log(squares)"
   ]
  },
  {
   "cell_type": "markdown",
   "metadata": {},
   "source": [
    "##### Random Number Generator and Sampler"
   ]
  },
  {
   "cell_type": "code",
   "execution_count": null,
   "metadata": {
    "collapsed": false
   },
   "outputs": [],
   "source": [
    "np.random.randint(1,100,size=10)"
   ]
  },
  {
   "cell_type": "code",
   "execution_count": null,
   "metadata": {
    "collapsed": false
   },
   "outputs": [],
   "source": [
    "np.random.random(size=10)"
   ]
  },
  {
   "cell_type": "code",
   "execution_count": null,
   "metadata": {
    "collapsed": false
   },
   "outputs": [],
   "source": [
    "np.random.random(size=10) * 10"
   ]
  },
  {
   "cell_type": "code",
   "execution_count": null,
   "metadata": {
    "collapsed": false
   },
   "outputs": [],
   "source": [
    "np.random.normal(1,.5, size=10)"
   ]
  },
  {
   "cell_type": "code",
   "execution_count": null,
   "metadata": {
    "collapsed": true
   },
   "outputs": [],
   "source": [
    "lots_of_numbers = np.arange(1,10000) #Equivalent of native range() function"
   ]
  },
  {
   "cell_type": "code",
   "execution_count": null,
   "metadata": {
    "collapsed": false
   },
   "outputs": [],
   "source": [
    "random_sample = np.random.choice(lots_of_numbers, size=10)\n",
    "random_sample"
   ]
  },
  {
   "cell_type": "code",
   "execution_count": null,
   "metadata": {
    "collapsed": false
   },
   "outputs": [],
   "source": [
    "majors = ['Economics', 'Physics', 'Math']\n",
    "lots_of_majors = np.random.choice(majors, p=[.2,.5,.3], size=1000)\n",
    "lots_of_majors"
   ]
  },
  {
   "cell_type": "code",
   "execution_count": null,
   "metadata": {
    "collapsed": false
   },
   "outputs": [],
   "source": [
    "#How many Physics majors did we get?\n"
   ]
  },
  {
   "cell_type": "markdown",
   "metadata": {},
   "source": [
    "### Intro to Pandas\n",
    "Pandas is going to be your best friend for the rest of your time analyzing data in Python. It offers much of the functionality of Numpy, but with a MUCH more user-friendly way of displaying and accessing data.\n",
    "\n",
    "The two fundamental data structures of Pandas are the Series and the DataFrame. A Series can be viewed as equivalent to a Numpy array, while a DataFrame can be viewed as a combination of Series, with some additional functionality.\n",
    "\n",
    "Let's start by opening a file using Pandas built-in method."
   ]
  },
  {
   "cell_type": "code",
   "execution_count": 2,
   "metadata": {
    "collapsed": true
   },
   "outputs": [],
   "source": [
    "import pandas as pd\n",
    "students_df = pd.read_csv('students.csv') #This is way easier than our method from before!"
   ]
  },
  {
   "cell_type": "code",
   "execution_count": 3,
   "metadata": {
    "collapsed": false
   },
   "outputs": [
    {
     "data": {
      "text/html": [
       "<div>\n",
       "<style>\n",
       "    .dataframe thead tr:only-child th {\n",
       "        text-align: right;\n",
       "    }\n",
       "\n",
       "    .dataframe thead th {\n",
       "        text-align: left;\n",
       "    }\n",
       "\n",
       "    .dataframe tbody tr th {\n",
       "        vertical-align: top;\n",
       "    }\n",
       "</style>\n",
       "<table border=\"1\" class=\"dataframe\">\n",
       "  <thead>\n",
       "    <tr style=\"text-align: right;\">\n",
       "      <th></th>\n",
       "      <th>student_id</th>\n",
       "      <th>first</th>\n",
       "      <th>last</th>\n",
       "      <th>gender</th>\n",
       "      <th>class</th>\n",
       "      <th>major</th>\n",
       "      <th>gpa</th>\n",
       "    </tr>\n",
       "  </thead>\n",
       "  <tbody>\n",
       "    <tr>\n",
       "      <th>0</th>\n",
       "      <td>5a397209-3782-4764-a285-10fae807ee71</td>\n",
       "      <td>Janis</td>\n",
       "      <td>Brown</td>\n",
       "      <td>Female</td>\n",
       "      <td>Junior</td>\n",
       "      <td>Economics</td>\n",
       "      <td>3.12</td>\n",
       "    </tr>\n",
       "    <tr>\n",
       "      <th>1</th>\n",
       "      <td>e26c3d69-3c74-49b6-81d7-47232787fad9</td>\n",
       "      <td>Timothy</td>\n",
       "      <td>Bishop</td>\n",
       "      <td>Male</td>\n",
       "      <td>Sophomore</td>\n",
       "      <td>Economics</td>\n",
       "      <td>3.48</td>\n",
       "    </tr>\n",
       "    <tr>\n",
       "      <th>2</th>\n",
       "      <td>975c1581-5ba2-430c-a3d1-01ce03bd83f9</td>\n",
       "      <td>Elizabeth</td>\n",
       "      <td>Owens</td>\n",
       "      <td>Female</td>\n",
       "      <td>Freshman</td>\n",
       "      <td>Finance</td>\n",
       "      <td>3.40</td>\n",
       "    </tr>\n",
       "    <tr>\n",
       "      <th>3</th>\n",
       "      <td>6081f91d-365c-46ce-ad1b-38af120781d9</td>\n",
       "      <td>Edward</td>\n",
       "      <td>Pearson</td>\n",
       "      <td>Male</td>\n",
       "      <td>Freshman</td>\n",
       "      <td>Math</td>\n",
       "      <td>3.84</td>\n",
       "    </tr>\n",
       "    <tr>\n",
       "      <th>4</th>\n",
       "      <td>84cec8f4-0b64-44ce-a628-c0eb73f6ca6f</td>\n",
       "      <td>Lisa</td>\n",
       "      <td>Gonzalez</td>\n",
       "      <td>Female</td>\n",
       "      <td>Junior</td>\n",
       "      <td>Finance</td>\n",
       "      <td>4.00</td>\n",
       "    </tr>\n",
       "  </tbody>\n",
       "</table>\n",
       "</div>"
      ],
      "text/plain": [
       "                             student_id      first      last  gender  \\\n",
       "0  5a397209-3782-4764-a285-10fae807ee71      Janis     Brown  Female   \n",
       "1  e26c3d69-3c74-49b6-81d7-47232787fad9    Timothy    Bishop    Male   \n",
       "2  975c1581-5ba2-430c-a3d1-01ce03bd83f9  Elizabeth     Owens  Female   \n",
       "3  6081f91d-365c-46ce-ad1b-38af120781d9     Edward   Pearson    Male   \n",
       "4  84cec8f4-0b64-44ce-a628-c0eb73f6ca6f       Lisa  Gonzalez  Female   \n",
       "\n",
       "       class      major   gpa  \n",
       "0     Junior  Economics  3.12  \n",
       "1  Sophomore  Economics  3.48  \n",
       "2   Freshman    Finance  3.40  \n",
       "3   Freshman       Math  3.84  \n",
       "4     Junior    Finance  4.00  "
      ]
     },
     "execution_count": 3,
     "metadata": {},
     "output_type": "execute_result"
    }
   ],
   "source": [
    "#Let's look at the first few records of the students DataFrame\n",
    "students_df.head() #The \"head\" method will give you as many rows as you ask for; 5 is default"
   ]
  },
  {
   "cell_type": "markdown",
   "metadata": {},
   "source": [
    "#### Intro to the DataFrame\n",
    "\n",
    "DataFrames consist of rows and columns. These are the fundamental \"units\" of data for a Data Scientist. This is what allows us to organize our data to analyze quickly and consistently. Rows are considered individual \"observations\" whereas columns are considered \"attributes.\" The \"shape\" of a data is defined as the number of rows by the number of columns.\n",
    "\n",
    "In the DataFrame above, you can see that the attributes identified are:\n",
    "- student_id\n",
    "- first\n",
    "- last\n",
    "- gender\n",
    "- class\n",
    "- major\n",
    "- gpa\n",
    "\n",
    "Each student's information can be found in a row. Thus, the first row (index 0) is Janis Brown, who is a Female and a Junior Economics student with a GPA of 3.12.\n",
    "\n",
    "This is MUCH easier to read and track than lists of dictionaries or dictionaries of dictionaries or whatever other combination of data structures that base Python might be able to display for you. You're probably asking why ALL data isn't shown this way, and we'll get to that later on, but in the meantime, let's focus on the simple case here.\n",
    "\n",
    "Let's start by looking at the shape of the data."
   ]
  },
  {
   "cell_type": "code",
   "execution_count": 5,
   "metadata": {
    "collapsed": false
   },
   "outputs": [
    {
     "data": {
      "text/plain": [
       "(10000, 7)"
      ]
     },
     "execution_count": 5,
     "metadata": {},
     "output_type": "execute_result"
    }
   ],
   "source": [
    "students_df.shape"
   ]
  },
  {
   "cell_type": "markdown",
   "metadata": {},
   "source": [
    "This means that the data has 10,000 rows and 7 columns. The first things you should always do when using DataFrames is look at the first few rows (the `.head()` method) and the shape of the data."
   ]
  },
  {
   "cell_type": "markdown",
   "metadata": {},
   "source": [
    "### Accessing chunks of data in a DataFrame\n",
    "\n",
    "You will almost always want to focus your attention or compute values oncertain subsections of the data. For this there are several ways to slice and dice the data.\n",
    "\n",
    "##### Accessing columns\n",
    "\n",
    "Much like dictionaries, columns are accessed via brackets and some column name (just like keys)."
   ]
  },
  {
   "cell_type": "code",
   "execution_count": 8,
   "metadata": {
    "collapsed": false
   },
   "outputs": [
    {
     "data": {
      "text/plain": [
       "0           Janis\n",
       "1         Timothy\n",
       "2       Elizabeth\n",
       "3          Edward\n",
       "4            Lisa\n",
       "5        Alphonse\n",
       "6         Linwood\n",
       "7          Arthur\n",
       "8          Daniel\n",
       "9           Barry\n",
       "10      Maryellen\n",
       "11          Jacob\n",
       "12           Lisa\n",
       "13            Ida\n",
       "14           Lola\n",
       "15           Joan\n",
       "16          Larry\n",
       "17      Bridgette\n",
       "18          James\n",
       "19          David\n",
       "20         Ronald\n",
       "21        Heather\n",
       "22          Nancy\n",
       "23          David\n",
       "24          Jesus\n",
       "25        Richard\n",
       "26          Henry\n",
       "27          Pedro\n",
       "28         Israel\n",
       "29           Mary\n",
       "          ...    \n",
       "9970     Georgina\n",
       "9971      Lynette\n",
       "9972       Vickie\n",
       "9973       Willie\n",
       "9974       Sylvia\n",
       "9975        Derek\n",
       "9976      Charles\n",
       "9977     Jonathan\n",
       "9978         Dave\n",
       "9979        Ralph\n",
       "9980         Leta\n",
       "9981        Megan\n",
       "9982       Olivia\n",
       "9983         Anne\n",
       "9984         John\n",
       "9985         John\n",
       "9986       Shelly\n",
       "9987       Roland\n",
       "9988     Margaret\n",
       "9989        Alice\n",
       "9990        Mable\n",
       "9991       Joseph\n",
       "9992       Gladys\n",
       "9993      Douglas\n",
       "9994       Brandy\n",
       "9995       Kendra\n",
       "9996        Tonya\n",
       "9997      Deborah\n",
       "9998        David\n",
       "9999       Cheryl\n",
       "Name: first, Length: 10000, dtype: object"
      ]
     },
     "execution_count": 8,
     "metadata": {},
     "output_type": "execute_result"
    }
   ],
   "source": [
    "first_names = students_df['first'] #Returns a Series object\n",
    "first_names"
   ]
  },
  {
   "cell_type": "markdown",
   "metadata": {},
   "source": [
    "Unlike dictionaries, you can access multiple columns at the same time."
   ]
  },
  {
   "cell_type": "code",
   "execution_count": 9,
   "metadata": {
    "collapsed": false
   },
   "outputs": [
    {
     "data": {
      "text/html": [
       "<div>\n",
       "<style>\n",
       "    .dataframe thead tr:only-child th {\n",
       "        text-align: right;\n",
       "    }\n",
       "\n",
       "    .dataframe thead th {\n",
       "        text-align: left;\n",
       "    }\n",
       "\n",
       "    .dataframe tbody tr th {\n",
       "        vertical-align: top;\n",
       "    }\n",
       "</style>\n",
       "<table border=\"1\" class=\"dataframe\">\n",
       "  <thead>\n",
       "    <tr style=\"text-align: right;\">\n",
       "      <th></th>\n",
       "      <th>first</th>\n",
       "      <th>last</th>\n",
       "    </tr>\n",
       "  </thead>\n",
       "  <tbody>\n",
       "    <tr>\n",
       "      <th>0</th>\n",
       "      <td>Janis</td>\n",
       "      <td>Brown</td>\n",
       "    </tr>\n",
       "    <tr>\n",
       "      <th>1</th>\n",
       "      <td>Timothy</td>\n",
       "      <td>Bishop</td>\n",
       "    </tr>\n",
       "    <tr>\n",
       "      <th>2</th>\n",
       "      <td>Elizabeth</td>\n",
       "      <td>Owens</td>\n",
       "    </tr>\n",
       "    <tr>\n",
       "      <th>3</th>\n",
       "      <td>Edward</td>\n",
       "      <td>Pearson</td>\n",
       "    </tr>\n",
       "    <tr>\n",
       "      <th>4</th>\n",
       "      <td>Lisa</td>\n",
       "      <td>Gonzalez</td>\n",
       "    </tr>\n",
       "    <tr>\n",
       "      <th>5</th>\n",
       "      <td>Alphonse</td>\n",
       "      <td>Allen</td>\n",
       "    </tr>\n",
       "    <tr>\n",
       "      <th>6</th>\n",
       "      <td>Linwood</td>\n",
       "      <td>Coleman</td>\n",
       "    </tr>\n",
       "    <tr>\n",
       "      <th>7</th>\n",
       "      <td>Arthur</td>\n",
       "      <td>Mccolpin</td>\n",
       "    </tr>\n",
       "    <tr>\n",
       "      <th>8</th>\n",
       "      <td>Daniel</td>\n",
       "      <td>Carter</td>\n",
       "    </tr>\n",
       "    <tr>\n",
       "      <th>9</th>\n",
       "      <td>Barry</td>\n",
       "      <td>Reyes</td>\n",
       "    </tr>\n",
       "    <tr>\n",
       "      <th>10</th>\n",
       "      <td>Maryellen</td>\n",
       "      <td>Pack</td>\n",
       "    </tr>\n",
       "    <tr>\n",
       "      <th>11</th>\n",
       "      <td>Jacob</td>\n",
       "      <td>Davis</td>\n",
       "    </tr>\n",
       "    <tr>\n",
       "      <th>12</th>\n",
       "      <td>Lisa</td>\n",
       "      <td>Walden</td>\n",
       "    </tr>\n",
       "    <tr>\n",
       "      <th>13</th>\n",
       "      <td>Ida</td>\n",
       "      <td>Garcia</td>\n",
       "    </tr>\n",
       "    <tr>\n",
       "      <th>14</th>\n",
       "      <td>Lola</td>\n",
       "      <td>Bailey</td>\n",
       "    </tr>\n",
       "    <tr>\n",
       "      <th>15</th>\n",
       "      <td>Joan</td>\n",
       "      <td>Decoteau</td>\n",
       "    </tr>\n",
       "    <tr>\n",
       "      <th>16</th>\n",
       "      <td>Larry</td>\n",
       "      <td>Rogers</td>\n",
       "    </tr>\n",
       "    <tr>\n",
       "      <th>17</th>\n",
       "      <td>Bridgette</td>\n",
       "      <td>Vitucci</td>\n",
       "    </tr>\n",
       "    <tr>\n",
       "      <th>18</th>\n",
       "      <td>James</td>\n",
       "      <td>Bertolini</td>\n",
       "    </tr>\n",
       "    <tr>\n",
       "      <th>19</th>\n",
       "      <td>David</td>\n",
       "      <td>Burnette</td>\n",
       "    </tr>\n",
       "    <tr>\n",
       "      <th>20</th>\n",
       "      <td>Ronald</td>\n",
       "      <td>Foster</td>\n",
       "    </tr>\n",
       "    <tr>\n",
       "      <th>21</th>\n",
       "      <td>Heather</td>\n",
       "      <td>Manning</td>\n",
       "    </tr>\n",
       "    <tr>\n",
       "      <th>22</th>\n",
       "      <td>Nancy</td>\n",
       "      <td>Mclendon</td>\n",
       "    </tr>\n",
       "    <tr>\n",
       "      <th>23</th>\n",
       "      <td>David</td>\n",
       "      <td>Gross</td>\n",
       "    </tr>\n",
       "    <tr>\n",
       "      <th>24</th>\n",
       "      <td>Jesus</td>\n",
       "      <td>Boswell</td>\n",
       "    </tr>\n",
       "    <tr>\n",
       "      <th>25</th>\n",
       "      <td>Richard</td>\n",
       "      <td>Joyce</td>\n",
       "    </tr>\n",
       "    <tr>\n",
       "      <th>26</th>\n",
       "      <td>Henry</td>\n",
       "      <td>Allen</td>\n",
       "    </tr>\n",
       "    <tr>\n",
       "      <th>27</th>\n",
       "      <td>Pedro</td>\n",
       "      <td>Baldyga</td>\n",
       "    </tr>\n",
       "    <tr>\n",
       "      <th>28</th>\n",
       "      <td>Israel</td>\n",
       "      <td>Mota</td>\n",
       "    </tr>\n",
       "    <tr>\n",
       "      <th>29</th>\n",
       "      <td>Mary</td>\n",
       "      <td>Chi</td>\n",
       "    </tr>\n",
       "    <tr>\n",
       "      <th>...</th>\n",
       "      <td>...</td>\n",
       "      <td>...</td>\n",
       "    </tr>\n",
       "    <tr>\n",
       "      <th>9970</th>\n",
       "      <td>Georgina</td>\n",
       "      <td>Williams</td>\n",
       "    </tr>\n",
       "    <tr>\n",
       "      <th>9971</th>\n",
       "      <td>Lynette</td>\n",
       "      <td>Barth</td>\n",
       "    </tr>\n",
       "    <tr>\n",
       "      <th>9972</th>\n",
       "      <td>Vickie</td>\n",
       "      <td>Moore</td>\n",
       "    </tr>\n",
       "    <tr>\n",
       "      <th>9973</th>\n",
       "      <td>Willie</td>\n",
       "      <td>Watanabe</td>\n",
       "    </tr>\n",
       "    <tr>\n",
       "      <th>9974</th>\n",
       "      <td>Sylvia</td>\n",
       "      <td>Kalberer</td>\n",
       "    </tr>\n",
       "    <tr>\n",
       "      <th>9975</th>\n",
       "      <td>Derek</td>\n",
       "      <td>Nealy</td>\n",
       "    </tr>\n",
       "    <tr>\n",
       "      <th>9976</th>\n",
       "      <td>Charles</td>\n",
       "      <td>Dixson</td>\n",
       "    </tr>\n",
       "    <tr>\n",
       "      <th>9977</th>\n",
       "      <td>Jonathan</td>\n",
       "      <td>Daniels</td>\n",
       "    </tr>\n",
       "    <tr>\n",
       "      <th>9978</th>\n",
       "      <td>Dave</td>\n",
       "      <td>Brown</td>\n",
       "    </tr>\n",
       "    <tr>\n",
       "      <th>9979</th>\n",
       "      <td>Ralph</td>\n",
       "      <td>Latham</td>\n",
       "    </tr>\n",
       "    <tr>\n",
       "      <th>9980</th>\n",
       "      <td>Leta</td>\n",
       "      <td>Edgeworth</td>\n",
       "    </tr>\n",
       "    <tr>\n",
       "      <th>9981</th>\n",
       "      <td>Megan</td>\n",
       "      <td>Mccullar</td>\n",
       "    </tr>\n",
       "    <tr>\n",
       "      <th>9982</th>\n",
       "      <td>Olivia</td>\n",
       "      <td>Martin</td>\n",
       "    </tr>\n",
       "    <tr>\n",
       "      <th>9983</th>\n",
       "      <td>Anne</td>\n",
       "      <td>Hughes</td>\n",
       "    </tr>\n",
       "    <tr>\n",
       "      <th>9984</th>\n",
       "      <td>John</td>\n",
       "      <td>Adams</td>\n",
       "    </tr>\n",
       "    <tr>\n",
       "      <th>9985</th>\n",
       "      <td>John</td>\n",
       "      <td>Hebert</td>\n",
       "    </tr>\n",
       "    <tr>\n",
       "      <th>9986</th>\n",
       "      <td>Shelly</td>\n",
       "      <td>Santos</td>\n",
       "    </tr>\n",
       "    <tr>\n",
       "      <th>9987</th>\n",
       "      <td>Roland</td>\n",
       "      <td>Williams</td>\n",
       "    </tr>\n",
       "    <tr>\n",
       "      <th>9988</th>\n",
       "      <td>Margaret</td>\n",
       "      <td>Henley</td>\n",
       "    </tr>\n",
       "    <tr>\n",
       "      <th>9989</th>\n",
       "      <td>Alice</td>\n",
       "      <td>Crowder</td>\n",
       "    </tr>\n",
       "    <tr>\n",
       "      <th>9990</th>\n",
       "      <td>Mable</td>\n",
       "      <td>Thompson</td>\n",
       "    </tr>\n",
       "    <tr>\n",
       "      <th>9991</th>\n",
       "      <td>Joseph</td>\n",
       "      <td>Robinson</td>\n",
       "    </tr>\n",
       "    <tr>\n",
       "      <th>9992</th>\n",
       "      <td>Gladys</td>\n",
       "      <td>Paul</td>\n",
       "    </tr>\n",
       "    <tr>\n",
       "      <th>9993</th>\n",
       "      <td>Douglas</td>\n",
       "      <td>Haas</td>\n",
       "    </tr>\n",
       "    <tr>\n",
       "      <th>9994</th>\n",
       "      <td>Brandy</td>\n",
       "      <td>Alford</td>\n",
       "    </tr>\n",
       "    <tr>\n",
       "      <th>9995</th>\n",
       "      <td>Kendra</td>\n",
       "      <td>Bayer</td>\n",
       "    </tr>\n",
       "    <tr>\n",
       "      <th>9996</th>\n",
       "      <td>Tonya</td>\n",
       "      <td>Burnett</td>\n",
       "    </tr>\n",
       "    <tr>\n",
       "      <th>9997</th>\n",
       "      <td>Deborah</td>\n",
       "      <td>Conley</td>\n",
       "    </tr>\n",
       "    <tr>\n",
       "      <th>9998</th>\n",
       "      <td>David</td>\n",
       "      <td>Seay</td>\n",
       "    </tr>\n",
       "    <tr>\n",
       "      <th>9999</th>\n",
       "      <td>Cheryl</td>\n",
       "      <td>Edwards</td>\n",
       "    </tr>\n",
       "  </tbody>\n",
       "</table>\n",
       "<p>10000 rows × 2 columns</p>\n",
       "</div>"
      ],
      "text/plain": [
       "          first       last\n",
       "0         Janis      Brown\n",
       "1       Timothy     Bishop\n",
       "2     Elizabeth      Owens\n",
       "3        Edward    Pearson\n",
       "4          Lisa   Gonzalez\n",
       "5      Alphonse      Allen\n",
       "6       Linwood    Coleman\n",
       "7        Arthur   Mccolpin\n",
       "8        Daniel     Carter\n",
       "9         Barry      Reyes\n",
       "10    Maryellen       Pack\n",
       "11        Jacob      Davis\n",
       "12         Lisa     Walden\n",
       "13          Ida     Garcia\n",
       "14         Lola     Bailey\n",
       "15         Joan   Decoteau\n",
       "16        Larry     Rogers\n",
       "17    Bridgette    Vitucci\n",
       "18        James  Bertolini\n",
       "19        David   Burnette\n",
       "20       Ronald     Foster\n",
       "21      Heather    Manning\n",
       "22        Nancy   Mclendon\n",
       "23        David      Gross\n",
       "24        Jesus    Boswell\n",
       "25      Richard      Joyce\n",
       "26        Henry      Allen\n",
       "27        Pedro    Baldyga\n",
       "28       Israel       Mota\n",
       "29         Mary        Chi\n",
       "...         ...        ...\n",
       "9970   Georgina   Williams\n",
       "9971    Lynette      Barth\n",
       "9972     Vickie      Moore\n",
       "9973     Willie   Watanabe\n",
       "9974     Sylvia   Kalberer\n",
       "9975      Derek      Nealy\n",
       "9976    Charles     Dixson\n",
       "9977   Jonathan    Daniels\n",
       "9978       Dave      Brown\n",
       "9979      Ralph     Latham\n",
       "9980       Leta  Edgeworth\n",
       "9981      Megan   Mccullar\n",
       "9982     Olivia     Martin\n",
       "9983       Anne     Hughes\n",
       "9984       John      Adams\n",
       "9985       John     Hebert\n",
       "9986     Shelly     Santos\n",
       "9987     Roland   Williams\n",
       "9988   Margaret     Henley\n",
       "9989      Alice    Crowder\n",
       "9990      Mable   Thompson\n",
       "9991     Joseph   Robinson\n",
       "9992     Gladys       Paul\n",
       "9993    Douglas       Haas\n",
       "9994     Brandy     Alford\n",
       "9995     Kendra      Bayer\n",
       "9996      Tonya    Burnett\n",
       "9997    Deborah     Conley\n",
       "9998      David       Seay\n",
       "9999     Cheryl    Edwards\n",
       "\n",
       "[10000 rows x 2 columns]"
      ]
     },
     "execution_count": 9,
     "metadata": {},
     "output_type": "execute_result"
    }
   ],
   "source": [
    "full_names = students_df[['first', 'last']]\n",
    "full_names"
   ]
  },
  {
   "cell_type": "markdown",
   "metadata": {
    "collapsed": true
   },
   "source": [
    "##### Accessing rows\n",
    "\n",
    "Much like numpy arrays, rows can be accessed via indices."
   ]
  },
  {
   "cell_type": "code",
   "execution_count": 10,
   "metadata": {
    "collapsed": false
   },
   "outputs": [
    {
     "data": {
      "text/html": [
       "<div>\n",
       "<style>\n",
       "    .dataframe thead tr:only-child th {\n",
       "        text-align: right;\n",
       "    }\n",
       "\n",
       "    .dataframe thead th {\n",
       "        text-align: left;\n",
       "    }\n",
       "\n",
       "    .dataframe tbody tr th {\n",
       "        vertical-align: top;\n",
       "    }\n",
       "</style>\n",
       "<table border=\"1\" class=\"dataframe\">\n",
       "  <thead>\n",
       "    <tr style=\"text-align: right;\">\n",
       "      <th></th>\n",
       "      <th>student_id</th>\n",
       "      <th>first</th>\n",
       "      <th>last</th>\n",
       "      <th>gender</th>\n",
       "      <th>class</th>\n",
       "      <th>major</th>\n",
       "      <th>gpa</th>\n",
       "    </tr>\n",
       "  </thead>\n",
       "  <tbody>\n",
       "    <tr>\n",
       "      <th>0</th>\n",
       "      <td>5a397209-3782-4764-a285-10fae807ee71</td>\n",
       "      <td>Janis</td>\n",
       "      <td>Brown</td>\n",
       "      <td>Female</td>\n",
       "      <td>Junior</td>\n",
       "      <td>Economics</td>\n",
       "      <td>3.12</td>\n",
       "    </tr>\n",
       "    <tr>\n",
       "      <th>1</th>\n",
       "      <td>e26c3d69-3c74-49b6-81d7-47232787fad9</td>\n",
       "      <td>Timothy</td>\n",
       "      <td>Bishop</td>\n",
       "      <td>Male</td>\n",
       "      <td>Sophomore</td>\n",
       "      <td>Economics</td>\n",
       "      <td>3.48</td>\n",
       "    </tr>\n",
       "    <tr>\n",
       "      <th>2</th>\n",
       "      <td>975c1581-5ba2-430c-a3d1-01ce03bd83f9</td>\n",
       "      <td>Elizabeth</td>\n",
       "      <td>Owens</td>\n",
       "      <td>Female</td>\n",
       "      <td>Freshman</td>\n",
       "      <td>Finance</td>\n",
       "      <td>3.40</td>\n",
       "    </tr>\n",
       "    <tr>\n",
       "      <th>3</th>\n",
       "      <td>6081f91d-365c-46ce-ad1b-38af120781d9</td>\n",
       "      <td>Edward</td>\n",
       "      <td>Pearson</td>\n",
       "      <td>Male</td>\n",
       "      <td>Freshman</td>\n",
       "      <td>Math</td>\n",
       "      <td>3.84</td>\n",
       "    </tr>\n",
       "    <tr>\n",
       "      <th>4</th>\n",
       "      <td>84cec8f4-0b64-44ce-a628-c0eb73f6ca6f</td>\n",
       "      <td>Lisa</td>\n",
       "      <td>Gonzalez</td>\n",
       "      <td>Female</td>\n",
       "      <td>Junior</td>\n",
       "      <td>Finance</td>\n",
       "      <td>4.00</td>\n",
       "    </tr>\n",
       "  </tbody>\n",
       "</table>\n",
       "</div>"
      ],
      "text/plain": [
       "                             student_id      first      last  gender  \\\n",
       "0  5a397209-3782-4764-a285-10fae807ee71      Janis     Brown  Female   \n",
       "1  e26c3d69-3c74-49b6-81d7-47232787fad9    Timothy    Bishop    Male   \n",
       "2  975c1581-5ba2-430c-a3d1-01ce03bd83f9  Elizabeth     Owens  Female   \n",
       "3  6081f91d-365c-46ce-ad1b-38af120781d9     Edward   Pearson    Male   \n",
       "4  84cec8f4-0b64-44ce-a628-c0eb73f6ca6f       Lisa  Gonzalez  Female   \n",
       "\n",
       "       class      major   gpa  \n",
       "0     Junior  Economics  3.12  \n",
       "1  Sophomore  Economics  3.48  \n",
       "2   Freshman    Finance  3.40  \n",
       "3   Freshman       Math  3.84  \n",
       "4     Junior    Finance  4.00  "
      ]
     },
     "execution_count": 10,
     "metadata": {},
     "output_type": "execute_result"
    }
   ],
   "source": [
    "first_10_students = students_df.iloc[:5]\n",
    "first_10_students"
   ]
  },
  {
   "cell_type": "code",
   "execution_count": 11,
   "metadata": {
    "collapsed": false
   },
   "outputs": [
    {
     "data": {
      "text/html": [
       "<div>\n",
       "<style>\n",
       "    .dataframe thead tr:only-child th {\n",
       "        text-align: right;\n",
       "    }\n",
       "\n",
       "    .dataframe thead th {\n",
       "        text-align: left;\n",
       "    }\n",
       "\n",
       "    .dataframe tbody tr th {\n",
       "        vertical-align: top;\n",
       "    }\n",
       "</style>\n",
       "<table border=\"1\" class=\"dataframe\">\n",
       "  <thead>\n",
       "    <tr style=\"text-align: right;\">\n",
       "      <th></th>\n",
       "      <th>student_id</th>\n",
       "      <th>first</th>\n",
       "      <th>last</th>\n",
       "      <th>gender</th>\n",
       "      <th>class</th>\n",
       "      <th>major</th>\n",
       "      <th>gpa</th>\n",
       "    </tr>\n",
       "  </thead>\n",
       "  <tbody>\n",
       "    <tr>\n",
       "      <th>5</th>\n",
       "      <td>6c849c3e-e640-4bba-a86a-4323fd513b90</td>\n",
       "      <td>Alphonse</td>\n",
       "      <td>Allen</td>\n",
       "      <td>Male</td>\n",
       "      <td>Freshman</td>\n",
       "      <td>Engineering</td>\n",
       "      <td>2.99</td>\n",
       "    </tr>\n",
       "    <tr>\n",
       "      <th>6</th>\n",
       "      <td>a5c87c39-447c-4c29-92af-fa702a8d5595</td>\n",
       "      <td>Linwood</td>\n",
       "      <td>Coleman</td>\n",
       "      <td>Male</td>\n",
       "      <td>Freshman</td>\n",
       "      <td>Engineering</td>\n",
       "      <td>3.58</td>\n",
       "    </tr>\n",
       "    <tr>\n",
       "      <th>7</th>\n",
       "      <td>f6b177e8-e00a-480e-b62e-906c2ad80f85</td>\n",
       "      <td>Arthur</td>\n",
       "      <td>Mccolpin</td>\n",
       "      <td>Male</td>\n",
       "      <td>Junior</td>\n",
       "      <td>Math</td>\n",
       "      <td>3.04</td>\n",
       "    </tr>\n",
       "    <tr>\n",
       "      <th>8</th>\n",
       "      <td>8387594f-c9b2-4daa-ae93-c3e40f58cb26</td>\n",
       "      <td>Daniel</td>\n",
       "      <td>Carter</td>\n",
       "      <td>Male</td>\n",
       "      <td>Junior</td>\n",
       "      <td>Chemistry</td>\n",
       "      <td>2.41</td>\n",
       "    </tr>\n",
       "    <tr>\n",
       "      <th>9</th>\n",
       "      <td>156aefe7-73b4-4777-929c-7aa9c0cd35c5</td>\n",
       "      <td>Barry</td>\n",
       "      <td>Reyes</td>\n",
       "      <td>Male</td>\n",
       "      <td>Junior</td>\n",
       "      <td>Finance</td>\n",
       "      <td>3.00</td>\n",
       "    </tr>\n",
       "  </tbody>\n",
       "</table>\n",
       "</div>"
      ],
      "text/plain": [
       "                             student_id     first      last gender     class  \\\n",
       "5  6c849c3e-e640-4bba-a86a-4323fd513b90  Alphonse     Allen   Male  Freshman   \n",
       "6  a5c87c39-447c-4c29-92af-fa702a8d5595   Linwood   Coleman   Male  Freshman   \n",
       "7  f6b177e8-e00a-480e-b62e-906c2ad80f85    Arthur  Mccolpin   Male    Junior   \n",
       "8  8387594f-c9b2-4daa-ae93-c3e40f58cb26    Daniel    Carter   Male    Junior   \n",
       "9  156aefe7-73b4-4777-929c-7aa9c0cd35c5     Barry     Reyes   Male    Junior   \n",
       "\n",
       "         major   gpa  \n",
       "5  Engineering  2.99  \n",
       "6  Engineering  3.58  \n",
       "7         Math  3.04  \n",
       "8    Chemistry  2.41  \n",
       "9      Finance  3.00  "
      ]
     },
     "execution_count": 11,
     "metadata": {},
     "output_type": "execute_result"
    }
   ],
   "source": [
    "second_10_students = students_df.iloc[5:10]\n",
    "second_10_students"
   ]
  },
  {
   "cell_type": "markdown",
   "metadata": {
    "collapsed": true
   },
   "source": [
    "Also like numpy arrays, you can filter! This is going to be life changing!"
   ]
  },
  {
   "cell_type": "code",
   "execution_count": 14,
   "metadata": {
    "collapsed": false
   },
   "outputs": [
    {
     "data": {
      "text/html": [
       "<div>\n",
       "<style>\n",
       "    .dataframe thead tr:only-child th {\n",
       "        text-align: right;\n",
       "    }\n",
       "\n",
       "    .dataframe thead th {\n",
       "        text-align: left;\n",
       "    }\n",
       "\n",
       "    .dataframe tbody tr th {\n",
       "        vertical-align: top;\n",
       "    }\n",
       "</style>\n",
       "<table border=\"1\" class=\"dataframe\">\n",
       "  <thead>\n",
       "    <tr style=\"text-align: right;\">\n",
       "      <th></th>\n",
       "      <th>student_id</th>\n",
       "      <th>first</th>\n",
       "      <th>last</th>\n",
       "      <th>gender</th>\n",
       "      <th>class</th>\n",
       "      <th>major</th>\n",
       "      <th>gpa</th>\n",
       "    </tr>\n",
       "  </thead>\n",
       "  <tbody>\n",
       "    <tr>\n",
       "      <th>0</th>\n",
       "      <td>5a397209-3782-4764-a285-10fae807ee71</td>\n",
       "      <td>Janis</td>\n",
       "      <td>Brown</td>\n",
       "      <td>Female</td>\n",
       "      <td>Junior</td>\n",
       "      <td>Economics</td>\n",
       "      <td>3.12</td>\n",
       "    </tr>\n",
       "    <tr>\n",
       "      <th>2</th>\n",
       "      <td>975c1581-5ba2-430c-a3d1-01ce03bd83f9</td>\n",
       "      <td>Elizabeth</td>\n",
       "      <td>Owens</td>\n",
       "      <td>Female</td>\n",
       "      <td>Freshman</td>\n",
       "      <td>Finance</td>\n",
       "      <td>3.40</td>\n",
       "    </tr>\n",
       "    <tr>\n",
       "      <th>4</th>\n",
       "      <td>84cec8f4-0b64-44ce-a628-c0eb73f6ca6f</td>\n",
       "      <td>Lisa</td>\n",
       "      <td>Gonzalez</td>\n",
       "      <td>Female</td>\n",
       "      <td>Junior</td>\n",
       "      <td>Finance</td>\n",
       "      <td>4.00</td>\n",
       "    </tr>\n",
       "    <tr>\n",
       "      <th>10</th>\n",
       "      <td>8dd7650e-55e0-416e-9f7e-44ead1dc08a2</td>\n",
       "      <td>Maryellen</td>\n",
       "      <td>Pack</td>\n",
       "      <td>Female</td>\n",
       "      <td>Junior</td>\n",
       "      <td>Finance</td>\n",
       "      <td>3.83</td>\n",
       "    </tr>\n",
       "    <tr>\n",
       "      <th>12</th>\n",
       "      <td>1846c044-9a87-49e4-ad4f-d1bfadb4e41b</td>\n",
       "      <td>Lisa</td>\n",
       "      <td>Walden</td>\n",
       "      <td>Female</td>\n",
       "      <td>Senior</td>\n",
       "      <td>Economics</td>\n",
       "      <td>3.40</td>\n",
       "    </tr>\n",
       "    <tr>\n",
       "      <th>13</th>\n",
       "      <td>21cdf664-d905-44ae-a480-81b687aefa67</td>\n",
       "      <td>Ida</td>\n",
       "      <td>Garcia</td>\n",
       "      <td>Female</td>\n",
       "      <td>Freshman</td>\n",
       "      <td>Chemistry</td>\n",
       "      <td>3.54</td>\n",
       "    </tr>\n",
       "    <tr>\n",
       "      <th>14</th>\n",
       "      <td>15714049-2a88-4dbc-8d1a-dde0095a3acf</td>\n",
       "      <td>Lola</td>\n",
       "      <td>Bailey</td>\n",
       "      <td>Female</td>\n",
       "      <td>Senior</td>\n",
       "      <td>Physics</td>\n",
       "      <td>3.28</td>\n",
       "    </tr>\n",
       "    <tr>\n",
       "      <th>15</th>\n",
       "      <td>35de9214-505e-4d55-80e6-0302098a44b6</td>\n",
       "      <td>Joan</td>\n",
       "      <td>Decoteau</td>\n",
       "      <td>Female</td>\n",
       "      <td>Senior</td>\n",
       "      <td>Economics</td>\n",
       "      <td>3.81</td>\n",
       "    </tr>\n",
       "    <tr>\n",
       "      <th>17</th>\n",
       "      <td>4cb6a2fb-7f67-45ca-abc6-7252aa99d9f0</td>\n",
       "      <td>Bridgette</td>\n",
       "      <td>Vitucci</td>\n",
       "      <td>Female</td>\n",
       "      <td>Sophomore</td>\n",
       "      <td>Chemistry</td>\n",
       "      <td>3.10</td>\n",
       "    </tr>\n",
       "    <tr>\n",
       "      <th>21</th>\n",
       "      <td>8eaad117-5777-4ea5-bb6d-663865eeb196</td>\n",
       "      <td>Heather</td>\n",
       "      <td>Manning</td>\n",
       "      <td>Female</td>\n",
       "      <td>Sophomore</td>\n",
       "      <td>Engineering</td>\n",
       "      <td>2.87</td>\n",
       "    </tr>\n",
       "    <tr>\n",
       "      <th>22</th>\n",
       "      <td>5968575c-4098-42c7-9dba-2e4033f54368</td>\n",
       "      <td>Nancy</td>\n",
       "      <td>Mclendon</td>\n",
       "      <td>Female</td>\n",
       "      <td>Sophomore</td>\n",
       "      <td>Chemistry</td>\n",
       "      <td>3.24</td>\n",
       "    </tr>\n",
       "    <tr>\n",
       "      <th>29</th>\n",
       "      <td>baf7db6c-f6de-4bd5-aaf0-e55e2804cdc6</td>\n",
       "      <td>Mary</td>\n",
       "      <td>Chi</td>\n",
       "      <td>Female</td>\n",
       "      <td>Sophomore</td>\n",
       "      <td>Finance</td>\n",
       "      <td>3.39</td>\n",
       "    </tr>\n",
       "    <tr>\n",
       "      <th>30</th>\n",
       "      <td>24b99dac-af47-4650-a24b-152fc482921b</td>\n",
       "      <td>Jennifer</td>\n",
       "      <td>Miller</td>\n",
       "      <td>Female</td>\n",
       "      <td>Sophomore</td>\n",
       "      <td>Finance</td>\n",
       "      <td>3.07</td>\n",
       "    </tr>\n",
       "    <tr>\n",
       "      <th>31</th>\n",
       "      <td>9dc99b9b-d5d3-4fba-8b40-c333d6113fe7</td>\n",
       "      <td>Kerri</td>\n",
       "      <td>Simpson</td>\n",
       "      <td>Female</td>\n",
       "      <td>Senior</td>\n",
       "      <td>Chemistry</td>\n",
       "      <td>3.43</td>\n",
       "    </tr>\n",
       "    <tr>\n",
       "      <th>32</th>\n",
       "      <td>63a1e919-0e1d-4b73-b0fc-91cf29f4ed41</td>\n",
       "      <td>Roberta</td>\n",
       "      <td>Gray</td>\n",
       "      <td>Female</td>\n",
       "      <td>Sophomore</td>\n",
       "      <td>Finance</td>\n",
       "      <td>3.47</td>\n",
       "    </tr>\n",
       "    <tr>\n",
       "      <th>34</th>\n",
       "      <td>93d716b9-2c91-49d5-aacb-fa695a4aa2c3</td>\n",
       "      <td>Virgina</td>\n",
       "      <td>Solomon</td>\n",
       "      <td>Female</td>\n",
       "      <td>Senior</td>\n",
       "      <td>Chemistry</td>\n",
       "      <td>3.21</td>\n",
       "    </tr>\n",
       "    <tr>\n",
       "      <th>36</th>\n",
       "      <td>1418830a-ca98-4b96-96c4-2b06a51ea306</td>\n",
       "      <td>Janet</td>\n",
       "      <td>Hudson</td>\n",
       "      <td>Female</td>\n",
       "      <td>Senior</td>\n",
       "      <td>Finance</td>\n",
       "      <td>4.00</td>\n",
       "    </tr>\n",
       "    <tr>\n",
       "      <th>38</th>\n",
       "      <td>e3785211-2243-458f-8e88-362143825f98</td>\n",
       "      <td>Susan</td>\n",
       "      <td>Taylor</td>\n",
       "      <td>Female</td>\n",
       "      <td>Senior</td>\n",
       "      <td>Finance</td>\n",
       "      <td>3.86</td>\n",
       "    </tr>\n",
       "    <tr>\n",
       "      <th>41</th>\n",
       "      <td>a4d4acc8-0620-469e-bb5f-dd2439d70ed7</td>\n",
       "      <td>Ruby</td>\n",
       "      <td>White</td>\n",
       "      <td>Female</td>\n",
       "      <td>Senior</td>\n",
       "      <td>Chemistry</td>\n",
       "      <td>3.59</td>\n",
       "    </tr>\n",
       "    <tr>\n",
       "      <th>42</th>\n",
       "      <td>8db0ec98-c888-4c9f-9ad7-845396785f30</td>\n",
       "      <td>Frances</td>\n",
       "      <td>Swisher</td>\n",
       "      <td>Female</td>\n",
       "      <td>Sophomore</td>\n",
       "      <td>Engineering</td>\n",
       "      <td>3.09</td>\n",
       "    </tr>\n",
       "  </tbody>\n",
       "</table>\n",
       "</div>"
      ],
      "text/plain": [
       "                              student_id      first      last  gender  \\\n",
       "0   5a397209-3782-4764-a285-10fae807ee71      Janis     Brown  Female   \n",
       "2   975c1581-5ba2-430c-a3d1-01ce03bd83f9  Elizabeth     Owens  Female   \n",
       "4   84cec8f4-0b64-44ce-a628-c0eb73f6ca6f       Lisa  Gonzalez  Female   \n",
       "10  8dd7650e-55e0-416e-9f7e-44ead1dc08a2  Maryellen      Pack  Female   \n",
       "12  1846c044-9a87-49e4-ad4f-d1bfadb4e41b       Lisa    Walden  Female   \n",
       "13  21cdf664-d905-44ae-a480-81b687aefa67        Ida    Garcia  Female   \n",
       "14  15714049-2a88-4dbc-8d1a-dde0095a3acf       Lola    Bailey  Female   \n",
       "15  35de9214-505e-4d55-80e6-0302098a44b6       Joan  Decoteau  Female   \n",
       "17  4cb6a2fb-7f67-45ca-abc6-7252aa99d9f0  Bridgette   Vitucci  Female   \n",
       "21  8eaad117-5777-4ea5-bb6d-663865eeb196    Heather   Manning  Female   \n",
       "22  5968575c-4098-42c7-9dba-2e4033f54368      Nancy  Mclendon  Female   \n",
       "29  baf7db6c-f6de-4bd5-aaf0-e55e2804cdc6       Mary       Chi  Female   \n",
       "30  24b99dac-af47-4650-a24b-152fc482921b   Jennifer    Miller  Female   \n",
       "31  9dc99b9b-d5d3-4fba-8b40-c333d6113fe7      Kerri   Simpson  Female   \n",
       "32  63a1e919-0e1d-4b73-b0fc-91cf29f4ed41    Roberta      Gray  Female   \n",
       "34  93d716b9-2c91-49d5-aacb-fa695a4aa2c3    Virgina   Solomon  Female   \n",
       "36  1418830a-ca98-4b96-96c4-2b06a51ea306      Janet    Hudson  Female   \n",
       "38  e3785211-2243-458f-8e88-362143825f98      Susan    Taylor  Female   \n",
       "41  a4d4acc8-0620-469e-bb5f-dd2439d70ed7       Ruby     White  Female   \n",
       "42  8db0ec98-c888-4c9f-9ad7-845396785f30    Frances   Swisher  Female   \n",
       "\n",
       "        class        major   gpa  \n",
       "0      Junior    Economics  3.12  \n",
       "2    Freshman      Finance  3.40  \n",
       "4      Junior      Finance  4.00  \n",
       "10     Junior      Finance  3.83  \n",
       "12     Senior    Economics  3.40  \n",
       "13   Freshman    Chemistry  3.54  \n",
       "14     Senior      Physics  3.28  \n",
       "15     Senior    Economics  3.81  \n",
       "17  Sophomore    Chemistry  3.10  \n",
       "21  Sophomore  Engineering  2.87  \n",
       "22  Sophomore    Chemistry  3.24  \n",
       "29  Sophomore      Finance  3.39  \n",
       "30  Sophomore      Finance  3.07  \n",
       "31     Senior    Chemistry  3.43  \n",
       "32  Sophomore      Finance  3.47  \n",
       "34     Senior    Chemistry  3.21  \n",
       "36     Senior      Finance  4.00  \n",
       "38     Senior      Finance  3.86  \n",
       "41     Senior    Chemistry  3.59  \n",
       "42  Sophomore  Engineering  3.09  "
      ]
     },
     "execution_count": 14,
     "metadata": {},
     "output_type": "execute_result"
    }
   ],
   "source": [
    "female_students_df = students_df[students_df['gender']=='Female']\n",
    "female_students_df.head(20)"
   ]
  },
  {
   "cell_type": "markdown",
   "metadata": {
    "collapsed": true
   },
   "source": [
    "Let's take a step-by-step approach to figuring out that filter."
   ]
  },
  {
   "cell_type": "code",
   "execution_count": null,
   "metadata": {
    "collapsed": true
   },
   "outputs": [],
   "source": [
    "#Find out which rows are females\n"
   ]
  },
  {
   "cell_type": "code",
   "execution_count": null,
   "metadata": {
    "collapsed": true
   },
   "outputs": [],
   "source": [
    "#Now apply that filter to the DataFrame\n"
   ]
  },
  {
   "cell_type": "code",
   "execution_count": null,
   "metadata": {
    "collapsed": true
   },
   "outputs": [],
   "source": [
    "#How many are students are there?\n"
   ]
  },
  {
   "cell_type": "code",
   "execution_count": null,
   "metadata": {
    "collapsed": true
   },
   "outputs": [],
   "source": [
    "#Now let's find out which rows are females and are studying Economics\n"
   ]
  },
  {
   "cell_type": "code",
   "execution_count": null,
   "metadata": {
    "collapsed": true
   },
   "outputs": [],
   "source": [
    "#Now apply that double filter to the DataFrame\n"
   ]
  },
  {
   "cell_type": "code",
   "execution_count": null,
   "metadata": {
    "collapsed": true
   },
   "outputs": [],
   "source": [
    "#How many are students are there?\n"
   ]
  },
  {
   "cell_type": "code",
   "execution_count": null,
   "metadata": {
    "collapsed": true
   },
   "outputs": [],
   "source": [
    "#Now let's find out which rows are females and are studying Engineering and are on probation\n"
   ]
  },
  {
   "cell_type": "code",
   "execution_count": null,
   "metadata": {
    "collapsed": true
   },
   "outputs": [],
   "source": [
    "#Now apply that double filter to the DataFrame\n"
   ]
  },
  {
   "cell_type": "code",
   "execution_count": null,
   "metadata": {
    "collapsed": true
   },
   "outputs": [],
   "source": [
    "#How many are students are there?\n"
   ]
  },
  {
   "cell_type": "code",
   "execution_count": null,
   "metadata": {
    "collapsed": true
   },
   "outputs": [],
   "source": []
  },
  {
   "cell_type": "code",
   "execution_count": null,
   "metadata": {
    "collapsed": true
   },
   "outputs": [],
   "source": []
  },
  {
   "cell_type": "code",
   "execution_count": null,
   "metadata": {
    "collapsed": true
   },
   "outputs": [],
   "source": []
  },
  {
   "cell_type": "code",
   "execution_count": null,
   "metadata": {
    "collapsed": true
   },
   "outputs": [],
   "source": []
  },
  {
   "cell_type": "code",
   "execution_count": null,
   "metadata": {
    "collapsed": true
   },
   "outputs": [],
   "source": []
  }
 ],
 "metadata": {
  "anaconda-cloud": {},
  "kernelspec": {
   "display_name": "Python [conda env:py35]",
   "language": "python",
   "name": "conda-env-py35-py"
  },
  "language_info": {
   "codemirror_mode": {
    "name": "ipython",
    "version": 3
   },
   "file_extension": ".py",
   "mimetype": "text/x-python",
   "name": "python",
   "nbconvert_exporter": "python",
   "pygments_lexer": "ipython3",
   "version": "3.5.4"
  }
 },
 "nbformat": 4,
 "nbformat_minor": 1
}
