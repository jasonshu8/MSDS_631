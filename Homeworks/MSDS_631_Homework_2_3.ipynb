{
 "cells": [
  {
   "cell_type": "markdown",
   "metadata": {},
   "source": [
    "# Homework 2 and 3\n",
    "In this assignment, you will begin to develop your skills to build functions that perform loops and control flow. Problems will get gradually more difficult. The final portion of this exercise is only **required** by students in Section 05. Everyone is welcome to attempt these problems and I will grade your responses for your own learning, but those not enrolled in Section 05 will not receive a grade for these problems."
   ]
  },
  {
   "cell_type": "markdown",
   "metadata": {},
   "source": [
    "### Brief refresher for this homework about string formatting and \n",
    "#### String formatting\n",
    "\n",
    "If you recall, formatting a string is as simple as putting curly braces as a placeholder for the string, then \"passing\" the string some fillers to go where the placeholders were."
   ]
  },
  {
   "cell_type": "code",
   "execution_count": null,
   "metadata": {
    "collapsed": false
   },
   "outputs": [],
   "source": [
    "base_phrase = 'Hello my name is {}. I turn {} next month.'\n",
    "filled_in_phrase1 = base_phrase.format('Jason', 40)\n",
    "print(filled_in_phrase1)\n",
    "filled_in_phrase2 = base_phrase.format('Eileen', 39)\n",
    "print(filled_in_phrase2)\n",
    "filled_in_phrase3 = base_phrase.format(40, 'Jason') # Python will do what you ask; doesn't need to make sense\n",
    "print(filled_in_phrase3)"
   ]
  },
  {
   "cell_type": "markdown",
   "metadata": {},
   "source": [
    "We will spend a few minutes talking about string formatting next week, but this should help you for this homework"
   ]
  },
  {
   "cell_type": "markdown",
   "metadata": {},
   "source": [
    "#### Functions\n",
    "Functions are a way of storing a list of commands that can be used whenever you want. When you create the function, no computations are actually made. It only executes the steps within the function after you \"call\" it and \"pass\" it arguments."
   ]
  },
  {
   "cell_type": "code",
   "execution_count": null,
   "metadata": {
    "collapsed": true
   },
   "outputs": [],
   "source": [
    "def say_hello(name):\n",
    "    phrase = 'Hello {}'.format(name)\n",
    "    print(phrase)"
   ]
  },
  {
   "cell_type": "code",
   "execution_count": null,
   "metadata": {
    "collapsed": false
   },
   "outputs": [],
   "source": [
    "say_hello('Jason')"
   ]
  },
  {
   "cell_type": "markdown",
   "metadata": {},
   "source": [
    "Functions typically \"return\" something after you call it. You must instruct the function to return what you want in order for it to work. Any variables created within the function will not be available to be used because they are \"local\" to the specific function. This is a positive thing since so many intermediate variables can be created during the writing of complicated analyses, and this allows you to keep your variable names simple without running the risk of inadvertantly overwriting a variable with a new value."
   ]
  },
  {
   "cell_type": "code",
   "execution_count": null,
   "metadata": {
    "collapsed": true
   },
   "outputs": [],
   "source": [
    "#Let's write a function to compute the sum of the first n integers (starting at 0)\n",
    "def compute_sum_of_first_numbers(how_many):\n",
    "    numbers = list(range(how_many))\n",
    "    total = sum(numbers)"
   ]
  },
  {
   "cell_type": "code",
   "execution_count": null,
   "metadata": {
    "collapsed": false
   },
   "outputs": [],
   "source": [
    "compute_sum_of_first_numbers(5)\n",
    "print(total) # Try printing total, which is local within the function."
   ]
  },
  {
   "cell_type": "code",
   "execution_count": null,
   "metadata": {
    "collapsed": true
   },
   "outputs": [],
   "source": [
    "#Let's modify the function to return the value we wanted\n",
    "def compute_sum_of_first_numbers(how_many):\n",
    "    numbers = list(range(how_many))\n",
    "    total = sum(numbers)\n",
    "    return total"
   ]
  },
  {
   "cell_type": "code",
   "execution_count": null,
   "metadata": {
    "collapsed": false
   },
   "outputs": [],
   "source": [
    "# The variable you pass does not need to match the name of the variable in the function\n",
    "num = 5\n",
    "total = compute_sum_of_first_numbers(num)\n",
    "print('The sum of the first {} numbers is {}'.format(num, total))"
   ]
  },
  {
   "cell_type": "code",
   "execution_count": null,
   "metadata": {
    "collapsed": false
   },
   "outputs": [],
   "source": [
    "# The local variable \"numbers\" not available because it wasn't returned by the function; thus it throws an error\n",
    "print(numbers)"
   ]
  },
  {
   "cell_type": "code",
   "execution_count": null,
   "metadata": {
    "collapsed": true
   },
   "outputs": [],
   "source": [
    "#Let's modify the function to choose where you start your range\n",
    "def compute_sum_of_first_numbers(how_many, starting_point):\n",
    "    end = starting_point + how_many\n",
    "    numbers = list(range(starting_point, end))\n",
    "    total = sum(numbers)\n",
    "    return total"
   ]
  },
  {
   "cell_type": "code",
   "execution_count": null,
   "metadata": {
    "collapsed": false
   },
   "outputs": [],
   "source": [
    "# As your list of arguments gets longer, make sure you are passing the right arguments to the function\n",
    "num = 5\n",
    "start = 1\n",
    "total = compute_sum_of_first_numbers(num, start)\n",
    "print('The sum of the first {} numbers (starting from {}) is {}'.format(num, start, total))"
   ]
  },
  {
   "cell_type": "code",
   "execution_count": null,
   "metadata": {
    "collapsed": false
   },
   "outputs": [],
   "source": [
    "# The variable you pass does not need to match the name of the variable in the function\n",
    "num = 100\n",
    "start = 1000\n",
    "total = compute_sum_of_first_numbers(num, start)\n",
    "print('The sum of the first {} numbers (starting from {}) is {}'.format(num, start, total))"
   ]
  },
  {
   "cell_type": "markdown",
   "metadata": {},
   "source": [
    "## Control Flow\n",
    "\n",
    "For problems in the Control Flow section, please implement your solutions to all questions inside of a function. Unless otherwise indicated, please call your function in a subsequent cell and store the output into a variable, then print your answer in a sentence using string formatting.\n",
    "\n",
    "The cells I provide are for your convenience. If you need more or fewer, add or delete cells as you wish.\n",
    "\n",
    "#### Part 1 - What's my grade?"
   ]
  },
  {
   "cell_type": "code",
   "execution_count": null,
   "metadata": {
    "collapsed": true
   },
   "outputs": [],
   "source": [
    "# Use these as inputs into your functions\n",
    "# I should be able to change these values and re-run all of your code for Part 1 and get new answers\n",
    "my_points = 53\n",
    "possible_points = 79"
   ]
  },
  {
   "cell_type": "markdown",
   "metadata": {},
   "source": [
    "1.1) Let's start by building a little auto-grader for an exam. In the cells below, build a function that computes a score based on points earned and points possible. Call it to see if it works."
   ]
  },
  {
   "cell_type": "code",
   "execution_count": null,
   "metadata": {
    "collapsed": true
   },
   "outputs": [],
   "source": []
  },
  {
   "cell_type": "code",
   "execution_count": null,
   "metadata": {
    "collapsed": true
   },
   "outputs": [],
   "source": []
  },
  {
   "cell_type": "markdown",
   "metadata": {},
   "source": [
    "1.2a) Let's figure out whether I passed. In the cell below, build a function that takes a score and determine whether I passed. A passing score is 70%."
   ]
  },
  {
   "cell_type": "code",
   "execution_count": null,
   "metadata": {
    "collapsed": true
   },
   "outputs": [],
   "source": []
  },
  {
   "cell_type": "markdown",
   "metadata": {},
   "source": [
    "1.2b) Build a function that takes an exam score and calls your function from `1.2a`. In your new function, take the result from `1.2a` and use control flow to print a sentence indicating whether I passed or not. Complete the problem by calling your function."
   ]
  },
  {
   "cell_type": "code",
   "execution_count": null,
   "metadata": {
    "collapsed": true
   },
   "outputs": [],
   "source": []
  },
  {
   "cell_type": "code",
   "execution_count": null,
   "metadata": {
    "collapsed": true
   },
   "outputs": [],
   "source": []
  },
  {
   "cell_type": "markdown",
   "metadata": {},
   "source": [
    "1.3) Now let's determine what letter grade I got on the exam. Using the traditional 90-80-70-60 grading scale, please build a function that uses Python control flow to return the letter grade I got. Then call your function while passing it my exam score."
   ]
  },
  {
   "cell_type": "code",
   "execution_count": null,
   "metadata": {
    "collapsed": true
   },
   "outputs": [],
   "source": []
  },
  {
   "cell_type": "code",
   "execution_count": null,
   "metadata": {
    "collapsed": true
   },
   "outputs": [],
   "source": []
  },
  {
   "cell_type": "markdown",
   "metadata": {},
   "source": [
    "1.4) Now let's get even more precise and determine what specific letter grade I got on the exam. If the score (after rounding) ends in a 7, 8, or 9, then add a \"+\" to my letter grade (e.g. 88% is a B+). If the score ends in a 0, 1, or 2, then add a '-' to my letter grade (e.g. 92% is an A-). Scores ending in 3, 4, 5, or 6 should have no + or -. Please build a function that uses Python control flow to return the specific grade that I got. Call it and print what I got in a sentence.\n",
    "\n",
    "NOTE: There are MANY different ways to implement this - some are more efficient than others. I encourage you to consider ways of implementing this without having to write out EVERY single grade possibility in your if-else statements. Think hard about all of the techniques you've learned so far! You do not *need* to write out every single possibility. **I will award up to 10 extra credit points on the first exam to the person that figures out the most efficient way of doing this!** The number of points awarded depends on how good the implementation is (this is only valid for the first submittal, not on the re-submittal)."
   ]
  },
  {
   "cell_type": "code",
   "execution_count": null,
   "metadata": {
    "collapsed": true
   },
   "outputs": [],
   "source": []
  },
  {
   "cell_type": "code",
   "execution_count": null,
   "metadata": {
    "collapsed": true
   },
   "outputs": [],
   "source": []
  },
  {
   "cell_type": "code",
   "execution_count": null,
   "metadata": {
    "collapsed": true
   },
   "outputs": [],
   "source": []
  },
  {
   "cell_type": "code",
   "execution_count": null,
   "metadata": {
    "collapsed": true
   },
   "outputs": [],
   "source": []
  },
  {
   "cell_type": "markdown",
   "metadata": {},
   "source": [
    "Some students are taking the class as pass/fail and others are taking the class for a real grade. I've created a new variable called `grade_type`. The two possible values for `grade_type` are `'pass_fail'` or `'graded'`."
   ]
  },
  {
   "cell_type": "code",
   "execution_count": null,
   "metadata": {
    "collapsed": true
   },
   "outputs": [],
   "source": [
    "grade_type = 'pass_fail' #alternatively could be 'graded'"
   ]
  },
  {
   "cell_type": "markdown",
   "metadata": {},
   "source": [
    "1.5) Build a function that evaluates a score and grade_type to return either the specific letter grade that I got (based on criteria from  1.4) or \"Pass\" or \"Fail\" (based on the criteria from Part 1.1). Call your function with my score and grade type and print what I got in a sentence."
   ]
  },
  {
   "cell_type": "code",
   "execution_count": null,
   "metadata": {
    "collapsed": true
   },
   "outputs": [],
   "source": []
  },
  {
   "cell_type": "code",
   "execution_count": null,
   "metadata": {
    "collapsed": true
   },
   "outputs": [],
   "source": []
  },
  {
   "cell_type": "code",
   "execution_count": null,
   "metadata": {
    "collapsed": true
   },
   "outputs": [],
   "source": []
  },
  {
   "cell_type": "markdown",
   "metadata": {},
   "source": [
    "#### Part 2 - You're such a square!\n",
    "I want to know whether a number is a perfect square. If you recall, a perfect square is a number whose square root is an integer. Python doesn't natively know how to do square roots, but from previous math classes, you should know that the square root of a number is really just a number to the power `0.5`. We will eventually learn how to use the various scientific libraries that allow us to perform square roots more naturally, but for now, this is a good workaround.\n",
    "\n",
    "I've assigned a number a value. I want to know if it is a perfect square (i.e. if the square root of the number is an integer)."
   ]
  },
  {
   "cell_type": "code",
   "execution_count": null,
   "metadata": {
    "collapsed": true
   },
   "outputs": [],
   "source": [
    "number = 54854788396"
   ]
  },
  {
   "cell_type": "markdown",
   "metadata": {},
   "source": [
    "2.1) Build a function that uses Python control flow to determine whether a number passed to it is a perfect square. Call it and print whether it is perfect in a sentence."
   ]
  },
  {
   "cell_type": "code",
   "execution_count": 38,
   "metadata": {
    "collapsed": false
   },
   "outputs": [
    {
     "data": {
      "text/plain": [
       "6.0"
      ]
     },
     "execution_count": 38,
     "metadata": {},
     "output_type": "execute_result"
    }
   ],
   "source": [
    "36**.5"
   ]
  },
  {
   "cell_type": "code",
   "execution_count": null,
   "metadata": {
    "collapsed": true
   },
   "outputs": [],
   "source": []
  },
  {
   "cell_type": "code",
   "execution_count": null,
   "metadata": {
    "collapsed": true
   },
   "outputs": [],
   "source": []
  },
  {
   "cell_type": "markdown",
   "metadata": {},
   "source": [
    "2.2) I desperately want my number to be perfect. Build a function that takes a number and figures out the smallest (positive) amount I would have to add to the number to make it perfect. Your function should return the amount that you needed to add."
   ]
  },
  {
   "cell_type": "code",
   "execution_count": null,
   "metadata": {
    "collapsed": true
   },
   "outputs": [],
   "source": []
  },
  {
   "cell_type": "code",
   "execution_count": null,
   "metadata": {
    "collapsed": true
   },
   "outputs": [],
   "source": []
  },
  {
   "cell_type": "markdown",
   "metadata": {},
   "source": [
    "2.3) Build a function that takes a number calls your function from 2.1. If it determines that your number is already perfect, print a sentence indicating that your number is already perfect. If it is not already perfect, then have your code call your function from 2.2 and determine how much needs to be added in order to make it perfect. Print a sentence indicating how much I would have to add to my original number and what the resulting perfect square number would be."
   ]
  },
  {
   "cell_type": "code",
   "execution_count": null,
   "metadata": {
    "collapsed": true
   },
   "outputs": [],
   "source": []
  },
  {
   "cell_type": "code",
   "execution_count": null,
   "metadata": {
    "collapsed": true
   },
   "outputs": [],
   "source": []
  },
  {
   "cell_type": "markdown",
   "metadata": {},
   "source": [
    "## Loops\n",
    "Unless otherwise indicated, you do not need to use functions for questions in this section."
   ]
  },
  {
   "cell_type": "markdown",
   "metadata": {},
   "source": [
    "#### Part 3 - Let's learn about numbers"
   ]
  },
  {
   "cell_type": "markdown",
   "metadata": {},
   "source": [
    "3.1) Build a for-loop that prints the first 5 numbers (starting at 0)."
   ]
  },
  {
   "cell_type": "code",
   "execution_count": null,
   "metadata": {
    "collapsed": true
   },
   "outputs": [],
   "source": []
  },
  {
   "cell_type": "markdown",
   "metadata": {},
   "source": [
    "3.2) Build a for-loop that evaluates each of the first 10 numbers (starting at 1) and prints a sentence indicating whether the number is even or odd."
   ]
  },
  {
   "cell_type": "code",
   "execution_count": null,
   "metadata": {
    "collapsed": true
   },
   "outputs": [],
   "source": []
  },
  {
   "cell_type": "markdown",
   "metadata": {},
   "source": [
    "3.3) What is the sum of the squares of all numbers less than or equal to 10?"
   ]
  },
  {
   "cell_type": "code",
   "execution_count": null,
   "metadata": {
    "collapsed": true
   },
   "outputs": [],
   "source": []
  },
  {
   "cell_type": "markdown",
   "metadata": {},
   "source": [
    "3.4) What is the sum of all numbers less than or equal to 1000 that are divisible by 3 or 5"
   ]
  },
  {
   "cell_type": "code",
   "execution_count": null,
   "metadata": {
    "collapsed": true
   },
   "outputs": [],
   "source": []
  },
  {
   "cell_type": "markdown",
   "metadata": {},
   "source": [
    "3.5) What is the sum of all numbers less than or equal to 1000 that are divisible by both 3 and 5?"
   ]
  },
  {
   "cell_type": "code",
   "execution_count": null,
   "metadata": {
    "collapsed": true
   },
   "outputs": [],
   "source": []
  },
  {
   "cell_type": "markdown",
   "metadata": {},
   "source": [
    "3.6) What are all of the numbers less than or equal to 1000 that are perfect squares?"
   ]
  },
  {
   "cell_type": "code",
   "execution_count": null,
   "metadata": {
    "collapsed": true
   },
   "outputs": [],
   "source": []
  },
  {
   "cell_type": "markdown",
   "metadata": {},
   "source": [
    "3.7) For numbers less than or equal to 20, compute the product of even and odd numbers, respectively."
   ]
  },
  {
   "cell_type": "code",
   "execution_count": null,
   "metadata": {
    "collapsed": true
   },
   "outputs": [],
   "source": []
  },
  {
   "cell_type": "markdown",
   "metadata": {},
   "source": [
    "3.8) For numbers less than or equal to 100, I want to know all of the numbers divisible by 2,3,4,5,6,7,8,9, and 10, **respectively.** Generate a list of numbers divisible by each divisor (i.e. list of numbers divisible by 2, list of numbers divisible by 3, etc)."
   ]
  },
  {
   "cell_type": "code",
   "execution_count": null,
   "metadata": {
    "collapsed": true
   },
   "outputs": [],
   "source": []
  },
  {
   "cell_type": "markdown",
   "metadata": {},
   "source": [
    "#### Part 4 - Find the missing number\n",
    "In the next cell, I'm generating a list of numbers where all of the numbers appear exactly twice, except for one (which shows up only once)."
   ]
  },
  {
   "cell_type": "code",
   "execution_count": 29,
   "metadata": {
    "collapsed": false
   },
   "outputs": [],
   "source": [
    "def generate_missing_number_list():\n",
    "    import random\n",
    "    nums = random.sample(list(range(1,100000)), 10000) * 2\n",
    "    nums.pop()\n",
    "    random.shuffle(nums)\n",
    "    return nums\n",
    "numbers = generate_missing_number_list()"
   ]
  },
  {
   "cell_type": "markdown",
   "metadata": {},
   "source": [
    "4.1) Find the number that appears only once in `numbers`."
   ]
  },
  {
   "cell_type": "code",
   "execution_count": 30,
   "metadata": {
    "collapsed": true
   },
   "outputs": [],
   "source": [
    "def hilary():\n",
    "    first_time = []\n",
    "    second_time = []\n",
    "    for n in numbers:\n",
    "        if n in first_time:\n",
    "            second_time.append(n)\n",
    "        else:\n",
    "            first_time.append(n)\n",
    "    single = set(first_time) - set(second_time)\n",
    "    return single"
   ]
  },
  {
   "cell_type": "code",
   "execution_count": 31,
   "metadata": {
    "collapsed": false
   },
   "outputs": [
    {
     "name": "stdout",
     "output_type": "stream",
     "text": [
      "2.34 s ± 46 ms per loop (mean ± std. dev. of 7 runs, 1 loop each)\n"
     ]
    }
   ],
   "source": [
    "timeit hilary()"
   ]
  },
  {
   "cell_type": "code",
   "execution_count": 32,
   "metadata": {
    "collapsed": true
   },
   "outputs": [],
   "source": [
    "def jason1():\n",
    "    data = {}\n",
    "    for i in numbers:\n",
    "        if i in data:\n",
    "            data[i] += 1\n",
    "        else:\n",
    "            data[i] = 1\n",
    "    for i in data:\n",
    "        if data[i] == 1:\n",
    "            return i"
   ]
  },
  {
   "cell_type": "code",
   "execution_count": 33,
   "metadata": {
    "collapsed": true
   },
   "outputs": [],
   "source": [
    "def jason2():\n",
    "    data = set([])\n",
    "    for i in numbers:\n",
    "        if i in data:\n",
    "            data.remove(i)\n",
    "        else:\n",
    "            data.add(i)\n",
    "    return data"
   ]
  },
  {
   "cell_type": "code",
   "execution_count": 34,
   "metadata": {
    "collapsed": true
   },
   "outputs": [],
   "source": [
    "def jason3():\n",
    "    number = 2 * sum(numbers) - sum(set(numbers))\n",
    "    return number"
   ]
  },
  {
   "cell_type": "code",
   "execution_count": 35,
   "metadata": {
    "collapsed": false
   },
   "outputs": [
    {
     "name": "stdout",
     "output_type": "stream",
     "text": [
      "3.67 ms ± 91 µs per loop (mean ± std. dev. of 7 runs, 100 loops each)\n"
     ]
    }
   ],
   "source": [
    "timeit jason1()"
   ]
  },
  {
   "cell_type": "code",
   "execution_count": 36,
   "metadata": {
    "collapsed": false
   },
   "outputs": [
    {
     "name": "stdout",
     "output_type": "stream",
     "text": [
      "3.23 ms ± 73.1 µs per loop (mean ± std. dev. of 7 runs, 100 loops each)\n"
     ]
    }
   ],
   "source": [
    "timeit jason2()"
   ]
  },
  {
   "cell_type": "code",
   "execution_count": 37,
   "metadata": {
    "collapsed": false
   },
   "outputs": [
    {
     "name": "stdout",
     "output_type": "stream",
     "text": [
      "1.39 ms ± 29.4 µs per loop (mean ± std. dev. of 7 runs, 1000 loops each)\n"
     ]
    }
   ],
   "source": [
    "timeit jason3()"
   ]
  },
  {
   "cell_type": "markdown",
   "metadata": {},
   "source": [
    "#### Part 5 - What's my grade?\n",
    "In the next cell, I'm generating data associated with students. The data is stored in three lists where the position of each index can be assumed to be associated with a single student. The lists include the students' ids and their scores on an exam. The exam was out of a possible total of 75 points"
   ]
  },
  {
   "cell_type": "code",
   "execution_count": 40,
   "metadata": {
    "collapsed": true
   },
   "outputs": [],
   "source": [
    "import uuid\n",
    "import numpy as np\n",
    "ids = [str(uuid.uuid4()) for _ in range(100)]\n",
    "points = [min(75, round(np.random.normal(.8,.1)*75)) for _ in range(100)]\n",
    "grade_type = [np.random.choice(['pass_fail', 'graded'], p=[.1,.9]) for _ in range(100)]"
   ]
  },
  {
   "cell_type": "markdown",
   "metadata": {},
   "source": [
    "5.1) Using your functions generated in problems `1.4` and `1.5` earlier in this assignment, please assign an exam grade to each student."
   ]
  },
  {
   "cell_type": "code",
   "execution_count": 41,
   "metadata": {
    "collapsed": false
   },
   "outputs": [
    {
     "data": {
      "text/plain": [
       "['b62bfdd3-4b6b-4c8e-9841-feb01969443a',\n",
       " '403ede97-524e-43e1-90df-8c4aab37784e',\n",
       " 'd81aa3d6-9a9b-44a1-b2cc-96259e6f9a5a',\n",
       " '2bd5a59e-42b4-4d1d-b67a-753d9839f6aa',\n",
       " '5534cc69-9a42-4de7-82fb-cd117833023a',\n",
       " '40234fb7-453b-455d-ac5e-9973652a97f3',\n",
       " '2e5a12e6-76f1-480b-8770-1fe386be141d',\n",
       " '77541aee-3b52-4ea9-be6b-c9cd11ba0d32',\n",
       " '19c23cec-4e47-4f49-a9ae-03818ced16f0',\n",
       " '745d7101-a2eb-40e3-b83b-4b68bd557118',\n",
       " 'f52ab16b-cd3e-420c-b034-53c5bca772fa',\n",
       " '44aad9e8-fc67-4b62-81f1-167534c184bb',\n",
       " '187bfb05-73d4-494b-abf4-98ec81207eec',\n",
       " '21f09527-2ce5-42e6-bf76-90dae6db94ec',\n",
       " '292f7b37-3885-482c-8d02-18fe9e014d2b',\n",
       " '27b94bd4-202a-4a30-8607-7eededf92fe7',\n",
       " '3cdc10e1-5498-4e70-aaae-2ef29f3f2672',\n",
       " '4c0614f5-9ed7-4b58-8634-543c5b37be8a',\n",
       " '82845433-0c08-47e8-93f4-12f6e2e178b0',\n",
       " '1aab0a95-20bf-49fe-862c-898b574e1d1a',\n",
       " 'bf23e4ac-8a82-42fe-ad62-b3388910d0b9',\n",
       " 'f6b95b33-2c3c-403f-9f78-e88dbc6e8637',\n",
       " 'a6d3d8f2-c068-403a-ac35-ec6dd8925e47',\n",
       " 'db15a77f-c598-4ef9-8fbe-6373d9d8b2f5',\n",
       " 'a323e9ff-c03a-4bd3-ad4d-195cbeaa3bb3',\n",
       " '2d7db21c-207d-450e-85bc-0c5e87ce30a3',\n",
       " '7086dfe9-cf08-4025-b485-efd49c08c05d',\n",
       " '08fd98b6-0981-4ced-9fe7-983bd8ea4030',\n",
       " '78497b8d-52f5-4045-b0de-a2db7a79c1e8',\n",
       " 'ce4a376e-4860-41df-a01e-5a49d4311a96',\n",
       " '485d2b85-0147-4f38-acbc-baf9bbcfc81a',\n",
       " '7ae5d71d-35a4-4a68-82a1-776eabfc3884',\n",
       " 'a68e9f6b-0284-4367-aa06-baf84216f77d',\n",
       " '12e5f2cd-0a38-4807-b8d4-a4f65168722a',\n",
       " 'efe99cb6-6638-40ed-8f7d-90254bd448d2',\n",
       " '4550a823-43ba-4224-b333-99ccc9c2db4e',\n",
       " 'fbbf2501-2e8c-4f6c-b73b-226689b49531',\n",
       " 'a11b2ec0-e0a7-4f3f-9879-5a1e42337557',\n",
       " 'c43ece2a-0fa9-400a-b42c-71eb8be5501a',\n",
       " '33702e95-19e6-453b-b9c4-ea079335c219',\n",
       " 'ce3e62e0-cc30-4594-9943-d7438c5f3837',\n",
       " 'cca1b894-61d7-4f5a-904e-1982ed29b9c6',\n",
       " 'f0278c05-a549-48c1-b7b9-3fd2820af8cd',\n",
       " '3718d28e-522c-4ee7-bacc-37b788e6b69f',\n",
       " '19da40eb-69a1-48cd-9bda-24ab30cc1e73',\n",
       " 'd961439f-920a-4ffc-bfb7-ba734c3561cf',\n",
       " 'c5be849b-c0a8-43f9-948a-73f8f4315ea4',\n",
       " '962a2b6e-b66b-47e7-8b29-2c8f123a48bc',\n",
       " '55878807-ac1c-4d93-a452-4e7b799e034f',\n",
       " 'f5acf52d-99e3-4169-91b9-24552e064293',\n",
       " 'd0a92d10-4e61-482a-9210-bfad3659f8f3',\n",
       " 'afc8598f-9f84-43c3-a7ba-6fd5eff3f0ab',\n",
       " 'aa1daa41-d318-45ee-bab8-44d28846e945',\n",
       " '33cbe0b9-0c41-4bd9-ad23-fdafa77b3732',\n",
       " '5975d606-7c30-4ea9-8db2-c2c4cc5c4ae1',\n",
       " 'ebfdaafe-e504-4db2-be5c-7733e96cec96',\n",
       " '1dd32936-8a51-4758-abbd-5266cc285f24',\n",
       " '74055237-1c28-4a72-a78d-a3759140edbb',\n",
       " '8f542f3c-3871-4243-b7d9-5a2fe3912775',\n",
       " '6ba413cb-06f4-4a75-bf8e-037557456356',\n",
       " 'a4f2f1e5-5694-4d07-a879-97d24fb8d46d',\n",
       " '29979eb3-710c-4f28-9798-3c2ab59d020c',\n",
       " '78e3acde-b564-417e-8f23-549cceb31541',\n",
       " '36137cf8-1f1b-4e7d-870a-4a18522355e7',\n",
       " 'e56d01d4-edcd-4f39-90ad-989a356fd9d2',\n",
       " '0581d27c-a758-47e4-a1b4-7beea760e567',\n",
       " 'fe8b23c2-4a7b-41b5-b6c3-b20d00e6b9ed',\n",
       " 'e45fe899-fc48-4f60-ad42-2bbfe21012fc',\n",
       " '783de161-c54f-4f6f-9065-d1441325c5fb',\n",
       " 'e6c55498-abde-49ab-a048-a8f605f7a173',\n",
       " '319ed63c-2d19-4cc9-9d2f-9b0d3a0fa5a4',\n",
       " 'ce42a7fc-c995-4d49-bca6-35770313e07f',\n",
       " 'aeb4ff1f-dbcd-4466-852a-cc8c51e9f0b9',\n",
       " 'f315e3c2-3c93-4c7e-9ef7-7ec304034643',\n",
       " '3903db25-960b-4e6c-a4e8-163b7e8e963d',\n",
       " '50d1eba3-b81d-4bf9-9bb1-852e48b8b93c',\n",
       " '45799f48-954a-48bd-bf7f-82dd442449c7',\n",
       " 'c7ed6217-35db-4419-81ad-52f7606a9e38',\n",
       " '4caff44e-3c07-4153-8c55-1a9d6fab45be',\n",
       " '1f723d94-9875-4192-a94d-be600ef8213f',\n",
       " '6a06e782-9453-477f-9969-5c4f539c47ac',\n",
       " '4c456787-7127-4040-9b14-0ee83ccd9f29',\n",
       " 'ff1b3594-9f20-4a83-a4ec-64928fd5ca9b',\n",
       " '37640b83-de5a-4dd8-b783-37a3b68959e3',\n",
       " 'b5590dc7-648f-4255-9844-c6c12b1abd6b',\n",
       " '548a6bfc-fa62-478d-af8a-6784c666c8cd',\n",
       " 'c641b8c5-d8f4-40f3-a305-a1f56e68d00a',\n",
       " 'd1cc2a28-aa7b-4079-80b8-f0a549ddfb68',\n",
       " 'a44b1040-2ecf-41a3-8e96-2e2004ba26b5',\n",
       " '54fab9e5-6176-47ad-b856-51c57193067e',\n",
       " 'c7eaa74a-79c9-414a-88ec-c6f81aa30d8f',\n",
       " 'e859db9d-0970-4f53-acb7-92f15d6fff03',\n",
       " '15c90b0e-1abc-4691-a41b-0731a5fd2227',\n",
       " '932a0cb2-ce58-457f-9e82-5e2dd8ad9f42',\n",
       " '94a4f9f2-7d4e-4bd3-9539-3ada1dd4d12b',\n",
       " 'b94d601c-ca50-4f92-996e-8f9c125153ca',\n",
       " 'e26e2a48-e4eb-4176-a8d8-0b5567542ddf',\n",
       " '4ac3220f-ba8f-4080-9ad0-0bb481e70516',\n",
       " '98742de7-482f-4b28-903a-895846bc103e',\n",
       " '07aa62c9-3702-47c0-bf75-715ee6012f18']"
      ]
     },
     "execution_count": 41,
     "metadata": {},
     "output_type": "execute_result"
    }
   ],
   "source": [
    "ids"
   ]
  },
  {
   "cell_type": "code",
   "execution_count": null,
   "metadata": {
    "collapsed": true
   },
   "outputs": [],
   "source": []
  },
  {
   "cell_type": "code",
   "execution_count": null,
   "metadata": {
    "collapsed": true
   },
   "outputs": [],
   "source": []
  },
  {
   "cell_type": "code",
   "execution_count": null,
   "metadata": {
    "collapsed": true
   },
   "outputs": [],
   "source": []
  },
  {
   "cell_type": "code",
   "execution_count": null,
   "metadata": {
    "collapsed": true
   },
   "outputs": [],
   "source": []
  },
  {
   "cell_type": "markdown",
   "metadata": {},
   "source": [
    "# Extra Problems - Only Required by Section 05\n",
    "Below are several word problems that use slightly more advanced data sets. The instructions will be less explicit and you'll be required to figure out how to answer the intent of the question."
   ]
  },
  {
   "cell_type": "markdown",
   "metadata": {},
   "source": [
    "#### Part 6 - Describe my students"
   ]
  },
  {
   "cell_type": "markdown",
   "metadata": {},
   "source": [
    "In the cell below, I've written a bit of code to load some data for you to analyze.\n",
    "\n",
    "`student_info` contains personal information for several students. You will use this to answer all of the questions in Part 4."
   ]
  },
  {
   "cell_type": "code",
   "execution_count": null,
   "metadata": {
    "collapsed": false
   },
   "outputs": [],
   "source": [
    "import json\n",
    "student_info = json.load(open('data_hw2_part_3.json'))"
   ]
  },
  {
   "cell_type": "markdown",
   "metadata": {},
   "source": [
    "6.1) take a look at student_info and describe what you see. What kind of data structure is it? How many students are in there? Take a look at a single record and describe what that record look like? What kind of data structure is used to describe a student? Do you analysis and write your description in the cell below."
   ]
  },
  {
   "cell_type": "code",
   "execution_count": null,
   "metadata": {
    "collapsed": false
   },
   "outputs": [],
   "source": [
    "student_info[0]"
   ]
  },
  {
   "cell_type": "code",
   "execution_count": null,
   "metadata": {
    "collapsed": true
   },
   "outputs": [],
   "source": []
  },
  {
   "cell_type": "code",
   "execution_count": null,
   "metadata": {
    "collapsed": true
   },
   "outputs": [],
   "source": []
  },
  {
   "cell_type": "code",
   "execution_count": null,
   "metadata": {
    "collapsed": true
   },
   "outputs": [],
   "source": []
  },
  {
   "cell_type": "markdown",
   "metadata": {},
   "source": [
    "6.2) How many different majors are represented by these students?"
   ]
  },
  {
   "cell_type": "code",
   "execution_count": null,
   "metadata": {
    "collapsed": true
   },
   "outputs": [],
   "source": []
  },
  {
   "cell_type": "code",
   "execution_count": null,
   "metadata": {
    "collapsed": true
   },
   "outputs": [],
   "source": []
  },
  {
   "cell_type": "markdown",
   "metadata": {},
   "source": [
    "6.3) What is the most popular major amongst each gender?"
   ]
  },
  {
   "cell_type": "code",
   "execution_count": null,
   "metadata": {
    "collapsed": true
   },
   "outputs": [],
   "source": []
  },
  {
   "cell_type": "code",
   "execution_count": null,
   "metadata": {
    "collapsed": true
   },
   "outputs": [],
   "source": []
  },
  {
   "cell_type": "markdown",
   "metadata": {},
   "source": [
    "6.4) For each major, what is the ratio of males to females in each class? For example, in the major or Economics, what are the ratios of males to females in the freshman class, sophomore class, junior class, and senior class?"
   ]
  },
  {
   "cell_type": "code",
   "execution_count": null,
   "metadata": {
    "collapsed": true
   },
   "outputs": [],
   "source": []
  },
  {
   "cell_type": "code",
   "execution_count": null,
   "metadata": {
    "collapsed": true
   },
   "outputs": [],
   "source": []
  },
  {
   "cell_type": "code",
   "execution_count": null,
   "metadata": {
    "collapsed": true
   },
   "outputs": [],
   "source": []
  },
  {
   "cell_type": "code",
   "execution_count": null,
   "metadata": {
    "collapsed": true
   },
   "outputs": [],
   "source": []
  },
  {
   "cell_type": "markdown",
   "metadata": {},
   "source": [
    "6.5) Which major has the highest average gpa for men and which major has the highest gpa for women?"
   ]
  },
  {
   "cell_type": "code",
   "execution_count": null,
   "metadata": {
    "collapsed": true
   },
   "outputs": [],
   "source": []
  },
  {
   "cell_type": "code",
   "execution_count": null,
   "metadata": {
    "collapsed": true
   },
   "outputs": [],
   "source": []
  },
  {
   "cell_type": "code",
   "execution_count": null,
   "metadata": {
    "collapsed": true
   },
   "outputs": [],
   "source": []
  },
  {
   "cell_type": "code",
   "execution_count": null,
   "metadata": {
    "collapsed": true
   },
   "outputs": [],
   "source": []
  }
 ],
 "metadata": {
  "anaconda-cloud": {},
  "kernelspec": {
   "display_name": "Python [conda env:py35]",
   "language": "python",
   "name": "conda-env-py35-py"
  },
  "language_info": {
   "codemirror_mode": {
    "name": "ipython",
    "version": 3
   },
   "file_extension": ".py",
   "mimetype": "text/x-python",
   "name": "python",
   "nbconvert_exporter": "python",
   "pygments_lexer": "ipython3",
   "version": "3.5.4"
  }
 },
 "nbformat": 4,
 "nbformat_minor": 1
}
