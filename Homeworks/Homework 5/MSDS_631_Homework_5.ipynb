{
 "cells": [
  {
   "cell_type": "markdown",
   "metadata": {},
   "source": [
    "# Homework 5\n",
    "### Intro to Numpy and Pandas\n",
    "\n",
    "In this assignment, you will start practice using the two most important scientific libraries in Python. You will be asked to perform a variety of mathematical operations, filtering, and other challenges to gain familiarity with the libraries.\n",
    "\n",
    "Some of the questions will ask you to perform Numpy and Pandas operations that have yet to be covered in class. As I indicated at the end of class, the benefit of these scientific libraries is that you can do a LOT of things with very little code. It does, however, require a LOT of memorization and searching as to how to do things (whereas in base Python you have very few things to memorize but need the creativity to write code that will yield your desired objective). Thus, you will constantly be having to do searches on how to do things. You should use Google or you may search the libraries' documentation here:\n",
    "- Numpy: https://docs.scipy.org/doc/numpy-1.16.1/reference/\n",
    "- Pandas: https://pandas.pydata.org/pandas-docs/stable/user_guide/index.html\n",
    "\n",
    "There are extra problems at the end for students in Section 05. Section 04-only students are not required to do these, but I highly encourage you to do them anyway since it is excellent practice for figuring out how to analyze data."
   ]
  },
  {
   "cell_type": "markdown",
   "metadata": {},
   "source": [
    "#### Part 1 - Read the Docs\n",
    "\n",
    "1.1) Go to the Pandas documentation and read the 10-minute tutorial on Pandas.\n",
    "\n",
    "https://pandas.pydata.org/pandas-docs/stable/getting_started/10min.html"
   ]
  },
  {
   "cell_type": "markdown",
   "metadata": {},
   "source": [
    "1.2) Describe two things from the tutorial that you learned Pandas can do that was not covered in class"
   ]
  },
  {
   "cell_type": "raw",
   "metadata": {},
   "source": []
  },
  {
   "cell_type": "markdown",
   "metadata": {},
   "source": [
    "#### Part 2 - Loading Data\n",
    "\n",
    "2.1) Load the **`students.csv`** using Pandas into a DataFrame and store it as a variable called **`students_df1`**. Display the first 5 rows."
   ]
  },
  {
   "cell_type": "code",
   "execution_count": null,
   "metadata": {
    "collapsed": false
   },
   "outputs": [],
   "source": []
  },
  {
   "cell_type": "code",
   "execution_count": null,
   "metadata": {
    "collapsed": true
   },
   "outputs": [],
   "source": []
  },
  {
   "cell_type": "code",
   "execution_count": null,
   "metadata": {
    "collapsed": true
   },
   "outputs": [],
   "source": []
  },
  {
   "cell_type": "markdown",
   "metadata": {},
   "source": [
    "2.2) Using the **`json`** library, load the **`students.json`** file and store it as a variable called **`students_list_of_dicts`**"
   ]
  },
  {
   "cell_type": "code",
   "execution_count": null,
   "metadata": {
    "collapsed": false
   },
   "outputs": [],
   "source": []
  },
  {
   "cell_type": "markdown",
   "metadata": {},
   "source": [
    "2.3) The **`students_list_of_dicts`** variable is a list of dictionaries where each dictionary contains a student's information. From this data, create a list of lists where each interior list contains a student's information in the following order:\n",
    "1. Student ID\n",
    "2. First Name\n",
    "3. Last Name\n",
    "4. Gender\n",
    "5. Major\n",
    "6. Class\n",
    "7. GPA\n",
    "\n",
    "Assign your list of lists to a variable called **`students_list_of_lists`**"
   ]
  },
  {
   "cell_type": "code",
   "execution_count": null,
   "metadata": {
    "collapsed": true
   },
   "outputs": [],
   "source": []
  },
  {
   "cell_type": "code",
   "execution_count": null,
   "metadata": {
    "collapsed": true
   },
   "outputs": [],
   "source": []
  },
  {
   "cell_type": "code",
   "execution_count": null,
   "metadata": {
    "collapsed": true
   },
   "outputs": [],
   "source": []
  },
  {
   "cell_type": "markdown",
   "metadata": {},
   "source": [
    "You can convert your list of lists into a DataFrame by passing it into a DataFrame Object. Run the code in the cell below."
   ]
  },
  {
   "cell_type": "code",
   "execution_count": null,
   "metadata": {
    "collapsed": true
   },
   "outputs": [],
   "source": [
    "students_df2 = pd.DataFrame(students_list_of_lists)"
   ]
  },
  {
   "cell_type": "markdown",
   "metadata": {},
   "source": [
    "Now look at the first five rows of this new DataFrame"
   ]
  },
  {
   "cell_type": "code",
   "execution_count": null,
   "metadata": {
    "collapsed": true
   },
   "outputs": [],
   "source": [
    "students_df2.head()"
   ]
  },
  {
   "cell_type": "markdown",
   "metadata": {},
   "source": [
    "2.4) The data in your new DataFrame looks like the data in your first DataFrame, but now it has no headers. Please give your new DataFrame column names that match your first DataFrame **(this was not covered in class)**."
   ]
  },
  {
   "cell_type": "code",
   "execution_count": null,
   "metadata": {
    "collapsed": true
   },
   "outputs": [],
   "source": []
  },
  {
   "cell_type": "markdown",
   "metadata": {},
   "source": [
    "2.5) Create a dictionary and assigne it to the variable **`students_dict_of_lists`**. The dictionary should have the following keys:\n",
    "- \"student_id\"\n",
    "- \"first\"\n",
    "- \"last\"\n",
    "- \"gender\"\n",
    "- \"major\"\n",
    "- \"class\"\n",
    "- \"gpa\"\n",
    "\n",
    "The value of each of these keys should be an empty list.\n",
    "\n",
    "Now iterate though **`students_list_of_dicts`** and extract the relevent information from each student's info and add it into the appropriate list within **`students_dict_of_lists`**. Each respective index within the various lists should contain information for the same student (i.e. index 0 for student_id, first, last, etc should be for the first student, index 1 should be the second student, and so on and so forth)."
   ]
  },
  {
   "cell_type": "code",
   "execution_count": null,
   "metadata": {
    "collapsed": true
   },
   "outputs": [],
   "source": []
  },
  {
   "cell_type": "code",
   "execution_count": null,
   "metadata": {
    "collapsed": true
   },
   "outputs": [],
   "source": []
  },
  {
   "cell_type": "code",
   "execution_count": null,
   "metadata": {
    "collapsed": false
   },
   "outputs": [],
   "source": []
  },
  {
   "cell_type": "markdown",
   "metadata": {},
   "source": [
    "You can convert your dictionary of lists into a DataFrame by passing the DataFrame Object a dictionary of lists. Run the code in the cell below."
   ]
  },
  {
   "cell_type": "code",
   "execution_count": null,
   "metadata": {
    "collapsed": true
   },
   "outputs": [],
   "source": [
    "students_df3 = pd.DataFrame(students_dict_of_lists)"
   ]
  },
  {
   "cell_type": "markdown",
   "metadata": {},
   "source": [
    "2.6) Now look at the first five rows of this new DataFrame."
   ]
  },
  {
   "cell_type": "code",
   "execution_count": null,
   "metadata": {
    "collapsed": true
   },
   "outputs": [],
   "source": []
  },
  {
   "cell_type": "markdown",
   "metadata": {},
   "source": [
    "Note how the column headers are already assigned using the keys from the dictionary! However, the order is quite random. Let's reorder the columns and store it back into students_df3 by running the code in the cell below."
   ]
  },
  {
   "cell_type": "code",
   "execution_count": null,
   "metadata": {
    "collapsed": true
   },
   "outputs": [],
   "source": [
    "column_order = ['student_id', 'first', 'last', 'gender', 'class', 'major', 'gpa']\n",
    "students_df3 = students_df3[column_order]"
   ]
  },
  {
   "cell_type": "markdown",
   "metadata": {},
   "source": [
    "2.7) Now pass your original list of dictionaries (**`students_list_of_dicts`**) into a DataFrame Object and assign it to a variable **`students_df4`**. Take a look at the first five rows."
   ]
  },
  {
   "cell_type": "code",
   "execution_count": null,
   "metadata": {
    "collapsed": true
   },
   "outputs": [],
   "source": []
  },
  {
   "cell_type": "code",
   "execution_count": null,
   "metadata": {
    "collapsed": true
   },
   "outputs": [],
   "source": []
  },
  {
   "cell_type": "markdown",
   "metadata": {},
   "source": [
    "2.8) Briefly describe the four ways that you just created a DataFrame with the same information."
   ]
  },
  {
   "cell_type": "raw",
   "metadata": {},
   "source": []
  },
  {
   "cell_type": "markdown",
   "metadata": {},
   "source": [
    "#### Part 3 - Numpy Arrays\n",
    "\n",
    "3.1) Take the list of GPAs from **`students_dict_of_lists`** and create a numpy array with it (stored in a new variable, not in **`students_dict_of_lists`**)"
   ]
  },
  {
   "cell_type": "code",
   "execution_count": null,
   "metadata": {
    "collapsed": true
   },
   "outputs": [],
   "source": []
  },
  {
   "cell_type": "markdown",
   "metadata": {},
   "source": [
    "3.2) With your array, compute the min, max, mean, and median GPAs."
   ]
  },
  {
   "cell_type": "code",
   "execution_count": null,
   "metadata": {
    "collapsed": true
   },
   "outputs": [],
   "source": []
  },
  {
   "cell_type": "markdown",
   "metadata": {},
   "source": [
    "3.3) With your array, compute the number of students who have GPAs below a 3.0."
   ]
  },
  {
   "cell_type": "code",
   "execution_count": null,
   "metadata": {
    "collapsed": true
   },
   "outputs": [],
   "source": []
  },
  {
   "cell_type": "markdown",
   "metadata": {},
   "source": [
    "3.4) With your array, compute the percentage of students who have GPAs below a 3.0."
   ]
  },
  {
   "cell_type": "code",
   "execution_count": null,
   "metadata": {
    "collapsed": true
   },
   "outputs": [],
   "source": []
  },
  {
   "cell_type": "markdown",
   "metadata": {},
   "source": [
    "3.5) Create another array and use it with your previous array to compute the average GPA amongst Physics students"
   ]
  },
  {
   "cell_type": "code",
   "execution_count": null,
   "metadata": {
    "collapsed": true
   },
   "outputs": [],
   "source": []
  },
  {
   "cell_type": "markdown",
   "metadata": {},
   "source": [
    "3.6) Compute the percentage of Engineering students that have GPAs below a 3.0 without using any division."
   ]
  },
  {
   "cell_type": "code",
   "execution_count": null,
   "metadata": {
    "collapsed": true
   },
   "outputs": [],
   "source": []
  },
  {
   "cell_type": "markdown",
   "metadata": {},
   "source": [
    "3.7) Create another array from **`students_dict_of_lists`** containing the students genders. Use it with your other arrays to compute the percentage of Male Engineering students that have GPAs below a 3.0. Do it without explicitly using any division."
   ]
  },
  {
   "cell_type": "code",
   "execution_count": null,
   "metadata": {
    "collapsed": true
   },
   "outputs": [],
   "source": []
  },
  {
   "cell_type": "markdown",
   "metadata": {},
   "source": [
    "#### Part 4 - Pandas Filtering\n",
    "\n",
    "For the problems in Part 4, please use **`students_df1`** as the source of your data."
   ]
  },
  {
   "cell_type": "markdown",
   "metadata": {},
   "source": [
    "4.1) Create a variable that is a filter for all students that are majoring in Economics."
   ]
  },
  {
   "cell_type": "code",
   "execution_count": null,
   "metadata": {
    "collapsed": true
   },
   "outputs": [],
   "source": []
  },
  {
   "cell_type": "markdown",
   "metadata": {},
   "source": [
    "4.2) Create variable containing a DataFrame of student information for Economics students by using your filter from 4.1."
   ]
  },
  {
   "cell_type": "code",
   "execution_count": null,
   "metadata": {
    "collapsed": true
   },
   "outputs": [],
   "source": []
  },
  {
   "cell_type": "markdown",
   "metadata": {},
   "source": [
    "4.3) Create a variable containing a DataFrame of students' information for Physics students **without explicitly creating a filter variable**"
   ]
  },
  {
   "cell_type": "code",
   "execution_count": null,
   "metadata": {
    "collapsed": true
   },
   "outputs": [],
   "source": []
  },
  {
   "cell_type": "markdown",
   "metadata": {},
   "source": [
    "4.4) Create a variable containing a dictionary whose keys are the possible majors. The value for those keys should be a DataFrame of information of students in that major. Do not manually do this - you must use a for-loop."
   ]
  },
  {
   "cell_type": "code",
   "execution_count": null,
   "metadata": {
    "collapsed": true
   },
   "outputs": [],
   "source": []
  },
  {
   "cell_type": "markdown",
   "metadata": {},
   "source": [
    "4.5) Create a variable containing a dictionary whose keys are the possible majors. The value for those keys should be a DataFrame containing all of the information for students with GPAs greater than or equal to 3.7. Do not manually do this -  you must use a for-loop."
   ]
  },
  {
   "cell_type": "code",
   "execution_count": null,
   "metadata": {
    "collapsed": true
   },
   "outputs": [],
   "source": []
  },
  {
   "cell_type": "markdown",
   "metadata": {},
   "source": [
    "# Extra Problems - Only Required by Section 05\n",
    "Below are some computations that will help improve your understanding of how to compute information using DataFrames. Use the students_df1 DataFrame as the soure of your data."
   ]
  },
  {
   "cell_type": "markdown",
   "metadata": {},
   "source": [
    "#### Part 5 - Computing"
   ]
  },
  {
   "cell_type": "markdown",
   "metadata": {},
   "source": [
    "5.1) Create a function that, given a DataFrame, computes the following information:\n",
    "- The mean gpa\n",
    "- The standard deviation of gpa\n",
    "- The median gpa\n",
    "\n",
    "Your function should return a dictionary with two keys for the above information."
   ]
  },
  {
   "cell_type": "code",
   "execution_count": null,
   "metadata": {
    "collapsed": true
   },
   "outputs": [],
   "source": []
  },
  {
   "cell_type": "markdown",
   "metadata": {},
   "source": [
    "5.2) Create a function that returns a filter for students whose GPAs lie within one standard deviation of the mean."
   ]
  },
  {
   "cell_type": "code",
   "execution_count": null,
   "metadata": {
    "collapsed": true
   },
   "outputs": [],
   "source": []
  },
  {
   "cell_type": "markdown",
   "metadata": {},
   "source": [
    "5.3) Take the same code you wrote for 5.1 and add it to the cell below. To it, let's add one more keys to the returned dictionary:\n",
    "- The percentage of students whose GPAs lie within one standard deviation of the mean"
   ]
  },
  {
   "cell_type": "code",
   "execution_count": null,
   "metadata": {
    "collapsed": true
   },
   "outputs": [],
   "source": []
  },
  {
   "cell_type": "code",
   "execution_count": null,
   "metadata": {
    "collapsed": true
   },
   "outputs": [],
   "source": []
  },
  {
   "cell_type": "markdown",
   "metadata": {},
   "source": [
    "5.4) Create an empty dictionary Store called **`major_summary_dict`**. Now write a for-loop that computes the information from `5.3` for students in each major. You should loop through the majors and use the major to filter your original DataFrame to yield a DataFrame that only includes students that are in that major. You should then pass that filtered DataFrame into your function to retrieve the summary statistics for that major. Store that returned dictionary in your empty dictionary as the value of the key-value pair where the key is the major name. In the end you should have a dictionary of dictionaries (keyed on the various majors)."
   ]
  },
  {
   "cell_type": "code",
   "execution_count": null,
   "metadata": {
    "collapsed": true
   },
   "outputs": [],
   "source": []
  },
  {
   "cell_type": "code",
   "execution_count": null,
   "metadata": {
    "collapsed": true
   },
   "outputs": [],
   "source": []
  },
  {
   "cell_type": "code",
   "execution_count": null,
   "metadata": {
    "collapsed": true
   },
   "outputs": [],
   "source": []
  },
  {
   "cell_type": "code",
   "execution_count": null,
   "metadata": {
    "collapsed": true
   },
   "outputs": [],
   "source": []
  },
  {
   "cell_type": "markdown",
   "metadata": {},
   "source": [
    "Let's convert your dictionary into a DataFrame now."
   ]
  },
  {
   "cell_type": "code",
   "execution_count": null,
   "metadata": {
    "collapsed": false
   },
   "outputs": [],
   "source": [
    "major_summary_df = pd.DataFrame(major_summary_dict)\n",
    "major_summary_df"
   ]
  },
  {
   "cell_type": "markdown",
   "metadata": {},
   "source": [
    "This is wrong because columns are supposed to be \"attributes\" and rows are supposed to be \"observations.\" In this case, your columns are the majors and the attributes are in the rows. Let's transpose your data so that your DataFrame is appropriately shaped."
   ]
  },
  {
   "cell_type": "code",
   "execution_count": null,
   "metadata": {
    "collapsed": false
   },
   "outputs": [],
   "source": [
    "major_summary_df = major_summary_df.transpose()"
   ]
  },
  {
   "cell_type": "code",
   "execution_count": null,
   "metadata": {
    "collapsed": false
   },
   "outputs": [],
   "source": [
    "major_summary_df"
   ]
  },
  {
   "cell_type": "markdown",
   "metadata": {},
   "source": [
    "Now if we wanted to, we can do some analysis on your summaries!"
   ]
  }
 ],
 "metadata": {
  "anaconda-cloud": {},
  "kernelspec": {
   "display_name": "Python [default]",
   "language": "python",
   "name": "python2"
  },
  "language_info": {
   "codemirror_mode": {
    "name": "ipython",
    "version": 2
   },
   "file_extension": ".py",
   "mimetype": "text/x-python",
   "name": "python",
   "nbconvert_exporter": "python",
   "pygments_lexer": "ipython2",
   "version": "2.7.12"
  }
 },
 "nbformat": 4,
 "nbformat_minor": 1
}
