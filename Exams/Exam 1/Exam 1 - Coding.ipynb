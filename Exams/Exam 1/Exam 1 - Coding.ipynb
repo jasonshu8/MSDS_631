{
 "cells": [
  {
   "cell_type": "markdown",
   "metadata": {},
   "source": [
    "# Exam  1 - Basics of Python Programming Plus Numpy and Pandas"
   ]
  },
  {
   "cell_type": "markdown",
   "metadata": {},
   "source": [
    "### HINTS: Pandas and Numpy methods\n",
    "\n",
    "#### Pandas Series Methods"
   ]
  },
  {
   "cell_type": "code",
   "execution_count": null,
   "metadata": {
    "collapsed": true
   },
   "outputs": [],
   "source": [
    "series.mean()   #Compute mean of series\n",
    "series.median()   #Compute median of series\n",
    "series.std()   #Compute mean of series\n",
    "series.abs()   #Return absolute values of values in series\n",
    "series.max()   #Compute mean of series\n",
    "series.min()   #Compute mean of series\n",
    "series.idxmax() #Return index with largest value in series\n",
    "series.idxmin() #Return index with largest value in series"
   ]
  },
  {
   "cell_type": "markdown",
   "metadata": {},
   "source": [
    "#### Pandas Series Methods"
   ]
  },
  {
   "cell_type": "code",
   "execution_count": null,
   "metadata": {
    "collapsed": true
   },
   "outputs": [],
   "source": [
    "array.mean()   #Compute mean of array\n",
    "np.median(array)   #Compute median of array\n",
    "array.std()   #Compute mean of array\n",
    "array.abs()   #Return absolute values of all values in array\n",
    "array.max()   #Compute mean of array\n",
    "array.min()   #Compute mean of array\n",
    "array.argmax() #Return index with largest value in array\n",
    "array.argmin() #Return index with largest value in array"
   ]
  },
  {
   "cell_type": "markdown",
   "metadata": {},
   "source": [
    "#### DataFrame Aggregation Methods"
   ]
  },
  {
   "cell_type": "raw",
   "metadata": {},
   "source": [
    "df.groupby(columns)[single_column].<method>   #Compute something returning a series\n",
    "df.groupby(columns)[multiple_columns_in_list].<method>   #Compute something returning a DataFrame\n",
    "df.groupby(columns)[col_or_col_list].mean(    #Compute mean\n",
    "df.groupby(columns)[col_or_col_list].median()   #Compute median\n",
    "df.groupby(columns)[col_or_col_list].std()   #Compute standard deviation\n",
    "df.groupby(columns)[col_or_col_list].count()   #Compute count of non-null values\n",
    "df.groupby(columns)[col_or_col_list].max()   #Compute max\n",
    "df.groupby(columns)[col_or_col_list].min()   #Compute min\n",
    "df.groupby(columns)[col_or_col_list].mode()   #Compute mode\n",
    "df.groupby(columns).size()   #Count number of occurrances for each combination of values in the groupby"
   ]
  },
  {
   "cell_type": "markdown",
   "metadata": {},
   "source": [
    "#### DataFrame Merging\n",
    "\n",
    "- The three available \"how\" types are 'inner', 'left', and 'right'\n",
    "- If you want to use the left_df index, then the argument is `left_index=True`\n",
    "- If you want to use the right_df index, then the argument is `right_index=True`\n",
    "- If you want to use columns that aren't the index in the left_df then the argument is `left_on=<cols>`\n",
    "- If you want to use columns that aren't the index in the right_df then the argument is `right_on=<cols>`\n",
    "- If you are using the same column names in both the left_df and right_df, then the argument is `on=<cols>`"
   ]
  },
  {
   "cell_type": "raw",
   "metadata": {},
   "source": [
    "merged_df = left_df.merge(right_df, how=<method>, <join-on>)"
   ]
  },
  {
   "cell_type": "markdown",
   "metadata": {},
   "source": [
    "#### Pandas and Numpy Compound Filtering"
   ]
  },
  {
   "cell_type": "raw",
   "metadata": {},
   "source": [
    "filter1 & filter2   #Compound \"and\" filter\n",
    "filter1 | filter2   #Compound \"or\" filter"
   ]
  },
  {
   "cell_type": "markdown",
   "metadata": {
    "collapsed": true
   },
   "source": [
    "### Section 2.1 (20%): Data Manipulation and Basic Computations\n",
    "\n",
    "In this portion of the exam, you will test your data manipulation skills with base Python"
   ]
  },
  {
   "cell_type": "markdown",
   "metadata": {},
   "source": [
    "#### Load Data for 2.1\n",
    "\n",
    "The following code will load all of the data you need for Section 2.1 of this exam. You will be using these data structures to create new data to perform your analyses. Do not attempt to use Numpy or Pandas for Section 2.1."
   ]
  },
  {
   "cell_type": "code",
   "execution_count": 17,
   "metadata": {
    "collapsed": true
   },
   "outputs": [],
   "source": [
    "import json\n",
    "students_personal_info = json.load(open('students_personal_info.json', 'r'))\n",
    "students_educational_info = json.load(open('students_educational_info.json', 'r'))"
   ]
  },
  {
   "cell_type": "markdown",
   "metadata": {},
   "source": [
    "#### Question 2.1.1)\n",
    "\n",
    "Print any 5 students' IDs"
   ]
  },
  {
   "cell_type": "code",
   "execution_count": null,
   "metadata": {
    "collapsed": true
   },
   "outputs": [],
   "source": []
  },
  {
   "cell_type": "code",
   "execution_count": null,
   "metadata": {
    "collapsed": true
   },
   "outputs": [],
   "source": []
  },
  {
   "cell_type": "markdown",
   "metadata": {},
   "source": [
    "#### Question 2.1.2)\n",
    "\n",
    "Print the unique majors for these students"
   ]
  },
  {
   "cell_type": "code",
   "execution_count": null,
   "metadata": {
    "collapsed": true
   },
   "outputs": [],
   "source": []
  },
  {
   "cell_type": "code",
   "execution_count": null,
   "metadata": {
    "collapsed": true
   },
   "outputs": [],
   "source": []
  },
  {
   "cell_type": "markdown",
   "metadata": {},
   "source": [
    "#### Question 2.1.3)\n",
    "\n",
    "Write a function that has the following arguments:\n",
    "- student_id\n",
    "- personal_info_dict\n",
    "- educational_info_dict\n",
    "\n",
    "Your function should return a list containing the information for the student student ID passed in the arguments. The list should contain data in the following order:\n",
    "- student ID\n",
    "- first name\n",
    "- last name\n",
    "- gender\n",
    "- class\n",
    "- major"
   ]
  },
  {
   "cell_type": "code",
   "execution_count": null,
   "metadata": {
    "collapsed": true
   },
   "outputs": [],
   "source": []
  },
  {
   "cell_type": "code",
   "execution_count": null,
   "metadata": {
    "collapsed": true
   },
   "outputs": [],
   "source": []
  },
  {
   "cell_type": "markdown",
   "metadata": {},
   "source": [
    "#### Question 2.1.4)\n",
    "\n",
    "Create a variable called students_list_of_lists that contains each student's information. Each student's information must be generated by your function from Question 2.1.3."
   ]
  },
  {
   "cell_type": "code",
   "execution_count": null,
   "metadata": {
    "collapsed": true
   },
   "outputs": [],
   "source": []
  },
  {
   "cell_type": "code",
   "execution_count": null,
   "metadata": {
    "collapsed": true
   },
   "outputs": [],
   "source": []
  },
  {
   "cell_type": "markdown",
   "metadata": {},
   "source": [
    "#### Question 2.1-EC\n",
    "\n",
    "Using **`students_personal_info`** and **`students_educational_info`**, count how many males and females have GPAs over a 3.7, by major. This problem is worth up to 10% additional credit on this exam."
   ]
  },
  {
   "cell_type": "code",
   "execution_count": null,
   "metadata": {
    "collapsed": true
   },
   "outputs": [],
   "source": []
  },
  {
   "cell_type": "code",
   "execution_count": null,
   "metadata": {
    "collapsed": true
   },
   "outputs": [],
   "source": []
  },
  {
   "cell_type": "code",
   "execution_count": null,
   "metadata": {
    "collapsed": true
   },
   "outputs": [],
   "source": []
  },
  {
   "cell_type": "code",
   "execution_count": null,
   "metadata": {
    "collapsed": true
   },
   "outputs": [],
   "source": []
  },
  {
   "cell_type": "code",
   "execution_count": null,
   "metadata": {
    "collapsed": true
   },
   "outputs": [],
   "source": []
  },
  {
   "cell_type": "markdown",
   "metadata": {},
   "source": [
    "### Section 2.2 (20%): Numpy Arrays and Filtering\n",
    "\n",
    "In this portion of the exam, you will test your vectorization skills using Numpy"
   ]
  },
  {
   "cell_type": "markdown",
   "metadata": {},
   "source": [
    "#### Load Data for 2.2\n",
    "\n",
    "The following code will load all of the data you need for Section 2.2 of this exam. You will be using these data structures to create new data to perform your analyses. Do not use any for-loops."
   ]
  },
  {
   "cell_type": "code",
   "execution_count": 26,
   "metadata": {
    "collapsed": true
   },
   "outputs": [],
   "source": [
    "students_dict_of_lists = json.load(open('students_dict_of_lists.json', 'r'))\n",
    "majors_array = np.array(students_dict_of_lists['major'])\n",
    "genders_array = np.array(students_dict_of_lists['gender'])\n",
    "gpas_array = np.array(students_dict_of_lists['gpa'])"
   ]
  },
  {
   "cell_type": "markdown",
   "metadata": {},
   "source": [
    "#### Question 2.2.1) \n",
    "\n",
    "How many Male Engineering students are there?"
   ]
  },
  {
   "cell_type": "code",
   "execution_count": null,
   "metadata": {
    "collapsed": true
   },
   "outputs": [],
   "source": []
  },
  {
   "cell_type": "code",
   "execution_count": null,
   "metadata": {
    "collapsed": true
   },
   "outputs": [],
   "source": []
  },
  {
   "cell_type": "markdown",
   "metadata": {},
   "source": [
    "#### Question 2.2.2) \n",
    "\n",
    "What percent of students with GPAs below a 3.0 are Male?"
   ]
  },
  {
   "cell_type": "code",
   "execution_count": null,
   "metadata": {
    "collapsed": true
   },
   "outputs": [],
   "source": []
  },
  {
   "cell_type": "code",
   "execution_count": null,
   "metadata": {
    "collapsed": true
   },
   "outputs": [],
   "source": []
  },
  {
   "cell_type": "markdown",
   "metadata": {},
   "source": [
    "#### Question 2.2.3 and 2.2.4) \n",
    "\n",
    "What percent of female Economics students have GPAs over a 3.0? What is their average GPA?"
   ]
  },
  {
   "cell_type": "code",
   "execution_count": null,
   "metadata": {
    "collapsed": true
   },
   "outputs": [],
   "source": []
  },
  {
   "cell_type": "code",
   "execution_count": null,
   "metadata": {
    "collapsed": true
   },
   "outputs": [],
   "source": []
  },
  {
   "cell_type": "code",
   "execution_count": null,
   "metadata": {
    "collapsed": true
   },
   "outputs": [],
   "source": []
  },
  {
   "cell_type": "code",
   "execution_count": null,
   "metadata": {
    "collapsed": true
   },
   "outputs": [],
   "source": []
  },
  {
   "cell_type": "markdown",
   "metadata": {},
   "source": [
    "### Section 2.3 (40%): Pandas\n",
    "\n",
    "In this portion of the exam, you will test your skills using Pandas"
   ]
  },
  {
   "cell_type": "markdown",
   "metadata": {},
   "source": [
    "#### Load Data for 2.3\n",
    "\n",
    "The following code will load all of the data you need for Section 2.3 of this exam. You will be using this DataFrame to perform your analyses."
   ]
  },
  {
   "cell_type": "code",
   "execution_count": 28,
   "metadata": {
    "collapsed": true
   },
   "outputs": [],
   "source": [
    "students_df = pd.read_csv('students.csv')"
   ]
  },
  {
   "cell_type": "markdown",
   "metadata": {},
   "source": [
    "#### Question 2.3.1)\n",
    "\n",
    "Create a column in **`students_df`** called \"is_on_probation\" and assign a boolean value if they have a GPA under a 3.0 "
   ]
  },
  {
   "cell_type": "code",
   "execution_count": null,
   "metadata": {
    "collapsed": true
   },
   "outputs": [],
   "source": []
  },
  {
   "cell_type": "code",
   "execution_count": null,
   "metadata": {
    "collapsed": true
   },
   "outputs": [],
   "source": []
  },
  {
   "cell_type": "markdown",
   "metadata": {},
   "source": [
    "#### Question 2.3.2)\n",
    "\n",
    "Create a column in **`students_df`** called \"is_honors\" and assign a boolean value if they have a GPA greater than or equal to 3.7 "
   ]
  },
  {
   "cell_type": "code",
   "execution_count": null,
   "metadata": {
    "collapsed": true
   },
   "outputs": [],
   "source": []
  },
  {
   "cell_type": "code",
   "execution_count": null,
   "metadata": {
    "collapsed": true
   },
   "outputs": [],
   "source": []
  },
  {
   "cell_type": "markdown",
   "metadata": {},
   "source": [
    "#### Question 2.3.3)\n",
    "\n",
    "What percentage of male and females are honors students in each major?"
   ]
  },
  {
   "cell_type": "code",
   "execution_count": null,
   "metadata": {
    "collapsed": true
   },
   "outputs": [],
   "source": []
  },
  {
   "cell_type": "code",
   "execution_count": null,
   "metadata": {
    "collapsed": true
   },
   "outputs": [],
   "source": []
  },
  {
   "cell_type": "markdown",
   "metadata": {},
   "source": [
    "#### Question 2.3.4)\n",
    "\n",
    "Using your results from 2.3.3, in which majors do females have a higher percentage of honors students than males?"
   ]
  },
  {
   "cell_type": "code",
   "execution_count": null,
   "metadata": {
    "collapsed": true
   },
   "outputs": [],
   "source": []
  },
  {
   "cell_type": "code",
   "execution_count": null,
   "metadata": {
    "collapsed": true
   },
   "outputs": [],
   "source": []
  },
  {
   "cell_type": "markdown",
   "metadata": {},
   "source": [
    "#### Question 2.3.5)\n",
    "\n",
    "Amongst Engineering students, which class has the lowest percentage of students on probation, by gender?"
   ]
  },
  {
   "cell_type": "code",
   "execution_count": null,
   "metadata": {
    "collapsed": true
   },
   "outputs": [],
   "source": []
  },
  {
   "cell_type": "code",
   "execution_count": null,
   "metadata": {
    "collapsed": true
   },
   "outputs": [],
   "source": []
  },
  {
   "cell_type": "markdown",
   "metadata": {},
   "source": [
    "#### Question 2.3-EC1)\n",
    "\n",
    "What percent of students in each major have GPAs at least one standard deviation lower than the average? For 5% extra credit you may use the overall mean and standard deviation. For 10% of extra credit you should use the mean and standard deviation for each class and major."
   ]
  },
  {
   "cell_type": "code",
   "execution_count": null,
   "metadata": {
    "collapsed": true
   },
   "outputs": [],
   "source": []
  },
  {
   "cell_type": "code",
   "execution_count": null,
   "metadata": {
    "collapsed": true
   },
   "outputs": [],
   "source": []
  }
 ],
 "metadata": {
  "anaconda-cloud": {},
  "kernelspec": {
   "display_name": "Python [conda env:py35]",
   "language": "python",
   "name": "conda-env-py35-py"
  },
  "language_info": {
   "codemirror_mode": {
    "name": "ipython",
    "version": 3
   },
   "file_extension": ".py",
   "mimetype": "text/x-python",
   "name": "python",
   "nbconvert_exporter": "python",
   "pygments_lexer": "ipython3",
   "version": "3.5.4"
  }
 },
 "nbformat": 4,
 "nbformat_minor": 1
}
