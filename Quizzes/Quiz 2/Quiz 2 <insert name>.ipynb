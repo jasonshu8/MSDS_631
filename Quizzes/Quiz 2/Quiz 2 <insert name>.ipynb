{
 "cells": [
  {
   "cell_type": "markdown",
   "metadata": {},
   "source": [
    "# Quiz 2\n",
    "\n",
    "You will have 45 minutes to answer the following questions. Full points will be awarded for getting the correct answer. Partial credit will be given for work that indicates you were on the right path to a solution. A good way to ensure your intentions are clear and to maximize your partial credit is to write pseudocode before answering any of the more complex problems. \n",
    "\n",
    "**Please ensure that your answers are derived from your code and not by visually inspecting the results and writing down the answer from what you see.**\n",
    "\n",
    "Bonus points  will be awarded if you get the problem correct AND you do so with well written code, which includes:\n",
    "- Well thought out functions and arguments\n",
    "- Good variable names\n",
    "- No global variables in your functions\n",
    "\n",
    "This is a closed note closed book closed internet quiz. Please adhere to these restrictions."
   ]
  },
  {
   "cell_type": "markdown",
   "metadata": {},
   "source": [
    "#### The data\n",
    "\n",
    "For this quiz, you will be using data similar to what we've been using in class, though constructed a little differently. There are three files:\n",
    "- student_directory.json\n",
    "- student_gpas.json\n",
    "- department_enrollment.json\n",
    "\n",
    "Each of these files contains unique information for all of the students. \n",
    "\n",
    "**`student_directory.json`** loads as a dictionary that is keyed on the student ID. For each student ID, you will find a dictionary with their first name, last name, gender, and class. \n",
    "\n",
    "**`student_gpas.json`** loads as a dictionary that is keyed on the student ID. For each student ID you will have a numeric value that is their current GPA.\n",
    "\n",
    "**`department_enrollment.json`** loads as a dictionary that is keyed on the various college departments. For each department, you will have a list of student IDs who are currently enrolled in that department.\n",
    "\n",
    "### Problem 1 **(1 point)** "
   ]
  },
  {
   "cell_type": "code",
   "execution_count": null,
   "metadata": {
    "collapsed": true
   },
   "outputs": [],
   "source": []
  },
  {
   "cell_type": "code",
   "execution_count": null,
   "metadata": {
    "collapsed": true
   },
   "outputs": [],
   "source": []
  },
  {
   "cell_type": "code",
   "execution_count": null,
   "metadata": {
    "collapsed": true
   },
   "outputs": [],
   "source": []
  },
  {
   "cell_type": "code",
   "execution_count": null,
   "metadata": {
    "collapsed": true
   },
   "outputs": [],
   "source": []
  },
  {
   "cell_type": "markdown",
   "metadata": {},
   "source": [
    "### Problem 2 (3 points)"
   ]
  },
  {
   "cell_type": "code",
   "execution_count": null,
   "metadata": {
    "collapsed": false
   },
   "outputs": [],
   "source": []
  },
  {
   "cell_type": "code",
   "execution_count": null,
   "metadata": {
    "collapsed": false
   },
   "outputs": [],
   "source": []
  },
  {
   "cell_type": "code",
   "execution_count": null,
   "metadata": {
    "collapsed": true
   },
   "outputs": [],
   "source": []
  },
  {
   "cell_type": "code",
   "execution_count": null,
   "metadata": {
    "collapsed": false
   },
   "outputs": [],
   "source": []
  },
  {
   "cell_type": "markdown",
   "metadata": {},
   "source": [
    "### Problem 3 (3 points)"
   ]
  },
  {
   "cell_type": "code",
   "execution_count": null,
   "metadata": {
    "collapsed": true
   },
   "outputs": [],
   "source": []
  },
  {
   "cell_type": "code",
   "execution_count": null,
   "metadata": {
    "collapsed": true
   },
   "outputs": [],
   "source": []
  },
  {
   "cell_type": "code",
   "execution_count": null,
   "metadata": {
    "collapsed": true
   },
   "outputs": [],
   "source": []
  },
  {
   "cell_type": "code",
   "execution_count": null,
   "metadata": {
    "collapsed": true
   },
   "outputs": [],
   "source": []
  },
  {
   "cell_type": "markdown",
   "metadata": {},
   "source": [
    "### Problem 4 (3 points) "
   ]
  },
  {
   "cell_type": "code",
   "execution_count": null,
   "metadata": {
    "collapsed": true
   },
   "outputs": [],
   "source": []
  },
  {
   "cell_type": "code",
   "execution_count": null,
   "metadata": {
    "collapsed": false
   },
   "outputs": [],
   "source": []
  },
  {
   "cell_type": "code",
   "execution_count": null,
   "metadata": {
    "collapsed": true
   },
   "outputs": [],
   "source": []
  },
  {
   "cell_type": "code",
   "execution_count": null,
   "metadata": {
    "collapsed": true
   },
   "outputs": [],
   "source": []
  }
 ],
 "metadata": {
  "anaconda-cloud": {},
  "kernelspec": {
   "display_name": "Python [default]",
   "language": "python",
   "name": "python2"
  },
  "language_info": {
   "codemirror_mode": {
    "name": "ipython",
    "version": 2
   },
   "file_extension": ".py",
   "mimetype": "text/x-python",
   "name": "python",
   "nbconvert_exporter": "python",
   "pygments_lexer": "ipython2",
   "version": "2.7.12"
  }
 },
 "nbformat": 4,
 "nbformat_minor": 1
}
