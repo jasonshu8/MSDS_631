{
 "cells": [
  {
   "cell_type": "markdown",
   "metadata": {},
   "source": [
    "# Homework 8\n",
    "\n",
    "### Intro to Matplotlib\n",
    "In this assignment, you will practice using Matplotlib (integrated with Pandas) to visualize and analyze your data set. Your visuals should provide a meaningful analysis of the data as it pertains to your working hypothesis.\n",
    "\n",
    "(Reminder: a chart is a single plot or set of plots intended to convey a total idea)\n",
    "\n",
    "Your visuals should include at least one of the following:\n",
    "- Bar plot (both horizontal and vertical)\n",
    "- Line plot\n",
    "- Histogram\n",
    "- Scatter plot (if you have only time series data, you may not be able to do this; email me if this is the case and I will waive the requirement)\n",
    "\n",
    "Each chart should be accompanied with a meaningful interpretation of the data (\"x category has the most observations\" is not meaningful unless it is accompanied with a reason why having the most observations is important to your hypothesis). Graphics are meant to provide insights into the data that cannot be easily or effectively explained (i.e. \"a picture is worth a thousand words\"). If you are just plotting for the sake of plotting, you will not receive full credit.\n",
    "\n",
    "Your charts should be structured using at least one of each of the following (which will contain one or some of your plots above):\n",
    "- A chart with a single plot\n",
    "- A chart with side-by-side plots\n",
    "- A multi-plot chart with three or more plots\n",
    "\n",
    "For each chart, you should put: \n",
    "- A meaningful title\n",
    "- Descriptive subtitles\n",
    "- Modify the x- and y-labels appropriately\n",
    "- A legend for your line plot placed in a non-obstructive location\n",
    "\n",
    "I've created sections in this notebook for you to create each of your three major charts."
   ]
  },
  {
   "cell_type": "markdown",
   "metadata": {},
   "source": [
    "## Data Topic\n",
    "\n",
    "In the space below, describe the topic you are analyzing"
   ]
  },
  {
   "cell_type": "markdown",
   "metadata": {},
   "source": []
  },
  {
   "cell_type": "markdown",
   "metadata": {},
   "source": [
    "In the space below, describe your working hypothesis. A hypothesis is an idea that you are trying to prove through analysis"
   ]
  },
  {
   "cell_type": "markdown",
   "metadata": {},
   "source": []
  },
  {
   "cell_type": "markdown",
   "metadata": {},
   "source": [
    "## Data Load\n",
    "\n",
    "Use this section to load your data from Homework 7 so that you can either re-create your analyses or create new analysis so that you can generate the plots for this homework."
   ]
  },
  {
   "cell_type": "code",
   "execution_count": null,
   "metadata": {},
   "outputs": [],
   "source": [
    "import matplotlib\n",
    "from matplotlib import pyplot as plt\n",
    "%matplotlib inline\n",
    "import pandas as pd\n",
    "import numpy as np\n",
    "import json\n",
    "import csv\n",
    "from datetime import datetime"
   ]
  },
  {
   "cell_type": "code",
   "execution_count": null,
   "metadata": {},
   "outputs": [],
   "source": []
  },
  {
   "cell_type": "code",
   "execution_count": null,
   "metadata": {},
   "outputs": [],
   "source": []
  },
  {
   "cell_type": "code",
   "execution_count": null,
   "metadata": {},
   "outputs": [],
   "source": []
  },
  {
   "cell_type": "code",
   "execution_count": null,
   "metadata": {},
   "outputs": [],
   "source": []
  },
  {
   "cell_type": "markdown",
   "metadata": {},
   "source": [
    "## Chart 1 - Single Chart\n",
    "\n",
    "In this section, please analyze your data to generate a single chart that represents a critical high level observation/insight about your data."
   ]
  },
  {
   "cell_type": "code",
   "execution_count": null,
   "metadata": {},
   "outputs": [],
   "source": []
  },
  {
   "cell_type": "code",
   "execution_count": null,
   "metadata": {},
   "outputs": [],
   "source": []
  },
  {
   "cell_type": "code",
   "execution_count": null,
   "metadata": {},
   "outputs": [],
   "source": []
  },
  {
   "cell_type": "code",
   "execution_count": null,
   "metadata": {},
   "outputs": [],
   "source": []
  },
  {
   "cell_type": "code",
   "execution_count": null,
   "metadata": {},
   "outputs": [],
   "source": [
    "#Generate chart here\n"
   ]
  },
  {
   "cell_type": "markdown",
   "metadata": {},
   "source": [
    "#### Chart 1 Key Insight or Takeaway\n",
    "Please describe what you analyzed and how it supports or refutes your working hypothesis. You do not necessarily have to have proven your hypothesis - just that you understand how your chart supports or disputes your hypothesis."
   ]
  },
  {
   "cell_type": "markdown",
   "metadata": {
    "collapsed": true
   },
   "source": []
  },
  {
   "cell_type": "markdown",
   "metadata": {
    "collapsed": true
   },
   "source": [
    "## Chart 2 - Side-by-Side Chart\n",
    "\n",
    "In this section, , positioned side-by-side, and put them into a single chart .\n",
    "\n",
    "In this section, please analyze your data to generate two plots, positioned side-by-side, in a single chart that can be looked at *together* to generate a comparison."
   ]
  },
  {
   "cell_type": "code",
   "execution_count": null,
   "metadata": {},
   "outputs": [],
   "source": []
  },
  {
   "cell_type": "code",
   "execution_count": null,
   "metadata": {},
   "outputs": [],
   "source": []
  },
  {
   "cell_type": "code",
   "execution_count": null,
   "metadata": {},
   "outputs": [],
   "source": []
  },
  {
   "cell_type": "code",
   "execution_count": null,
   "metadata": {},
   "outputs": [],
   "source": []
  },
  {
   "cell_type": "code",
   "execution_count": null,
   "metadata": {},
   "outputs": [],
   "source": [
    "#Generate chart here\n"
   ]
  },
  {
   "cell_type": "markdown",
   "metadata": {},
   "source": [
    "#### Chart 2 Key Insight or Takeaway\n",
    "Please describe what you analyzed and how it supports or refutes your working hypothesis. You do not necessarily have to have proven your hypothesis - just that you understand how your chart supports or disputes your hypothesis."
   ]
  },
  {
   "cell_type": "markdown",
   "metadata": {},
   "source": []
  },
  {
   "cell_type": "markdown",
   "metadata": {},
   "source": [
    "## Chart 3 - Multi-Plot Chart\n",
    "\n",
    "In this section, please generate three or more plots, positioned , and put them into a single chart that can be looked at *together* to generate a summary visual that conveys a complex insight or comparison."
   ]
  },
  {
   "cell_type": "code",
   "execution_count": null,
   "metadata": {},
   "outputs": [],
   "source": []
  },
  {
   "cell_type": "code",
   "execution_count": null,
   "metadata": {},
   "outputs": [],
   "source": []
  },
  {
   "cell_type": "code",
   "execution_count": null,
   "metadata": {},
   "outputs": [],
   "source": []
  },
  {
   "cell_type": "code",
   "execution_count": null,
   "metadata": {},
   "outputs": [],
   "source": []
  },
  {
   "cell_type": "code",
   "execution_count": null,
   "metadata": {},
   "outputs": [],
   "source": [
    "#Generate chart here\n"
   ]
  },
  {
   "cell_type": "markdown",
   "metadata": {},
   "source": [
    "#### Chart 3 Key Insight or Takeaway\n",
    "Please describe what you analyzed and how it supports or refutes your working hypothesis. You do not necessarily have to have proven your hypothesis - just that you understand how your chart supports or disputes your hypothesis."
   ]
  },
  {
   "cell_type": "markdown",
   "metadata": {},
   "source": []
  }
 ],
 "metadata": {
  "anaconda-cloud": {},
  "kernelspec": {
   "display_name": "Python 3",
   "language": "python",
   "name": "python3"
  },
  "language_info": {
   "codemirror_mode": {
    "name": "ipython",
    "version": 3
   },
   "file_extension": ".py",
   "mimetype": "text/x-python",
   "name": "python",
   "nbconvert_exporter": "python",
   "pygments_lexer": "ipython3",
   "version": "3.7.1"
  }
 },
 "nbformat": 4,
 "nbformat_minor": 1
}
