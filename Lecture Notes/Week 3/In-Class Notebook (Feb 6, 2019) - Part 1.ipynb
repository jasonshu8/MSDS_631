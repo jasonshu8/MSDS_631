{
 "cells": [
  {
   "cell_type": "markdown",
   "metadata": {},
   "source": [
    "# MSDS 631 - Lecture 3 (February 6, 2019)\n",
    "### Loops and Control Flow"
   ]
  },
  {
   "cell_type": "markdown",
   "metadata": {},
   "source": [
    "Everything we've learned so far has been nice, but not much more than a basic calculator can do. The real power of programming is being able to implement logic and do things many many many times very very very fast. Now that you have a better understanding of data structures (and how to modify them), functions, and methods, we're finally in a place where we can try to do some cooler things!"
   ]
  },
  {
   "cell_type": "code",
   "execution_count": 1,
   "metadata": {},
   "outputs": [
    {
     "name": "stdout",
     "output_type": "stream",
     "text": [
      "30 is an even number\n",
      "15 is an odd number\n",
      "20 is an even number\n",
      "8 is an even number\n",
      "4 is an even number\n",
      "4 is an even number\n",
      "11 is an odd number\n",
      "20 is an even number\n",
      "3 is an odd number\n",
      "4 is an even number\n",
      "15 is an odd number\n",
      "1 is an odd number\n"
     ]
    }
   ],
   "source": [
    "#Basic print example\n",
    "random_numbers = [30, 15, 20, 8, 4, 4, 11, 20, 3, 4, 15, 1]\n",
    "for i in random_numbers:\n",
    "    if i % 2 == 0:\n",
    "        print('{} is an even number'.format(i))\n",
    "    else:\n",
    "        print('{} is an odd number'.format(i))"
   ]
  },
  {
   "cell_type": "markdown",
   "metadata": {},
   "source": [
    "Let's re-write the logic in the cell above using plain english words.\n",
    "\n",
    "\"*For each of the values in a random list of numbers, check to see if the number is divisible by 2. If it is, print that the number is even. If it is not divisible by 2, then print that the number is odd.*\"\n",
    "\n",
    "Now let's identify each of the key elements of the code above:\n",
    "- A loop (`for`)\n",
    "- A looped variable (`i`)\n",
    "- An iterator (`random_numbers`)\n",
    "- A conditional (`if`)\n",
    "- A comparison (`i % 2 == 0`)\n",
    "- Blocks (`print(...)`)\n",
    "\n",
    "Let's note a few other things in the code above:\n",
    "- Every time we go through a loop, the variable `i` is re-set to the next value of the iterator. You can use a letter like `i` (coders do this ALL the time), but it's also possible (I think even better) to give variables more descriptive names.\n",
    "- Whatever is \"inside\" of the loop will get run for as many times as the loop executes.\n",
    "- The executable code block for each condition is demarcated by the colon and the indentation. You MUST get the indentations correct in order to encapsulate your code.\n",
    "- The indentation is really just four spaces. Using an actual \"tab\" is possible but can create challenges for you\n",
    "- Colons mark the end of the special line of code initiated by certain keywords (**`for`**, **`if`**, **`elif`**, **`else`**, etc). We will learn more about other keywords later."
   ]
  },
  {
   "cell_type": "code",
   "execution_count": 11,
   "metadata": {},
   "outputs": [
    {
     "name": "stdout",
     "output_type": "stream",
     "text": [
      "30 is an even number\n",
      "15 is an odd number\n",
      "Jason's favorite number appeared 0 times!\n",
      "20 is an even number\n",
      "8 is an even number\n",
      "4 is an even number\n",
      "4 is an even number\n",
      "11 is an odd number\n",
      "Jason's favorite number appeared 1 time!\n",
      "20 is an even number\n",
      "3 is an odd number\n",
      "Jason's favorite number appeared 1 time!\n",
      "4 is an even number\n",
      "8 is an even number\n",
      "15 is an odd number\n",
      "Jason's favorite number appeared 2 times!\n",
      "1 is an odd number... and 1 is the loneliest number\n",
      "Jason's favorite number appeared 2 times!\n"
     ]
    }
   ],
   "source": [
    "# We can add more to each code blocks... sometimes even additional logic\n",
    "random_numbers = [30, 15, 20, 8, 4, 4, 11, 20, 3, 4, 8, 15, 1]\n",
    "num_eights = 0\n",
    "\n",
    "for i in random_numbers: #Line 1 \n",
    "    if i % 2 == 0: #Line 2\n",
    "        print('{} is an even number'.format(i)) #Line 3\n",
    "        if i == 8: #Line 4\n",
    "            num_eights += 1 #Line 5\n",
    "    else: #Line 6\n",
    "        if i == 1: #Line 7\n",
    "            print('{} is an odd number... and 1 is the loneliest number'.format(i)) #Line 8\n",
    "        else: #Line 9\n",
    "            print('{} is an odd number'.format(i)) #Line 10\n",
    "\n",
    "        if num_eights == 1:\n",
    "            print('Jason\\'s favorite number appeared {} time!'.format(num_eights)) \n",
    "        else:\n",
    "            print('Jason\\'s favorite number appeared {} times!'.format(num_eights))  "
   ]
  },
  {
   "cell_type": "markdown",
   "metadata": {},
   "source": [
    "As you can see, the indentations in Python is how we create these code blocks. You WILL have indentation errors at some point in your Python line. This is a reality. It's okay :)\n",
    "\n",
    "When you initiate a code block through a Python keyword, you must indicate that you are going to start the subsequent code block with the colon. You can then start the next line with an indentation. Your code block typically ends when you've returned to the starting character column. In the cell above, the for-loop is initiated on Line 1. The next line that starts at the same \"level\" as the `for` would the final `print` statement regarding my favorite number. Thus, the code block for the `for` statement runs between Lines 2 and 10.\n",
    "\n",
    "The exception to this rule about returning to the initial character column is when using an `if` statement. In this case, you can continue the `if` logic (using `elif` or `else`) at the same level as the if statement."
   ]
  },
  {
   "cell_type": "code",
   "execution_count": 12,
   "metadata": {},
   "outputs": [
    {
     "name": "stdout",
     "output_type": "stream",
     "text": [
      "8 is not divisible by either 3 or 5\n"
     ]
    }
   ],
   "source": [
    "# if-elif-else logic\n",
    "num = 8\n",
    "if num % 3 == 0:\n",
    "    print('{} is divisible by 3'.format(num))\n",
    "elif num % 5 == 0:\n",
    "    print('{} is divisible by 5'.format(num))\n",
    "else:\n",
    "    print('{} is not divisible by either 3 or 5'.format(num))"
   ]
  },
  {
   "cell_type": "code",
   "execution_count": 13,
   "metadata": {},
   "outputs": [
    {
     "name": "stdout",
     "output_type": "stream",
     "text": [
      "15 is divisible by 3\n"
     ]
    }
   ],
   "source": [
    "# The above logic is not exactly correct\n",
    "num = 15\n",
    "if num % 3 == 0:\n",
    "    print('{} is divisible by 3'.format(num))\n",
    "elif num % 5 == 0:\n",
    "    print('{} is divisible by 5'.format(num))\n",
    "else:\n",
    "    print('{} is not divisible by either 3 or 5'.format(num))"
   ]
  },
  {
   "cell_type": "markdown",
   "metadata": {},
   "source": [
    "In the code above, the output is technically true, but not **entirely** true since it missed that 15 is also divisible by 5! Let's add even more logic!\n",
    "\n",
    "When needing to check for multiple conditions at the same time, we will use `and` or `or` logic into our conditional statements."
   ]
  },
  {
   "cell_type": "code",
   "execution_count": 14,
   "metadata": {},
   "outputs": [
    {
     "name": "stdout",
     "output_type": "stream",
     "text": [
      "15 is divisible by both 3 and 5\n"
     ]
    }
   ],
   "source": [
    "# You can use compound logic to evaluate multiple conditions\n",
    "num = 15\n",
    "if num % 3 == 0 and num % 5 == 0: # \"and\" will ensure that BOTH conditions are true\n",
    "    print('{} is divisible by both 3 and 5'.format(num))\n",
    "elif num % 3 == 0:\n",
    "    print('{} is divisible by 3'.format(num))\n",
    "elif num % 5 == 0:\n",
    "    print('{} is divisible by 5'.format(num))\n",
    "else:\n",
    "    print('{} is not divisible by either 3 or 5'.format(num))"
   ]
  },
  {
   "cell_type": "code",
   "execution_count": 15,
   "metadata": {},
   "outputs": [
    {
     "name": "stdout",
     "output_type": "stream",
     "text": [
      "18 is divisible by either 3 or 5\n"
     ]
    }
   ],
   "source": [
    "# You can use compound logic to evaluate multiple conditions\n",
    "num = 18\n",
    "if num % 3 == 0 or num % 5 == 0: # \"or\" will ensure that EITHER conditions are true\n",
    "    print('{} is divisible by either 3 or 5'.format(num))\n",
    "elif num % 3 == 0: #This is no longer needed because it's already satisfied above\n",
    "    print('{} is divisible by 3'.format(num))\n",
    "elif num % 5 == 0: #This is no longer needed because it's already satisfied above\n",
    "    print('{} is divisible by 5'.format(num))\n",
    "else:\n",
    "    print('{} is not divisible by either 3 or 5'.format(num))"
   ]
  },
  {
   "cell_type": "markdown",
   "metadata": {},
   "source": [
    "You must be careful, however, that you work through the logic in your head to ensure that you don't accidentally miss the opportunity to evalute all of the conditions you actually want. In the cell below, we've taken the same logic from the cell above but moved the **`and`** condition to later in the logic chain. As a result, we did not get to evaluate the **`and`** condition because the first condition of the `if` statement was satisfied and the logic tree ended early."
   ]
  },
  {
   "cell_type": "code",
   "execution_count": 16,
   "metadata": {},
   "outputs": [
    {
     "name": "stdout",
     "output_type": "stream",
     "text": [
      "15 is divisible by 3\n"
     ]
    }
   ],
   "source": [
    "# The order of your logic matters. If statements end as soon as the first True result is yielded\n",
    "num = 15\n",
    "if num % 3 == 0:\n",
    "    print('{} is divisible by 3'.format(num))\n",
    "elif num % 5 == 0:\n",
    "    print('{} is divisible by 5'.format(num))\n",
    "elif num % 3 == 0 and num % 5 == 0:\n",
    "    print('{} is divisible by both 3 and 5'.format(num)) #Your code didn't get this far :(\n",
    "else:\n",
    "    print('{} is not divisible by either 3 or 5'.format(num))"
   ]
  },
  {
   "cell_type": "markdown",
   "metadata": {},
   "source": [
    "##### When will my code execute?\n",
    "\n",
    "So far we've only tested for equality. However, there are many other conditions you can evaluate. `if-elif-else` statements execute their corresponding code blocks based on any of the comparison logic being true or not. Below are the different types of comparison operators."
   ]
  },
  {
   "cell_type": "code",
   "execution_count": 17,
   "metadata": {},
   "outputs": [
    {
     "name": "stdout",
     "output_type": "stream",
     "text": [
      "True\n",
      "True\n",
      "True\n",
      "True\n",
      "True\n",
      "True\n"
     ]
    }
   ],
   "source": [
    "# There are may types of comparison operators. All of the following evaluate as True\n",
    "print(3 == 3.0) #Are these two values equivalent?\n",
    "print(3 < 3.1) #Is the left value is less than the right value?\n",
    "print(3 <= 3.0) #Is the left value is less than or equal to the right value?\n",
    "print(3 > 2.9) #Is the left value is greater than the right value?\n",
    "print(3 >= 2.9) #Is the left value is greater than or equal to the right value?\n",
    "print(3 != 4) #Are the two values not equivalent?"
   ]
  },
  {
   "cell_type": "code",
   "execution_count": 18,
   "metadata": {},
   "outputs": [
    {
     "name": "stdout",
     "output_type": "stream",
     "text": [
      "False\n",
      "False\n",
      "False\n",
      "False\n",
      "False\n",
      "False\n"
     ]
    }
   ],
   "source": [
    "# All of the following evaluate as False\n",
    "print(2.9 == 3.0) #Are these two values equivalent?\n",
    "print(3.1 < 3.1) #Is the left value is less than the right value?\n",
    "print(3.1 <= 3.0) #Is the left value is less than the right value?\n",
    "print(2.9 > 3.0) #Is the left value is greater than the right value?\n",
    "print(2.9 >= 3.0) #Is the left value is greater than or equal to the right value?\n",
    "print(3 != 3.0) #Are the two values not equivalent?"
   ]
  },
  {
   "cell_type": "markdown",
   "metadata": {},
   "source": [
    "Conditionals can do more than just compare numeric logic. There are many things that can be compared, such as strings, dates, data types, existance (is the value non-null), and many many more. For the time being, we are going to focus on numeric comparisons, but we will eventually move onto other types as well. Just as a sneak peak of other comparisons, here are a few we will see:"
   ]
  },
  {
   "cell_type": "code",
   "execution_count": 34,
   "metadata": {},
   "outputs": [
    {
     "name": "stdout",
     "output_type": "stream",
     "text": [
      "False\n",
      "True\n",
      "False\n"
     ]
    }
   ],
   "source": [
    "print('abc' == 'ABC') #String equality\n",
    "print('abc' < 'abd') #Alphabetic order\n",
    "print('a' < '3') #Alphabetic order using numeric characters instead of just letters"
   ]
  },
  {
   "cell_type": "code",
   "execution_count": 27,
   "metadata": {},
   "outputs": [
    {
     "name": "stdout",
     "output_type": "stream",
     "text": [
      "False\n"
     ]
    }
   ],
   "source": [
    "#Dates are special data types we will learn about later. What you see below are string representations of a date\n",
    "print('2019-02-01' > '2019-02-01')"
   ]
  },
  {
   "cell_type": "code",
   "execution_count": 35,
   "metadata": {},
   "outputs": [
    {
     "name": "stdout",
     "output_type": "stream",
     "text": [
      "True\n"
     ]
    }
   ],
   "source": [
    "#Python does not understand dates as strings. \n",
    "#In the cell above, the logic was literally just \"alphabetizing\" the strings to compare which came first\n",
    "print('02-21-1999' > '02-19-2019')"
   ]
  },
  {
   "cell_type": "markdown",
   "metadata": {},
   "source": [
    "In string comparisons, the characters are evaluated one at a time until the logic condition is satisfied. In the cell above, we were testing to see if the left value was greater than the right value. Python first checked to see if the first letter on the left was greater than the first letter on the right. If this were true, then the conditional would have ended as True. If the first letter on the left were LESS THAN the first letter on the right, then the conditional would have ended as False. Since the two letters were the same, we called it a tie and moved on to the second letter. In the end, Python had to compare four letter before it got a satisfactory condition to exit out of the logic tree."
   ]
  },
  {
   "cell_type": "markdown",
   "metadata": {},
   "source": [
    "### Let's resort_back to our original problem and start doing some different things"
   ]
  },
  {
   "cell_type": "code",
   "execution_count": 36,
   "metadata": {},
   "outputs": [
    {
     "name": "stdout",
     "output_type": "stream",
     "text": [
      "The even numbered list is: [30, 20, 8, 4, 4, 20, 4]\n",
      "The odd numbered list is: [15, 11, 3, 15, 1]\n"
     ]
    }
   ],
   "source": [
    "# Let's resort_back to our original problem and start doing some different things\n",
    "random_numbers = [30, 15, 20, 8, 4, 4, 11, 20, 3, 4, 15, 1]\n",
    "even_nums = []\n",
    "odd_nums = []\n",
    "for i in random_numbers:\n",
    "    if i % 2 == 0:\n",
    "        even_nums.append(i)\n",
    "    else:\n",
    "        odd_nums.append(i)\n",
    "print('The even numbered list is:', even_nums)\n",
    "print('The odd numbered list is:', odd_nums)"
   ]
  },
  {
   "cell_type": "code",
   "execution_count": 38,
   "metadata": {},
   "outputs": [
    {
     "name": "stdout",
     "output_type": "stream",
     "text": [
      "The even numbered list is: [30, 20, 8, 4, 4, 20, 4]\n",
      "The odd numbered list is: [15, 11, 3, 15, 1]\n"
     ]
    }
   ],
   "source": [
    "# Let's do the previous loop but use a different data structure\n",
    "random_numbers = [30, 15, 20, 8, 4, 4, 11, 20, 3, 4, 15, 1]\n",
    "num_groups = {'even': [], 'odd': []}\n",
    "for i in random_numbers:\n",
    "    if i % 2 == 0:\n",
    "        num_groups['even'].append(i)\n",
    "    else:\n",
    "        num_groups['odd'].append(i)\n",
    "print('The even numbered list is:', num_groups['even'])\n",
    "print('The odd numbered list is:', num_groups['odd'])\n",
    "# Now I can pass around all of my data with a single variable instead of two different variables"
   ]
  },
  {
   "cell_type": "code",
   "execution_count": 39,
   "metadata": {},
   "outputs": [
    {
     "name": "stdout",
     "output_type": "stream",
     "text": [
      "The numbers divisible by 3 are: [30, 15, 3, 15]\n",
      "The numbers divisible by 5 are: [30, 15, 20, 20, 15]\n"
     ]
    }
   ],
   "source": [
    "# Let's resort_back to our original problem and start doing some different things\n",
    "nums_divisible_by = {3: [], 5: []} # Create a \n",
    "all_divisors = nums_divisible_by.keys()\n",
    "random_numbers = [30, 15, 20, 8, 4, 4, 11, 20, 3, 4, 15, 1]\n",
    "for i in random_numbers:\n",
    "    for divisor in all_divisors: #This is called a nested for-loop\n",
    "        if i % divisor == 0:\n",
    "            nums_divisible_by[divisor].append(i)\n",
    "\n",
    "for divisor in all_divisors:\n",
    "    print('The numbers divisible by {} are:'.format(divisor), nums_divisible_by[divisor])"
   ]
  },
  {
   "cell_type": "code",
   "execution_count": 43,
   "metadata": {},
   "outputs": [
    {
     "name": "stdout",
     "output_type": "stream",
     "text": [
      "The numbers divisible by 3 are: [30, 15, 3, 15]\n",
      "The numbers divisible by 5 are: [30, 15, 20, 20, 15]\n"
     ]
    }
   ],
   "source": [
    "# Let's resort_back to our original problem and start doing some different things\n",
    "nums_divisible_by = {3: [], 5: []} # Create a \n",
    "all_divisors = nums_divisible_by.keys()\n",
    "random_numbers = [30, 15, 20, 8, 4, 4, 11, 20, 3, 4, 15, 1]\n",
    "for i in random_numbers:\n",
    "    for divisor in all_divisors: #This is called a nested for-loop\n",
    "        if i % divisor == 0:\n",
    "            nums_divisible_by[divisor].append(i)\n",
    "\n",
    "for divisor in all_divisors:\n",
    "    print('The numbers divisible by {} are:'.format(divisor), nums_divisible_by[divisor])"
   ]
  },
  {
   "cell_type": "code",
   "execution_count": 44,
   "metadata": {},
   "outputs": [
    {
     "name": "stdout",
     "output_type": "stream",
     "text": [
      "The numbers that are divisible by both 3 and 5 are: {30, 15}\n"
     ]
    }
   ],
   "source": [
    "# Let's use the results above to find the numbers divisible by both! \n",
    "# While we're at it, let's make use of one of our data structures!\n",
    "nums_in_all_groups = set(nums_divisible_by[3]) & set(nums_divisible_by[5])\n",
    "print('The numbers that are divisible by both 3 and 5 are:', nums_in_all_groups)"
   ]
  },
  {
   "cell_type": "code",
   "execution_count": 46,
   "metadata": {},
   "outputs": [
    {
     "name": "stdout",
     "output_type": "stream",
     "text": [
      "The numbers that are divisible by either 3 or 5 are: {3, 20, 30, 15}\n"
     ]
    }
   ],
   "source": [
    "# Now find the numbers divisible by either 3 OR 5\n",
    "nums_in_either_group = set(nums_divisible_by[3]) | set(nums_divisible_by[5])\n",
    "print('The numbers that are divisible by either 3 or 5 are:', nums_in_either_group)"
   ]
  },
  {
   "cell_type": "markdown",
   "metadata": {},
   "source": [
    "### Other ways to loop\n",
    "So far, we've gone over iterating over the values of a list, but there are many different ways to iterate. First, we can use any type of iterator to do a loop. This would include a dictionary, a set, a string, or a generator. We'll ignore iterating over dictionaries and sets for now since we typically like to know the order of what we are iterating over.\n",
    "\n",
    "The `range` generator is probably the most common way to iterate in Python (though I personally use the direct values of a list as we did above)."
   ]
  },
  {
   "cell_type": "code",
   "execution_count": 47,
   "metadata": {},
   "outputs": [
    {
     "name": "stdout",
     "output_type": "stream",
     "text": [
      "0\n",
      "1\n",
      "2\n",
      "3\n",
      "4\n"
     ]
    }
   ],
   "source": [
    "# If you recall, the built-in \"range\" function creates a generator of numbers\n",
    "for i in range(5):\n",
    "    print(i)"
   ]
  },
  {
   "cell_type": "code",
   "execution_count": 48,
   "metadata": {},
   "outputs": [
    {
     "data": {
      "text/plain": [
       "[0, 1, 2, 3, 4]"
      ]
     },
     "execution_count": 48,
     "metadata": {},
     "output_type": "execute_result"
    }
   ],
   "source": [
    "# Another way of looking at the \"range\" object is to convert it into a list\n",
    "list(range(5))"
   ]
  },
  {
   "cell_type": "markdown",
   "metadata": {},
   "source": [
    "Knowing this, we can now use the \"range\" object to do one of two things:\n",
    "- Iterate through indices of another list, or\n",
    "- Do things a certain number of times and ignore the *actual* number being generated"
   ]
  },
  {
   "cell_type": "code",
   "execution_count": 49,
   "metadata": {},
   "outputs": [
    {
     "name": "stdout",
     "output_type": "stream",
     "text": [
      "Jason Shu is cool\n",
      "Kimmy Siegler is cool\n",
      "Hilary Wall is cool\n",
      "Jon Chiu is cool\n",
      "Danny Wittenborn is cool\n"
     ]
    }
   ],
   "source": [
    "first_name = ['Jason', 'Kimmy', 'Hilary', 'Jon', 'Danny']\n",
    "last_name = ['Shu', 'Siegler', 'Wall', 'Chiu', 'Wittenborn']\n",
    "for i in range(5):\n",
    "    first = first_name[i]\n",
    "    last = last_name[i]\n",
    "    print(first, last, 'is cool')"
   ]
  },
  {
   "cell_type": "code",
   "execution_count": 60,
   "metadata": {},
   "outputs": [
    {
     "name": "stdout",
     "output_type": "stream",
     "text": [
      "Jason Shu is cool\n",
      "... because it's cold outside\n",
      "maisie bruno-tyne is cool\n",
      "... because i'm cool \n"
     ]
    }
   ],
   "source": [
    "names = ['Jason Shu', 'maisie bruno-tyne']\n",
    "for i in range(2):\n",
    "    my_name = names[i]\n",
    "    if names[i] == 'maisie bruno-tyne':\n",
    "        print(my_name, 'is cool') #Note we didn't even use the value assigned to the variable i\n",
    "        print('... because i\\'m cool ') #You can do more than one thing in the code block\n",
    "    else:\n",
    "            print(my_name, 'is cool') #Note we didn't even use the value assigned to the variable i\n",
    "            print('... because it\\'s cold outside') #You can do more than one thing in the code block"
   ]
  },
  {
   "cell_type": "markdown",
   "metadata": {},
   "source": [
    "I've been doing a lot of printing and adding to lists, but we can also do some math as well."
   ]
  },
  {
   "cell_type": "code",
   "execution_count": 61,
   "metadata": {},
   "outputs": [
    {
     "data": {
      "text/plain": [
       "45"
      ]
     },
     "execution_count": 61,
     "metadata": {},
     "output_type": "execute_result"
    }
   ],
   "source": [
    "# Add to a counter\n",
    "#You don't always have to declare variables, but you do need them to exist before using them\n",
    "total = 0\n",
    "for i in range(1,10):\n",
    "    total += i #Had you not initiated your variable above, total would have had nothing to add to to yield a sum\n",
    "total"
   ]
  },
  {
   "cell_type": "code",
   "execution_count": 62,
   "metadata": {},
   "outputs": [
    {
     "name": "stdout",
     "output_type": "stream",
     "text": [
      "0\n",
      "945\n"
     ]
    }
   ],
   "source": [
    "# Multiply only evens or odds\n",
    "odd_product = 1\n",
    "even_product = 1\n",
    "for i in range(10):\n",
    "    if i % 2 == 0: #Is it even?\n",
    "        even_product *= i\n",
    "    else:\n",
    "        odd_product *= i\n",
    "print(even_product)\n",
    "print(odd_product)"
   ]
  },
  {
   "cell_type": "markdown",
   "metadata": {},
   "source": [
    "Yikes! We forgot that 0 is the first number generated in the range iterator. We can get around this with our trusty conditional!"
   ]
  },
  {
   "cell_type": "code",
   "execution_count": 63,
   "metadata": {},
   "outputs": [
    {
     "name": "stdout",
     "output_type": "stream",
     "text": [
      "384\n",
      "945\n"
     ]
    }
   ],
   "source": [
    "# Multiply only evens or odds\n",
    "odd_product = 1\n",
    "even_product = 1\n",
    "for i in range(10):\n",
    "    if i > 0:\n",
    "        if i % 2 == 0: #Is it even?\n",
    "            even_product *= i\n",
    "        else:\n",
    "            odd_product *= i\n",
    "print(even_product)\n",
    "print(odd_product)"
   ]
  },
  {
   "cell_type": "code",
   "execution_count": null,
   "metadata": {},
   "outputs": [],
   "source": []
  }
 ],
 "metadata": {
  "anaconda-cloud": {},
  "kernelspec": {
   "display_name": "Python 3",
   "language": "python",
   "name": "python3"
  },
  "language_info": {
   "codemirror_mode": {
    "name": "ipython",
    "version": 3
   },
   "file_extension": ".py",
   "mimetype": "text/x-python",
   "name": "python",
   "nbconvert_exporter": "python",
   "pygments_lexer": "ipython3",
   "version": "3.8.5"
  }
 },
 "nbformat": 4,
 "nbformat_minor": 1
}
