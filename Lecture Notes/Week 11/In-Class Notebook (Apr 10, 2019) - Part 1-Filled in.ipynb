{
 "cells": [
  {
   "cell_type": "markdown",
   "metadata": {},
   "source": [
    "# MSDS 631 - Lecture 11 (April 10, 2019)\n",
    "\n",
    "## End-to-End Analysis\n",
    "\n",
    "Now that we're comfortable with the basic functionality of Python and Pandas, I want to go through an example of what you can do with all of the tools we've discussed (plus a few extra that we haven't covered yet).\n",
    "\n",
    "We have three data files that we're mostly going to read from:\n",
    "- Users: Describes users overall characteristics\n",
    "- Reviews: Details about individual reviews\n",
    "- Businesses: Details about the businesses our reviewers rated\n",
    "\n",
    "The reviews in these files are primarily focused on reviews in Las Vegas, Toronto, and Phoenix"
   ]
  },
  {
   "cell_type": "code",
   "execution_count": 1,
   "metadata": {},
   "outputs": [],
   "source": [
    "import os\n",
    "import re\n",
    "import json\n",
    "import pandas as pd\n",
    "import numpy as np\n",
    "from datetime import datetime as dt"
   ]
  },
  {
   "cell_type": "markdown",
   "metadata": {},
   "source": [
    "#### These are my file path fetchers"
   ]
  },
  {
   "cell_type": "code",
   "execution_count": 2,
   "metadata": {},
   "outputs": [],
   "source": [
    "#Code to help me get all of the files in a folder so that I can open them\n",
    "def get_file_paths(folder, full_path=True):\n",
    "    file_paths = []\n",
    "    for (dirpath, dirnames, filenames) in os.walk(folder):\n",
    "        for file_ in filenames:\n",
    "            if (not re.match('\\.', file_)) and (file_ != '_SUCCESS'):\n",
    "                if full_path:\n",
    "                    file_paths.append(os.path.join(dirpath, file_))\n",
    "                else:\n",
    "                    file_paths.append((dirpath, file_))\n",
    "    return file_paths\n",
    "\n",
    "\n",
    "def get_all_paths(subfolder):\n",
    "    folder = os.path.join('/Users/jasonshu/Documents/yelp', subfolder)\n",
    "    files = get_file_paths(folder)\n",
    "    return files"
   ]
  },
  {
   "cell_type": "code",
   "execution_count": 3,
   "metadata": {},
   "outputs": [],
   "source": [
    "file_paths = {}\n",
    "file_paths['reviews'] = get_all_paths('reviews')\n",
    "file_paths['users'] = get_all_paths('users')\n",
    "file_paths['businesses'] = ['/Users/jasonshu/Documents/yelp/yelp_businesses.json']"
   ]
  },
  {
   "cell_type": "code",
   "execution_count": 4,
   "metadata": {},
   "outputs": [
    {
     "name": "stdout",
     "output_type": "stream",
     "text": [
      "reviews 67\n",
      "users 17\n",
      "businesses 1\n"
     ]
    }
   ],
   "source": [
    "for key in file_paths:\n",
    "    print(key, len(file_paths[key]))"
   ]
  },
  {
   "cell_type": "markdown",
   "metadata": {},
   "source": [
    "#### These are my file openers"
   ]
  },
  {
   "cell_type": "code",
   "execution_count": 5,
   "metadata": {},
   "outputs": [],
   "source": [
    "def open_single_review_file(filepath):\n",
    "    data = []\n",
    "    with open(filepath,  'r') as f:\n",
    "        reviews = f.read().strip().split('\\n')\n",
    "    for review in reviews:\n",
    "        temp = json.loads(review)\n",
    "        del(temp['text'])\n",
    "        data.append(temp)\n",
    "    return data\n",
    "\n",
    "\n",
    "def open_single_user_file(filepath):\n",
    "    data = []\n",
    "    elite = []\n",
    "    with open(filepath,  'r') as f:\n",
    "        users = f.read().strip().split('\\n')\n",
    "    for user in users:\n",
    "        temp = json.loads(user)\n",
    "        data.append(temp)\n",
    "    return data\n",
    "\n",
    "\n",
    "def open_business_data(filepath):\n",
    "    data = []\n",
    "    with open(filepath,  'r') as f:\n",
    "        businesses = f.read().strip().split('\\n')\n",
    "    for business in businesses:\n",
    "        temp = json.loads(business)\n",
    "        data.append(temp)\n",
    "    return data"
   ]
  },
  {
   "cell_type": "code",
   "execution_count": 6,
   "metadata": {},
   "outputs": [],
   "source": [
    "preview = {}\n",
    "preview['reviews'] = open_single_review_file(file_paths['reviews'][0])\n",
    "preview['users'] = open_single_user_file(file_paths['users'][0])\n",
    "preview['businesses'] = open_business_data(file_paths['businesses'][0])"
   ]
  },
  {
   "cell_type": "markdown",
   "metadata": {},
   "source": [
    "The first thing you ALWAYS do when opening data for the first time is to look at the data type that you have loaded. JSON parsers can return lists or dictionaries, and this will be what allows you to know what you are dealing with and how to access the data.\n",
    "\n",
    "Once we've done that, we look at a few values to figure out what we have that could be of use for an analysis. I'm doing that for each of our data sources.\n",
    "\n",
    "##### Reviews"
   ]
  },
  {
   "cell_type": "code",
   "execution_count": 7,
   "metadata": {},
   "outputs": [
    {
     "data": {
      "text/plain": [
       "list"
      ]
     },
     "execution_count": 7,
     "metadata": {},
     "output_type": "execute_result"
    }
   ],
   "source": [
    "type(preview['reviews'])"
   ]
  },
  {
   "cell_type": "code",
   "execution_count": 8,
   "metadata": {},
   "outputs": [
    {
     "data": {
      "text/plain": [
       "100000"
      ]
     },
     "execution_count": 8,
     "metadata": {},
     "output_type": "execute_result"
    }
   ],
   "source": [
    "len(preview['reviews'])"
   ]
  },
  {
   "cell_type": "code",
   "execution_count": 9,
   "metadata": {},
   "outputs": [
    {
     "data": {
      "text/plain": [
       "{'review_id': 'o38jQ6b9xuPddfKQci2New',\n",
       " 'user_id': '7oB7Lm30WRxQ_a4yxrD2uQ',\n",
       " 'business_id': 'SwAZBCyFtVo_8vkRbJhdkA',\n",
       " 'stars': 3.0,\n",
       " 'useful': 0,\n",
       " 'funny': 0,\n",
       " 'cool': 0,\n",
       " 'date': '2015-07-09 03:58:00'}"
      ]
     },
     "execution_count": 9,
     "metadata": {},
     "output_type": "execute_result"
    }
   ],
   "source": [
    "preview['reviews'][0]"
   ]
  },
  {
   "cell_type": "markdown",
   "metadata": {},
   "source": [
    "##### Users"
   ]
  },
  {
   "cell_type": "code",
   "execution_count": 10,
   "metadata": {},
   "outputs": [
    {
     "data": {
      "text/plain": [
       "list"
      ]
     },
     "execution_count": 10,
     "metadata": {},
     "output_type": "execute_result"
    }
   ],
   "source": [
    "type(preview['users'])"
   ]
  },
  {
   "cell_type": "code",
   "execution_count": 11,
   "metadata": {},
   "outputs": [
    {
     "data": {
      "text/plain": [
       "100000"
      ]
     },
     "execution_count": 11,
     "metadata": {},
     "output_type": "execute_result"
    }
   ],
   "source": [
    "len(preview['users'])"
   ]
  },
  {
   "cell_type": "code",
   "execution_count": 12,
   "metadata": {},
   "outputs": [
    {
     "data": {
      "text/plain": [
       "{'user_id': 'LqYdURcPrWcahAaTvdHUTA',\n",
       " 'name': 'Cat',\n",
       " 'review_count': 5,\n",
       " 'yelping_since': '2010-08-27 23:27:20',\n",
       " 'useful': 0,\n",
       " 'funny': 0,\n",
       " 'cool': 0,\n",
       " 'elite': '',\n",
       " 'friends': 'ubL-ihNJWZzqJKFOk8HfRA, fpj-d1sd7v7jO_qVPG1kag, BtMw0613XDT-zjp98Fim-Q, h4uQyT3dGoKbelijli09DA, SSf_vWG_mbUNWxL3b5x01g, rFgd4EP8zGldxule9N9MiA, rnoVR0YO0a-vmWDix9ocNg, t-pbnJGS7RD8aX478c3wMQ, jmKITPvZ_dqvTnPUQpomQQ, YTVLa42YposvYyzXxFq_Ng, 3vGi_VDP2stb6mjeAmHebg, vFO3QYXR7q5g-KbUYJiXlQ, 0XzpYJUDZkSVokwIXbYJKw, 6bd4kn67Do_pdd0cDLYnLw, iBUynw0K2GYNWzT9292hXA, YsJ2dXobbTi2jAOhERgJaA, dexb-3i-xbtC5Wt1agehOQ, -RjJfXz8_qrk1Hyqd-gyaA, 2PkqvOKmS8-e2yY8AwZbzQ, yhuFZ3SPyBEOA_W-l3II4A, u4xyH-IaBeRS5df90p_SmQ, FGbVcQzyD22fDfAm61c1mw, i2BkvX2SX4-Bsdz7kDXAqQ, 4Tuygtn6ZwXVgN4q4O02Jw, 5ePCaZ4oVhTB8zWjTx1wbA, bt_e1DkwSi1q0t2mUR_J9Q, KxpWWbOyr82SchvAV4-IZA, rhIB06K0Q62npyCQh-F1OQ, 2sopTvey8KEXhf1dir-_Zg, bAGTxE3K_xOhOM5W4AG3eg, cp5Zv_4x_QBVm7MYILwLQw, nALWplHXAepSBa8BYlwT-g, 4dNHGbVXY5O_rJplL9Y6Vw, mwdpS9IEj5W49d3BurvU7w, Y8dm_OgoN5jXJmStOVhogA, 7XfvymqtUH_4BCwRqoahAA, RpfjWumtgY5BOJ3lcQnhSA, V-kZOpiwmqjjWudWApylPA, s6uCFNeAHNxtnji_OcGQ8g, 4_mzXLVaysWrLiIbve8vJw, 6m4_nBoqp9LZqKxH5FbyCw, 7UC4aWcq4gmdrgCBX1guhw, QGN6JP9kF3lABUMZm9HJOQ, UOCPrE6sz_dsdACdnkjApA, 5aYO44-g4-6k-9c5c336-w, kSXDmem3qt0yd5wyKOBnCQ, 16Bgh3yCxQ914BSVrF-VTQ, 8X9644xFdFT6ujzQepKe5Q, LI8jJnZPNQI8F8cci5o4AQ, NPYrpIzKKKp01msKyZ4ptw, JaHKOlrzkIHIeOaXsZSMdg, bmbkHiwKvZmdmPbsUubuUA, HuH61cydlxXZ0fHRoQSSPg, 1J2QT9V7vEn9FGi-GrO3ug, S7JybSy6f65torqCQ66_JA, stEX86RWuMgMjedFA3En-w, l34PuluhdmHzyLJoAk8fGQ, g-aBIRGDF7dXLmqLi5ndKA, VVqhwA8quwKbn7EtixCCpw, oiQLzjEl9P1Kzv7gdjAlXA, 0dSAmHAQp-740V7D7Pt3XA, EUtz6NmsOx8znKfAnMHImA, E6s-FdENgAsXPK6fyf-CQQ, BPBoMihBug8-1nV-JRm6gg, MPD5ewhEfWIiXPNQ_wVk3A, 6Vm3qH9o8l2Bc2fyCdpOJg, Wf_1Hm3y6JEZjDuMbA6B7A, EpLoz2FQWG_5HqaEz-EQAA, StMJ4oDNrO8V7Xddqlp6RA, TaXHfOmo1EDo47hYZJcJBw, jvaN9auAnVKWvLHzz3Ov9w, NzQT1Y1V1OCNV_2w8Oabjw, 9PecjPjMCPCJP2X8gzn6bw, 6_zJ2W8p8PR0xyOC4L5IYg, tYhHnv1L2wSxgbTibNJSsQ, AO3kT6Y9dWmaoaXslRRXWQ, OP3ezbQSW_Dp37BAMoNWeQ, -P94046_4vpA3EZ7PBK6lA, 2xEEBOowyDbmDWG6wNHqLw, c_RoZTx4gC3CZZgdWP3tDQ, k8G3ox_y-qnvt4VtKk4U_w, RO_6RLXAe0zoj3ydCVoSyg, T7hHpb96FhY5gt6Ukc3y4g, 138k9cXZ68X0ZnOivWJa0g, YvUqFpyUoa2UeNAYJ5Q56w, OUW0FxzFf-Y5dgTAaq4m2w, NgjgH1yAVvNRbxZ5_isbRw, _lF88DrbaGiAoq8ullNQJg, o42-2_VVqGuVJycHlFbgGg, k-Ub3Oi8HlZAdjZk1ly2mA, XwS0BmDHmNV1vZLpk9t1rg, 8FiMMYvvYjEMRXmhveqKgw, 6h7KQbZyU7PMfskWlB7atw, ZJoKmMl9d80MqWqL9YYb-Q, xCOIoIn0evWj02Jm6qWnQA, c0ZEND1bMdpX437as6D-rQ, SsVUBKxWU10OsUlMfZ4czg, Npp4pOj06Dtruaqnq6Qu8w, 8ynCwqTNRYcgXw0spE7zIw, nh8aGXMAB2AphpD05ymBqA, 8fSCeW2vU19u87E-5mmjCg, 69H3VYDxqhlTkGnsRqAaow, jjEMAktKuIpjEEOMmHUgUA, 010YJwYuT3MlVh1dAxpbYQ, FiCNw5CqOOmbzbEtYr3ohg, VdCCzT9dYGJfvpuJSGxJdA, LspPBPkRpjlc_qJG7lRKag, N0XlCaPC7Dj2kwS34nIWzw, XPu_VYoJO5X9nps0EaBCnw, Mi1oaHAGo1pfLyjjzAxAug, pV0oM1wRYujHbVy5S2N7dg',\n",
       " 'fans': 1,\n",
       " 'average_stars': 3.0,\n",
       " 'compliment_hot': 0,\n",
       " 'compliment_more': 0,\n",
       " 'compliment_profile': 0,\n",
       " 'compliment_cute': 0,\n",
       " 'compliment_list': 0,\n",
       " 'compliment_note': 0,\n",
       " 'compliment_plain': 0,\n",
       " 'compliment_cool': 0,\n",
       " 'compliment_funny': 0,\n",
       " 'compliment_writer': 0,\n",
       " 'compliment_photos': 0}"
      ]
     },
     "execution_count": 12,
     "metadata": {},
     "output_type": "execute_result"
    }
   ],
   "source": [
    "preview['users'][0]"
   ]
  },
  {
   "cell_type": "markdown",
   "metadata": {},
   "source": [
    "##### Businesses"
   ]
  },
  {
   "cell_type": "code",
   "execution_count": 13,
   "metadata": {},
   "outputs": [
    {
     "data": {
      "text/plain": [
       "list"
      ]
     },
     "execution_count": 13,
     "metadata": {},
     "output_type": "execute_result"
    }
   ],
   "source": [
    "type(preview['businesses'])"
   ]
  },
  {
   "cell_type": "code",
   "execution_count": 14,
   "metadata": {},
   "outputs": [
    {
     "data": {
      "text/plain": [
       "192609"
      ]
     },
     "execution_count": 14,
     "metadata": {},
     "output_type": "execute_result"
    }
   ],
   "source": [
    "len(preview['businesses'])"
   ]
  },
  {
   "cell_type": "code",
   "execution_count": 15,
   "metadata": {},
   "outputs": [
    {
     "data": {
      "text/plain": [
       "{'business_id': '1SWheh84yJXfytovILXOAQ',\n",
       " 'name': 'Arizona Biltmore Golf Club',\n",
       " 'address': '2818 E Camino Acequia Drive',\n",
       " 'city': 'Phoenix',\n",
       " 'state': 'AZ',\n",
       " 'postal_code': '85016',\n",
       " 'latitude': 33.5221425,\n",
       " 'longitude': -112.0184807,\n",
       " 'stars': 3.0,\n",
       " 'review_count': 5,\n",
       " 'is_open': 0,\n",
       " 'attributes': {'GoodForKids': 'False'},\n",
       " 'categories': 'Golf, Active Life',\n",
       " 'hours': None}"
      ]
     },
     "execution_count": 15,
     "metadata": {},
     "output_type": "execute_result"
    }
   ],
   "source": [
    "preview['businesses'][0]"
   ]
  },
  {
   "cell_type": "markdown",
   "metadata": {},
   "source": [
    "##### Estimated number of observations per type"
   ]
  },
  {
   "cell_type": "code",
   "execution_count": 16,
   "metadata": {},
   "outputs": [
    {
     "name": "stdout",
     "output_type": "stream",
     "text": [
      "reviews 6700000\n",
      "users 1700000\n",
      "businesses 192609\n"
     ]
    }
   ],
   "source": [
    "for key in file_paths:\n",
    "    num_files = len(file_paths[key])\n",
    "    obs_per_file = len(preview[key])\n",
    "    print(key, num_files * obs_per_file)"
   ]
  },
  {
   "cell_type": "markdown",
   "metadata": {},
   "source": [
    "Now that I know what the data looks like, I'm going to write some functions to get exactly the data I want out of each dictionary from each data source. I don't want to carry around all of the data because it's overwhelming and unnecessary. This is where you need a specific problem in mind to solve so that you can guess ahead of time what you think will be necessary and what you think will never be used.\n",
    "\n",
    "Sometimes you will want to loop through each item and get only the data you need, then create your DataFrames. Other times (when you are lucky) you can create the DataFrame directly from the data, then get rid of what you don't want. In this case, I have to parse the user data, but I can load the review data directly from the list of dictionaries I have opened. The business data is a little wonky because there is a dictionary as one of the values, which won't really work. However, since the data is not going to be kept, I will load it directly as a DataFrame and then drop it.\n",
    "\n",
    "NOTE: Loading data as a DataFrame and dropping unwanted fields is much faster than using for-loops and parsing along the way. However, it is much more resource intensive for your computer to hold all of the data in a DataFrame, so your computer may not actually be able to do it every time. This is a trial and error thing until you do it enough times to know what you can and cannot load.\n",
    "\n",
    "#### These are my file parsers for users and businesses\n",
    "\n",
    "For users, I want some raw data, but I also want to \"create\" new data from the data I am seeing. For instance, I don't care about who the individual user's friends are - that's not helpful in this context. I do, however, think it could be useful to know *how many* friends they have. I also want to know the years they were \"Elite\" because I think that may be interesting down the road. Since that data comes to us in a different form and does not align 1-to-1, there is no easy way to store that data as an attribute of the user. Thus, I have to create an entirely different way of storing the users' elite years."
   ]
  },
  {
   "cell_type": "code",
   "execution_count": 17,
   "metadata": {},
   "outputs": [],
   "source": [
    "def parse_single_user_dict(user):\n",
    "    base_fields = ['user_id', 'name', 'review_count', 'average_stars', 'yelping_since', 'fans', 'cool', 'funny', 'useful']\n",
    "    base_data = [user[field] for field in base_fields]\n",
    "    num_friends = len(user['friends'].split(', '))\n",
    "    base_data.append(num_friends)\n",
    "    if user['elite']:\n",
    "        years_elite = user['elite'].split(',')\n",
    "        user_id = user['user_id']\n",
    "        elite_list = []\n",
    "        for year in years_elite:\n",
    "            elite_list.append([user_id, year])\n",
    "    else:\n",
    "        elite_list = []\n",
    "    return base_data, elite_list\n",
    "\n",
    "def parse_single_business_dict(business):\n",
    "    base_fields = ['business_id', 'name', 'review_count', 'stars', 'city', 'state', 'postal_code']\n",
    "    base_data = [business[field] for field in base_fields]\n",
    "    return base_data"
   ]
  },
  {
   "cell_type": "code",
   "execution_count": 18,
   "metadata": {},
   "outputs": [
    {
     "data": {
      "text/plain": [
       "(['LqYdURcPrWcahAaTvdHUTA',\n",
       "  'Cat',\n",
       "  5,\n",
       "  3.0,\n",
       "  '2010-08-27 23:27:20',\n",
       "  1,\n",
       "  0,\n",
       "  0,\n",
       "  0,\n",
       "  111],\n",
       " [])"
      ]
     },
     "execution_count": 18,
     "metadata": {},
     "output_type": "execute_result"
    }
   ],
   "source": [
    "parse_single_user_dict(preview['users'][0])"
   ]
  },
  {
   "cell_type": "markdown",
   "metadata": {},
   "source": [
    "Now that I have my parser and file loading strategy, I will write a function that allows me to convert each of the files I open into a DataFrame. This is ultimately where we want 90% of our analyses to wind up (in a DataFrame). I will combine the knowledge I have of the structure of the file with the user parser I just wrote to do this.\n",
    "\n",
    "##### File openers"
   ]
  },
  {
   "cell_type": "code",
   "execution_count": 19,
   "metadata": {},
   "outputs": [],
   "source": [
    "def load_reviews_from_file_as_df(reviews_list_of_dicts):\n",
    "    kept_columns = ['review_id', 'user_id', 'business_id', 'stars', 'date']\n",
    "    reviews_df = pd.DataFrame(reviews_list_of_dicts)\n",
    "    subset_df = reviews_df[kept_columns].copy()\n",
    "    return subset_df"
   ]
  },
  {
   "cell_type": "code",
   "execution_count": 20,
   "metadata": {},
   "outputs": [],
   "source": [
    "def load_users_from_file_as_df(users_list_of_dicts):\n",
    "    user_data = []\n",
    "    elite_data = []\n",
    "    for user_dict in users_list_of_dicts:\n",
    "        user, elite = parse_single_user_dict(user_dict)\n",
    "        user_data.append(user)\n",
    "        elite_data += elite\n",
    "    user_df = pd.DataFrame(user_data)\n",
    "    elite_df = pd.DataFrame(elite_data)\n",
    "    user_df.columns = ['user_id', 'name', 'review_count', 'average_stars', 'yelping_since', 'fans', 'cool', \n",
    "                       'funny', 'useful', 'num_friends']\n",
    "    elite_df.columns = ['user_id', 'year']\n",
    "    return user_df, elite_df"
   ]
  },
  {
   "cell_type": "code",
   "execution_count": 21,
   "metadata": {},
   "outputs": [],
   "source": [
    "def load_businesses_from_file_as_df(businesses_list_of_dicts):\n",
    "    kept_columns = ['business_id', 'name', 'review_count', 'stars', 'city', 'state', 'postal_code']\n",
    "    businesses_df = pd.DataFrame(businesses_list_of_dicts)\n",
    "    subset_df = businesses_df[kept_columns].copy()\n",
    "    return subset_df"
   ]
  },
  {
   "cell_type": "markdown",
   "metadata": {},
   "source": [
    "ALMOST THERE!\n",
    "\n",
    "Now that we can open a single file, for the data types that are being read from multiple files, I need to open each file, load it as a DataFrame, put each DataFrame into a list, then concatenate them into a single DataFrame.\n",
    "\n",
    "For businesses, even though I don't need to create another function, I am so that the naming convention is consistent and I can keep track of things better."
   ]
  },
  {
   "cell_type": "code",
   "execution_count": 22,
   "metadata": {},
   "outputs": [],
   "source": [
    "def load_all_reviews(list_of_filepaths):\n",
    "    all_reviews = []\n",
    "    num_files = len(list_of_filepaths)\n",
    "    print('Loading reviews')\n",
    "    for n,f in enumerate(list_of_filepaths):\n",
    "        print(f'\\t{n} of {num_files}')\n",
    "        reviews_list_of_dicts = open_single_review_file(f)\n",
    "        reviews_df = load_reviews_from_file_as_df(reviews_list_of_dicts)\n",
    "        all_reviews.append(reviews_df)\n",
    "    all_reviews_df = pd.concat(all_reviews)\n",
    "    return all_reviews_df"
   ]
  },
  {
   "cell_type": "code",
   "execution_count": 23,
   "metadata": {},
   "outputs": [],
   "source": [
    "def load_all_users(list_of_filepaths):\n",
    "    all_users = []\n",
    "    all_elite = []\n",
    "    num_files = len(list_of_filepaths)\n",
    "    print('Loading users')\n",
    "    for n, f in enumerate(list_of_filepaths):\n",
    "        print(f'\\t{n} of {num_files}')\n",
    "        users_list_of_dicts = open_single_user_file(f)\n",
    "        users_df, elite_df = load_users_from_file_as_df(users_list_of_dicts)\n",
    "        all_users.append(users_df)\n",
    "        all_elite.append(elite_df)\n",
    "    all_users_df = pd.concat(all_users)\n",
    "    all_elite_df = pd.concat(all_elite)\n",
    "    return all_users_df, all_elite_df"
   ]
  },
  {
   "cell_type": "code",
   "execution_count": 24,
   "metadata": {},
   "outputs": [],
   "source": [
    "def load_all_businesses(filepath):\n",
    "    print('Loading businesses')\n",
    "    businesses_list_of_dicts = open_business_data(filepath)\n",
    "    all_businesses_df = load_businesses_from_file_as_df(businesses_list_of_dicts)\n",
    "    return all_businesses_df"
   ]
  },
  {
   "cell_type": "code",
   "execution_count": 25,
   "metadata": {},
   "outputs": [
    {
     "name": "stdout",
     "output_type": "stream",
     "text": [
      "Loading reviews\n",
      "\t0 of 67\n",
      "\t1 of 67\n",
      "\t2 of 67\n",
      "\t3 of 67\n",
      "\t4 of 67\n",
      "\t5 of 67\n",
      "\t6 of 67\n",
      "\t7 of 67\n",
      "\t8 of 67\n",
      "\t9 of 67\n",
      "\t10 of 67\n",
      "\t11 of 67\n",
      "\t12 of 67\n",
      "\t13 of 67\n",
      "\t14 of 67\n",
      "\t15 of 67\n",
      "\t16 of 67\n",
      "\t17 of 67\n",
      "\t18 of 67\n",
      "\t19 of 67\n",
      "\t20 of 67\n",
      "\t21 of 67\n",
      "\t22 of 67\n",
      "\t23 of 67\n",
      "\t24 of 67\n",
      "\t25 of 67\n",
      "\t26 of 67\n",
      "\t27 of 67\n",
      "\t28 of 67\n",
      "\t29 of 67\n",
      "\t30 of 67\n",
      "\t31 of 67\n",
      "\t32 of 67\n",
      "\t33 of 67\n",
      "\t34 of 67\n",
      "\t35 of 67\n",
      "\t36 of 67\n",
      "\t37 of 67\n",
      "\t38 of 67\n",
      "\t39 of 67\n",
      "\t40 of 67\n",
      "\t41 of 67\n",
      "\t42 of 67\n",
      "\t43 of 67\n",
      "\t44 of 67\n",
      "\t45 of 67\n",
      "\t46 of 67\n",
      "\t47 of 67\n",
      "\t48 of 67\n",
      "\t49 of 67\n",
      "\t50 of 67\n",
      "\t51 of 67\n",
      "\t52 of 67\n",
      "\t53 of 67\n",
      "\t54 of 67\n",
      "\t55 of 67\n",
      "\t56 of 67\n",
      "\t57 of 67\n",
      "\t58 of 67\n",
      "\t59 of 67\n",
      "\t60 of 67\n",
      "\t61 of 67\n",
      "\t62 of 67\n",
      "\t63 of 67\n",
      "\t64 of 67\n",
      "\t65 of 67\n",
      "\t66 of 67\n",
      "Loading users\n",
      "\t0 of 17\n",
      "\t1 of 17\n",
      "\t2 of 17\n",
      "\t3 of 17\n",
      "\t4 of 17\n",
      "\t5 of 17\n",
      "\t6 of 17\n",
      "\t7 of 17\n",
      "\t8 of 17\n",
      "\t9 of 17\n",
      "\t10 of 17\n",
      "\t11 of 17\n",
      "\t12 of 17\n",
      "\t13 of 17\n",
      "\t14 of 17\n",
      "\t15 of 17\n",
      "\t16 of 17\n",
      "\t 0:01:13.523282\n",
      "Loading businesses\n",
      "\t 0:00:05.509072\n"
     ]
    }
   ],
   "source": [
    "# t1 = dt.now()\n",
    "reviews = load_all_reviews(file_paths['reviews'])\n",
    "t2 = dt.now()\n",
    "# print('\\t', t2-t1)\n",
    "users, elite = load_all_users(file_paths['users'])\n",
    "t3 = dt.now()\n",
    "print('\\t', t3-t2)\n",
    "businesses = load_all_businesses(file_paths['businesses'][0])\n",
    "t4 = dt.now()\n",
    "print('\\t', t4-t3)"
   ]
  },
  {
   "cell_type": "code",
   "execution_count": 26,
   "metadata": {},
   "outputs": [
    {
     "data": {
      "text/plain": [
       "(6685900, 5)"
      ]
     },
     "execution_count": 26,
     "metadata": {},
     "output_type": "execute_result"
    }
   ],
   "source": [
    "reviews.shape"
   ]
  },
  {
   "cell_type": "code",
   "execution_count": 27,
   "metadata": {},
   "outputs": [
    {
     "data": {
      "text/plain": [
       "(1637138, 10)"
      ]
     },
     "execution_count": 27,
     "metadata": {},
     "output_type": "execute_result"
    }
   ],
   "source": [
    "users.shape"
   ]
  },
  {
   "cell_type": "code",
   "execution_count": 28,
   "metadata": {},
   "outputs": [
    {
     "data": {
      "text/plain": [
       "(192609, 7)"
      ]
     },
     "execution_count": 28,
     "metadata": {},
     "output_type": "execute_result"
    }
   ],
   "source": [
    "businesses.shape"
   ]
  },
  {
   "cell_type": "markdown",
   "metadata": {},
   "source": [
    "#### Success!!!\n",
    "\n",
    "Loading and cleaning data is the worst part of every analysis. It took me 6 hours just to write the code to just **open** the files, let alone parse it, and transform it into DataFrames. Don't think for a second that any of this comes easy and that you are doing something wrong if you are spinning your wheels trying to get the data to be analyzed. Some figures estimate that 80% of a data scientist's time is spent just loading and cleaning data. The analysis is the **easy** part! This is why we spent so much of our class looking at how to do things in Python. Now that we have the data loaded, it's time to have fun!!\n",
    "\n",
    "## Analyses\n",
    "\n",
    "In this section, I will perform three analyses that answer different questions about Yelp users and businesses, including:\n",
    "1. Can I make up of \"personas\" for Yelp reviewers and find them?\n",
    "2. Do \"Elite\" reviewers tend to take their responsibility more seriously and judge businesses more critically?\n",
    "\n",
    "### Analysis 1a - Finding personas of yelp users\n",
    "\n",
    "Yelp data is one of my favorite data sets because there are so many things you can glean about people. One of the things that intrigues me the most is regarding the different types of \"personalities\" that exist amongst reviewers. A few include:\n",
    "- Hot-Cold Harry: Tends to either love a place or hate it (mostly 5-star and 1-star reviews\n",
    "- Normal Norman: Tends to fit the distribution of reviews in a bell-shaped curve\n",
    "- Negative Nancy: Tends to be mostly a complainer with more 1- and 2-star reviews\n",
    "- Positive Patricia: Tends to give mostly 4- and 5-star reviews. She is either easily satisfied or only goes places that she knows she will like (reinforcement bias)\n",
    "- Content Cassandra: Tends to give mostly positive reviews, centered mostly around 4-star with some 5-star and some 3-star as well\n",
    "\n",
    "So that you might know what these distributions look like, let's just set those up here."
   ]
  },
  {
   "cell_type": "code",
   "execution_count": 29,
   "metadata": {},
   "outputs": [],
   "source": [
    "%matplotlib inline\n",
    "from matplotlib import pyplot as plt\n",
    "import matplotlib\n",
    "matplotlib.style.use('ggplot')"
   ]
  },
  {
   "cell_type": "code",
   "execution_count": 30,
   "metadata": {},
   "outputs": [],
   "source": [
    "distributions = {}\n",
    "distributions['Hot-Cold Harry'] = pd.Series([.3, .1, .05, .15, .4])\n",
    "distributions['Normal Norman'] = pd.Series([.05, .15, .4, .25, .15])\n",
    "distributions['Negative Nancy'] = pd.Series([.3, .4, .1, .1, .1])\n",
    "distributions['Positive Patricia'] = pd.Series([.05, .05, .15, .25, .5])\n",
    "distributions['Content Cassandra'] = pd.Series([0, 0, .2, .5, .3])\n",
    "distributions['Even Evan'] = pd.Series([.2, .2, .2, .2, .2])"
   ]
  },
  {
   "cell_type": "code",
   "execution_count": 31,
   "metadata": {},
   "outputs": [
    {
     "name": "stdout",
     "output_type": "stream",
     "text": [
      "Hot-Cold Harry\n"
     ]
    },
    {
     "data": {
      "image/png": "[encoded data removed]",
      "text/plain": [
       "<Figure size 432x288 with 1 Axes>"
      ]
     },
     "metadata": {
      "needs_background": "light"
     },
     "output_type": "display_data"
    },
    {
     "name": "stdout",
     "output_type": "stream",
     "text": [
      "Normal Norman\n"
     ]
    },
    {
     "data": {
      "image/png": "[encoded data removed]",
      "text/plain": [
       "<Figure size 432x288 with 1 Axes>"
      ]
     },
     "metadata": {
      "needs_background": "light"
     },
     "output_type": "display_data"
    },
    {
     "name": "stdout",
     "output_type": "stream",
     "text": [
      "Negative Nancy\n"
     ]
    },
    {
     "data": {
      "image/png": "[encoded data removed]",
      "text/plain": [
       "<Figure size 432x288 with 1 Axes>"
      ]
     },
     "metadata": {
      "needs_background": "light"
     },
     "output_type": "display_data"
    },
    {
     "name": "stdout",
     "output_type": "stream",
     "text": [
      "Positive Patricia\n"
     ]
    },
    {
     "data": {
      "image/png": "[encoded data removed]",
      "text/plain": [
       "<Figure size 432x288 with 1 Axes>"
      ]
     },
     "metadata": {
      "needs_background": "light"
     },
     "output_type": "display_data"
    },
    {
     "name": "stdout",
     "output_type": "stream",
     "text": [
      "Content Cassandra\n"
     ]
    },
    {
     "data": {
      "image/png": "[encoded data removed]",
      "text/plain": [
       "<Figure size 432x288 with 1 Axes>"
      ]
     },
     "metadata": {
      "needs_background": "light"
     },
     "output_type": "display_data"
    },
    {
     "name": "stdout",
     "output_type": "stream",
     "text": [
      "Even Evan\n"
     ]
    },
    {
     "data": {
      "image/png": "[encoded data removed]",
      "text/plain": [
       "<Figure size 432x288 with 1 Axes>"
      ]
     },
     "metadata": {
      "needs_background": "light"
     },
     "output_type": "display_data"
    }
   ],
   "source": [
    "for name in distributions:\n",
    "    distributions[name].plot(kind='bar')\n",
    "    print(name)\n",
    "    plt.show()"
   ]
  },
  {
   "cell_type": "markdown",
   "metadata": {},
   "source": [
    "Now let's use some techniques used for measuring \"closeness\" or \"similarity\" to assign a reviewer a persona."
   ]
  },
  {
   "cell_type": "markdown",
   "metadata": {},
   "source": [
    "In order to get each reviewers score distribution, we need to aggregate their review data. Let's refresh our memories about what the review DataFrame looks like."
   ]
  },
  {
   "cell_type": "code",
   "execution_count": 32,
   "metadata": {},
   "outputs": [
    {
     "data": {
      "text/html": [
       "<div>\n",
       "<style scoped>\n",
       "    .dataframe tbody tr th:only-of-type {\n",
       "        vertical-align: middle;\n",
       "    }\n",
       "\n",
       "    .dataframe tbody tr th {\n",
       "        vertical-align: top;\n",
       "    }\n",
       "\n",
       "    .dataframe thead th {\n",
       "        text-align: right;\n",
       "    }\n",
       "</style>\n",
       "<table border=\"1\" class=\"dataframe\">\n",
       "  <thead>\n",
       "    <tr style=\"text-align: right;\">\n",
       "      <th></th>\n",
       "      <th>review_id</th>\n",
       "      <th>user_id</th>\n",
       "      <th>business_id</th>\n",
       "      <th>stars</th>\n",
       "      <th>date</th>\n",
       "    </tr>\n",
       "  </thead>\n",
       "  <tbody>\n",
       "    <tr>\n",
       "      <th>0</th>\n",
       "      <td>o38jQ6b9xuPddfKQci2New</td>\n",
       "      <td>7oB7Lm30WRxQ_a4yxrD2uQ</td>\n",
       "      <td>SwAZBCyFtVo_8vkRbJhdkA</td>\n",
       "      <td>3.0</td>\n",
       "      <td>2015-07-09 03:58:00</td>\n",
       "    </tr>\n",
       "    <tr>\n",
       "      <th>1</th>\n",
       "      <td>EbWbt8TASSn17NgL9o67uw</td>\n",
       "      <td>pyKHu2SZQBWKRHix3hXyZw</td>\n",
       "      <td>VyVIneSU7XAWgMBllI6LnQ</td>\n",
       "      <td>5.0</td>\n",
       "      <td>2009-08-24 03:49:22</td>\n",
       "    </tr>\n",
       "    <tr>\n",
       "      <th>2</th>\n",
       "      <td>vftEu5Ek-dptcnZML7EfHw</td>\n",
       "      <td>Et79VAN692zD2j32PM1E8w</td>\n",
       "      <td>F7brgUpbZJgPgoeUrM2-mQ</td>\n",
       "      <td>5.0</td>\n",
       "      <td>2014-04-04 21:34:26</td>\n",
       "    </tr>\n",
       "    <tr>\n",
       "      <th>3</th>\n",
       "      <td>JSCTbOgxO9eU7KmHnvtfpw</td>\n",
       "      <td>SPI7O1GKZTvJhiXNFj81Eg</td>\n",
       "      <td>0ldxjei8v4q95fApIei3Lg</td>\n",
       "      <td>5.0</td>\n",
       "      <td>2017-09-01 05:42:03</td>\n",
       "    </tr>\n",
       "    <tr>\n",
       "      <th>4</th>\n",
       "      <td>WhtWNM-FOmtaser3VyAGBg</td>\n",
       "      <td>_zeDKS8zMEEvvpnW7MGQLg</td>\n",
       "      <td>v_yCY6NCwxCPIsNZR80UfQ</td>\n",
       "      <td>1.0</td>\n",
       "      <td>2016-04-15 18:04:18</td>\n",
       "    </tr>\n",
       "  </tbody>\n",
       "</table>\n",
       "</div>"
      ],
      "text/plain": [
       "                review_id                 user_id             business_id  \\\n",
       "0  o38jQ6b9xuPddfKQci2New  7oB7Lm30WRxQ_a4yxrD2uQ  SwAZBCyFtVo_8vkRbJhdkA   \n",
       "1  EbWbt8TASSn17NgL9o67uw  pyKHu2SZQBWKRHix3hXyZw  VyVIneSU7XAWgMBllI6LnQ   \n",
       "2  vftEu5Ek-dptcnZML7EfHw  Et79VAN692zD2j32PM1E8w  F7brgUpbZJgPgoeUrM2-mQ   \n",
       "3  JSCTbOgxO9eU7KmHnvtfpw  SPI7O1GKZTvJhiXNFj81Eg  0ldxjei8v4q95fApIei3Lg   \n",
       "4  WhtWNM-FOmtaser3VyAGBg  _zeDKS8zMEEvvpnW7MGQLg  v_yCY6NCwxCPIsNZR80UfQ   \n",
       "\n",
       "   stars                 date  \n",
       "0    3.0  2015-07-09 03:58:00  \n",
       "1    5.0  2009-08-24 03:49:22  \n",
       "2    5.0  2014-04-04 21:34:26  \n",
       "3    5.0  2017-09-01 05:42:03  \n",
       "4    1.0  2016-04-15 18:04:18  "
      ]
     },
     "execution_count": 32,
     "metadata": {},
     "output_type": "execute_result"
    }
   ],
   "source": [
    "reviews.head()"
   ]
  },
  {
   "cell_type": "markdown",
   "metadata": {},
   "source": [
    "I'm going to convert the star ratings to integers to make things a little easier for me. Then I'm going to group by the user IDs and star ratings to get the users' review count by rating."
   ]
  },
  {
   "cell_type": "code",
   "execution_count": 33,
   "metadata": {},
   "outputs": [
    {
     "data": {
      "text/html": [
       "<div>\n",
       "<style scoped>\n",
       "    .dataframe tbody tr th:only-of-type {\n",
       "        vertical-align: middle;\n",
       "    }\n",
       "\n",
       "    .dataframe tbody tr th {\n",
       "        vertical-align: top;\n",
       "    }\n",
       "\n",
       "    .dataframe thead th {\n",
       "        text-align: right;\n",
       "    }\n",
       "</style>\n",
       "<table border=\"1\" class=\"dataframe\">\n",
       "  <thead>\n",
       "    <tr style=\"text-align: right;\">\n",
       "      <th></th>\n",
       "      <th>user_id</th>\n",
       "      <th>stars</th>\n",
       "      <th>review_count</th>\n",
       "    </tr>\n",
       "  </thead>\n",
       "  <tbody>\n",
       "    <tr>\n",
       "      <th>0</th>\n",
       "      <td>---1lKK3aKOuomHnwAkAow</td>\n",
       "      <td>1</td>\n",
       "      <td>17</td>\n",
       "    </tr>\n",
       "    <tr>\n",
       "      <th>1</th>\n",
       "      <td>---1lKK3aKOuomHnwAkAow</td>\n",
       "      <td>2</td>\n",
       "      <td>5</td>\n",
       "    </tr>\n",
       "    <tr>\n",
       "      <th>2</th>\n",
       "      <td>---1lKK3aKOuomHnwAkAow</td>\n",
       "      <td>3</td>\n",
       "      <td>10</td>\n",
       "    </tr>\n",
       "    <tr>\n",
       "      <th>3</th>\n",
       "      <td>---1lKK3aKOuomHnwAkAow</td>\n",
       "      <td>4</td>\n",
       "      <td>23</td>\n",
       "    </tr>\n",
       "    <tr>\n",
       "      <th>4</th>\n",
       "      <td>---1lKK3aKOuomHnwAkAow</td>\n",
       "      <td>5</td>\n",
       "      <td>73</td>\n",
       "    </tr>\n",
       "    <tr>\n",
       "      <th>5</th>\n",
       "      <td>---89pEy_h9PvHwcHNbpyg</td>\n",
       "      <td>5</td>\n",
       "      <td>1</td>\n",
       "    </tr>\n",
       "    <tr>\n",
       "      <th>6</th>\n",
       "      <td>---94vtJ_5o_nikEs6hUjg</td>\n",
       "      <td>5</td>\n",
       "      <td>4</td>\n",
       "    </tr>\n",
       "    <tr>\n",
       "      <th>7</th>\n",
       "      <td>---PLwSf5gKdIoVnyRHgBA</td>\n",
       "      <td>3</td>\n",
       "      <td>1</td>\n",
       "    </tr>\n",
       "    <tr>\n",
       "      <th>8</th>\n",
       "      <td>---PLwSf5gKdIoVnyRHgBA</td>\n",
       "      <td>5</td>\n",
       "      <td>1</td>\n",
       "    </tr>\n",
       "    <tr>\n",
       "      <th>9</th>\n",
       "      <td>---cu1hq55BP9DWVXXKHZg</td>\n",
       "      <td>1</td>\n",
       "      <td>2</td>\n",
       "    </tr>\n",
       "  </tbody>\n",
       "</table>\n",
       "</div>"
      ],
      "text/plain": [
       "                  user_id  stars  review_count\n",
       "0  ---1lKK3aKOuomHnwAkAow      1            17\n",
       "1  ---1lKK3aKOuomHnwAkAow      2             5\n",
       "2  ---1lKK3aKOuomHnwAkAow      3            10\n",
       "3  ---1lKK3aKOuomHnwAkAow      4            23\n",
       "4  ---1lKK3aKOuomHnwAkAow      5            73\n",
       "5  ---89pEy_h9PvHwcHNbpyg      5             1\n",
       "6  ---94vtJ_5o_nikEs6hUjg      5             4\n",
       "7  ---PLwSf5gKdIoVnyRHgBA      3             1\n",
       "8  ---PLwSf5gKdIoVnyRHgBA      5             1\n",
       "9  ---cu1hq55BP9DWVXXKHZg      1             2"
      ]
     },
     "execution_count": 33,
     "metadata": {},
     "output_type": "execute_result"
    }
   ],
   "source": [
    "reviews['stars'] = reviews['stars'].astype(int)\n",
    "reviewer_stars = reviews.groupby(['user_id', 'stars'])[['review_id']].count()\n",
    "reviewer_stars = reviewer_stars.reset_index()\n",
    "reviewer_stars.columns = ['user_id', 'stars', 'review_count']\n",
    "reviewer_stars.head(10)"
   ]
  },
  {
   "cell_type": "markdown",
   "metadata": {},
   "source": [
    "Now we want the data so that it's more easily digestable. We're going to use the handy dandy pivot table to do this."
   ]
  },
  {
   "cell_type": "code",
   "execution_count": 34,
   "metadata": {},
   "outputs": [
    {
     "data": {
      "text/html": [
       "<div>\n",
       "<style scoped>\n",
       "    .dataframe tbody tr th:only-of-type {\n",
       "        vertical-align: middle;\n",
       "    }\n",
       "\n",
       "    .dataframe tbody tr th {\n",
       "        vertical-align: top;\n",
       "    }\n",
       "\n",
       "    .dataframe thead th {\n",
       "        text-align: right;\n",
       "    }\n",
       "</style>\n",
       "<table border=\"1\" class=\"dataframe\">\n",
       "  <thead>\n",
       "    <tr style=\"text-align: right;\">\n",
       "      <th>stars</th>\n",
       "      <th>1</th>\n",
       "      <th>2</th>\n",
       "      <th>3</th>\n",
       "      <th>4</th>\n",
       "      <th>5</th>\n",
       "    </tr>\n",
       "    <tr>\n",
       "      <th>user_id</th>\n",
       "      <th></th>\n",
       "      <th></th>\n",
       "      <th></th>\n",
       "      <th></th>\n",
       "      <th></th>\n",
       "    </tr>\n",
       "  </thead>\n",
       "  <tbody>\n",
       "    <tr>\n",
       "      <th>---1lKK3aKOuomHnwAkAow</th>\n",
       "      <td>17.0</td>\n",
       "      <td>5.0</td>\n",
       "      <td>10.0</td>\n",
       "      <td>23.0</td>\n",
       "      <td>73.0</td>\n",
       "    </tr>\n",
       "    <tr>\n",
       "      <th>---89pEy_h9PvHwcHNbpyg</th>\n",
       "      <td>NaN</td>\n",
       "      <td>NaN</td>\n",
       "      <td>NaN</td>\n",
       "      <td>NaN</td>\n",
       "      <td>1.0</td>\n",
       "    </tr>\n",
       "    <tr>\n",
       "      <th>---94vtJ_5o_nikEs6hUjg</th>\n",
       "      <td>NaN</td>\n",
       "      <td>NaN</td>\n",
       "      <td>NaN</td>\n",
       "      <td>NaN</td>\n",
       "      <td>4.0</td>\n",
       "    </tr>\n",
       "    <tr>\n",
       "      <th>---PLwSf5gKdIoVnyRHgBA</th>\n",
       "      <td>NaN</td>\n",
       "      <td>NaN</td>\n",
       "      <td>1.0</td>\n",
       "      <td>NaN</td>\n",
       "      <td>1.0</td>\n",
       "    </tr>\n",
       "    <tr>\n",
       "      <th>---cu1hq55BP9DWVXXKHZg</th>\n",
       "      <td>2.0</td>\n",
       "      <td>NaN</td>\n",
       "      <td>NaN</td>\n",
       "      <td>1.0</td>\n",
       "      <td>NaN</td>\n",
       "    </tr>\n",
       "    <tr>\n",
       "      <th>---fhiwiwBYrvqhpXgcWDQ</th>\n",
       "      <td>1.0</td>\n",
       "      <td>NaN</td>\n",
       "      <td>NaN</td>\n",
       "      <td>NaN</td>\n",
       "      <td>NaN</td>\n",
       "    </tr>\n",
       "    <tr>\n",
       "      <th>---udAKDsn0yQXmzbWQNSw</th>\n",
       "      <td>NaN</td>\n",
       "      <td>NaN</td>\n",
       "      <td>NaN</td>\n",
       "      <td>1.0</td>\n",
       "      <td>1.0</td>\n",
       "    </tr>\n",
       "    <tr>\n",
       "      <th>--0LlX_UcypHnxW-4BUAdA</th>\n",
       "      <td>NaN</td>\n",
       "      <td>NaN</td>\n",
       "      <td>NaN</td>\n",
       "      <td>NaN</td>\n",
       "      <td>1.0</td>\n",
       "    </tr>\n",
       "    <tr>\n",
       "      <th>--0RtXvcOIE4XbErYca6Rw</th>\n",
       "      <td>NaN</td>\n",
       "      <td>NaN</td>\n",
       "      <td>NaN</td>\n",
       "      <td>1.0</td>\n",
       "      <td>NaN</td>\n",
       "    </tr>\n",
       "    <tr>\n",
       "      <th>--0VhLFv2XfEKHL0YSCSuw</th>\n",
       "      <td>NaN</td>\n",
       "      <td>NaN</td>\n",
       "      <td>NaN</td>\n",
       "      <td>NaN</td>\n",
       "      <td>1.0</td>\n",
       "    </tr>\n",
       "  </tbody>\n",
       "</table>\n",
       "</div>"
      ],
      "text/plain": [
       "stars                      1    2     3     4     5\n",
       "user_id                                            \n",
       "---1lKK3aKOuomHnwAkAow  17.0  5.0  10.0  23.0  73.0\n",
       "---89pEy_h9PvHwcHNbpyg   NaN  NaN   NaN   NaN   1.0\n",
       "---94vtJ_5o_nikEs6hUjg   NaN  NaN   NaN   NaN   4.0\n",
       "---PLwSf5gKdIoVnyRHgBA   NaN  NaN   1.0   NaN   1.0\n",
       "---cu1hq55BP9DWVXXKHZg   2.0  NaN   NaN   1.0   NaN\n",
       "---fhiwiwBYrvqhpXgcWDQ   1.0  NaN   NaN   NaN   NaN\n",
       "---udAKDsn0yQXmzbWQNSw   NaN  NaN   NaN   1.0   1.0\n",
       "--0LlX_UcypHnxW-4BUAdA   NaN  NaN   NaN   NaN   1.0\n",
       "--0RtXvcOIE4XbErYca6Rw   NaN  NaN   NaN   1.0   NaN\n",
       "--0VhLFv2XfEKHL0YSCSuw   NaN  NaN   NaN   NaN   1.0"
      ]
     },
     "execution_count": 34,
     "metadata": {},
     "output_type": "execute_result"
    }
   ],
   "source": [
    "reviewer_stars_table = reviewer_stars.pivot_table(index='user_id', columns='stars', values='review_count')\n",
    "reviewer_stars_table.head(10)"
   ]
  },
  {
   "cell_type": "markdown",
   "metadata": {},
   "source": [
    "We can see that several of our users only have a few reviews. Let's only focus on ones that have at least 10 reviews (this is an arbitrary cutoff)."
   ]
  },
  {
   "cell_type": "code",
   "execution_count": 35,
   "metadata": {},
   "outputs": [],
   "source": [
    "reviewer_stars_table['total_reviews'] = reviewer_stars_table.sum(axis=1)"
   ]
  },
  {
   "cell_type": "code",
   "execution_count": 36,
   "metadata": {},
   "outputs": [
    {
     "data": {
      "text/plain": [
       "(1637138, 6)"
      ]
     },
     "execution_count": 36,
     "metadata": {},
     "output_type": "execute_result"
    }
   ],
   "source": [
    "reviewer_stars_table.shape"
   ]
  },
  {
   "cell_type": "code",
   "execution_count": 37,
   "metadata": {},
   "outputs": [
    {
     "data": {
      "text/html": [
       "<div>\n",
       "<style scoped>\n",
       "    .dataframe tbody tr th:only-of-type {\n",
       "        vertical-align: middle;\n",
       "    }\n",
       "\n",
       "    .dataframe tbody tr th {\n",
       "        vertical-align: top;\n",
       "    }\n",
       "\n",
       "    .dataframe thead th {\n",
       "        text-align: right;\n",
       "    }\n",
       "</style>\n",
       "<table border=\"1\" class=\"dataframe\">\n",
       "  <thead>\n",
       "    <tr style=\"text-align: right;\">\n",
       "      <th>stars</th>\n",
       "      <th>1</th>\n",
       "      <th>2</th>\n",
       "      <th>3</th>\n",
       "      <th>4</th>\n",
       "      <th>5</th>\n",
       "      <th>total_reviews</th>\n",
       "    </tr>\n",
       "    <tr>\n",
       "      <th>user_id</th>\n",
       "      <th></th>\n",
       "      <th></th>\n",
       "      <th></th>\n",
       "      <th></th>\n",
       "      <th></th>\n",
       "      <th></th>\n",
       "    </tr>\n",
       "  </thead>\n",
       "  <tbody>\n",
       "    <tr>\n",
       "      <th>---1lKK3aKOuomHnwAkAow</th>\n",
       "      <td>17.0</td>\n",
       "      <td>5.0</td>\n",
       "      <td>10.0</td>\n",
       "      <td>23.0</td>\n",
       "      <td>73.0</td>\n",
       "      <td>128.0</td>\n",
       "    </tr>\n",
       "    <tr>\n",
       "      <th>--0kuuLmuYBe3Rmu0Iycww</th>\n",
       "      <td>2.0</td>\n",
       "      <td>2.0</td>\n",
       "      <td>NaN</td>\n",
       "      <td>6.0</td>\n",
       "      <td>2.0</td>\n",
       "      <td>12.0</td>\n",
       "    </tr>\n",
       "    <tr>\n",
       "      <th>--2HUmLkcNHZp0xw6AMBPg</th>\n",
       "      <td>2.0</td>\n",
       "      <td>2.0</td>\n",
       "      <td>4.0</td>\n",
       "      <td>5.0</td>\n",
       "      <td>52.0</td>\n",
       "      <td>65.0</td>\n",
       "    </tr>\n",
       "    <tr>\n",
       "      <th>--2vR0DIsmQ6WfcSzKWigw</th>\n",
       "      <td>NaN</td>\n",
       "      <td>1.0</td>\n",
       "      <td>9.0</td>\n",
       "      <td>11.0</td>\n",
       "      <td>14.0</td>\n",
       "      <td>35.0</td>\n",
       "    </tr>\n",
       "    <tr>\n",
       "      <th>--3WaS23LcIXtxyFULJHTA</th>\n",
       "      <td>NaN</td>\n",
       "      <td>1.0</td>\n",
       "      <td>4.0</td>\n",
       "      <td>5.0</td>\n",
       "      <td>5.0</td>\n",
       "      <td>15.0</td>\n",
       "    </tr>\n",
       "    <tr>\n",
       "      <th>--4rAAfZnEIAKJE80aIiYg</th>\n",
       "      <td>17.0</td>\n",
       "      <td>5.0</td>\n",
       "      <td>3.0</td>\n",
       "      <td>2.0</td>\n",
       "      <td>8.0</td>\n",
       "      <td>35.0</td>\n",
       "    </tr>\n",
       "    <tr>\n",
       "      <th>--BumyUHiO_7YsHurb9Hkw</th>\n",
       "      <td>1.0</td>\n",
       "      <td>5.0</td>\n",
       "      <td>10.0</td>\n",
       "      <td>31.0</td>\n",
       "      <td>15.0</td>\n",
       "      <td>62.0</td>\n",
       "    </tr>\n",
       "    <tr>\n",
       "      <th>--CIuK7sUpaNzalLAlHJKA</th>\n",
       "      <td>4.0</td>\n",
       "      <td>6.0</td>\n",
       "      <td>8.0</td>\n",
       "      <td>14.0</td>\n",
       "      <td>2.0</td>\n",
       "      <td>34.0</td>\n",
       "    </tr>\n",
       "    <tr>\n",
       "      <th>--DxiDMQgN08E5gTM0aj7Q</th>\n",
       "      <td>4.0</td>\n",
       "      <td>1.0</td>\n",
       "      <td>1.0</td>\n",
       "      <td>1.0</td>\n",
       "      <td>5.0</td>\n",
       "      <td>12.0</td>\n",
       "    </tr>\n",
       "    <tr>\n",
       "      <th>--HCoE1ghaAlcaAfshICgw</th>\n",
       "      <td>NaN</td>\n",
       "      <td>1.0</td>\n",
       "      <td>NaN</td>\n",
       "      <td>2.0</td>\n",
       "      <td>13.0</td>\n",
       "      <td>16.0</td>\n",
       "    </tr>\n",
       "  </tbody>\n",
       "</table>\n",
       "</div>"
      ],
      "text/plain": [
       "stars                      1    2     3     4     5  total_reviews\n",
       "user_id                                                           \n",
       "---1lKK3aKOuomHnwAkAow  17.0  5.0  10.0  23.0  73.0          128.0\n",
       "--0kuuLmuYBe3Rmu0Iycww   2.0  2.0   NaN   6.0   2.0           12.0\n",
       "--2HUmLkcNHZp0xw6AMBPg   2.0  2.0   4.0   5.0  52.0           65.0\n",
       "--2vR0DIsmQ6WfcSzKWigw   NaN  1.0   9.0  11.0  14.0           35.0\n",
       "--3WaS23LcIXtxyFULJHTA   NaN  1.0   4.0   5.0   5.0           15.0\n",
       "--4rAAfZnEIAKJE80aIiYg  17.0  5.0   3.0   2.0   8.0           35.0\n",
       "--BumyUHiO_7YsHurb9Hkw   1.0  5.0  10.0  31.0  15.0           62.0\n",
       "--CIuK7sUpaNzalLAlHJKA   4.0  6.0   8.0  14.0   2.0           34.0\n",
       "--DxiDMQgN08E5gTM0aj7Q   4.0  1.0   1.0   1.0   5.0           12.0\n",
       "--HCoE1ghaAlcaAfshICgw   NaN  1.0   NaN   2.0  13.0           16.0"
      ]
     },
     "execution_count": 37,
     "metadata": {},
     "output_type": "execute_result"
    }
   ],
   "source": [
    "reviewer_stars_table_10 = reviewer_stars_table[reviewer_stars_table['total_reviews'] >= 10]\n",
    "reviewer_stars_table_10.head(10)"
   ]
  },
  {
   "cell_type": "markdown",
   "metadata": {},
   "source": [
    "Out of curiousity, how many reviewers did we have, and how many do we have left after filtering?"
   ]
  },
  {
   "cell_type": "code",
   "execution_count": 38,
   "metadata": {},
   "outputs": [
    {
     "name": "stdout",
     "output_type": "stream",
     "text": [
      "1637138\n",
      "122824\n",
      "0.07502360827248528\n"
     ]
    }
   ],
   "source": [
    "print(reviewer_stars_table.shape[0])\n",
    "print(reviewer_stars_table_10.shape[0])\n",
    "print(reviewer_stars_table_10.shape[0]/reviewer_stars_table.shape[0])"
   ]
  },
  {
   "cell_type": "markdown",
   "metadata": {},
   "source": [
    "We lost 92.5% of our reviewers!!! Let's see what percentage of reviews were actually written by those who met our threshold."
   ]
  },
  {
   "cell_type": "code",
   "execution_count": 39,
   "metadata": {},
   "outputs": [
    {
     "data": {
      "text/html": [
       "<div>\n",
       "<style scoped>\n",
       "    .dataframe tbody tr th:only-of-type {\n",
       "        vertical-align: middle;\n",
       "    }\n",
       "\n",
       "    .dataframe tbody tr th {\n",
       "        vertical-align: top;\n",
       "    }\n",
       "\n",
       "    .dataframe thead th {\n",
       "        text-align: right;\n",
       "    }\n",
       "</style>\n",
       "<table border=\"1\" class=\"dataframe\">\n",
       "  <thead>\n",
       "    <tr style=\"text-align: right;\">\n",
       "      <th>stars</th>\n",
       "      <th>1</th>\n",
       "      <th>2</th>\n",
       "      <th>3</th>\n",
       "      <th>4</th>\n",
       "      <th>5</th>\n",
       "      <th>total_reviews</th>\n",
       "      <th>cum_reviews</th>\n",
       "      <th>cum_pct</th>\n",
       "    </tr>\n",
       "    <tr>\n",
       "      <th>user_id</th>\n",
       "      <th></th>\n",
       "      <th></th>\n",
       "      <th></th>\n",
       "      <th></th>\n",
       "      <th></th>\n",
       "      <th></th>\n",
       "      <th></th>\n",
       "      <th></th>\n",
       "    </tr>\n",
       "  </thead>\n",
       "  <tbody>\n",
       "    <tr>\n",
       "      <th>CxDOIDnH8gp9KXzpBHJYXw</th>\n",
       "      <td>61.0</td>\n",
       "      <td>449.0</td>\n",
       "      <td>2164.0</td>\n",
       "      <td>1373.0</td>\n",
       "      <td>82.0</td>\n",
       "      <td>4129.0</td>\n",
       "      <td>4129.0</td>\n",
       "      <td>0.000618</td>\n",
       "    </tr>\n",
       "    <tr>\n",
       "      <th>bLbSNkLggFnqwNNzzq-Ijw</th>\n",
       "      <td>42.0</td>\n",
       "      <td>254.0</td>\n",
       "      <td>1072.0</td>\n",
       "      <td>938.0</td>\n",
       "      <td>48.0</td>\n",
       "      <td>2354.0</td>\n",
       "      <td>6483.0</td>\n",
       "      <td>0.000970</td>\n",
       "    </tr>\n",
       "    <tr>\n",
       "      <th>PKEzKWv_FktMm2mGPjwd0Q</th>\n",
       "      <td>12.0</td>\n",
       "      <td>78.0</td>\n",
       "      <td>672.0</td>\n",
       "      <td>787.0</td>\n",
       "      <td>273.0</td>\n",
       "      <td>1822.0</td>\n",
       "      <td>8305.0</td>\n",
       "      <td>0.001242</td>\n",
       "    </tr>\n",
       "    <tr>\n",
       "      <th>ELcQDlf69kb-ihJfxZyL0A</th>\n",
       "      <td>247.0</td>\n",
       "      <td>251.0</td>\n",
       "      <td>525.0</td>\n",
       "      <td>554.0</td>\n",
       "      <td>187.0</td>\n",
       "      <td>1764.0</td>\n",
       "      <td>10069.0</td>\n",
       "      <td>0.001506</td>\n",
       "    </tr>\n",
       "    <tr>\n",
       "      <th>DK57YibC5ShBmqQl97CKog</th>\n",
       "      <td>17.0</td>\n",
       "      <td>62.0</td>\n",
       "      <td>413.0</td>\n",
       "      <td>960.0</td>\n",
       "      <td>275.0</td>\n",
       "      <td>1727.0</td>\n",
       "      <td>11796.0</td>\n",
       "      <td>0.001764</td>\n",
       "    </tr>\n",
       "    <tr>\n",
       "      <th>U4INQZOPSUaj8hMjLlZ3KA</th>\n",
       "      <td>30.0</td>\n",
       "      <td>150.0</td>\n",
       "      <td>304.0</td>\n",
       "      <td>546.0</td>\n",
       "      <td>529.0</td>\n",
       "      <td>1559.0</td>\n",
       "      <td>13355.0</td>\n",
       "      <td>0.001997</td>\n",
       "    </tr>\n",
       "    <tr>\n",
       "      <th>QJI9OSEn6ujRCtrX06vs1w</th>\n",
       "      <td>20.0</td>\n",
       "      <td>119.0</td>\n",
       "      <td>451.0</td>\n",
       "      <td>706.0</td>\n",
       "      <td>200.0</td>\n",
       "      <td>1496.0</td>\n",
       "      <td>14851.0</td>\n",
       "      <td>0.002221</td>\n",
       "    </tr>\n",
       "    <tr>\n",
       "      <th>d_TBs6J3twMy9GChqUEXkg</th>\n",
       "      <td>15.0</td>\n",
       "      <td>141.0</td>\n",
       "      <td>474.0</td>\n",
       "      <td>612.0</td>\n",
       "      <td>118.0</td>\n",
       "      <td>1360.0</td>\n",
       "      <td>16211.0</td>\n",
       "      <td>0.002425</td>\n",
       "    </tr>\n",
       "    <tr>\n",
       "      <th>hWDybu_KvYLSdEFzGrniTw</th>\n",
       "      <td>24.0</td>\n",
       "      <td>118.0</td>\n",
       "      <td>360.0</td>\n",
       "      <td>644.0</td>\n",
       "      <td>209.0</td>\n",
       "      <td>1355.0</td>\n",
       "      <td>17566.0</td>\n",
       "      <td>0.002627</td>\n",
       "    </tr>\n",
       "    <tr>\n",
       "      <th>cMEtAiW60I5wE_vLfTxoJQ</th>\n",
       "      <td>9.0</td>\n",
       "      <td>23.0</td>\n",
       "      <td>124.0</td>\n",
       "      <td>785.0</td>\n",
       "      <td>314.0</td>\n",
       "      <td>1255.0</td>\n",
       "      <td>18821.0</td>\n",
       "      <td>0.002815</td>\n",
       "    </tr>\n",
       "  </tbody>\n",
       "</table>\n",
       "</div>"
      ],
      "text/plain": [
       "stars                       1      2       3       4      5  total_reviews  \\\n",
       "user_id                                                                      \n",
       "CxDOIDnH8gp9KXzpBHJYXw   61.0  449.0  2164.0  1373.0   82.0         4129.0   \n",
       "bLbSNkLggFnqwNNzzq-Ijw   42.0  254.0  1072.0   938.0   48.0         2354.0   \n",
       "PKEzKWv_FktMm2mGPjwd0Q   12.0   78.0   672.0   787.0  273.0         1822.0   \n",
       "ELcQDlf69kb-ihJfxZyL0A  247.0  251.0   525.0   554.0  187.0         1764.0   \n",
       "DK57YibC5ShBmqQl97CKog   17.0   62.0   413.0   960.0  275.0         1727.0   \n",
       "U4INQZOPSUaj8hMjLlZ3KA   30.0  150.0   304.0   546.0  529.0         1559.0   \n",
       "QJI9OSEn6ujRCtrX06vs1w   20.0  119.0   451.0   706.0  200.0         1496.0   \n",
       "d_TBs6J3twMy9GChqUEXkg   15.0  141.0   474.0   612.0  118.0         1360.0   \n",
       "hWDybu_KvYLSdEFzGrniTw   24.0  118.0   360.0   644.0  209.0         1355.0   \n",
       "cMEtAiW60I5wE_vLfTxoJQ    9.0   23.0   124.0   785.0  314.0         1255.0   \n",
       "\n",
       "stars                   cum_reviews   cum_pct  \n",
       "user_id                                        \n",
       "CxDOIDnH8gp9KXzpBHJYXw       4129.0  0.000618  \n",
       "bLbSNkLggFnqwNNzzq-Ijw       6483.0  0.000970  \n",
       "PKEzKWv_FktMm2mGPjwd0Q       8305.0  0.001242  \n",
       "ELcQDlf69kb-ihJfxZyL0A      10069.0  0.001506  \n",
       "DK57YibC5ShBmqQl97CKog      11796.0  0.001764  \n",
       "U4INQZOPSUaj8hMjLlZ3KA      13355.0  0.001997  \n",
       "QJI9OSEn6ujRCtrX06vs1w      14851.0  0.002221  \n",
       "d_TBs6J3twMy9GChqUEXkg      16211.0  0.002425  \n",
       "hWDybu_KvYLSdEFzGrniTw      17566.0  0.002627  \n",
       "cMEtAiW60I5wE_vLfTxoJQ      18821.0  0.002815  "
      ]
     },
     "execution_count": 39,
     "metadata": {},
     "output_type": "execute_result"
    }
   ],
   "source": [
    "count_analysis = reviewer_stars_table.copy()\n",
    "count_analysis = count_analysis.sort_values('total_reviews', ascending=False)\n",
    "total_reviews = count_analysis['total_reviews'].sum()\n",
    "count_analysis['cum_reviews'] = count_analysis['total_reviews'].cumsum()\n",
    "count_analysis['cum_pct'] = count_analysis['cum_reviews'] / total_reviews\n",
    "count_analysis.head(10)"
   ]
  },
  {
   "cell_type": "code",
   "execution_count": 40,
   "metadata": {},
   "outputs": [
    {
     "data": {
      "text/html": [
       "<div>\n",
       "<style scoped>\n",
       "    .dataframe tbody tr th:only-of-type {\n",
       "        vertical-align: middle;\n",
       "    }\n",
       "\n",
       "    .dataframe tbody tr th {\n",
       "        vertical-align: top;\n",
       "    }\n",
       "\n",
       "    .dataframe thead th {\n",
       "        text-align: right;\n",
       "    }\n",
       "</style>\n",
       "<table border=\"1\" class=\"dataframe\">\n",
       "  <thead>\n",
       "    <tr style=\"text-align: right;\">\n",
       "      <th>stars</th>\n",
       "      <th>1</th>\n",
       "      <th>2</th>\n",
       "      <th>3</th>\n",
       "      <th>4</th>\n",
       "      <th>5</th>\n",
       "      <th>total_reviews</th>\n",
       "      <th>cum_reviews</th>\n",
       "      <th>cum_pct</th>\n",
       "    </tr>\n",
       "    <tr>\n",
       "      <th>user_id</th>\n",
       "      <th></th>\n",
       "      <th></th>\n",
       "      <th></th>\n",
       "      <th></th>\n",
       "      <th></th>\n",
       "      <th></th>\n",
       "      <th></th>\n",
       "      <th></th>\n",
       "    </tr>\n",
       "  </thead>\n",
       "  <tbody>\n",
       "    <tr>\n",
       "      <th>5l4cUy_IOQ9xMhCk9QhilA</th>\n",
       "      <td>1.0</td>\n",
       "      <td>NaN</td>\n",
       "      <td>1.0</td>\n",
       "      <td>2.0</td>\n",
       "      <td>6.0</td>\n",
       "      <td>10.0</td>\n",
       "      <td>3486252.0</td>\n",
       "      <td>0.521433</td>\n",
       "    </tr>\n",
       "    <tr>\n",
       "      <th>1ijlbPqqDO-XkQzzQhainA</th>\n",
       "      <td>1.0</td>\n",
       "      <td>3.0</td>\n",
       "      <td>1.0</td>\n",
       "      <td>NaN</td>\n",
       "      <td>5.0</td>\n",
       "      <td>10.0</td>\n",
       "      <td>3486262.0</td>\n",
       "      <td>0.521435</td>\n",
       "    </tr>\n",
       "    <tr>\n",
       "      <th>I8r0Vu2ZUFgQOAew8J5YkQ</th>\n",
       "      <td>3.0</td>\n",
       "      <td>NaN</td>\n",
       "      <td>NaN</td>\n",
       "      <td>2.0</td>\n",
       "      <td>5.0</td>\n",
       "      <td>10.0</td>\n",
       "      <td>3486272.0</td>\n",
       "      <td>0.521436</td>\n",
       "    </tr>\n",
       "    <tr>\n",
       "      <th>ZF1aaXwY0EoMTHk1VQE4Ag</th>\n",
       "      <td>NaN</td>\n",
       "      <td>NaN</td>\n",
       "      <td>NaN</td>\n",
       "      <td>NaN</td>\n",
       "      <td>10.0</td>\n",
       "      <td>10.0</td>\n",
       "      <td>3486282.0</td>\n",
       "      <td>0.521438</td>\n",
       "    </tr>\n",
       "    <tr>\n",
       "      <th>Dhu6aImDeEh_riqpDOIkdw</th>\n",
       "      <td>4.0</td>\n",
       "      <td>2.0</td>\n",
       "      <td>NaN</td>\n",
       "      <td>NaN</td>\n",
       "      <td>4.0</td>\n",
       "      <td>10.0</td>\n",
       "      <td>3486292.0</td>\n",
       "      <td>0.521439</td>\n",
       "    </tr>\n",
       "  </tbody>\n",
       "</table>\n",
       "</div>"
      ],
      "text/plain": [
       "stars                     1    2    3    4     5  total_reviews  cum_reviews  \\\n",
       "user_id                                                                        \n",
       "5l4cUy_IOQ9xMhCk9QhilA  1.0  NaN  1.0  2.0   6.0           10.0    3486252.0   \n",
       "1ijlbPqqDO-XkQzzQhainA  1.0  3.0  1.0  NaN   5.0           10.0    3486262.0   \n",
       "I8r0Vu2ZUFgQOAew8J5YkQ  3.0  NaN  NaN  2.0   5.0           10.0    3486272.0   \n",
       "ZF1aaXwY0EoMTHk1VQE4Ag  NaN  NaN  NaN  NaN  10.0           10.0    3486282.0   \n",
       "Dhu6aImDeEh_riqpDOIkdw  4.0  2.0  NaN  NaN   4.0           10.0    3486292.0   \n",
       "\n",
       "stars                    cum_pct  \n",
       "user_id                           \n",
       "5l4cUy_IOQ9xMhCk9QhilA  0.521433  \n",
       "1ijlbPqqDO-XkQzzQhainA  0.521435  \n",
       "I8r0Vu2ZUFgQOAew8J5YkQ  0.521436  \n",
       "ZF1aaXwY0EoMTHk1VQE4Ag  0.521438  \n",
       "Dhu6aImDeEh_riqpDOIkdw  0.521439  "
      ]
     },
     "execution_count": 40,
     "metadata": {},
     "output_type": "execute_result"
    }
   ],
   "source": [
    "count_analysis[count_analysis['total_reviews'] >= 10].tail()"
   ]
  },
  {
   "cell_type": "markdown",
   "metadata": {},
   "source": [
    "Based on this, it looks like our 10+ count reviewers make up 52.1% of the total reviews in our data set. I can live with that. ok, now let's look at a few random users' star distributions and see what they look like."
   ]
  },
  {
   "cell_type": "code",
   "execution_count": 41,
   "metadata": {},
   "outputs": [
    {
     "data": {
      "text/html": [
       "<div>\n",
       "<style scoped>\n",
       "    .dataframe tbody tr th:only-of-type {\n",
       "        vertical-align: middle;\n",
       "    }\n",
       "\n",
       "    .dataframe tbody tr th {\n",
       "        vertical-align: top;\n",
       "    }\n",
       "\n",
       "    .dataframe thead th {\n",
       "        text-align: right;\n",
       "    }\n",
       "</style>\n",
       "<table border=\"1\" class=\"dataframe\">\n",
       "  <thead>\n",
       "    <tr style=\"text-align: right;\">\n",
       "      <th>stars</th>\n",
       "      <th>1</th>\n",
       "      <th>2</th>\n",
       "      <th>3</th>\n",
       "      <th>4</th>\n",
       "      <th>5</th>\n",
       "      <th>total_reviews</th>\n",
       "    </tr>\n",
       "    <tr>\n",
       "      <th>user_id</th>\n",
       "      <th></th>\n",
       "      <th></th>\n",
       "      <th></th>\n",
       "      <th></th>\n",
       "      <th></th>\n",
       "      <th></th>\n",
       "    </tr>\n",
       "  </thead>\n",
       "  <tbody>\n",
       "    <tr>\n",
       "      <th>zg5YVgLwD7STpfugc1dsXw</th>\n",
       "      <td>NaN</td>\n",
       "      <td>NaN</td>\n",
       "      <td>1.0</td>\n",
       "      <td>NaN</td>\n",
       "      <td>9.0</td>\n",
       "      <td>10.0</td>\n",
       "    </tr>\n",
       "    <tr>\n",
       "      <th>gRRDzxER0YrxtHN3kYsUmw</th>\n",
       "      <td>2.0</td>\n",
       "      <td>3.0</td>\n",
       "      <td>1.0</td>\n",
       "      <td>11.0</td>\n",
       "      <td>3.0</td>\n",
       "      <td>20.0</td>\n",
       "    </tr>\n",
       "    <tr>\n",
       "      <th>taMG4xxcpl2d7krYHmsPRA</th>\n",
       "      <td>4.0</td>\n",
       "      <td>NaN</td>\n",
       "      <td>NaN</td>\n",
       "      <td>1.0</td>\n",
       "      <td>5.0</td>\n",
       "      <td>10.0</td>\n",
       "    </tr>\n",
       "    <tr>\n",
       "      <th>jGIFXPcWdocsG98dniaZdA</th>\n",
       "      <td>2.0</td>\n",
       "      <td>NaN</td>\n",
       "      <td>2.0</td>\n",
       "      <td>5.0</td>\n",
       "      <td>14.0</td>\n",
       "      <td>23.0</td>\n",
       "    </tr>\n",
       "    <tr>\n",
       "      <th>dzJcgfX4XmlimjpJuSmLlA</th>\n",
       "      <td>2.0</td>\n",
       "      <td>1.0</td>\n",
       "      <td>2.0</td>\n",
       "      <td>10.0</td>\n",
       "      <td>8.0</td>\n",
       "      <td>23.0</td>\n",
       "    </tr>\n",
       "  </tbody>\n",
       "</table>\n",
       "</div>"
      ],
      "text/plain": [
       "stars                     1    2    3     4     5  total_reviews\n",
       "user_id                                                         \n",
       "zg5YVgLwD7STpfugc1dsXw  NaN  NaN  1.0   NaN   9.0           10.0\n",
       "gRRDzxER0YrxtHN3kYsUmw  2.0  3.0  1.0  11.0   3.0           20.0\n",
       "taMG4xxcpl2d7krYHmsPRA  4.0  NaN  NaN   1.0   5.0           10.0\n",
       "jGIFXPcWdocsG98dniaZdA  2.0  NaN  2.0   5.0  14.0           23.0\n",
       "dzJcgfX4XmlimjpJuSmLlA  2.0  1.0  2.0  10.0   8.0           23.0"
      ]
     },
     "execution_count": 41,
     "metadata": {},
     "output_type": "execute_result"
    }
   ],
   "source": [
    "sample = reviewer_stars_table_10.sample(5)\n",
    "sample"
   ]
  },
  {
   "cell_type": "code",
   "execution_count": 42,
   "metadata": {},
   "outputs": [
    {
     "data": {
      "image/png": "[encoded data removed]",
      "text/plain": [
       "<Figure size 432x288 with 1 Axes>"
      ]
     },
     "metadata": {
      "needs_background": "light"
     },
     "output_type": "display_data"
    },
    {
     "data": {
      "image/png": "[encoded data removed]",
      "text/plain": [
       "<Figure size 432x288 with 1 Axes>"
      ]
     },
     "metadata": {
      "needs_background": "light"
     },
     "output_type": "display_data"
    },
    {
     "data": {
      "image/png": "[encoded data removed]",
      "text/plain": [
       "<Figure size 432x288 with 1 Axes>"
      ]
     },
     "metadata": {
      "needs_background": "light"
     },
     "output_type": "display_data"
    },
    {
     "data": {
      "image/png": "[encoded data removed]",
      "text/plain": [
       "<Figure size 432x288 with 1 Axes>"
      ]
     },
     "metadata": {
      "needs_background": "light"
     },
     "output_type": "display_data"
    },
    {
     "data": {
      "image/png": "[encoded data removed]",
      "text/plain": [
       "<Figure size 432x288 with 1 Axes>"
      ]
     },
     "metadata": {
      "needs_background": "light"
     },
     "output_type": "display_data"
    }
   ],
   "source": [
    "for user in sample.index:\n",
    "    row = sample.loc[user, [1,2,3,4,5]]\n",
    "    row.plot(kind='bar')\n",
    "    plt.show()"
   ]
  },
  {
   "cell_type": "markdown",
   "metadata": {},
   "source": [
    "Ok, now let's see if we can find a way to automatically find which of the five personas that our users are closest to. We're going to use the idea of \"Cosine Similarity.\"\n",
    "\n",
    "<img src=\"https://www.oreilly.com/library/view/statistics-for-machine/9781788295758/assets/2b4a7a82-ad4c-4b2a-b808-e423a334de6f.png\" width=\"350\" height=\"350\"/>\n",
    "\n",
    "The formula for this is:\n",
    "<img src=\"https://neo4j.com/docs/graph-algorithms/current/images/cosine-similarity.png\" width=\"400\" height=\"400\"/>"
   ]
  },
  {
   "cell_type": "markdown",
   "metadata": {},
   "source": [
    "So, if I had two identical vectors listed below, their similarity should be perfect. Let's see the math work."
   ]
  },
  {
   "cell_type": "code",
   "execution_count": 43,
   "metadata": {},
   "outputs": [],
   "source": [
    "a = pd.Series([1, 2, 1, 4, 2])\n",
    "b = pd.Series([1, 2, 1, 4, 2])"
   ]
  },
  {
   "cell_type": "code",
   "execution_count": 44,
   "metadata": {},
   "outputs": [
    {
     "data": {
      "text/plain": [
       "26"
      ]
     },
     "execution_count": 44,
     "metadata": {},
     "output_type": "execute_result"
    }
   ],
   "source": [
    "a.dot(b)"
   ]
  },
  {
   "cell_type": "code",
   "execution_count": 45,
   "metadata": {},
   "outputs": [],
   "source": [
    "a_magnitude = np.sqrt((a ** 2).sum())\n",
    "b_magnitude = np.sqrt((b ** 2).sum())"
   ]
  },
  {
   "cell_type": "code",
   "execution_count": 46,
   "metadata": {},
   "outputs": [
    {
     "data": {
      "text/plain": [
       "1.0000000000000002"
      ]
     },
     "execution_count": 46,
     "metadata": {},
     "output_type": "execute_result"
    }
   ],
   "source": [
    "(a.dot(b)) / (a_magnitude * b_magnitude)"
   ]
  },
  {
   "cell_type": "markdown",
   "metadata": {},
   "source": [
    "Sweet!\n",
    "\n",
    "Let's change b a tiny bit and see what happens."
   ]
  },
  {
   "cell_type": "code",
   "execution_count": 47,
   "metadata": {},
   "outputs": [],
   "source": [
    "b = pd.Series([1, 2, 1, 3, 2])\n",
    "b_magnitude = np.sqrt((b ** 2).sum())"
   ]
  },
  {
   "cell_type": "code",
   "execution_count": 48,
   "metadata": {},
   "outputs": [
    {
     "data": {
      "text/plain": [
       "0.9898267954648645"
      ]
     },
     "execution_count": 48,
     "metadata": {},
     "output_type": "execute_result"
    }
   ],
   "source": [
    "(a.dot(b)) / (a_magnitude * b_magnitude)"
   ]
  },
  {
   "cell_type": "markdown",
   "metadata": {},
   "source": [
    "This shouldn't be interpreted as \"99% similar\", but if that helps you internalize similarity, then go ahead and think that way.\n",
    "\n",
    "Let's go ahead and write the function so that we can compute the similarity of any two vectors (assuming they are the same length)."
   ]
  },
  {
   "cell_type": "code",
   "execution_count": 49,
   "metadata": {},
   "outputs": [],
   "source": [
    "def compute_cosine_similarity(vec1, vec2):\n",
    "    if isinstance(vec1, list):\n",
    "        vec1 = pd.Series(vec1)\n",
    "    if isinstance(vec2, list):\n",
    "        vec2 = pd.Series(vec2)\n",
    "    dot = vec1.dot(vec2)\n",
    "    magnitude1 = np.sqrt((vec1 ** 2).sum())\n",
    "    magnitude2 = np.sqrt((vec2 ** 2).sum())\n",
    "    similarity = dot / (magnitude1 * magnitude2)\n",
    "    return similarity"
   ]
  },
  {
   "cell_type": "code",
   "execution_count": 50,
   "metadata": {},
   "outputs": [
    {
     "data": {
      "text/plain": [
       "0.9898267954648645"
      ]
     },
     "execution_count": 50,
     "metadata": {},
     "output_type": "execute_result"
    }
   ],
   "source": [
    "#Let's test our function\n",
    "compute_cosine_similarity(a, b)"
   ]
  },
  {
   "cell_type": "markdown",
   "metadata": {},
   "source": [
    "To help ourselves out, we're going to do a couple of things now:\n",
    "1. Create a DataFrame of values for our personas\n",
    "2. Drop the total_reviews column from our table\n",
    "3. Write a function that computes the similarity of a user to each of our personas"
   ]
  },
  {
   "cell_type": "code",
   "execution_count": 51,
   "metadata": {},
   "outputs": [
    {
     "data": {
      "text/html": [
       "<div>\n",
       "<style scoped>\n",
       "    .dataframe tbody tr th:only-of-type {\n",
       "        vertical-align: middle;\n",
       "    }\n",
       "\n",
       "    .dataframe tbody tr th {\n",
       "        vertical-align: top;\n",
       "    }\n",
       "\n",
       "    .dataframe thead th {\n",
       "        text-align: right;\n",
       "    }\n",
       "</style>\n",
       "<table border=\"1\" class=\"dataframe\">\n",
       "  <thead>\n",
       "    <tr style=\"text-align: right;\">\n",
       "      <th></th>\n",
       "      <th>0</th>\n",
       "      <th>1</th>\n",
       "      <th>2</th>\n",
       "      <th>3</th>\n",
       "      <th>4</th>\n",
       "    </tr>\n",
       "  </thead>\n",
       "  <tbody>\n",
       "    <tr>\n",
       "      <th>Content Cassandra</th>\n",
       "      <td>0.00</td>\n",
       "      <td>0.00</td>\n",
       "      <td>0.20</td>\n",
       "      <td>0.50</td>\n",
       "      <td>0.30</td>\n",
       "    </tr>\n",
       "    <tr>\n",
       "      <th>Even Evan</th>\n",
       "      <td>0.20</td>\n",
       "      <td>0.20</td>\n",
       "      <td>0.20</td>\n",
       "      <td>0.20</td>\n",
       "      <td>0.20</td>\n",
       "    </tr>\n",
       "    <tr>\n",
       "      <th>Hot-Cold Harry</th>\n",
       "      <td>0.30</td>\n",
       "      <td>0.10</td>\n",
       "      <td>0.05</td>\n",
       "      <td>0.15</td>\n",
       "      <td>0.40</td>\n",
       "    </tr>\n",
       "    <tr>\n",
       "      <th>Negative Nancy</th>\n",
       "      <td>0.30</td>\n",
       "      <td>0.40</td>\n",
       "      <td>0.10</td>\n",
       "      <td>0.10</td>\n",
       "      <td>0.10</td>\n",
       "    </tr>\n",
       "    <tr>\n",
       "      <th>Normal Norman</th>\n",
       "      <td>0.05</td>\n",
       "      <td>0.15</td>\n",
       "      <td>0.40</td>\n",
       "      <td>0.25</td>\n",
       "      <td>0.15</td>\n",
       "    </tr>\n",
       "    <tr>\n",
       "      <th>Positive Patricia</th>\n",
       "      <td>0.05</td>\n",
       "      <td>0.05</td>\n",
       "      <td>0.15</td>\n",
       "      <td>0.25</td>\n",
       "      <td>0.50</td>\n",
       "    </tr>\n",
       "  </tbody>\n",
       "</table>\n",
       "</div>"
      ],
      "text/plain": [
       "                      0     1     2     3     4\n",
       "Content Cassandra  0.00  0.00  0.20  0.50  0.30\n",
       "Even Evan          0.20  0.20  0.20  0.20  0.20\n",
       "Hot-Cold Harry     0.30  0.10  0.05  0.15  0.40\n",
       "Negative Nancy     0.30  0.40  0.10  0.10  0.10\n",
       "Normal Norman      0.05  0.15  0.40  0.25  0.15\n",
       "Positive Patricia  0.05  0.05  0.15  0.25  0.50"
      ]
     },
     "execution_count": 51,
     "metadata": {},
     "output_type": "execute_result"
    }
   ],
   "source": [
    "personas_df = pd.DataFrame.from_dict(distributions, orient='index')\n",
    "personas_df = personas_df.sort_index()\n",
    "personas_df"
   ]
  },
  {
   "cell_type": "code",
   "execution_count": 52,
   "metadata": {},
   "outputs": [
    {
     "data": {
      "text/html": [
       "<div>\n",
       "<style scoped>\n",
       "    .dataframe tbody tr th:only-of-type {\n",
       "        vertical-align: middle;\n",
       "    }\n",
       "\n",
       "    .dataframe tbody tr th {\n",
       "        vertical-align: top;\n",
       "    }\n",
       "\n",
       "    .dataframe thead th {\n",
       "        text-align: right;\n",
       "    }\n",
       "</style>\n",
       "<table border=\"1\" class=\"dataframe\">\n",
       "  <thead>\n",
       "    <tr style=\"text-align: right;\">\n",
       "      <th></th>\n",
       "      <th>1</th>\n",
       "      <th>2</th>\n",
       "      <th>3</th>\n",
       "      <th>4</th>\n",
       "      <th>5</th>\n",
       "    </tr>\n",
       "  </thead>\n",
       "  <tbody>\n",
       "    <tr>\n",
       "      <th>Content Cassandra</th>\n",
       "      <td>0.00</td>\n",
       "      <td>0.00</td>\n",
       "      <td>0.20</td>\n",
       "      <td>0.50</td>\n",
       "      <td>0.30</td>\n",
       "    </tr>\n",
       "    <tr>\n",
       "      <th>Even Evan</th>\n",
       "      <td>0.20</td>\n",
       "      <td>0.20</td>\n",
       "      <td>0.20</td>\n",
       "      <td>0.20</td>\n",
       "      <td>0.20</td>\n",
       "    </tr>\n",
       "    <tr>\n",
       "      <th>Hot-Cold Harry</th>\n",
       "      <td>0.30</td>\n",
       "      <td>0.10</td>\n",
       "      <td>0.05</td>\n",
       "      <td>0.15</td>\n",
       "      <td>0.40</td>\n",
       "    </tr>\n",
       "    <tr>\n",
       "      <th>Negative Nancy</th>\n",
       "      <td>0.30</td>\n",
       "      <td>0.40</td>\n",
       "      <td>0.10</td>\n",
       "      <td>0.10</td>\n",
       "      <td>0.10</td>\n",
       "    </tr>\n",
       "    <tr>\n",
       "      <th>Normal Norman</th>\n",
       "      <td>0.05</td>\n",
       "      <td>0.15</td>\n",
       "      <td>0.40</td>\n",
       "      <td>0.25</td>\n",
       "      <td>0.15</td>\n",
       "    </tr>\n",
       "    <tr>\n",
       "      <th>Positive Patricia</th>\n",
       "      <td>0.05</td>\n",
       "      <td>0.05</td>\n",
       "      <td>0.15</td>\n",
       "      <td>0.25</td>\n",
       "      <td>0.50</td>\n",
       "    </tr>\n",
       "  </tbody>\n",
       "</table>\n",
       "</div>"
      ],
      "text/plain": [
       "                      1     2     3     4     5\n",
       "Content Cassandra  0.00  0.00  0.20  0.50  0.30\n",
       "Even Evan          0.20  0.20  0.20  0.20  0.20\n",
       "Hot-Cold Harry     0.30  0.10  0.05  0.15  0.40\n",
       "Negative Nancy     0.30  0.40  0.10  0.10  0.10\n",
       "Normal Norman      0.05  0.15  0.40  0.25  0.15\n",
       "Positive Patricia  0.05  0.05  0.15  0.25  0.50"
      ]
     },
     "execution_count": 52,
     "metadata": {},
     "output_type": "execute_result"
    }
   ],
   "source": [
    "#Looks like we need to modify the column names\n",
    "personas_df.columns = [1,2,3,4,5]\n",
    "personas_df"
   ]
  },
  {
   "cell_type": "code",
   "execution_count": 53,
   "metadata": {},
   "outputs": [],
   "source": [
    "reviewer_stars_table_10 = reviewer_stars_table_10.drop('total_reviews', axis=1)"
   ]
  },
  {
   "cell_type": "code",
   "execution_count": 54,
   "metadata": {},
   "outputs": [
    {
     "data": {
      "text/html": [
       "<div>\n",
       "<style scoped>\n",
       "    .dataframe tbody tr th:only-of-type {\n",
       "        vertical-align: middle;\n",
       "    }\n",
       "\n",
       "    .dataframe tbody tr th {\n",
       "        vertical-align: top;\n",
       "    }\n",
       "\n",
       "    .dataframe thead th {\n",
       "        text-align: right;\n",
       "    }\n",
       "</style>\n",
       "<table border=\"1\" class=\"dataframe\">\n",
       "  <thead>\n",
       "    <tr style=\"text-align: right;\">\n",
       "      <th>stars</th>\n",
       "      <th>1</th>\n",
       "      <th>2</th>\n",
       "      <th>3</th>\n",
       "      <th>4</th>\n",
       "      <th>5</th>\n",
       "    </tr>\n",
       "    <tr>\n",
       "      <th>user_id</th>\n",
       "      <th></th>\n",
       "      <th></th>\n",
       "      <th></th>\n",
       "      <th></th>\n",
       "      <th></th>\n",
       "    </tr>\n",
       "  </thead>\n",
       "  <tbody>\n",
       "    <tr>\n",
       "      <th>---1lKK3aKOuomHnwAkAow</th>\n",
       "      <td>17.0</td>\n",
       "      <td>5.0</td>\n",
       "      <td>10.0</td>\n",
       "      <td>23.0</td>\n",
       "      <td>73.0</td>\n",
       "    </tr>\n",
       "    <tr>\n",
       "      <th>--0kuuLmuYBe3Rmu0Iycww</th>\n",
       "      <td>2.0</td>\n",
       "      <td>2.0</td>\n",
       "      <td>NaN</td>\n",
       "      <td>6.0</td>\n",
       "      <td>2.0</td>\n",
       "    </tr>\n",
       "    <tr>\n",
       "      <th>--2HUmLkcNHZp0xw6AMBPg</th>\n",
       "      <td>2.0</td>\n",
       "      <td>2.0</td>\n",
       "      <td>4.0</td>\n",
       "      <td>5.0</td>\n",
       "      <td>52.0</td>\n",
       "    </tr>\n",
       "    <tr>\n",
       "      <th>--2vR0DIsmQ6WfcSzKWigw</th>\n",
       "      <td>NaN</td>\n",
       "      <td>1.0</td>\n",
       "      <td>9.0</td>\n",
       "      <td>11.0</td>\n",
       "      <td>14.0</td>\n",
       "    </tr>\n",
       "    <tr>\n",
       "      <th>--3WaS23LcIXtxyFULJHTA</th>\n",
       "      <td>NaN</td>\n",
       "      <td>1.0</td>\n",
       "      <td>4.0</td>\n",
       "      <td>5.0</td>\n",
       "      <td>5.0</td>\n",
       "    </tr>\n",
       "  </tbody>\n",
       "</table>\n",
       "</div>"
      ],
      "text/plain": [
       "stars                      1    2     3     4     5\n",
       "user_id                                            \n",
       "---1lKK3aKOuomHnwAkAow  17.0  5.0  10.0  23.0  73.0\n",
       "--0kuuLmuYBe3Rmu0Iycww   2.0  2.0   NaN   6.0   2.0\n",
       "--2HUmLkcNHZp0xw6AMBPg   2.0  2.0   4.0   5.0  52.0\n",
       "--2vR0DIsmQ6WfcSzKWigw   NaN  1.0   9.0  11.0  14.0\n",
       "--3WaS23LcIXtxyFULJHTA   NaN  1.0   4.0   5.0   5.0"
      ]
     },
     "execution_count": 54,
     "metadata": {},
     "output_type": "execute_result"
    }
   ],
   "source": [
    "reviewer_stars_table_10.head()"
   ]
  },
  {
   "cell_type": "code",
   "execution_count": 55,
   "metadata": {},
   "outputs": [],
   "source": [
    "#We need to fill in the null values with 0 so that we can do our math\n",
    "reviewer_stars_table_10 = reviewer_stars_table_10.fillna(0)"
   ]
  },
  {
   "cell_type": "code",
   "execution_count": 56,
   "metadata": {},
   "outputs": [
    {
     "data": {
      "text/plain": [
       "stars\n",
       "1    17.0\n",
       "2     5.0\n",
       "3    10.0\n",
       "4    23.0\n",
       "5    73.0\n",
       "Name: ---1lKK3aKOuomHnwAkAow, dtype: float64"
      ]
     },
     "execution_count": 56,
     "metadata": {},
     "output_type": "execute_result"
    }
   ],
   "source": [
    "#Let's just see an example of a row\n",
    "one_reviewer_row = reviewer_stars_table_10.loc['---1lKK3aKOuomHnwAkAow']\n",
    "one_reviewer_row"
   ]
  },
  {
   "cell_type": "code",
   "execution_count": 57,
   "metadata": {},
   "outputs": [
    {
     "data": {
      "text/plain": [
       "stars\n",
       "1    0.132812\n",
       "2    0.039062\n",
       "3    0.078125\n",
       "4    0.179688\n",
       "5    0.570312\n",
       "Name: ---1lKK3aKOuomHnwAkAow, dtype: float64"
      ]
     },
     "execution_count": 57,
     "metadata": {},
     "output_type": "execute_result"
    }
   ],
   "source": [
    "one_reviewer_distribution = one_reviewer_row / one_reviewer_row.sum()\n",
    "one_reviewer_distribution"
   ]
  },
  {
   "cell_type": "code",
   "execution_count": 58,
   "metadata": {},
   "outputs": [
    {
     "data": {
      "text/plain": [
       "<matplotlib.axes._subplots.AxesSubplot at 0x16ced1c88>"
      ]
     },
     "execution_count": 58,
     "metadata": {},
     "output_type": "execute_result"
    },
    {
     "data": {
      "image/png": "[encoded data removed]",
      "text/plain": [
       "<Figure size 432x288 with 1 Axes>"
      ]
     },
     "metadata": {
      "needs_background": "light"
     },
     "output_type": "display_data"
    }
   ],
   "source": [
    "one_reviewer_distribution.plot(kind='bar')"
   ]
  },
  {
   "cell_type": "code",
   "execution_count": 59,
   "metadata": {},
   "outputs": [
    {
     "data": {
      "image/png": "[encoded data removed]",
      "text/plain": [
       "<Figure size 720x576 with 7 Axes>"
      ]
     },
     "metadata": {
      "needs_background": "light"
     },
     "output_type": "display_data"
    }
   ],
   "source": [
    "def plot_against_personas(one_reviewer_distribution, distributions):\n",
    "    axes = []\n",
    "    fig = plt.figure(figsize=(10,8))  \n",
    "    order = sorted(list(distributions.keys()))\n",
    "    for i, persona in enumerate(order):\n",
    "        axes.append(plt.subplot2grid((6,6),(i,5)))\n",
    "    axes.append(plt.subplot2grid((6,6),(0,0),rowspan=6,colspan=5))\n",
    "    for i, persona in enumerate(order):\n",
    "        distributions[persona].plot(kind='bar', ax=axes[i])\n",
    "        axes[i].xaxis.set_visible(False)\n",
    "        axes[i].yaxis.set_visible(False)\n",
    "        axes[i].set_title(persona, fontdict={'fontsize': 8})\n",
    "        axes[i].set_ylim((0,.6))\n",
    "    one_reviewer_distribution.plot(kind='bar', ax=axes[6])\n",
    "    plt.show()\n",
    "plot_against_personas(one_reviewer_distribution, distributions)    "
   ]
  },
  {
   "cell_type": "code",
   "execution_count": 60,
   "metadata": {},
   "outputs": [],
   "source": [
    "def measure_persona_similarity(user_id, user_review_count, personas_df):\n",
    "    all_scores = [user_id]\n",
    "    user_relative_pcts = user_review_count / user_review_count.sum()\n",
    "    order = sorted(distributions.keys())\n",
    "    for persona in order:\n",
    "        persona_distribution = personas_df.loc[persona]\n",
    "        similarity = compute_cosine_similarity(user_review_count, persona_distribution)\n",
    "        all_scores.append(similarity)\n",
    "    return all_scores"
   ]
  },
  {
   "cell_type": "code",
   "execution_count": 61,
   "metadata": {},
   "outputs": [
    {
     "data": {
      "text/plain": [
       "['---1lKK3aKOuomHnwAkAow',\n",
       " 0.7251175874123112,\n",
       " 0.7228063223242011,\n",
       " 0.9165290863619725,\n",
       " 0.4223682126651706,\n",
       " 0.5419010046038181,\n",
       " 0.9712252484713871]"
      ]
     },
     "execution_count": 61,
     "metadata": {},
     "output_type": "execute_result"
    }
   ],
   "source": [
    "measure_persona_similarity('---1lKK3aKOuomHnwAkAow', one_reviewer_distribution, personas_df)"
   ]
  },
  {
   "cell_type": "code",
   "execution_count": 62,
   "metadata": {},
   "outputs": [
    {
     "data": {
      "text/html": [
       "<div>\n",
       "<style scoped>\n",
       "    .dataframe tbody tr th:only-of-type {\n",
       "        vertical-align: middle;\n",
       "    }\n",
       "\n",
       "    .dataframe tbody tr th {\n",
       "        vertical-align: top;\n",
       "    }\n",
       "\n",
       "    .dataframe thead th {\n",
       "        text-align: right;\n",
       "    }\n",
       "</style>\n",
       "<table border=\"1\" class=\"dataframe\">\n",
       "  <thead>\n",
       "    <tr style=\"text-align: right;\">\n",
       "      <th>stars</th>\n",
       "      <th>1</th>\n",
       "      <th>2</th>\n",
       "      <th>3</th>\n",
       "      <th>4</th>\n",
       "      <th>5</th>\n",
       "    </tr>\n",
       "    <tr>\n",
       "      <th>user_id</th>\n",
       "      <th></th>\n",
       "      <th></th>\n",
       "      <th></th>\n",
       "      <th></th>\n",
       "      <th></th>\n",
       "    </tr>\n",
       "  </thead>\n",
       "  <tbody>\n",
       "    <tr>\n",
       "      <th>---1lKK3aKOuomHnwAkAow</th>\n",
       "      <td>17.0</td>\n",
       "      <td>5.0</td>\n",
       "      <td>10.0</td>\n",
       "      <td>23.0</td>\n",
       "      <td>73.0</td>\n",
       "    </tr>\n",
       "    <tr>\n",
       "      <th>--0kuuLmuYBe3Rmu0Iycww</th>\n",
       "      <td>2.0</td>\n",
       "      <td>2.0</td>\n",
       "      <td>0.0</td>\n",
       "      <td>6.0</td>\n",
       "      <td>2.0</td>\n",
       "    </tr>\n",
       "    <tr>\n",
       "      <th>--2HUmLkcNHZp0xw6AMBPg</th>\n",
       "      <td>2.0</td>\n",
       "      <td>2.0</td>\n",
       "      <td>4.0</td>\n",
       "      <td>5.0</td>\n",
       "      <td>52.0</td>\n",
       "    </tr>\n",
       "    <tr>\n",
       "      <th>--2vR0DIsmQ6WfcSzKWigw</th>\n",
       "      <td>0.0</td>\n",
       "      <td>1.0</td>\n",
       "      <td>9.0</td>\n",
       "      <td>11.0</td>\n",
       "      <td>14.0</td>\n",
       "    </tr>\n",
       "    <tr>\n",
       "      <th>--3WaS23LcIXtxyFULJHTA</th>\n",
       "      <td>0.0</td>\n",
       "      <td>1.0</td>\n",
       "      <td>4.0</td>\n",
       "      <td>5.0</td>\n",
       "      <td>5.0</td>\n",
       "    </tr>\n",
       "  </tbody>\n",
       "</table>\n",
       "</div>"
      ],
      "text/plain": [
       "stars                      1    2     3     4     5\n",
       "user_id                                            \n",
       "---1lKK3aKOuomHnwAkAow  17.0  5.0  10.0  23.0  73.0\n",
       "--0kuuLmuYBe3Rmu0Iycww   2.0  2.0   0.0   6.0   2.0\n",
       "--2HUmLkcNHZp0xw6AMBPg   2.0  2.0   4.0   5.0  52.0\n",
       "--2vR0DIsmQ6WfcSzKWigw   0.0  1.0   9.0  11.0  14.0\n",
       "--3WaS23LcIXtxyFULJHTA   0.0  1.0   4.0   5.0   5.0"
      ]
     },
     "execution_count": 62,
     "metadata": {},
     "output_type": "execute_result"
    }
   ],
   "source": [
    "reviewer_stars_table_10.head()"
   ]
  },
  {
   "cell_type": "code",
   "execution_count": 63,
   "metadata": {},
   "outputs": [],
   "source": [
    "#You do not need to know/understand this\n",
    "#This is the same thing as df / df.sum(axis=1), but I used a math trick to compute it faster\n",
    "def scale_rows(df):\n",
    "    total = df.sum(axis=1)\n",
    "    df_T = df.T\n",
    "    total_T = total.T\n",
    "    scaled_df_T = df_T / total_T\n",
    "    scaled_df = scaled_df_T.T\n",
    "    return scaled_df"
   ]
  },
  {
   "cell_type": "code",
   "execution_count": 64,
   "metadata": {},
   "outputs": [],
   "source": [
    "reviewer_stars_table_10_scaled = scale_rows(reviewer_stars_table_10)"
   ]
  },
  {
   "cell_type": "code",
   "execution_count": 65,
   "metadata": {},
   "outputs": [
    {
     "data": {
      "text/html": [
       "<div>\n",
       "<style scoped>\n",
       "    .dataframe tbody tr th:only-of-type {\n",
       "        vertical-align: middle;\n",
       "    }\n",
       "\n",
       "    .dataframe tbody tr th {\n",
       "        vertical-align: top;\n",
       "    }\n",
       "\n",
       "    .dataframe thead th {\n",
       "        text-align: right;\n",
       "    }\n",
       "</style>\n",
       "<table border=\"1\" class=\"dataframe\">\n",
       "  <thead>\n",
       "    <tr style=\"text-align: right;\">\n",
       "      <th>stars</th>\n",
       "      <th>1</th>\n",
       "      <th>2</th>\n",
       "      <th>3</th>\n",
       "      <th>4</th>\n",
       "      <th>5</th>\n",
       "    </tr>\n",
       "    <tr>\n",
       "      <th>user_id</th>\n",
       "      <th></th>\n",
       "      <th></th>\n",
       "      <th></th>\n",
       "      <th></th>\n",
       "      <th></th>\n",
       "    </tr>\n",
       "  </thead>\n",
       "  <tbody>\n",
       "    <tr>\n",
       "      <th>---1lKK3aKOuomHnwAkAow</th>\n",
       "      <td>0.132812</td>\n",
       "      <td>0.039062</td>\n",
       "      <td>0.078125</td>\n",
       "      <td>0.179688</td>\n",
       "      <td>0.570312</td>\n",
       "    </tr>\n",
       "    <tr>\n",
       "      <th>--0kuuLmuYBe3Rmu0Iycww</th>\n",
       "      <td>0.166667</td>\n",
       "      <td>0.166667</td>\n",
       "      <td>0.000000</td>\n",
       "      <td>0.500000</td>\n",
       "      <td>0.166667</td>\n",
       "    </tr>\n",
       "    <tr>\n",
       "      <th>--2HUmLkcNHZp0xw6AMBPg</th>\n",
       "      <td>0.030769</td>\n",
       "      <td>0.030769</td>\n",
       "      <td>0.061538</td>\n",
       "      <td>0.076923</td>\n",
       "      <td>0.800000</td>\n",
       "    </tr>\n",
       "    <tr>\n",
       "      <th>--2vR0DIsmQ6WfcSzKWigw</th>\n",
       "      <td>0.000000</td>\n",
       "      <td>0.028571</td>\n",
       "      <td>0.257143</td>\n",
       "      <td>0.314286</td>\n",
       "      <td>0.400000</td>\n",
       "    </tr>\n",
       "    <tr>\n",
       "      <th>--3WaS23LcIXtxyFULJHTA</th>\n",
       "      <td>0.000000</td>\n",
       "      <td>0.066667</td>\n",
       "      <td>0.266667</td>\n",
       "      <td>0.333333</td>\n",
       "      <td>0.333333</td>\n",
       "    </tr>\n",
       "  </tbody>\n",
       "</table>\n",
       "</div>"
      ],
      "text/plain": [
       "stars                          1         2         3         4         5\n",
       "user_id                                                                 \n",
       "---1lKK3aKOuomHnwAkAow  0.132812  0.039062  0.078125  0.179688  0.570312\n",
       "--0kuuLmuYBe3Rmu0Iycww  0.166667  0.166667  0.000000  0.500000  0.166667\n",
       "--2HUmLkcNHZp0xw6AMBPg  0.030769  0.030769  0.061538  0.076923  0.800000\n",
       "--2vR0DIsmQ6WfcSzKWigw  0.000000  0.028571  0.257143  0.314286  0.400000\n",
       "--3WaS23LcIXtxyFULJHTA  0.000000  0.066667  0.266667  0.333333  0.333333"
      ]
     },
     "execution_count": 65,
     "metadata": {},
     "output_type": "execute_result"
    }
   ],
   "source": [
    "reviewer_stars_table_10_scaled.head()"
   ]
  },
  {
   "cell_type": "code",
   "execution_count": 66,
   "metadata": {},
   "outputs": [
    {
     "name": "stdout",
     "output_type": "stream",
     "text": [
      "0.0%\n",
      "0.8%\n",
      "1.6%\n",
      "2.4%\n",
      "3.3%\n",
      "4.1%\n",
      "4.9%\n",
      "5.7%\n",
      "6.5%\n",
      "7.3%\n",
      "0:00:41.549723\n"
     ]
    }
   ],
   "source": [
    "#I'm only going to compute the first 10,000 because it will take so long\n",
    "#Doing it using a for-loop is fine for you... I used some math tricks to get it computed\n",
    "all_similarities = []\n",
    "t1 = dt.now()\n",
    "for i, user_id in enumerate(reviewer_stars_table_10.head(10000).index):\n",
    "    if i % 1000 == 0:\n",
    "        print('{:.1%}'.format(i / reviewer_stars_table_10.shape[0]))\n",
    "    row = reviewer_stars_table_10.loc[user_id]\n",
    "    similarities = measure_persona_similarity(user_id, row, personas_df)\n",
    "    all_similarities.append(similarities)\n",
    "t2 = dt.now()\n",
    "print(t2-t1)"
   ]
  },
  {
   "cell_type": "code",
   "execution_count": 68,
   "metadata": {},
   "outputs": [
    {
     "data": {
      "text/html": [
       "<div>\n",
       "<style scoped>\n",
       "    .dataframe tbody tr th:only-of-type {\n",
       "        vertical-align: middle;\n",
       "    }\n",
       "\n",
       "    .dataframe tbody tr th {\n",
       "        vertical-align: top;\n",
       "    }\n",
       "\n",
       "    .dataframe thead th {\n",
       "        text-align: right;\n",
       "    }\n",
       "</style>\n",
       "<table border=\"1\" class=\"dataframe\">\n",
       "  <thead>\n",
       "    <tr style=\"text-align: right;\">\n",
       "      <th></th>\n",
       "      <th>user_id</th>\n",
       "      <th>Content Cassandra</th>\n",
       "      <th>Even Evan</th>\n",
       "      <th>Hot-Cold Harry</th>\n",
       "      <th>Negative Nancy</th>\n",
       "      <th>Normal Norman</th>\n",
       "      <th>Positive Patricia</th>\n",
       "    </tr>\n",
       "  </thead>\n",
       "  <tbody>\n",
       "    <tr>\n",
       "      <th>---1lKK3aKOuomHnwAkAow</th>\n",
       "      <td>---1lKK3aKOuomHnwAkAow</td>\n",
       "      <td>0.725118</td>\n",
       "      <td>0.722806</td>\n",
       "      <td>0.916529</td>\n",
       "      <td>0.422368</td>\n",
       "      <td>0.541901</td>\n",
       "      <td>0.971225</td>\n",
       "    </tr>\n",
       "    <tr>\n",
       "      <th>--0kuuLmuYBe3Rmu0Iycww</th>\n",
       "      <td>--0kuuLmuYBe3Rmu0Iycww</td>\n",
       "      <td>0.842927</td>\n",
       "      <td>0.774597</td>\n",
       "      <td>0.675923</td>\n",
       "      <td>0.600099</td>\n",
       "      <td>0.611111</td>\n",
       "      <td>0.668350</td>\n",
       "    </tr>\n",
       "    <tr>\n",
       "      <th>--2HUmLkcNHZp0xw6AMBPg</th>\n",
       "      <td>--2HUmLkcNHZp0xw6AMBPg</td>\n",
       "      <td>0.584342</td>\n",
       "      <td>0.554020</td>\n",
       "      <td>0.805047</td>\n",
       "      <td>0.270134</td>\n",
       "      <td>0.405301</td>\n",
       "      <td>0.916833</td>\n",
       "    </tr>\n",
       "    <tr>\n",
       "      <th>--2vR0DIsmQ6WfcSzKWigw</th>\n",
       "      <td>--2vR0DIsmQ6WfcSzKWigw</td>\n",
       "      <td>0.933941</td>\n",
       "      <td>0.783604</td>\n",
       "      <td>0.731452</td>\n",
       "      <td>0.359516</td>\n",
       "      <td>0.828572</td>\n",
       "      <td>0.957302</td>\n",
       "    </tr>\n",
       "    <tr>\n",
       "      <th>--3WaS23LcIXtxyFULJHTA</th>\n",
       "      <td>--3WaS23LcIXtxyFULJHTA</td>\n",
       "      <td>0.951288</td>\n",
       "      <td>0.819538</td>\n",
       "      <td>0.697975</td>\n",
       "      <td>0.415581</td>\n",
       "      <td>0.881682</td>\n",
       "      <td>0.921883</td>\n",
       "    </tr>\n",
       "    <tr>\n",
       "      <th>--4rAAfZnEIAKJE80aIiYg</th>\n",
       "      <td>--4rAAfZnEIAKJE80aIiYg</td>\n",
       "      <td>0.328156</td>\n",
       "      <td>0.791580</td>\n",
       "      <td>0.876256</td>\n",
       "      <td>0.802808</td>\n",
       "      <td>0.437968</td>\n",
       "      <td>0.524720</td>\n",
       "    </tr>\n",
       "    <tr>\n",
       "      <th>--BumyUHiO_7YsHurb9Hkw</th>\n",
       "      <td>--BumyUHiO_7YsHurb9Hkw</td>\n",
       "      <td>0.985290</td>\n",
       "      <td>0.765490</td>\n",
       "      <td>0.617986</td>\n",
       "      <td>0.412175</td>\n",
       "      <td>0.786345</td>\n",
       "      <td>0.807269</td>\n",
       "    </tr>\n",
       "    <tr>\n",
       "      <th>--CIuK7sUpaNzalLAlHJKA</th>\n",
       "      <td>--CIuK7sUpaNzalLAlHJKA</td>\n",
       "      <td>0.839561</td>\n",
       "      <td>0.855363</td>\n",
       "      <td>0.537408</td>\n",
       "      <td>0.637865</td>\n",
       "      <td>0.876919</td>\n",
       "      <td>0.598148</td>\n",
       "    </tr>\n",
       "    <tr>\n",
       "      <th>--DxiDMQgN08E5gTM0aj7Q</th>\n",
       "      <td>--DxiDMQgN08E5gTM0aj7Q</td>\n",
       "      <td>0.538028</td>\n",
       "      <td>0.809040</td>\n",
       "      <td>0.988369</td>\n",
       "      <td>0.655273</td>\n",
       "      <td>0.507726</td>\n",
       "      <td>0.814413</td>\n",
       "    </tr>\n",
       "    <tr>\n",
       "      <th>--HCoE1ghaAlcaAfshICgw</th>\n",
       "      <td>--HCoE1ghaAlcaAfshICgw</td>\n",
       "      <td>0.602601</td>\n",
       "      <td>0.542451</td>\n",
       "      <td>0.795227</td>\n",
       "      <td>0.272207</td>\n",
       "      <td>0.379330</td>\n",
       "      <td>0.916590</td>\n",
       "    </tr>\n",
       "  </tbody>\n",
       "</table>\n",
       "</div>"
      ],
      "text/plain": [
       "                                       user_id  Content Cassandra  Even Evan  \\\n",
       "---1lKK3aKOuomHnwAkAow  ---1lKK3aKOuomHnwAkAow           0.725118   0.722806   \n",
       "--0kuuLmuYBe3Rmu0Iycww  --0kuuLmuYBe3Rmu0Iycww           0.842927   0.774597   \n",
       "--2HUmLkcNHZp0xw6AMBPg  --2HUmLkcNHZp0xw6AMBPg           0.584342   0.554020   \n",
       "--2vR0DIsmQ6WfcSzKWigw  --2vR0DIsmQ6WfcSzKWigw           0.933941   0.783604   \n",
       "--3WaS23LcIXtxyFULJHTA  --3WaS23LcIXtxyFULJHTA           0.951288   0.819538   \n",
       "--4rAAfZnEIAKJE80aIiYg  --4rAAfZnEIAKJE80aIiYg           0.328156   0.791580   \n",
       "--BumyUHiO_7YsHurb9Hkw  --BumyUHiO_7YsHurb9Hkw           0.985290   0.765490   \n",
       "--CIuK7sUpaNzalLAlHJKA  --CIuK7sUpaNzalLAlHJKA           0.839561   0.855363   \n",
       "--DxiDMQgN08E5gTM0aj7Q  --DxiDMQgN08E5gTM0aj7Q           0.538028   0.809040   \n",
       "--HCoE1ghaAlcaAfshICgw  --HCoE1ghaAlcaAfshICgw           0.602601   0.542451   \n",
       "\n",
       "                        Hot-Cold Harry  Negative Nancy  Normal Norman  \\\n",
       "---1lKK3aKOuomHnwAkAow        0.916529        0.422368       0.541901   \n",
       "--0kuuLmuYBe3Rmu0Iycww        0.675923        0.600099       0.611111   \n",
       "--2HUmLkcNHZp0xw6AMBPg        0.805047        0.270134       0.405301   \n",
       "--2vR0DIsmQ6WfcSzKWigw        0.731452        0.359516       0.828572   \n",
       "--3WaS23LcIXtxyFULJHTA        0.697975        0.415581       0.881682   \n",
       "--4rAAfZnEIAKJE80aIiYg        0.876256        0.802808       0.437968   \n",
       "--BumyUHiO_7YsHurb9Hkw        0.617986        0.412175       0.786345   \n",
       "--CIuK7sUpaNzalLAlHJKA        0.537408        0.637865       0.876919   \n",
       "--DxiDMQgN08E5gTM0aj7Q        0.988369        0.655273       0.507726   \n",
       "--HCoE1ghaAlcaAfshICgw        0.795227        0.272207       0.379330   \n",
       "\n",
       "                        Positive Patricia  \n",
       "---1lKK3aKOuomHnwAkAow           0.971225  \n",
       "--0kuuLmuYBe3Rmu0Iycww           0.668350  \n",
       "--2HUmLkcNHZp0xw6AMBPg           0.916833  \n",
       "--2vR0DIsmQ6WfcSzKWigw           0.957302  \n",
       "--3WaS23LcIXtxyFULJHTA           0.921883  \n",
       "--4rAAfZnEIAKJE80aIiYg           0.524720  \n",
       "--BumyUHiO_7YsHurb9Hkw           0.807269  \n",
       "--CIuK7sUpaNzalLAlHJKA           0.598148  \n",
       "--DxiDMQgN08E5gTM0aj7Q           0.814413  \n",
       "--HCoE1ghaAlcaAfshICgw           0.916590  "
      ]
     },
     "execution_count": 68,
     "metadata": {},
     "output_type": "execute_result"
    }
   ],
   "source": [
    "ids = reviewer_stars_table_10_scaled.head(10000).index.tolist()\n",
    "columns = ['user_id'] + personas_df.index.tolist()\n",
    "similarities_df = pd.DataFrame(all_similarities, columns=columns, index=ids)\n",
    "similarities_df.head(10)"
   ]
  },
  {
   "cell_type": "code",
   "execution_count": 69,
   "metadata": {},
   "outputs": [],
   "source": [
    "def compute_similarities_linalg(reviewer_relative_stars_df, personas_df):\n",
    "    reviewer_matrix = reviewer_relative_stars_df.values.T\n",
    "    personas_matrix = personas_df.values\n",
    "    dot = pd.DataFrame(personas_matrix.dot(reviewer_matrix).T)\n",
    "    user_magnitude = pd.DataFrame(np.sqrt((reviewer_relative_stars_df ** 2).sum(axis=1)))\n",
    "    persona_magnitude = pd.DataFrame(np.sqrt((personas_df ** 2).sum(axis=1)))\n",
    "    magnitude_product = user_magnitude.values.dot(persona_magnitude.values.T)\n",
    "    similarity_scores = dot / magnitude_product\n",
    "    similarity_scores.columns = personas_df.index.tolist()\n",
    "    similarity_scores.set_index(reviewer_relative_stars_df.index, inplace=True)\n",
    "    return similarity_scores"
   ]
  },
  {
   "cell_type": "code",
   "execution_count": 70,
   "metadata": {},
   "outputs": [],
   "source": [
    "user_persona_scores_df = compute_similarities_linalg(reviewer_stars_table_10_scaled, personas_df)"
   ]
  },
  {
   "cell_type": "code",
   "execution_count": 71,
   "metadata": {},
   "outputs": [
    {
     "data": {
      "text/html": [
       "<div>\n",
       "<style scoped>\n",
       "    .dataframe tbody tr th:only-of-type {\n",
       "        vertical-align: middle;\n",
       "    }\n",
       "\n",
       "    .dataframe tbody tr th {\n",
       "        vertical-align: top;\n",
       "    }\n",
       "\n",
       "    .dataframe thead th {\n",
       "        text-align: right;\n",
       "    }\n",
       "</style>\n",
       "<table border=\"1\" class=\"dataframe\">\n",
       "  <thead>\n",
       "    <tr style=\"text-align: right;\">\n",
       "      <th></th>\n",
       "      <th>Content Cassandra</th>\n",
       "      <th>Even Evan</th>\n",
       "      <th>Hot-Cold Harry</th>\n",
       "      <th>Negative Nancy</th>\n",
       "      <th>Normal Norman</th>\n",
       "      <th>Positive Patricia</th>\n",
       "    </tr>\n",
       "    <tr>\n",
       "      <th>user_id</th>\n",
       "      <th></th>\n",
       "      <th></th>\n",
       "      <th></th>\n",
       "      <th></th>\n",
       "      <th></th>\n",
       "      <th></th>\n",
       "    </tr>\n",
       "  </thead>\n",
       "  <tbody>\n",
       "    <tr>\n",
       "      <th>---1lKK3aKOuomHnwAkAow</th>\n",
       "      <td>0.725118</td>\n",
       "      <td>0.722806</td>\n",
       "      <td>0.916529</td>\n",
       "      <td>0.422368</td>\n",
       "      <td>0.541901</td>\n",
       "      <td>0.971225</td>\n",
       "    </tr>\n",
       "    <tr>\n",
       "      <th>--0kuuLmuYBe3Rmu0Iycww</th>\n",
       "      <td>0.842927</td>\n",
       "      <td>0.774597</td>\n",
       "      <td>0.675923</td>\n",
       "      <td>0.600099</td>\n",
       "      <td>0.611111</td>\n",
       "      <td>0.668350</td>\n",
       "    </tr>\n",
       "    <tr>\n",
       "      <th>--2HUmLkcNHZp0xw6AMBPg</th>\n",
       "      <td>0.584342</td>\n",
       "      <td>0.554020</td>\n",
       "      <td>0.805047</td>\n",
       "      <td>0.270134</td>\n",
       "      <td>0.405301</td>\n",
       "      <td>0.916833</td>\n",
       "    </tr>\n",
       "    <tr>\n",
       "      <th>--2vR0DIsmQ6WfcSzKWigw</th>\n",
       "      <td>0.933941</td>\n",
       "      <td>0.783604</td>\n",
       "      <td>0.731452</td>\n",
       "      <td>0.359516</td>\n",
       "      <td>0.828572</td>\n",
       "      <td>0.957302</td>\n",
       "    </tr>\n",
       "    <tr>\n",
       "      <th>--3WaS23LcIXtxyFULJHTA</th>\n",
       "      <td>0.951288</td>\n",
       "      <td>0.819538</td>\n",
       "      <td>0.697975</td>\n",
       "      <td>0.415581</td>\n",
       "      <td>0.881682</td>\n",
       "      <td>0.921883</td>\n",
       "    </tr>\n",
       "  </tbody>\n",
       "</table>\n",
       "</div>"
      ],
      "text/plain": [
       "                        Content Cassandra  Even Evan  Hot-Cold Harry  \\\n",
       "user_id                                                                \n",
       "---1lKK3aKOuomHnwAkAow           0.725118   0.722806        0.916529   \n",
       "--0kuuLmuYBe3Rmu0Iycww           0.842927   0.774597        0.675923   \n",
       "--2HUmLkcNHZp0xw6AMBPg           0.584342   0.554020        0.805047   \n",
       "--2vR0DIsmQ6WfcSzKWigw           0.933941   0.783604        0.731452   \n",
       "--3WaS23LcIXtxyFULJHTA           0.951288   0.819538        0.697975   \n",
       "\n",
       "                        Negative Nancy  Normal Norman  Positive Patricia  \n",
       "user_id                                                                   \n",
       "---1lKK3aKOuomHnwAkAow        0.422368       0.541901           0.971225  \n",
       "--0kuuLmuYBe3Rmu0Iycww        0.600099       0.611111           0.668350  \n",
       "--2HUmLkcNHZp0xw6AMBPg        0.270134       0.405301           0.916833  \n",
       "--2vR0DIsmQ6WfcSzKWigw        0.359516       0.828572           0.957302  \n",
       "--3WaS23LcIXtxyFULJHTA        0.415581       0.881682           0.921883  "
      ]
     },
     "execution_count": 71,
     "metadata": {},
     "output_type": "execute_result"
    }
   ],
   "source": [
    "user_persona_scores_df.head()"
   ]
  },
  {
   "cell_type": "code",
   "execution_count": 72,
   "metadata": {},
   "outputs": [],
   "source": [
    "user_personas = user_persona_scores_df.idxmax(axis=1)"
   ]
  },
  {
   "cell_type": "code",
   "execution_count": 73,
   "metadata": {},
   "outputs": [
    {
     "data": {
      "text/plain": [
       "user_id\n",
       "---1lKK3aKOuomHnwAkAow    Positive Patricia\n",
       "--0kuuLmuYBe3Rmu0Iycww    Content Cassandra\n",
       "--2HUmLkcNHZp0xw6AMBPg    Positive Patricia\n",
       "--2vR0DIsmQ6WfcSzKWigw    Positive Patricia\n",
       "--3WaS23LcIXtxyFULJHTA    Content Cassandra\n",
       "--4rAAfZnEIAKJE80aIiYg       Hot-Cold Harry\n",
       "--BumyUHiO_7YsHurb9Hkw    Content Cassandra\n",
       "--CIuK7sUpaNzalLAlHJKA        Normal Norman\n",
       "--DxiDMQgN08E5gTM0aj7Q       Hot-Cold Harry\n",
       "--HCoE1ghaAlcaAfshICgw    Positive Patricia\n",
       "dtype: object"
      ]
     },
     "execution_count": 73,
     "metadata": {},
     "output_type": "execute_result"
    }
   ],
   "source": [
    "user_personas.head(10)"
   ]
  },
  {
   "cell_type": "code",
   "execution_count": 74,
   "metadata": {},
   "outputs": [
    {
     "data": {
      "text/html": [
       "<div>\n",
       "<style scoped>\n",
       "    .dataframe tbody tr th:only-of-type {\n",
       "        vertical-align: middle;\n",
       "    }\n",
       "\n",
       "    .dataframe tbody tr th {\n",
       "        vertical-align: top;\n",
       "    }\n",
       "\n",
       "    .dataframe thead th {\n",
       "        text-align: right;\n",
       "    }\n",
       "</style>\n",
       "<table border=\"1\" class=\"dataframe\">\n",
       "  <thead>\n",
       "    <tr style=\"text-align: right;\">\n",
       "      <th></th>\n",
       "      <th>persona</th>\n",
       "    </tr>\n",
       "    <tr>\n",
       "      <th>user_id</th>\n",
       "      <th></th>\n",
       "    </tr>\n",
       "  </thead>\n",
       "  <tbody>\n",
       "    <tr>\n",
       "      <th>---1lKK3aKOuomHnwAkAow</th>\n",
       "      <td>Positive Patricia</td>\n",
       "    </tr>\n",
       "    <tr>\n",
       "      <th>--0kuuLmuYBe3Rmu0Iycww</th>\n",
       "      <td>Content Cassandra</td>\n",
       "    </tr>\n",
       "    <tr>\n",
       "      <th>--2HUmLkcNHZp0xw6AMBPg</th>\n",
       "      <td>Positive Patricia</td>\n",
       "    </tr>\n",
       "    <tr>\n",
       "      <th>--2vR0DIsmQ6WfcSzKWigw</th>\n",
       "      <td>Positive Patricia</td>\n",
       "    </tr>\n",
       "    <tr>\n",
       "      <th>--3WaS23LcIXtxyFULJHTA</th>\n",
       "      <td>Content Cassandra</td>\n",
       "    </tr>\n",
       "    <tr>\n",
       "      <th>--4rAAfZnEIAKJE80aIiYg</th>\n",
       "      <td>Hot-Cold Harry</td>\n",
       "    </tr>\n",
       "    <tr>\n",
       "      <th>--BumyUHiO_7YsHurb9Hkw</th>\n",
       "      <td>Content Cassandra</td>\n",
       "    </tr>\n",
       "    <tr>\n",
       "      <th>--CIuK7sUpaNzalLAlHJKA</th>\n",
       "      <td>Normal Norman</td>\n",
       "    </tr>\n",
       "    <tr>\n",
       "      <th>--DxiDMQgN08E5gTM0aj7Q</th>\n",
       "      <td>Hot-Cold Harry</td>\n",
       "    </tr>\n",
       "    <tr>\n",
       "      <th>--HCoE1ghaAlcaAfshICgw</th>\n",
       "      <td>Positive Patricia</td>\n",
       "    </tr>\n",
       "  </tbody>\n",
       "</table>\n",
       "</div>"
      ],
      "text/plain": [
       "                                  persona\n",
       "user_id                                  \n",
       "---1lKK3aKOuomHnwAkAow  Positive Patricia\n",
       "--0kuuLmuYBe3Rmu0Iycww  Content Cassandra\n",
       "--2HUmLkcNHZp0xw6AMBPg  Positive Patricia\n",
       "--2vR0DIsmQ6WfcSzKWigw  Positive Patricia\n",
       "--3WaS23LcIXtxyFULJHTA  Content Cassandra\n",
       "--4rAAfZnEIAKJE80aIiYg     Hot-Cold Harry\n",
       "--BumyUHiO_7YsHurb9Hkw  Content Cassandra\n",
       "--CIuK7sUpaNzalLAlHJKA      Normal Norman\n",
       "--DxiDMQgN08E5gTM0aj7Q     Hot-Cold Harry\n",
       "--HCoE1ghaAlcaAfshICgw  Positive Patricia"
      ]
     },
     "execution_count": 74,
     "metadata": {},
     "output_type": "execute_result"
    }
   ],
   "source": [
    "user_personas_df = pd.DataFrame(user_personas, columns=['persona'])\n",
    "user_personas_df.head(10)"
   ]
  },
  {
   "cell_type": "code",
   "execution_count": 75,
   "metadata": {},
   "outputs": [],
   "source": [
    "def plot_random_user(persona_type, user_personas, reviewer_relative_distributions_table, persona_distributions):\n",
    "    id_ = user_personas[user_personas==persona_type].sample().index[0]\n",
    "    row = reviewer_stars_table_10_scaled.loc[id_]\n",
    "    plot_against_personas(row, distributions)\n",
    "    print(user_persona_scores_df.loc[id_])"
   ]
  },
  {
   "cell_type": "code",
   "execution_count": 76,
   "metadata": {},
   "outputs": [
    {
     "data": {
      "image/png": "[encoded data removed]",
      "text/plain": [
       "<Figure size 720x576 with 7 Axes>"
      ]
     },
     "metadata": {
      "needs_background": "light"
     },
     "output_type": "display_data"
    },
    {
     "name": "stdout",
     "output_type": "stream",
     "text": [
      "Content Cassandra    0.456025\n",
      "Even Evan            0.907959\n",
      "Hot-Cold Harry       0.804486\n",
      "Negative Nancy       0.973964\n",
      "Normal Norman        0.601113\n",
      "Positive Patricia    0.549063\n",
      "Name: Ary5jgSc2p6d6UJclC13PA, dtype: float64\n"
     ]
    }
   ],
   "source": [
    "plot_random_user('Negative Nancy', user_personas, reviewer_stars_table_10_scaled, distributions)"
   ]
  },
  {
   "cell_type": "markdown",
   "metadata": {},
   "source": [
    "Terrific!\n",
    "\n",
    "One last thing! Let's plot a few different plot types showing the distribution of personas.\n",
    "\n",
    "We want to do the following things:\n",
    "- Plot a bar chart (in descending order) of the distribution of personas\n",
    "- Plot a pie chart (in the same chart as the bar chart) of the distribution of personas\n",
    "- Move the legend for the pie chart\n",
    "- Give each subplot a title\n",
    "- Give the overall graphic a title\n",
    "- Plot small versions of each persona on the right side of the chart"
   ]
  },
  {
   "cell_type": "code",
   "execution_count": 77,
   "metadata": {},
   "outputs": [],
   "source": [
    "persona_sizes = user_personas_df.groupby('persona').size().sort_values(ascending=False)"
   ]
  },
  {
   "cell_type": "code",
   "execution_count": 95,
   "metadata": {},
   "outputs": [
    {
     "data": {
      "text/html": [
       "<div>\n",
       "<style scoped>\n",
       "    .dataframe tbody tr th:only-of-type {\n",
       "        vertical-align: middle;\n",
       "    }\n",
       "\n",
       "    .dataframe tbody tr th {\n",
       "        vertical-align: top;\n",
       "    }\n",
       "\n",
       "    .dataframe thead th {\n",
       "        text-align: right;\n",
       "    }\n",
       "</style>\n",
       "<table border=\"1\" class=\"dataframe\">\n",
       "  <thead>\n",
       "    <tr style=\"text-align: right;\">\n",
       "      <th></th>\n",
       "      <th>1</th>\n",
       "      <th>2</th>\n",
       "      <th>3</th>\n",
       "      <th>4</th>\n",
       "      <th>5</th>\n",
       "    </tr>\n",
       "  </thead>\n",
       "  <tbody>\n",
       "    <tr>\n",
       "      <th>Content Cassandra</th>\n",
       "      <td>0.00</td>\n",
       "      <td>0.00</td>\n",
       "      <td>0.20</td>\n",
       "      <td>0.50</td>\n",
       "      <td>0.30</td>\n",
       "    </tr>\n",
       "    <tr>\n",
       "      <th>Even Evan</th>\n",
       "      <td>0.20</td>\n",
       "      <td>0.20</td>\n",
       "      <td>0.20</td>\n",
       "      <td>0.20</td>\n",
       "      <td>0.20</td>\n",
       "    </tr>\n",
       "    <tr>\n",
       "      <th>Hot-Cold Harry</th>\n",
       "      <td>0.30</td>\n",
       "      <td>0.10</td>\n",
       "      <td>0.05</td>\n",
       "      <td>0.15</td>\n",
       "      <td>0.40</td>\n",
       "    </tr>\n",
       "    <tr>\n",
       "      <th>Negative Nancy</th>\n",
       "      <td>0.30</td>\n",
       "      <td>0.40</td>\n",
       "      <td>0.10</td>\n",
       "      <td>0.10</td>\n",
       "      <td>0.10</td>\n",
       "    </tr>\n",
       "    <tr>\n",
       "      <th>Normal Norman</th>\n",
       "      <td>0.05</td>\n",
       "      <td>0.15</td>\n",
       "      <td>0.40</td>\n",
       "      <td>0.25</td>\n",
       "      <td>0.15</td>\n",
       "    </tr>\n",
       "    <tr>\n",
       "      <th>Positive Patricia</th>\n",
       "      <td>0.05</td>\n",
       "      <td>0.05</td>\n",
       "      <td>0.15</td>\n",
       "      <td>0.25</td>\n",
       "      <td>0.50</td>\n",
       "    </tr>\n",
       "  </tbody>\n",
       "</table>\n",
       "</div>"
      ],
      "text/plain": [
       "                      1     2     3     4     5\n",
       "Content Cassandra  0.00  0.00  0.20  0.50  0.30\n",
       "Even Evan          0.20  0.20  0.20  0.20  0.20\n",
       "Hot-Cold Harry     0.30  0.10  0.05  0.15  0.40\n",
       "Negative Nancy     0.30  0.40  0.10  0.10  0.10\n",
       "Normal Norman      0.05  0.15  0.40  0.25  0.15\n",
       "Positive Patricia  0.05  0.05  0.15  0.25  0.50"
      ]
     },
     "execution_count": 95,
     "metadata": {},
     "output_type": "execute_result"
    }
   ],
   "source": [
    "personas_df"
   ]
  },
  {
   "cell_type": "code",
   "execution_count": 108,
   "metadata": {},
   "outputs": [
    {
     "data": {
      "image/png": "[encoded data removed]",
      "text/plain": [
       "<Figure size 864x576 with 8 Axes>"
      ]
     },
     "metadata": {
      "needs_background": "light"
     },
     "output_type": "display_data"
    }
   ],
   "source": [
    "fig = plt.figure(figsize=(12,8))\n",
    "plt.suptitle('Persona Analysis', fontsize=24)\n",
    "ax1 = plt.subplot2grid((6,5), (0,0), rowspan=2, colspan=4)\n",
    "ax2 = plt.subplot2grid((6,5), (3,0), rowspan=3, colspan=4)\n",
    "ax3 = plt.subplot2grid((6,5), (0,4)) #colspan and rowspan defaults to 1\n",
    "ax3.set_title('Positive Patricia', size=8)\n",
    "ax4 = plt.subplot2grid((6,5), (1,4))\n",
    "ax4.set_title('Content Cassandra', size=8)\n",
    "ax5 = plt.subplot2grid((6,5), (2,4))\n",
    "ax5.set_title('Hot-Cold Harry', size=8)\n",
    "ax6 = plt.subplot2grid((6,5), (3,4))\n",
    "ax6.set_title('Even Evan', size=8)\n",
    "ax7 = plt.subplot2grid((6,5), (4,4))\n",
    "ax7.set_title('Normal Norman', size=8)\n",
    "ax8 = plt.subplot2grid((6,5), (5,4))\n",
    "ax8.set_title('Negative Nancy', size=8)\n",
    "persona_sizes.plot(kind='bar', ax=ax1)\n",
    "persona_sizes.plot(kind='pie',ax=ax2, title='')\n",
    "personas_df.loc['Positive Patricia'].plot(kind='bar', ax=ax3)\n",
    "ax3.xaxis.set_visible(False)\n",
    "ax3.yaxis.set_visible(False)\n",
    "personas_df.loc['Content Cassandra'].plot(kind='bar', ax=ax4)\n",
    "ax4.xaxis.set_visible(False)\n",
    "ax4.yaxis.set_visible(False)\n",
    "personas_df.loc['Hot-Cold Harry'].plot(kind='bar', ax=ax5)\n",
    "ax5.xaxis.set_visible(False)\n",
    "ax5.yaxis.set_visible(False)\n",
    "personas_df.loc['Even Evan'].plot(kind='bar', ax=ax6)\n",
    "ax6.xaxis.set_visible(False)\n",
    "ax6.yaxis.set_visible(False)\n",
    "personas_df.loc['Normal Norman'].plot(kind='bar', ax=ax7)\n",
    "ax7.xaxis.set_visible(False)\n",
    "ax7.yaxis.set_visible(False)\n",
    "personas_df.loc['Negative Nancy'].plot(kind='bar', ax=ax8)\n",
    "ax8.xaxis.set_visible(False)\n",
    "ax8.yaxis.set_visible(False)\n",
    "ax1.set_xlabel('')\n",
    "ax1.set_ylabel('')\n",
    "ax2.set_xlabel('')\n",
    "ax2.set_ylabel('')\n",
    "plt.tight_layout()\n"
   ]
  },
  {
   "cell_type": "markdown",
   "metadata": {},
   "source": [
    "As you all know, I have a disdain for rewriting so much code. In this case, I will re-write the above code with some for-loops so that not all of our code is so repetitive."
   ]
  },
  {
   "cell_type": "code",
   "execution_count": 120,
   "metadata": {},
   "outputs": [
    {
     "data": {
      "image/png": "[encoded data removed]",
      "text/plain": [
       "<Figure size 864x576 with 8 Axes>"
      ]
     },
     "metadata": {
      "needs_background": "light"
     },
     "output_type": "display_data"
    }
   ],
   "source": [
    "fig = plt.figure(figsize=(12,8))\n",
    "plt.suptitle('Persona Analysis', fontsize=24)\n",
    "axes = []\n",
    "names = persona_sizes.index\n",
    "for i, name in enumerate(names): #enumerate give you both the index value and the actual value as a tuple\n",
    "    ax = plt.subplot2grid((6,5), (i,4))\n",
    "    ax.set_title(name, size=8)\n",
    "    personas_df.loc[name].plot(kind='bar', ax=ax)\n",
    "    ax.xaxis.set_visible(False)\n",
    "    ax.yaxis.set_visible(False)\n",
    "    axes.append(ax)\n",
    "\n",
    "ax_bar = plt.subplot2grid((6,5), (0,0), rowspan=2, colspan=4)\n",
    "ax_pie = plt.subplot2grid((6,5), (3,0), rowspan=3, colspan=4)\n",
    "persona_sizes.plot(kind='bar', ax=ax_bar)\n",
    "persona_sizes.plot(kind='pie',ax=ax_pie)\n",
    "\n",
    "ax_bar.set_xlabel('')\n",
    "ax_bar.set_ylabel('')\n",
    "ax_pie.set_xlabel('')\n",
    "ax_pie.set_ylabel('')\n",
    "plt.tight_layout()"
   ]
  }
 ],
 "metadata": {
  "anaconda-cloud": {},
  "kernelspec": {
   "display_name": "Python 3",
   "language": "python",
   "name": "python3"
  },
  "language_info": {
   "codemirror_mode": {
    "name": "ipython",
    "version": 3
   },
   "file_extension": ".py",
   "mimetype": "text/x-python",
   "name": "python",
   "nbconvert_exporter": "python",
   "pygments_lexer": "ipython3",
   "version": "3.7.1"
  }
 },
 "nbformat": 4,
 "nbformat_minor": 1
}
