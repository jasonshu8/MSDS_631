{
 "cells": [
  {
   "cell_type": "markdown",
   "metadata": {},
   "source": [
    "# Homework 2 and 3\n",
    "In this assignment, you will begin to develop your skills to build functions that perform loops and control flow. Problems will get gradually more difficult. The final portion of this exercise is only **required** by students in Section 05. Everyone is welcome to attempt these problems and I will grade your responses for your own learning, but those not enrolled in Section 05 will not receive a grade for these problems."
   ]
  },
  {
   "cell_type": "markdown",
   "metadata": {},
   "source": [
    "### Brief refresher for this homework about string formatting and \n",
    "#### String formatting\n",
    "\n",
    "If you recall, formatting a string is as simple as putting curly braces as a placeholder for the string, then \"passing\" the string some fillers to go where the placeholders were."
   ]
  },
  {
   "cell_type": "code",
   "execution_count": 1,
   "metadata": {},
   "outputs": [
    {
     "name": "stdout",
     "output_type": "stream",
     "text": [
      "Hello my name is Jason. I turn 40 next month.\n",
      "Hello my name is Eileen. I turn 39 next month.\n",
      "Hello my name is 40. I turn Jason next month.\n"
     ]
    }
   ],
   "source": [
    "base_phrase = 'Hello my name is {}. I turn {} next month.'\n",
    "filled_in_phrase1 = base_phrase.format('Jason', 40)\n",
    "print(filled_in_phrase1)\n",
    "filled_in_phrase2 = base_phrase.format('Eileen', 39)\n",
    "print(filled_in_phrase2)\n",
    "filled_in_phrase3 = base_phrase.format(40, 'Jason') # Python will do what you ask; doesn't need to make sense\n",
    "print(filled_in_phrase3)"
   ]
  },
  {
   "cell_type": "markdown",
   "metadata": {},
   "source": [
    "We will spend a few minutes talking about string formatting next week, but this should help you for this homework"
   ]
  },
  {
   "cell_type": "markdown",
   "metadata": {},
   "source": [
    "#### Functions\n",
    "Functions are a way of storing a list of commands that can be used whenever you want. When you create the function, no computations are actually made. It only executes the steps within the function after you \"call\" it and \"pass\" it arguments."
   ]
  },
  {
   "cell_type": "code",
   "execution_count": 2,
   "metadata": {
    "collapsed": true
   },
   "outputs": [],
   "source": [
    "def say_hello(name):\n",
    "    phrase = 'Hello {}'.format(name)\n",
    "    print(phrase)"
   ]
  },
  {
   "cell_type": "code",
   "execution_count": 3,
   "metadata": {},
   "outputs": [
    {
     "name": "stdout",
     "output_type": "stream",
     "text": [
      "Hello Jason\n"
     ]
    }
   ],
   "source": [
    "say_hello('Jason')"
   ]
  },
  {
   "cell_type": "markdown",
   "metadata": {},
   "source": [
    "Functions typically \"return\" something after you call it. You must instruct the function to return what you want in order for it to work. Any variables created within the function will not be available to be used because they are \"local\" to the specific function. This is a positive thing since so many intermediate variables can be created during the writing of complicated analyses, and this allows you to keep your variable names simple without running the risk of inadvertantly overwriting a variable with a new value."
   ]
  },
  {
   "cell_type": "code",
   "execution_count": 4,
   "metadata": {
    "collapsed": true
   },
   "outputs": [],
   "source": [
    "#Let's write a function to compute the sum of the first n integers (starting at 0)\n",
    "def compute_sum_of_first_numbers(how_many):\n",
    "    numbers = list(range(how_many))\n",
    "    total = sum(numbers)"
   ]
  },
  {
   "cell_type": "code",
   "execution_count": 5,
   "metadata": {},
   "outputs": [
    {
     "ename": "NameError",
     "evalue": "name 'total' is not defined",
     "output_type": "error",
     "traceback": [
      "\u001b[0;31m---------------------------------------------------------------------------\u001b[0m",
      "\u001b[0;31mNameError\u001b[0m                                 Traceback (most recent call last)",
      "\u001b[0;32m<ipython-input-5-cf59c9c0650d>\u001b[0m in \u001b[0;36m<module>\u001b[0;34m()\u001b[0m\n\u001b[1;32m      1\u001b[0m \u001b[0mcompute_sum_of_first_numbers\u001b[0m\u001b[0;34m(\u001b[0m\u001b[0;36m5\u001b[0m\u001b[0;34m)\u001b[0m\u001b[0;34m\u001b[0m\u001b[0m\n\u001b[0;32m----> 2\u001b[0;31m \u001b[0mprint\u001b[0m\u001b[0;34m(\u001b[0m\u001b[0mtotal\u001b[0m\u001b[0;34m)\u001b[0m \u001b[0;31m# Try printing total, which is local within the function.\u001b[0m\u001b[0;34m\u001b[0m\u001b[0m\n\u001b[0m",
      "\u001b[0;31mNameError\u001b[0m: name 'total' is not defined"
     ]
    }
   ],
   "source": [
    "compute_sum_of_first_numbers(5)\n",
    "print(total) # Try printing total, which is local within the function."
   ]
  },
  {
   "cell_type": "code",
   "execution_count": 6,
   "metadata": {
    "collapsed": true
   },
   "outputs": [],
   "source": [
    "#Let's modify the function to return the value we wanted\n",
    "def compute_sum_of_first_numbers(how_many):\n",
    "    numbers = list(range(how_many))\n",
    "    total = sum(numbers)\n",
    "    return total"
   ]
  },
  {
   "cell_type": "code",
   "execution_count": 7,
   "metadata": {},
   "outputs": [
    {
     "name": "stdout",
     "output_type": "stream",
     "text": [
      "The sum of the first 5 numbers is 10\n"
     ]
    }
   ],
   "source": [
    "# The variable you pass does not need to match the name of the variable in the function\n",
    "num = 5\n",
    "total = compute_sum_of_first_numbers(num)\n",
    "print('The sum of the first {} numbers is {}'.format(num, total))"
   ]
  },
  {
   "cell_type": "code",
   "execution_count": 8,
   "metadata": {},
   "outputs": [
    {
     "ename": "NameError",
     "evalue": "name 'numbers' is not defined",
     "output_type": "error",
     "traceback": [
      "\u001b[0;31m---------------------------------------------------------------------------\u001b[0m",
      "\u001b[0;31mNameError\u001b[0m                                 Traceback (most recent call last)",
      "\u001b[0;32m<ipython-input-8-cfd649b740fb>\u001b[0m in \u001b[0;36m<module>\u001b[0;34m()\u001b[0m\n\u001b[1;32m      1\u001b[0m \u001b[0;31m# The local variable \"numbers\" not available because it wasn't returned by the function; thus it throws an error\u001b[0m\u001b[0;34m\u001b[0m\u001b[0;34m\u001b[0m\u001b[0m\n\u001b[0;32m----> 2\u001b[0;31m \u001b[0mprint\u001b[0m\u001b[0;34m(\u001b[0m\u001b[0mnumbers\u001b[0m\u001b[0;34m)\u001b[0m\u001b[0;34m\u001b[0m\u001b[0m\n\u001b[0m",
      "\u001b[0;31mNameError\u001b[0m: name 'numbers' is not defined"
     ]
    }
   ],
   "source": [
    "# The local variable \"numbers\" not available because it wasn't returned by the function; thus it throws an error\n",
    "print(numbers)"
   ]
  },
  {
   "cell_type": "code",
   "execution_count": 9,
   "metadata": {
    "collapsed": true
   },
   "outputs": [],
   "source": [
    "#Let's modify the function to choose where you start your range\n",
    "def compute_sum_of_first_numbers(how_many, starting_point):\n",
    "    end = starting_point + how_many\n",
    "    numbers = list(range(starting_point, end))\n",
    "    total = sum(numbers)\n",
    "    return total"
   ]
  },
  {
   "cell_type": "code",
   "execution_count": 10,
   "metadata": {},
   "outputs": [
    {
     "name": "stdout",
     "output_type": "stream",
     "text": [
      "The sum of the first 5 numbers (starting from 1) is 15\n"
     ]
    }
   ],
   "source": [
    "# As your list of arguments gets longer, make sure you are passing the right arguments to the function\n",
    "num = 5\n",
    "start = 1\n",
    "total = compute_sum_of_first_numbers(num, start)\n",
    "print('The sum of the first {} numbers (starting from {}) is {}'.format(num, start, total))"
   ]
  },
  {
   "cell_type": "code",
   "execution_count": 11,
   "metadata": {},
   "outputs": [
    {
     "name": "stdout",
     "output_type": "stream",
     "text": [
      "The sum of the first 100 numbers (starting from 1000) is 104950\n"
     ]
    }
   ],
   "source": [
    "# The variable you pass does not need to match the name of the variable in the function\n",
    "num = 100\n",
    "start = 1000\n",
    "total = compute_sum_of_first_numbers(num, start)\n",
    "print('The sum of the first {} numbers (starting from {}) is {}'.format(num, start, total))"
   ]
  },
  {
   "cell_type": "markdown",
   "metadata": {},
   "source": [
    "## Control Flow\n",
    "\n",
    "For problems in the Control Flow section, please implement your solutions to all questions inside of a function. Unless otherwise indicated, please call your function in a subsequent cell and store the output into a variable, then print your answer in a sentence using string formatting.\n",
    "\n",
    "The cells I provide are for your convenience. If you need more or fewer, add or delete cells as you wish.\n",
    "\n",
    "#### Part 1 - What's my grade?"
   ]
  },
  {
   "cell_type": "code",
   "execution_count": 44,
   "metadata": {
    "collapsed": true
   },
   "outputs": [],
   "source": [
    "# Use these as inputs into your functions\n",
    "# I should be able to change these values and re-run all of your code for Part 1 and get new answers\n",
    "my_points = 53\n",
    "possible_points = 79"
   ]
  },
  {
   "cell_type": "markdown",
   "metadata": {},
   "source": [
    "1.1) Let's start by building a little auto-grader for an exam. In the cells below, build a function that computes a score based on points earned and points possible. Call it to see if it works."
   ]
  },
  {
   "cell_type": "code",
   "execution_count": 1,
   "metadata": {},
   "outputs": [],
   "source": [
    "def compute_score(points_earned, possible_points):\n",
    "    score = points_earned / possible_points\n",
    "    return score"
   ]
  },
  {
   "cell_type": "code",
   "execution_count": 4,
   "metadata": {},
   "outputs": [
    {
     "data": {
      "text/plain": [
       "0.6708860759493671"
      ]
     },
     "execution_count": 4,
     "metadata": {},
     "output_type": "execute_result"
    }
   ],
   "source": [
    "my_points = 53\n",
    "possible_points = 79\n",
    "score = compute_score(my_points, possible_points)\n",
    "score"
   ]
  },
  {
   "cell_type": "markdown",
   "metadata": {},
   "source": [
    "1.2a) Let's figure out whether I passed. In the cell below, build a function that takes a score and determine whether I passed. A passing score is 70%."
   ]
  },
  {
   "cell_type": "code",
   "execution_count": 5,
   "metadata": {},
   "outputs": [],
   "source": [
    "def determine_if_passed(score):\n",
    "    if score > 0.7:\n",
    "        passed = True\n",
    "    else:\n",
    "        passed = False"
   ]
  },
  {
   "cell_type": "markdown",
   "metadata": {},
   "source": [
    "1.2b) Build a function that takes an exam score and calls your function from `1.2a`. In your new function, take the result from `1.2a` and use control flow to print a sentence indicating whether I passed or not. Complete the problem by calling your function."
   ]
  },
  {
   "cell_type": "code",
   "execution_count": 6,
   "metadata": {},
   "outputs": [],
   "source": [
    "def print_if_pass(score):\n",
    "    passed = determine_if_passed(score)\n",
    "    if passed:\n",
    "        print('Yay, you passed!')\n",
    "    else:\n",
    "        print('Boo, you did not pass')"
   ]
  },
  {
   "cell_type": "code",
   "execution_count": 7,
   "metadata": {},
   "outputs": [
    {
     "name": "stdout",
     "output_type": "stream",
     "text": [
      "Boo, you did not pass\n"
     ]
    }
   ],
   "source": [
    "print_if_pass(score)"
   ]
  },
  {
   "cell_type": "markdown",
   "metadata": {},
   "source": [
    "1.3) Now let's determine what letter grade I got on the exam. Using the traditional 90-80-70-60 grading scale, please build a function that uses Python control flow to return the letter grade I got. Then call your function while passing it my exam score."
   ]
  },
  {
   "cell_type": "code",
   "execution_count": 8,
   "metadata": {},
   "outputs": [],
   "source": [
    "def determine_letter_grade(score):\n",
    "    rounded_percentage = round(score*100,0)\n",
    "    if rounded_percentage >= 90:\n",
    "        letter_grade = 'A'\n",
    "    elif rounded_percentage >= 80:\n",
    "        letter_grade = 'B'\n",
    "    elif rounded_percentage >= 70:\n",
    "        letter_grade = 'C'\n",
    "    elif rounded_percentage >= 60:\n",
    "        letter_grade = 'D'\n",
    "    else:\n",
    "        letter_grade = 'F'\n",
    "    return letter_grade"
   ]
  },
  {
   "cell_type": "code",
   "execution_count": 40,
   "metadata": {},
   "outputs": [
    {
     "name": "stdout",
     "output_type": "stream",
     "text": [
      "0.58 F\n",
      "0.61 D\n",
      "0.63 D\n",
      "0.66 D\n",
      "0.7 C\n",
      "0.74 C\n",
      "0.79 C\n",
      "0.84 B\n",
      "0.97 A\n",
      "1.0 A\n"
     ]
    }
   ],
   "source": [
    "#It is good practice to test your functions with known values to make sure you are getting what you think you should get\n",
    "random_scores = [.58, .61, .63, .66, .7, .74, .79, .84, .97, 1.0]\n",
    "for i in random_scores:\n",
    "    print(i, determine_letter_grade(i))"
   ]
  },
  {
   "cell_type": "code",
   "execution_count": 52,
   "metadata": {},
   "outputs": [
    {
     "data": {
      "text/plain": [
       "'D'"
      ]
     },
     "execution_count": 52,
     "metadata": {},
     "output_type": "execute_result"
    }
   ],
   "source": [
    "determine_letter_grade(score)"
   ]
  },
  {
   "cell_type": "markdown",
   "metadata": {},
   "source": [
    "1.4) Now let's get even more precise and determine what specific letter grade I got on the exam. If the score (after rounding) ends in a 7, 8, or 9, then add a \"+\" to my letter grade (e.g. 88% is a B+). If the score ends in a 0, 1, or 2, then add a '-' to my letter grade (e.g. 92% is an A-). Scores ending in 3, 4, 5, or 6 should have no + or -. Please build a function that uses Python control flow to return the specific grade that I got. Call it and print what I got in a sentence.\n",
    "\n",
    "NOTE: There are MANY different ways to implement this - some are more efficient than others. I encourage you to consider ways of implementing this without having to write out EVERY single grade possibility in your if-else statements. Think hard about all of the techniques you've learned so far! You do not *need* to write out every single possibility. **I will award up to 10 extra credit points on the first exam to the person that figures out the most efficient way of doing this!** The number of points awarded depends on how good the implementation is (this is only valid for the first submittal, not on the re-submittal)."
   ]
  },
  {
   "cell_type": "code",
   "execution_count": 57,
   "metadata": {
    "collapsed": true
   },
   "outputs": [],
   "source": [
    "def determine_specific_letter_grade(score):\n",
    "    letter = determine_letter_grade(score)\n",
    "    rounded_percentage = round(score*100,0)\n",
    "    if score >= 1:\n",
    "        specific = '+'\n",
    "    elif rounded_percentage < 60:\n",
    "        specific = ''\n",
    "    elif rounded_percentage % 10 <= 2:\n",
    "        specific = '-'\n",
    "    elif rounded_percentage % 10 >= 7:\n",
    "        specific = '+'\n",
    "    else:\n",
    "        specific = ''\n",
    "    specific_letter = letter + specific\n",
    "    return specific_letter"
   ]
  },
  {
   "cell_type": "code",
   "execution_count": 68,
   "metadata": {},
   "outputs": [
    {
     "name": "stdout",
     "output_type": "stream",
     "text": [
      "0.58 F\n",
      "0.61 D-\n",
      "0.63 D\n",
      "0.66 D\n",
      "0.7 C-\n",
      "0.74 C\n",
      "0.79 C+\n",
      "0.84 B\n",
      "0.97 A+\n",
      "1.0 A+\n"
     ]
    }
   ],
   "source": [
    "#Let's test our function with known values to make sure you are getting what you think you should get\n",
    "random_scores = [.58, .61, .63, .66, .7, .74, .79, .84, .97, 1.0]\n",
    "for i in random_scores:\n",
    "    print(i, determine_specific_letter_grade(i))"
   ]
  },
  {
   "cell_type": "code",
   "execution_count": 61,
   "metadata": {},
   "outputs": [
    {
     "name": "stdout",
     "output_type": "stream",
     "text": [
      "I got a D+ on the exam!\n"
     ]
    }
   ],
   "source": [
    "print('I got a {} on the exam!'.format(determine_specific_letter_grade(score)))"
   ]
  },
  {
   "cell_type": "code",
   "execution_count": null,
   "metadata": {
    "collapsed": true
   },
   "outputs": [],
   "source": []
  },
  {
   "cell_type": "markdown",
   "metadata": {},
   "source": [
    "Some students are taking the class as pass/fail and others are taking the class for a real grade. I've created a new variable called `grade_type`. The two possible values for `grade_type` are `'pass_fail'` or `'graded'`."
   ]
  },
  {
   "cell_type": "code",
   "execution_count": 64,
   "metadata": {
    "collapsed": true
   },
   "outputs": [],
   "source": [
    "grade_type = 'pass_fail' #alternatively could be 'graded'"
   ]
  },
  {
   "cell_type": "markdown",
   "metadata": {},
   "source": [
    "1.5) Build a function that evaluates a score and grade_type to return either the specific letter grade that I got (based on criteria from  1.4) or \"Pass\" or \"Fail\" (based on the criteria from Part 1.1). Call your function with my score and grade type and print what I got in a sentence."
   ]
  },
  {
   "cell_type": "code",
   "execution_count": 65,
   "metadata": {
    "collapsed": true
   },
   "outputs": [],
   "source": [
    "def determine_transcript_result(score, grade_type):\n",
    "    if grade_type == 'pass_fail':\n",
    "        is_passed = determine_if_passed(score)\n",
    "        if is_passed:\n",
    "            result = 'Pass'\n",
    "        else:\n",
    "            result = 'Fail'\n",
    "    else:\n",
    "        result = determine_specific_letter_grade(score)\n",
    "    return result"
   ]
  },
  {
   "cell_type": "code",
   "execution_count": 72,
   "metadata": {},
   "outputs": [
    {
     "data": {
      "text/plain": [
       "'A+'"
      ]
     },
     "execution_count": 72,
     "metadata": {},
     "output_type": "execute_result"
    }
   ],
   "source": [
    "determine_transcript_result(score, 'grade_type')"
   ]
  },
  {
   "cell_type": "markdown",
   "metadata": {},
   "source": [
    "#### Part 2 - You're such a square!\n",
    "I want to know whether a number is a perfect square. If you recall, a perfect square is a number whose square root is an integer. Python doesn't natively know how to do square roots, but from previous math classes, you should know that the square root of a number is really just a number to the power `0.5`. We will eventually learn how to use the various scientific libraries that allow us to perform square roots more naturally, but for now, this is a good workaround.\n",
    "\n",
    "I've assigned a number a value. I want to know if it is a perfect square (i.e. if the square root of the number is an integer)."
   ]
  },
  {
   "cell_type": "code",
   "execution_count": 75,
   "metadata": {
    "collapsed": true
   },
   "outputs": [],
   "source": [
    "number = 54854788396"
   ]
  },
  {
   "cell_type": "markdown",
   "metadata": {},
   "source": [
    "2.1) Build a function that uses Python control flow to determine whether a number passed to it is a perfect square. Call it and print whether it is perfect in a sentence."
   ]
  },
  {
   "cell_type": "code",
   "execution_count": 76,
   "metadata": {},
   "outputs": [],
   "source": [
    "def determine_if_perfect_square(number):\n",
    "    square_root = number ** 0.5\n",
    "    if square_root == int(square_root):\n",
    "        return True\n",
    "    else:\n",
    "        return False"
   ]
  },
  {
   "cell_type": "code",
   "execution_count": 78,
   "metadata": {},
   "outputs": [
    {
     "name": "stdout",
     "output_type": "stream",
     "text": [
      "1 True\n",
      "2 False\n",
      "3 False\n",
      "4 True\n",
      "5 False\n",
      "6 False\n",
      "7 False\n",
      "8 False\n",
      "9 True\n"
     ]
    }
   ],
   "source": [
    "#Let's test our function with known values to make sure you are getting what you think you should get\n",
    "for i in range(1,10):\n",
    "    print(i, determine_if_perfect_square(i))"
   ]
  },
  {
   "cell_type": "code",
   "execution_count": 77,
   "metadata": {},
   "outputs": [
    {
     "name": "stdout",
     "output_type": "stream",
     "text": [
      "54854788396 is NOT a perfect number!\n"
     ]
    }
   ],
   "source": [
    "if determine_if_perfect_square(number):\n",
    "    print('{} is a perfect number!'.format(number))\n",
    "else:\n",
    "    print('{} is NOT a perfect number!'.format(number))"
   ]
  },
  {
   "cell_type": "code",
   "execution_count": null,
   "metadata": {
    "collapsed": true
   },
   "outputs": [],
   "source": []
  },
  {
   "cell_type": "markdown",
   "metadata": {},
   "source": [
    "2.2) I desperately want my number to be perfect. Build a function that takes a number and figures out the smallest (positive) amount I would have to add to the number to make it perfect. Your function should return the amount that you needed to add."
   ]
  },
  {
   "cell_type": "code",
   "execution_count": 9,
   "metadata": {},
   "outputs": [],
   "source": [
    "def compute_amount_to_get_perfect(number):\n",
    "    square_root = number ** 0.5\n",
    "    next_root = int(square_root) + 1\n",
    "    next_perfect_square = next_root ** 2\n",
    "    difference = next_perfect_square - number\n",
    "    return difference"
   ]
  },
  {
   "cell_type": "code",
   "execution_count": 13,
   "metadata": {},
   "outputs": [
    {
     "data": {
      "text/plain": [
       "17"
      ]
     },
     "execution_count": 13,
     "metadata": {},
     "output_type": "execute_result"
    }
   ],
   "source": [
    "compute_amount_to_get_perfect(64)"
   ]
  },
  {
   "cell_type": "markdown",
   "metadata": {},
   "source": [
    "2.3) Build a function that takes a number calls your function from 2.1. If it determines that your number is already perfect, print a sentence indicating that your number is already perfect. If it is not already perfect, then have your code call your function from 2.2 and determine how much needs to be added in order to make it perfect. Print a sentence indicating how much I would have to add to my original number and what the resulting perfect square number would be."
   ]
  },
  {
   "cell_type": "code",
   "execution_count": 84,
   "metadata": {
    "collapsed": true
   },
   "outputs": [],
   "source": [
    "def print_perfect_square_status(number):\n",
    "    is_perfect = determine_if_perfect_square(number)\n",
    "    if is_perfect:\n",
    "        print('{} is already perfect!'.format(number))\n",
    "    else:\n",
    "        amount_to_add = compute_amount_to_get_perfect(number)\n",
    "        print('I would have to add {} to {} in order to get a perfect square'.format(amount_to_add, number))"
   ]
  },
  {
   "cell_type": "code",
   "execution_count": 86,
   "metadata": {},
   "outputs": [
    {
     "name": "stdout",
     "output_type": "stream",
     "text": [
      "1 is already perfect!\n",
      "I would have to add 2 to 2 in order to get a perfect square\n",
      "I would have to add 1 to 3 in order to get a perfect square\n",
      "4 is already perfect!\n",
      "I would have to add 4 to 5 in order to get a perfect square\n",
      "I would have to add 3 to 6 in order to get a perfect square\n",
      "I would have to add 2 to 7 in order to get a perfect square\n",
      "I would have to add 1 to 8 in order to get a perfect square\n",
      "9 is already perfect!\n"
     ]
    }
   ],
   "source": [
    "#Let's test our function with known values to make sure you are getting what you think you should get\n",
    "for i in range(1,10):\n",
    "    print_perfect_square_status(i)"
   ]
  },
  {
   "cell_type": "code",
   "execution_count": 85,
   "metadata": {},
   "outputs": [
    {
     "name": "stdout",
     "output_type": "stream",
     "text": [
      "I would have to add 4125 to 54854788396 in order to get a perfect square\n"
     ]
    }
   ],
   "source": [
    "print_perfect_square_status(number)"
   ]
  },
  {
   "cell_type": "markdown",
   "metadata": {},
   "source": [
    "## Loops\n",
    "Unless otherwise indicated, you do not need to use functions for questions in this section."
   ]
  },
  {
   "cell_type": "markdown",
   "metadata": {},
   "source": [
    "#### Part 3 - Let's learn about numbers"
   ]
  },
  {
   "cell_type": "markdown",
   "metadata": {},
   "source": [
    "3.1) Build a for-loop that prints the first 5 numbers (starting at 0)."
   ]
  },
  {
   "cell_type": "code",
   "execution_count": 87,
   "metadata": {},
   "outputs": [
    {
     "name": "stdout",
     "output_type": "stream",
     "text": [
      "0\n",
      "1\n",
      "2\n",
      "3\n",
      "4\n"
     ]
    }
   ],
   "source": [
    "for i in range(5):\n",
    "    print(i)"
   ]
  },
  {
   "cell_type": "markdown",
   "metadata": {},
   "source": [
    "3.2) Build a for-loop that evaluates each of the first 10 numbers (starting at 1) and prints a sentence indicating whether the number is even or odd."
   ]
  },
  {
   "cell_type": "code",
   "execution_count": 90,
   "metadata": {},
   "outputs": [
    {
     "name": "stdout",
     "output_type": "stream",
     "text": [
      "1 is odd\n",
      "2 is even\n",
      "3 is odd\n",
      "4 is even\n",
      "5 is odd\n",
      "6 is even\n",
      "7 is odd\n",
      "8 is even\n",
      "9 is odd\n",
      "10 is even\n"
     ]
    }
   ],
   "source": [
    "for i in range(1,11):\n",
    "    if i % 2 == 0:\n",
    "        print('{} is even'.format(i))\n",
    "    else:\n",
    "        print('{} is odd'.format(i))"
   ]
  },
  {
   "cell_type": "markdown",
   "metadata": {},
   "source": [
    "3.3) What is the sum of the squares of all numbers less than or equal to 10?"
   ]
  },
  {
   "cell_type": "code",
   "execution_count": 91,
   "metadata": {},
   "outputs": [
    {
     "data": {
      "text/plain": [
       "55"
      ]
     },
     "execution_count": 91,
     "metadata": {},
     "output_type": "execute_result"
    }
   ],
   "source": [
    "total = 0\n",
    "for i in range(11):\n",
    "    total += i\n",
    "total"
   ]
  },
  {
   "cell_type": "markdown",
   "metadata": {},
   "source": [
    "3.4) What is the sum of all numbers less than or equal to 1000 that are divisible by 3 or 5"
   ]
  },
  {
   "cell_type": "code",
   "execution_count": 98,
   "metadata": {},
   "outputs": [
    {
     "data": {
      "text/plain": [
       "234168"
      ]
     },
     "execution_count": 98,
     "metadata": {},
     "output_type": "execute_result"
    }
   ],
   "source": [
    "total = 0\n",
    "for i in range(1001):\n",
    "    if i % 3 == 0:\n",
    "        total += i\n",
    "    elif i % 5 == 0:\n",
    "        total += i\n",
    "total"
   ]
  },
  {
   "cell_type": "markdown",
   "metadata": {},
   "source": [
    "3.5) What is the sum of all numbers less than or equal to 1000 that are divisible by both 3 and 5?"
   ]
  },
  {
   "cell_type": "code",
   "execution_count": 99,
   "metadata": {},
   "outputs": [
    {
     "data": {
      "text/plain": [
       "33165"
      ]
     },
     "execution_count": 99,
     "metadata": {},
     "output_type": "execute_result"
    }
   ],
   "source": [
    "total = 0\n",
    "for i in range(1001):\n",
    "    if (i % 3 == 0) and (i % 5 == 0):\n",
    "        total += i\n",
    "total"
   ]
  },
  {
   "cell_type": "markdown",
   "metadata": {},
   "source": [
    "3.6) What are all of the numbers less than or equal to 1000 that are perfect squares?"
   ]
  },
  {
   "cell_type": "code",
   "execution_count": 100,
   "metadata": {},
   "outputs": [
    {
     "data": {
      "text/plain": [
       "[0,\n",
       " 1,\n",
       " 4,\n",
       " 9,\n",
       " 16,\n",
       " 25,\n",
       " 36,\n",
       " 49,\n",
       " 64,\n",
       " 81,\n",
       " 100,\n",
       " 121,\n",
       " 144,\n",
       " 169,\n",
       " 196,\n",
       " 225,\n",
       " 256,\n",
       " 289,\n",
       " 324,\n",
       " 361,\n",
       " 400,\n",
       " 441,\n",
       " 484,\n",
       " 529,\n",
       " 576,\n",
       " 625,\n",
       " 676,\n",
       " 729,\n",
       " 784,\n",
       " 841,\n",
       " 900,\n",
       " 961]"
      ]
     },
     "execution_count": 100,
     "metadata": {},
     "output_type": "execute_result"
    }
   ],
   "source": [
    "perfect_squares = []\n",
    "for i in range(1001):\n",
    "    is_perfect = determine_if_perfect_square(i)\n",
    "    if is_perfect:\n",
    "        perfect_squares.append(i)\n",
    "perfect_squares"
   ]
  },
  {
   "cell_type": "markdown",
   "metadata": {},
   "source": [
    "3.7) For numbers less than or equal to 20, compute the product of even and odd numbers, respectively."
   ]
  },
  {
   "cell_type": "code",
   "execution_count": 101,
   "metadata": {},
   "outputs": [
    {
     "name": "stdout",
     "output_type": "stream",
     "text": [
      "even 3715891200\n",
      "odd 654729075\n"
     ]
    }
   ],
   "source": [
    "even_product = 1\n",
    "odd_product = 1\n",
    "for i in range(1,21):\n",
    "    if i % 2 == 0:\n",
    "        even_product *= i\n",
    "    else:\n",
    "        odd_product *= i\n",
    "print('even', even_product)\n",
    "print('odd', odd_product)"
   ]
  },
  {
   "cell_type": "markdown",
   "metadata": {},
   "source": [
    "3.8) For numbers less than or equal to 100, I want to know all of the numbers divisible by 2,3,4,5,6,7,8,9, and 10, **respectively.** Generate a list of numbers divisible by each divisor (i.e. list of numbers divisible by 2, list of numbers divisible by 3, etc)."
   ]
  },
  {
   "cell_type": "code",
   "execution_count": 104,
   "metadata": {},
   "outputs": [
    {
     "data": {
      "text/plain": [
       "{2: [2,\n",
       "  4,\n",
       "  6,\n",
       "  8,\n",
       "  10,\n",
       "  12,\n",
       "  14,\n",
       "  16,\n",
       "  18,\n",
       "  20,\n",
       "  22,\n",
       "  24,\n",
       "  26,\n",
       "  28,\n",
       "  30,\n",
       "  32,\n",
       "  34,\n",
       "  36,\n",
       "  38,\n",
       "  40,\n",
       "  42,\n",
       "  44,\n",
       "  46,\n",
       "  48,\n",
       "  50,\n",
       "  52,\n",
       "  54,\n",
       "  56,\n",
       "  58,\n",
       "  60,\n",
       "  62,\n",
       "  64,\n",
       "  66,\n",
       "  68,\n",
       "  70,\n",
       "  72,\n",
       "  74,\n",
       "  76,\n",
       "  78,\n",
       "  80,\n",
       "  82,\n",
       "  84,\n",
       "  86,\n",
       "  88,\n",
       "  90,\n",
       "  92,\n",
       "  94,\n",
       "  96,\n",
       "  98,\n",
       "  100],\n",
       " 3: [3,\n",
       "  6,\n",
       "  9,\n",
       "  12,\n",
       "  15,\n",
       "  18,\n",
       "  21,\n",
       "  24,\n",
       "  27,\n",
       "  30,\n",
       "  33,\n",
       "  36,\n",
       "  39,\n",
       "  42,\n",
       "  45,\n",
       "  48,\n",
       "  51,\n",
       "  54,\n",
       "  57,\n",
       "  60,\n",
       "  63,\n",
       "  66,\n",
       "  69,\n",
       "  72,\n",
       "  75,\n",
       "  78,\n",
       "  81,\n",
       "  84,\n",
       "  87,\n",
       "  90,\n",
       "  93,\n",
       "  96,\n",
       "  99],\n",
       " 4: [4,\n",
       "  8,\n",
       "  12,\n",
       "  16,\n",
       "  20,\n",
       "  24,\n",
       "  28,\n",
       "  32,\n",
       "  36,\n",
       "  40,\n",
       "  44,\n",
       "  48,\n",
       "  52,\n",
       "  56,\n",
       "  60,\n",
       "  64,\n",
       "  68,\n",
       "  72,\n",
       "  76,\n",
       "  80,\n",
       "  84,\n",
       "  88,\n",
       "  92,\n",
       "  96,\n",
       "  100],\n",
       " 5: [5,\n",
       "  10,\n",
       "  15,\n",
       "  20,\n",
       "  25,\n",
       "  30,\n",
       "  35,\n",
       "  40,\n",
       "  45,\n",
       "  50,\n",
       "  55,\n",
       "  60,\n",
       "  65,\n",
       "  70,\n",
       "  75,\n",
       "  80,\n",
       "  85,\n",
       "  90,\n",
       "  95,\n",
       "  100],\n",
       " 6: [6, 12, 18, 24, 30, 36, 42, 48, 54, 60, 66, 72, 78, 84, 90, 96],\n",
       " 7: [7, 14, 21, 28, 35, 42, 49, 56, 63, 70, 77, 84, 91, 98],\n",
       " 8: [8, 16, 24, 32, 40, 48, 56, 64, 72, 80, 88, 96],\n",
       " 9: [9, 18, 27, 36, 45, 54, 63, 72, 81, 90, 99],\n",
       " 10: [10, 20, 30, 40, 50, 60, 70, 80, 90, 100]}"
      ]
     },
     "execution_count": 104,
     "metadata": {},
     "output_type": "execute_result"
    }
   ],
   "source": [
    "divisors = range(2,11)\n",
    "dividends = range(1,101)\n",
    "nums_divisible_by = {}\n",
    "for divisor in divisors:\n",
    "    nums_divisible_by[divisor] = []\n",
    "    \n",
    "for big_number in dividends:\n",
    "    for divisor in divisors:\n",
    "        if big_number % divisor == 0:\n",
    "            nums_divisible_by[divisor].append(big_number)\n",
    "nums_divisible_by"
   ]
  },
  {
   "cell_type": "markdown",
   "metadata": {},
   "source": [
    "#### Part 4 - Find the missing number\n",
    "In the next cell, I'm generating a list of numbers where all of the numbers appear exactly twice, except for one (which shows up only once)."
   ]
  },
  {
   "cell_type": "code",
   "execution_count": 110,
   "metadata": {},
   "outputs": [],
   "source": [
    "def generate_missing_number_list():\n",
    "    import random\n",
    "    nums = random.sample(list(range(1,100000)), 10000) * 2\n",
    "    nums.pop()\n",
    "    random.shuffle(nums)\n",
    "    return nums\n",
    "numbers = generate_missing_number_list()"
   ]
  },
  {
   "cell_type": "markdown",
   "metadata": {},
   "source": [
    "4.1) Find the number that appears only once in `numbers`."
   ]
  },
  {
   "cell_type": "code",
   "execution_count": 111,
   "metadata": {},
   "outputs": [],
   "source": [
    "unique_nums = set(numbers)\n",
    "nums_dict = {}\n",
    "for number in unique_nums:\n",
    "    nums_dict[number] = 0"
   ]
  },
  {
   "cell_type": "code",
   "execution_count": 112,
   "metadata": {},
   "outputs": [],
   "source": [
    "for number in unique_nums:\n",
    "    nums_dict[number] += 1"
   ]
  },
  {
   "cell_type": "code",
   "execution_count": 114,
   "metadata": {},
   "outputs": [
    {
     "data": {
      "text/plain": [
       "98305"
      ]
     },
     "execution_count": 114,
     "metadata": {},
     "output_type": "execute_result"
    }
   ],
   "source": [
    "for number in unique_nums:\n",
    "    if nums_dict[number] == 1:\n",
    "        missing_num = number\n",
    "        break\n",
    "missing_num"
   ]
  },
  {
   "cell_type": "markdown",
   "metadata": {},
   "source": [
    "#### Part 5 - What's my grade?\n",
    "In the next cell, I'm generating data associated with students. The data is stored in three lists where the position of each index can be assumed to be associated with a single student. The lists include the students' ids and their scores on an exam. The exam was out of a possible total of 75 points"
   ]
  },
  {
   "cell_type": "code",
   "execution_count": 116,
   "metadata": {
    "collapsed": true
   },
   "outputs": [],
   "source": [
    "import uuid\n",
    "import numpy as np\n",
    "ids = [str(uuid.uuid4()) for _ in range(100)]\n",
    "points = [min(75, round(np.random.normal(.8,.1)*75)) for _ in range(100)]\n",
    "grade_type = [np.random.choice(['pass_fail', 'graded'], p=[.1,.9]) for _ in range(100)]"
   ]
  },
  {
   "cell_type": "markdown",
   "metadata": {},
   "source": [
    "5.1) Using your functions generated in problems `1.4` and `1.5` earlier in this assignment, please assign an exam grade to each student."
   ]
  },
  {
   "cell_type": "code",
   "execution_count": 120,
   "metadata": {},
   "outputs": [],
   "source": [
    "all_student_results = []\n",
    "for i in range(len(ids)):\n",
    "    student_points = points[i]\n",
    "    student_grade_type = grade_type[i]\n",
    "    student_score = compute_score(student_points, 75)\n",
    "    student_result = determine_transcript_result(student_score, student_grade_type)\n",
    "    all_student_results.append(student_result)"
   ]
  },
  {
   "cell_type": "code",
   "execution_count": 121,
   "metadata": {},
   "outputs": [
    {
     "data": {
      "text/plain": [
       "['B',\n",
       " 'B',\n",
       " 'Fail',\n",
       " 'B',\n",
       " 'B',\n",
       " 'C',\n",
       " 'B+',\n",
       " 'D',\n",
       " 'B+',\n",
       " 'A-',\n",
       " 'B',\n",
       " 'A',\n",
       " 'B-',\n",
       " 'A+',\n",
       " 'C-',\n",
       " 'B',\n",
       " 'C+',\n",
       " 'D+',\n",
       " 'B-',\n",
       " 'Fail',\n",
       " 'C',\n",
       " 'B',\n",
       " 'D+',\n",
       " 'C+',\n",
       " 'A-',\n",
       " 'B',\n",
       " 'A+',\n",
       " 'B',\n",
       " 'Fail',\n",
       " 'B-',\n",
       " 'B',\n",
       " 'A',\n",
       " 'A+',\n",
       " 'A-',\n",
       " 'B',\n",
       " 'Fail',\n",
       " 'Fail',\n",
       " 'B-',\n",
       " 'C+',\n",
       " 'D',\n",
       " 'B-',\n",
       " 'Fail',\n",
       " 'B-',\n",
       " 'B-',\n",
       " 'C',\n",
       " 'F',\n",
       " 'C+',\n",
       " 'B-',\n",
       " 'D+',\n",
       " 'A',\n",
       " 'Fail',\n",
       " 'C+',\n",
       " 'C',\n",
       " 'B+',\n",
       " 'D',\n",
       " 'B-',\n",
       " 'A+',\n",
       " 'C',\n",
       " 'B',\n",
       " 'A+',\n",
       " 'A-',\n",
       " 'F',\n",
       " 'C-',\n",
       " 'Fail',\n",
       " 'C+',\n",
       " 'A+',\n",
       " 'C',\n",
       " 'B-',\n",
       " 'Fail',\n",
       " 'B+',\n",
       " 'D',\n",
       " 'C+',\n",
       " 'A+',\n",
       " 'C-',\n",
       " 'B-',\n",
       " 'D+',\n",
       " 'C+',\n",
       " 'B',\n",
       " 'B-',\n",
       " 'B',\n",
       " 'A+',\n",
       " 'B+',\n",
       " 'B-',\n",
       " 'Fail',\n",
       " 'B+',\n",
       " 'Fail',\n",
       " 'B+',\n",
       " 'B',\n",
       " 'B',\n",
       " 'C-',\n",
       " 'C-',\n",
       " 'C-',\n",
       " 'D-',\n",
       " 'A',\n",
       " 'B+',\n",
       " 'C',\n",
       " 'B',\n",
       " 'B-',\n",
       " 'B',\n",
       " 'C']"
      ]
     },
     "execution_count": 121,
     "metadata": {},
     "output_type": "execute_result"
    }
   ],
   "source": [
    "all_student_results"
   ]
  },
  {
   "cell_type": "code",
   "execution_count": null,
   "metadata": {
    "collapsed": true
   },
   "outputs": [],
   "source": []
  },
  {
   "cell_type": "markdown",
   "metadata": {},
   "source": [
    "# Extra Problems - Only Required by Section 05\n",
    "Below are several word problems that use slightly more advanced data sets. The instructions will be less explicit and you'll be required to figure out how to answer the intent of the question."
   ]
  },
  {
   "cell_type": "markdown",
   "metadata": {},
   "source": [
    "#### Part 6 - Describe my students"
   ]
  },
  {
   "cell_type": "markdown",
   "metadata": {},
   "source": [
    "In the cell below, I've written a bit of code to load some data for you to analyze.\n",
    "\n",
    "`student_info` contains personal information for several students. You will use this to answer all of the questions in Part 4."
   ]
  },
  {
   "cell_type": "code",
   "execution_count": 122,
   "metadata": {},
   "outputs": [],
   "source": [
    "import json\n",
    "student_info = json.load(open('data_hw2_part_3.json'))"
   ]
  },
  {
   "cell_type": "markdown",
   "metadata": {},
   "source": [
    "6.1) take a look at student_info and describe what you see. What kind of data structure is it? How many students are in there? Take a look at a single record and describe what that record look like? What kind of data structure is used to describe a student? Do you analysis and write your description in the cell below."
   ]
  },
  {
   "cell_type": "code",
   "execution_count": 123,
   "metadata": {},
   "outputs": [
    {
     "data": {
      "text/plain": [
       "list"
      ]
     },
     "execution_count": 123,
     "metadata": {},
     "output_type": "execute_result"
    }
   ],
   "source": [
    "type(student_info)"
   ]
  },
  {
   "cell_type": "code",
   "execution_count": 124,
   "metadata": {},
   "outputs": [
    {
     "data": {
      "text/plain": [
       "{'class': 'Junior',\n",
       " 'first': 'Janis',\n",
       " 'gender': 'Female',\n",
       " 'gpa': 3.12,\n",
       " 'last': 'Brown',\n",
       " 'major': 'Economics',\n",
       " 'student_id': '5a397209-3782-4764-a285-10fae807ee71'}"
      ]
     },
     "execution_count": 124,
     "metadata": {},
     "output_type": "execute_result"
    }
   ],
   "source": [
    "student_info[0]"
   ]
  },
  {
   "cell_type": "code",
   "execution_count": 127,
   "metadata": {},
   "outputs": [
    {
     "data": {
      "text/plain": [
       "dict_keys(['last', 'gpa', 'major', 'first', 'class', 'student_id', 'gender'])"
      ]
     },
     "execution_count": 127,
     "metadata": {},
     "output_type": "execute_result"
    }
   ],
   "source": [
    "student_keys = student_info[0].keys()\n",
    "student_keys"
   ]
  },
  {
   "cell_type": "raw",
   "metadata": {
    "collapsed": true
   },
   "source": [
    "student_info is a list of dictionaries where each dictionary is a record of student details. There are 10,000 records in total. Each record contains a student's student ID, first name, last name, major, class, gender, and GPA."
   ]
  },
  {
   "cell_type": "markdown",
   "metadata": {},
   "source": [
    "6.2) How many different majors are represented by these students?"
   ]
  },
  {
   "cell_type": "code",
   "execution_count": 128,
   "metadata": {},
   "outputs": [
    {
     "data": {
      "text/plain": [
       "{'Chemistry', 'Economics', 'Engineering', 'Finance', 'Math', 'Physics'}"
      ]
     },
     "execution_count": 128,
     "metadata": {},
     "output_type": "execute_result"
    }
   ],
   "source": [
    "all_majors = [student['major'] for student in student_info]\n",
    "unique_majors = set(all_majors)\n",
    "unique_majors"
   ]
  },
  {
   "cell_type": "code",
   "execution_count": 160,
   "metadata": {},
   "outputs": [
    {
     "data": {
      "text/plain": [
       "6"
      ]
     },
     "execution_count": 160,
     "metadata": {},
     "output_type": "execute_result"
    }
   ],
   "source": [
    "len(unique_majors)"
   ]
  },
  {
   "cell_type": "markdown",
   "metadata": {},
   "source": [
    "6.3) What is the most popular major amongst each gender?"
   ]
  },
  {
   "cell_type": "code",
   "execution_count": 144,
   "metadata": {},
   "outputs": [],
   "source": [
    "#Initialize the counter dictionary\n",
    "all_genders = [student['gender'] for student in student_info]\n",
    "unique_genders = set(all_genders)\n",
    "major_counts_by_gender = {}\n",
    "for gender in unique_genders:\n",
    "    major_counts_by_gender[gender] = {}\n",
    "    for major in unique_majors:\n",
    "        major_counts_by_gender[gender][major] = 0"
   ]
  },
  {
   "cell_type": "code",
   "execution_count": 145,
   "metadata": {},
   "outputs": [
    {
     "data": {
      "text/plain": [
       "{'Female': {'Chemistry': 972,\n",
       "  'Economics': 1500,\n",
       "  'Engineering': 510,\n",
       "  'Finance': 1210,\n",
       "  'Math': 235,\n",
       "  'Physics': 494},\n",
       " 'Male': {'Chemistry': 535,\n",
       "  'Economics': 473,\n",
       "  'Engineering': 1524,\n",
       "  'Finance': 1031,\n",
       "  'Math': 495,\n",
       "  'Physics': 1021}}"
      ]
     },
     "execution_count": 145,
     "metadata": {},
     "output_type": "execute_result"
    }
   ],
   "source": [
    "for student in student_info:\n",
    "    gender = student['gender']\n",
    "    major = student['major']\n",
    "    major_counts_by_gender[gender][major] += 1\n",
    "major_counts_by_gender"
   ]
  },
  {
   "cell_type": "code",
   "execution_count": 204,
   "metadata": {
    "collapsed": true
   },
   "outputs": [],
   "source": [
    "def determine_largest_value_in_dict(dict_of_values):\n",
    "    largest = {'key': None, 'value': -10000}\n",
    "    for key in dict_of_values:\n",
    "        value = dict_of_values[key]\n",
    "        if value > largest['value']:\n",
    "            largest['value'] = value\n",
    "            largest['key'] = key\n",
    "    return largest"
   ]
  },
  {
   "cell_type": "code",
   "execution_count": 205,
   "metadata": {},
   "outputs": [
    {
     "data": {
      "text/plain": [
       "{'Female': {'major': 'Economics', 'major_count': 1500},\n",
       " 'Male': {'major': 'Engineering', 'major_count': 1524}}"
      ]
     },
     "execution_count": 205,
     "metadata": {},
     "output_type": "execute_result"
    }
   ],
   "source": [
    "largest_major_by_gender = {}\n",
    "for gender in major_counts_by_gender:\n",
    "    largest_major_by_gender[gender] = {}\n",
    "    gender_dict = major_counts_by_gender[gender]\n",
    "    largest_major_dict = determine_largest_value_in_dict(gender_dict)\n",
    "    largest_major_by_gender[gender]['major'] = largest_major_dict['key']\n",
    "    largest_major_by_gender[gender]['major_count'] = largest_major_dict['value']\n",
    "largest_major_by_gender"
   ]
  },
  {
   "cell_type": "markdown",
   "metadata": {},
   "source": [
    "6.4) For each major, what is the ratio of males to females in each class? For example, in the major or Economics, what are the ratios of males to females in the freshman class, sophomore class, junior class, and senior class?"
   ]
  },
  {
   "cell_type": "code",
   "execution_count": 216,
   "metadata": {},
   "outputs": [
    {
     "data": {
      "text/plain": [
       "{'Freshman', 'Junior', 'Senior', 'Sophomore'}"
      ]
     },
     "execution_count": 216,
     "metadata": {},
     "output_type": "execute_result"
    }
   ],
   "source": [
    "all_classes = [student['class'] for student in student_info]\n",
    "unique_classes = set(all_classes)\n",
    "unique_classes"
   ]
  },
  {
   "cell_type": "code",
   "execution_count": 217,
   "metadata": {},
   "outputs": [],
   "source": [
    "#Initialize the counter dictionary\n",
    "gender_counts_by_major_and_class = {}\n",
    "for major in all_majors:\n",
    "    gender_counts_by_major[major] = {}\n",
    "    for year in unique_classes:\n",
    "        gender_counts_by_major[major][year] = {}\n",
    "        for gender in unique_genders:\n",
    "            gender_counts_by_major[major][year][gender] = 0"
   ]
  },
  {
   "cell_type": "code",
   "execution_count": 218,
   "metadata": {},
   "outputs": [
    {
     "data": {
      "text/plain": [
       "{'Chemistry': {'Freshman': {'Female': 243, 'Male': 125},\n",
       "  'Junior': {'Female': 245, 'Male': 130},\n",
       "  'Senior': {'Female': 224, 'Male': 125},\n",
       "  'Sophomore': {'Female': 260, 'Male': 155}},\n",
       " 'Economics': {'Freshman': {'Female': 344, 'Male': 97},\n",
       "  'Junior': {'Female': 352, 'Male': 105},\n",
       "  'Senior': {'Female': 426, 'Male': 150},\n",
       "  'Sophomore': {'Female': 378, 'Male': 121}},\n",
       " 'Engineering': {'Freshman': {'Female': 105, 'Male': 375},\n",
       "  'Junior': {'Female': 124, 'Male': 313},\n",
       "  'Senior': {'Female': 155, 'Male': 485},\n",
       "  'Sophomore': {'Female': 126, 'Male': 351}},\n",
       " 'Finance': {'Freshman': {'Female': 311, 'Male': 271},\n",
       "  'Junior': {'Female': 295, 'Male': 227},\n",
       "  'Senior': {'Female': 322, 'Male': 254},\n",
       "  'Sophomore': {'Female': 282, 'Male': 279}},\n",
       " 'Math': {'Freshman': {'Female': 85, 'Male': 143},\n",
       "  'Junior': {'Female': 51, 'Male': 107},\n",
       "  'Senior': {'Female': 72, 'Male': 168},\n",
       "  'Sophomore': {'Female': 27, 'Male': 77}},\n",
       " 'Physics': {'Freshman': {'Female': 148, 'Male': 232},\n",
       "  'Junior': {'Female': 158, 'Male': 334},\n",
       "  'Senior': {'Female': 72, 'Male': 184},\n",
       "  'Sophomore': {'Female': 116, 'Male': 271}}}"
      ]
     },
     "execution_count": 218,
     "metadata": {},
     "output_type": "execute_result"
    }
   ],
   "source": [
    "for student in student_info:\n",
    "    gender = student['gender']\n",
    "    year = student['class']\n",
    "    major = student['major']\n",
    "    gender_counts_by_major[major][year][gender] += 1\n",
    "gender_counts_by_major"
   ]
  },
  {
   "cell_type": "code",
   "execution_count": 219,
   "metadata": {},
   "outputs": [
    {
     "data": {
      "text/plain": [
       "{'Freshman': {'Female': 243, 'Male': 125},\n",
       " 'Junior': {'Female': 245, 'Male': 130},\n",
       " 'Senior': {'Female': 224, 'Male': 125},\n",
       " 'Sophomore': {'Female': 260, 'Male': 155}}"
      ]
     },
     "execution_count": 219,
     "metadata": {},
     "output_type": "execute_result"
    }
   ],
   "source": [
    "gender_counts_by_major['Chemistry']"
   ]
  },
  {
   "cell_type": "code",
   "execution_count": 220,
   "metadata": {
    "collapsed": true
   },
   "outputs": [],
   "source": [
    "def compute_male_female_ratio(gender_dict):\n",
    "    num_males = gender_dict['Male']\n",
    "    num_females = gender_dict['Female']\n",
    "    ratio = num_males / num_females\n",
    "    return ratio"
   ]
  },
  {
   "cell_type": "code",
   "execution_count": 221,
   "metadata": {
    "collapsed": true
   },
   "outputs": [],
   "source": [
    "def compute_male_female_ratios_for_major(major_dict):\n",
    "    ratios = {}\n",
    "    for year in all_classes:\n",
    "        gender_dict = major_dict[year]\n",
    "        ratios[year] = compute_male_female_ratio(gender_dict)\n",
    "    return ratios"
   ]
  },
  {
   "cell_type": "code",
   "execution_count": 222,
   "metadata": {},
   "outputs": [
    {
     "data": {
      "text/plain": [
       "{'Freshman': 0.51440329218107,\n",
       " 'Junior': 0.5306122448979592,\n",
       " 'Senior': 0.5580357142857143,\n",
       " 'Sophomore': 0.5961538461538461}"
      ]
     },
     "execution_count": 222,
     "metadata": {},
     "output_type": "execute_result"
    }
   ],
   "source": [
    "#Test the function\n",
    "compute_male_female_ratios_for_major(gender_counts_by_major['Chemistry'])"
   ]
  },
  {
   "cell_type": "code",
   "execution_count": 223,
   "metadata": {},
   "outputs": [
    {
     "data": {
      "text/plain": [
       "{'Chemistry': {'Freshman': 0.51440329218107,\n",
       "  'Junior': 0.5306122448979592,\n",
       "  'Senior': 0.5580357142857143,\n",
       "  'Sophomore': 0.5961538461538461},\n",
       " 'Economics': {'Freshman': 0.2819767441860465,\n",
       "  'Junior': 0.29829545454545453,\n",
       "  'Senior': 0.352112676056338,\n",
       "  'Sophomore': 0.3201058201058201},\n",
       " 'Engineering': {'Freshman': 3.5714285714285716,\n",
       "  'Junior': 2.524193548387097,\n",
       "  'Senior': 3.129032258064516,\n",
       "  'Sophomore': 2.7857142857142856},\n",
       " 'Finance': {'Freshman': 0.8713826366559485,\n",
       "  'Junior': 0.7694915254237288,\n",
       "  'Senior': 0.7888198757763976,\n",
       "  'Sophomore': 0.9893617021276596},\n",
       " 'Math': {'Freshman': 1.6823529411764706,\n",
       "  'Junior': 2.0980392156862746,\n",
       "  'Senior': 2.3333333333333335,\n",
       "  'Sophomore': 2.8518518518518516},\n",
       " 'Physics': {'Freshman': 1.5675675675675675,\n",
       "  'Junior': 2.1139240506329116,\n",
       "  'Senior': 2.5555555555555554,\n",
       "  'Sophomore': 2.336206896551724}}"
      ]
     },
     "execution_count": 223,
     "metadata": {},
     "output_type": "execute_result"
    }
   ],
   "source": [
    "gender_ratios_by_major = {}\n",
    "for major in gender_counts_by_major:\n",
    "    major_dict = gender_counts_by_major[major]\n",
    "    ratio_dict = compute_male_female_ratios_for_major(major_dict)\n",
    "    gender_ratios_by_major[major] = ratio_dict\n",
    "gender_ratios_by_major"
   ]
  },
  {
   "cell_type": "markdown",
   "metadata": {},
   "source": [
    "6.5) Which major has the highest average gpa for men and which major has the highest gpa for women?"
   ]
  },
  {
   "cell_type": "code",
   "execution_count": 224,
   "metadata": {},
   "outputs": [
    {
     "data": {
      "text/plain": [
       "{'Female': {'Chemistry': [],\n",
       "  'Economics': [],\n",
       "  'Engineering': [],\n",
       "  'Finance': [],\n",
       "  'Math': [],\n",
       "  'Physics': []},\n",
       " 'Male': {'Chemistry': [],\n",
       "  'Economics': [],\n",
       "  'Engineering': [],\n",
       "  'Finance': [],\n",
       "  'Math': [],\n",
       "  'Physics': []}}"
      ]
     },
     "execution_count": 224,
     "metadata": {},
     "output_type": "execute_result"
    }
   ],
   "source": [
    "#Initialize the dictionary\n",
    "gpas_by_gender_and_major = {}\n",
    "for gender in unique_genders:\n",
    "    gpas_by_gender_and_major[gender] = {}\n",
    "    for major in unique_majors:\n",
    "        gpas_by_gender_and_major[gender][major] = []\n",
    "gpas_by_gender_and_major"
   ]
  },
  {
   "cell_type": "code",
   "execution_count": 225,
   "metadata": {},
   "outputs": [],
   "source": [
    "#Get all of the GPAs\n",
    "for student in student_info:\n",
    "    student_major = student['major']\n",
    "    student_gpa = student['gpa']\n",
    "    student_gender = student['gender']\n",
    "    gpas_by_gender_and_major[student_gender][student_major].append(student_gpa)"
   ]
  },
  {
   "cell_type": "code",
   "execution_count": 226,
   "metadata": {
    "collapsed": true
   },
   "outputs": [],
   "source": [
    "def compute_avg_gpa(gpa_list):\n",
    "    total = sum(gpa_list)\n",
    "    num_students = len(gpa_list)\n",
    "    avg_gpa = total / num_students\n",
    "    return avg_gpa"
   ]
  },
  {
   "cell_type": "code",
   "execution_count": 227,
   "metadata": {},
   "outputs": [
    {
     "data": {
      "text/plain": [
       "{'Female': {'Chemistry': 3.395771604938271,\n",
       "  'Economics': 3.495706666666672,\n",
       "  'Engineering': 2.9950980392156867,\n",
       "  'Finance': 3.6545289256198346,\n",
       "  'Math': 3.2684255319148945,\n",
       "  'Physics': 3.283238866396761},\n",
       " 'Male': {'Chemistry': 3.292616822429907,\n",
       "  'Economics': 3.4627484143763234,\n",
       "  'Engineering': 3.143490813648293,\n",
       "  'Finance': 3.5685354025218197,\n",
       "  'Math': 3.3156565656565675,\n",
       "  'Physics': 3.301674828599414}}"
      ]
     },
     "execution_count": 227,
     "metadata": {},
     "output_type": "execute_result"
    }
   ],
   "source": [
    "#Compute all of the gender/major avg GPAs\n",
    "avg_gpa_by_gender_and_major = {}\n",
    "for gender in unique_genders:\n",
    "    avg_gpa_by_gender_and_major[gender] = {}\n",
    "    for major in unique_majors:\n",
    "        gender_major_gpas = gpas_by_gender_and_major[gender][major]\n",
    "        avg_gpa = compute_avg_gpa(gender_major_gpas)\n",
    "        avg_gpa_by_gender_and_major[gender][major] = avg_gpa\n",
    "avg_gpa_by_gender_and_major"
   ]
  },
  {
   "cell_type": "code",
   "execution_count": 229,
   "metadata": {},
   "outputs": [
    {
     "data": {
      "text/plain": [
       "{'Female': {'highest_major': 'Finance',\n",
       "  'highest_major_gpa': 3.6545289256198346},\n",
       " 'Male': {'highest_major': 'Finance', 'highest_major_gpa': 3.5685354025218197}}"
      ]
     },
     "execution_count": 229,
     "metadata": {},
     "output_type": "execute_result"
    }
   ],
   "source": [
    "#Find highest for each gender\n",
    "highest_avg_gpa_by_gender = {}\n",
    "for gender in unique_genders:\n",
    "    highest_avg_gpa_by_gender[gender] = {}\n",
    "    gender_gpas = avg_gpa_by_gender_and_major[gender]\n",
    "    highest_gpa_dict = determine_largest_value_in_dict(gender_gpas)\n",
    "    highest_avg_gpa_by_gender[gender]['highest_major'] = highest_gpa_dict['key']\n",
    "    highest_avg_gpa_by_gender[gender]['highest_major_gpa'] = highest_gpa_dict['value']\n",
    "highest_avg_gpa_by_gender    "
   ]
  }
 ],
 "metadata": {
  "anaconda-cloud": {},
  "kernelspec": {
   "display_name": "Python 3",
   "language": "python",
   "name": "python3"
  },
  "language_info": {
   "codemirror_mode": {
    "name": "ipython",
    "version": 3
   },
   "file_extension": ".py",
   "mimetype": "text/x-python",
   "name": "python",
   "nbconvert_exporter": "python",
   "pygments_lexer": "ipython3",
   "version": "3.8.5"
  }
 },
 "nbformat": 4,
 "nbformat_minor": 1
}
