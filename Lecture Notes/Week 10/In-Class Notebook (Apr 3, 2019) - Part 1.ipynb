{
 "cells": [
  {
   "cell_type": "markdown",
   "metadata": {},
   "source": [
    "# MSDS 631 - Lecture 10 (April 3, 2019)\n",
    "\n",
    "## Basic Analysis of Stock Data\n",
    "\n",
    "So far, we have focused on learning the fundamentals of programming so that we can be in a better place to tackle problems as we encounter them. It is often the case that early-stage Data Scientists will try to memorize the steps to execute an algorithm, but they never really learn how to solve problems. Unfortunately, no two problems are alike, and there is no such thing as a \"process\" to do it. In this exercise, I will show you a few more tools that are helpful when performing analyses. You may or may not need these tools, but we are now at a point where your problems will dictate which of the the vast selection of tools you may need to use.\n",
    "\n",
    "This is a set of functions that returns all of the filepaths for data in a particular folder. This allows me to open multiple files at in succession"
   ]
  },
  {
   "cell_type": "code",
   "execution_count": 1,
   "metadata": {
    "collapsed": true
   },
   "outputs": [],
   "source": [
    "import os\n",
    "import re\n",
    "def get_file_paths(folder, full_path=True):\n",
    "    file_paths = []\n",
    "    for (dirpath, dirnames, filenames) in os.walk(folder):\n",
    "        for file_ in filenames:\n",
    "            if not re.match('\\.', file_):\n",
    "                if full_path:\n",
    "                    file_paths.append(os.path.join(dirpath, file_))\n",
    "                else:\n",
    "                    file_paths.append((dirpath, file_))\n",
    "    return file_paths\n",
    "\n",
    "\n",
    "def get_all_paths(subfolder):\n",
    "    folder = os.path.join(subfolder)\n",
    "    files = get_file_paths(folder)\n",
    "    return files"
   ]
  },
  {
   "cell_type": "code",
   "execution_count": 2,
   "metadata": {
    "collapsed": false
   },
   "outputs": [
    {
     "data": {
      "text/plain": [
       "['stock_prices/AAPL.csv',\n",
       " 'stock_prices/AMZN.csv',\n",
       " 'stock_prices/BA.csv',\n",
       " 'stock_prices/FB.csv',\n",
       " 'stock_prices/GE.csv',\n",
       " 'stock_prices/GOOG.csv']"
      ]
     },
     "execution_count": 2,
     "metadata": {},
     "output_type": "execute_result"
    }
   ],
   "source": [
    "file_paths = get_all_paths('stock_prices')\n",
    "file_paths"
   ]
  },
  {
   "cell_type": "code",
   "execution_count": 3,
   "metadata": {
    "collapsed": true
   },
   "outputs": [],
   "source": [
    "import pandas as pd\n",
    "from datetime import datetime as dt\n",
    "\n",
    "#The code below tells Jupyter to let us see plots as we generate them. Otherwise, we'd have to take additional steps\n",
    "%matplotlib inline"
   ]
  },
  {
   "cell_type": "markdown",
   "metadata": {},
   "source": [
    "Splitting strings generates a list of strings that are broken up by the character you pass the \"split\" method. In this case we would get two strings: 'stock_prices' and 'AAPL.csv'"
   ]
  },
  {
   "cell_type": "code",
   "execution_count": 4,
   "metadata": {
    "collapsed": false
   },
   "outputs": [
    {
     "name": "stdout",
     "output_type": "stream",
     "text": [
      "['stock_prices', 'AAPL.csv']\n"
     ]
    }
   ],
   "source": [
    "filename = 'stock_prices/AAPL.csv'.split('/')\n",
    "print(filename)"
   ]
  },
  {
   "cell_type": "markdown",
   "metadata": {},
   "source": [
    "If we take the second value of filename after the split, we'll have 'AAPL.csv'. Now let's get the stock ticker by splitting on the period."
   ]
  },
  {
   "cell_type": "code",
   "execution_count": 5,
   "metadata": {
    "collapsed": false
   },
   "outputs": [
    {
     "data": {
      "text/plain": [
       "'AAPL'"
      ]
     },
     "execution_count": 5,
     "metadata": {},
     "output_type": "execute_result"
    }
   ],
   "source": [
    "ticker = filename[1].split('.')[0]\n",
    "ticker"
   ]
  },
  {
   "cell_type": "markdown",
   "metadata": {},
   "source": [
    "Now that we know all of the code works, we can put it into a function so that we can call it over and over for each of the files in our directory."
   ]
  },
  {
   "cell_type": "code",
   "execution_count": 6,
   "metadata": {
    "collapsed": true
   },
   "outputs": [],
   "source": [
    "def get_ticker_from_filepath(filepath):\n",
    "    filename = filepath.split('/')[-1]\n",
    "    ticker = filename.split('.')[0]\n",
    "    return ticker"
   ]
  },
  {
   "cell_type": "code",
   "execution_count": 7,
   "metadata": {
    "collapsed": false
   },
   "outputs": [
    {
     "data": {
      "text/plain": [
       "'AAPL'"
      ]
     },
     "execution_count": 7,
     "metadata": {},
     "output_type": "execute_result"
    }
   ],
   "source": [
    "#Test the output for the first filepath\n",
    "get_ticker_from_filepath(file_paths[0])"
   ]
  },
  {
   "cell_type": "markdown",
   "metadata": {},
   "source": [
    "Now let's build a function that loads the csv as a DataFrame. At the same time we are doing that, I want to add some functionality so that we can add a column called \"ticker\" and assign its value to each row of the DataFrame."
   ]
  },
  {
   "cell_type": "code",
   "execution_count": 8,
   "metadata": {
    "collapsed": true
   },
   "outputs": [],
   "source": [
    "def get_df_from_file(filepath):\n",
    "    df = pd.read_csv(filepath)\n",
    "    ticker = get_ticker_from_filepath(filepath)\n",
    "    df['ticker'] = ticker\n",
    "    return df"
   ]
  },
  {
   "cell_type": "code",
   "execution_count": 9,
   "metadata": {
    "collapsed": false
   },
   "outputs": [
    {
     "data": {
      "text/html": [
       "<div>\n",
       "<style scoped>\n",
       "    .dataframe tbody tr th:only-of-type {\n",
       "        vertical-align: middle;\n",
       "    }\n",
       "\n",
       "    .dataframe tbody tr th {\n",
       "        vertical-align: top;\n",
       "    }\n",
       "\n",
       "    .dataframe thead th {\n",
       "        text-align: right;\n",
       "    }\n",
       "</style>\n",
       "<table border=\"1\" class=\"dataframe\">\n",
       "  <thead>\n",
       "    <tr style=\"text-align: right;\">\n",
       "      <th></th>\n",
       "      <th>Date</th>\n",
       "      <th>Open</th>\n",
       "      <th>High</th>\n",
       "      <th>Low</th>\n",
       "      <th>Close</th>\n",
       "      <th>Adj Close</th>\n",
       "      <th>Volume</th>\n",
       "      <th>ticker</th>\n",
       "    </tr>\n",
       "  </thead>\n",
       "  <tbody>\n",
       "    <tr>\n",
       "      <th>0</th>\n",
       "      <td>1980-12-12</td>\n",
       "      <td>0.513393</td>\n",
       "      <td>0.515625</td>\n",
       "      <td>0.513393</td>\n",
       "      <td>0.513393</td>\n",
       "      <td>0.023007</td>\n",
       "      <td>117258400.0</td>\n",
       "      <td>AAPL</td>\n",
       "    </tr>\n",
       "    <tr>\n",
       "      <th>1</th>\n",
       "      <td>1980-12-15</td>\n",
       "      <td>0.488839</td>\n",
       "      <td>0.488839</td>\n",
       "      <td>0.486607</td>\n",
       "      <td>0.486607</td>\n",
       "      <td>0.021807</td>\n",
       "      <td>43971200.0</td>\n",
       "      <td>AAPL</td>\n",
       "    </tr>\n",
       "    <tr>\n",
       "      <th>2</th>\n",
       "      <td>1980-12-16</td>\n",
       "      <td>0.453125</td>\n",
       "      <td>0.453125</td>\n",
       "      <td>0.450893</td>\n",
       "      <td>0.450893</td>\n",
       "      <td>0.020206</td>\n",
       "      <td>26432000.0</td>\n",
       "      <td>AAPL</td>\n",
       "    </tr>\n",
       "    <tr>\n",
       "      <th>3</th>\n",
       "      <td>1980-12-17</td>\n",
       "      <td>0.462054</td>\n",
       "      <td>0.464286</td>\n",
       "      <td>0.462054</td>\n",
       "      <td>0.462054</td>\n",
       "      <td>0.020706</td>\n",
       "      <td>21610400.0</td>\n",
       "      <td>AAPL</td>\n",
       "    </tr>\n",
       "    <tr>\n",
       "      <th>4</th>\n",
       "      <td>1980-12-18</td>\n",
       "      <td>0.475446</td>\n",
       "      <td>0.477679</td>\n",
       "      <td>0.475446</td>\n",
       "      <td>0.475446</td>\n",
       "      <td>0.021307</td>\n",
       "      <td>18362400.0</td>\n",
       "      <td>AAPL</td>\n",
       "    </tr>\n",
       "  </tbody>\n",
       "</table>\n",
       "</div>"
      ],
      "text/plain": [
       "         Date      Open      High       Low     Close  Adj Close       Volume  \\\n",
       "0  1980-12-12  0.513393  0.515625  0.513393  0.513393   0.023007  117258400.0   \n",
       "1  1980-12-15  0.488839  0.488839  0.486607  0.486607   0.021807   43971200.0   \n",
       "2  1980-12-16  0.453125  0.453125  0.450893  0.450893   0.020206   26432000.0   \n",
       "3  1980-12-17  0.462054  0.464286  0.462054  0.462054   0.020706   21610400.0   \n",
       "4  1980-12-18  0.475446  0.477679  0.475446  0.475446   0.021307   18362400.0   \n",
       "\n",
       "  ticker  \n",
       "0   AAPL  \n",
       "1   AAPL  \n",
       "2   AAPL  \n",
       "3   AAPL  \n",
       "4   AAPL  "
      ]
     },
     "execution_count": 9,
     "metadata": {},
     "output_type": "execute_result"
    }
   ],
   "source": [
    "#Let's try this once for the AAPL.csv file\n",
    "aapl = get_df_from_file(file_paths[0])\n",
    "aapl.head()"
   ]
  },
  {
   "cell_type": "code",
   "execution_count": 10,
   "metadata": {
    "collapsed": true
   },
   "outputs": [],
   "source": [
    "#Now let's open all of the files and store the DataFrames into a list\n",
    "list_of_stock_histories = []\n",
    "for f in file_paths:\n",
    "    stock_df = get_df_from_file(f)\n",
    "    list_of_stock_histories.append(stock_df)"
   ]
  },
  {
   "cell_type": "markdown",
   "metadata": {},
   "source": [
    "len(list_of_stock_histories) #There were six files in the directory"
   ]
  },
  {
   "cell_type": "markdown",
   "metadata": {},
   "source": [
    "Concatenating DataFrames allows us to take DataFrames with the same structure and stack them on top of one another. Doing so means that the index (which were the integer values of the rows) will be repeated. In order to ensure we have unique indices for each observation, we will reset the index. In this case, since we didn't need/want to keep the values of the old index, we \"drop\" it after resetting. Earlier in the class we reset the index when it was student_id. In that case skipped the \"drop\" argument so that it would return to its place as a column in the DataFrame"
   ]
  },
  {
   "cell_type": "code",
   "execution_count": 12,
   "metadata": {
    "collapsed": false
   },
   "outputs": [
    {
     "data": {
      "text/html": [
       "<div>\n",
       "<style scoped>\n",
       "    .dataframe tbody tr th:only-of-type {\n",
       "        vertical-align: middle;\n",
       "    }\n",
       "\n",
       "    .dataframe tbody tr th {\n",
       "        vertical-align: top;\n",
       "    }\n",
       "\n",
       "    .dataframe thead th {\n",
       "        text-align: right;\n",
       "    }\n",
       "</style>\n",
       "<table border=\"1\" class=\"dataframe\">\n",
       "  <thead>\n",
       "    <tr style=\"text-align: right;\">\n",
       "      <th></th>\n",
       "      <th>Date</th>\n",
       "      <th>Open</th>\n",
       "      <th>High</th>\n",
       "      <th>Low</th>\n",
       "      <th>Close</th>\n",
       "      <th>Adj Close</th>\n",
       "      <th>Volume</th>\n",
       "      <th>ticker</th>\n",
       "    </tr>\n",
       "  </thead>\n",
       "  <tbody>\n",
       "    <tr>\n",
       "      <th>0</th>\n",
       "      <td>1980-12-12</td>\n",
       "      <td>0.513393</td>\n",
       "      <td>0.515625</td>\n",
       "      <td>0.513393</td>\n",
       "      <td>0.513393</td>\n",
       "      <td>0.023007</td>\n",
       "      <td>117258400.0</td>\n",
       "      <td>AAPL</td>\n",
       "    </tr>\n",
       "    <tr>\n",
       "      <th>1</th>\n",
       "      <td>1980-12-15</td>\n",
       "      <td>0.488839</td>\n",
       "      <td>0.488839</td>\n",
       "      <td>0.486607</td>\n",
       "      <td>0.486607</td>\n",
       "      <td>0.021807</td>\n",
       "      <td>43971200.0</td>\n",
       "      <td>AAPL</td>\n",
       "    </tr>\n",
       "    <tr>\n",
       "      <th>2</th>\n",
       "      <td>1980-12-16</td>\n",
       "      <td>0.453125</td>\n",
       "      <td>0.453125</td>\n",
       "      <td>0.450893</td>\n",
       "      <td>0.450893</td>\n",
       "      <td>0.020206</td>\n",
       "      <td>26432000.0</td>\n",
       "      <td>AAPL</td>\n",
       "    </tr>\n",
       "    <tr>\n",
       "      <th>3</th>\n",
       "      <td>1980-12-17</td>\n",
       "      <td>0.462054</td>\n",
       "      <td>0.464286</td>\n",
       "      <td>0.462054</td>\n",
       "      <td>0.462054</td>\n",
       "      <td>0.020706</td>\n",
       "      <td>21610400.0</td>\n",
       "      <td>AAPL</td>\n",
       "    </tr>\n",
       "    <tr>\n",
       "      <th>4</th>\n",
       "      <td>1980-12-18</td>\n",
       "      <td>0.475446</td>\n",
       "      <td>0.477679</td>\n",
       "      <td>0.475446</td>\n",
       "      <td>0.475446</td>\n",
       "      <td>0.021307</td>\n",
       "      <td>18362400.0</td>\n",
       "      <td>AAPL</td>\n",
       "    </tr>\n",
       "  </tbody>\n",
       "</table>\n",
       "</div>"
      ],
      "text/plain": [
       "         Date      Open      High       Low     Close  Adj Close       Volume  \\\n",
       "0  1980-12-12  0.513393  0.515625  0.513393  0.513393   0.023007  117258400.0   \n",
       "1  1980-12-15  0.488839  0.488839  0.486607  0.486607   0.021807   43971200.0   \n",
       "2  1980-12-16  0.453125  0.453125  0.450893  0.450893   0.020206   26432000.0   \n",
       "3  1980-12-17  0.462054  0.464286  0.462054  0.462054   0.020706   21610400.0   \n",
       "4  1980-12-18  0.475446  0.477679  0.475446  0.475446   0.021307   18362400.0   \n",
       "\n",
       "  ticker  \n",
       "0   AAPL  \n",
       "1   AAPL  \n",
       "2   AAPL  \n",
       "3   AAPL  \n",
       "4   AAPL  "
      ]
     },
     "execution_count": 12,
     "metadata": {},
     "output_type": "execute_result"
    }
   ],
   "source": [
    "stock_histories_df = pd.concat(list_of_stock_histories)\n",
    "stock_histories_df = stock_histories_df.reset_index(drop=True)\n",
    "stock_histories_df.head()"
   ]
  },
  {
   "cell_type": "markdown",
   "metadata": {},
   "source": [
    "### Analysis 1 - Comparing Stock Performance Over Time"
   ]
  },
  {
   "cell_type": "code",
   "execution_count": 13,
   "metadata": {
    "collapsed": false
   },
   "outputs": [
    {
     "data": {
      "text/plain": [
       "(49370, 8)"
      ]
     },
     "execution_count": 13,
     "metadata": {},
     "output_type": "execute_result"
    }
   ],
   "source": [
    "#I always start by looking at the shape of my data (just like I check the length of my lists and the keys of my dicts)\n",
    "stock_histories_df.shape"
   ]
  },
  {
   "cell_type": "code",
   "execution_count": 14,
   "metadata": {
    "collapsed": false
   },
   "outputs": [
    {
     "data": {
      "text/plain": [
       "array(['AAPL', 'AMZN', 'BA', 'FB', 'GE', 'GOOG'], dtype=object)"
      ]
     },
     "execution_count": 14,
     "metadata": {},
     "output_type": "execute_result"
    }
   ],
   "source": [
    "#The unique method for a Series will tell me all of the unique values. Casting the Series as a set would do the same\n",
    "#This .unique() method will also order the output, which is sometimes handy but also unnecessary sometimes\n",
    "#NOTE: Sorting is a fairly slow process by computing standards. I avoid it when possible\n",
    "stock_histories_df['ticker'].unique()"
   ]
  },
  {
   "cell_type": "code",
   "execution_count": 15,
   "metadata": {
    "collapsed": false
   },
   "outputs": [
    {
     "data": {
      "text/plain": [
       "<matplotlib.axes._subplots.AxesSubplot at 0x11d3e6128>"
      ]
     },
     "execution_count": 15,
     "metadata": {},
     "output_type": "execute_result"
    },
    {
     "data": {
      "image/png": "[encoded data removed]",
      "text/plain": [
       "<Figure size 432x288 with 1 Axes>"
      ]
     },
     "metadata": {
      "needs_background": "light"
     },
     "output_type": "display_data"
    }
   ],
   "source": [
    "#Now we can try plotting the closing proces for all of the stocks.\n",
    "stock_histories_df['Close'].plot()"
   ]
  },
  {
   "cell_type": "markdown",
   "metadata": {},
   "source": [
    "In the code above, the plot function is using the closing prices as the y-value, but it is using the index of the combined DataFrame for the x-values. Thus, what you are seeing is essentially 6 different plots in succession.\n",
    "\n",
    "A few weeks ago I showed you the datetime library. With it you could convert strings into useful objects that told you the year, month, day, weekday, etc about any given string date. It could also compute the difference between times and many other useful methods. Unfortunately it was also slow and cumbersome with many things to memorize to convert a string to the object. Pandas has solved htat with a great tool for converting strings into dates with FAR less to provide it in the way of instructions about what you want in return (it guesses the structure of the date string so you don't have to tell it. This works well 95% of the time).\n",
    "\n",
    "The biggest advantage of to_datetime is that you can vectorize your output. Thus, if you have a Series of dates, you can convert them all without a cumbersome for-loop (and much faster than what you could yield from a for-loop).\n"
   ]
  },
  {
   "cell_type": "code",
   "execution_count": 17,
   "metadata": {
    "collapsed": true
   },
   "outputs": [],
   "source": [
    "stock_histories_df['Date'] = pd.to_datetime(stock_histories_df['Date'])"
   ]
  },
  {
   "cell_type": "code",
   "execution_count": 26,
   "metadata": {
    "collapsed": false
   },
   "outputs": [
    {
     "data": {
      "text/plain": [
       "Timestamp('1980-12-12 00:00:00')"
      ]
     },
     "execution_count": 26,
     "metadata": {},
     "output_type": "execute_result"
    }
   ],
   "source": [
    "stock_histories_df['Date'][0] #Verify that it does return a Timestamp object rather than a string"
   ]
  },
  {
   "cell_type": "markdown",
   "metadata": {},
   "source": [
    "You can do lots of nice things with timestamps in a Series. Just as we could do one-by-one on individual datetime objects, we can take entire Series of timestamps to extract a Series of years. If we wanted to, we could use this for filtering or other use cases comparing performance across several years."
   ]
  },
  {
   "cell_type": "code",
   "execution_count": 27,
   "metadata": {
    "collapsed": true
   },
   "outputs": [],
   "source": [
    "stock_histories_df['Year'] = stock_histories_df['Date'].dt.year"
   ]
  },
  {
   "cell_type": "code",
   "execution_count": 78,
   "metadata": {
    "collapsed": false
   },
   "outputs": [
    {
     "data": {
      "text/html": [
       "<div>\n",
       "<style scoped>\n",
       "    .dataframe tbody tr th:only-of-type {\n",
       "        vertical-align: middle;\n",
       "    }\n",
       "\n",
       "    .dataframe tbody tr th {\n",
       "        vertical-align: top;\n",
       "    }\n",
       "\n",
       "    .dataframe thead th {\n",
       "        text-align: right;\n",
       "    }\n",
       "</style>\n",
       "<table border=\"1\" class=\"dataframe\">\n",
       "  <thead>\n",
       "    <tr style=\"text-align: right;\">\n",
       "      <th></th>\n",
       "      <th>Date</th>\n",
       "      <th>Open</th>\n",
       "      <th>High</th>\n",
       "      <th>Low</th>\n",
       "      <th>Close</th>\n",
       "      <th>Adj Close</th>\n",
       "      <th>Volume</th>\n",
       "      <th>ticker</th>\n",
       "      <th>Year</th>\n",
       "    </tr>\n",
       "  </thead>\n",
       "  <tbody>\n",
       "    <tr>\n",
       "      <th>0</th>\n",
       "      <td>1980-12-12</td>\n",
       "      <td>0.513393</td>\n",
       "      <td>0.515625</td>\n",
       "      <td>0.513393</td>\n",
       "      <td>0.513393</td>\n",
       "      <td>0.023007</td>\n",
       "      <td>117258400.0</td>\n",
       "      <td>AAPL</td>\n",
       "      <td>1980</td>\n",
       "    </tr>\n",
       "    <tr>\n",
       "      <th>1</th>\n",
       "      <td>1980-12-15</td>\n",
       "      <td>0.488839</td>\n",
       "      <td>0.488839</td>\n",
       "      <td>0.486607</td>\n",
       "      <td>0.486607</td>\n",
       "      <td>0.021807</td>\n",
       "      <td>43971200.0</td>\n",
       "      <td>AAPL</td>\n",
       "      <td>1980</td>\n",
       "    </tr>\n",
       "    <tr>\n",
       "      <th>2</th>\n",
       "      <td>1980-12-16</td>\n",
       "      <td>0.453125</td>\n",
       "      <td>0.453125</td>\n",
       "      <td>0.450893</td>\n",
       "      <td>0.450893</td>\n",
       "      <td>0.020206</td>\n",
       "      <td>26432000.0</td>\n",
       "      <td>AAPL</td>\n",
       "      <td>1980</td>\n",
       "    </tr>\n",
       "    <tr>\n",
       "      <th>3</th>\n",
       "      <td>1980-12-17</td>\n",
       "      <td>0.462054</td>\n",
       "      <td>0.464286</td>\n",
       "      <td>0.462054</td>\n",
       "      <td>0.462054</td>\n",
       "      <td>0.020706</td>\n",
       "      <td>21610400.0</td>\n",
       "      <td>AAPL</td>\n",
       "      <td>1980</td>\n",
       "    </tr>\n",
       "    <tr>\n",
       "      <th>4</th>\n",
       "      <td>1980-12-18</td>\n",
       "      <td>0.475446</td>\n",
       "      <td>0.477679</td>\n",
       "      <td>0.475446</td>\n",
       "      <td>0.475446</td>\n",
       "      <td>0.021307</td>\n",
       "      <td>18362400.0</td>\n",
       "      <td>AAPL</td>\n",
       "      <td>1980</td>\n",
       "    </tr>\n",
       "  </tbody>\n",
       "</table>\n",
       "</div>"
      ],
      "text/plain": [
       "        Date      Open      High       Low     Close  Adj Close       Volume  \\\n",
       "0 1980-12-12  0.513393  0.515625  0.513393  0.513393   0.023007  117258400.0   \n",
       "1 1980-12-15  0.488839  0.488839  0.486607  0.486607   0.021807   43971200.0   \n",
       "2 1980-12-16  0.453125  0.453125  0.450893  0.450893   0.020206   26432000.0   \n",
       "3 1980-12-17  0.462054  0.464286  0.462054  0.462054   0.020706   21610400.0   \n",
       "4 1980-12-18  0.475446  0.477679  0.475446  0.475446   0.021307   18362400.0   \n",
       "\n",
       "  ticker  Year  \n",
       "0   AAPL  1980  \n",
       "1   AAPL  1980  \n",
       "2   AAPL  1980  \n",
       "3   AAPL  1980  \n",
       "4   AAPL  1980  "
      ]
     },
     "execution_count": 78,
     "metadata": {},
     "output_type": "execute_result"
    }
   ],
   "source": [
    "stock_histories_df.head()"
   ]
  },
  {
   "cell_type": "code",
   "execution_count": 18,
   "metadata": {
    "collapsed": true
   },
   "outputs": [],
   "source": [
    "#Here we are doing the same thing for month as we did for year. \n",
    "#We could use it to see whether any month in particular has higher volatility or lower volume\n",
    "stock_histories_df['Month'] = stock_histories_df['Date'].dt.month"
   ]
  },
  {
   "cell_type": "markdown",
   "metadata": {},
   "source": [
    "One of my favorite features of Pandas is the pivot_table. Much like excel, it takes a tall column of data and \"pivots\" it into a shorter more manageable rectangle. More importantly, it allows us to more easily compare things."
   ]
  },
  {
   "cell_type": "code",
   "execution_count": 19,
   "metadata": {
    "collapsed": true
   },
   "outputs": [],
   "source": [
    "compare_stocks_df = stock_histories_df.pivot_table(index='Date', columns='ticker', values='Close')"
   ]
  },
  {
   "cell_type": "code",
   "execution_count": 20,
   "metadata": {
    "collapsed": false
   },
   "outputs": [
    {
     "data": {
      "text/html": [
       "<div>\n",
       "<style scoped>\n",
       "    .dataframe tbody tr th:only-of-type {\n",
       "        vertical-align: middle;\n",
       "    }\n",
       "\n",
       "    .dataframe tbody tr th {\n",
       "        vertical-align: top;\n",
       "    }\n",
       "\n",
       "    .dataframe thead th {\n",
       "        text-align: right;\n",
       "    }\n",
       "</style>\n",
       "<table border=\"1\" class=\"dataframe\">\n",
       "  <thead>\n",
       "    <tr style=\"text-align: right;\">\n",
       "      <th>ticker</th>\n",
       "      <th>AAPL</th>\n",
       "      <th>AMZN</th>\n",
       "      <th>BA</th>\n",
       "      <th>FB</th>\n",
       "      <th>GE</th>\n",
       "      <th>GOOG</th>\n",
       "    </tr>\n",
       "    <tr>\n",
       "      <th>Date</th>\n",
       "      <th></th>\n",
       "      <th></th>\n",
       "      <th></th>\n",
       "      <th></th>\n",
       "      <th></th>\n",
       "      <th></th>\n",
       "    </tr>\n",
       "  </thead>\n",
       "  <tbody>\n",
       "    <tr>\n",
       "      <th>1962-01-02</th>\n",
       "      <td>NaN</td>\n",
       "      <td>NaN</td>\n",
       "      <td>0.823045</td>\n",
       "      <td>NaN</td>\n",
       "      <td>0.748698</td>\n",
       "      <td>NaN</td>\n",
       "    </tr>\n",
       "    <tr>\n",
       "      <th>1962-01-03</th>\n",
       "      <td>NaN</td>\n",
       "      <td>NaN</td>\n",
       "      <td>0.839506</td>\n",
       "      <td>NaN</td>\n",
       "      <td>0.741186</td>\n",
       "      <td>NaN</td>\n",
       "    </tr>\n",
       "    <tr>\n",
       "      <th>1962-01-04</th>\n",
       "      <td>NaN</td>\n",
       "      <td>NaN</td>\n",
       "      <td>0.831276</td>\n",
       "      <td>NaN</td>\n",
       "      <td>0.732422</td>\n",
       "      <td>NaN</td>\n",
       "    </tr>\n",
       "    <tr>\n",
       "      <th>1962-01-05</th>\n",
       "      <td>NaN</td>\n",
       "      <td>NaN</td>\n",
       "      <td>0.814815</td>\n",
       "      <td>NaN</td>\n",
       "      <td>0.713642</td>\n",
       "      <td>NaN</td>\n",
       "    </tr>\n",
       "    <tr>\n",
       "      <th>1962-01-08</th>\n",
       "      <td>NaN</td>\n",
       "      <td>NaN</td>\n",
       "      <td>0.816872</td>\n",
       "      <td>NaN</td>\n",
       "      <td>0.712390</td>\n",
       "      <td>NaN</td>\n",
       "    </tr>\n",
       "  </tbody>\n",
       "</table>\n",
       "</div>"
      ],
      "text/plain": [
       "ticker      AAPL  AMZN        BA  FB        GE  GOOG\n",
       "Date                                                \n",
       "1962-01-02   NaN   NaN  0.823045 NaN  0.748698   NaN\n",
       "1962-01-03   NaN   NaN  0.839506 NaN  0.741186   NaN\n",
       "1962-01-04   NaN   NaN  0.831276 NaN  0.732422   NaN\n",
       "1962-01-05   NaN   NaN  0.814815 NaN  0.713642   NaN\n",
       "1962-01-08   NaN   NaN  0.816872 NaN  0.712390   NaN"
      ]
     },
     "execution_count": 20,
     "metadata": {},
     "output_type": "execute_result"
    }
   ],
   "source": [
    "compare_stocks_df.head()"
   ]
  },
  {
   "cell_type": "markdown",
   "metadata": {},
   "source": [
    "In this case, the index contains all of the dates that were provided to it. Since GE and Boeing have been around for many many decades, they have much more stock history than our more recent tech giants. Rather than throw away data, Pandas shows you what you've got and just says \"I have no data\" for all of the instances where data simply does not exist.\n",
    "\n",
    "We could go ahead and work with what we've got, but since our objective is to compare data across all six companies, we're going to focus only on rows where we have data for ALL of our companies. In this case, we will use the dropna() method for the DataFrame."
   ]
  },
  {
   "cell_type": "code",
   "execution_count": 21,
   "metadata": {
    "collapsed": true
   },
   "outputs": [],
   "source": [
    "compare_stocks_df = compare_stocks_df.dropna()"
   ]
  },
  {
   "cell_type": "code",
   "execution_count": 23,
   "metadata": {
    "collapsed": false
   },
   "outputs": [
    {
     "data": {
      "text/html": [
       "<div>\n",
       "<style scoped>\n",
       "    .dataframe tbody tr th:only-of-type {\n",
       "        vertical-align: middle;\n",
       "    }\n",
       "\n",
       "    .dataframe tbody tr th {\n",
       "        vertical-align: top;\n",
       "    }\n",
       "\n",
       "    .dataframe thead th {\n",
       "        text-align: right;\n",
       "    }\n",
       "</style>\n",
       "<table border=\"1\" class=\"dataframe\">\n",
       "  <thead>\n",
       "    <tr style=\"text-align: right;\">\n",
       "      <th>ticker</th>\n",
       "      <th>AAPL</th>\n",
       "      <th>AMZN</th>\n",
       "      <th>BA</th>\n",
       "      <th>FB</th>\n",
       "      <th>GE</th>\n",
       "      <th>GOOG</th>\n",
       "    </tr>\n",
       "    <tr>\n",
       "      <th>Date</th>\n",
       "      <th></th>\n",
       "      <th></th>\n",
       "      <th></th>\n",
       "      <th></th>\n",
       "      <th></th>\n",
       "      <th></th>\n",
       "    </tr>\n",
       "  </thead>\n",
       "  <tbody>\n",
       "    <tr>\n",
       "      <th>2012-05-18</th>\n",
       "      <td>75.768570</td>\n",
       "      <td>213.850006</td>\n",
       "      <td>69.150002</td>\n",
       "      <td>38.230000</td>\n",
       "      <td>18.221153</td>\n",
       "      <td>298.260101</td>\n",
       "    </tr>\n",
       "    <tr>\n",
       "      <th>2012-05-21</th>\n",
       "      <td>80.182854</td>\n",
       "      <td>218.110001</td>\n",
       "      <td>71.779999</td>\n",
       "      <td>34.029999</td>\n",
       "      <td>18.384615</td>\n",
       "      <td>305.070801</td>\n",
       "    </tr>\n",
       "    <tr>\n",
       "      <th>2012-05-22</th>\n",
       "      <td>79.567146</td>\n",
       "      <td>215.330002</td>\n",
       "      <td>71.480003</td>\n",
       "      <td>31.000000</td>\n",
       "      <td>18.442308</td>\n",
       "      <td>298.458801</td>\n",
       "    </tr>\n",
       "    <tr>\n",
       "      <th>2012-05-23</th>\n",
       "      <td>81.508568</td>\n",
       "      <td>217.279999</td>\n",
       "      <td>71.570000</td>\n",
       "      <td>32.000000</td>\n",
       "      <td>18.442308</td>\n",
       "      <td>302.760834</td>\n",
       "    </tr>\n",
       "    <tr>\n",
       "      <th>2012-05-24</th>\n",
       "      <td>80.760002</td>\n",
       "      <td>215.240005</td>\n",
       "      <td>71.389999</td>\n",
       "      <td>33.029999</td>\n",
       "      <td>18.509615</td>\n",
       "      <td>299.879578</td>\n",
       "    </tr>\n",
       "  </tbody>\n",
       "</table>\n",
       "</div>"
      ],
      "text/plain": [
       "ticker           AAPL        AMZN         BA         FB         GE        GOOG\n",
       "Date                                                                          \n",
       "2012-05-18  75.768570  213.850006  69.150002  38.230000  18.221153  298.260101\n",
       "2012-05-21  80.182854  218.110001  71.779999  34.029999  18.384615  305.070801\n",
       "2012-05-22  79.567146  215.330002  71.480003  31.000000  18.442308  298.458801\n",
       "2012-05-23  81.508568  217.279999  71.570000  32.000000  18.442308  302.760834\n",
       "2012-05-24  80.760002  215.240005  71.389999  33.029999  18.509615  299.879578"
      ]
     },
     "execution_count": 23,
     "metadata": {},
     "output_type": "execute_result"
    }
   ],
   "source": [
    "#We now have data for all of our stock symbols.\n",
    "compare_stocks_df.head()"
   ]
  },
  {
   "cell_type": "code",
   "execution_count": 24,
   "metadata": {
    "collapsed": false
   },
   "outputs": [
    {
     "data": {
      "text/plain": [
       "(1724, 6)"
      ]
     },
     "execution_count": 24,
     "metadata": {},
     "output_type": "execute_result"
    }
   ],
   "source": [
    "compare_stocks_df.shape"
   ]
  },
  {
   "cell_type": "code",
   "execution_count": 25,
   "metadata": {
    "collapsed": false
   },
   "outputs": [
    {
     "data": {
      "text/plain": [
       "<matplotlib.axes._subplots.AxesSubplot at 0x11b9c2be0>"
      ]
     },
     "execution_count": 25,
     "metadata": {},
     "output_type": "execute_result"
    },
    {
     "data": {
      "image/png": "[encoded data removed]",
      "text/plain": [
       "<Figure size 432x288 with 1 Axes>"
      ]
     },
     "metadata": {
      "needs_background": "light"
     },
     "output_type": "display_data"
    }
   ],
   "source": [
    "#NOW we can plot everybody on top of one another. THIS is a more useful plot to see growth since early 2012.\n",
    "compare_stocks_df.plot()"
   ]
  },
  {
   "cell_type": "markdown",
   "metadata": {},
   "source": [
    "It is not \"fair\" to compare stock prices for disparately priced stocks. A common way to measure stocks in a normalized fashion is to measure the percent change over time. In this case, we could simply compute the percent difference between the first date of the DataFrame and every other date in the DataFrame.\n",
    "\n",
    "We start by getting the data from the first date. Below I show you two ways."
   ]
  },
  {
   "cell_type": "code",
   "execution_count": 26,
   "metadata": {
    "collapsed": false
   },
   "outputs": [
    {
     "data": {
      "text/plain": [
       "ticker\n",
       "AAPL     75.768570\n",
       "AMZN    213.850006\n",
       "BA       69.150002\n",
       "FB       38.230000\n",
       "GE       18.221153\n",
       "GOOG    298.260101\n",
       "Name: 2012-05-18 00:00:00, dtype: float64"
      ]
     },
     "execution_count": 26,
     "metadata": {},
     "output_type": "execute_result"
    }
   ],
   "source": [
    "compare_stocks_df.loc[dt(2012,5,18)]"
   ]
  },
  {
   "cell_type": "code",
   "execution_count": 27,
   "metadata": {
    "collapsed": false
   },
   "outputs": [
    {
     "data": {
      "text/plain": [
       "ticker\n",
       "AAPL     75.768570\n",
       "AMZN    213.850006\n",
       "BA       69.150002\n",
       "FB       38.230000\n",
       "GE       18.221153\n",
       "GOOG    298.260101\n",
       "Name: 2012-05-18 00:00:00, dtype: float64"
      ]
     },
     "execution_count": 27,
     "metadata": {},
     "output_type": "execute_result"
    }
   ],
   "source": [
    "compare_stocks_df.iloc[0]"
   ]
  },
  {
   "cell_type": "markdown",
   "metadata": {},
   "source": [
    "Now we can use vectorization and all of Pandas' handy built-in smarts to know that it wants to divide each row by our Series of prices from the first date."
   ]
  },
  {
   "cell_type": "code",
   "execution_count": 28,
   "metadata": {
    "collapsed": true
   },
   "outputs": [],
   "source": [
    "normalized_df = compare_stocks_df / compare_stocks_df.iloc[0]"
   ]
  },
  {
   "cell_type": "code",
   "execution_count": 29,
   "metadata": {
    "collapsed": false
   },
   "outputs": [
    {
     "data": {
      "text/html": [
       "<div>\n",
       "<style scoped>\n",
       "    .dataframe tbody tr th:only-of-type {\n",
       "        vertical-align: middle;\n",
       "    }\n",
       "\n",
       "    .dataframe tbody tr th {\n",
       "        vertical-align: top;\n",
       "    }\n",
       "\n",
       "    .dataframe thead th {\n",
       "        text-align: right;\n",
       "    }\n",
       "</style>\n",
       "<table border=\"1\" class=\"dataframe\">\n",
       "  <thead>\n",
       "    <tr style=\"text-align: right;\">\n",
       "      <th>ticker</th>\n",
       "      <th>AAPL</th>\n",
       "      <th>AMZN</th>\n",
       "      <th>BA</th>\n",
       "      <th>FB</th>\n",
       "      <th>GE</th>\n",
       "      <th>GOOG</th>\n",
       "    </tr>\n",
       "    <tr>\n",
       "      <th>Date</th>\n",
       "      <th></th>\n",
       "      <th></th>\n",
       "      <th></th>\n",
       "      <th></th>\n",
       "      <th></th>\n",
       "      <th></th>\n",
       "    </tr>\n",
       "  </thead>\n",
       "  <tbody>\n",
       "    <tr>\n",
       "      <th>2012-05-18</th>\n",
       "      <td>1.000000</td>\n",
       "      <td>1.000000</td>\n",
       "      <td>1.000000</td>\n",
       "      <td>1.000000</td>\n",
       "      <td>1.000000</td>\n",
       "      <td>1.000000</td>\n",
       "    </tr>\n",
       "    <tr>\n",
       "      <th>2012-05-21</th>\n",
       "      <td>1.058260</td>\n",
       "      <td>1.019920</td>\n",
       "      <td>1.038033</td>\n",
       "      <td>0.890139</td>\n",
       "      <td>1.008971</td>\n",
       "      <td>1.022835</td>\n",
       "    </tr>\n",
       "    <tr>\n",
       "      <th>2012-05-22</th>\n",
       "      <td>1.050134</td>\n",
       "      <td>1.006921</td>\n",
       "      <td>1.033695</td>\n",
       "      <td>0.810882</td>\n",
       "      <td>1.012137</td>\n",
       "      <td>1.000666</td>\n",
       "    </tr>\n",
       "    <tr>\n",
       "      <th>2012-05-23</th>\n",
       "      <td>1.075757</td>\n",
       "      <td>1.016039</td>\n",
       "      <td>1.034996</td>\n",
       "      <td>0.837039</td>\n",
       "      <td>1.012137</td>\n",
       "      <td>1.015090</td>\n",
       "    </tr>\n",
       "    <tr>\n",
       "      <th>2012-05-24</th>\n",
       "      <td>1.065877</td>\n",
       "      <td>1.006500</td>\n",
       "      <td>1.032393</td>\n",
       "      <td>0.863981</td>\n",
       "      <td>1.015831</td>\n",
       "      <td>1.005430</td>\n",
       "    </tr>\n",
       "    <tr>\n",
       "      <th>2012-05-25</th>\n",
       "      <td>1.060164</td>\n",
       "      <td>0.995511</td>\n",
       "      <td>1.012292</td>\n",
       "      <td>0.834685</td>\n",
       "      <td>1.013193</td>\n",
       "      <td>0.985227</td>\n",
       "    </tr>\n",
       "    <tr>\n",
       "      <th>2012-05-29</th>\n",
       "      <td>1.078981</td>\n",
       "      <td>1.004209</td>\n",
       "      <td>1.018077</td>\n",
       "      <td>0.754381</td>\n",
       "      <td>1.021108</td>\n",
       "      <td>0.989907</td>\n",
       "    </tr>\n",
       "    <tr>\n",
       "      <th>2012-05-30</th>\n",
       "      <td>1.091991</td>\n",
       "      <td>0.978396</td>\n",
       "      <td>1.003471</td>\n",
       "      <td>0.737379</td>\n",
       "      <td>1.004749</td>\n",
       "      <td>0.979730</td>\n",
       "    </tr>\n",
       "    <tr>\n",
       "      <th>2012-05-31</th>\n",
       "      <td>1.089276</td>\n",
       "      <td>0.995604</td>\n",
       "      <td>1.006652</td>\n",
       "      <td>0.774261</td>\n",
       "      <td>1.007388</td>\n",
       "      <td>0.967455</td>\n",
       "    </tr>\n",
       "    <tr>\n",
       "      <th>2012-06-01</th>\n",
       "      <td>1.057713</td>\n",
       "      <td>0.973673</td>\n",
       "      <td>0.972379</td>\n",
       "      <td>0.725085</td>\n",
       "      <td>0.978364</td>\n",
       "      <td>0.950999</td>\n",
       "    </tr>\n",
       "    <tr>\n",
       "      <th>2012-06-04</th>\n",
       "      <td>1.063935</td>\n",
       "      <td>1.003367</td>\n",
       "      <td>0.976139</td>\n",
       "      <td>0.703636</td>\n",
       "      <td>0.957784</td>\n",
       "      <td>0.963674</td>\n",
       "    </tr>\n",
       "    <tr>\n",
       "      <th>2012-06-05</th>\n",
       "      <td>1.061183</td>\n",
       "      <td>0.997007</td>\n",
       "      <td>0.977296</td>\n",
       "      <td>0.676694</td>\n",
       "      <td>0.962533</td>\n",
       "      <td>0.950050</td>\n",
       "    </tr>\n",
       "    <tr>\n",
       "      <th>2012-06-06</th>\n",
       "      <td>1.077454</td>\n",
       "      <td>1.017723</td>\n",
       "      <td>0.998120</td>\n",
       "      <td>0.701282</td>\n",
       "      <td>0.996306</td>\n",
       "      <td>0.966972</td>\n",
       "    </tr>\n",
       "    <tr>\n",
       "      <th>2012-06-07</th>\n",
       "      <td>1.077944</td>\n",
       "      <td>1.023147</td>\n",
       "      <td>1.011569</td>\n",
       "      <td>0.688203</td>\n",
       "      <td>1.002639</td>\n",
       "      <td>0.963075</td>\n",
       "    </tr>\n",
       "    <tr>\n",
       "      <th>2012-06-08</th>\n",
       "      <td>1.094159</td>\n",
       "      <td>1.021651</td>\n",
       "      <td>1.011424</td>\n",
       "      <td>0.708867</td>\n",
       "      <td>1.013193</td>\n",
       "      <td>0.966772</td>\n",
       "    </tr>\n",
       "    <tr>\n",
       "      <th>2012-06-11</th>\n",
       "      <td>1.076907</td>\n",
       "      <td>1.012392</td>\n",
       "      <td>1.013883</td>\n",
       "      <td>0.706513</td>\n",
       "      <td>1.008443</td>\n",
       "      <td>0.946869</td>\n",
       "    </tr>\n",
       "    <tr>\n",
       "      <th>2012-06-12</th>\n",
       "      <td>1.086315</td>\n",
       "      <td>1.012018</td>\n",
       "      <td>1.049602</td>\n",
       "      <td>0.716715</td>\n",
       "      <td>1.027968</td>\n",
       "      <td>0.941206</td>\n",
       "    </tr>\n",
       "    <tr>\n",
       "      <th>2012-06-13</th>\n",
       "      <td>1.078774</td>\n",
       "      <td>1.004115</td>\n",
       "      <td>1.042082</td>\n",
       "      <td>0.713314</td>\n",
       "      <td>1.022164</td>\n",
       "      <td>0.934527</td>\n",
       "    </tr>\n",
       "    <tr>\n",
       "      <th>2012-06-14</th>\n",
       "      <td>1.077586</td>\n",
       "      <td>1.002806</td>\n",
       "      <td>1.039045</td>\n",
       "      <td>0.739995</td>\n",
       "      <td>1.040633</td>\n",
       "      <td>0.931129</td>\n",
       "    </tr>\n",
       "    <tr>\n",
       "      <th>2012-06-15</th>\n",
       "      <td>1.082488</td>\n",
       "      <td>1.021043</td>\n",
       "      <td>1.041070</td>\n",
       "      <td>0.784986</td>\n",
       "      <td>1.055409</td>\n",
       "      <td>0.940223</td>\n",
       "    </tr>\n",
       "  </tbody>\n",
       "</table>\n",
       "</div>"
      ],
      "text/plain": [
       "ticker          AAPL      AMZN        BA        FB        GE      GOOG\n",
       "Date                                                                  \n",
       "2012-05-18  1.000000  1.000000  1.000000  1.000000  1.000000  1.000000\n",
       "2012-05-21  1.058260  1.019920  1.038033  0.890139  1.008971  1.022835\n",
       "2012-05-22  1.050134  1.006921  1.033695  0.810882  1.012137  1.000666\n",
       "2012-05-23  1.075757  1.016039  1.034996  0.837039  1.012137  1.015090\n",
       "2012-05-24  1.065877  1.006500  1.032393  0.863981  1.015831  1.005430\n",
       "2012-05-25  1.060164  0.995511  1.012292  0.834685  1.013193  0.985227\n",
       "2012-05-29  1.078981  1.004209  1.018077  0.754381  1.021108  0.989907\n",
       "2012-05-30  1.091991  0.978396  1.003471  0.737379  1.004749  0.979730\n",
       "2012-05-31  1.089276  0.995604  1.006652  0.774261  1.007388  0.967455\n",
       "2012-06-01  1.057713  0.973673  0.972379  0.725085  0.978364  0.950999\n",
       "2012-06-04  1.063935  1.003367  0.976139  0.703636  0.957784  0.963674\n",
       "2012-06-05  1.061183  0.997007  0.977296  0.676694  0.962533  0.950050\n",
       "2012-06-06  1.077454  1.017723  0.998120  0.701282  0.996306  0.966972\n",
       "2012-06-07  1.077944  1.023147  1.011569  0.688203  1.002639  0.963075\n",
       "2012-06-08  1.094159  1.021651  1.011424  0.708867  1.013193  0.966772\n",
       "2012-06-11  1.076907  1.012392  1.013883  0.706513  1.008443  0.946869\n",
       "2012-06-12  1.086315  1.012018  1.049602  0.716715  1.027968  0.941206\n",
       "2012-06-13  1.078774  1.004115  1.042082  0.713314  1.022164  0.934527\n",
       "2012-06-14  1.077586  1.002806  1.039045  0.739995  1.040633  0.931129\n",
       "2012-06-15  1.082488  1.021043  1.041070  0.784986  1.055409  0.940223"
      ]
     },
     "execution_count": 29,
     "metadata": {},
     "output_type": "execute_result"
    }
   ],
   "source": [
    "normalized_df.head(20)"
   ]
  },
  {
   "cell_type": "code",
   "execution_count": 30,
   "metadata": {
    "collapsed": false
   },
   "outputs": [
    {
     "data": {
      "text/plain": [
       "<matplotlib.axes._subplots.AxesSubplot at 0x11ce563c8>"
      ]
     },
     "execution_count": 30,
     "metadata": {},
     "output_type": "execute_result"
    },
    {
     "data": {
      "image/png": "[encoded data removed]",
      "text/plain": [
       "<Figure size 432x288 with 1 Axes>"
      ]
     },
     "metadata": {
      "needs_background": "light"
     },
     "output_type": "display_data"
    }
   ],
   "source": [
    "#This is more interesting and representative of what actually happened\n",
    "normalized_df.plot()"
   ]
  },
  {
   "cell_type": "markdown",
   "metadata": {},
   "source": [
    "Now that we've done it once, we should build a function to compute the percent price changes for ANY date range."
   ]
  },
  {
   "cell_type": "code",
   "execution_count": 34,
   "metadata": {
    "collapsed": true
   },
   "outputs": [],
   "source": [
    "def plot_diff_between_dates(compare_stocks_df, start_date, end_date):\n",
    "    start_filt = compare_stocks_df.index >= start_date\n",
    "    end_filt = compare_stocks_df.index <= end_date\n",
    "    subset_df = compare_stocks_df[start_filt & end_filt]\n",
    "    beginning_prices = subset_df.iloc[0]\n",
    "    normalized_df = subset_df / beginning_prices\n",
    "    normalized_df.plot()"
   ]
  },
  {
   "cell_type": "code",
   "execution_count": 35,
   "metadata": {
    "collapsed": false
   },
   "outputs": [
    {
     "data": {
      "image/png": "[encoded data removed]",
      "text/plain": [
       "<Figure size 432x288 with 1 Axes>"
      ]
     },
     "metadata": {
      "needs_background": "light"
     },
     "output_type": "display_data"
    }
   ],
   "source": [
    "plot_diff_between_dates(compare_stocks_df, dt(2016, 10,1), dt(2016,12,31))"
   ]
  },
  {
   "cell_type": "markdown",
   "metadata": {},
   "source": [
    "### Analysis 2 - Finding stocks' price on first trading day of each month\n",
    "Let's do some slightly harder stuff using aggregations and joins.\n",
    "\n",
    "If I wanted to know what the stock price was on the first day of each month for every year, I could just try to make an assumption that I'm going to literally take January 1, February 1, March 1, etc for every month for every year. Unfortunately there are many reasons why this would not work. First of all, January 1 is a National holiday in the U.S. and stocks aren't traded. Also, the first of the month will often fall on weekends. So I'm going to do some trickery to figure out what the closing stock price was on the first eligible trading day of each month throughout the period of data we have.\n",
    "\n",
    "We'll start back with our **`compare_stocks_df`**"
   ]
  },
  {
   "cell_type": "code",
   "execution_count": 36,
   "metadata": {
    "collapsed": false
   },
   "outputs": [
    {
     "data": {
      "text/html": [
       "<div>\n",
       "<style scoped>\n",
       "    .dataframe tbody tr th:only-of-type {\n",
       "        vertical-align: middle;\n",
       "    }\n",
       "\n",
       "    .dataframe tbody tr th {\n",
       "        vertical-align: top;\n",
       "    }\n",
       "\n",
       "    .dataframe thead th {\n",
       "        text-align: right;\n",
       "    }\n",
       "</style>\n",
       "<table border=\"1\" class=\"dataframe\">\n",
       "  <thead>\n",
       "    <tr style=\"text-align: right;\">\n",
       "      <th>ticker</th>\n",
       "      <th>AAPL</th>\n",
       "      <th>AMZN</th>\n",
       "      <th>BA</th>\n",
       "      <th>FB</th>\n",
       "      <th>GE</th>\n",
       "      <th>GOOG</th>\n",
       "    </tr>\n",
       "    <tr>\n",
       "      <th>Date</th>\n",
       "      <th></th>\n",
       "      <th></th>\n",
       "      <th></th>\n",
       "      <th></th>\n",
       "      <th></th>\n",
       "      <th></th>\n",
       "    </tr>\n",
       "  </thead>\n",
       "  <tbody>\n",
       "    <tr>\n",
       "      <th>2012-05-18</th>\n",
       "      <td>75.768570</td>\n",
       "      <td>213.850006</td>\n",
       "      <td>69.150002</td>\n",
       "      <td>38.230000</td>\n",
       "      <td>18.221153</td>\n",
       "      <td>298.260101</td>\n",
       "    </tr>\n",
       "    <tr>\n",
       "      <th>2012-05-21</th>\n",
       "      <td>80.182854</td>\n",
       "      <td>218.110001</td>\n",
       "      <td>71.779999</td>\n",
       "      <td>34.029999</td>\n",
       "      <td>18.384615</td>\n",
       "      <td>305.070801</td>\n",
       "    </tr>\n",
       "    <tr>\n",
       "      <th>2012-05-22</th>\n",
       "      <td>79.567146</td>\n",
       "      <td>215.330002</td>\n",
       "      <td>71.480003</td>\n",
       "      <td>31.000000</td>\n",
       "      <td>18.442308</td>\n",
       "      <td>298.458801</td>\n",
       "    </tr>\n",
       "    <tr>\n",
       "      <th>2012-05-23</th>\n",
       "      <td>81.508568</td>\n",
       "      <td>217.279999</td>\n",
       "      <td>71.570000</td>\n",
       "      <td>32.000000</td>\n",
       "      <td>18.442308</td>\n",
       "      <td>302.760834</td>\n",
       "    </tr>\n",
       "    <tr>\n",
       "      <th>2012-05-24</th>\n",
       "      <td>80.760002</td>\n",
       "      <td>215.240005</td>\n",
       "      <td>71.389999</td>\n",
       "      <td>33.029999</td>\n",
       "      <td>18.509615</td>\n",
       "      <td>299.879578</td>\n",
       "    </tr>\n",
       "  </tbody>\n",
       "</table>\n",
       "</div>"
      ],
      "text/plain": [
       "ticker           AAPL        AMZN         BA         FB         GE        GOOG\n",
       "Date                                                                          \n",
       "2012-05-18  75.768570  213.850006  69.150002  38.230000  18.221153  298.260101\n",
       "2012-05-21  80.182854  218.110001  71.779999  34.029999  18.384615  305.070801\n",
       "2012-05-22  79.567146  215.330002  71.480003  31.000000  18.442308  298.458801\n",
       "2012-05-23  81.508568  217.279999  71.570000  32.000000  18.442308  302.760834\n",
       "2012-05-24  80.760002  215.240005  71.389999  33.029999  18.509615  299.879578"
      ]
     },
     "execution_count": 36,
     "metadata": {},
     "output_type": "execute_result"
    }
   ],
   "source": [
    "compare_stocks_df.head()"
   ]
  },
  {
   "cell_type": "markdown",
   "metadata": {},
   "source": [
    "I'm going to go ahead and reset my index (and NOT drop the value because I want to keep it) so that I can do some timestamp stuff to it (You cannot use most expected methods when your data is in the index)."
   ]
  },
  {
   "cell_type": "code",
   "execution_count": 38,
   "metadata": {
    "collapsed": false
   },
   "outputs": [
    {
     "data": {
      "text/html": [
       "<div>\n",
       "<style scoped>\n",
       "    .dataframe tbody tr th:only-of-type {\n",
       "        vertical-align: middle;\n",
       "    }\n",
       "\n",
       "    .dataframe tbody tr th {\n",
       "        vertical-align: top;\n",
       "    }\n",
       "\n",
       "    .dataframe thead th {\n",
       "        text-align: right;\n",
       "    }\n",
       "</style>\n",
       "<table border=\"1\" class=\"dataframe\">\n",
       "  <thead>\n",
       "    <tr style=\"text-align: right;\">\n",
       "      <th>ticker</th>\n",
       "      <th>index</th>\n",
       "      <th>Date</th>\n",
       "      <th>AAPL</th>\n",
       "      <th>AMZN</th>\n",
       "      <th>BA</th>\n",
       "      <th>FB</th>\n",
       "      <th>GE</th>\n",
       "      <th>GOOG</th>\n",
       "    </tr>\n",
       "  </thead>\n",
       "  <tbody>\n",
       "    <tr>\n",
       "      <th>0</th>\n",
       "      <td>0</td>\n",
       "      <td>2012-05-18</td>\n",
       "      <td>75.768570</td>\n",
       "      <td>213.850006</td>\n",
       "      <td>69.150002</td>\n",
       "      <td>38.230000</td>\n",
       "      <td>18.221153</td>\n",
       "      <td>298.260101</td>\n",
       "    </tr>\n",
       "    <tr>\n",
       "      <th>1</th>\n",
       "      <td>1</td>\n",
       "      <td>2012-05-21</td>\n",
       "      <td>80.182854</td>\n",
       "      <td>218.110001</td>\n",
       "      <td>71.779999</td>\n",
       "      <td>34.029999</td>\n",
       "      <td>18.384615</td>\n",
       "      <td>305.070801</td>\n",
       "    </tr>\n",
       "    <tr>\n",
       "      <th>2</th>\n",
       "      <td>2</td>\n",
       "      <td>2012-05-22</td>\n",
       "      <td>79.567146</td>\n",
       "      <td>215.330002</td>\n",
       "      <td>71.480003</td>\n",
       "      <td>31.000000</td>\n",
       "      <td>18.442308</td>\n",
       "      <td>298.458801</td>\n",
       "    </tr>\n",
       "    <tr>\n",
       "      <th>3</th>\n",
       "      <td>3</td>\n",
       "      <td>2012-05-23</td>\n",
       "      <td>81.508568</td>\n",
       "      <td>217.279999</td>\n",
       "      <td>71.570000</td>\n",
       "      <td>32.000000</td>\n",
       "      <td>18.442308</td>\n",
       "      <td>302.760834</td>\n",
       "    </tr>\n",
       "    <tr>\n",
       "      <th>4</th>\n",
       "      <td>4</td>\n",
       "      <td>2012-05-24</td>\n",
       "      <td>80.760002</td>\n",
       "      <td>215.240005</td>\n",
       "      <td>71.389999</td>\n",
       "      <td>33.029999</td>\n",
       "      <td>18.509615</td>\n",
       "      <td>299.879578</td>\n",
       "    </tr>\n",
       "  </tbody>\n",
       "</table>\n",
       "</div>"
      ],
      "text/plain": [
       "ticker  index       Date       AAPL        AMZN         BA         FB  \\\n",
       "0           0 2012-05-18  75.768570  213.850006  69.150002  38.230000   \n",
       "1           1 2012-05-21  80.182854  218.110001  71.779999  34.029999   \n",
       "2           2 2012-05-22  79.567146  215.330002  71.480003  31.000000   \n",
       "3           3 2012-05-23  81.508568  217.279999  71.570000  32.000000   \n",
       "4           4 2012-05-24  80.760002  215.240005  71.389999  33.029999   \n",
       "\n",
       "ticker         GE        GOOG  \n",
       "0       18.221153  298.260101  \n",
       "1       18.384615  305.070801  \n",
       "2       18.442308  298.458801  \n",
       "3       18.442308  302.760834  \n",
       "4       18.509615  299.879578  "
      ]
     },
     "execution_count": 38,
     "metadata": {},
     "output_type": "execute_result"
    }
   ],
   "source": [
    "compare_stocks_df = compare_stocks_df.reset_index()\n",
    "compare_stocks_df.head()\n",
    "#Ignore the 'ticker' showing in the DataFrame. It's an artifact of the pivot_table."
   ]
  },
  {
   "cell_type": "markdown",
   "metadata": {},
   "source": [
    "Now I want to get the year, month and date of every row."
   ]
  },
  {
   "cell_type": "code",
   "execution_count": 42,
   "metadata": {
    "collapsed": false
   },
   "outputs": [],
   "source": [
    "compare_stocks_df['year'] = compare_stocks_df['Date'].dt.year\n",
    "compare_stocks_df['month'] = compare_stocks_df['Date'].dt.month\n",
    "compare_stocks_df['day'] = compare_stocks_df['Date'].dt.day"
   ]
  },
  {
   "cell_type": "code",
   "execution_count": 43,
   "metadata": {
    "collapsed": false
   },
   "outputs": [
    {
     "data": {
      "text/html": [
       "<div>\n",
       "<style scoped>\n",
       "    .dataframe tbody tr th:only-of-type {\n",
       "        vertical-align: middle;\n",
       "    }\n",
       "\n",
       "    .dataframe tbody tr th {\n",
       "        vertical-align: top;\n",
       "    }\n",
       "\n",
       "    .dataframe thead th {\n",
       "        text-align: right;\n",
       "    }\n",
       "</style>\n",
       "<table border=\"1\" class=\"dataframe\">\n",
       "  <thead>\n",
       "    <tr style=\"text-align: right;\">\n",
       "      <th>ticker</th>\n",
       "      <th>Date</th>\n",
       "      <th>AAPL</th>\n",
       "      <th>AMZN</th>\n",
       "      <th>BA</th>\n",
       "      <th>FB</th>\n",
       "      <th>GE</th>\n",
       "      <th>GOOG</th>\n",
       "      <th>year</th>\n",
       "      <th>month</th>\n",
       "      <th>day</th>\n",
       "    </tr>\n",
       "  </thead>\n",
       "  <tbody>\n",
       "    <tr>\n",
       "      <th>0</th>\n",
       "      <td>2012-05-18</td>\n",
       "      <td>75.768570</td>\n",
       "      <td>213.850006</td>\n",
       "      <td>69.150002</td>\n",
       "      <td>38.230000</td>\n",
       "      <td>18.221153</td>\n",
       "      <td>298.260101</td>\n",
       "      <td>2012</td>\n",
       "      <td>5</td>\n",
       "      <td>18</td>\n",
       "    </tr>\n",
       "    <tr>\n",
       "      <th>1</th>\n",
       "      <td>2012-05-21</td>\n",
       "      <td>80.182854</td>\n",
       "      <td>218.110001</td>\n",
       "      <td>71.779999</td>\n",
       "      <td>34.029999</td>\n",
       "      <td>18.384615</td>\n",
       "      <td>305.070801</td>\n",
       "      <td>2012</td>\n",
       "      <td>5</td>\n",
       "      <td>21</td>\n",
       "    </tr>\n",
       "    <tr>\n",
       "      <th>2</th>\n",
       "      <td>2012-05-22</td>\n",
       "      <td>79.567146</td>\n",
       "      <td>215.330002</td>\n",
       "      <td>71.480003</td>\n",
       "      <td>31.000000</td>\n",
       "      <td>18.442308</td>\n",
       "      <td>298.458801</td>\n",
       "      <td>2012</td>\n",
       "      <td>5</td>\n",
       "      <td>22</td>\n",
       "    </tr>\n",
       "    <tr>\n",
       "      <th>3</th>\n",
       "      <td>2012-05-23</td>\n",
       "      <td>81.508568</td>\n",
       "      <td>217.279999</td>\n",
       "      <td>71.570000</td>\n",
       "      <td>32.000000</td>\n",
       "      <td>18.442308</td>\n",
       "      <td>302.760834</td>\n",
       "      <td>2012</td>\n",
       "      <td>5</td>\n",
       "      <td>23</td>\n",
       "    </tr>\n",
       "    <tr>\n",
       "      <th>4</th>\n",
       "      <td>2012-05-24</td>\n",
       "      <td>80.760002</td>\n",
       "      <td>215.240005</td>\n",
       "      <td>71.389999</td>\n",
       "      <td>33.029999</td>\n",
       "      <td>18.509615</td>\n",
       "      <td>299.879578</td>\n",
       "      <td>2012</td>\n",
       "      <td>5</td>\n",
       "      <td>24</td>\n",
       "    </tr>\n",
       "  </tbody>\n",
       "</table>\n",
       "</div>"
      ],
      "text/plain": [
       "ticker       Date       AAPL        AMZN         BA         FB         GE  \\\n",
       "0      2012-05-18  75.768570  213.850006  69.150002  38.230000  18.221153   \n",
       "1      2012-05-21  80.182854  218.110001  71.779999  34.029999  18.384615   \n",
       "2      2012-05-22  79.567146  215.330002  71.480003  31.000000  18.442308   \n",
       "3      2012-05-23  81.508568  217.279999  71.570000  32.000000  18.442308   \n",
       "4      2012-05-24  80.760002  215.240005  71.389999  33.029999  18.509615   \n",
       "\n",
       "ticker        GOOG  year  month  day  \n",
       "0       298.260101  2012      5   18  \n",
       "1       305.070801  2012      5   21  \n",
       "2       298.458801  2012      5   22  \n",
       "3       302.760834  2012      5   23  \n",
       "4       299.879578  2012      5   24  "
      ]
     },
     "execution_count": 43,
     "metadata": {},
     "output_type": "execute_result"
    }
   ],
   "source": [
    "compare_stocks_df.head()"
   ]
  },
  {
   "cell_type": "markdown",
   "metadata": {},
   "source": [
    "Let's use this data to find the lowest day for every year/month combination."
   ]
  },
  {
   "cell_type": "code",
   "execution_count": 55,
   "metadata": {
    "collapsed": true
   },
   "outputs": [],
   "source": [
    "first_dates = compare_stocks_df.groupby(['year', 'month'])[['day']].min()"
   ]
  },
  {
   "cell_type": "code",
   "execution_count": 56,
   "metadata": {
    "collapsed": false
   },
   "outputs": [
    {
     "data": {
      "text/html": [
       "<div>\n",
       "<style scoped>\n",
       "    .dataframe tbody tr th:only-of-type {\n",
       "        vertical-align: middle;\n",
       "    }\n",
       "\n",
       "    .dataframe tbody tr th {\n",
       "        vertical-align: top;\n",
       "    }\n",
       "\n",
       "    .dataframe thead th {\n",
       "        text-align: right;\n",
       "    }\n",
       "</style>\n",
       "<table border=\"1\" class=\"dataframe\">\n",
       "  <thead>\n",
       "    <tr style=\"text-align: right;\">\n",
       "      <th></th>\n",
       "      <th>ticker</th>\n",
       "      <th>day</th>\n",
       "    </tr>\n",
       "    <tr>\n",
       "      <th>year</th>\n",
       "      <th>month</th>\n",
       "      <th></th>\n",
       "    </tr>\n",
       "  </thead>\n",
       "  <tbody>\n",
       "    <tr>\n",
       "      <th rowspan=\"8\" valign=\"top\">2012</th>\n",
       "      <th>5</th>\n",
       "      <td>18</td>\n",
       "    </tr>\n",
       "    <tr>\n",
       "      <th>6</th>\n",
       "      <td>1</td>\n",
       "    </tr>\n",
       "    <tr>\n",
       "      <th>7</th>\n",
       "      <td>2</td>\n",
       "    </tr>\n",
       "    <tr>\n",
       "      <th>8</th>\n",
       "      <td>1</td>\n",
       "    </tr>\n",
       "    <tr>\n",
       "      <th>9</th>\n",
       "      <td>4</td>\n",
       "    </tr>\n",
       "    <tr>\n",
       "      <th>10</th>\n",
       "      <td>1</td>\n",
       "    </tr>\n",
       "    <tr>\n",
       "      <th>11</th>\n",
       "      <td>1</td>\n",
       "    </tr>\n",
       "    <tr>\n",
       "      <th>12</th>\n",
       "      <td>3</td>\n",
       "    </tr>\n",
       "    <tr>\n",
       "      <th rowspan=\"2\" valign=\"top\">2013</th>\n",
       "      <th>1</th>\n",
       "      <td>2</td>\n",
       "    </tr>\n",
       "    <tr>\n",
       "      <th>2</th>\n",
       "      <td>1</td>\n",
       "    </tr>\n",
       "  </tbody>\n",
       "</table>\n",
       "</div>"
      ],
      "text/plain": [
       "ticker      day\n",
       "year month     \n",
       "2012 5       18\n",
       "     6        1\n",
       "     7        2\n",
       "     8        1\n",
       "     9        4\n",
       "     10       1\n",
       "     11       1\n",
       "     12       3\n",
       "2013 1        2\n",
       "     2        1"
      ]
     },
     "execution_count": 56,
     "metadata": {},
     "output_type": "execute_result"
    }
   ],
   "source": [
    "first_dates.head(10)"
   ]
  },
  {
   "cell_type": "markdown",
   "metadata": {},
   "source": [
    "Now let's get our data back as columns so we can do a merge with the original data."
   ]
  },
  {
   "cell_type": "code",
   "execution_count": 57,
   "metadata": {
    "collapsed": false
   },
   "outputs": [],
   "source": [
    "first_dates = first_dates.reset_index()"
   ]
  },
  {
   "cell_type": "code",
   "execution_count": 58,
   "metadata": {
    "collapsed": false
   },
   "outputs": [
    {
     "data": {
      "text/html": [
       "<div>\n",
       "<style scoped>\n",
       "    .dataframe tbody tr th:only-of-type {\n",
       "        vertical-align: middle;\n",
       "    }\n",
       "\n",
       "    .dataframe tbody tr th {\n",
       "        vertical-align: top;\n",
       "    }\n",
       "\n",
       "    .dataframe thead th {\n",
       "        text-align: right;\n",
       "    }\n",
       "</style>\n",
       "<table border=\"1\" class=\"dataframe\">\n",
       "  <thead>\n",
       "    <tr style=\"text-align: right;\">\n",
       "      <th>ticker</th>\n",
       "      <th>year</th>\n",
       "      <th>month</th>\n",
       "      <th>day</th>\n",
       "    </tr>\n",
       "  </thead>\n",
       "  <tbody>\n",
       "    <tr>\n",
       "      <th>0</th>\n",
       "      <td>2012</td>\n",
       "      <td>5</td>\n",
       "      <td>18</td>\n",
       "    </tr>\n",
       "    <tr>\n",
       "      <th>1</th>\n",
       "      <td>2012</td>\n",
       "      <td>6</td>\n",
       "      <td>1</td>\n",
       "    </tr>\n",
       "    <tr>\n",
       "      <th>2</th>\n",
       "      <td>2012</td>\n",
       "      <td>7</td>\n",
       "      <td>2</td>\n",
       "    </tr>\n",
       "    <tr>\n",
       "      <th>3</th>\n",
       "      <td>2012</td>\n",
       "      <td>8</td>\n",
       "      <td>1</td>\n",
       "    </tr>\n",
       "    <tr>\n",
       "      <th>4</th>\n",
       "      <td>2012</td>\n",
       "      <td>9</td>\n",
       "      <td>4</td>\n",
       "    </tr>\n",
       "    <tr>\n",
       "      <th>5</th>\n",
       "      <td>2012</td>\n",
       "      <td>10</td>\n",
       "      <td>1</td>\n",
       "    </tr>\n",
       "    <tr>\n",
       "      <th>6</th>\n",
       "      <td>2012</td>\n",
       "      <td>11</td>\n",
       "      <td>1</td>\n",
       "    </tr>\n",
       "    <tr>\n",
       "      <th>7</th>\n",
       "      <td>2012</td>\n",
       "      <td>12</td>\n",
       "      <td>3</td>\n",
       "    </tr>\n",
       "    <tr>\n",
       "      <th>8</th>\n",
       "      <td>2013</td>\n",
       "      <td>1</td>\n",
       "      <td>2</td>\n",
       "    </tr>\n",
       "    <tr>\n",
       "      <th>9</th>\n",
       "      <td>2013</td>\n",
       "      <td>2</td>\n",
       "      <td>1</td>\n",
       "    </tr>\n",
       "  </tbody>\n",
       "</table>\n",
       "</div>"
      ],
      "text/plain": [
       "ticker  year  month  day\n",
       "0       2012      5   18\n",
       "1       2012      6    1\n",
       "2       2012      7    2\n",
       "3       2012      8    1\n",
       "4       2012      9    4\n",
       "5       2012     10    1\n",
       "6       2012     11    1\n",
       "7       2012     12    3\n",
       "8       2013      1    2\n",
       "9       2013      2    1"
      ]
     },
     "execution_count": 58,
     "metadata": {},
     "output_type": "execute_result"
    }
   ],
   "source": [
    "first_dates.head(10)\n",
    "#Again, ignore the \"ticker\"... it is just a label for the headers from the pivot."
   ]
  },
  {
   "cell_type": "markdown",
   "metadata": {},
   "source": [
    "Now that we have the first days for each month of each year, can do a merge to get only the days we want."
   ]
  },
  {
   "cell_type": "code",
   "execution_count": 59,
   "metadata": {
    "collapsed": false
   },
   "outputs": [
    {
     "data": {
      "text/html": [
       "<div>\n",
       "<style scoped>\n",
       "    .dataframe tbody tr th:only-of-type {\n",
       "        vertical-align: middle;\n",
       "    }\n",
       "\n",
       "    .dataframe tbody tr th {\n",
       "        vertical-align: top;\n",
       "    }\n",
       "\n",
       "    .dataframe thead th {\n",
       "        text-align: right;\n",
       "    }\n",
       "</style>\n",
       "<table border=\"1\" class=\"dataframe\">\n",
       "  <thead>\n",
       "    <tr style=\"text-align: right;\">\n",
       "      <th>ticker</th>\n",
       "      <th>Date</th>\n",
       "      <th>AAPL</th>\n",
       "      <th>AMZN</th>\n",
       "      <th>BA</th>\n",
       "      <th>FB</th>\n",
       "      <th>GE</th>\n",
       "      <th>GOOG</th>\n",
       "      <th>year</th>\n",
       "      <th>month</th>\n",
       "      <th>day</th>\n",
       "    </tr>\n",
       "  </thead>\n",
       "  <tbody>\n",
       "    <tr>\n",
       "      <th>0</th>\n",
       "      <td>2012-05-18</td>\n",
       "      <td>75.768570</td>\n",
       "      <td>213.850006</td>\n",
       "      <td>69.150002</td>\n",
       "      <td>38.230000</td>\n",
       "      <td>18.221153</td>\n",
       "      <td>298.260101</td>\n",
       "      <td>2012</td>\n",
       "      <td>5</td>\n",
       "      <td>18</td>\n",
       "    </tr>\n",
       "    <tr>\n",
       "      <th>1</th>\n",
       "      <td>2012-06-01</td>\n",
       "      <td>80.141426</td>\n",
       "      <td>208.220001</td>\n",
       "      <td>67.239998</td>\n",
       "      <td>27.719999</td>\n",
       "      <td>17.826923</td>\n",
       "      <td>283.645172</td>\n",
       "      <td>2012</td>\n",
       "      <td>6</td>\n",
       "      <td>1</td>\n",
       "    </tr>\n",
       "    <tr>\n",
       "      <th>2</th>\n",
       "      <td>2012-07-02</td>\n",
       "      <td>84.645714</td>\n",
       "      <td>229.320007</td>\n",
       "      <td>73.180000</td>\n",
       "      <td>30.770000</td>\n",
       "      <td>19.701923</td>\n",
       "      <td>288.359497</td>\n",
       "      <td>2012</td>\n",
       "      <td>7</td>\n",
       "      <td>2</td>\n",
       "    </tr>\n",
       "    <tr>\n",
       "      <th>3</th>\n",
       "      <td>2012-08-01</td>\n",
       "      <td>86.687141</td>\n",
       "      <td>232.089996</td>\n",
       "      <td>72.769997</td>\n",
       "      <td>20.879999</td>\n",
       "      <td>19.932692</td>\n",
       "      <td>314.295807</td>\n",
       "      <td>2012</td>\n",
       "      <td>8</td>\n",
       "      <td>1</td>\n",
       "    </tr>\n",
       "    <tr>\n",
       "      <th>4</th>\n",
       "      <td>2012-09-04</td>\n",
       "      <td>96.424286</td>\n",
       "      <td>247.880005</td>\n",
       "      <td>70.870003</td>\n",
       "      <td>17.730000</td>\n",
       "      <td>19.721153</td>\n",
       "      <td>338.319550</td>\n",
       "      <td>2012</td>\n",
       "      <td>9</td>\n",
       "      <td>4</td>\n",
       "    </tr>\n",
       "    <tr>\n",
       "      <th>5</th>\n",
       "      <td>2012-10-01</td>\n",
       "      <td>94.198570</td>\n",
       "      <td>252.009995</td>\n",
       "      <td>70.010002</td>\n",
       "      <td>21.990000</td>\n",
       "      <td>21.932692</td>\n",
       "      <td>378.428680</td>\n",
       "      <td>2012</td>\n",
       "      <td>10</td>\n",
       "      <td>1</td>\n",
       "    </tr>\n",
       "    <tr>\n",
       "      <th>6</th>\n",
       "      <td>2012-11-01</td>\n",
       "      <td>85.220001</td>\n",
       "      <td>232.139999</td>\n",
       "      <td>70.790001</td>\n",
       "      <td>21.209999</td>\n",
       "      <td>20.519230</td>\n",
       "      <td>341.573395</td>\n",
       "      <td>2012</td>\n",
       "      <td>11</td>\n",
       "      <td>1</td>\n",
       "    </tr>\n",
       "    <tr>\n",
       "      <th>7</th>\n",
       "      <td>2012-12-03</td>\n",
       "      <td>83.741432</td>\n",
       "      <td>250.330002</td>\n",
       "      <td>74.019997</td>\n",
       "      <td>27.040001</td>\n",
       "      <td>20.019230</td>\n",
       "      <td>345.378632</td>\n",
       "      <td>2012</td>\n",
       "      <td>12</td>\n",
       "      <td>3</td>\n",
       "    </tr>\n",
       "    <tr>\n",
       "      <th>8</th>\n",
       "      <td>2013-01-02</td>\n",
       "      <td>78.432854</td>\n",
       "      <td>257.309998</td>\n",
       "      <td>77.070000</td>\n",
       "      <td>28.000000</td>\n",
       "      <td>20.519230</td>\n",
       "      <td>359.288177</td>\n",
       "      <td>2013</td>\n",
       "      <td>1</td>\n",
       "      <td>2</td>\n",
       "    </tr>\n",
       "    <tr>\n",
       "      <th>9</th>\n",
       "      <td>2013-02-01</td>\n",
       "      <td>64.802856</td>\n",
       "      <td>265.000000</td>\n",
       "      <td>74.870003</td>\n",
       "      <td>29.730000</td>\n",
       "      <td>21.750000</td>\n",
       "      <td>385.294037</td>\n",
       "      <td>2013</td>\n",
       "      <td>2</td>\n",
       "      <td>1</td>\n",
       "    </tr>\n",
       "  </tbody>\n",
       "</table>\n",
       "</div>"
      ],
      "text/plain": [
       "ticker       Date       AAPL        AMZN         BA         FB         GE  \\\n",
       "0      2012-05-18  75.768570  213.850006  69.150002  38.230000  18.221153   \n",
       "1      2012-06-01  80.141426  208.220001  67.239998  27.719999  17.826923   \n",
       "2      2012-07-02  84.645714  229.320007  73.180000  30.770000  19.701923   \n",
       "3      2012-08-01  86.687141  232.089996  72.769997  20.879999  19.932692   \n",
       "4      2012-09-04  96.424286  247.880005  70.870003  17.730000  19.721153   \n",
       "5      2012-10-01  94.198570  252.009995  70.010002  21.990000  21.932692   \n",
       "6      2012-11-01  85.220001  232.139999  70.790001  21.209999  20.519230   \n",
       "7      2012-12-03  83.741432  250.330002  74.019997  27.040001  20.019230   \n",
       "8      2013-01-02  78.432854  257.309998  77.070000  28.000000  20.519230   \n",
       "9      2013-02-01  64.802856  265.000000  74.870003  29.730000  21.750000   \n",
       "\n",
       "ticker        GOOG  year  month  day  \n",
       "0       298.260101  2012      5   18  \n",
       "1       283.645172  2012      6    1  \n",
       "2       288.359497  2012      7    2  \n",
       "3       314.295807  2012      8    1  \n",
       "4       338.319550  2012      9    4  \n",
       "5       378.428680  2012     10    1  \n",
       "6       341.573395  2012     11    1  \n",
       "7       345.378632  2012     12    3  \n",
       "8       359.288177  2013      1    2  \n",
       "9       385.294037  2013      2    1  "
      ]
     },
     "execution_count": 59,
     "metadata": {},
     "output_type": "execute_result"
    }
   ],
   "source": [
    "first_day_prices = compare_stocks_df.merge(first_dates, how='inner', on=['year', 'month', 'day'])\n",
    "first_day_prices.head(10)"
   ]
  },
  {
   "cell_type": "markdown",
   "metadata": {},
   "source": [
    "Let's clean things up and we'll be good to go."
   ]
  },
  {
   "cell_type": "code",
   "execution_count": 60,
   "metadata": {
    "collapsed": true
   },
   "outputs": [],
   "source": [
    "first_day_prices = first_day_prices.drop(['year', 'month', 'day'], axis=1)"
   ]
  },
  {
   "cell_type": "code",
   "execution_count": 61,
   "metadata": {
    "collapsed": true
   },
   "outputs": [],
   "source": [
    "first_day_prices = first_day_prices.set_index('Date')"
   ]
  },
  {
   "cell_type": "code",
   "execution_count": 62,
   "metadata": {
    "collapsed": false
   },
   "outputs": [
    {
     "data": {
      "text/plain": [
       "<matplotlib.axes._subplots.AxesSubplot at 0x11d108f60>"
      ]
     },
     "execution_count": 62,
     "metadata": {},
     "output_type": "execute_result"
    },
    {
     "data": {
      "image/png": "[encoded data removed]",
      "text/plain": [
       "<Figure size 432x288 with 1 Axes>"
      ]
     },
     "metadata": {
      "needs_background": "light"
     },
     "output_type": "display_data"
    }
   ],
   "source": [
    "first_day_prices.plot()"
   ]
  },
  {
   "cell_type": "markdown",
   "metadata": {},
   "source": [
    "### Analysis 3 - Finding each stock's longest streak of negative performance\n",
    "\n",
    "In this analysis, we want to find how many consecutive days each stock had closing price lower than the previous day. Unfortunately, this is not something that can be done directly with Pandas. We'll start by setting the index to the Date, removing the year, month, and day columns we added earlier."
   ]
  },
  {
   "cell_type": "code",
   "execution_count": 66,
   "metadata": {
    "collapsed": false
   },
   "outputs": [],
   "source": [
    "compare_stocks_df = compare_stocks_df.set_index('Date')"
   ]
  },
  {
   "cell_type": "code",
   "execution_count": 70,
   "metadata": {
    "collapsed": false
   },
   "outputs": [],
   "source": [
    "compare_stocks_df = compare_stocks_df.drop(['year', 'month', 'day'], axis=1)"
   ]
  },
  {
   "cell_type": "markdown",
   "metadata": {},
   "source": [
    "Now let's use the built-in Pandas method to find the price differences for every single day."
   ]
  },
  {
   "cell_type": "code",
   "execution_count": 71,
   "metadata": {
    "collapsed": true
   },
   "outputs": [],
   "source": [
    "price_diffs = compare_stocks_df.diff()"
   ]
  },
  {
   "cell_type": "code",
   "execution_count": 72,
   "metadata": {
    "collapsed": false
   },
   "outputs": [
    {
     "data": {
      "text/html": [
       "<div>\n",
       "<style scoped>\n",
       "    .dataframe tbody tr th:only-of-type {\n",
       "        vertical-align: middle;\n",
       "    }\n",
       "\n",
       "    .dataframe tbody tr th {\n",
       "        vertical-align: top;\n",
       "    }\n",
       "\n",
       "    .dataframe thead th {\n",
       "        text-align: right;\n",
       "    }\n",
       "</style>\n",
       "<table border=\"1\" class=\"dataframe\">\n",
       "  <thead>\n",
       "    <tr style=\"text-align: right;\">\n",
       "      <th>ticker</th>\n",
       "      <th>AAPL</th>\n",
       "      <th>AMZN</th>\n",
       "      <th>BA</th>\n",
       "      <th>FB</th>\n",
       "      <th>GE</th>\n",
       "      <th>GOOG</th>\n",
       "    </tr>\n",
       "    <tr>\n",
       "      <th>Date</th>\n",
       "      <th></th>\n",
       "      <th></th>\n",
       "      <th></th>\n",
       "      <th></th>\n",
       "      <th></th>\n",
       "      <th></th>\n",
       "    </tr>\n",
       "  </thead>\n",
       "  <tbody>\n",
       "    <tr>\n",
       "      <th>2012-05-18</th>\n",
       "      <td>NaN</td>\n",
       "      <td>NaN</td>\n",
       "      <td>NaN</td>\n",
       "      <td>NaN</td>\n",
       "      <td>NaN</td>\n",
       "      <td>NaN</td>\n",
       "    </tr>\n",
       "    <tr>\n",
       "      <th>2012-05-21</th>\n",
       "      <td>4.414284</td>\n",
       "      <td>4.259995</td>\n",
       "      <td>2.629997</td>\n",
       "      <td>-4.200001</td>\n",
       "      <td>0.163462</td>\n",
       "      <td>6.810700</td>\n",
       "    </tr>\n",
       "    <tr>\n",
       "      <th>2012-05-22</th>\n",
       "      <td>-0.615708</td>\n",
       "      <td>-2.779999</td>\n",
       "      <td>-0.299996</td>\n",
       "      <td>-3.029999</td>\n",
       "      <td>0.057693</td>\n",
       "      <td>-6.612000</td>\n",
       "    </tr>\n",
       "    <tr>\n",
       "      <th>2012-05-23</th>\n",
       "      <td>1.941422</td>\n",
       "      <td>1.949997</td>\n",
       "      <td>0.089997</td>\n",
       "      <td>1.000000</td>\n",
       "      <td>0.000000</td>\n",
       "      <td>4.302033</td>\n",
       "    </tr>\n",
       "    <tr>\n",
       "      <th>2012-05-24</th>\n",
       "      <td>-0.748566</td>\n",
       "      <td>-2.039994</td>\n",
       "      <td>-0.180001</td>\n",
       "      <td>1.029999</td>\n",
       "      <td>0.067307</td>\n",
       "      <td>-2.881256</td>\n",
       "    </tr>\n",
       "  </tbody>\n",
       "</table>\n",
       "</div>"
      ],
      "text/plain": [
       "ticker          AAPL      AMZN        BA        FB        GE      GOOG\n",
       "Date                                                                  \n",
       "2012-05-18       NaN       NaN       NaN       NaN       NaN       NaN\n",
       "2012-05-21  4.414284  4.259995  2.629997 -4.200001  0.163462  6.810700\n",
       "2012-05-22 -0.615708 -2.779999 -0.299996 -3.029999  0.057693 -6.612000\n",
       "2012-05-23  1.941422  1.949997  0.089997  1.000000  0.000000  4.302033\n",
       "2012-05-24 -0.748566 -2.039994 -0.180001  1.029999  0.067307 -2.881256"
      ]
     },
     "execution_count": 72,
     "metadata": {},
     "output_type": "execute_result"
    }
   ],
   "source": [
    "price_diffs.head()"
   ]
  },
  {
   "cell_type": "markdown",
   "metadata": {},
   "source": [
    "Now we can use vectorization to find all of the negative values."
   ]
  },
  {
   "cell_type": "code",
   "execution_count": 134,
   "metadata": {
    "collapsed": true
   },
   "outputs": [],
   "source": [
    "is_negative = pct_diffs < 0"
   ]
  },
  {
   "cell_type": "code",
   "execution_count": 135,
   "metadata": {
    "collapsed": false
   },
   "outputs": [
    {
     "data": {
      "text/html": [
       "<div>\n",
       "<style scoped>\n",
       "    .dataframe tbody tr th:only-of-type {\n",
       "        vertical-align: middle;\n",
       "    }\n",
       "\n",
       "    .dataframe tbody tr th {\n",
       "        vertical-align: top;\n",
       "    }\n",
       "\n",
       "    .dataframe thead th {\n",
       "        text-align: right;\n",
       "    }\n",
       "</style>\n",
       "<table border=\"1\" class=\"dataframe\">\n",
       "  <thead>\n",
       "    <tr style=\"text-align: right;\">\n",
       "      <th>ticker</th>\n",
       "      <th>AAPL</th>\n",
       "      <th>AMZN</th>\n",
       "      <th>BA</th>\n",
       "      <th>FB</th>\n",
       "      <th>GE</th>\n",
       "      <th>GOOG</th>\n",
       "    </tr>\n",
       "    <tr>\n",
       "      <th>Date</th>\n",
       "      <th></th>\n",
       "      <th></th>\n",
       "      <th></th>\n",
       "      <th></th>\n",
       "      <th></th>\n",
       "      <th></th>\n",
       "    </tr>\n",
       "  </thead>\n",
       "  <tbody>\n",
       "    <tr>\n",
       "      <th>2012-05-18</th>\n",
       "      <td>False</td>\n",
       "      <td>False</td>\n",
       "      <td>False</td>\n",
       "      <td>False</td>\n",
       "      <td>False</td>\n",
       "      <td>False</td>\n",
       "    </tr>\n",
       "    <tr>\n",
       "      <th>2012-05-21</th>\n",
       "      <td>False</td>\n",
       "      <td>False</td>\n",
       "      <td>False</td>\n",
       "      <td>True</td>\n",
       "      <td>False</td>\n",
       "      <td>False</td>\n",
       "    </tr>\n",
       "    <tr>\n",
       "      <th>2012-05-22</th>\n",
       "      <td>True</td>\n",
       "      <td>True</td>\n",
       "      <td>True</td>\n",
       "      <td>True</td>\n",
       "      <td>False</td>\n",
       "      <td>True</td>\n",
       "    </tr>\n",
       "    <tr>\n",
       "      <th>2012-05-23</th>\n",
       "      <td>False</td>\n",
       "      <td>False</td>\n",
       "      <td>False</td>\n",
       "      <td>False</td>\n",
       "      <td>False</td>\n",
       "      <td>False</td>\n",
       "    </tr>\n",
       "    <tr>\n",
       "      <th>2012-05-24</th>\n",
       "      <td>True</td>\n",
       "      <td>True</td>\n",
       "      <td>True</td>\n",
       "      <td>False</td>\n",
       "      <td>False</td>\n",
       "      <td>True</td>\n",
       "    </tr>\n",
       "  </tbody>\n",
       "</table>\n",
       "</div>"
      ],
      "text/plain": [
       "ticker       AAPL   AMZN     BA     FB     GE   GOOG\n",
       "Date                                                \n",
       "2012-05-18  False  False  False  False  False  False\n",
       "2012-05-21  False  False  False   True  False  False\n",
       "2012-05-22   True   True   True   True  False   True\n",
       "2012-05-23  False  False  False  False  False  False\n",
       "2012-05-24   True   True   True  False  False   True"
      ]
     },
     "execution_count": 135,
     "metadata": {},
     "output_type": "execute_result"
    }
   ],
   "source": [
    "is_negative.head()"
   ]
  },
  {
   "cell_type": "code",
   "execution_count": 140,
   "metadata": {
    "collapsed": false
   },
   "outputs": [
    {
     "data": {
      "text/plain": [
       "Date\n",
       "2012-05-18    False\n",
       "2012-05-21    False\n",
       "2012-05-22     True\n",
       "2012-05-23    False\n",
       "2012-05-24     True\n",
       "2012-05-25     True\n",
       "2012-05-29    False\n",
       "2012-05-30    False\n",
       "2012-05-31     True\n",
       "2012-06-01     True\n",
       "2012-06-04    False\n",
       "2012-06-05     True\n",
       "2012-06-06    False\n",
       "2012-06-07    False\n",
       "2012-06-08    False\n",
       "2012-06-11     True\n",
       "2012-06-12    False\n",
       "2012-06-13     True\n",
       "2012-06-14     True\n",
       "2012-06-15    False\n",
       "2012-06-18    False\n",
       "2012-06-19    False\n",
       "2012-06-20     True\n",
       "2012-06-21     True\n",
       "2012-06-22    False\n",
       "2012-06-25     True\n",
       "2012-06-26    False\n",
       "2012-06-27    False\n",
       "2012-06-28     True\n",
       "2012-06-29    False\n",
       "              ...  \n",
       "2019-02-13     True\n",
       "2019-02-14    False\n",
       "2019-02-15     True\n",
       "2019-02-19    False\n",
       "2019-02-20    False\n",
       "2019-02-21     True\n",
       "2019-02-22    False\n",
       "2019-02-25    False\n",
       "2019-02-26    False\n",
       "2019-02-27    False\n",
       "2019-02-28     True\n",
       "2019-03-01    False\n",
       "2019-03-04    False\n",
       "2019-03-05     True\n",
       "2019-03-06     True\n",
       "2019-03-07     True\n",
       "2019-03-08    False\n",
       "2019-03-11    False\n",
       "2019-03-12    False\n",
       "2019-03-13    False\n",
       "2019-03-14    False\n",
       "2019-03-15    False\n",
       "2019-03-18    False\n",
       "2019-03-19     True\n",
       "2019-03-20    False\n",
       "2019-03-21    False\n",
       "2019-03-22     True\n",
       "2019-03-25     True\n",
       "2019-03-26     True\n",
       "2019-03-27    False\n",
       "Name: AAPL, Length: 1724, dtype: bool"
      ]
     },
     "execution_count": 140,
     "metadata": {},
     "output_type": "execute_result"
    }
   ],
   "source": [
    "is_negative['AAPL']"
   ]
  },
  {
   "cell_type": "markdown",
   "metadata": {},
   "source": [
    "Here's where we have to resort to good ol' fashioned Python to get what we need."
   ]
  },
  {
   "cell_type": "code",
   "execution_count": 147,
   "metadata": {
    "collapsed": true
   },
   "outputs": [],
   "source": [
    "def find_bad_streak(is_negative, ticker):\n",
    "    num_negative_days = 0\n",
    "    longest_negative_streak = 0\n",
    "    end_of_longest = dt(1970,1,1)\n",
    "    counter = 0\n",
    "    for i in is_negative[ticker]:\n",
    "        if i == True:\n",
    "            num_negative_days += 1\n",
    "        else:\n",
    "            if num_negative_days > longest_negative_streak:\n",
    "                longest_negative_streak = num_negative_days\n",
    "                end_of_longest = is_negative.index[counter]\n",
    "            num_negative_days = 0\n",
    "        counter += 1\n",
    "    return {'longest_negative_streak': longest_negative_streak,\n",
    "           'end_of_longest': end_of_longest}"
   ]
  },
  {
   "cell_type": "code",
   "execution_count": 148,
   "metadata": {
    "collapsed": true
   },
   "outputs": [],
   "source": [
    "all_worst_streaks = {}\n",
    "for ticker in is_negative.columns:\n",
    "    all_worst_streaks[ticker] = find_bad_streak(is_negative, ticker)"
   ]
  },
  {
   "cell_type": "code",
   "execution_count": 149,
   "metadata": {
    "collapsed": false
   },
   "outputs": [
    {
     "data": {
      "text/plain": [
       "{'AAPL': {'longest_negative_streak': 8,\n",
       "  'end_of_longest': Timestamp('2016-05-03 00:00:00')},\n",
       " 'AMZN': {'longest_negative_streak': 7,\n",
       "  'end_of_longest': Timestamp('2016-01-11 00:00:00')},\n",
       " 'BA': {'longest_negative_streak': 11,\n",
       "  'end_of_longest': Timestamp('2018-11-26 00:00:00')},\n",
       " 'FB': {'longest_negative_streak': 7,\n",
       "  'end_of_longest': Timestamp('2013-05-30 00:00:00')},\n",
       " 'GE': {'longest_negative_streak': 9,\n",
       "  'end_of_longest': Timestamp('2017-11-03 00:00:00')},\n",
       " 'GOOG': {'longest_negative_streak': 8,\n",
       "  'end_of_longest': Timestamp('2018-01-02 00:00:00')}}"
      ]
     },
     "execution_count": 149,
     "metadata": {},
     "output_type": "execute_result"
    }
   ],
   "source": [
    "all_worst_streaks"
   ]
  },
  {
   "cell_type": "code",
   "execution_count": 154,
   "metadata": {
    "collapsed": true
   },
   "outputs": [],
   "source": [
    "all_worst_streaks_df = pd.DataFrame.from_dict(all_worst_streaks, orient='index')"
   ]
  },
  {
   "cell_type": "code",
   "execution_count": 156,
   "metadata": {
    "collapsed": false
   },
   "outputs": [
    {
     "data": {
      "text/html": [
       "<div>\n",
       "<style scoped>\n",
       "    .dataframe tbody tr th:only-of-type {\n",
       "        vertical-align: middle;\n",
       "    }\n",
       "\n",
       "    .dataframe tbody tr th {\n",
       "        vertical-align: top;\n",
       "    }\n",
       "\n",
       "    .dataframe thead th {\n",
       "        text-align: right;\n",
       "    }\n",
       "</style>\n",
       "<table border=\"1\" class=\"dataframe\">\n",
       "  <thead>\n",
       "    <tr style=\"text-align: right;\">\n",
       "      <th></th>\n",
       "      <th>longest_negative_streak</th>\n",
       "      <th>end_of_longest</th>\n",
       "    </tr>\n",
       "  </thead>\n",
       "  <tbody>\n",
       "    <tr>\n",
       "      <th>AAPL</th>\n",
       "      <td>8</td>\n",
       "      <td>2016-05-03</td>\n",
       "    </tr>\n",
       "    <tr>\n",
       "      <th>AMZN</th>\n",
       "      <td>7</td>\n",
       "      <td>2016-01-11</td>\n",
       "    </tr>\n",
       "    <tr>\n",
       "      <th>BA</th>\n",
       "      <td>11</td>\n",
       "      <td>2018-11-26</td>\n",
       "    </tr>\n",
       "    <tr>\n",
       "      <th>FB</th>\n",
       "      <td>7</td>\n",
       "      <td>2013-05-30</td>\n",
       "    </tr>\n",
       "    <tr>\n",
       "      <th>GE</th>\n",
       "      <td>9</td>\n",
       "      <td>2017-11-03</td>\n",
       "    </tr>\n",
       "    <tr>\n",
       "      <th>GOOG</th>\n",
       "      <td>8</td>\n",
       "      <td>2018-01-02</td>\n",
       "    </tr>\n",
       "  </tbody>\n",
       "</table>\n",
       "</div>"
      ],
      "text/plain": [
       "      longest_negative_streak end_of_longest\n",
       "AAPL                        8     2016-05-03\n",
       "AMZN                        7     2016-01-11\n",
       "BA                         11     2018-11-26\n",
       "FB                          7     2013-05-30\n",
       "GE                          9     2017-11-03\n",
       "GOOG                        8     2018-01-02"
      ]
     },
     "execution_count": 156,
     "metadata": {},
     "output_type": "execute_result"
    }
   ],
   "source": [
    "all_worst_streaks_df"
   ]
  }
 ],
 "metadata": {
  "anaconda-cloud": {},
  "kernelspec": {
   "display_name": "Python 3",
   "language": "python",
   "name": "python3"
  },
  "language_info": {
   "codemirror_mode": {
    "name": "ipython",
    "version": 3
   },
   "file_extension": ".py",
   "mimetype": "text/x-python",
   "name": "python",
   "nbconvert_exporter": "python",
   "pygments_lexer": "ipython3",
   "version": "3.7.3"
  }
 },
 "nbformat": 4,
 "nbformat_minor": 1
}
