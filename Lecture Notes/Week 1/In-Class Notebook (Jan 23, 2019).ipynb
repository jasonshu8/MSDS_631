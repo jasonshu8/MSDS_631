{
 "cells": [
  {
   "cell_type": "markdown",
   "metadata": {},
   "source": [
    "# MSDS 631\n",
    "## Lecture 1 (January 23, 2019) - Data Types, Data Structures, and Arithmetic Operators\n",
    "---"
   ]
  },
  {
   "cell_type": "markdown",
   "metadata": {},
   "source": [
    "Everybody's first code is <em>always</em> \"Hello World\""
   ]
  },
  {
   "cell_type": "code",
   "execution_count": 3,
   "metadata": {},
   "outputs": [
    {
     "name": "stdout",
     "output_type": "stream",
     "text": [
      "Hello World\n"
     ]
    }
   ],
   "source": [
    "print('Hello World')"
   ]
  },
  {
   "cell_type": "markdown",
   "metadata": {},
   "source": [
    "## Python uses many of the basic arithmetic commands similar to excel"
   ]
  },
  {
   "cell_type": "markdown",
   "metadata": {},
   "source": [
    "Addition uses a basic plus sign"
   ]
  },
  {
   "cell_type": "code",
   "execution_count": 4,
   "metadata": {},
   "outputs": [
    {
     "data": {
      "text/plain": [
       "2"
      ]
     },
     "execution_count": 4,
     "metadata": {},
     "output_type": "execute_result"
    }
   ],
   "source": [
    "1+1"
   ]
  },
  {
   "cell_type": "markdown",
   "metadata": {},
   "source": [
    "Multiplication uses an asterisk"
   ]
  },
  {
   "cell_type": "code",
   "execution_count": 1,
   "metadata": {},
   "outputs": [
    {
     "data": {
      "text/plain": [
       "21"
      ]
     },
     "execution_count": 1,
     "metadata": {},
     "output_type": "execute_result"
    }
   ],
   "source": [
    "7*3"
   ]
  },
  {
   "cell_type": "markdown",
   "metadata": {},
   "source": [
    "Division uses a single forward slash"
   ]
  },
  {
   "cell_type": "code",
   "execution_count": 6,
   "metadata": {},
   "outputs": [
    {
     "data": {
      "text/plain": [
       "2.3333333333333335"
      ]
     },
     "execution_count": 6,
     "metadata": {},
     "output_type": "execute_result"
    }
   ],
   "source": [
    "7/3"
   ]
  },
  {
   "cell_type": "markdown",
   "metadata": {},
   "source": [
    "Integer division uses two forward slashes. Integer division is used when wanting to know how many times the divisor goes into the dividend fully. For the example below, the number 3 goes into the number 7 twice fully."
   ]
  },
  {
   "cell_type": "code",
   "execution_count": 7,
   "metadata": {},
   "outputs": [
    {
     "data": {
      "text/plain": [
       "2"
      ]
     },
     "execution_count": 7,
     "metadata": {},
     "output_type": "execute_result"
    }
   ],
   "source": [
    "7//3"
   ]
  },
  {
   "cell_type": "markdown",
   "metadata": {},
   "source": [
    "The modulo operator gives the remainder when dividing the dividend by the divisor. In the example below, 3 goes into the number 7 twice, with a remainder of 1."
   ]
  },
  {
   "cell_type": "code",
   "execution_count": 9,
   "metadata": {},
   "outputs": [
    {
     "data": {
      "text/plain": [
       "1"
      ]
     },
     "execution_count": 9,
     "metadata": {},
     "output_type": "execute_result"
    }
   ],
   "source": [
    "7%3"
   ]
  },
  {
   "cell_type": "markdown",
   "metadata": {},
   "source": [
    "Sometimes we don't want to run certain sections of code. In the event of this, you will want to \"comment out\" things. Python will ignore everything in a row after a pound sign (aka hashtag, number sign). To comment out multiple lines, you highlight the lines you want to comment out and use the shortcut for the editor you are using (it is generally CMD-/ (for Mac) or CTRL-/ (for Windows)."
   ]
  },
  {
   "cell_type": "code",
   "execution_count": 3,
   "metadata": {},
   "outputs": [
    {
     "name": "stdout",
     "output_type": "stream",
     "text": [
      "Hello World\n"
     ]
    }
   ],
   "source": [
    "#I don't want Python to recognize this line\n",
    "print('Hello World') #The comment does not have to happen at the beginning of a row\n",
    "#It can happen anywhere. Python will ignore everything in a line after the pound sign e.g. x = 1+1"
   ]
  },
  {
   "cell_type": "markdown",
   "metadata": {},
   "source": [
    "Exponents are <strong>not</strong> represented by the \"caret\" symbol (^). In Python, exponents are represented by two asterisks."
   ]
  },
  {
   "cell_type": "code",
   "execution_count": 4,
   "metadata": {},
   "outputs": [
    {
     "data": {
      "text/plain": [
       "27"
      ]
     },
     "execution_count": 4,
     "metadata": {},
     "output_type": "execute_result"
    }
   ],
   "source": [
    "3**3"
   ]
  },
  {
   "cell_type": "code",
   "execution_count": 5,
   "metadata": {},
   "outputs": [
    {
     "name": "stdout",
     "output_type": "stream",
     "text": [
      "Hello World\n"
     ]
    }
   ],
   "source": [
    "# x = 1\n",
    "# y = 2\n",
    "# z = 3\n",
    "print('Hello World')"
   ]
  },
  {
   "cell_type": "code",
   "execution_count": 7,
   "metadata": {},
   "outputs": [
    {
     "ename": "NameError",
     "evalue": "name 'x' is not defined",
     "output_type": "error",
     "traceback": [
      "\u001b[0;31m---------------------------------------------------------------------------\u001b[0m",
      "\u001b[0;31mNameError\u001b[0m                                 Traceback (most recent call last)",
      "\u001b[0;32m<ipython-input-7-b425ec4ae352>\u001b[0m in \u001b[0;36m<module>\u001b[0;34m()\u001b[0m\n\u001b[1;32m      1\u001b[0m \u001b[0;31m# Trying to print x will trigger an error message because Python was never told what \"x\" was supposed to be.\u001b[0m\u001b[0;34m\u001b[0m\u001b[0;34m\u001b[0m\u001b[0m\n\u001b[0;32m----> 2\u001b[0;31m \u001b[0mprint\u001b[0m\u001b[0;34m(\u001b[0m\u001b[0mx\u001b[0m\u001b[0;34m)\u001b[0m\u001b[0;34m\u001b[0m\u001b[0m\n\u001b[0m",
      "\u001b[0;31mNameError\u001b[0m: name 'x' is not defined"
     ]
    }
   ],
   "source": [
    "# Trying to print x will trigger an error message because Python was never told what \"x\" was supposed to be.\n",
    "print(x)"
   ]
  },
  {
   "cell_type": "markdown",
   "metadata": {},
   "source": [
    "Python uses the same order of operations as in basic arithmetic. The basic order of precedence is:\n",
    "1. Parentheses\n",
    "2. Exponentiation\n",
    "3. Multiplication, Division, Floor division, Modulus\n",
    "4. Addition and Subtraction"
   ]
  },
  {
   "cell_type": "code",
   "execution_count": 18,
   "metadata": {},
   "outputs": [
    {
     "data": {
      "text/plain": [
       "7"
      ]
     },
     "execution_count": 18,
     "metadata": {},
     "output_type": "execute_result"
    }
   ],
   "source": [
    "1 + 2 * 3"
   ]
  },
  {
   "cell_type": "code",
   "execution_count": 8,
   "metadata": {},
   "outputs": [
    {
     "data": {
      "text/plain": [
       "9"
      ]
     },
     "execution_count": 8,
     "metadata": {},
     "output_type": "execute_result"
    }
   ],
   "source": [
    "(1 + 2) * 3"
   ]
  },
  {
   "cell_type": "code",
   "execution_count": 9,
   "metadata": {},
   "outputs": [
    {
     "data": {
      "text/plain": [
       "19"
      ]
     },
     "execution_count": 9,
     "metadata": {},
     "output_type": "execute_result"
    }
   ],
   "source": [
    "1 + 2 * 3 ** 2"
   ]
  },
  {
   "cell_type": "code",
   "execution_count": 10,
   "metadata": {},
   "outputs": [
    {
     "data": {
      "text/plain": [
       "27"
      ]
     },
     "execution_count": 10,
     "metadata": {},
     "output_type": "execute_result"
    }
   ],
   "source": [
    "(1 + 2) * (3 ** 2)"
   ]
  },
  {
   "cell_type": "markdown",
   "metadata": {},
   "source": [
    "## Variables\n",
    "Variables are a way to store values or procedures so that your code is easier to implement and read."
   ]
  },
  {
   "cell_type": "code",
   "execution_count": 63,
   "metadata": {
    "collapsed": true
   },
   "outputs": [],
   "source": [
    "x = 123\n",
    "y = 321\n",
    "z = x / y"
   ]
  },
  {
   "cell_type": "code",
   "execution_count": 65,
   "metadata": {},
   "outputs": [
    {
     "name": "stdout",
     "output_type": "stream",
     "text": [
      "123\n",
      "321\n",
      "0.38317757009345793\n"
     ]
    }
   ],
   "source": [
    "# Note that when we assign the values to a variable, Python does not send anything to the console\n",
    "# to print (like we saw in the arithmetic above). In order to see the values assigned to the variables\n",
    "# we need to explicitly display them with a \"print\" command.\n",
    "print(x)\n",
    "print(y)\n",
    "print(z)"
   ]
  },
  {
   "cell_type": "markdown",
   "metadata": {},
   "source": [
    "Variables can have almost any structure as long as they adhere to the following rules:\n",
    "- They must not begin with a letter (numbers can appear anywhere else though)\n",
    "- They must not contain any of the following characters:\n",
    " - Spaces\n",
    " - Special characters, including almost all punctuation. The one exception is the underscore (e.g. my_variable)\n",
    "- They must not conflict with any of Python's \"reserved\" keywords. These are functions that exist in native Python, such as print, id, open, and with. A full list can be found here: https://docs.python.org/2.5/ref/keywords.html\n",
    "\n",
    "We try to adhere to several rules when choosing variable names:\n",
    "- You should balance descriptiveness with efficiency. Too short usually means too vague and too long is hard to read\n",
    "- Use only lowercase letters. All CAPS should only be used for defining constants and global variables. More on this later.\n",
    "- You should separate words of your variable name with underscores. There is another version called \"Camel Case\" (e.g. `myVariable` or `yourFirstVariable`) where you use occasional uppercase lettering to delineate words, but this is not a Python standards\n",
    "\n",
    "Lastly, we should be pragmatic about what actually *needs* a variable assignment. We could break any formula into every step possible and assign variables at every point along the way, but this can be cumbersome and time consuming. It also makes your code difficult to read. You also don't want to do all of your work in a single line of code. These \"intermediate variables\" are not inputs nor outputs that you really need, but they help you keep track of things along the way."
   ]
  },
  {
   "cell_type": "code",
   "execution_count": 90,
   "metadata": {
    "collapsed": true
   },
   "outputs": [],
   "source": [
    "# Let's assume we have the following variables and we want to compute the discretionary budget for this household\n",
    "household_income = 100000\n",
    "tax_rate = .08\n",
    "fixed_expense_rate = .30 #This is a percentage of post-tax income spent on necessities\n",
    "fixed_savings_rate = .25 #This is a percentage of post-tax AND post-expense money set aside for savings"
   ]
  },
  {
   "cell_type": "code",
   "execution_count": 91,
   "metadata": {},
   "outputs": [
    {
     "name": "stdout",
     "output_type": "stream",
     "text": [
      "48299.99999999999\n"
     ]
    }
   ],
   "source": [
    "# Here we can compute the discretionary spending budget in a single line\n",
    "discretionary_spending1 = (household_income * (1 - tax_rate)) * (1 - fixed_expense_rate) * (1 - fixed_savings_rate)\n",
    "print(discretionary_spending1)"
   ]
  },
  {
   "cell_type": "code",
   "execution_count": 92,
   "metadata": {},
   "outputs": [
    {
     "name": "stdout",
     "output_type": "stream",
     "text": [
      "48299.99999999999\n"
     ]
    }
   ],
   "source": [
    "# The above formula is confusing and hard to know if we actually computed things properly.\n",
    "# Below we will use intermediate variables to achieve the same result\n",
    "post_tax_income = household_income * (1 - tax_rate)\n",
    "post_tax_and_expense_income = post_tax_income * (1 - fixed_expense_rate)\n",
    "discretionary_spending2 = post_tax_and_expense_income * (1 - fixed_savings_rate)\n",
    "print(discretionary_spending2)"
   ]
  },
  {
   "cell_type": "code",
   "execution_count": 93,
   "metadata": {},
   "outputs": [
    {
     "name": "stdout",
     "output_type": "stream",
     "text": [
      "48300.0\n"
     ]
    }
   ],
   "source": [
    "# Here is another way to compute the exact same thing using different intermediate variables\n",
    "taxes = household_income * tax_rate\n",
    "expenses = (household_income - taxes) * fixed_expense_rate\n",
    "savings = (household_income - taxes - expenses) * fixed_savings_rate\n",
    "discretionary_spending3 = household_income - taxes - expenses - savings\n",
    "print(discretionary_spending3)"
   ]
  },
  {
   "cell_type": "markdown",
   "metadata": {},
   "source": [
    "Do you see the floating point error above?"
   ]
  },
  {
   "cell_type": "code",
   "execution_count": 100,
   "metadata": {},
   "outputs": [
    {
     "name": "stdout",
     "output_type": "stream",
     "text": [
      "48299.99999999999\n",
      "48299.99999999999\n",
      "48300.0\n"
     ]
    },
    {
     "data": {
      "text/plain": [
       "False"
      ]
     },
     "execution_count": 100,
     "metadata": {},
     "output_type": "execute_result"
    }
   ],
   "source": [
    "print(discretionary_spending1)\n",
    "print(discretionary_spending2)\n",
    "print(discretionary_spending3)\n",
    "discretionary_spending1 == discretionary_spending3"
   ]
  },
  {
   "cell_type": "code",
   "execution_count": 97,
   "metadata": {},
   "outputs": [
    {
     "data": {
      "text/plain": [
       "False"
      ]
     },
     "execution_count": 97,
     "metadata": {},
     "output_type": "execute_result"
    }
   ],
   "source": [
    "discretionary_spending2 == discretionary_spending3"
   ]
  },
  {
   "cell_type": "code",
   "execution_count": 98,
   "metadata": {},
   "outputs": [
    {
     "data": {
      "text/plain": [
       "True"
      ]
     },
     "execution_count": 98,
     "metadata": {},
     "output_type": "execute_result"
    }
   ],
   "source": [
    "discretionary_spending1 == discretionary_spending2"
   ]
  },
  {
   "cell_type": "markdown",
   "metadata": {},
   "source": [
    "Depending on how you are using numbers, this could be an issue. For example, if you are managing a bank ledger and have billions of transactions per day, then these will absolutely add up over time. In the vast majority of use cases, however, this will not be a big deal. Simply be aware that this is sometimes an issue."
   ]
  },
  {
   "cell_type": "markdown",
   "metadata": {},
   "source": [
    "## Data Types\n",
    "There are three primary data types:\n",
    "- Integers\n",
    "- Floats\n",
    "- Strings\n",
    "\n",
    "There are a few other data types that we will deal with in the future (e.g. Booleans and NoneType) and a few that we will not cover in this class (e.g. imaginary numbers)"
   ]
  },
  {
   "cell_type": "markdown",
   "metadata": {},
   "source": [
    "There will be key distinctions that we will need to make between integers and floats. First, integers obviously have no decimal component. Even so, in the eyes of Python there is a difference between 3 and 3.0. In order to perform mathematical operations, Python first ensures that all data is of the same type. Therefore, when trying to divide 9 by 3.3, Python will automatically \"cast\" 9 as 9.0 to perform the operation. In this case, Python determined that the \"lowest common denominator\" data type was float.<br>\n",
    "\n",
    "When trying to guess what the \"best\" common data type should be, think about the following example. If I have the integer 9 and the float 3.3, it is \"more correct\" to convert 9 to 9.0 as a float than it is to convert 3.3 into 3 as an integer.<br>\n",
    "\n",
    "As we move to discussing Pandas, the data types will become more important."
   ]
  },
  {
   "cell_type": "code",
   "execution_count": 28,
   "metadata": {},
   "outputs": [
    {
     "name": "stdout",
     "output_type": "stream",
     "text": [
      "<class 'float'>\n",
      "<class 'int'>\n",
      "<class 'str'>\n"
     ]
    }
   ],
   "source": [
    "#You can find out the type of a value by calling the \"type\" method\n",
    "print(type(3.0))\n",
    "print(type(3))\n",
    "print(type('abc'))"
   ]
  },
  {
   "cell_type": "code",
   "execution_count": 23,
   "metadata": {},
   "outputs": [
    {
     "name": "stdout",
     "output_type": "stream",
     "text": [
      "3.0\n",
      "3.0\n",
      "3.0\n",
      "3\n"
     ]
    }
   ],
   "source": [
    "#Python will try to automatically convert any non-float values into floats and return a float value as well\n",
    "#Python will always automatically converts values into float to perform regular division.\n",
    "#For integer division, Python will convert values into float if at least one value in the equation is a float\n",
    "#For integer division, Python will not cast any values (as floats) if values start out as integers\n",
    "print(9 / 3.0)\n",
    "print(9 / 3)\n",
    "print(9.0 // 3)\n",
    "print(9 // 3)"
   ]
  },
  {
   "cell_type": "markdown",
   "metadata": {},
   "source": [
    "It's important to note, however, that floats can sometimes behave very oddly in Python. Computers work in binary formats, and that sometimes means representing numbers as approximations (albeit very very very close approximations). In the _<strong>vast</strong>_ majority of cases you will never see this difference. Only in extreme situations will you run into issues like we see below."
   ]
  },
  {
   "cell_type": "code",
   "execution_count": 24,
   "metadata": {},
   "outputs": [
    {
     "data": {
      "text/plain": [
       "3.67"
      ]
     },
     "execution_count": 24,
     "metadata": {},
     "output_type": "execute_result"
    }
   ],
   "source": [
    "#In this case, 3.675 is being rounded DOWN instead of up even though the number being rounded is a \"5\"\n",
    "round(3.675, 2)"
   ]
  },
  {
   "cell_type": "code",
   "execution_count": 26,
   "metadata": {},
   "outputs": [
    {
     "name": "stdout",
     "output_type": "stream",
     "text": [
      "0.30000000000000004\n",
      "False\n"
     ]
    }
   ],
   "source": [
    "#In this case, adding two float values results in an imprecise outcome\n",
    "print(.1+.2)\n",
    "print(.1+.2==.3) # Checking to see if 0.1 + 0.2 equals 0.3"
   ]
  },
  {
   "cell_type": "markdown",
   "metadata": {},
   "source": [
    "Strings are exactly as you would assume they are - typical characters and numbers associated with typing. In the original `print(\"Hello World\")` command you wrote, \"Hello World\" is considered a string value. You can use single quotes or double quotes in Python to define a string, but other languages do not allow you to interchange them so liberally. This is a matter of personal preference. For instance, you will occasionally want to store a string that contains an apostrophe. In this case, it is most convenient to just choose double quotes to encapsulate your string and use your apostrophe inside of that string. (e.g. \"This is Jason's Computer\")"
   ]
  },
  {
   "cell_type": "code",
   "execution_count": 32,
   "metadata": {},
   "outputs": [
    {
     "name": "stdout",
     "output_type": "stream",
     "text": [
      "True\n",
      "This is Jason's Computer\n"
     ]
    }
   ],
   "source": [
    "print('Hello' == \"Hello\") #Checking to see if defining \"Hello\" with single or double quotes makese a difference\n",
    "print(\"This is Jason's Computer\")"
   ]
  },
  {
   "cell_type": "code",
   "execution_count": 33,
   "metadata": {},
   "outputs": [
    {
     "data": {
      "text/plain": [
       "'HelloWorld'"
      ]
     },
     "execution_count": 33,
     "metadata": {},
     "output_type": "execute_result"
    }
   ],
   "source": [
    "# You can also perform add strings together, but be sure to account for spaces since they are not automatically added.\n",
    "\"Hello\" + \"World\""
   ]
  },
  {
   "cell_type": "code",
   "execution_count": 34,
   "metadata": {},
   "outputs": [
    {
     "data": {
      "text/plain": [
       "'AAAA'"
      ]
     },
     "execution_count": 34,
     "metadata": {},
     "output_type": "execute_result"
    }
   ],
   "source": [
    "# You can also multiply letters and they will repeat\n",
    "'A' * 4"
   ]
  },
  {
   "cell_type": "code",
   "execution_count": 36,
   "metadata": {},
   "outputs": [
    {
     "ename": "TypeError",
     "evalue": "unsupported operand type(s) for -: 'str' and 'str'",
     "output_type": "error",
     "traceback": [
      "\u001b[0;31m---------------------------------------------------------------------------\u001b[0m",
      "\u001b[0;31mTypeError\u001b[0m                                 Traceback (most recent call last)",
      "\u001b[0;32m<ipython-input-36-d70c56a3b73b>\u001b[0m in \u001b[0;36m<module>\u001b[0;34m()\u001b[0m\n\u001b[1;32m      1\u001b[0m \u001b[0;31m# You cannot subtract or divide letters though\u001b[0m\u001b[0;34m\u001b[0m\u001b[0;34m\u001b[0m\u001b[0m\n\u001b[0;32m----> 2\u001b[0;31m \u001b[0;34m'AAAA'\u001b[0m \u001b[0;34m-\u001b[0m \u001b[0;34m'AAA'\u001b[0m \u001b[0;31m#Does not equal 'A'\u001b[0m\u001b[0;34m\u001b[0m\u001b[0m\n\u001b[0m",
      "\u001b[0;31mTypeError\u001b[0m: unsupported operand type(s) for -: 'str' and 'str'"
     ]
    }
   ],
   "source": [
    "# You cannot subtract or divide letters though\n",
    "'AAAA' - 'AAA' #Does not equal 'A'"
   ]
  },
  {
   "cell_type": "markdown",
   "metadata": {},
   "source": [
    "Everything in Python is case sensitive, so be mindful when typing. You will almost certainly run into a case issue at some point."
   ]
  },
  {
   "cell_type": "code",
   "execution_count": 138,
   "metadata": {},
   "outputs": [
    {
     "data": {
      "text/plain": [
       "False"
      ]
     },
     "execution_count": 138,
     "metadata": {},
     "output_type": "execute_result"
    }
   ],
   "source": [
    "'Jason' == 'JAson'"
   ]
  },
  {
   "cell_type": "code",
   "execution_count": 139,
   "metadata": {},
   "outputs": [
    {
     "data": {
      "text/plain": [
       "'Hi, my name is Jason. I work in a button factory. One day, my bass came to me and said, \"Jason, \\n   are you busy?\" I said \"no.\" \\n   THE END'"
      ]
     },
     "execution_count": 139,
     "metadata": {},
     "output_type": "execute_result"
    }
   ],
   "source": [
    "# In many cases you will want to write multiple lines of text for a single string value.\n",
    "# In this case, you should use three quotes to set the opening and closing of your multi-line text.\n",
    "# The quotes used to open and close the multi-line string can be single or double quotes. Note that when you use the\n",
    "# triple quotes, you are allowed to use any quotes or apostrophes and it' won't try to \"close\" the string.\n",
    "\"\"\"Hi, my name is Jason. I work in a button factory. One day, my bass came to me and said, \"Jason, \n",
    "   are you busy?\" I said \"no.\" \n",
    "   THE END\"\"\""
   ]
  },
  {
   "cell_type": "markdown",
   "metadata": {},
   "source": [
    "In the text resulting from my string, you'll see several strange characters (namely the \\n). These are special characters that only show up when new lines (aka line returns) show up in raw string values. If I were to print this same sentence, then the interpreter would treat the newline character as a visual new line. We will talk about this distinction later in the class."
   ]
  },
  {
   "cell_type": "code",
   "execution_count": 60,
   "metadata": {},
   "outputs": [
    {
     "name": "stdout",
     "output_type": "stream",
     "text": [
      "Hi, my name is Jason. I work in a button factory. One day, my bass came to me and said, \"Jason, \n",
      "are you busy?\" I said \"no.\" \n",
      "THE END\n"
     ]
    }
   ],
   "source": [
    "phrase = \"\"\"Hi, my name is Jason. I work in a button factory. One day, my bass came to me and said, \"Jason, \n",
    "are you busy?\" I said \"no.\" \n",
    "THE END\"\"\"\n",
    "print(phrase)"
   ]
  },
  {
   "cell_type": "markdown",
   "metadata": {},
   "source": [
    "Python also has many ways to auto-insert values into strings to make them more dynamic. The easiest way to do this is via string \"formatting.\" There are a few ways to format strings."
   ]
  },
  {
   "cell_type": "code",
   "execution_count": 61,
   "metadata": {},
   "outputs": [
    {
     "data": {
      "text/plain": [
       "\"Hello my name is Jason. My mother's name is Margaret\""
      ]
     },
     "execution_count": 61,
     "metadata": {},
     "output_type": "execute_result"
    }
   ],
   "source": [
    "#Ordered fill values. Note that I used double quotes because I had an apostrophe in the sentence\n",
    "\"Hello my name is {}. My mother's name is {}\".format('Jason', 'Margaret') #Values are separated by commas"
   ]
  },
  {
   "cell_type": "code",
   "execution_count": 140,
   "metadata": {},
   "outputs": [
    {
     "name": "stdout",
     "output_type": "stream",
     "text": [
      "My name is Jason. My mother's name is Margaret. My sister's name is Jenny. \n",
      "Jenny's mother's name is also Margaret\n"
     ]
    }
   ],
   "source": [
    "#Aliased fill values.\n",
    "phrase = \"\"\"My name is {me}. My mother's name is {mom}. My sister's name is {sis}. \n",
    "{sis}'s mother's name is also {mom}\"\"\".format(me='Jason', sis='Jenny', mom='Margaret')\n",
    "print(phrase)"
   ]
  },
  {
   "cell_type": "markdown",
   "metadata": {},
   "source": [
    "## Data Structures\n",
    "There are three primary data structures that are native to Python:\n",
    "- Lists\n",
    "- Sets\n",
    "- Dictionaries\n",
    "\n",
    "Data Structures are Python objects that \"hold\" values. Each structure behaves a little differently and have appropriate times that they should be used. There is another data structure that we will deal with in the future (tuples) that are similar to lists, except that they are not mutable. More on that later.<br>\n",
    "\n",
    "We will also be encountering new Data Structures when we start using the Pandas library. Until then we will focus just on the ones listed above."
   ]
  },
  {
   "cell_type": "markdown",
   "metadata": {},
   "source": [
    "#### Lists\n",
    "Lists are containers that hold data in a particular order. The data need not be the same type and lists can be as long as you wish them to be. In their most basic form, lists are defined by square bracket enclosures separated by commas."
   ]
  },
  {
   "cell_type": "code",
   "execution_count": 101,
   "metadata": {},
   "outputs": [
    {
     "name": "stdout",
     "output_type": "stream",
     "text": [
      "[1, 2, 3]\n"
     ]
    }
   ],
   "source": [
    "list1 = [1,2,3]\n",
    "print(list1)"
   ]
  },
  {
   "cell_type": "code",
   "execution_count": 153,
   "metadata": {},
   "outputs": [
    {
     "name": "stdout",
     "output_type": "stream",
     "text": [
      "[1, 2.0, 'three']\n"
     ]
    }
   ],
   "source": [
    "# Lists do not need to contain values of the same data type\n",
    "list2 = [1, 2.0, 'three']\n",
    "print(list2)"
   ]
  },
  {
   "cell_type": "code",
   "execution_count": 107,
   "metadata": {},
   "outputs": [
    {
     "name": "stdout",
     "output_type": "stream",
     "text": [
      "[1, 2.0, 'three', [1, 2, 3, 4], {5, 6, 7}, {'Steve': 'Director', 'Jason': 'Teacher', 'Ayo': 'Student'}]\n",
      "\n",
      "list3 is 6 elements long\n"
     ]
    }
   ],
   "source": [
    "# You can even store other data structures in lists\n",
    "list3 = [1, 2.0, 'three', [1,2,3,4], {5,6,7}, {'Jason': 'Teacher', 'Ayo': 'Student', 'Steve': 'Director'}]\n",
    "print(list3)\n",
    "print('\\nlist3 is {} elements long'.format(len(list3)))"
   ]
  },
  {
   "cell_type": "markdown",
   "metadata": {},
   "source": [
    "Accessing elements of a list is done by the index value where the data is stored in the list. Indices begin at zero, not one. This can be confusing for many people. Therefore, if a list is n-elements long, then accessing the last value of a list is actualy the n-1 index"
   ]
  },
  {
   "cell_type": "code",
   "execution_count": 149,
   "metadata": {},
   "outputs": [
    {
     "data": {
      "text/plain": [
       "1"
      ]
     },
     "execution_count": 149,
     "metadata": {},
     "output_type": "execute_result"
    }
   ],
   "source": [
    "list3[0] #return the first value of the list"
   ]
  },
  {
   "cell_type": "code",
   "execution_count": 154,
   "metadata": {},
   "outputs": [
    {
     "data": {
      "text/plain": [
       "{'Ayo': 'Student', 'Jason': 'Teacher', 'Steve': 'Director'}"
      ]
     },
     "execution_count": 154,
     "metadata": {},
     "output_type": "execute_result"
    }
   ],
   "source": [
    "list3[5] #return the sixth value of the list. In this case it is another data structure (a dictionary)"
   ]
  },
  {
   "cell_type": "code",
   "execution_count": 151,
   "metadata": {},
   "outputs": [
    {
     "data": {
      "text/plain": [
       "{'Ayo': 'Student', 'Jason': 'Teacher', 'Steve': 'Director'}"
      ]
     },
     "execution_count": 151,
     "metadata": {},
     "output_type": "execute_result"
    }
   ],
   "source": [
    "list3[-1] #return the last value of the list (i.e. first value going backwards)"
   ]
  },
  {
   "cell_type": "code",
   "execution_count": 152,
   "metadata": {},
   "outputs": [
    {
     "data": {
      "text/plain": [
       "[1, 2, 3, 4]"
      ]
     },
     "execution_count": 152,
     "metadata": {},
     "output_type": "execute_result"
    }
   ],
   "source": [
    "list3[-3] #return the third-to-last value of the list"
   ]
  },
  {
   "cell_type": "markdown",
   "metadata": {},
   "source": [
    "Slicing is when you take multiple consecutive elements of a list. The closing index of the range is actually the *position* where the element ends. So the first item in a list is defined as the item between positions zero and one. Therefore, when slicing you provide the starting position and end positions to return what is in between."
   ]
  },
  {
   "cell_type": "code",
   "execution_count": 146,
   "metadata": {},
   "outputs": [
    {
     "data": {
      "text/plain": [
       "[1, 2, 3]"
      ]
     },
     "execution_count": 146,
     "metadata": {},
     "output_type": "execute_result"
    }
   ],
   "source": [
    "list4 = [1,2,3,4,5,6,7,8,9,10]\n",
    "list1[0:4] #return the elements between the 0th and 4th positions. This would be first through third elements."
   ]
  },
  {
   "cell_type": "code",
   "execution_count": 147,
   "metadata": {},
   "outputs": [
    {
     "data": {
      "text/plain": [
       "[2, 3, 4]"
      ]
     },
     "execution_count": 147,
     "metadata": {},
     "output_type": "execute_result"
    }
   ],
   "source": [
    "list4[1:4] #return the elements between the 1st and 4th positions. This would be the second through third elements."
   ]
  },
  {
   "cell_type": "code",
   "execution_count": 148,
   "metadata": {},
   "outputs": [
    {
     "data": {
      "text/plain": [
       "[6, 7, 8]"
      ]
     },
     "execution_count": 148,
     "metadata": {},
     "output_type": "execute_result"
    }
   ],
   "source": [
    "list4[5:8] #return the elements between the 5th and 9th positions. This would be the sixth through eighth elements."
   ]
  },
  {
   "cell_type": "code",
   "execution_count": 123,
   "metadata": {},
   "outputs": [
    {
     "data": {
      "text/plain": [
       "[]"
      ]
     },
     "execution_count": 123,
     "metadata": {},
     "output_type": "execute_result"
    }
   ],
   "source": [
    "# Slicing outside of the range of a list will simply return an empty list\n",
    "list4[15:20]"
   ]
  },
  {
   "cell_type": "code",
   "execution_count": 125,
   "metadata": {},
   "outputs": [
    {
     "ename": "IndexError",
     "evalue": "list index out of range",
     "output_type": "error",
     "traceback": [
      "\u001b[0;31m---------------------------------------------------------------------------\u001b[0m",
      "\u001b[0;31mIndexError\u001b[0m                                Traceback (most recent call last)",
      "\u001b[0;32m<ipython-input-125-d287a7c858f6>\u001b[0m in \u001b[0;36m<module>\u001b[0;34m()\u001b[0m\n\u001b[1;32m      1\u001b[0m \u001b[0;31m# However, trying to access an index outside of the range of a list will return an error.\u001b[0m\u001b[0;34m\u001b[0m\u001b[0;34m\u001b[0m\u001b[0m\n\u001b[0;32m----> 2\u001b[0;31m \u001b[0mlist4\u001b[0m\u001b[0;34m[\u001b[0m\u001b[0;36m15\u001b[0m\u001b[0;34m]\u001b[0m\u001b[0;34m\u001b[0m\u001b[0m\n\u001b[0m",
      "\u001b[0;31mIndexError\u001b[0m: list index out of range"
     ]
    }
   ],
   "source": [
    "# However, trying to access an index outside of the range of a list will return an error.\n",
    "list4[15]"
   ]
  },
  {
   "cell_type": "markdown",
   "metadata": {},
   "source": [
    "#### Sets\n",
    "In some ways, sets can be considered derivatives of lists. They can be created *from* lists but they have the following characteristics that deviate significantly from lists:\n",
    "- Sets do not have any order. They exist as a collection of values that are ordered in the most efficient way the computer thinks it needs to be stored in order to quickly access the data.\n",
    "- Sets can only contain what are considered to be \"hashable\" values. This includes integers, floats, strings, None values, and tuples. You cannot put lists or dictionaries into a set.\n",
    "- Sets cannot have duplicate values. This includes floats and integers that represent the same number (e.g. 3 and 3.0 are considered the same thing for a set)\n",
    "- You cannot retrieve specific values from a set. With lists, you can use indexing. There is no such possibility with sets. You can iterate over sets in a loop, which is one way to access data in a set. We will go over iterating in the next class. You can also \"pop\" a value, but there is no way to choose which value you get back.\n",
    "\n",
    "Despite these challenges, sets are great for the following purposes:\n",
    "- Eliminating duplicate values from a list to get only the unique values.\n",
    "- Using two sets to VERY quickly find unions, intersections, differences, and other attributes to evaluate two sets of data.\n",
    "- Looking for a specific value within a set of values."
   ]
  },
  {
   "cell_type": "code",
   "execution_count": 136,
   "metadata": {},
   "outputs": [
    {
     "name": "stdout",
     "output_type": "stream",
     "text": [
      "{1, 2, 3, 'b', 'a'}\n"
     ]
    }
   ],
   "source": [
    "set1 = {1, 2, 2.0, 3, 'a', 'b'} # Creating a set from scratch\n",
    "print(set1)"
   ]
  },
  {
   "cell_type": "code",
   "execution_count": 142,
   "metadata": {},
   "outputs": [],
   "source": [
    "list5 = [None, (1,2), 3, 3.0]\n",
    "set2 = set(list5) # Converting a list into a set"
   ]
  },
  {
   "cell_type": "code",
   "execution_count": 156,
   "metadata": {},
   "outputs": [
    {
     "ename": "TypeError",
     "evalue": "unhashable type: 'list'",
     "output_type": "error",
     "traceback": [
      "\u001b[0;31m---------------------------------------------------------------------------\u001b[0m",
      "\u001b[0;31mTypeError\u001b[0m                                 Traceback (most recent call last)",
      "\u001b[0;32m<ipython-input-156-baeed40bc95d>\u001b[0m in \u001b[0;36m<module>\u001b[0;34m()\u001b[0m\n\u001b[1;32m      1\u001b[0m \u001b[0mlist7\u001b[0m \u001b[0;34m=\u001b[0m \u001b[0;34m[\u001b[0m\u001b[0;32mNone\u001b[0m\u001b[0;34m,\u001b[0m \u001b[0;36m3\u001b[0m\u001b[0;34m,\u001b[0m \u001b[0;36m3.0\u001b[0m\u001b[0;34m,\u001b[0m \u001b[0;34m[\u001b[0m\u001b[0;36m1\u001b[0m\u001b[0;34m,\u001b[0m\u001b[0;36m2\u001b[0m\u001b[0;34m,\u001b[0m\u001b[0;36m3\u001b[0m\u001b[0;34m]\u001b[0m\u001b[0;34m,\u001b[0m \u001b[0;34m'a'\u001b[0m\u001b[0;34m]\u001b[0m \u001b[0;31m# Lists are not \"hashable\" so they cannot be included as elements within a set\u001b[0m\u001b[0;34m\u001b[0m\u001b[0m\n\u001b[0;32m----> 2\u001b[0;31m \u001b[0mset3\u001b[0m \u001b[0;34m=\u001b[0m \u001b[0mset\u001b[0m\u001b[0;34m(\u001b[0m\u001b[0mlist7\u001b[0m\u001b[0;34m)\u001b[0m\u001b[0;34m\u001b[0m\u001b[0m\n\u001b[0m",
      "\u001b[0;31mTypeError\u001b[0m: unhashable type: 'list'"
     ]
    }
   ],
   "source": [
    "list7 = [None, 3, 3.0, [1,2,3], 'a'] # Lists are not \"hashable\" so they cannot be included as elements within a set\n",
    "set3 = set(list7)"
   ]
  },
  {
   "cell_type": "code",
   "execution_count": 157,
   "metadata": {},
   "outputs": [
    {
     "name": "stdout",
     "output_type": "stream",
     "text": [
      "{(1, 2), 3, None}\n"
     ]
    },
    {
     "ename": "TypeError",
     "evalue": "'type' object is not subscriptable",
     "output_type": "error",
     "traceback": [
      "\u001b[0;31m---------------------------------------------------------------------------\u001b[0m",
      "\u001b[0;31mTypeError\u001b[0m                                 Traceback (most recent call last)",
      "\u001b[0;32m<ipython-input-157-99a2b71ede20>\u001b[0m in \u001b[0;36m<module>\u001b[0;34m()\u001b[0m\n\u001b[1;32m      1\u001b[0m \u001b[0;31m# You cannot access any specific value within a set\u001b[0m\u001b[0;34m\u001b[0m\u001b[0;34m\u001b[0m\u001b[0m\n\u001b[1;32m      2\u001b[0m \u001b[0mprint\u001b[0m\u001b[0;34m(\u001b[0m\u001b[0mset2\u001b[0m\u001b[0;34m)\u001b[0m\u001b[0;34m\u001b[0m\u001b[0m\n\u001b[0;32m----> 3\u001b[0;31m \u001b[0mset\u001b[0m\u001b[0;34m[\u001b[0m\u001b[0;36m0\u001b[0m\u001b[0;34m]\u001b[0m\u001b[0;34m\u001b[0m\u001b[0m\n\u001b[0m",
      "\u001b[0;31mTypeError\u001b[0m: 'type' object is not subscriptable"
     ]
    }
   ],
   "source": [
    "# You cannot access any specific value within a set\n",
    "print(set2)\n",
    "set[0]"
   ]
  },
  {
   "cell_type": "code",
   "execution_count": 66,
   "metadata": {},
   "outputs": [
    {
     "name": "stdout",
     "output_type": "stream",
     "text": [
      "{1, 2, 3, 4, 5, 6}\n"
     ]
    }
   ],
   "source": [
    "print(my_new_set)"
   ]
  },
  {
   "cell_type": "code",
   "execution_count": 159,
   "metadata": {
    "collapsed": true
   },
   "outputs": [],
   "source": [
    "# Here I am creating lists of random numbers between 1 and 10,000,000. Each list has 1,000,000 values.\n",
    "# You do not need to understand how I am doing this. Just know that these lists are pretty long.\n",
    "import random\n",
    "#generate long lists\n",
    "long_list1 = [random.randint(1,10000000) for _ in range(1000000)]\n",
    "long_list2 = [random.randint(1,10000000) for _ in range(1000000)]"
   ]
  },
  {
   "cell_type": "code",
   "execution_count": 171,
   "metadata": {},
   "outputs": [],
   "source": [
    "# Using element-wise comparisons of lists can be very slow when dealing with long lists.\n",
    "# I ran the line of code below for 20 minutes and still had not finished computing\n",
    "x = [i for i in long_list1 if i in long_list2]"
   ]
  },
  {
   "cell_type": "code",
   "execution_count": 172,
   "metadata": {},
   "outputs": [
    {
     "name": "stdout",
     "output_type": "stream",
     "text": [
      "It took sets 0:00:00.320799 to find all of the common values in long_list1 and long_list2\n"
     ]
    }
   ],
   "source": [
    "# Conversely, sets took a fraction of a second to finish computing.\n",
    "start = dt.now()\n",
    "long_set1 = set(long_list1)\n",
    "long_set2 = set(long_list2)\n",
    "intersection = long_set1 & long_set2\n",
    "end = dt.now()\n",
    "print(\"It took sets {} to find all of the common values in long_list1 and long_list2\".format(end-start))"
   ]
  },
  {
   "cell_type": "code",
   "execution_count": 174,
   "metadata": {},
   "outputs": [
    {
     "name": "stdout",
     "output_type": "stream",
     "text": [
      "There were 90511 values in the intersection and 1812629 values in the union\n"
     ]
    }
   ],
   "source": [
    "# You can also use sets to find unions\n",
    "union = set(long_list1) | set(long_list2)\n",
    "print(\"There were {} values in the intersection and {} values in the union\".format(len(intersection), len(union)))"
   ]
  },
  {
   "cell_type": "markdown",
   "metadata": {},
   "source": [
    "#### Dictionaries\n",
    "Dictionaries are comprised of key-value pairs and combine many of the positive aspects of lists and sets. The key can be considered a sort of \"address\" and the value being the Python object you are trying to retrieve. In a list the \"address\" is the index of the value. Dictionaries have the following characteristics:\n",
    "- Keys must be of one of the \"hashable\" types (Integer, float, string, tuple, None)\n",
    "- The keys are the equivalent of a set in that they are a hashed index that is unordered\n",
    "- \"Values\" can be of any data type (similar to a list)\n",
    "\n",
    "Dictionaries are great for the following purposes:\n",
    "- Efficiently storing values in an easy-to-find place\n",
    "- Being able to name the location of where your values are located\n",
    "- Passing around many different values in a single object"
   ]
  },
  {
   "cell_type": "code",
   "execution_count": 177,
   "metadata": {},
   "outputs": [
    {
     "name": "stdout",
     "output_type": "stream",
     "text": [
      "{'Jason': 'Teacher', 'Ayo': 'Student'}\n"
     ]
    }
   ],
   "source": [
    "# Dictionaries are defined by curly braces, similar to sets\n",
    "# Key-value pairs are separated by commas, similar to sets\n",
    "# Keys and valuess are connected by a colon. There are no requirements for having (or not having) spaces around the colon\n",
    "my_dict1 = {'Jason': 'Teacher', 'Ayo': 'Student'}\n",
    "print(my_dict1)"
   ]
  },
  {
   "cell_type": "code",
   "execution_count": 178,
   "metadata": {},
   "outputs": [
    {
     "data": {
      "text/plain": [
       "'Teacher'"
      ]
     },
     "execution_count": 178,
     "metadata": {},
     "output_type": "execute_result"
    }
   ],
   "source": [
    "# Access the data associated with 'Jason'\n",
    "my_dict1['Jason']"
   ]
  },
  {
   "cell_type": "code",
   "execution_count": 180,
   "metadata": {},
   "outputs": [
    {
     "name": "stdout",
     "output_type": "stream",
     "text": [
      "{'Barack': {'Pets': ['Bo'], 'Job': 'Retired', 'Age': 57}, 'Jenny': {'Pets': None, 'Job': 'Finance Manager', 'Age': 44}, 'Jason': {'Pets': ['Copland', 'Gershwin'], 'Job': 'SVP Data Science', 'Age': 39}}\n"
     ]
    }
   ],
   "source": [
    "# Let's create a more useful dictionary\n",
    "useful_dict = {'Jason': {'Age': 39, 'Job': 'SVP Data Science', 'Pets': ['Copland', 'Gershwin']},\n",
    "               'Barack': {'Age': 57, 'Job': 'Retired', 'Pets': ['Bo']}, \n",
    "               'Jenny': {'Age': 44, 'Job': 'Finance Manager', 'Pets': None}}\n",
    "print(useful_dict)"
   ]
  },
  {
   "cell_type": "code",
   "execution_count": 181,
   "metadata": {},
   "outputs": [
    {
     "data": {
      "text/plain": [
       "{'Age': 39, 'Job': 'SVP Data Science', 'Pets': ['Copland', 'Gershwin']}"
      ]
     },
     "execution_count": 181,
     "metadata": {},
     "output_type": "execute_result"
    }
   ],
   "source": [
    "# Let's get my details\n",
    "useful_dict['Jason']"
   ]
  },
  {
   "cell_type": "code",
   "execution_count": 182,
   "metadata": {},
   "outputs": [
    {
     "data": {
      "text/plain": [
       "39"
      ]
     },
     "execution_count": 182,
     "metadata": {},
     "output_type": "execute_result"
    }
   ],
   "source": [
    "# Let's get my age\n",
    "useful_dict['Jason']['Age']"
   ]
  },
  {
   "cell_type": "code",
   "execution_count": 185,
   "metadata": {},
   "outputs": [
    {
     "data": {
      "text/plain": [
       "'Copland'"
      ]
     },
     "execution_count": 185,
     "metadata": {},
     "output_type": "execute_result"
    }
   ],
   "source": [
    "# Let's get my first pet\n",
    "useful_dict['Jason']['Pets'][0]"
   ]
  },
  {
   "cell_type": "code",
   "execution_count": 183,
   "metadata": {},
   "outputs": [
    {
     "ename": "KeyError",
     "evalue": "'age'",
     "output_type": "error",
     "traceback": [
      "\u001b[0;31m---------------------------------------------------------------------------\u001b[0m",
      "\u001b[0;31mKeyError\u001b[0m                                  Traceback (most recent call last)",
      "\u001b[0;32m<ipython-input-183-05aba3fc342d>\u001b[0m in \u001b[0;36m<module>\u001b[0;34m()\u001b[0m\n\u001b[1;32m      1\u001b[0m \u001b[0;31m# Let's get my age but forget to capitalize 'Age'\u001b[0m\u001b[0;34m\u001b[0m\u001b[0;34m\u001b[0m\u001b[0m\n\u001b[0;32m----> 2\u001b[0;31m \u001b[0museful_dict\u001b[0m\u001b[0;34m[\u001b[0m\u001b[0;34m'Jason'\u001b[0m\u001b[0;34m]\u001b[0m\u001b[0;34m[\u001b[0m\u001b[0;34m'age'\u001b[0m\u001b[0;34m]\u001b[0m\u001b[0;34m\u001b[0m\u001b[0m\n\u001b[0m",
      "\u001b[0;31mKeyError\u001b[0m: 'age'"
     ]
    }
   ],
   "source": [
    "# Let's get my age but forget to capitalize 'Age'\n",
    "useful_dict['Jason']['age']"
   ]
  },
  {
   "cell_type": "code",
   "execution_count": 184,
   "metadata": {},
   "outputs": [
    {
     "data": {
      "text/plain": [
       "dict_keys(['Barack', 'Jenny', 'Jason'])"
      ]
     },
     "execution_count": 184,
     "metadata": {},
     "output_type": "execute_result"
    }
   ],
   "source": [
    "# Let's get all of the keys for the useful dictionary\n",
    "useful_dict.keys() #Note that the order of the names is different than how I entered them"
   ]
  },
  {
   "cell_type": "code",
   "execution_count": 187,
   "metadata": {},
   "outputs": [
    {
     "name": "stdout",
     "output_type": "stream",
     "text": [
      "{'Barack': {'Pets': ['Bo'], 'Job': 'Retired', 'Age': 57}, 'Margaret': \"The best mother I've ever had\", 'Jenny': {'Pets': None, 'Job': 'Finance Manager', 'Age': 44}, 'Jason': {'Pets': ['Copland', 'Gershwin'], 'Job': 'SVP Data Science', 'Age': 39}}\n"
     ]
    }
   ],
   "source": [
    "# Lets add a new person and new value. There is no requirement for the values to look like the values of other keys.\n",
    "useful_dict['Margaret'] = \"The best mother I've ever had\"\n",
    "print(useful_dict)"
   ]
  },
  {
   "cell_type": "markdown",
   "metadata": {},
   "source": [
    "# Applied Problem\n",
    "Let's imagine we are trying to wrap a rope around a cylinder. The rope has a length of 100m and the radius of the cylinder is 5."
   ]
  },
  {
   "cell_type": "code",
   "execution_count": 188,
   "metadata": {},
   "outputs": [],
   "source": [
    "rope_length = 100\n",
    "pi = 3.141592653589\n",
    "radius = 5"
   ]
  },
  {
   "cell_type": "code",
   "execution_count": 190,
   "metadata": {},
   "outputs": [
    {
     "name": "stdout",
     "output_type": "stream",
     "text": [
      "3.0\n"
     ]
    }
   ],
   "source": [
    "# Let's see how many times around the rope will fully wrap around the cylinder\n",
    "circumference = 2*radius*pi\n",
    "times_around = rope_length // circumference #Use integer division\n",
    "print(times_around)"
   ]
  },
  {
   "cell_type": "code",
   "execution_count": 191,
   "metadata": {},
   "outputs": [
    {
     "name": "stdout",
     "output_type": "stream",
     "text": [
      "5.7522203923299955\n"
     ]
    }
   ],
   "source": [
    "# Let's see how much rope will be left over after fully looping around the cylinder as much as possible.\n",
    "remaining = rope_length % circumference #Here is one use case of the modulo\n",
    "print(remaining)"
   ]
  },
  {
   "cell_type": "code",
   "execution_count": 193,
   "metadata": {},
   "outputs": [
    {
     "name": "stdout",
     "output_type": "stream",
     "text": [
      "94.24777960767\n"
     ]
    }
   ],
   "source": [
    "# How much rope did I use wrapping around the cylinder?\n",
    "rope_used = circumference * (rope_length // circumference)\n",
    "print(rope_used)"
   ]
  }
 ],
 "metadata": {
  "anaconda-cloud": {},
  "kernelspec": {
   "display_name": "Python 3",
   "language": "python",
   "name": "python3"
  },
  "language_info": {
   "codemirror_mode": {
    "name": "ipython",
    "version": 3
   },
   "file_extension": ".py",
   "mimetype": "text/x-python",
   "name": "python",
   "nbconvert_exporter": "python",
   "pygments_lexer": "ipython3",
   "version": "3.7.4"
  }
 },
 "nbformat": 4,
 "nbformat_minor": 1
}
