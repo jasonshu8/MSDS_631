{
 "cells": [
  {
   "cell_type": "markdown",
   "metadata": {},
   "source": [
    "# MSDS 631 - Supplemental Notes\n",
    "## Reshaping and Filtering Data Example\n",
    "\n",
    "Now that we've learned shortcuts for opening data into DataFrames, it seems we should always be able to just automatically load data without having to use any base Python to parse data. However, there are still countless situations where you are not creating DataFrames until after you've reorganized and reshaped your data. One example is having data that is so big that it requires us to remove some data before trying to create our DataFrame (else run into computer memory issues).\n",
    "\n",
    "Our objective in this example is to take Yelp review data and remove the actual review text while putting the other data into the order we want.\n",
    "\n",
    "Let's start by opening a tiny subset of the data we want to work with."
   ]
  },
  {
   "cell_type": "code",
   "execution_count": 97,
   "metadata": {
    "collapsed": true
   },
   "outputs": [],
   "source": [
    "import json\n",
    "import pandas as pd"
   ]
  },
  {
   "cell_type": "code",
   "execution_count": 98,
   "metadata": {
    "collapsed": true
   },
   "outputs": [],
   "source": [
    "#Due to issues with the raw data file, I had to do some tricky things to get the data.\n",
    "#DO NOT worry about understanding what is in this cell\n",
    "def review_generator():\n",
    "    with open('data/reviews_sample.json', 'r') as f:\n",
    "        reviews = f.read().strip().split('\\n')\n",
    "    for review in reviews:\n",
    "        yield json.loads(review)\n",
    "        \n",
    "def get_all_review_data():\n",
    "    reviews = []\n",
    "    for review in review_generator():\n",
    "        reviews.append(review)\n",
    "    return reviews"
   ]
  },
  {
   "cell_type": "code",
   "execution_count": 99,
   "metadata": {
    "collapsed": false
   },
   "outputs": [],
   "source": [
    "reviews = get_all_review_data()"
   ]
  },
  {
   "cell_type": "code",
   "execution_count": 100,
   "metadata": {
    "collapsed": false
   },
   "outputs": [
    {
     "data": {
      "text/plain": [
       "{'business_id': 'ujmEBvifdJM6h6RLv4wQIg',\n",
       " 'cool': 0,\n",
       " 'date': '2013-05-07 04:34:36',\n",
       " 'funny': 1,\n",
       " 'review_id': 'Q1sbwvVQXV2734tPgoKj4Q',\n",
       " 'stars': 1.0,\n",
       " 'text': 'Total bill for this horrible service? Over $8Gs. These crooks actually had the nerve to charge us $69 for 3 pills. I checked online the pills can be had for 19 cents EACH! Avoid Hospital ERs at all costs.',\n",
       " 'useful': 6,\n",
       " 'user_id': 'hG7b0MtEbXx5QzbzE6C_VA'}"
      ]
     },
     "execution_count": 100,
     "metadata": {},
     "output_type": "execute_result"
    }
   ],
   "source": [
    "#Let's take a look at the first review\n",
    "reviews[0]"
   ]
  },
  {
   "cell_type": "markdown",
   "metadata": {},
   "source": [
    "We have 9 keys:\n",
    "- business_id\n",
    "- cool\n",
    "- date (as a string)\n",
    "- funny\n",
    "- review_id\n",
    "- stars\n",
    "- text\n",
    "- useful\n",
    "- user_id\n",
    "\n",
    "#### Creating Ordered List from Data in Dictionary\n",
    "\n",
    "What we want is to take all of these reviews and create a list of lists that contain only the data we want and in the order we want it.\n",
    "\n",
    "To take a single review dictionary and convert it into a single ordered list, we create a function."
   ]
  },
  {
   "cell_type": "code",
   "execution_count": 101,
   "metadata": {
    "collapsed": true
   },
   "outputs": [],
   "source": [
    "def parse_review(review):\n",
    "    biz_id = review['business_id']\n",
    "    cool_count = review['cool']\n",
    "    review_date = review['date']\n",
    "    funny_count = review['funny']\n",
    "    review_id = review['review_id']\n",
    "    stars = review['stars']\n",
    "    useful = review['useful']\n",
    "    user_id = review['user_id']\n",
    "    my_list = [user_id, review_id, review_date, biz_id, stars, cool_count, funny_count, useful]\n",
    "    return my_list"
   ]
  },
  {
   "cell_type": "code",
   "execution_count": 102,
   "metadata": {
    "collapsed": true
   },
   "outputs": [],
   "source": [
    "#A second way we could have defined the parsing function as as follows:\n",
    "def parse_review_alternative(review):\n",
    "    key_order = ['user_id', 'review_id', 'date', 'business_id', 'stars', 'cool', 'funny', 'useful']\n",
    "    my_list = []\n",
    "    for key in key_order:\n",
    "        my_list.append(review[key])\n",
    "    return my_list"
   ]
  },
  {
   "cell_type": "code",
   "execution_count": 103,
   "metadata": {
    "collapsed": false
   },
   "outputs": [
    {
     "data": {
      "text/plain": [
       "['hG7b0MtEbXx5QzbzE6C_VA',\n",
       " 'Q1sbwvVQXV2734tPgoKj4Q',\n",
       " '2013-05-07 04:34:36',\n",
       " 'ujmEBvifdJM6h6RLv4wQIg',\n",
       " 1.0,\n",
       " 0,\n",
       " 1,\n",
       " 6]"
      ]
     },
     "execution_count": 103,
     "metadata": {},
     "output_type": "execute_result"
    }
   ],
   "source": [
    "parse_review(reviews[0])"
   ]
  },
  {
   "cell_type": "code",
   "execution_count": 104,
   "metadata": {
    "collapsed": false
   },
   "outputs": [
    {
     "data": {
      "text/plain": [
       "True"
      ]
     },
     "execution_count": 104,
     "metadata": {},
     "output_type": "execute_result"
    }
   ],
   "source": [
    "#Double check to see if the two parsing methods are equivalent\n",
    "parse_review(reviews[0]) == parse_review_alternative(reviews[0])"
   ]
  },
  {
   "cell_type": "markdown",
   "metadata": {},
   "source": [
    "#### Parsing all reviews\n",
    "Now we want to create a list of lists, where each internal list is simply the parsed values from individual reviews. Afterwards we can turn that list of lists into a DataFrame."
   ]
  },
  {
   "cell_type": "code",
   "execution_count": 105,
   "metadata": {
    "collapsed": false
   },
   "outputs": [
    {
     "data": {
      "text/html": [
       "<div>\n",
       "<style>\n",
       "    .dataframe thead tr:only-child th {\n",
       "        text-align: right;\n",
       "    }\n",
       "\n",
       "    .dataframe thead th {\n",
       "        text-align: left;\n",
       "    }\n",
       "\n",
       "    .dataframe tbody tr th {\n",
       "        vertical-align: top;\n",
       "    }\n",
       "</style>\n",
       "<table border=\"1\" class=\"dataframe\">\n",
       "  <thead>\n",
       "    <tr style=\"text-align: right;\">\n",
       "      <th></th>\n",
       "      <th>0</th>\n",
       "      <th>1</th>\n",
       "      <th>2</th>\n",
       "      <th>3</th>\n",
       "      <th>4</th>\n",
       "      <th>5</th>\n",
       "      <th>6</th>\n",
       "      <th>7</th>\n",
       "    </tr>\n",
       "  </thead>\n",
       "  <tbody>\n",
       "    <tr>\n",
       "      <th>0</th>\n",
       "      <td>hG7b0MtEbXx5QzbzE6C_VA</td>\n",
       "      <td>Q1sbwvVQXV2734tPgoKj4Q</td>\n",
       "      <td>2013-05-07 04:34:36</td>\n",
       "      <td>ujmEBvifdJM6h6RLv4wQIg</td>\n",
       "      <td>1.0</td>\n",
       "      <td>0</td>\n",
       "      <td>1</td>\n",
       "      <td>6</td>\n",
       "    </tr>\n",
       "    <tr>\n",
       "      <th>1</th>\n",
       "      <td>yXQM5uF2jS6es16SJzNHfg</td>\n",
       "      <td>GJXCdrto3ASJOqKeVWPi6Q</td>\n",
       "      <td>2017-01-14 21:30:33</td>\n",
       "      <td>NZnhc2sEQy3RmzKTZnqtwQ</td>\n",
       "      <td>5.0</td>\n",
       "      <td>0</td>\n",
       "      <td>0</td>\n",
       "      <td>0</td>\n",
       "    </tr>\n",
       "    <tr>\n",
       "      <th>2</th>\n",
       "      <td>n6-Gk65cPZL6Uz8qRm3NYw</td>\n",
       "      <td>2TzJjDVDEuAW6MR5Vuc1ug</td>\n",
       "      <td>2016-11-09 20:09:03</td>\n",
       "      <td>WTqjgwHlXbSFevF32_DJVw</td>\n",
       "      <td>5.0</td>\n",
       "      <td>0</td>\n",
       "      <td>0</td>\n",
       "      <td>3</td>\n",
       "    </tr>\n",
       "    <tr>\n",
       "      <th>3</th>\n",
       "      <td>dacAIZ6fTM6mqwW5uxkskg</td>\n",
       "      <td>yi0R0Ugj_xUx_Nek0-_Qig</td>\n",
       "      <td>2018-01-09 20:56:38</td>\n",
       "      <td>ikCg8xy5JIg_NGPx-MSIDA</td>\n",
       "      <td>5.0</td>\n",
       "      <td>0</td>\n",
       "      <td>0</td>\n",
       "      <td>0</td>\n",
       "    </tr>\n",
       "    <tr>\n",
       "      <th>4</th>\n",
       "      <td>ssoyf2_x0EQMed6fgHeMyQ</td>\n",
       "      <td>11a8sVPMUFtaC7_ABRkmtw</td>\n",
       "      <td>2018-01-30 23:07:38</td>\n",
       "      <td>b1b1eb3uo-w561D0ZfCEiQ</td>\n",
       "      <td>1.0</td>\n",
       "      <td>0</td>\n",
       "      <td>0</td>\n",
       "      <td>7</td>\n",
       "    </tr>\n",
       "  </tbody>\n",
       "</table>\n",
       "</div>"
      ],
      "text/plain": [
       "                        0                       1                    2  \\\n",
       "0  hG7b0MtEbXx5QzbzE6C_VA  Q1sbwvVQXV2734tPgoKj4Q  2013-05-07 04:34:36   \n",
       "1  yXQM5uF2jS6es16SJzNHfg  GJXCdrto3ASJOqKeVWPi6Q  2017-01-14 21:30:33   \n",
       "2  n6-Gk65cPZL6Uz8qRm3NYw  2TzJjDVDEuAW6MR5Vuc1ug  2016-11-09 20:09:03   \n",
       "3  dacAIZ6fTM6mqwW5uxkskg  yi0R0Ugj_xUx_Nek0-_Qig  2018-01-09 20:56:38   \n",
       "4  ssoyf2_x0EQMed6fgHeMyQ  11a8sVPMUFtaC7_ABRkmtw  2018-01-30 23:07:38   \n",
       "\n",
       "                        3    4  5  6  7  \n",
       "0  ujmEBvifdJM6h6RLv4wQIg  1.0  0  1  6  \n",
       "1  NZnhc2sEQy3RmzKTZnqtwQ  5.0  0  0  0  \n",
       "2  WTqjgwHlXbSFevF32_DJVw  5.0  0  0  3  \n",
       "3  ikCg8xy5JIg_NGPx-MSIDA  5.0  0  0  0  \n",
       "4  b1b1eb3uo-w561D0ZfCEiQ  1.0  0  0  7  "
      ]
     },
     "execution_count": 105,
     "metadata": {},
     "output_type": "execute_result"
    }
   ],
   "source": [
    "all_parsed_reviews = []\n",
    "for review in reviews: #reviews is a list of dictionaries, and review is a dictionary of a single review\n",
    "    parsed_review = parse_review(review)\n",
    "    all_parsed_reviews.append(parsed_review)\n",
    "\n",
    "reviews_df = pd.DataFrame(all_parsed_reviews)\n",
    "reviews_df.head()"
   ]
  },
  {
   "cell_type": "code",
   "execution_count": 106,
   "metadata": {
    "collapsed": false
   },
   "outputs": [
    {
     "data": {
      "text/html": [
       "<div>\n",
       "<style>\n",
       "    .dataframe thead tr:only-child th {\n",
       "        text-align: right;\n",
       "    }\n",
       "\n",
       "    .dataframe thead th {\n",
       "        text-align: left;\n",
       "    }\n",
       "\n",
       "    .dataframe tbody tr th {\n",
       "        vertical-align: top;\n",
       "    }\n",
       "</style>\n",
       "<table border=\"1\" class=\"dataframe\">\n",
       "  <thead>\n",
       "    <tr style=\"text-align: right;\">\n",
       "      <th></th>\n",
       "      <th>user_id</th>\n",
       "      <th>review_id</th>\n",
       "      <th>review_date</th>\n",
       "      <th>business_id</th>\n",
       "      <th>star_rating</th>\n",
       "      <th>cool_count</th>\n",
       "      <th>funny_count</th>\n",
       "      <th>useful_count</th>\n",
       "    </tr>\n",
       "  </thead>\n",
       "  <tbody>\n",
       "    <tr>\n",
       "      <th>0</th>\n",
       "      <td>hG7b0MtEbXx5QzbzE6C_VA</td>\n",
       "      <td>Q1sbwvVQXV2734tPgoKj4Q</td>\n",
       "      <td>2013-05-07 04:34:36</td>\n",
       "      <td>ujmEBvifdJM6h6RLv4wQIg</td>\n",
       "      <td>1.0</td>\n",
       "      <td>0</td>\n",
       "      <td>1</td>\n",
       "      <td>6</td>\n",
       "    </tr>\n",
       "    <tr>\n",
       "      <th>1</th>\n",
       "      <td>yXQM5uF2jS6es16SJzNHfg</td>\n",
       "      <td>GJXCdrto3ASJOqKeVWPi6Q</td>\n",
       "      <td>2017-01-14 21:30:33</td>\n",
       "      <td>NZnhc2sEQy3RmzKTZnqtwQ</td>\n",
       "      <td>5.0</td>\n",
       "      <td>0</td>\n",
       "      <td>0</td>\n",
       "      <td>0</td>\n",
       "    </tr>\n",
       "    <tr>\n",
       "      <th>2</th>\n",
       "      <td>n6-Gk65cPZL6Uz8qRm3NYw</td>\n",
       "      <td>2TzJjDVDEuAW6MR5Vuc1ug</td>\n",
       "      <td>2016-11-09 20:09:03</td>\n",
       "      <td>WTqjgwHlXbSFevF32_DJVw</td>\n",
       "      <td>5.0</td>\n",
       "      <td>0</td>\n",
       "      <td>0</td>\n",
       "      <td>3</td>\n",
       "    </tr>\n",
       "    <tr>\n",
       "      <th>3</th>\n",
       "      <td>dacAIZ6fTM6mqwW5uxkskg</td>\n",
       "      <td>yi0R0Ugj_xUx_Nek0-_Qig</td>\n",
       "      <td>2018-01-09 20:56:38</td>\n",
       "      <td>ikCg8xy5JIg_NGPx-MSIDA</td>\n",
       "      <td>5.0</td>\n",
       "      <td>0</td>\n",
       "      <td>0</td>\n",
       "      <td>0</td>\n",
       "    </tr>\n",
       "    <tr>\n",
       "      <th>4</th>\n",
       "      <td>ssoyf2_x0EQMed6fgHeMyQ</td>\n",
       "      <td>11a8sVPMUFtaC7_ABRkmtw</td>\n",
       "      <td>2018-01-30 23:07:38</td>\n",
       "      <td>b1b1eb3uo-w561D0ZfCEiQ</td>\n",
       "      <td>1.0</td>\n",
       "      <td>0</td>\n",
       "      <td>0</td>\n",
       "      <td>7</td>\n",
       "    </tr>\n",
       "  </tbody>\n",
       "</table>\n",
       "</div>"
      ],
      "text/plain": [
       "                  user_id               review_id          review_date  \\\n",
       "0  hG7b0MtEbXx5QzbzE6C_VA  Q1sbwvVQXV2734tPgoKj4Q  2013-05-07 04:34:36   \n",
       "1  yXQM5uF2jS6es16SJzNHfg  GJXCdrto3ASJOqKeVWPi6Q  2017-01-14 21:30:33   \n",
       "2  n6-Gk65cPZL6Uz8qRm3NYw  2TzJjDVDEuAW6MR5Vuc1ug  2016-11-09 20:09:03   \n",
       "3  dacAIZ6fTM6mqwW5uxkskg  yi0R0Ugj_xUx_Nek0-_Qig  2018-01-09 20:56:38   \n",
       "4  ssoyf2_x0EQMed6fgHeMyQ  11a8sVPMUFtaC7_ABRkmtw  2018-01-30 23:07:38   \n",
       "\n",
       "              business_id  star_rating  cool_count  funny_count  useful_count  \n",
       "0  ujmEBvifdJM6h6RLv4wQIg          1.0           0            1             6  \n",
       "1  NZnhc2sEQy3RmzKTZnqtwQ          5.0           0            0             0  \n",
       "2  WTqjgwHlXbSFevF32_DJVw          5.0           0            0             3  \n",
       "3  ikCg8xy5JIg_NGPx-MSIDA          5.0           0            0             0  \n",
       "4  b1b1eb3uo-w561D0ZfCEiQ          1.0           0            0             7  "
      ]
     },
     "execution_count": 106,
     "metadata": {},
     "output_type": "execute_result"
    }
   ],
   "source": [
    "#Let's add our column names now\n",
    "reviews_df.columns = ['user_id', 'review_id', 'review_date', 'business_id', 'star_rating', 'cool_count',\n",
    "                      'funny_count', 'useful_count']\n",
    "reviews_df.head()"
   ]
  },
  {
   "cell_type": "markdown",
   "metadata": {},
   "source": [
    "#### Storing parsed reviews (i.e ordered list of values) in dictionaries based on star rating\n",
    "\n",
    "Now, instead of creating one master DataFrame, we want to create five DataFrames based on star rating. To do this we can build our list of lists, but each outer list is put into a dictionary keyed on the star rating."
   ]
  },
  {
   "cell_type": "code",
   "execution_count": 107,
   "metadata": {
    "collapsed": false
   },
   "outputs": [
    {
     "data": {
      "text/plain": [
       "{1.0, 2.0, 3.0, 4.0, 5.0}"
      ]
     },
     "execution_count": 107,
     "metadata": {},
     "output_type": "execute_result"
    }
   ],
   "source": [
    "all_reviews_stars = []\n",
    "for review in reviews:\n",
    "    all_reviews_stars.append(review['stars'])\n",
    "all_available_stars = set(all_reviews_stars)\n",
    "all_available_stars"
   ]
  },
  {
   "cell_type": "markdown",
   "metadata": {},
   "source": [
    "Note that these stars are floats and we prefer them as integers, so we'll convert them before adding them to the dictionary keys."
   ]
  },
  {
   "cell_type": "code",
   "execution_count": 108,
   "metadata": {
    "collapsed": false
   },
   "outputs": [
    {
     "data": {
      "text/plain": [
       "{1: [], 2: [], 3: [], 4: [], 5: []}"
      ]
     },
     "execution_count": 108,
     "metadata": {},
     "output_type": "execute_result"
    }
   ],
   "source": [
    "star_reviews = {}\n",
    "for i in all_available_stars:\n",
    "    rounded_stars = int(i)\n",
    "    star_reviews[rounded_stars] = []\n",
    "star_reviews"
   ]
  },
  {
   "cell_type": "markdown",
   "metadata": {},
   "source": [
    "Now let's go through the reviews and put the reviews where we want them."
   ]
  },
  {
   "cell_type": "code",
   "execution_count": 109,
   "metadata": {
    "collapsed": true
   },
   "outputs": [],
   "source": [
    "for review in reviews:\n",
    "    parsed_review = parse_review(review)\n",
    "    star_rating = review['stars']\n",
    "    star_reviews[star_rating].append(parsed_review) "
   ]
  },
  {
   "cell_type": "markdown",
   "metadata": {},
   "source": [
    "Let's see how many ratings wound up in each key."
   ]
  },
  {
   "cell_type": "code",
   "execution_count": 110,
   "metadata": {
    "collapsed": false
   },
   "outputs": [
    {
     "name": "stdout",
     "output_type": "stream",
     "text": [
      "1 155\n",
      "2 91\n",
      "3 109\n",
      "4 235\n",
      "5 410\n"
     ]
    }
   ],
   "source": [
    "for key in star_reviews:\n",
    "    print(key, len(star_reviews[key]))"
   ]
  },
  {
   "cell_type": "markdown",
   "metadata": {},
   "source": [
    "Let's go ahead and convert those list of lists into DataFrames now."
   ]
  },
  {
   "cell_type": "code",
   "execution_count": 112,
   "metadata": {
    "collapsed": true
   },
   "outputs": [],
   "source": [
    "for key in star_reviews:\n",
    "    star_df = pd.DataFrame(star_reviews[key])\n",
    "    star_df.columns = ['user_id', 'review_id', 'review_date', 'business_id', 'star_rating', 'cool_count',\n",
    "                      'funny_count', 'useful_count']\n",
    "    star_reviews[key] = star_df"
   ]
  },
  {
   "cell_type": "markdown",
   "metadata": {},
   "source": [
    "#### Another approach - much less efficient\n",
    "To create our star_reviews data, here's another much less efficient way to solve our problem."
   ]
  },
  {
   "cell_type": "code",
   "execution_count": 113,
   "metadata": {
    "collapsed": true
   },
   "outputs": [],
   "source": [
    "star_reviews = {} #Initialize dictionary\n",
    "for i in range(1,6): #Assume the stars will always be between 1 and 5\n",
    "    star_reviews[i] = [] #Initialize an empty list as a value for our star keys\n",
    "    for review in reviews: #Loop through all of the reviews\n",
    "        if i == review['stars']: #Check to see if the review has the same star value as the key we just added\n",
    "            star_reviews[i].append(parse_review(review)) #If so, add the parsed data"
   ]
  },
  {
   "cell_type": "markdown",
   "metadata": {},
   "source": [
    "The problem with the solution above is that it forces us to look through the reviews data five times instead of just once. This may not be a big deal with tiny amounts of data like our sample, but the full review data set has 6.7 million reviews. That means that doing that 5 times means we have over 33 million loops that we're running. That's 27 million wasted loops and many more than that computations."
   ]
  },
  {
   "cell_type": "markdown",
   "metadata": {},
   "source": [
    "### Storing reviews by year\n",
    "\n",
    "Instead of using star ratings as keys, let's put the data into keys by the year of the review."
   ]
  },
  {
   "cell_type": "code",
   "execution_count": 122,
   "metadata": {
    "collapsed": false
   },
   "outputs": [
    {
     "data": {
      "text/plain": [
       "{'2004',\n",
       " '2006',\n",
       " '2007',\n",
       " '2008',\n",
       " '2009',\n",
       " '2010',\n",
       " '2011',\n",
       " '2012',\n",
       " '2013',\n",
       " '2014',\n",
       " '2015',\n",
       " '2016',\n",
       " '2017',\n",
       " '2018'}"
      ]
     },
     "execution_count": 122,
     "metadata": {},
     "output_type": "execute_result"
    }
   ],
   "source": [
    "all_reviews_years = []\n",
    "for review in reviews:\n",
    "    year = review['date'][:4] #Date is a string, and we just want the first 4 characters\n",
    "    all_reviews_years.append(year)\n",
    "all_available_years = set(all_reviews_years)\n",
    "all_available_years"
   ]
  },
  {
   "cell_type": "code",
   "execution_count": 123,
   "metadata": {
    "collapsed": false
   },
   "outputs": [
    {
     "data": {
      "text/plain": [
       "{2004: [],\n",
       " 2006: [],\n",
       " 2007: [],\n",
       " 2008: [],\n",
       " 2009: [],\n",
       " 2010: [],\n",
       " 2011: [],\n",
       " 2012: [],\n",
       " 2013: [],\n",
       " 2014: [],\n",
       " 2015: [],\n",
       " 2016: [],\n",
       " 2017: [],\n",
       " 2018: []}"
      ]
     },
     "execution_count": 123,
     "metadata": {},
     "output_type": "execute_result"
    }
   ],
   "source": [
    "#Since our years are strings and we prefer ints, we'll convert them before adding the keys\n",
    "year_reviews = {}\n",
    "for year in all_available_years:\n",
    "    converted_year = int(year)\n",
    "    year_reviews[converted_year] = []\n",
    "year_reviews"
   ]
  },
  {
   "cell_type": "code",
   "execution_count": 124,
   "metadata": {
    "collapsed": false
   },
   "outputs": [],
   "source": [
    "#Let's add the parsed data now\n",
    "for review in reviews:\n",
    "    parsed_review = parse_review(review)\n",
    "    year = int(review['date'][:4])\n",
    "    year_reviews[year].append(parsed_review)"
   ]
  },
  {
   "cell_type": "code",
   "execution_count": 125,
   "metadata": {
    "collapsed": false
   },
   "outputs": [],
   "source": [
    "#Turn each list of lists into a DataFrame\n",
    "for year in year_reviews:\n",
    "    year_df = pd.DataFrame(year_reviews[year])\n",
    "    year_df.columns = ['user_id', 'review_id', 'review_date', 'business_id', 'star_rating', 'cool_count',\n",
    "                      'funny_count', 'useful_count']\n",
    "    year_reviews[year] = year_df    "
   ]
  },
  {
   "cell_type": "code",
   "execution_count": 126,
   "metadata": {
    "collapsed": false
   },
   "outputs": [
    {
     "data": {
      "text/plain": [
       "dict_keys([2016, 2017, 2018, 2004, 2006, 2007, 2008, 2009, 2010, 2011, 2012, 2013, 2014, 2015])"
      ]
     },
     "execution_count": 126,
     "metadata": {},
     "output_type": "execute_result"
    }
   ],
   "source": [
    "year_reviews.keys()"
   ]
  },
  {
   "cell_type": "code",
   "execution_count": 127,
   "metadata": {
    "collapsed": false
   },
   "outputs": [
    {
     "data": {
      "text/html": [
       "<div>\n",
       "<style>\n",
       "    .dataframe thead tr:only-child th {\n",
       "        text-align: right;\n",
       "    }\n",
       "\n",
       "    .dataframe thead th {\n",
       "        text-align: left;\n",
       "    }\n",
       "\n",
       "    .dataframe tbody tr th {\n",
       "        vertical-align: top;\n",
       "    }\n",
       "</style>\n",
       "<table border=\"1\" class=\"dataframe\">\n",
       "  <thead>\n",
       "    <tr style=\"text-align: right;\">\n",
       "      <th></th>\n",
       "      <th>user_id</th>\n",
       "      <th>review_id</th>\n",
       "      <th>review_date</th>\n",
       "      <th>business_id</th>\n",
       "      <th>star_rating</th>\n",
       "      <th>cool_count</th>\n",
       "      <th>funny_count</th>\n",
       "      <th>useful_count</th>\n",
       "    </tr>\n",
       "  </thead>\n",
       "  <tbody>\n",
       "    <tr>\n",
       "      <th>0</th>\n",
       "      <td>_N7Ndn29bpll_961oPeEfw</td>\n",
       "      <td>4bUyL7lzoWzDZaJETAKREg</td>\n",
       "      <td>2014-06-27 21:19:23</td>\n",
       "      <td>y-Iw6dZflNix4BdwIyTNGA</td>\n",
       "      <td>3.0</td>\n",
       "      <td>0</td>\n",
       "      <td>0</td>\n",
       "      <td>0</td>\n",
       "    </tr>\n",
       "    <tr>\n",
       "      <th>1</th>\n",
       "      <td>vDr8hBNYigiY70fk1kF5iQ</td>\n",
       "      <td>W1wbNaUnbMy4b9QqY3_SAg</td>\n",
       "      <td>2014-08-10 22:07:35</td>\n",
       "      <td>hd5xm20tfSa70-6UqD9-bg</td>\n",
       "      <td>1.0</td>\n",
       "      <td>1</td>\n",
       "      <td>1</td>\n",
       "      <td>7</td>\n",
       "    </tr>\n",
       "    <tr>\n",
       "      <th>2</th>\n",
       "      <td>q3GeSW9dWN9r_ocqFkhrvg</td>\n",
       "      <td>1daGBpea0sleayFeeXuoYw</td>\n",
       "      <td>2014-04-19 15:03:17</td>\n",
       "      <td>9nTF596jDvBBia2EXXiOOg</td>\n",
       "      <td>1.0</td>\n",
       "      <td>0</td>\n",
       "      <td>0</td>\n",
       "      <td>1</td>\n",
       "    </tr>\n",
       "    <tr>\n",
       "      <th>3</th>\n",
       "      <td>C_hUvw2z0R-Rv0yZb6QCZA</td>\n",
       "      <td>0AsmPiAQduxh5jE_si8cLA</td>\n",
       "      <td>2014-12-17 19:04:33</td>\n",
       "      <td>dm6sO_Y8JdKTE1ZM955yug</td>\n",
       "      <td>5.0</td>\n",
       "      <td>0</td>\n",
       "      <td>0</td>\n",
       "      <td>0</td>\n",
       "    </tr>\n",
       "    <tr>\n",
       "      <th>4</th>\n",
       "      <td>1fi6x4tnJtlVWaJmoIO9XA</td>\n",
       "      <td>bjD0Dqn3k-fi00BXatrytg</td>\n",
       "      <td>2014-06-27 21:32:31</td>\n",
       "      <td>XTzKRvWciP_BZ9imk8mmPQ</td>\n",
       "      <td>1.0</td>\n",
       "      <td>0</td>\n",
       "      <td>1</td>\n",
       "      <td>5</td>\n",
       "    </tr>\n",
       "  </tbody>\n",
       "</table>\n",
       "</div>"
      ],
      "text/plain": [
       "                  user_id               review_id          review_date  \\\n",
       "0  _N7Ndn29bpll_961oPeEfw  4bUyL7lzoWzDZaJETAKREg  2014-06-27 21:19:23   \n",
       "1  vDr8hBNYigiY70fk1kF5iQ  W1wbNaUnbMy4b9QqY3_SAg  2014-08-10 22:07:35   \n",
       "2  q3GeSW9dWN9r_ocqFkhrvg  1daGBpea0sleayFeeXuoYw  2014-04-19 15:03:17   \n",
       "3  C_hUvw2z0R-Rv0yZb6QCZA  0AsmPiAQduxh5jE_si8cLA  2014-12-17 19:04:33   \n",
       "4  1fi6x4tnJtlVWaJmoIO9XA  bjD0Dqn3k-fi00BXatrytg  2014-06-27 21:32:31   \n",
       "\n",
       "              business_id  star_rating  cool_count  funny_count  useful_count  \n",
       "0  y-Iw6dZflNix4BdwIyTNGA          3.0           0            0             0  \n",
       "1  hd5xm20tfSa70-6UqD9-bg          1.0           1            1             7  \n",
       "2  9nTF596jDvBBia2EXXiOOg          1.0           0            0             1  \n",
       "3  dm6sO_Y8JdKTE1ZM955yug          5.0           0            0             0  \n",
       "4  XTzKRvWciP_BZ9imk8mmPQ          1.0           0            1             5  "
      ]
     },
     "execution_count": 127,
     "metadata": {},
     "output_type": "execute_result"
    }
   ],
   "source": [
    "#Let's take a look at the first few reviews from 2014 DataFrame\n",
    "year_reviews[2014].head()"
   ]
  }
 ],
 "metadata": {
  "anaconda-cloud": {},
  "kernelspec": {
   "display_name": "Python [conda env:py35]",
   "language": "python",
   "name": "conda-env-py35-py"
  },
  "language_info": {
   "codemirror_mode": {
    "name": "ipython",
    "version": 3
   },
   "file_extension": ".py",
   "mimetype": "text/x-python",
   "name": "python",
   "nbconvert_exporter": "python",
   "pygments_lexer": "ipython3",
   "version": "3.5.4"
  }
 },
 "nbformat": 4,
 "nbformat_minor": 1
}
