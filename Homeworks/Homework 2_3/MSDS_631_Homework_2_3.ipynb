{
 "cells": [
  {
   "cell_type": "markdown",
   "metadata": {},
   "source": [
    "# Homework 2 and 3\n",
    "In this assignment, you will begin to develop your skills to build functions that perform loops and control flow. Problems will get gradually more difficult. The final portion of this exercise is only **required** by students in Section 05. Everyone is welcome to attempt these problems and I will grade your responses for your own learning, but those not enrolled in Section 05 will not receive a grade for these problems."
   ]
  },
  {
   "cell_type": "markdown",
   "metadata": {},
   "source": [
    "### Brief refresher for this homework about string formatting and \n",
    "#### String formatting\n",
    "\n",
    "If you recall, formatting a string is as simple as putting curly braces as a placeholder for the string, then \"passing\" the string some fillers to go where the placeholders were."
   ]
  },
  {
   "cell_type": "code",
   "execution_count": 2,
   "metadata": {},
   "outputs": [
    {
     "name": "stdout",
     "output_type": "stream",
     "text": [
      "Hello my name is Jason. I turn 40 next month.\n",
      "Hello my name is Eileen. I turn 39 next month.\n",
      "Hello my name is 40. I turn Jason next month.\n"
     ]
    }
   ],
   "source": [
    "base_phrase = 'Hello my name is {}. I turn {} next month.'\n",
    "filled_in_phrase1 = base_phrase.format('Jason', 40)\n",
    "print(filled_in_phrase1)\n",
    "filled_in_phrase2 = base_phrase.format('Eileen', 39)\n",
    "print(filled_in_phrase2)\n",
    "filled_in_phrase3 = base_phrase.format(40, 'Jason') # Python will do what you ask; doesn't need to make sense\n",
    "print(filled_in_phrase3)"
   ]
  },
  {
   "cell_type": "markdown",
   "metadata": {},
   "source": [
    "We will spend a few minutes talking about string formatting next week, but this should help you for this homework"
   ]
  },
  {
   "cell_type": "markdown",
   "metadata": {},
   "source": [
    "#### Functions\n",
    "Functions are a way of storing a list of commands that can be used whenever you want. When you create the function, no computations are actually made. It only executes the steps within the function after you \"call\" it and \"pass\" it arguments."
   ]
  },
  {
   "cell_type": "code",
   "execution_count": 5,
   "metadata": {},
   "outputs": [],
   "source": [
    "def say_hello(name):\n",
    "    phrase = 'Hello {}'.format(name)\n",
    "    print(phrase)"
   ]
  },
  {
   "cell_type": "code",
   "execution_count": 6,
   "metadata": {},
   "outputs": [
    {
     "name": "stdout",
     "output_type": "stream",
     "text": [
      "Hello Jason\n"
     ]
    }
   ],
   "source": [
    "say_hello('Jason')"
   ]
  },
  {
   "cell_type": "markdown",
   "metadata": {},
   "source": [
    "Functions typically \"return\" something after you call it. You must instruct the function to return what you want in order for it to work. Any variables created within the function will not be available to be used because they are \"local\" to the specific function. This is a positive thing since so many intermediate variables can be created during the writing of complicated analyses, and this allows you to keep your variable names simple without running the risk of inadvertantly overwriting a variable with a new value."
   ]
  },
  {
   "cell_type": "code",
   "execution_count": 7,
   "metadata": {},
   "outputs": [],
   "source": [
    "#Let's write a function to compute the sum of the first n integers (starting at 0)\n",
    "def compute_sum_of_first_numbers(how_many):\n",
    "    numbers = list(range(how_many))\n",
    "    total = sum(numbers)"
   ]
  },
  {
   "cell_type": "code",
   "execution_count": 8,
   "metadata": {},
   "outputs": [
    {
     "ename": "NameError",
     "evalue": "name 'total' is not defined",
     "output_type": "error",
     "traceback": [
      "\u001b[0;31m---------------------------------------------------------------------------\u001b[0m",
      "\u001b[0;31mNameError\u001b[0m                                 Traceback (most recent call last)",
      "\u001b[0;32m<ipython-input-8-dde82a1162f8>\u001b[0m in \u001b[0;36m<module>\u001b[0;34m\u001b[0m\n\u001b[1;32m      1\u001b[0m \u001b[0mcompute_sum_of_first_numbers\u001b[0m\u001b[0;34m(\u001b[0m\u001b[0;36m5\u001b[0m\u001b[0;34m)\u001b[0m\u001b[0;34m\u001b[0m\u001b[0;34m\u001b[0m\u001b[0m\n\u001b[0;32m----> 2\u001b[0;31m \u001b[0mprint\u001b[0m\u001b[0;34m(\u001b[0m\u001b[0mtotal\u001b[0m\u001b[0;34m)\u001b[0m \u001b[0;31m# Try printing total, which is local within the function.\u001b[0m\u001b[0;34m\u001b[0m\u001b[0;34m\u001b[0m\u001b[0m\n\u001b[0m",
      "\u001b[0;31mNameError\u001b[0m: name 'total' is not defined"
     ]
    }
   ],
   "source": [
    "compute_sum_of_first_numbers(5)\n",
    "print(total) # Try printing total, which is local within the function."
   ]
  },
  {
   "cell_type": "code",
   "execution_count": 9,
   "metadata": {},
   "outputs": [],
   "source": [
    "#Let's modify the function to return the value we wanted\n",
    "def compute_sum_of_first_numbers(how_many):\n",
    "    numbers = list(range(how_many))\n",
    "    total = sum(numbers)\n",
    "    return total"
   ]
  },
  {
   "cell_type": "code",
   "execution_count": 10,
   "metadata": {},
   "outputs": [
    {
     "name": "stdout",
     "output_type": "stream",
     "text": [
      "The sum of the first 5 numbers is 10\n"
     ]
    }
   ],
   "source": [
    "# The variable you pass does not need to match the name of the variable in the function\n",
    "num = 5\n",
    "total = compute_sum_of_first_numbers(num)\n",
    "print('The sum of the first {} numbers is {}'.format(num, total))"
   ]
  },
  {
   "cell_type": "code",
   "execution_count": 11,
   "metadata": {},
   "outputs": [
    {
     "ename": "NameError",
     "evalue": "name 'numbers' is not defined",
     "output_type": "error",
     "traceback": [
      "\u001b[0;31m---------------------------------------------------------------------------\u001b[0m",
      "\u001b[0;31mNameError\u001b[0m                                 Traceback (most recent call last)",
      "\u001b[0;32m<ipython-input-11-e070ee18aa20>\u001b[0m in \u001b[0;36m<module>\u001b[0;34m\u001b[0m\n\u001b[1;32m      1\u001b[0m \u001b[0;31m# The local variable \"numbers\" not available because it wasn't returned by the function; thus it throws an error\u001b[0m\u001b[0;34m\u001b[0m\u001b[0;34m\u001b[0m\u001b[0;34m\u001b[0m\u001b[0m\n\u001b[0;32m----> 2\u001b[0;31m \u001b[0mprint\u001b[0m\u001b[0;34m(\u001b[0m\u001b[0mnumbers\u001b[0m\u001b[0;34m)\u001b[0m\u001b[0;34m\u001b[0m\u001b[0;34m\u001b[0m\u001b[0m\n\u001b[0m",
      "\u001b[0;31mNameError\u001b[0m: name 'numbers' is not defined"
     ]
    }
   ],
   "source": [
    "# The local variable \"numbers\" not available because it wasn't returned by the function; thus it throws an error\n",
    "print(numbers)"
   ]
  },
  {
   "cell_type": "code",
   "execution_count": 12,
   "metadata": {},
   "outputs": [],
   "source": [
    "#Let's modify the function to choose where you start your range\n",
    "def compute_sum_of_first_numbers(how_many, starting_point):\n",
    "    end = starting_point + how_many\n",
    "    numbers = list(range(starting_point, end))\n",
    "    total = sum(numbers)\n",
    "    return total"
   ]
  },
  {
   "cell_type": "code",
   "execution_count": 13,
   "metadata": {},
   "outputs": [
    {
     "name": "stdout",
     "output_type": "stream",
     "text": [
      "The sum of the first 5 numbers (starting from 1) is 15\n"
     ]
    }
   ],
   "source": [
    "# As your list of arguments gets longer, make sure you are passing the right arguments to the function\n",
    "num = 5\n",
    "start = 1\n",
    "total = compute_sum_of_first_numbers(num, start)\n",
    "print('The sum of the first {} numbers (starting from {}) is {}'.format(num, start, total))"
   ]
  },
  {
   "cell_type": "code",
   "execution_count": 14,
   "metadata": {},
   "outputs": [
    {
     "name": "stdout",
     "output_type": "stream",
     "text": [
      "The sum of the first 100 numbers (starting from 1000) is 104950\n"
     ]
    }
   ],
   "source": [
    "# The variable you pass does not need to match the name of the variable in the function\n",
    "num = 100\n",
    "start = 1000\n",
    "total = compute_sum_of_first_numbers(num, start)\n",
    "print('The sum of the first {} numbers (starting from {}) is {}'.format(num, start, total))"
   ]
  },
  {
   "cell_type": "markdown",
   "metadata": {},
   "source": [
    "## Control Flow\n",
    "\n",
    "For problems in the Control Flow section, please implement your solutions to all questions inside of a function. Unless otherwise indicated, please call your function in a subsequent cell and store the output into a variable, then print your answer in a sentence using string formatting.\n",
    "\n",
    "The cells I provide are for your convenience. If you need more or fewer, add or delete cells as you wish.\n",
    "\n",
    "#### Part 1 - What's my grade?"
   ]
  },
  {
   "cell_type": "code",
   "execution_count": null,
   "metadata": {
    "collapsed": true
   },
   "outputs": [],
   "source": [
    "# Use these as inputs into your functions\n",
    "# I should be able to change these values and re-run all of your code for Part 1 and get new answers\n",
    "my_points = 53\n",
    "possible_points = 79"
   ]
  },
  {
   "cell_type": "markdown",
   "metadata": {},
   "source": [
    "1.1) Let's start by building a little auto-grader for an exam. In the cells below, build a function that computes a score based on points earned and points possible. Call it to see if it works."
   ]
  },
  {
   "cell_type": "code",
   "execution_count": 19,
   "metadata": {},
   "outputs": [
    {
     "data": {
      "text/plain": [
       "67.08860759493672"
      ]
     },
     "execution_count": 19,
     "metadata": {},
     "output_type": "execute_result"
    }
   ],
   "source": [
    "myPoints = 53\n",
    "possiblePoints = 79\n",
    "\n",
    "def score(pointsEarned, possiblePoints):\n",
    "    return ((pointsEarned / possiblePoints)* 100)\n",
    "\n",
    "score(myPoints,possiblePoints)"
   ]
  },
  {
   "cell_type": "code",
   "execution_count": null,
   "metadata": {
    "collapsed": true
   },
   "outputs": [],
   "source": []
  },
  {
   "cell_type": "markdown",
   "metadata": {},
   "source": [
    "1.2a) Let's figure out whether I passed. In the cell below, build a function that takes a score and determine whether I passed. A passing score is 70%."
   ]
  },
  {
   "cell_type": "code",
   "execution_count": 138,
   "metadata": {},
   "outputs": [
    {
     "name": "stdout",
     "output_type": "stream",
     "text": [
      "You got 67 % on this test, so you failed\n"
     ]
    }
   ],
   "source": [
    "currentTest = test1Max\n",
    "myPoints = 53 \n",
    "test1Max = 79\n",
    "\n",
    "def score(pointsEarned, possiblePoints):\n",
    "    return ((pointsEarned / possiblePoints)* 100)\n",
    "\n",
    "myScore = score(myPoints, currentTest)\n",
    "\n",
    "def passingGrade():\n",
    "    if (myScore) >= 70:\n",
    "        print('You got',round(myScore),'% on this test, so you passed!')\n",
    "    else:\n",
    "        print ('You got',round(myScore),'% on this test, so you failed')\n",
    "passingGrade()\n",
    "    "
   ]
  },
  {
   "cell_type": "markdown",
   "metadata": {},
   "source": [
    "1.2b) Build a function that takes an exam score and calls your function from `1.2a`. In your new function, take the result from `1.2a` and use control flow to print a sentence indicating whether I passed or not. Complete the problem by calling your function."
   ]
  },
  {
   "cell_type": "code",
   "execution_count": null,
   "metadata": {
    "collapsed": true
   },
   "outputs": [],
   "source": []
  },
  {
   "cell_type": "code",
   "execution_count": null,
   "metadata": {
    "collapsed": true
   },
   "outputs": [],
   "source": []
  },
  {
   "cell_type": "markdown",
   "metadata": {},
   "source": [
    "1.3) Now let's determine what letter grade I got on the exam. Using the traditional 90-80-70-60 grading scale, please build a function that uses Python control flow to return the letter grade I got. Then call your function while passing it my exam score."
   ]
  },
  {
   "cell_type": "code",
   "execution_count": 162,
   "metadata": {},
   "outputs": [
    {
     "name": "stdout",
     "output_type": "stream",
     "text": [
      "57% boo you whore\n"
     ]
    }
   ],
   "source": [
    "currentTest = test1Max\n",
    "myPoints = 45\n",
    "test1Max = 79\n",
    "plus = (100, 99, 98, 97,89,88,87,79,78,77,69,68,67)\n",
    "minus = (91,92,90,80,81,82,70,71,72,60,61,62)\n",
    "\n",
    "def score(pointsEarned, possiblePoints):\n",
    "    return ((pointsEarned / possiblePoints)* 100)\n",
    "\n",
    "myScore = round(score(myPoints, currentTest))\n",
    "\n",
    "\n",
    "def plusOrMinusFunction(theScore):\n",
    "    if theScore in plus:\n",
    "        return \"+\"\n",
    "    elif theScore in minus:\n",
    "        return \"-\"\n",
    "    else:\n",
    "        return \"\"\n",
    "\n",
    "plusOrMinus = plusOrMinusFunction(myScore)\n",
    "    \n",
    "def scoreGrade(testScore):\n",
    "    if testScore >= 90:\n",
    "        print('Congrats! Your score is {}% so you get an A{}, and you passed!'.format(myScore, plusOrMinus))\n",
    "    elif testScore >= 80:\n",
    "        print('Congrats! Your score is {}% so you get a B{}, and you passed!'.format(myScore, plusOrMinus))\n",
    "    elif testScore >= 70:\n",
    "        print('Congrats! Your score is {}% so you get a C{}, and you passed!'.format(myScore, plusOrMinus))\n",
    "    elif myScore >= 60:\n",
    "        print('Bummer! Your score is {}% so you get a D{}, and you did not pass'.format(myScore, plusOrMinus))\n",
    "    else:\n",
    "        print('{}% boo you whore'.format(myScore))\n",
    "\n",
    "scoreGrade(myScore)\n"
   ]
  },
  {
   "cell_type": "code",
   "execution_count": null,
   "metadata": {},
   "outputs": [],
   "source": []
  },
  {
   "cell_type": "markdown",
   "metadata": {},
   "source": [
    "1.4) Now let's get even more precise and determine what specific letter grade I got on the exam. If the score (after rounding) ends in a 7, 8, or 9, then add a \"+\" to my letter grade (e.g. 88% is a B+). If the score ends in a 0, 1, or 2, then add a '-' to my letter grade (e.g. 92% is an A-). Scores ending in 3, 4, 5, or 6 should have no + or -. Please build a function that uses Python control flow to return the specific grade that I got. Call it and print what I got in a sentence.\n",
    "\n",
    "NOTE: There are MANY different ways to implement this - some are more efficient than others. I encourage you to consider ways of implementing this without having to write out EVERY single grade possibility in your if-else statements. Think hard about all of the techniques you've learned so far! You do not *need* to write out every single possibility. **I will award up to 10 extra credit points on the first exam to the person that figures out the most efficient way of doing this!** The number of points awarded depends on how good the implementation is (this is only valid for the first submittal, not on the re-submittal)."
   ]
  },
  {
   "cell_type": "code",
   "execution_count": null,
   "metadata": {
    "collapsed": true
   },
   "outputs": [],
   "source": []
  },
  {
   "cell_type": "code",
   "execution_count": null,
   "metadata": {
    "collapsed": true
   },
   "outputs": [],
   "source": []
  },
  {
   "cell_type": "code",
   "execution_count": null,
   "metadata": {
    "collapsed": true
   },
   "outputs": [],
   "source": []
  },
  {
   "cell_type": "code",
   "execution_count": null,
   "metadata": {
    "collapsed": true
   },
   "outputs": [],
   "source": []
  },
  {
   "cell_type": "markdown",
   "metadata": {},
   "source": [
    "Some students are taking the class as pass/fail and others are taking the class for a real grade. I've created a new variable called `grade_type`. The two possible values for `grade_type` are `'pass_fail'` or `'graded'`."
   ]
  },
  {
   "cell_type": "code",
   "execution_count": null,
   "metadata": {
    "collapsed": true
   },
   "outputs": [],
   "source": [
    "grade_type = 'pass_fail' #alternatively could be 'graded'"
   ]
  },
  {
   "cell_type": "markdown",
   "metadata": {},
   "source": [
    "1.5) Build a function that evaluates a score and grade_type to return either the specific letter grade that I got (based on criteria from  1.4) or \"Pass\" or \"Fail\" (based on the criteria from Part 1.1). Call your function with my score and grade type and print what I got in a sentence."
   ]
  },
  {
   "cell_type": "code",
   "execution_count": 305,
   "metadata": {},
   "outputs": [
    {
     "name": "stdout",
     "output_type": "stream",
     "text": [
      "Sorry, you failed, your score was 55% and your grade is F\n",
      "Sorry, you failed, your score was 61% and your grade is D-\n",
      "Sorry, you failed, your score was 60% and your grade is D-\n",
      "Sorry, you failed, your score was 66% and your grade is D\n",
      "Sorry, you failed, your score was 69% and your grade is D+\n",
      "Congrats, you passed! Your score was 71% and your grade is C-.\n",
      "Congrats, you passed! Your score was 79% and your grade is C+.\n",
      "Congrats, you passed! Your score was 100% and your grade is A+.\n",
      "Congrats, you passed! Your score was 94% and your grade is A.\n"
     ]
    }
   ],
   "source": [
    "test_one_max = 79\n",
    "current_test = test_one_max\n",
    "random_test_scores = (55, 61, 60, 66, 69, 71, 79, 100, 94)\n",
    "\n",
    "#ended up editing out the .append  \n",
    "def calculate_test_score(points_earned, current_test, test_score_list()): \n",
    "    return (round((points_earned / current_test)* 100)).append(test_score_list)\n",
    "\n",
    "\n",
    "\n",
    "def determine_plus_minus(test_score):\n",
    "    if test_score == 100:\n",
    "        return \"+\"\n",
    "    elif test_score % 10 >= 7:\n",
    "        return \"+\"\n",
    "    elif test_score % 10 <= 3: \n",
    "        return \"-\"\n",
    "    else:\n",
    "        return \"\"\n",
    "    \n",
    "    \n",
    "def determine_score_grade(test_score):\n",
    "    if test_score >= 90:\n",
    "        return ('A{}'.format((determine_plus_minus)(test_score)))\n",
    "    elif test_score >= 80:\n",
    "        return ('B{}'.format((determine_plus_minus)(test_score)))\n",
    "    elif test_score >= 70:\n",
    "        return ('C{}'.format((determine_plus_minus)(test_score))) \n",
    "    elif test_score >= 60:\n",
    "        return ('D{}'.format((determine_plus_minus)(test_score)))\n",
    "    else:\n",
    "        return ('F')\n",
    "\n",
    "def determine_pass_or_fail(test_score):\n",
    "    if test_score >= 70:\n",
    "        return('Congrats, you passed!')\n",
    "    else:\n",
    "        return ('Sorry, you failed')\n",
    "\n",
    "def print_score_statement(test_score):\n",
    "    if test_score >=70:\n",
    "        print ('{} Your score was {}% and your grade is {}.'.format((determine_pass_or_fail(test_score)),test_score,(determine_score_grade(test_score))))\n",
    "    else:\n",
    "        print ('{}, your score was {}% and your grade is {}'.format((determine_pass_or_fail(test_score)),test_score,(determine_score_grade(test_score))))\n",
    "   \n",
    "for a in random_test_scores:\n",
    "    print_score_statement(a)\n",
    "    \n"
   ]
  },
  {
   "cell_type": "code",
   "execution_count": 248,
   "metadata": {},
   "outputs": [
    {
     "name": "stdout",
     "output_type": "stream",
     "text": [
      "Sorry, you failed, your score was 39% and your grade is F\n",
      "Sorry, you failed, your score was 45% and your grade is F\n",
      "Sorry, you failed, your score was 62% and your grade is D-\n",
      "Sorry, you failed, your score was 67% and your grade is D+\n",
      "Congrats, you passed! Your score was 84% and your grade is B.\n",
      "Congrats, you passed! Your score was 89% and your grade is B+.\n",
      "Congrats, you passed! Your score was 99% and your grade is A+.\n",
      "Congrats, you passed! Your score was 100% and your grade is A+.\n",
      "Sorry, you failed, your score was 65% and your grade is D\n"
     ]
    }
   ],
   "source": [
    "test_one = 89\n",
    "current_test = test_one\n",
    "test_point_list = (35, 40, 55, 60, 75, 79, 88, 89, 58)\n",
    "test_score_list = []\n",
    "\n",
    "def calculate_test_score(points_earned, current_test):\n",
    "    return (round((points_earned / current_test)* 100))\n",
    "\n",
    "for i in test_point_list:\n",
    "    test_score_list.append(calculate_test_score(i, current_test))\n",
    "\n",
    "\n",
    "def determine_plus_minus(test_score):\n",
    "    if test_score == 100:\n",
    "        return \"+\"\n",
    "    elif test_score % 10 >= 7:\n",
    "        return \"+\"\n",
    "    elif test_score % 10 <= 2: \n",
    "        return \"-\"\n",
    "    else:\n",
    "        return \"\"\n",
    "    \n",
    "    \n",
    "def determine_score_grade(test_score):\n",
    "    if test_score >= 90:\n",
    "        return ('A{}'.format((determine_plus_minus)(test_score)))#looking at this again, why does this work with \n",
    "    elif test_score >= 80:\n",
    "        return ('B{}'.format((determine_plus_minus)(test_score)))#this (dpm)(ts)- shouldnt it be (dpm(ts)) ?\n",
    "    elif test_score >= 70:\n",
    "        return ('C{}'.format((determine_plus_minus)(test_score))) \n",
    "    elif test_score >= 60:\n",
    "        return ('D{}'.format((determine_plus_minus)(test_score)))\n",
    "    else:\n",
    "        return ('F')\n",
    "\n",
    "def determine_pass_or_fail(test_score):\n",
    "    if test_score >= 70:\n",
    "        return('Congrats, you passed!')\n",
    "    else:\n",
    "        return ('Sorry, you failed')\n",
    "\n",
    "def print_score_statement(test_score): \n",
    "    if test_score >=70:\n",
    "        print ('{} Your score was {}% and your grade is {}.'.\n",
    "               format((determine_pass_or_fail(test_score)),test_score,(determine_score_grade(test_score))))\n",
    "    else:\n",
    "        print ('{}, your score was {}% and your grade is {}'.\n",
    "               format((determine_pass_or_fail(test_score)),test_score,(determine_score_grade(test_score))))  \n",
    "\n",
    "for a in test_score_list:\n",
    "    print_score_statement(a)"
   ]
  },
  {
   "cell_type": "code",
   "execution_count": 356,
   "metadata": {},
   "outputs": [
    {
     "name": "stdout",
     "output_type": "stream",
     "text": [
      "[]\n"
     ]
    }
   ],
   "source": [
    "test_one_max = 79\n",
    "current_test = test_one_max\n",
    "random_test_scores = (55, 61, 60, 66, 69, 71, 79, 100, 94)\n",
    "test_score_list = []\n",
    "\n",
    "def calculate_test_score(points_earned, current_test):\n",
    "    return (round((points_earned / current_test)* 100))\n",
    "\n"
   ]
  },
  {
   "cell_type": "markdown",
   "metadata": {},
   "source": [
    "#### Part 2 - You're such a square!\n",
    "I want to know whether a number is a perfect square. If you recall, a perfect square is a number whose square root is an integer. Python doesn't natively know how to do square roots, but from previous math classes, you should know that the square root of a number is really just a number to the power `0.5`. We will eventually learn how to use the various scientific libraries that allow us to perform square roots more naturally, but for now, this is a good workaround.\n",
    "\n",
    "I've assigned a number a value. I want to know if it is a perfect square (i.e. if the square root of the number is an integer)."
   ]
  },
  {
   "cell_type": "code",
   "execution_count": null,
   "metadata": {
    "collapsed": true
   },
   "outputs": [],
   "source": [
    "number = 54854788396"
   ]
  },
  {
   "cell_type": "markdown",
   "metadata": {},
   "source": [
    "2.1) Build a function that uses Python control flow to determine whether a number passed to it is a perfect square. Call it and print whether it is perfect in a sentence."
   ]
  },
  {
   "cell_type": "code",
   "execution_count": 476,
   "metadata": {
    "scrolled": false
   },
   "outputs": [],
   "source": [
    "#import random \n",
    "#random_number_list = random.sample(range(0, 1000), 10)\n",
    "#perfect_square_list = []\n",
    "\n",
    "#for a in random_number_list:\n",
    " #   if (a ** 0.5) % 1 == 0:\n",
    "  #      perfect_square_list.append(a)\n",
    "\n",
    "#def determine_perfect_square(number):\n",
    " #   square_root = number ** 0.5\n",
    "  #  if square_root % 1 == 0:\n",
    "   #     return ('{} is a perfect square, its square root is {}'.format(number,square_root))\n",
    "    #else:\n",
    "     #   return ('{} is not a perfect square, its square root is {}'.format(number, square_root))\n",
    "        "
   ]
  },
  {
   "cell_type": "code",
   "execution_count": 510,
   "metadata": {
    "scrolled": false
   },
   "outputs": [],
   "source": [
    "#second version without an else statement for dps function \n",
    "import random \n",
    "random_number_list = random.sample(range(0, 1000), 10)\n",
    "perfect_square_list = []\n",
    "\n",
    "for a in random_number_list:\n",
    "    if (a ** 0.5) % 1 == 0:\n",
    "        perfect_square_list.append(a)\n",
    "\n",
    "def determine_perfect_square(number):\n",
    "    square_root = number ** 0.5\n",
    "    if square_root % 1 == 0:\n",
    "        return 1\n"
   ]
  },
  {
   "cell_type": "code",
   "execution_count": null,
   "metadata": {
    "collapsed": true
   },
   "outputs": [],
   "source": []
  },
  {
   "cell_type": "markdown",
   "metadata": {},
   "source": [
    "2.2) I desperately want my number to be perfect. Build a function that takes a number and figures out the smallest (positive) amount I would have to add to the number to make it perfect. Your function should return the amount that you needed to add."
   ]
  },
  {
   "cell_type": "code",
   "execution_count": 508,
   "metadata": {},
   "outputs": [],
   "source": [
    "import random \n",
    "random_number_list = random.sample(range(0, 1000), 25)\n",
    "\n",
    "def find_square_root(number):\n",
    "    return number ** 0.5 \n",
    "\n",
    "def calculate_next_square_difference(number):\n",
    "    square_root = number ** 0.5 \n",
    "    next_root = int(square_root + 1)\n",
    "    next_perfect_square = next_root ** 2\n",
    "    difference = next_perfect_square - number\n",
    "    return difference"
   ]
  },
  {
   "cell_type": "code",
   "execution_count": null,
   "metadata": {},
   "outputs": [],
   "source": []
  },
  {
   "cell_type": "markdown",
   "metadata": {},
   "source": [
    "2.3) Build a function that takes a number calls your function from 2.1. If it determines that your number is already perfect, print a sentence indicating that your number is already perfect. If it is not already perfect, then have your code call your function from 2.2 and determine how much needs to be added in order to make it perfect. Print a sentence indicating how much I would have to add to my original number and what the resulting perfect square number would be."
   ]
  },
  {
   "cell_type": "code",
   "execution_count": 511,
   "metadata": {},
   "outputs": [],
   "source": [
    "def determine_or_find_perfect_square(number):\n",
    "    if determine_perfect_square(number) == 1:\n",
    "        print ('{} is already a perfect square its square root is {}'.format(number,find_square_root(number)))\n",
    "    else:\n",
    "        difference = calculate_next_square_difference(number)\n",
    "        new_perfect_square = number + difference\n",
    "        print('{} is not a perfect square, you will have to add {} to it to get your perfect square of {}'.format\n",
    "             (number, difference, new_perfect_square))\n",
    "        \n",
    "#for i in random_number_list:\n",
    "    #determine_or_find_perfect_square(i)"
   ]
  },
  {
   "cell_type": "code",
   "execution_count": null,
   "metadata": {
    "collapsed": true
   },
   "outputs": [],
   "source": []
  },
  {
   "cell_type": "markdown",
   "metadata": {},
   "source": [
    "## Loops\n",
    "Unless otherwise indicated, you do not need to use functions for questions in this section."
   ]
  },
  {
   "cell_type": "markdown",
   "metadata": {},
   "source": [
    "#### Part 3 - Let's learn about numbers"
   ]
  },
  {
   "cell_type": "markdown",
   "metadata": {},
   "source": [
    "3.1) Build a for-loop that prints the first 5 numbers (starting at 0)."
   ]
  },
  {
   "cell_type": "code",
   "execution_count": 512,
   "metadata": {},
   "outputs": [
    {
     "name": "stdout",
     "output_type": "stream",
     "text": [
      "0\n",
      "1\n",
      "2\n",
      "3\n",
      "4\n"
     ]
    }
   ],
   "source": [
    "for i in range(5):\n",
    "    print(i)"
   ]
  },
  {
   "cell_type": "markdown",
   "metadata": {},
   "source": [
    "3.2) Build a for-loop that evaluates each of the first 10 numbers (starting at 1) and prints a sentence indicating whether the number is even or odd."
   ]
  },
  {
   "cell_type": "code",
   "execution_count": 516,
   "metadata": {},
   "outputs": [
    {
     "name": "stdout",
     "output_type": "stream",
     "text": [
      "1 is an odd number\n",
      "2 is an even number\n",
      "3 is an odd number\n",
      "4 is an even number\n",
      "5 is an odd number\n",
      "6 is an even number\n",
      "7 is an odd number\n",
      "8 is an even number\n",
      "9 is an odd number\n",
      "10 is an even number\n"
     ]
    }
   ],
   "source": [
    "for i in range(1,11):\n",
    "    if i % 2 == 0:\n",
    "        print ('{} is an even number'.format(i))\n",
    "    else:\n",
    "        print('{} is an odd number'.format(i))"
   ]
  },
  {
   "cell_type": "markdown",
   "metadata": {},
   "source": [
    "3.3) What is the sum of the squares of all numbers less than or equal to 10?"
   ]
  },
  {
   "cell_type": "code",
   "execution_count": 579,
   "metadata": {},
   "outputs": [
    {
     "name": "stdout",
     "output_type": "stream",
     "text": [
      "22.4682781862041\n"
     ]
    }
   ],
   "source": [
    "square_list = []\n",
    "square_list_sum = []\n",
    "\n",
    "for a in range(1,11):\n",
    "    square_list.append(a ** 0.5)\n",
    "    square_list_sum.append(sum(square_list))\n",
    "\n",
    "    print(square_list_sum[-1])"
   ]
  },
  {
   "cell_type": "markdown",
   "metadata": {},
   "source": [
    "3.4) What is the sum of all numbers less than or equal to 1000 that are divisible by 3 or 5"
   ]
  },
  {
   "cell_type": "code",
   "execution_count": 591,
   "metadata": {},
   "outputs": [
    {
     "data": {
      "text/plain": [
       "234168"
      ]
     },
     "execution_count": 591,
     "metadata": {},
     "output_type": "execute_result"
    }
   ],
   "source": [
    "numbers_divisible_by_3_or_5 = []\n",
    "sum_of_divisible_numbers = []\n",
    "\n",
    "for i in range(0,1001):\n",
    "    if i % 3 == 0 and i % 5 == 0:\n",
    "        numbers_divisible_by_3_or_5.append(i)\n",
    "    elif i % 5 == 0:\n",
    "        numbers_divisible_by_3_or_5.append(i)\n",
    "    elif i % 3 == 0:\n",
    "        numbers_divisible_by_3_or_5.append(i)\n",
    "    \n",
    "sum(numbers_divisible_by_3_or_5)"
   ]
  },
  {
   "cell_type": "markdown",
   "metadata": {},
   "source": [
    "3.5) What is the sum of all numbers less than or equal to 1000 that are divisible by both 3 and 5?"
   ]
  },
  {
   "cell_type": "code",
   "execution_count": 594,
   "metadata": {},
   "outputs": [
    {
     "data": {
      "text/plain": [
       "33165"
      ]
     },
     "execution_count": 594,
     "metadata": {},
     "output_type": "execute_result"
    }
   ],
   "source": [
    "numbers_divisible_by_3_and_5 = []\n",
    "for i in range(0,1001):\n",
    "    if i % 3 == 0 and i % 5 == 0:\n",
    "        numbers_divisible_by_3_and_5.append(i)\n",
    "        \n",
    "sum(numbers_divisible_by_3_and_5)"
   ]
  },
  {
   "cell_type": "markdown",
   "metadata": {},
   "source": [
    "3.6) What are all of the numbers less than or equal to 1000 that are perfect squares?"
   ]
  },
  {
   "cell_type": "code",
   "execution_count": 598,
   "metadata": {},
   "outputs": [
    {
     "data": {
      "text/plain": [
       "10416"
      ]
     },
     "execution_count": 598,
     "metadata": {},
     "output_type": "execute_result"
    }
   ],
   "source": [
    "perfect_squares_in_range = []\n",
    "\n",
    "for i in range(0,1001):\n",
    "    if (i ** 0.5) % 1 == 0:\n",
    "        perfect_squares_in_range.append(i)\n",
    "\n",
    "sum(perfect_squares_in_range)"
   ]
  },
  {
   "cell_type": "markdown",
   "metadata": {},
   "source": [
    "3.7) For numbers less than or equal to 20, compute the product of even and odd numbers, respectively."
   ]
  },
  {
   "cell_type": "code",
   "execution_count": 605,
   "metadata": {},
   "outputs": [
    {
     "name": "stdout",
     "output_type": "stream",
     "text": [
      "110 100\n"
     ]
    }
   ],
   "source": [
    "even_numbers = []\n",
    "odd_numbers = []\n",
    "\n",
    "for number in range(0,21):\n",
    "    if i % 2 == 0:\n",
    "        even_numbers.append(number)\n",
    "    else:\n",
    "        odd_numbers.append(number)\n",
    "sum_of_even = sum(even_numbers)\n",
    "sum_of_odd = sum(odd_numbers)\n",
    "\n",
    "print(sum_of_even,sum_of_odd)\n"
   ]
  },
  {
   "cell_type": "markdown",
   "metadata": {},
   "source": [
    "3.8) For numbers less than or equal to 100, I want to know all of the numbers divisible by 2,3,4,5,6,7,8,9, and 10, **respectively.** Generate a list of numbers divisible by each divisor (i.e. list of numbers divisible by 2, list of numbers divisible by 3, etc)."
   ]
  },
  {
   "cell_type": "code",
   "execution_count": 868,
   "metadata": {},
   "outputs": [],
   "source": [
    "#got a bit stuck on this one, had come up with an answer but was very long code. I didnt know you could have a \n",
    "#second for statement within a for statement to argue for another variable\n",
    "divisors = range(2,11)\n",
    "dividends = range(1,101)\n",
    "numbers_divisible_by = {}\n",
    "\n",
    "for divisor in divisors:\n",
    "    numbers_divisible_by[divisor] = []\n",
    "\n",
    "\n",
    "for number in dividends:\n",
    "    for divisor in divisors:\n",
    "        if number % divisor == 0:\n",
    "            numbers_divisible_by[divisor].append(number)\n",
    "\n",
    "    "
   ]
  },
  {
   "cell_type": "markdown",
   "metadata": {},
   "source": [
    "#### Part 4 - Find the missing number\n",
    "In the next cell, I'm generating a list of numbers where all of the numbers appear exactly twice, except for one (which shows up only once)."
   ]
  },
  {
   "cell_type": "code",
   "execution_count": 975,
   "metadata": {
    "scrolled": false
   },
   "outputs": [
    {
     "name": "stdout",
     "output_type": "stream",
     "text": [
      "Finally, we have the answer... the missing number is 95207!!!\n"
     ]
    }
   ],
   "source": [
    "def generate_missing_number_list():\n",
    "    import random\n",
    "    nums = random.sample(list(range(1,100000)), 10000) * 2\n",
    "    nums.pop()\n",
    "    random.shuffle(nums)\n",
    "    return nums\n",
    "\n",
    "number_list = generate_missing_number_list()\n",
    "number_dict = {}\n",
    "\n",
    "for number in number_list:\n",
    "    if number in number_dict.keys():\n",
    "        number_dict[number] += 1\n",
    "    else:\n",
    "        number_dict[number] = 1\n",
    "\n",
    "for number in number_dict.keys():\n",
    "    if number_dict[number] == 1:\n",
    "        print('Finally, we have the answer... the missing number is {}!!!'.format(number))\n",
    "\n",
    "\n",
    "\n"
   ]
  },
  {
   "cell_type": "markdown",
   "metadata": {},
   "source": [
    "4.1) Find the number that appears only once in `numbers`."
   ]
  },
  {
   "cell_type": "code",
   "execution_count": 247,
   "metadata": {},
   "outputs": [
    {
     "name": "stdout",
     "output_type": "stream",
     "text": [
      "99190\n"
     ]
    }
   ],
   "source": [
    "def generate_missing_number_list():\n",
    "    import random\n",
    "    nums = random.sample(list(range(1,100000)), 10000) * 2\n",
    "    nums.pop()\n",
    "    random.shuffle(nums)\n",
    "    return nums\n",
    "number_list = generate_missing_number_list()\n",
    "\n",
    "number_list_set = set(number_list)\n",
    "number_list_set_sum_2x = sum(number_list_set) * 2\n",
    "missing_number = (sum(number_list) - number_list_set_sum_2x) * -1\n",
    "\n",
    "print(missing_number)\n"
   ]
  },
  {
   "cell_type": "code",
   "execution_count": null,
   "metadata": {},
   "outputs": [],
   "source": []
  },
  {
   "cell_type": "code",
   "execution_count": null,
   "metadata": {},
   "outputs": [],
   "source": []
  },
  {
   "cell_type": "code",
   "execution_count": null,
   "metadata": {
    "collapsed": true
   },
   "outputs": [],
   "source": []
  },
  {
   "cell_type": "markdown",
   "metadata": {},
   "source": [
    "#### Part 5 - What's my grade?\n",
    "In the next cell, I'm generating data associated with students. The data is stored in three lists where the position of each index can be assumed to be associated with a single student. The lists include the students' ids and their scores on an exam. The exam was out of a possible total of 75 points"
   ]
  },
  {
   "cell_type": "code",
   "execution_count": 145,
   "metadata": {},
   "outputs": [],
   "source": [
    "import uuid\n",
    "import numpy as np\n",
    "ids = [str(uuid.uuid4()) for _ in range(10)]\n",
    "points = [min(75, round(np.random.normal(.8,.1)*75)) for _ in range(10)]\n",
    "grade_type = [np.random.choice(['pass_fail', 'graded'], p=[.1,.9]) for _ in range(10)]\n",
    "\n"
   ]
  },
  {
   "cell_type": "markdown",
   "metadata": {},
   "source": [
    "5.1) Using your functions generated in problems `1.4` and `1.5` earlier in this assignment, please assign an exam grade to each student."
   ]
  },
  {
   "cell_type": "code",
   "execution_count": 144,
   "metadata": {},
   "outputs": [],
   "source": [
    "import uuid\n",
    "import numpy as np\n",
    "ids = [str(uuid.uuid4()) for _ in range(10)]\n",
    "points = [min(75, round(np.random.normal(.8,.1)*75)) for _ in range(10)]\n",
    "grade_type = [np.random.choice(['pass_fail', 'graded'], p=[.1,.9]) for _ in range(10)]\n",
    "\n",
    "\n"
   ]
  },
  {
   "cell_type": "code",
   "execution_count": 150,
   "metadata": {},
   "outputs": [
    {
     "name": "stdout",
     "output_type": "stream",
     "text": [
      "STUDENT #b0a797c3-0acb-4b8d-baa7-c6605fc1085c Congrats, you passed!, Your score was 92% and your grade is A-.\n",
      "STUDENT #4ddde7eb-2832-4f56-99b1-2a2e71288b3e Congrats, you passed!, Your score was 76% and your grade is C.\n",
      "STUDENT #02477bca-230a-4c6f-96d2-82c31f717c31 Congrats, you passed!, Your score was 80% and your grade is B-.\n",
      "STUDENT #710583c5-fc00-4e69-85a1-2c9aaba6feab Congrats, you passed!, Your score was 71% and your grade is C-.\n",
      "STUDENT #d19cb1fe-b2e4-4bdd-9052-2c16d6fd7406 Sorry, you failed, your score was 69% and your grade is D+\n",
      "STUDENT #2a8a3af0-5048-4233-ad53-fe68577dc97d Sorry, you failed, your score was 65% and your grade is D\n",
      "STUDENT #39eb9c91-4c55-452b-91ff-b83bb27425c9 Congrats, you passed!, Your score was 100% and your grade is A+.\n",
      "STUDENT #2f0f2946-93e2-4630-b716-2834a6cdb534 Congrats, you passed!, Your score was 73% and your grade is C.\n",
      "STUDENT #5e1a754d-02dd-4bf4-8460-b9d800613acf Congrats, you passed!, Your score was 84% and your grade is B.\n",
      "STUDENT #5203a04f-ae50-4372-b1de-22f5bca8b973 Congrats, you passed!, Your score was 76% and your grade is C.\n",
      "d19cb1fe-b2e4-4bdd-9052-2c16d6fd7406 graded 52\n",
      "2f0f2946-93e2-4630-b716-2834a6cdb534 graded 55\n"
     ]
    }
   ],
   "source": [
    "student_dictionary = {}\n",
    "\n",
    "for student in ids:\n",
    "    individual_student = student\n",
    "    student_dictionary[individual_student] = {}\n",
    "    \n",
    "for x in range(len(ids)):\n",
    "    student_dictionary[ids[x]]['points'] = points[x]\n",
    "    student_dictionary[ids[x]]['grade_type'] = grade_type[x]\n",
    "\n",
    "#while this worked I dont think this is the way I was supposed to do it. Couldnt figure out a way around \n",
    "#\"hard coding\" the keys for points, and grade. it worked in this instance because I only had the two keys, but\n",
    "#if there were more it would have been tedious. I also thought about creating a dictionary with lists within it-\n",
    "#for example dict = {key_one : [value1, value2, value3], key_two: [value2.1, value2.2, value2.3]} I left it half\n",
    "#finished because I couldnt really see a way for it to be more effective and less code in thr long run.. :/\n",
    "    \n",
    "    \n",
    "    \n",
    "jasons_test = 75\n",
    "current_test = jasons_test\n",
    "\n",
    "def calculate_test_score(points_earned, current_test):\n",
    "    return (round((points_earned / current_test)* 100))\n",
    "\n",
    "\n",
    "def determine_plus_minus(test_score):\n",
    "    if test_score == 100:\n",
    "        return \"+\"\n",
    "    elif test_score % 10 >= 7:\n",
    "        return \"+\"\n",
    "    elif test_score % 10 <= 2: \n",
    "        return \"-\"\n",
    "    else:\n",
    "        return \"\"\n",
    "    \n",
    "    \n",
    "def determine_score_grade(test_score):\n",
    "    if test_score >= 90:\n",
    "        return ('A{}'.format((determine_plus_minus)(test_score)))\n",
    "    elif test_score >= 80:\n",
    "        return ('B{}'.format((determine_plus_minus)(test_score)))\n",
    "    elif test_score >= 70:\n",
    "        return ('C{}'.format((determine_plus_minus)(test_score))) \n",
    "    elif test_score >= 60:\n",
    "        return ('D{}'.format((determine_plus_minus)(test_score)))\n",
    "    else:\n",
    "        return ('F')\n",
    "\n",
    "def determine_pass_or_fail(test_score, student_id):\n",
    "    if test_score >= 70:\n",
    "        return('STUDENT #{} Congrats, you passed!'.format(student_id))\n",
    "    else:\n",
    "        return ('STUDENT #{} Sorry, you failed'.format(student_id))\n",
    "\n",
    "def print_score_statement(test_score, student_id): \n",
    "    if test_score >=70:\n",
    "        print ('{}, Your score was {}% and your grade is {}.'.\n",
    "               format((determine_pass_or_fail(test_score,student_id)),test_score,(determine_score_grade(test_score))))\n",
    "    else:\n",
    "        print ('{}, your score was {}% and your grade is {}'.\n",
    "               format((determine_pass_or_fail(test_score, student_id)),test_score,(determine_score_grade(test_score))))  \n",
    "\n",
    "for x in range(len(ids)):\n",
    "    test_score = (calculate_test_score(points[x],current_test))\n",
    "    if grade_type[x] == 'graded':\n",
    "        print_score_statement(test_score, ids[x])\n",
    "    else:\n",
    "        print(determine_pass_or_fail(test_score, ids[x]))\n",
    "        \n",
    "print(ids[4],grade_type[4],points[4])\n",
    "print(ids[7],grade_type[7],points[7])\n"
   ]
  },
  {
   "cell_type": "code",
   "execution_count": null,
   "metadata": {
    "collapsed": true
   },
   "outputs": [],
   "source": []
  },
  {
   "cell_type": "code",
   "execution_count": null,
   "metadata": {
    "collapsed": true
   },
   "outputs": [],
   "source": []
  },
  {
   "cell_type": "code",
   "execution_count": null,
   "metadata": {
    "collapsed": true
   },
   "outputs": [],
   "source": []
  },
  {
   "cell_type": "markdown",
   "metadata": {},
   "source": [
    "# Extra Problems - Only Required by Section 05\n",
    "Below are several word problems that use slightly more advanced data sets. The instructions will be less explicit and you'll be required to figure out how to answer the intent of the question."
   ]
  },
  {
   "cell_type": "markdown",
   "metadata": {},
   "source": [
    "#### Part 6 - Describe my students"
   ]
  },
  {
   "cell_type": "markdown",
   "metadata": {},
   "source": [
    "In the cell below, I've written a bit of code to load some data for you to analyze.\n",
    "\n",
    "`student_info` contains personal information for several students. You will use this to answer all of the questions in Part 4."
   ]
  },
  {
   "cell_type": "code",
   "execution_count": 1009,
   "metadata": {},
   "outputs": [
    {
     "data": {
      "text/plain": [
       "10000"
      ]
     },
     "execution_count": 1009,
     "metadata": {},
     "output_type": "execute_result"
    }
   ],
   "source": [
    "import json\n",
    "student_info = json.load(open('data_hw2_part_3.json'))\n",
    "p(student_info)"
   ]
  },
  {
   "cell_type": "markdown",
   "metadata": {},
   "source": [
    "6.1) take a look at student_info and describe what you see. What kind of data structure is it? How many students are in there? Take a look at a single record and describe what that record look like? What kind of data structure is used to describe a student? Do you analysis and write your description in the cell below."
   ]
  },
  {
   "cell_type": "markdown",
   "metadata": {},
   "source": [
    "*Maisie*\n",
    "\n",
    "this is a list of individual dictionarys- list marked by the square brackets oon the outer edges and the commas seperating each set of curly brackets.\n",
    "\n",
    "its 10000 students Jason, so bold of you to refer to it as \"several\"\n",
    "\n",
    "I have selected my guy mr. zieba. we have info on his major, name, student id, gpa (3.15, im no grading expert but that seems bad.) we also have his gender (why no non-binary/ non conforming?? hate they/thems???) and his class"
   ]
  },
  {
   "cell_type": "code",
   "execution_count": null,
   "metadata": {
    "collapsed": true
   },
   "outputs": [],
   "source": []
  },
  {
   "cell_type": "code",
   "execution_count": null,
   "metadata": {
    "collapsed": true
   },
   "outputs": [],
   "source": []
  },
  {
   "cell_type": "code",
   "execution_count": null,
   "metadata": {
    "collapsed": true
   },
   "outputs": [],
   "source": []
  },
  {
   "cell_type": "markdown",
   "metadata": {},
   "source": [
    "6.2) How many different majors are represented by these students?"
   ]
  },
  {
   "cell_type": "code",
   "execution_count": 153,
   "metadata": {},
   "outputs": [
    {
     "name": "stdout",
     "output_type": "stream",
     "text": [
      "['Economics', 'Finance', 'Math', 'Engineering', 'Chemistry', 'Physics']\n"
     ]
    },
    {
     "data": {
      "text/plain": [
       "6"
      ]
     },
     "execution_count": 153,
     "metadata": {},
     "output_type": "execute_result"
    }
   ],
   "source": [
    "major_list = [] \n",
    "\n",
    "for students in student_info: \n",
    "    majors = students['major']\n",
    "    if majors not in major_list: \n",
    "        major_list.append(majors)\n",
    "        \n",
    "print(major_list)\n",
    "len(major_list)"
   ]
  },
  {
   "cell_type": "code",
   "execution_count": null,
   "metadata": {
    "collapsed": true
   },
   "outputs": [],
   "source": []
  },
  {
   "cell_type": "markdown",
   "metadata": {},
   "source": [
    "6.3) What is the most popular major amongst each gender?"
   ]
  },
  {
   "cell_type": "code",
   "execution_count": 195,
   "metadata": {},
   "outputs": [
    {
     "name": "stdout",
     "output_type": "stream",
     "text": [
      "{'Economics': 1500, 'Finance': 1210, 'Chemistry': 972, 'Physics': 494, 'Engineering': 510, 'Math': 235} {'Economics': 473, 'Math': 495, 'Engineering': 1524, 'Chemistry': 535, 'Finance': 1031, 'Physics': 1021}\n"
     ]
    }
   ],
   "source": [
    "gender_list = []\n",
    "class_list = []\n",
    "major_list = []\n",
    "\n",
    "for student in student_info: #this works right now, but is it only working because of the massive list of data\n",
    "    student_class = student['class'] # would it stop working if it were a smaller list of data with less overlap? \n",
    "    gender = student['gender']\n",
    "    major = student['major']\n",
    "    if student_class not in class_list: \n",
    "        class_list.append(student_class)\n",
    "    elif gender not in gender_list:\n",
    "        gender_list.append(gender)\n",
    "    elif major not in major_list: \n",
    "        major_list.append(major)\n",
    "        \n",
    "#print(gender_list)\n",
    "#print(class_list)\n",
    "#print(major_list)\n",
    "\n",
    "female_students = []\n",
    "male_students = []\n",
    "\n",
    "for student in student_info:\n",
    "    student_gender = student['gender']\n",
    "    if student_gender == 'Female': \n",
    "        female_students.append(student)\n",
    "    else:\n",
    "        male_students.append(student)\n",
    "\n",
    "female_major_counter = {}\n",
    "male_major_counter = {}\n",
    "\n",
    "for student in female_students:\n",
    "    major = student['major']\n",
    "    \n",
    "    if major in female_major_counter.keys(): \n",
    "        female_major_counter[major] += 1\n",
    "    else:\n",
    "        female_major_counter[major] = 1\n",
    "\n",
    "        \n",
    "for student in male_students:\n",
    "    major = student['major']\n",
    "    \n",
    "    if major in male_major_counter.keys(): \n",
    "        male_major_counter[major] += 1\n",
    "    else:\n",
    "        male_major_counter[major] = 1\n",
    "        \n",
    "\n",
    "\n",
    "print(female_major_counter,male_major_counter)"
   ]
  },
  {
   "cell_type": "code",
   "execution_count": null,
   "metadata": {},
   "outputs": [],
   "source": []
  },
  {
   "cell_type": "markdown",
   "metadata": {},
   "source": [
    "6.4) For each major, what is the ratio of males to females in each class? For example, in the major or Economics, what are the ratios of males to females in the freshman class, sophomore class, junior class, and senior class?"
   ]
  },
  {
   "cell_type": "code",
   "execution_count": 196,
   "metadata": {},
   "outputs": [
    {
     "name": "stdout",
     "output_type": "stream",
     "text": [
      "There were 124 women and 313 men in the Junior Engineering class this year.\n",
      "There were 126 women and 351 men in the Sophomore Engineering class this year.\n",
      "There were 105 women and 375 men in the Freshman Engineering class this year.\n",
      "There were 155 women and 485 men in the Senior Engineering class this year.\n",
      "There were 51 women and 107 men in the Junior Math class this year.\n",
      "There were 27 women and 77 men in the Sophomore Math class this year.\n",
      "There were 85 women and 143 men in the Freshman Math class this year.\n",
      "There were 72 women and 168 men in the Senior Math class this year.\n",
      "There were 245 women and 130 men in the Junior Chemistry class this year.\n",
      "There were 260 women and 155 men in the Sophomore Chemistry class this year.\n",
      "There were 243 women and 125 men in the Freshman Chemistry class this year.\n",
      "There were 224 women and 125 men in the Senior Chemistry class this year.\n",
      "There were 295 women and 227 men in the Junior Finance class this year.\n",
      "There were 282 women and 279 men in the Sophomore Finance class this year.\n",
      "There were 311 women and 271 men in the Freshman Finance class this year.\n",
      "There were 322 women and 254 men in the Senior Finance class this year.\n",
      "There were 158 women and 334 men in the Junior Physics class this year.\n",
      "There were 116 women and 271 men in the Sophomore Physics class this year.\n",
      "There were 148 women and 232 men in the Freshman Physics class this year.\n",
      "There were 72 women and 184 men in the Senior Physics class this year.\n",
      "There were 352 women and 105 men in the Junior Economics class this year.\n",
      "There were 378 women and 121 men in the Sophomore Economics class this year.\n",
      "There were 344 women and 97 men in the Freshman Economics class this year.\n",
      "There were 426 women and 150 men in the Senior Economics class this year.\n",
      "{'Engineering': {'Sophomore': 126, 'Junior': 124, 'Freshman': 105, 'Senior': 155}, 'Math': {'Freshman': 85, 'Senior': 72, 'Junior': 51, 'Sophomore': 27}, 'Chemistry': {'Freshman': 243, 'Sophomore': 260, 'Senior': 224, 'Junior': 245}, 'Finance': {'Freshman': 311, 'Junior': 295, 'Sophomore': 282, 'Senior': 322}, 'Physics': {'Senior': 72, 'Junior': 158, 'Freshman': 148, 'Sophomore': 116}, 'Economics': {'Junior': 352, 'Senior': 426, 'Sophomore': 378, 'Freshman': 344}}\n"
     ]
    }
   ],
   "source": [
    "female_major_year_counter = {}\n",
    "male_major_year_counter = {}\n",
    "\n",
    "for major in major_list:\n",
    "    female_major_year_counter[major] = {}\n",
    "    male_major_year_counter[major] = {}\n",
    "\n",
    "\n",
    "for student in female_students:\n",
    "    major = student['major']\n",
    "    student_class = student['class']\n",
    "    \n",
    "    if student_class in female_major_year_counter[major].keys(): \n",
    "        female_major_year_counter[major][student_class] += 1\n",
    "    else:\n",
    "        female_major_year_counter[major][student_class] = 1\n",
    "\n",
    "        \n",
    "for student in male_students:\n",
    "    major = student['major']\n",
    "    student_class = student['class']\n",
    "    \n",
    "    if student_class in male_major_year_counter[major].keys(): \n",
    "        male_major_year_counter[major][student_class] += 1\n",
    "    else:\n",
    "        male_major_year_counter[major][student_class] = 1\n",
    "\n",
    "for major in major_list:\n",
    "    for student_class in class_list: \n",
    "        print('There were {} women and {} men in the {} {} class this year.'\n",
    "              .format(female_major_year_counter[major][student_class],\n",
    "                      male_major_year_counter[major][student_class], student_class, major))\n",
    "        \n",
    "print(female_major_year_counter)"
   ]
  },
  {
   "cell_type": "code",
   "execution_count": 200,
   "metadata": {},
   "outputs": [
    {
     "name": "stdout",
     "output_type": "stream",
     "text": [
      "The ratio of women to men in the Junior Engineering class was 124.0 to 313.0\n",
      "The ratio of women to men in the Sophomore Engineering class was 14.0 to 39.0\n",
      "The ratio of women to men in the Freshman Engineering class was 7.0 to 25.0\n",
      "The ratio of women to men in the Senior Engineering class was 31.0 to 97.0\n",
      "The ratio of women to men in the Junior Math class was 51.0 to 107.0\n",
      "The ratio of women to men in the Sophomore Math class was 27.0 to 77.0\n",
      "The ratio of women to men in the Freshman Math class was 85.0 to 143.0\n",
      "The ratio of women to men in the Senior Math class was 3.0 to 7.0\n",
      "The ratio of women to men in the Junior Chemistry class was 49.0 to 26.0\n",
      "The ratio of women to men in the Sophomore Chemistry class was 52.0 to 31.0\n",
      "The ratio of women to men in the Freshman Chemistry class was 243.0 to 125.0\n",
      "The ratio of women to men in the Senior Chemistry class was 224.0 to 125.0\n",
      "The ratio of women to men in the Junior Finance class was 295.0 to 227.0\n",
      "The ratio of women to men in the Sophomore Finance class was 94.0 to 93.0\n",
      "The ratio of women to men in the Freshman Finance class was 311.0 to 271.0\n",
      "The ratio of women to men in the Senior Finance class was 161.0 to 127.0\n",
      "The ratio of women to men in the Junior Physics class was 79.0 to 167.0\n",
      "The ratio of women to men in the Sophomore Physics class was 116.0 to 271.0\n",
      "The ratio of women to men in the Freshman Physics class was 37.0 to 58.0\n",
      "The ratio of women to men in the Senior Physics class was 9.0 to 23.0\n",
      "The ratio of women to men in the Junior Economics class was 352.0 to 105.0\n",
      "The ratio of women to men in the Sophomore Economics class was 378.0 to 121.0\n",
      "The ratio of women to men in the Freshman Economics class was 344.0 to 97.0\n",
      "The ratio of women to men in the Senior Economics class was 71.0 to 25.0\n"
     ]
    }
   ],
   "source": [
    "#this version returns proper \"ratios\" in the sense that you would want the smallest version. Would like to eventually\n",
    "#create a rounding function to make the ratios a little easier to digest instead of like 124:313\n",
    "\n",
    "def find_gcd(number_1,number_2):\n",
    "    \n",
    "    if number_1 > number_2:\n",
    "        smaller_number = number_2\n",
    "    else:\n",
    "        smaller_number = number_1\n",
    "    for i in range(1, smaller_number+1):\n",
    "        if((number_1 % i == 0) and (number_2 % i == 0)):\n",
    "            gcd = i \n",
    "    return gcd\n",
    "                    \n",
    "                    \n",
    "for major in major_list:\n",
    "    for student_class in class_list: \n",
    "        \n",
    "        gcd = find_gcd(female_major_year_counter[major][student_class], male_major_year_counter[major][student_class])\n",
    "        \n",
    "        print('The ratio of women to men in the {} {} class was {} to {}'.format(student_class, major,\n",
    "        ((female_major_year_counter[major][student_class]) / gcd), ((male_major_year_counter[major][student_class] / gcd)) ))\n",
    "        "
   ]
  },
  {
   "cell_type": "code",
   "execution_count": 205,
   "metadata": {},
   "outputs": [
    {
     "name": "stdout",
     "output_type": "stream",
     "text": [
      "28.4 71.6 Engineering Junior\n",
      "26.4 73.6 Engineering Sophomore\n",
      "21.9 78.1 Engineering Freshman\n",
      "24.2 75.8 Engineering Senior\n",
      "32.3 67.7 Math Junior\n",
      "26.0 74.0 Math Sophomore\n",
      "37.3 62.7 Math Freshman\n",
      "30.0 70.0 Math Senior\n",
      "65.3 34.7 Chemistry Junior\n",
      "62.7 37.3 Chemistry Sophomore\n",
      "66.0 34.0 Chemistry Freshman\n",
      "64.2 35.8 Chemistry Senior\n",
      "56.5 43.5 Finance Junior\n",
      "50.3 49.7 Finance Sophomore\n",
      "53.4 46.6 Finance Freshman\n",
      "55.9 44.1 Finance Senior\n",
      "32.1 67.9 Physics Junior\n",
      "30.0 70.0 Physics Sophomore\n",
      "38.9 61.1 Physics Freshman\n",
      "28.1 71.9 Physics Senior\n",
      "77.0 23.0 Economics Junior\n",
      "75.8 24.2 Economics Sophomore\n",
      "78.0 22.0 Economics Freshman\n",
      "74.0 26.0 Economics Senior\n"
     ]
    }
   ],
   "source": [
    "# for the class percentage\n",
    "for major in major_list:\n",
    "    for student_class in class_list: \n",
    "        class_total = female_major_year_counter[major][student_class] + male_major_year_counter[major][student_class]\n",
    "        female_class_percentage = round((female_major_year_counter[major][student_class] / class_total) * 100,1)\n",
    "        male_class_percentage  = round((male_major_year_counter[major][student_class] / class_total) * 100, 1)\n",
    "        print(female_class_percentage,male_class_percentage, major, student_class)"
   ]
  },
  {
   "cell_type": "code",
   "execution_count": null,
   "metadata": {
    "collapsed": true
   },
   "outputs": [],
   "source": []
  },
  {
   "cell_type": "markdown",
   "metadata": {},
   "source": [
    "6.5) Which major has the highest average gpa for men and which major has the highest gpa for women?"
   ]
  },
  {
   "cell_type": "code",
   "execution_count": 246,
   "metadata": {},
   "outputs": [
    {
     "name": "stdout",
     "output_type": "stream",
     "text": [
      "Engineering: Women 3.0 Men 3.1\n",
      "Math: Women 3.3 Men 3.3\n",
      "Chemistry: Women 3.4 Men 3.3\n",
      "Finance: Women 3.7 Men 3.6\n",
      "Physics: Women 3.3 Men 3.3\n",
      "Economics: Women 3.5 Men 3.5\n"
     ]
    }
   ],
   "source": [
    "female_gpa_dict = {}\n",
    "male_gpa_dict = {}\n",
    "    \n",
    "for student in female_students:\n",
    "    major = student['major']\n",
    "    gpa = student['gpa']\n",
    "    students_in_major = female_major_counter[major]\n",
    "    if major in female_gpa_dict.keys(): \n",
    "        female_gpa_dict[major] += gpa\n",
    "    else:\n",
    "        female_gpa_dict[major] = gpa \n",
    "        \n",
    "for student in male_students:\n",
    "    major = student['major']\n",
    "    gpa = student['gpa']\n",
    "    students_in_major = male_major_counter[major]\n",
    "    if major in male_gpa_dict.keys(): \n",
    "        male_gpa_dict[major] += gpa\n",
    "    else:\n",
    "        male_gpa_dict[major] = gpa\n",
    "        \n",
    "\n",
    "for major in major_list:\n",
    "    average_female_gpa = female_gpa_dict[major] / female_major_counter[major]\n",
    "    average_male_gpa = male_gpa_dict[major] / male_major_counter[major]\n",
    "    print(('{}:'.format(major)),('Women'),round(average_female_gpa,1),('Men'), round(average_male_gpa,1))\n",
    "    \n"
   ]
  },
  {
   "cell_type": "code",
   "execution_count": null,
   "metadata": {
    "collapsed": true
   },
   "outputs": [],
   "source": []
  },
  {
   "cell_type": "code",
   "execution_count": null,
   "metadata": {
    "collapsed": true
   },
   "outputs": [],
   "source": []
  },
  {
   "cell_type": "code",
   "execution_count": null,
   "metadata": {
    "collapsed": true
   },
   "outputs": [],
   "source": []
  }
 ],
 "metadata": {
  "anaconda-cloud": {},
  "kernelspec": {
   "display_name": "Python 3",
   "language": "python",
   "name": "python3"
  },
  "language_info": {
   "codemirror_mode": {
    "name": "ipython",
    "version": 3
   },
   "file_extension": ".py",
   "mimetype": "text/x-python",
   "name": "python",
   "nbconvert_exporter": "python",
   "pygments_lexer": "ipython3",
   "version": "3.8.5"
  }
 },
 "nbformat": 4,
 "nbformat_minor": 1
}
