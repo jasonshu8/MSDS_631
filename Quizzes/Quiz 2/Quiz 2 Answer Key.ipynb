{
 "cells": [
  {
   "cell_type": "markdown",
   "metadata": {},
   "source": [
    "# Quiz 2\n",
    "\n",
    "You will have 45 minutes to answer the following questions. Full points will be awarded for getting the correct answer. Partial credit will be given for work that indicates you were on the right path to a solution. A good way to ensure your intentions are clear and to maximize your partial credit is to write pseudocode before answering any of the more complex problems. \n",
    "\n",
    "**Please ensure that your answers are derived from your code and not by visually inspecting the results and writing down the answer from what you see.**\n",
    "\n",
    "Bonus points  will be awarded if you get the problem correct AND you do so with well written code, which includes:\n",
    "- Well thought out functions and arguments\n",
    "- Good variable names\n",
    "- No global variables in your functions\n",
    "\n",
    "This is a closed note closed book closed internet quiz. Please adhere to these restrictions."
   ]
  },
  {
   "cell_type": "markdown",
   "metadata": {},
   "source": [
    "#### The data\n",
    "\n",
    "For this quiz, you will be using data similar to what we've been using in class, though constructed a little differently. There are three files:\n",
    "- student_directory.json\n",
    "- student_gpas.json\n",
    "- department_enrollment.json\n",
    "\n",
    "Each of these files contains unique information for all of the students. \n",
    "\n",
    "**`student_directory.json`** loads as a dictionary that is keyed on the student ID. For each student ID, you will find a dictionary with their first name, last name, gender, and class. \n",
    "\n",
    "**`student_gpas.json`** loads as a dictionary that is keyed on the student ID. For each student ID you will have a numeric value that is their current GPA.\n",
    "\n",
    "**`department_enrollment.json`** loads as a dictionary that is keyed on the various college departments. For each department, you will have a list of student IDs who are currently enrolled in that department.\n",
    "\n",
    "### Problem 1 **(1 point)** \n",
    "\n",
    "Open each of the files listed above and store them as global variables."
   ]
  },
  {
   "cell_type": "code",
   "execution_count": 20,
   "metadata": {
    "collapsed": true
   },
   "outputs": [],
   "source": [
    "import json\n",
    "def open_file(filename):\n",
    "    with open(filename, 'r') as f:\n",
    "        data = json.load(f)\n",
    "    return data"
   ]
  },
  {
   "cell_type": "code",
   "execution_count": 21,
   "metadata": {
    "collapsed": true
   },
   "outputs": [],
   "source": [
    "student_directory = open_file('student_directory.json')\n",
    "student_gpas = open_file('student_gpas.json')\n",
    "department_enrollment = open_file('department_enrollment.json')"
   ]
  },
  {
   "cell_type": "markdown",
   "metadata": {},
   "source": [
    "### Problem 2 (3 points)\n",
    "\n",
    "The college is trying to see which majors are suffering from the highest rates of academic probation. Probation is instituted whenever a student's GPA drops below a 3.0.\n",
    "\n",
    "How many students does each major have on probation?"
   ]
  },
  {
   "cell_type": "code",
   "execution_count": 3,
   "metadata": {
    "collapsed": true
   },
   "outputs": [],
   "source": [
    "def count_students_on_probation(department_enrollment, major, student_gpas, threshold):\n",
    "    students_ids = department_enrollment[major]\n",
    "    counter = 0\n",
    "    for id_ in students_ids:\n",
    "        gpa = student_gpas[id_]\n",
    "        if gpa < threshold:\n",
    "            counter += 1\n",
    "    return counter"
   ]
  },
  {
   "cell_type": "code",
   "execution_count": 4,
   "metadata": {
    "collapsed": false
   },
   "outputs": [
    {
     "data": {
      "text/plain": [
       "148"
      ]
     },
     "execution_count": 4,
     "metadata": {},
     "output_type": "execute_result"
    }
   ],
   "source": [
    "#Test functionality\n",
    "count_students_on_probation(department_enrollment, 'Economics', student_gpas, 3.0)"
   ]
  },
  {
   "cell_type": "code",
   "execution_count": 29,
   "metadata": {
    "collapsed": false
   },
   "outputs": [],
   "source": [
    "def count_majors_num_students_on_probation(department_enrollment, major, student_gpas, threshold):\n",
    "    majors = department_enrollment.keys()\n",
    "    num_students_on_probation = {}\n",
    "    for major in majors:\n",
    "        num_students_on_probation[major] = count_students_on_probation(department_enrollment, major, student_gpas, threshold)\n",
    "    return num_students_on_probation\n",
    "num_students_on_probation = count_majors_num_students_on_probation(department_enrollment, major, student_gpas, 3.0)"
   ]
  },
  {
   "cell_type": "code",
   "execution_count": 30,
   "metadata": {
    "collapsed": false
   },
   "outputs": [
    {
     "data": {
      "text/plain": [
       "{u'Chemistry': 200,\n",
       " u'Economics': 148,\n",
       " u'Engineering': 731,\n",
       " u'Finance': 108,\n",
       " u'Math': 132,\n",
       " u'Physics': 276}"
      ]
     },
     "execution_count": 30,
     "metadata": {},
     "output_type": "execute_result"
    }
   ],
   "source": [
    "num_students_on_probation"
   ]
  },
  {
   "cell_type": "markdown",
   "metadata": {},
   "source": [
    "### Problem 3 (3 points)\n",
    "\n",
    "What percentage of students enrolled in each major are on probation?"
   ]
  },
  {
   "cell_type": "code",
   "execution_count": 25,
   "metadata": {
    "collapsed": true
   },
   "outputs": [],
   "source": [
    "def get_num_students_in_major(department_enrollment, major):\n",
    "    list_of_students = department_enrollment[major]\n",
    "    num_students = len(list_of_students)\n",
    "    return num_students"
   ]
  },
  {
   "cell_type": "code",
   "execution_count": 27,
   "metadata": {
    "collapsed": false
   },
   "outputs": [],
   "source": [
    "def compute_pct_students_on_probation(num_students_on_probation, department_enrollment):\n",
    "    pct_students_on_probation = {}\n",
    "    for major in num_students_on_probation.keys():\n",
    "        num_total_students = get_num_students_in_major(department_enrollment, major)\n",
    "        pct = num_students_on_probation[major] / float(num_total_students)\n",
    "        pct_students_on_probation[major] = round(pct,3)\n",
    "    return pct_students_on_probation\n",
    "pct_students_on_probation = compute_pct_students_on_probation(num_students_on_probation, department_enrollment)"
   ]
  },
  {
   "cell_type": "code",
   "execution_count": 28,
   "metadata": {
    "collapsed": false
   },
   "outputs": [
    {
     "data": {
      "text/plain": [
       "{u'Chemistry': 0.133,\n",
       " u'Economics': 0.075,\n",
       " u'Engineering': 0.359,\n",
       " u'Finance': 0.048,\n",
       " u'Math': 0.181,\n",
       " u'Physics': 0.182}"
      ]
     },
     "execution_count": 28,
     "metadata": {},
     "output_type": "execute_result"
    }
   ],
   "source": [
    "pct_students_on_probation"
   ]
  },
  {
   "cell_type": "markdown",
   "metadata": {},
   "source": [
    "### Problem 4 (3 points) \n",
    "\n",
    "Which major has the highest percentage of its students on probation?"
   ]
  },
  {
   "cell_type": "code",
   "execution_count": 31,
   "metadata": {
    "collapsed": true
   },
   "outputs": [],
   "source": [
    "def find_highest_value_and_key(dict_of_values):\n",
    "    highest_value = -10000\n",
    "    highest_key = None\n",
    "    for key in dict_of_values:\n",
    "        val = dict_of_values[key]\n",
    "        if val > highest_value:\n",
    "            highest_value = val\n",
    "            highest_key = key\n",
    "    return highest_key, highest_value"
   ]
  },
  {
   "cell_type": "code",
   "execution_count": 33,
   "metadata": {
    "collapsed": false
   },
   "outputs": [],
   "source": [
    "highest_major, highest_pct = find_highest_value_and_key(pct_students_on_probation)"
   ]
  },
  {
   "cell_type": "code",
   "execution_count": 34,
   "metadata": {
    "collapsed": false
   },
   "outputs": [
    {
     "data": {
      "text/plain": [
       "(u'Engineering', 0.359)"
      ]
     },
     "execution_count": 34,
     "metadata": {},
     "output_type": "execute_result"
    }
   ],
   "source": [
    "highest_major, highest_pct"
   ]
  }
 ],
 "metadata": {
  "anaconda-cloud": {},
  "kernelspec": {
   "display_name": "Python [default]",
   "language": "python",
   "name": "python2"
  },
  "language_info": {
   "codemirror_mode": {
    "name": "ipython",
    "version": 2
   },
   "file_extension": ".py",
   "mimetype": "text/x-python",
   "name": "python",
   "nbconvert_exporter": "python",
   "pygments_lexer": "ipython2",
   "version": "2.7.12"
  }
 },
 "nbformat": 4,
 "nbformat_minor": 1
}
