{
 "cells": [
  {
   "cell_type": "markdown",
   "metadata": {},
   "source": [
    "# MSDS 631 - Supplemental Notes\n",
    "## String Formatting and Functions\n",
    "\n",
    "### String formatting"
   ]
  },
  {
   "cell_type": "markdown",
   "metadata": {},
   "source": [
    "#### Quick tutorial on string formatting\n",
    "In case you haven't understood how to do string formatting, I've put a very short tutorial in the cells below. The use of curly braces is what allows Python to understand that you want to replace that place in the string with some sort of input value."
   ]
  },
  {
   "cell_type": "code",
   "execution_count": null,
   "metadata": {
    "collapsed": false
   },
   "outputs": [],
   "source": [
    "# Wherever there are curly braces, Python will expect you to pass it something in the arguments of `format` \n",
    "# The simplest example are empty curly braces and one variable passed\n",
    "base_string = 'Hello, my name is {}.'\n",
    "filled_in_string = base_string.format('Jason')\n",
    "print(filled_in_string)"
   ]
  },
  {
   "cell_type": "code",
   "execution_count": null,
   "metadata": {
    "collapsed": false
   },
   "outputs": [],
   "source": [
    "# You can also assign a string to a variable and fill it in that way\n",
    "name = 'Hilary'\n",
    "base_string = '{} has curly hair.'\n",
    "filled_in_string = base_string.format(name)\n",
    "print(filled_in_string)"
   ]
  },
  {
   "cell_type": "code",
   "execution_count": null,
   "metadata": {
    "collapsed": false
   },
   "outputs": [],
   "source": [
    "# Now I can just loop through an iterator and do the same thing over and over again\n",
    "names = ['Jason', 'Hilary', 'Jon', 'Danny']\n",
    "for name in names:\n",
    "    print('Hello {}'.format(name))"
   ]
  },
  {
   "cell_type": "code",
   "execution_count": null,
   "metadata": {
    "collapsed": false
   },
   "outputs": [],
   "source": [
    "# You can also ask Python to fill in multiple blanks by adding more curly braces.\n",
    "mom = 'Margaret'\n",
    "dad = 'Vincent'\n",
    "me = 'Jason'\n",
    "base_string = \"{}'s parent's names are {} and {}\"\n",
    "filled_in_string = base_string.format(me, mom, dad)\n",
    "print(filled_in_string)"
   ]
  },
  {
   "cell_type": "code",
   "execution_count": null,
   "metadata": {
    "collapsed": false
   },
   "outputs": [],
   "source": [
    "# Sometimes you don't want to have to pass the same value several times. We call this \"aliasing\".\n",
    "# The alias does NOT need to be the same name as whatever variable you pass to it \n",
    "little_sister = 'Jan'\n",
    "big_sister = 'Marsha'\n",
    "base_string = \"\\\"Everything is about {big_sis}, {big_sis}, {big_sis}!!!\\\", exclaimed {lil_sis}.\"\n",
    "filled_in_string = base_string.format(lil_sis=little_sister, big_sis=big_sister)\n",
    "print(filled_in_string)"
   ]
  },
  {
   "cell_type": "code",
   "execution_count": null,
   "metadata": {
    "collapsed": false
   },
   "outputs": [],
   "source": [
    "# Let's combine the previous two to make our code a little more flexible\n",
    "families = [{'mom': 'Lana', 'dad': 'Sterling', 'child': 'Abbiejean'}, {'mom': 'Marge', 'dad': 'Homer', 'child': 'Maggie'}]\n",
    "for family in families:\n",
    "    base_string = \"\\\"{dad}, can you please make {child} a bottle? {child} hasn't eaten yet!\\\", exclaimed {mom}.\"\n",
    "    filled_in_string = base_string.format(child=family['child'], mom=family['mom'], dad=family['dad'])\n",
    "    print(filled_in_string)"
   ]
  },
  {
   "cell_type": "code",
   "execution_count": null,
   "metadata": {
    "collapsed": false
   },
   "outputs": [],
   "source": [
    "# You can also fill in strings with numbers.\n",
    "age = 40\n",
    "name = 'Jason'\n",
    "base_string = \"{} is turning {} next month!\"\n",
    "filled_in_string = base_string.format(name, age)\n",
    "print(filled_in_string)"
   ]
  },
  {
   "cell_type": "code",
   "execution_count": null,
   "metadata": {
    "collapsed": false
   },
   "outputs": [],
   "source": [
    "# One last example of formatting with some conditionals\n",
    "my_name = {'first': 'Jason', 'last': 'Shu'}\n",
    "base_string = \"My reservation is under the name {first} {last}\"\n",
    "filled_in_string = base_string.format(first=my_name['first'], last=my_name['last'])\n",
    "print(filled_in_string)"
   ]
  },
  {
   "cell_type": "code",
   "execution_count": null,
   "metadata": {
    "collapsed": false
   },
   "outputs": [],
   "source": [
    "# But what happens if someone has no last name?\n",
    "# Let's use some control flow to help out\n",
    "names = [{'first': 'Jason', 'last': 'Shu'}, {'first':'Madonna', 'last': None}]\n",
    "base_string = \"My reservation is under the name {first}{space}{last}.\"\n",
    "for name in names:\n",
    "    first = name['first']\n",
    "    last = name['last']\n",
    "    if last == None:\n",
    "        space = ''\n",
    "        last = ''\n",
    "    else:\n",
    "        space = ' '\n",
    "    filled_in_string = base_string.format(first=first, space=space, last=last)\n",
    "    print(filled_in_string)"
   ]
  },
  {
   "cell_type": "markdown",
   "metadata": {},
   "source": [
    "Let's format some strings with numbers now!"
   ]
  },
  {
   "cell_type": "code",
   "execution_count": null,
   "metadata": {
    "collapsed": false
   },
   "outputs": [],
   "source": [
    "pi = 3.14159265358973\n",
    "base_string = 'Everybody knows that pi is {:.2f}'.format(pi)\n",
    "filled_in_string = base_string.format(number=pi)\n",
    "print(filled_in_string)"
   ]
  },
  {
   "cell_type": "markdown",
   "metadata": {},
   "source": [
    "In the string formatting above, the colon inside of the braces indicated to Python that you want to apply special formatting to the number you are going to pass it. By putting `.2f` after the colon, you are saying that you want to convert the float number you are passing it into a float rounded to two decimal places. You can provide whatever level of precision you want by changing the number (e.g. `.6f` will give you six decimal places)."
   ]
  },
  {
   "cell_type": "code",
   "execution_count": null,
   "metadata": {
    "collapsed": false
   },
   "outputs": [],
   "source": [
    "# Note that you are able to do this **without** affecting the actual value of pi.\n",
    "print(pi)\n",
    "print('{:.2f}'.format(pi))\n",
    "print(pi)"
   ]
  },
  {
   "cell_type": "code",
   "execution_count": null,
   "metadata": {
    "collapsed": false
   },
   "outputs": [],
   "source": [
    "# You can still use aliases by putting the name BEFORE the colon\n",
    "base_string = '{number} has a lot of decimal places, but you could round it to just {number:.2f}'\n",
    "filled_in_string = base_string.format(number=pi)\n",
    "print(filled_in_string)"
   ]
  },
  {
   "cell_type": "code",
   "execution_count": null,
   "metadata": {
    "collapsed": false
   },
   "outputs": [],
   "source": [
    "# Let's use a different number for the same phrase.\n",
    "e = 2.71828182845904523 # Another famous math constant\n",
    "filled_in_string = base_string.format(number=e)\n",
    "print(filled_in_string)"
   ]
  },
  {
   "cell_type": "code",
   "execution_count": null,
   "metadata": {
    "collapsed": false
   },
   "outputs": [],
   "source": [
    "# Now let's combine a few of the concepts.\n",
    "constants = {'e': 2.71828182845904523, 'pi': 3.14159265358973}\n",
    "math_saying = 'My favorite math constant is \"{name}\". It has a value of {value}, but I can round it to {value:.2f}.'\n",
    "names = constants.keys()\n",
    "for name in names:\n",
    "    formatted_saying = math_saying.format(name=name, value=constants[name])\n",
    "    print(formatted_saying)"
   ]
  },
  {
   "cell_type": "markdown",
   "metadata": {},
   "source": [
    "Now let's look at another type of numeric string formatting."
   ]
  },
  {
   "cell_type": "code",
   "execution_count": null,
   "metadata": {
    "collapsed": false
   },
   "outputs": [],
   "source": [
    "# Let's turn our score into a percentage without changing the value of our variable\n",
    "points_earned = 27\n",
    "points_possible = 33\n",
    "score = points_earned / points_possible\n",
    "base_string = 'I scored a {:.1%} on the quiz last week. More precisely, I scored a {:.3%}'\n",
    "filled_in_string = base_string.format(score, score)\n",
    "print(filled_in_string)"
   ]
  },
  {
   "cell_type": "markdown",
   "metadata": {},
   "source": [
    "In the above example, the colon is once again indicated to Python that you want to apply formatting to the number you are going to pass it. By putting .1% after the colon (while still inside the braces), you are asking for Python to convert your number into a percentage with a single decimal place. In doing so, Python will automatically multiply your number by 100 and print the rounded result with one decimal place. By putting .3% instead, you are asking Python to do the same thing as before, but with three decimals. Like the decimal formatting, you can do this with whatever level of precision that you would like.\n",
    "\n",
    "This is important because now you do not have to multiply your values by 100 to get a more \"printable\" number. Now I get to keep the actual mathematical representation of my score (ratio of points earned and points_possible)."
   ]
  },
  {
   "cell_type": "code",
   "execution_count": null,
   "metadata": {
    "collapsed": false
   },
   "outputs": [],
   "source": [
    "print(score)\n",
    "print('{:.3%}'.format(score))\n",
    "print(score)"
   ]
  },
  {
   "cell_type": "markdown",
   "metadata": {},
   "source": [
    "There are **many** more ways to format strings. This is not critical to understand. Just memorize how to use the examples above and you will be good for the rest of this course!"
   ]
  },
  {
   "cell_type": "markdown",
   "metadata": {},
   "source": [
    "### Functions\n",
    "One of the challenges with the way we've been coding is that our solutions have been very specific to a single instance and require executing many lines of code to perform the same analysis. Our goal with functions is to \"generalize\" solutions so that we can \"call\" a single line of code to yield the same result.\n",
    "\n",
    "Here's a simple example of a function:"
   ]
  },
  {
   "cell_type": "code",
   "execution_count": null,
   "metadata": {
    "collapsed": true
   },
   "outputs": [],
   "source": [
    "def say_hello_to_me(my_name):\n",
    "    phrase = 'Hello {}'.format(my_name)\n",
    "    print(phrase)"
   ]
  },
  {
   "cell_type": "markdown",
   "metadata": {},
   "source": [
    "Note that it doesn't do anything when I execute it. I have to \"call\" it in order for it to work. In calling it, I have to \"pass\" it an argument. The argument is what is contained inside the parentheses of the function."
   ]
  },
  {
   "cell_type": "code",
   "execution_count": null,
   "metadata": {
    "collapsed": false
   },
   "outputs": [],
   "source": [
    "say_hello_to_me('Jason')"
   ]
  },
  {
   "cell_type": "code",
   "execution_count": null,
   "metadata": {
    "collapsed": false
   },
   "outputs": [],
   "source": [
    "name = 'Hilary'\n",
    "say_hello_to_me(name)"
   ]
  },
  {
   "cell_type": "markdown",
   "metadata": {},
   "source": [
    "Let's try another function"
   ]
  },
  {
   "cell_type": "code",
   "execution_count": null,
   "metadata": {
    "collapsed": true
   },
   "outputs": [],
   "source": [
    "def how_much_change(total_bill, tip_pct, cash_given):\n",
    "    total_with_tip = total_bill * (1 + tip_pct)\n",
    "    change = cash_given - total_with_tip\n",
    "    return change"
   ]
  },
  {
   "cell_type": "code",
   "execution_count": null,
   "metadata": {
    "collapsed": false
   },
   "outputs": [],
   "source": [
    "total_bill = 34.85\n",
    "tip_pct = .2\n",
    "cash_given = 50\n",
    "change = how_much_change(total_bill, tip_pct, cash_given)\n",
    "print(change)"
   ]
  },
  {
   "cell_type": "markdown",
   "metadata": {},
   "source": [
    "Let's take a look at a few features of the function above.\n",
    "\n",
    "First, the function is initiated by the keyword **`def`** followed by the name of the function. After this are the arguments, which are enclosed in parentheses. In this case, there are three different arguments. This means that we will pass the function three values that it will use to perform whatever computations it needs to make (NOTE: you do note have to pass variables with the same name as the arguments - you only need to make sure that the value represents what the argument variable is intended to represent and is of the same data type). Inside of the function is the logic that will get run every time the function is called. Finally, a value is \"returned\" which can be assigned to a variable (or used immediately). You don't have to return a value (as the \"Hello\" example above shows).\n",
    "\n",
    "#### So why bother with functions?\n",
    "\n",
    "You can absolutely write code in Python without ever having to write functions. In fact, most data scientists don't even bother writing functions early in their careers. There are two primary reasons why you really want to write functions:\n",
    "1. It will often help prevent you from re-writing a bunch of code where you have to create many unnecessary intermediate variables\n",
    "2. It will help you organize your thoughts and your code so that you can break down problems into manageable chunks that are more solvable\n",
    "3. It will help you test and debug your code much much more easily\n",
    "\n",
    "As your problems get more difficult, you will start having complex logic using nested for-loops within multiple if-else statements. If you have ALL of your code in a giant script, the likelihood of making a mistake will increase exponentially. If you are lucky, your mistake will result in a syntax error and it won't run; if you are unlucky, your code will still run but it will return the wrong answer to you. The moment you start realizing that you are trying to \"eat the elephant\", you should take a step back and ask yourself if you can break apart your problem into smaller sub-problems (that are assembled later to answer your original problem).\n",
    "\n",
    "Think about Susie's grocery bill from Homework 1. If you tried to do everything in one big blob, it is easy to make mistakes and you can't tell where things went wrong. By breaking down your code into chunks where you are \"telling a story\" by calling your functions, you will be on a much better path to success."
   ]
  },
  {
   "cell_type": "code",
   "execution_count": null,
   "metadata": {
    "collapsed": true
   },
   "outputs": [],
   "source": []
  },
  {
   "cell_type": "code",
   "execution_count": null,
   "metadata": {
    "collapsed": true
   },
   "outputs": [],
   "source": []
  },
  {
   "cell_type": "code",
   "execution_count": null,
   "metadata": {
    "collapsed": true
   },
   "outputs": [],
   "source": []
  },
  {
   "cell_type": "code",
   "execution_count": null,
   "metadata": {
    "collapsed": true
   },
   "outputs": [],
   "source": []
  },
  {
   "cell_type": "code",
   "execution_count": null,
   "metadata": {
    "collapsed": true
   },
   "outputs": [],
   "source": []
  },
  {
   "cell_type": "code",
   "execution_count": null,
   "metadata": {
    "collapsed": true
   },
   "outputs": [],
   "source": []
  },
  {
   "cell_type": "markdown",
   "metadata": {},
   "source": [
    "The previous examples were pretty simple. Let's add a little more logic now.\n",
    "\n",
    "Given a list of itemized bill amounts, the quality of service that was provided, and the amount tendered, I want to compute the amount of change that will be required. We've obviously not accounted for the situation where the amount of cash given does not cover the total bill, but let's ignore that for now."
   ]
  },
  {
   "cell_type": "code",
   "execution_count": null,
   "metadata": {
    "collapsed": true
   },
   "outputs": [],
   "source": [
    "def how_much_change_new(itemized_bill_amounts, how_was_service, cash_given):\n",
    "    total_bill = sum(itemized_bill_amounts)\n",
    "    if how_was_service == 'amazing':\n",
    "        tip_amount = .25 * total_bill\n",
    "    elif how_was_service == 'good':\n",
    "        tip_amount = .2 * total_bill\n",
    "    elif how_was_service == 'okay':\n",
    "        tip_amount = .15 * total_bill\n",
    "    else:\n",
    "        tip_amount = .1 * total_bill\n",
    "    total_with_tip = total_bill + tip_amount\n",
    "    change = cash_given - total_with_tip\n",
    "    return change"
   ]
  },
  {
   "cell_type": "code",
   "execution_count": null,
   "metadata": {
    "collapsed": false
   },
   "outputs": [],
   "source": [
    "line_items = [1.23, 2.34, 6.78, 9.87, 6.54, 10.98]\n",
    "service_level = 'amazing'\n",
    "cash_given = 100\n",
    "change = how_much_change_new(line_items, service_level, cash_given)\n",
    "print(change)"
   ]
  },
  {
   "cell_type": "code",
   "execution_count": null,
   "metadata": {
    "collapsed": true
   },
   "outputs": [],
   "source": []
  },
  {
   "cell_type": "code",
   "execution_count": null,
   "metadata": {
    "collapsed": true
   },
   "outputs": [],
   "source": []
  },
  {
   "cell_type": "code",
   "execution_count": null,
   "metadata": {
    "collapsed": true
   },
   "outputs": [],
   "source": []
  },
  {
   "cell_type": "code",
   "execution_count": null,
   "metadata": {
    "collapsed": true
   },
   "outputs": [],
   "source": []
  },
  {
   "cell_type": "code",
   "execution_count": null,
   "metadata": {
    "collapsed": true
   },
   "outputs": [],
   "source": []
  },
  {
   "cell_type": "code",
   "execution_count": null,
   "metadata": {
    "collapsed": true
   },
   "outputs": [],
   "source": []
  },
  {
   "cell_type": "code",
   "execution_count": null,
   "metadata": {
    "collapsed": true
   },
   "outputs": [],
   "source": []
  },
  {
   "cell_type": "code",
   "execution_count": null,
   "metadata": {
    "collapsed": true
   },
   "outputs": [],
   "source": []
  },
  {
   "cell_type": "markdown",
   "metadata": {},
   "source": [
    "Ok. So now that we understand the bare bones basics, let's try to put together a series of functions that we can call to perform a prime factorization of a number. If you recall what a prime factorization is, it is all of the prime numbers that go into a number. For example, the prime factorization of 8 is [2,2,2]. The prime factorization of 42 is [2,3,7].\n",
    "\n",
    "This is a fairly complex task if you try to \"eat the whole elephant\" it may be very intimidating and you'll not know where to start. This is how you wind up leaving whole problems blank. By starting with a process where you think about how one actually can do a prime factorization, we can write the steps down in a human-readable manner that makes sense to us (while still somewhat representing what we will do with our code). This is called pseudocode.\n",
    "\n",
    "**Prime Factorization Pseudocode**\n",
    "- Start by generating a list of prime number, at least as big as the number you are evaluating\n",
    "- Check to see if the number is a prime number itself\n",
    " - If it is a prime, there is no need to factorize (since we know it will not have any)\n",
    "- If it is not a prime, we start by checking whether the number is divisible by the smallest prime number\n",
    "- If it is, add the prime to the factors and compute the quotient\n",
    "- Continue dividing by the prime number (and adding it to our factors each time) until the quotient is no longer divisible by it; keep track of all of the times that the prime goes into the divisor\n",
    "- Check to see if the remaining quotient is either 1 or a prime number itself\n",
    "- If the remaining quotient is not 1 or a prime, then continue the process with the next prime until the condition in the previous step is satisfied. \n",
    " - If the number is a prime (not 1), then add it to the factors list\n",
    "\n",
    "After thinking about the pseudocode, I've decided I am going to build a few helper functions that do the following:\n",
    "- Check to see if a number is divisible by another number\n",
    "- Check to see how many times a number is divisible by another number and compute the remaining quotient\n",
    "- Check to see if a number is equal to 1 or is a prime number\n",
    "\n",
    "To complete this exercise I will build an algorithm to find all of the prime numbers. I don't want anyone getting bogged down in the details of how I generated it, so just ignore its contents for now. We will review the algorithm another day."
   ]
  },
  {
   "cell_type": "code",
   "execution_count": null,
   "metadata": {
    "collapsed": false
   },
   "outputs": [],
   "source": [
    "# YOU CAN IGNORE ME UNLESS YOU ARE REALLY CURIOUS\n",
    "def generate_all_primes(max_value):\n",
    "    primes = [2,3]\n",
    "    next_value = max(primes) + 2\n",
    "    while next_value <= max_value:\n",
    "        valid = True\n",
    "        for prime in primes:\n",
    "            if prime ** 2 > next_value:\n",
    "                valid = True\n",
    "                break            \n",
    "            elif next_value % prime == 0:\n",
    "                valid = False\n",
    "                break\n",
    "        if valid:\n",
    "            primes.append(next_value)\n",
    "        next_value += 2\n",
    "    return primes"
   ]
  },
  {
   "cell_type": "code",
   "execution_count": null,
   "metadata": {
    "collapsed": false
   },
   "outputs": [],
   "source": [
    "generate_all_primes(20)"
   ]
  },
  {
   "cell_type": "markdown",
   "metadata": {},
   "source": [
    "It works!\n",
    "\n",
    "Now let's start the REAL work!"
   ]
  },
  {
   "cell_type": "code",
   "execution_count": null,
   "metadata": {
    "collapsed": true
   },
   "outputs": [],
   "source": [
    "# First function we need for our factorization algorithm\n",
    "def check_if_divisible_by(number, divisor):\n",
    "    if number % divisor == 0:\n",
    "        return True\n",
    "    else:\n",
    "        return False"
   ]
  },
  {
   "cell_type": "code",
   "execution_count": null,
   "metadata": {
    "collapsed": false
   },
   "outputs": [],
   "source": [
    "# Let's see if it works\n",
    "print('4/2 is', check_if_divisible_by(4,2))\n",
    "print('5/2 is', check_if_divisible_by(5,2))"
   ]
  },
  {
   "cell_type": "markdown",
   "metadata": {},
   "source": [
    "Perfect!!\n",
    "\n",
    "Now let's move on to the next function."
   ]
  },
  {
   "cell_type": "code",
   "execution_count": null,
   "metadata": {
    "collapsed": true
   },
   "outputs": [],
   "source": [
    "# Next function we need for our algorithm\n",
    "def compute_how_many_times_divisible(number, divisor):\n",
    "    times = 0\n",
    "    keep_checking = True\n",
    "    quotient = number\n",
    "    while keep_checking:\n",
    "        if quotient % divisor == 0:\n",
    "            quotient /= divisor # Divide the variable by the divisor and reassign the quotient to the variable\n",
    "            times += 1 # Add 1 to the number of times the divisor goes into the original number\n",
    "        else:\n",
    "            keep_checking = False # Stop trying to compute the divisor\n",
    "    factors = [divisor] * times # Create a list of all of the times that a divisor goes into a number\n",
    "    return factors, int(quotient) # It is less common, but you are allowed to return more than one value"
   ]
  },
  {
   "cell_type": "code",
   "execution_count": null,
   "metadata": {
    "collapsed": false
   },
   "outputs": [],
   "source": [
    "# Let's see if it works\n",
    "factors, quotient = compute_how_many_times_divisible(8, 2)\n",
    "print('How does 2 go into 8? ', factors, ' with {} remaining'.format(quotient))\n",
    "factors, quotient = compute_how_many_times_divisible(10, 2)\n",
    "print('How does 2 go into 10? ', factors, ' with {} remaining'.format(quotient))\n",
    "factors, quotient = compute_how_many_times_divisible(18, 3)\n",
    "print('How does 3 go into 18? ', factors, ' with {} remaining'.format(quotient))"
   ]
  },
  {
   "cell_type": "markdown",
   "metadata": {},
   "source": [
    "Looks good to me!\n",
    "\n",
    "Let's write our last function now."
   ]
  },
  {
   "cell_type": "code",
   "execution_count": null,
   "metadata": {
    "collapsed": true
   },
   "outputs": [],
   "source": [
    "# Last piece we need to finish our algorithm\n",
    "def check_if_should_continue_searching(quotient, primes):\n",
    "    if (quotient == 1) or (quotient in primes):\n",
    "        continue_searching = False\n",
    "    else:\n",
    "        continue_searching = True\n",
    "    return continue_searching"
   ]
  },
  {
   "cell_type": "code",
   "execution_count": null,
   "metadata": {
    "collapsed": false
   },
   "outputs": [],
   "source": [
    "primes = generate_all_primes(100) # This will be made available in our function - this is just for testing purposes\n",
    "quotient = 5.0\n",
    "continue_searching = check_if_should_continue_searching(quotient, primes)\n",
    "print('If the quotient is {} then continue_searching should be {}'.format(quotient, continue_searching))"
   ]
  },
  {
   "cell_type": "markdown",
   "metadata": {},
   "source": [
    "Alright! I think we have all of the pieces to try to do a prime factorization! In order to simplify things so that we only need a limited number of prime numbers, we'll make sure that any number we want to factorize is under 1000."
   ]
  },
  {
   "cell_type": "code",
   "execution_count": null,
   "metadata": {
    "collapsed": false
   },
   "outputs": [],
   "source": [
    "def compute_prime_factorization(number):\n",
    "    primes = generate_all_primes(number) #Generate primes up to our number of interest\n",
    "    if number in primes: # Check to see if there is even anything to factorize (i.e. is it already prime)\n",
    "        return [number]\n",
    "    else:\n",
    "        all_factors = [] # Initialize a list to hold all of our prime factors\n",
    "        quotient = number # Create modifiable number, starting with the original number\n",
    "        for prime in primes: # Iterate through all of the primes\n",
    "            valid = check_if_divisible_by(quotient, prime)\n",
    "            if valid:\n",
    "                temp_factors, quotient = compute_how_many_times_divisible(quotient, prime) # Get all instances of factor\n",
    "                all_factors += temp_factors # Add factors to our list\n",
    "                keep_looking = check_if_should_continue_searching(quotient, primes) # Check to see if we're done\n",
    "                if not keep_looking: # I can negate a boolean with by putting a not in front. Thus, not True == False\n",
    "                    if quotient != 1:\n",
    "                        all_factors.append(quotient) # Add final prime factor, if needed\n",
    "                    break # exit out of the for loop because we are done!\n",
    "        return all_factors"
   ]
  },
  {
   "cell_type": "code",
   "execution_count": null,
   "metadata": {
    "collapsed": false
   },
   "outputs": [],
   "source": [
    "# Computing primes can take a little while, so let's try to keep it under 1,000,000 :)\n",
    "number = 355510\n",
    "compute_prime_factorization(number)"
   ]
  },
  {
   "cell_type": "markdown",
   "metadata": {},
   "source": [
    "The function above may seem complicated, but it would be WAY harder to understand if we didn't have functions to help us make the code more readable.\n",
    "\n",
    "I'll conclude this review by applying functions to two of the problems we've looked at before in your homework and quiz. From the quiz, we were asked to compute the number of cows we would need given the high estimate and low possibility. The code looked something like this:"
   ]
  },
  {
   "cell_type": "raw",
   "metadata": {},
   "source": [
    "high_estimate_dishes_predicted = estimated_num_beef_dishes_ordered * (1 + estimate_error_buffer)\n",
    "high_estimate_pounds_beef_needed = pounds_beef_per_beef_dish * high_estimate_dishes_predicted\n",
    "high_estimate_whole_cows_needed = high_estimate_pounds_beef_needed // pounds_beef_per_cow\n",
    "high_estimate_cows_needed = high_estimate_whole_cows_needed + 1\n",
    "\n",
    "low_possibility_dishes_served = estimated_num_beef_dishes_ordered * (1 - estimate_error_buffer)\n",
    "low_possibility_pounds_beef_used = pounds_beef_per_beef_dish * low_possibility_dishes_served\n",
    "low_possibility_whole_cows_used = low_possibility_pounds_beef_used // pounds_beef_per_cow\n",
    "low_possibility_cows_needed = low_possibility_whole_cows_used + 1\n",
    "\n",
    "extra_cows = high_estimate_cows_needed - low_possibility_cows_needed"
   ]
  },
  {
   "cell_type": "markdown",
   "metadata": {},
   "source": [
    "If you read closely, you'll see that a lot of that code is repeated. Computer programming is useful for its ability perform the same computations over and over again very easily and quickly. In the solution above, the only real difference (besides the variable names) was the estimate error buffer being added in one case and subtracted in the next. Functional programming allows us to avoid rewriting a lot of code and makes our code a lot more readable.\n",
    "\n",
    "Consider the following alternative:"
   ]
  },
  {
   "cell_type": "code",
   "execution_count": null,
   "metadata": {
    "collapsed": true
   },
   "outputs": [],
   "source": [
    "def compute_cows_needed(estimated_dishes_ordered, pounds_beef_per_dish, pounds_beef_per_cow, error_buffer):\n",
    "    num_dishes_total = estimated_dishes_ordered * (1 + error_buffer)\n",
    "    pounds_beef_needed = pounds_beef_per_dish * num_dishes_total\n",
    "    whole_cows_needed = pounds_beef_needed // pounds_beef_per_cow\n",
    "    additional_pounds_needed = pounds_beef_needed % pounds_beef_per_cow\n",
    "    if additional_pounds_needed > 0:\n",
    "        whole_cows_needed += 1\n",
    "    return whole_cows_needed"
   ]
  },
  {
   "cell_type": "raw",
   "metadata": {},
   "source": [
    "# This code can't be run because we never create the variables that are passed to compute_cows_needed\n",
    "high = compute_cows_needed(estimated_dishes_ordered, pounds_beef_per_dish, pounds_beef_per_cow, error_buffer)\n",
    "low = compute_cows_needed(estimated_dishes_ordered, pounds_beef_per_dish, pounds_beef_per_cow, -error_buffer)\n",
    "extra_cows = high - low"
   ]
  },
  {
   "cell_type": "markdown",
   "metadata": {},
   "source": [
    "With this function-based approach, we can quickly compute the high estimate and low possibilities by simply converting the error_buffer into a negative. Now my code is much easier to read and I don't have to keep writing the same basic code over and over again. I can also quickly change the input variable values and only re-run a single line of code. As your code gets more and more complex, this will save you a considerable amount of time and reduce the likelihood of error.\n",
    "\n",
    "Now that you've seen a use case you are familiar with, let's take a few steps back and look at some simpler examples in action.\n",
    "\n",
    "Let's modify the bus example from Homework 1 a little to see what the cost per student would be. If we assumed that a 72 person capacity was \\$5,000 and a 40 person capacty bus was \\$3,000, then which would be a more spend-efficient option for transporting 960 students?"
   ]
  },
  {
   "cell_type": "code",
   "execution_count": 212,
   "metadata": {
    "collapsed": false
   },
   "outputs": [
    {
     "name": "stdout",
     "output_type": "stream",
     "text": [
      "Big bus cost per student:  72.91666666666667\n",
      "Small bus cost per student:  75.0\n",
      "Difference:  -2.0833333333333286\n"
     ]
    }
   ],
   "source": [
    "# The inefficient way of computing our desired result\n",
    "number_of_students = 960\n",
    "\n",
    "# 72 person capacity cost\n",
    "cost_per_big_bus = 5000\n",
    "capacity_per_bus_big = 72\n",
    "number_big_buses_full = number_of_students // capacity_per_bus_big\n",
    "remaining_students_big_buses = number_of_students % capacity_per_bus_big\n",
    "if remaining_students_big_buses > 0:\n",
    "    number_big_buses = number_big_buses_full + 1\n",
    "else:\n",
    "    number_big_buses = number_big_buses_full\n",
    "total_cost_big = number_big_buses * cost_per_big_bus\n",
    "cost_per_student_big = total_cost_big / number_of_students\n",
    "\n",
    "# 40 person capacity cost\n",
    "cost_per_small_bus = 3000\n",
    "capacity_per_bus_small = 40\n",
    "number_small_buses_full = number_of_students // capacity_per_bus_small\n",
    "remaining_students_small_buses = number_of_students % capacity_per_bus_small\n",
    "if remaining_students_small_buses > 0:\n",
    "    number_small_buses = number_small_buses_full + 1\n",
    "else:\n",
    "    number_small_buses = number_small_buses_full\n",
    "total_cost_small = number_small_buses * cost_per_small_bus\n",
    "cost_per_student_small = total_cost_small / number_of_students\n",
    "\n",
    "per_student_diff = cost_per_student_big - cost_per_student_small\n",
    "print('Big bus cost per student: ', cost_per_student_big)\n",
    "print('Small bus cost per student: ', cost_per_student_small)\n",
    "print('Difference: ', per_student_diff)"
   ]
  },
  {
   "cell_type": "markdown",
   "metadata": {},
   "source": [
    "We found that the cost-per-student using large buses is $2.08 less per student than the small buses. However, it took a lot of code with a lot of variables (more opportunity for making mistakes). Functions to the rescue!"
   ]
  },
  {
   "cell_type": "code",
   "execution_count": 213,
   "metadata": {
    "collapsed": true
   },
   "outputs": [],
   "source": [
    "def compute_cost_per_student(number_of_students, capacity, cost_per_bus):\n",
    "    full_buses = number_of_students // capacity\n",
    "    extra_students = number_of_students % capacity\n",
    "    if extra_students > 0:\n",
    "        total_buses = full_buses + 1\n",
    "    else:\n",
    "        total_buses = full_buses\n",
    "    total_cost = total_buses * cost_per_bus\n",
    "    cost_per_student = total_cost / number_of_students\n",
    "    return cost_per_student"
   ]
  },
  {
   "cell_type": "code",
   "execution_count": 214,
   "metadata": {
    "collapsed": false
   },
   "outputs": [
    {
     "name": "stdout",
     "output_type": "stream",
     "text": [
      "Big bus cost per student:  72.91666666666667\n",
      "Small bus cost per student:  75.0\n",
      "Difference:  -2.0833333333333286\n"
     ]
    }
   ],
   "source": [
    "# Now that we've got our handy function, I can compute the cost for our two options with two lines of code\n",
    "cost_per_student_big = compute_cost_per_student(number_of_students, capacity_per_bus_big, cost_per_big_bus)\n",
    "cost_per_student_small = compute_cost_per_student(number_of_students, capacity_per_bus_small, cost_per_small_bus)\n",
    "per_student_diff = cost_per_student_big - cost_per_student_small\n",
    "print('Big bus cost per student: ', cost_per_student_big)\n",
    "print('Small bus cost per student: ', cost_per_student_small)\n",
    "print('Difference: ', per_student_diff)"
   ]
  },
  {
   "cell_type": "markdown",
   "metadata": {},
   "source": [
    "Same answer!\n",
    "\n",
    "Now if we wanted to evaluate a third option, we barely have to write any new code at all!"
   ]
  },
  {
   "cell_type": "code",
   "execution_count": 215,
   "metadata": {
    "collapsed": false
   },
   "outputs": [
    {
     "name": "stdout",
     "output_type": "stream",
     "text": [
      "Medium bus cost per student:  77.08333333333333\n"
     ]
    }
   ],
   "source": [
    "cost_per_bus_medium = 3700\n",
    "capacity_per_bus_medium = 50\n",
    "cost_per_student_medium = compute_cost_per_student(number_of_students, capacity_per_bus_medium, cost_per_bus_medium)\n",
    "print('Medium bus cost per student: ', cost_per_student_medium)"
   ]
  },
  {
   "cell_type": "markdown",
   "metadata": {},
   "source": [
    "This is the most expensive option... and it only took one line of code to find that out!"
   ]
  },
  {
   "cell_type": "markdown",
   "metadata": {},
   "source": []
  },
  {
   "cell_type": "code",
   "execution_count": null,
   "metadata": {
    "collapsed": true
   },
   "outputs": [],
   "source": []
  },
  {
   "cell_type": "code",
   "execution_count": null,
   "metadata": {
    "collapsed": true
   },
   "outputs": [],
   "source": []
  }
 ],
 "metadata": {
  "anaconda-cloud": {},
  "kernelspec": {
   "display_name": "Python [conda env:py35]",
   "language": "python",
   "name": "conda-env-py35-py"
  },
  "language_info": {
   "codemirror_mode": {
    "name": "ipython",
    "version": 3
   },
   "file_extension": ".py",
   "mimetype": "text/x-python",
   "name": "python",
   "nbconvert_exporter": "python",
   "pygments_lexer": "ipython3",
   "version": "3.5.4"
  }
 },
 "nbformat": 4,
 "nbformat_minor": 0
}
