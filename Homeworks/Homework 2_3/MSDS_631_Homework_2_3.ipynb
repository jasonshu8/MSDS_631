{
 "cells": [
  {
   "cell_type": "markdown",
   "metadata": {},
   "source": [
    "# Homework 2 and 3\n",
    "In this assignment, you will begin to develop your skills to build functions that perform loops and control flow. Problems will get gradually more difficult. The final portion of this exercise is only **required** by students in Section 05. Everyone is welcome to attempt these problems and I will grade your responses for your own learning, but those not enrolled in Section 05 will not receive a grade for these problems."
   ]
  },
  {
   "cell_type": "markdown",
   "metadata": {},
   "source": [
    "### Brief refresher for this homework about string formatting and \n",
    "#### String formatting\n",
    "\n",
    "If you recall, formatting a string is as simple as putting curly braces as a placeholder for the string, then \"passing\" the string some fillers to go where the placeholders were."
   ]
  },
  {
   "cell_type": "code",
   "execution_count": 1,
   "metadata": {},
   "outputs": [
    {
     "name": "stdout",
     "output_type": "stream",
     "text": [
      "Hello my name is Jason. I turn 40 next month.\n",
      "Hello my name is Eileen. I turn 39 next month.\n",
      "Hello my name is 40. I turn Jason next month.\n"
     ]
    }
   ],
   "source": [
    "base_phrase = 'Hello my name is {}. I turn {} next month.'\n",
    "filled_in_phrase1 = base_phrase.format('Jason', 40)\n",
    "print(filled_in_phrase1)\n",
    "filled_in_phrase2 = base_phrase.format('Eileen', 39)\n",
    "print(filled_in_phrase2)\n",
    "filled_in_phrase3 = base_phrase.format(40, 'Jason') # Python will do what you ask; doesn't need to make sense\n",
    "print(filled_in_phrase3)"
   ]
  },
  {
   "cell_type": "markdown",
   "metadata": {},
   "source": [
    "We will spend a few minutes talking about string formatting next week, but this should help you for this homework"
   ]
  },
  {
   "cell_type": "markdown",
   "metadata": {},
   "source": [
    "#### Functions\n",
    "Functions are a way of storing a list of commands that can be used whenever you want. When you create the function, no computations are actually made. It only executes the steps within the function after you \"call\" it and \"pass\" it arguments."
   ]
  },
  {
   "cell_type": "code",
   "execution_count": 2,
   "metadata": {},
   "outputs": [],
   "source": [
    "def say_hello(name):\n",
    "    phrase = 'Hello {}'.format(name)\n",
    "    print(phrase)"
   ]
  },
  {
   "cell_type": "code",
   "execution_count": 3,
   "metadata": {},
   "outputs": [
    {
     "name": "stdout",
     "output_type": "stream",
     "text": [
      "Hello Jason\n"
     ]
    }
   ],
   "source": [
    "say_hello('Jason')"
   ]
  },
  {
   "cell_type": "markdown",
   "metadata": {},
   "source": [
    "Functions typically \"return\" something after you call it. You must instruct the function to return what you want in order for it to work. Any variables created within the function will not be available to be used because they are \"local\" to the specific function. This is a positive thing since so many intermediate variables can be created during the writing of complicated analyses, and this allows you to keep your variable names simple without running the risk of inadvertantly overwriting a variable with a new value."
   ]
  },
  {
   "cell_type": "code",
   "execution_count": 6,
   "metadata": {},
   "outputs": [],
   "source": [
    "#Let's write a function to compute the sum of the first n integers (starting at 0)\n",
    "def compute_sum_of_first_numbers(how_many):\n",
    "    numbers = list(range(how_many))\n",
    "    total = sum(numbers)"
   ]
  },
  {
   "cell_type": "code",
   "execution_count": 7,
   "metadata": {},
   "outputs": [
    {
     "ename": "NameError",
     "evalue": "name 'total' is not defined",
     "output_type": "error",
     "traceback": [
      "\u001b[0;31m---------------------------------------------------------------------------\u001b[0m",
      "\u001b[0;31mNameError\u001b[0m                                 Traceback (most recent call last)",
      "\u001b[0;32m<ipython-input-7-dde82a1162f8>\u001b[0m in \u001b[0;36m<module>\u001b[0;34m()\u001b[0m\n\u001b[1;32m      1\u001b[0m \u001b[0mcompute_sum_of_first_numbers\u001b[0m\u001b[0;34m(\u001b[0m\u001b[0;36m5\u001b[0m\u001b[0;34m)\u001b[0m\u001b[0;34m\u001b[0m\u001b[0;34m\u001b[0m\u001b[0m\n\u001b[0;32m----> 2\u001b[0;31m \u001b[0mprint\u001b[0m\u001b[0;34m(\u001b[0m\u001b[0mtotal\u001b[0m\u001b[0;34m)\u001b[0m \u001b[0;31m# Try printing total, which is local within the function.\u001b[0m\u001b[0;34m\u001b[0m\u001b[0;34m\u001b[0m\u001b[0m\n\u001b[0m",
      "\u001b[0;31mNameError\u001b[0m: name 'total' is not defined"
     ]
    }
   ],
   "source": [
    "compute_sum_of_first_numbers(5)\n",
    "print(total) # Try printing total, which is local within the function."
   ]
  },
  {
   "cell_type": "code",
   "execution_count": 8,
   "metadata": {},
   "outputs": [],
   "source": [
    "#Let's modify the function to return the value we wanted\n",
    "def compute_sum_of_first_numbers(how_many):\n",
    "    numbers = list(range(how_many))\n",
    "    total = sum(numbers)\n",
    "    return total"
   ]
  },
  {
   "cell_type": "code",
   "execution_count": 9,
   "metadata": {},
   "outputs": [
    {
     "name": "stdout",
     "output_type": "stream",
     "text": [
      "The sum of the first 5 numbers is 10\n"
     ]
    }
   ],
   "source": [
    "# The variable you pass does not need to match the name of the variable in the function\n",
    "num = 5\n",
    "total = compute_sum_of_first_numbers(num)\n",
    "print('The sum of the first {} numbers is {}'.format(num, total))"
   ]
  },
  {
   "cell_type": "code",
   "execution_count": 10,
   "metadata": {},
   "outputs": [
    {
     "ename": "NameError",
     "evalue": "name 'numbers' is not defined",
     "output_type": "error",
     "traceback": [
      "\u001b[0;31m---------------------------------------------------------------------------\u001b[0m",
      "\u001b[0;31mNameError\u001b[0m                                 Traceback (most recent call last)",
      "\u001b[0;32m<ipython-input-10-e070ee18aa20>\u001b[0m in \u001b[0;36m<module>\u001b[0;34m()\u001b[0m\n\u001b[1;32m      1\u001b[0m \u001b[0;31m# The local variable \"numbers\" not available because it wasn't returned by the function; thus it throws an error\u001b[0m\u001b[0;34m\u001b[0m\u001b[0;34m\u001b[0m\u001b[0;34m\u001b[0m\u001b[0m\n\u001b[0;32m----> 2\u001b[0;31m \u001b[0mprint\u001b[0m\u001b[0;34m(\u001b[0m\u001b[0mnumbers\u001b[0m\u001b[0;34m)\u001b[0m\u001b[0;34m\u001b[0m\u001b[0;34m\u001b[0m\u001b[0m\n\u001b[0m",
      "\u001b[0;31mNameError\u001b[0m: name 'numbers' is not defined"
     ]
    }
   ],
   "source": [
    "# The local variable \"numbers\" not available because it wasn't returned by the function; thus it throws an error\n",
    "print(numbers)"
   ]
  },
  {
   "cell_type": "code",
   "execution_count": 11,
   "metadata": {},
   "outputs": [],
   "source": [
    "#Let's modify the function to choose where you start your range\n",
    "def compute_sum_of_first_numbers(how_many, starting_point):\n",
    "    end = starting_point + how_many\n",
    "    numbers = list(range(starting_point, end))\n",
    "    total = sum(numbers)\n",
    "    return total"
   ]
  },
  {
   "cell_type": "code",
   "execution_count": 12,
   "metadata": {},
   "outputs": [
    {
     "name": "stdout",
     "output_type": "stream",
     "text": [
      "The sum of the first 5 numbers (starting from 1) is 15\n"
     ]
    }
   ],
   "source": [
    "# As your list of arguments gets longer, make sure you are passing the right arguments to the function\n",
    "num = 5\n",
    "start = 1\n",
    "total = compute_sum_of_first_numbers(num, start)\n",
    "print('The sum of the first {} numbers (starting from {}) is {}'.format(num, start, total))"
   ]
  },
  {
   "cell_type": "code",
   "execution_count": 13,
   "metadata": {},
   "outputs": [
    {
     "name": "stdout",
     "output_type": "stream",
     "text": [
      "The sum of the first 100 numbers (starting from 1000) is 104950\n"
     ]
    }
   ],
   "source": [
    "# The variable you pass does not need to match the name of the variable in the function\n",
    "num = 100\n",
    "start = 1000\n",
    "total = compute_sum_of_first_numbers(num, start)\n",
    "print('The sum of the first {} numbers (starting from {}) is {}'.format(num, start, total))"
   ]
  },
  {
   "cell_type": "markdown",
   "metadata": {},
   "source": [
    "## Control Flow\n",
    "\n",
    "For problems in the Control Flow section, please implement your solutions to all questions inside of a function. Unless otherwise indicated, please call your function in a subsequent cell and store the output into a variable, then print your answer in a sentence using string formatting.\n",
    "\n",
    "The cells I provide are for your convenience. If you need more or fewer, add or delete cells as you wish.\n",
    "\n",
    "#### Part 1 - What's my grade?"
   ]
  },
  {
   "cell_type": "code",
   "execution_count": 15,
   "metadata": {},
   "outputs": [],
   "source": [
    "# Use these as inputs into your functions\n",
    "# I should be able to change these values and re-run all of your code for Part 1 and get new answers\n",
    "my_points = 53\n",
    "possible_points = 79"
   ]
  },
  {
   "cell_type": "markdown",
   "metadata": {},
   "source": [
    "1.1) Let's start by building a little auto-grader for an exam. In the cells below, build a function that computes a score based on points earned and points possible. Call it to see if it works."
   ]
  },
  {
   "cell_type": "code",
   "execution_count": 30,
   "metadata": {},
   "outputs": [],
   "source": [
    "def grade_pct(user_score_pts, max_pts):\n",
    "    user_score_pct = round(user_score_pts / max_pts, 4)\n",
    "    return user_score_pct"
   ]
  },
  {
   "cell_type": "code",
   "execution_count": 31,
   "metadata": {},
   "outputs": [
    {
     "name": "stdout",
     "output_type": "stream",
     "text": [
      "User's grade is: 0.6709\n"
     ]
    }
   ],
   "source": [
    "user_grade = grade_pct(my_points, possible_points)\n",
    "print(\"User's grade is: {}\".format(user_grade))"
   ]
  },
  {
   "cell_type": "markdown",
   "metadata": {},
   "source": [
    "1.2a) Let's figure out whether I passed. In the cell below, build a function that takes a score and determine whether I passed. A passing score is 70%."
   ]
  },
  {
   "cell_type": "code",
   "execution_count": 36,
   "metadata": {},
   "outputs": [],
   "source": [
    "def grade_is_pass(grade):\n",
    "    if grade >= 0.7:\n",
    "        pass_string = \"This grade passed.\"\n",
    "    else:\n",
    "        pass_string = \"This grade did not pass.\"\n",
    "    return pass_string"
   ]
  },
  {
   "cell_type": "code",
   "execution_count": 37,
   "metadata": {},
   "outputs": [
    {
     "name": "stdout",
     "output_type": "stream",
     "text": [
      "This grade did not pass.\n"
     ]
    }
   ],
   "source": [
    "pass_test = grade_is_pass(user_grade)\n",
    "print(pass_test)"
   ]
  },
  {
   "cell_type": "markdown",
   "metadata": {},
   "source": [
    "1.2b) Build a function that takes an exam score and calls your function from `1.2a`. In your new function, take the result from `1.2a` and use control flow to print a sentence indicating whether I passed or not. Complete the problem by calling your function."
   ]
  },
  {
   "cell_type": "code",
   "execution_count": 38,
   "metadata": {},
   "outputs": [
    {
     "name": "stdout",
     "output_type": "stream",
     "text": [
      "This grade did not pass.\n"
     ]
    }
   ],
   "source": [
    "print(pass_test)"
   ]
  },
  {
   "cell_type": "markdown",
   "metadata": {},
   "source": [
    "1.3) Now let's determine what letter grade I got on the exam. Using the traditional 90-80-70-60 grading scale, please build a function that uses Python control flow to return the letter grade I got. Then call your function while passing it my exam score."
   ]
  },
  {
   "cell_type": "code",
   "execution_count": 52,
   "metadata": {},
   "outputs": [],
   "source": [
    "def letter_grader(grade):\n",
    "    if grade >= .60 and grade < .70:\n",
    "        letter_grade = \"D\"\n",
    "    if grade >= .70 and grade < .80:\n",
    "        letter_grade = \"C\"\n",
    "    if grade >= .80 and grade < .90:\n",
    "        letter_grade = \"B\"\n",
    "    if grade >= .90:\n",
    "        letter_grade = \"A\"\n",
    "    else:\n",
    "        letter_grade = \"Fail\"\n",
    "    return letter_grade"
   ]
  },
  {
   "cell_type": "code",
   "execution_count": 55,
   "metadata": {},
   "outputs": [
    {
     "name": "stdout",
     "output_type": "stream",
     "text": [
      "Fail\n"
     ]
    }
   ],
   "source": [
    "letter_grade = letter_grader(user_grade)\n",
    "print(letter_grade)"
   ]
  },
  {
   "cell_type": "markdown",
   "metadata": {},
   "source": [
    "1.4) Now let's get even more precise and determine what specific letter grade I got on the exam. If the score (after rounding) ends in a 7, 8, or 9, then add a \"+\" to my letter grade (e.g. 88% is a B+). If the score ends in a 0, 1, or 2, then add a '-' to my letter grade (e.g. 92% is an A-). Scores ending in 3, 4, 5, or 6 should have no + or -. Please build a function that uses Python control flow to return the specific grade that I got. Call it and print what I got in a sentence.\n",
    "\n",
    "NOTE: There are MANY different ways to implement this - some are more efficient than others. I encourage you to consider ways of implementing this without having to write out EVERY single grade possibility in your if-else statements. Think hard about all of the techniques you've learned so far! You do not *need* to write out every single possibility. **I will award up to 10 extra credit points on the first exam to the person that figures out the most efficient way of doing this!** The number of points awarded depends on how good the implementation is (this is only valid for the first submittal, not on the re-submittal)."
   ]
  },
  {
   "cell_type": "code",
   "execution_count": 153,
   "metadata": {},
   "outputs": [
    {
     "name": "stdout",
     "output_type": "stream",
     "text": [
      "D+\n"
     ]
    }
   ],
   "source": [
    "def letter_sign_grader(grade):\n",
    "    grade = round(grade,2)*100\n",
    "    plus_set = set(range(97,101)) | set(range(87,90)) |set(range(77,80)) | set(range(67,70))\n",
    "    minus_set = set(range(90,93)) | set(range(80,83)) |set(range(70,73)) | set(range(60,63))\n",
    "\n",
    "    if grade in plus_set:\n",
    "        sign = \"+\"\n",
    "    if grade in minus_set:\n",
    "        sign = \"-\"\n",
    "    if grade not in plus_set and grade not in minus_set:\n",
    "        sign = \"NoSignFiller\"\n",
    "    \n",
    "    if grade < 101:\n",
    "        letter = \"A\"\n",
    "    if grade < 90:\n",
    "        letter = \"B\"\n",
    "    if grade < 80:\n",
    "        letter = \"C\"\n",
    "    if grade < 70:\n",
    "        letter = \"D\"\n",
    "    if grade < 60:\n",
    "        letter = \"Fail\"\n",
    "        \n",
    "    letter_sign_grade = letter+sign\n",
    "        \n",
    "    return letter_sign_grade\n",
    "\n",
    "letter_grade_sign = letter_sign_grader(user_grade)\n",
    "print(letter_grade_sign)"
   ]
  },
  {
   "cell_type": "code",
   "execution_count": 152,
   "metadata": {},
   "outputs": [
    {
     "ename": "UnboundLocalError",
     "evalue": "local variable 'letter' referenced before assignment",
     "output_type": "error",
     "traceback": [
      "\u001b[0;31m---------------------------------------------------------------------------\u001b[0m",
      "\u001b[0;31mUnboundLocalError\u001b[0m                         Traceback (most recent call last)",
      "\u001b[0;32m<ipython-input-152-7e3a50b58677>\u001b[0m in \u001b[0;36m<module>\u001b[0;34m()\u001b[0m\n\u001b[1;32m      1\u001b[0m \u001b[0muser_grade2\u001b[0m \u001b[0;34m=\u001b[0m \u001b[0;36m72\u001b[0m\u001b[0;34m\u001b[0m\u001b[0;34m\u001b[0m\u001b[0m\n\u001b[0;32m----> 2\u001b[0;31m \u001b[0mprint\u001b[0m\u001b[0;34m(\u001b[0m\u001b[0mletter_sign_grader\u001b[0m\u001b[0;34m(\u001b[0m\u001b[0muser_grade2\u001b[0m\u001b[0;34m)\u001b[0m\u001b[0;34m)\u001b[0m\u001b[0;34m\u001b[0m\u001b[0;34m\u001b[0m\u001b[0m\n\u001b[0m",
      "\u001b[0;32m<ipython-input-151-fb97858a833b>\u001b[0m in \u001b[0;36mletter_sign_grader\u001b[0;34m(grade)\u001b[0m\n\u001b[1;32m     22\u001b[0m         \u001b[0mletter\u001b[0m \u001b[0;34m=\u001b[0m \u001b[0;34m\"Fail\"\u001b[0m\u001b[0;34m\u001b[0m\u001b[0;34m\u001b[0m\u001b[0m\n\u001b[1;32m     23\u001b[0m \u001b[0;34m\u001b[0m\u001b[0m\n\u001b[0;32m---> 24\u001b[0;31m     \u001b[0mletter_sign_grade\u001b[0m \u001b[0;34m=\u001b[0m \u001b[0mletter\u001b[0m\u001b[0;34m+\u001b[0m\u001b[0msign\u001b[0m\u001b[0;34m\u001b[0m\u001b[0;34m\u001b[0m\u001b[0m\n\u001b[0m\u001b[1;32m     25\u001b[0m \u001b[0;34m\u001b[0m\u001b[0m\n\u001b[1;32m     26\u001b[0m     \u001b[0;32mreturn\u001b[0m \u001b[0mletter_sign_grade\u001b[0m\u001b[0;34m\u001b[0m\u001b[0;34m\u001b[0m\u001b[0m\n",
      "\u001b[0;31mUnboundLocalError\u001b[0m: local variable 'letter' referenced before assignment"
     ]
    }
   ],
   "source": [
    "user_grade2 = 72\n",
    "print(letter_sign_grader(user_grade2))"
   ]
  },
  {
   "cell_type": "code",
   "execution_count": 183,
   "metadata": {},
   "outputs": [
    {
     "ename": "TypeError",
     "evalue": "'int' object is not iterable",
     "output_type": "error",
     "traceback": [
      "\u001b[0;31m---------------------------------------------------------------------------\u001b[0m",
      "\u001b[0;31mTypeError\u001b[0m                                 Traceback (most recent call last)",
      "\u001b[0;32m<ipython-input-183-af36d7d0b2fb>\u001b[0m in \u001b[0;36m<module>\u001b[0;34m()\u001b[0m\n\u001b[1;32m      1\u001b[0m \u001b[0mplus_set\u001b[0m \u001b[0;34m=\u001b[0m \u001b[0;34m[\u001b[0m\u001b[0mlist\u001b[0m\u001b[0;34m(\u001b[0m\u001b[0mrange\u001b[0m\u001b[0;34m(\u001b[0m\u001b[0;36m97\u001b[0m\u001b[0;34m,\u001b[0m\u001b[0;36m101\u001b[0m\u001b[0;34m)\u001b[0m\u001b[0;34m)\u001b[0m\u001b[0;34m,\u001b[0m \u001b[0mlist\u001b[0m\u001b[0;34m(\u001b[0m\u001b[0mrange\u001b[0m\u001b[0;34m(\u001b[0m\u001b[0;36m87\u001b[0m\u001b[0;34m,\u001b[0m\u001b[0;36m90\u001b[0m\u001b[0;34m)\u001b[0m\u001b[0;34m)\u001b[0m\u001b[0;34m,\u001b[0m \u001b[0mlist\u001b[0m\u001b[0;34m(\u001b[0m\u001b[0mrange\u001b[0m\u001b[0;34m(\u001b[0m\u001b[0;36m77\u001b[0m\u001b[0;34m,\u001b[0m\u001b[0;36m80\u001b[0m\u001b[0;34m)\u001b[0m\u001b[0;34m)\u001b[0m\u001b[0;34m,\u001b[0m \u001b[0mlist\u001b[0m\u001b[0;34m(\u001b[0m\u001b[0mrange\u001b[0m\u001b[0;34m(\u001b[0m\u001b[0;36m67\u001b[0m\u001b[0;34m,\u001b[0m\u001b[0;36m70\u001b[0m\u001b[0;34m)\u001b[0m\u001b[0;34m)\u001b[0m\u001b[0;34m]\u001b[0m\u001b[0;34m\u001b[0m\u001b[0;34m\u001b[0m\u001b[0m\n\u001b[0;32m----> 2\u001b[0;31m \u001b[0;32mfor\u001b[0m \u001b[0mi\u001b[0m \u001b[0;32min\u001b[0m \u001b[0mlen\u001b[0m\u001b[0;34m(\u001b[0m\u001b[0mplus_set\u001b[0m\u001b[0;34m)\u001b[0m\u001b[0;34m:\u001b[0m\u001b[0;34m\u001b[0m\u001b[0;34m\u001b[0m\u001b[0m\n\u001b[0m\u001b[1;32m      3\u001b[0m     \u001b[0mplus_set_qc\u001b[0m \u001b[0;34m=\u001b[0m \u001b[0mround\u001b[0m\u001b[0;34m(\u001b[0m\u001b[0muser_grade\u001b[0m\u001b[0;34m,\u001b[0m\u001b[0;36m2\u001b[0m\u001b[0;34m)\u001b[0m\u001b[0;34m*\u001b[0m\u001b[0;36m100\u001b[0m \u001b[0;32min\u001b[0m \u001b[0mplus_set\u001b[0m\u001b[0;34m[\u001b[0m\u001b[0mi\u001b[0m\u001b[0;34m]\u001b[0m\u001b[0;34m\u001b[0m\u001b[0;34m\u001b[0m\u001b[0m\n\u001b[1;32m      4\u001b[0m \u001b[0mprint\u001b[0m\u001b[0;34m(\u001b[0m\u001b[0mplus_set_qc\u001b[0m\u001b[0;34m)\u001b[0m\u001b[0;34m\u001b[0m\u001b[0;34m\u001b[0m\u001b[0m\n",
      "\u001b[0;31mTypeError\u001b[0m: 'int' object is not iterable"
     ]
    }
   ],
   "source": [
    "plus_set = [list(range(97,101)), list(range(87,90)), list(range(77,80)), list(range(67,70))]\n",
    "for i in len(plus_set):\n",
    "    plus_set_qc = round(user_grade,2)*100 in plus_set[i]\n",
    "print(plus_set_qc)"
   ]
  },
  {
   "cell_type": "code",
   "execution_count": 181,
   "metadata": {},
   "outputs": [
    {
     "ename": "SyntaxError",
     "evalue": "invalid syntax (<ipython-input-181-02a0fa4b08d0>, line 2)",
     "output_type": "error",
     "traceback": [
      "\u001b[0;36m  File \u001b[0;32m\"<ipython-input-181-02a0fa4b08d0>\"\u001b[0;36m, line \u001b[0;32m2\u001b[0m\n\u001b[0;31m    for i to 5\u001b[0m\n\u001b[0m           ^\u001b[0m\n\u001b[0;31mSyntaxError\u001b[0m\u001b[0;31m:\u001b[0m invalid syntax\n"
     ]
    }
   ],
   "source": [
    "i = 1\n",
    "for i to 5\n",
    "    print(i)"
   ]
  },
  {
   "cell_type": "code",
   "execution_count": 178,
   "metadata": {},
   "outputs": [
    {
     "name": "stdout",
     "output_type": "stream",
     "text": [
      "3\n"
     ]
    }
   ],
   "source": [
    "print(len(plus_set[1]))"
   ]
  },
  {
   "cell_type": "markdown",
   "metadata": {},
   "source": [
    "Some students are taking the class as pass/fail and others are taking the class for a real grade. I've created a new variable called `grade_type`. The two possible values for `grade_type` are `'pass_fail'` or `'graded'`."
   ]
  },
  {
   "cell_type": "code",
   "execution_count": null,
   "metadata": {
    "collapsed": true
   },
   "outputs": [],
   "source": [
    "grade_type = 'pass_fail' #alternatively could be 'graded'"
   ]
  },
  {
   "cell_type": "markdown",
   "metadata": {},
   "source": [
    "1.5) Build a function that evaluates a score and grade_type to return either the specific letter grade that I got (based on criteria from  1.4) or \"Pass\" or \"Fail\" (based on the criteria from Part 1.1). Call your function with my score and grade type and print what I got in a sentence."
   ]
  },
  {
   "cell_type": "code",
   "execution_count": null,
   "metadata": {
    "collapsed": true
   },
   "outputs": [],
   "source": []
  },
  {
   "cell_type": "code",
   "execution_count": null,
   "metadata": {
    "collapsed": true
   },
   "outputs": [],
   "source": []
  },
  {
   "cell_type": "code",
   "execution_count": null,
   "metadata": {
    "collapsed": true
   },
   "outputs": [],
   "source": []
  },
  {
   "cell_type": "markdown",
   "metadata": {},
   "source": [
    "#### Part 2 - You're such a square!\n",
    "I want to know whether a number is a perfect square. If you recall, a perfect square is a number whose square root is an integer. Python doesn't natively know how to do square roots, but from previous math classes, you should know that the square root of a number is really just a number to the power `0.5`. We will eventually learn how to use the various scientific libraries that allow us to perform square roots more naturally, but for now, this is a good workaround.\n",
    "\n",
    "I've assigned a number a value. I want to know if it is a perfect square (i.e. if the square root of the number is an integer)."
   ]
  },
  {
   "cell_type": "code",
   "execution_count": null,
   "metadata": {
    "collapsed": true
   },
   "outputs": [],
   "source": [
    "number = 54854788396"
   ]
  },
  {
   "cell_type": "markdown",
   "metadata": {},
   "source": [
    "2.1) Build a function that uses Python control flow to determine whether a number passed to it is a perfect square. Call it and print whether it is perfect in a sentence."
   ]
  },
  {
   "cell_type": "code",
   "execution_count": null,
   "metadata": {},
   "outputs": [],
   "source": []
  },
  {
   "cell_type": "code",
   "execution_count": null,
   "metadata": {
    "collapsed": true
   },
   "outputs": [],
   "source": []
  },
  {
   "cell_type": "code",
   "execution_count": null,
   "metadata": {
    "collapsed": true
   },
   "outputs": [],
   "source": []
  },
  {
   "cell_type": "markdown",
   "metadata": {},
   "source": [
    "2.2) I desperately want my number to be perfect. Build a function that takes a number and figures out the smallest (positive) amount I would have to add to the number to make it perfect. Your function should return the amount that you needed to add."
   ]
  },
  {
   "cell_type": "code",
   "execution_count": null,
   "metadata": {
    "collapsed": true
   },
   "outputs": [],
   "source": []
  },
  {
   "cell_type": "code",
   "execution_count": null,
   "metadata": {
    "collapsed": true
   },
   "outputs": [],
   "source": []
  },
  {
   "cell_type": "markdown",
   "metadata": {},
   "source": [
    "2.3) Build a function that takes a number calls your function from 2.1. If it determines that your number is already perfect, print a sentence indicating that your number is already perfect. If it is not already perfect, then have your code call your function from 2.2 and determine how much needs to be added in order to make it perfect. Print a sentence indicating how much I would have to add to my original number and what the resulting perfect square number would be."
   ]
  },
  {
   "cell_type": "code",
   "execution_count": null,
   "metadata": {
    "collapsed": true
   },
   "outputs": [],
   "source": []
  },
  {
   "cell_type": "code",
   "execution_count": null,
   "metadata": {
    "collapsed": true
   },
   "outputs": [],
   "source": []
  },
  {
   "cell_type": "markdown",
   "metadata": {},
   "source": [
    "## Loops\n",
    "Unless otherwise indicated, you do not need to use functions for questions in this section."
   ]
  },
  {
   "cell_type": "markdown",
   "metadata": {},
   "source": [
    "#### Part 3 - Let's learn about numbers"
   ]
  },
  {
   "cell_type": "markdown",
   "metadata": {},
   "source": [
    "3.1) Build a for-loop that prints the first 5 numbers (starting at 0)."
   ]
  },
  {
   "cell_type": "code",
   "execution_count": null,
   "metadata": {
    "collapsed": true
   },
   "outputs": [],
   "source": []
  },
  {
   "cell_type": "markdown",
   "metadata": {},
   "source": [
    "3.2) Build a for-loop that evaluates each of the first 10 numbers (starting at 1) and prints a sentence indicating whether the number is even or odd."
   ]
  },
  {
   "cell_type": "code",
   "execution_count": null,
   "metadata": {
    "collapsed": true
   },
   "outputs": [],
   "source": []
  },
  {
   "cell_type": "markdown",
   "metadata": {},
   "source": [
    "3.3) What is the sum of the squares of all numbers less than or equal to 10?"
   ]
  },
  {
   "cell_type": "code",
   "execution_count": null,
   "metadata": {
    "collapsed": true
   },
   "outputs": [],
   "source": []
  },
  {
   "cell_type": "markdown",
   "metadata": {},
   "source": [
    "3.4) What is the sum of all numbers less than or equal to 1000 that are divisible by 3 or 5"
   ]
  },
  {
   "cell_type": "code",
   "execution_count": null,
   "metadata": {
    "collapsed": true
   },
   "outputs": [],
   "source": []
  },
  {
   "cell_type": "markdown",
   "metadata": {},
   "source": [
    "3.5) What is the sum of all numbers less than or equal to 1000 that are divisible by both 3 and 5?"
   ]
  },
  {
   "cell_type": "code",
   "execution_count": null,
   "metadata": {
    "collapsed": true
   },
   "outputs": [],
   "source": []
  },
  {
   "cell_type": "markdown",
   "metadata": {},
   "source": [
    "3.6) What are all of the numbers less than or equal to 1000 that are perfect squares?"
   ]
  },
  {
   "cell_type": "code",
   "execution_count": null,
   "metadata": {
    "collapsed": true
   },
   "outputs": [],
   "source": []
  },
  {
   "cell_type": "markdown",
   "metadata": {},
   "source": [
    "3.7) For numbers less than or equal to 20, compute the product of even and odd numbers, respectively."
   ]
  },
  {
   "cell_type": "code",
   "execution_count": null,
   "metadata": {
    "collapsed": true
   },
   "outputs": [],
   "source": []
  },
  {
   "cell_type": "markdown",
   "metadata": {},
   "source": [
    "3.8) For numbers less than or equal to 100, I want to know all of the numbers divisible by 2,3,4,5,6,7,8,9, and 10, **respectively.** Generate a list of numbers divisible by each divisor (i.e. list of numbers divisible by 2, list of numbers divisible by 3, etc)."
   ]
  },
  {
   "cell_type": "code",
   "execution_count": null,
   "metadata": {
    "collapsed": true
   },
   "outputs": [],
   "source": []
  },
  {
   "cell_type": "markdown",
   "metadata": {},
   "source": [
    "#### Part 4 - Find the missing number\n",
    "In the next cell, I'm generating a list of numbers where all of the numbers appear exactly twice, except for one (which shows up only once)."
   ]
  },
  {
   "cell_type": "code",
   "execution_count": null,
   "metadata": {},
   "outputs": [],
   "source": [
    "def generate_missing_number_list():\n",
    "    import random\n",
    "    nums = random.sample(list(range(1,100000)), 10000) * 2\n",
    "    nums.pop()\n",
    "    random.shuffle(nums)\n",
    "    return nums\n",
    "numbers = generate_missing_number_list()"
   ]
  },
  {
   "cell_type": "markdown",
   "metadata": {},
   "source": [
    "4.1) Find the number that appears only once in `numbers`."
   ]
  },
  {
   "cell_type": "code",
   "execution_count": null,
   "metadata": {
    "collapsed": true
   },
   "outputs": [],
   "source": []
  },
  {
   "cell_type": "code",
   "execution_count": null,
   "metadata": {
    "collapsed": true
   },
   "outputs": [],
   "source": []
  },
  {
   "cell_type": "code",
   "execution_count": null,
   "metadata": {
    "collapsed": true
   },
   "outputs": [],
   "source": []
  },
  {
   "cell_type": "code",
   "execution_count": null,
   "metadata": {
    "collapsed": true
   },
   "outputs": [],
   "source": []
  },
  {
   "cell_type": "markdown",
   "metadata": {},
   "source": [
    "#### Part 5 - What's my grade?\n",
    "In the next cell, I'm generating data associated with students. The data is stored in three lists where the position of each index can be assumed to be associated with a single student. The lists include the students' ids and their scores on an exam. The exam was out of a possible total of 75 points"
   ]
  },
  {
   "cell_type": "code",
   "execution_count": null,
   "metadata": {
    "collapsed": true
   },
   "outputs": [],
   "source": [
    "import uuid\n",
    "import numpy as np\n",
    "ids = [str(uuid.uuid4()) for _ in range(100)]\n",
    "points = [min(75, round(np.random.normal(.8,.1)*75)) for _ in range(100)]\n",
    "grade_type = [np.random.choice(['pass_fail', 'graded'], p=[.1,.9]) for _ in range(100)]"
   ]
  },
  {
   "cell_type": "markdown",
   "metadata": {},
   "source": [
    "5.1) Using your functions generated in problems `1.4` and `1.5` earlier in this assignment, please assign an exam grade to each student."
   ]
  },
  {
   "cell_type": "code",
   "execution_count": null,
   "metadata": {},
   "outputs": [],
   "source": []
  },
  {
   "cell_type": "code",
   "execution_count": null,
   "metadata": {
    "collapsed": true
   },
   "outputs": [],
   "source": []
  },
  {
   "cell_type": "code",
   "execution_count": null,
   "metadata": {
    "collapsed": true
   },
   "outputs": [],
   "source": []
  },
  {
   "cell_type": "code",
   "execution_count": null,
   "metadata": {
    "collapsed": true
   },
   "outputs": [],
   "source": []
  },
  {
   "cell_type": "code",
   "execution_count": null,
   "metadata": {
    "collapsed": true
   },
   "outputs": [],
   "source": []
  },
  {
   "cell_type": "markdown",
   "metadata": {},
   "source": [
    "# Extra Problems - Only Required by Section 05\n",
    "Below are several word problems that use slightly more advanced data sets. The instructions will be less explicit and you'll be required to figure out how to answer the intent of the question."
   ]
  },
  {
   "cell_type": "markdown",
   "metadata": {},
   "source": [
    "#### Part 6 - Describe my students"
   ]
  },
  {
   "cell_type": "markdown",
   "metadata": {},
   "source": [
    "In the cell below, I've written a bit of code to load some data for you to analyze.\n",
    "\n",
    "`student_info` contains personal information for several students. You will use this to answer all of the questions in Part 4."
   ]
  },
  {
   "cell_type": "code",
   "execution_count": null,
   "metadata": {},
   "outputs": [],
   "source": [
    "import json\n",
    "student_info = json.load(open('data_hw2_part_3.json'))"
   ]
  },
  {
   "cell_type": "markdown",
   "metadata": {},
   "source": [
    "6.1) take a look at student_info and describe what you see. What kind of data structure is it? How many students are in there? Take a look at a single record and describe what that record look like? What kind of data structure is used to describe a student? Do you analysis and write your description in the cell below."
   ]
  },
  {
   "cell_type": "code",
   "execution_count": null,
   "metadata": {},
   "outputs": [],
   "source": []
  },
  {
   "cell_type": "code",
   "execution_count": null,
   "metadata": {
    "collapsed": true
   },
   "outputs": [],
   "source": []
  },
  {
   "cell_type": "code",
   "execution_count": null,
   "metadata": {
    "collapsed": true
   },
   "outputs": [],
   "source": []
  },
  {
   "cell_type": "code",
   "execution_count": null,
   "metadata": {
    "collapsed": true
   },
   "outputs": [],
   "source": []
  },
  {
   "cell_type": "markdown",
   "metadata": {},
   "source": [
    "6.2) How many different majors are represented by these students?"
   ]
  },
  {
   "cell_type": "code",
   "execution_count": null,
   "metadata": {
    "collapsed": true
   },
   "outputs": [],
   "source": []
  },
  {
   "cell_type": "code",
   "execution_count": null,
   "metadata": {
    "collapsed": true
   },
   "outputs": [],
   "source": []
  },
  {
   "cell_type": "markdown",
   "metadata": {},
   "source": [
    "6.3) What is the most popular major amongst each gender?"
   ]
  },
  {
   "cell_type": "code",
   "execution_count": null,
   "metadata": {
    "collapsed": true
   },
   "outputs": [],
   "source": []
  },
  {
   "cell_type": "code",
   "execution_count": null,
   "metadata": {
    "collapsed": true
   },
   "outputs": [],
   "source": []
  },
  {
   "cell_type": "markdown",
   "metadata": {},
   "source": [
    "6.4) For each major, what is the ratio of males to females in each class? For example, in the major or Economics, what are the ratios of males to females in the freshman class, sophomore class, junior class, and senior class?"
   ]
  },
  {
   "cell_type": "code",
   "execution_count": null,
   "metadata": {
    "collapsed": true
   },
   "outputs": [],
   "source": []
  },
  {
   "cell_type": "code",
   "execution_count": null,
   "metadata": {
    "collapsed": true
   },
   "outputs": [],
   "source": []
  },
  {
   "cell_type": "code",
   "execution_count": null,
   "metadata": {
    "collapsed": true
   },
   "outputs": [],
   "source": []
  },
  {
   "cell_type": "code",
   "execution_count": null,
   "metadata": {
    "collapsed": true
   },
   "outputs": [],
   "source": []
  },
  {
   "cell_type": "markdown",
   "metadata": {},
   "source": [
    "6.5) Which major has the highest average gpa for men and which major has the highest gpa for women?"
   ]
  },
  {
   "cell_type": "code",
   "execution_count": null,
   "metadata": {
    "collapsed": true
   },
   "outputs": [],
   "source": []
  },
  {
   "cell_type": "code",
   "execution_count": null,
   "metadata": {
    "collapsed": true
   },
   "outputs": [],
   "source": []
  },
  {
   "cell_type": "code",
   "execution_count": null,
   "metadata": {
    "collapsed": true
   },
   "outputs": [],
   "source": []
  },
  {
   "cell_type": "code",
   "execution_count": null,
   "metadata": {
    "collapsed": true
   },
   "outputs": [],
   "source": []
  }
 ],
 "metadata": {
  "anaconda-cloud": {},
  "kernelspec": {
   "display_name": "Python 3",
   "language": "python",
   "name": "python3"
  },
  "language_info": {
   "codemirror_mode": {
    "name": "ipython",
    "version": 3
   },
   "file_extension": ".py",
   "mimetype": "text/x-python",
   "name": "python",
   "nbconvert_exporter": "python",
   "pygments_lexer": "ipython3",
   "version": "3.7.4"
  }
 },
 "nbformat": 4,
 "nbformat_minor": 1
}
