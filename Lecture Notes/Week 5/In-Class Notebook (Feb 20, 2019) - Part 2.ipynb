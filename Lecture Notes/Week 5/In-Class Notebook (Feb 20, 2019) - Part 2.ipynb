{
 "cells": [
  {
   "cell_type": "markdown",
   "metadata": {},
   "source": [
    "# MSDS 631 - Lecture 5 (February 20, 2019)\n",
    "\n",
    "## Refresher about functions, variables, data structures\n",
    "There are several key concepts that we need to fully internalize before moving forward."
   ]
  },
  {
   "cell_type": "markdown",
   "metadata": {},
   "source": [
    "##### Fundamentals of functions\n",
    "\n",
    "There is a lot of confusion regarding how to use functions, including the calling of functions from other functions, assuming the availability of global variables, and knowing how/what to return.\n",
    "\n",
    "First, let's talk about the calling of functions from other functions."
   ]
  },
  {
   "cell_type": "code",
   "execution_count": null,
   "metadata": {
    "collapsed": false
   },
   "outputs": [],
   "source": [
    "#Let's start by loading the students data.\n",
    "import json\n",
    "students = json.load(open('students.json', 'r'))"
   ]
  },
  {
   "cell_type": "code",
   "execution_count": null,
   "metadata": {
    "collapsed": false
   },
   "outputs": [],
   "source": [
    "students[0]"
   ]
  },
  {
   "cell_type": "markdown",
   "metadata": {},
   "source": [
    "Let's say we want to compute the average GPA given a specific value for a specific attribute. For example, what is the average GPA for \"Females\" within the attribute of \"gender\"."
   ]
  },
  {
   "cell_type": "code",
   "execution_count": null,
   "metadata": {
    "collapsed": false
   },
   "outputs": [],
   "source": [
    "#Average GPA for females\n",
    "gpas = []\n",
    "#<insert code here>\n"
   ]
  },
  {
   "cell_type": "markdown",
   "metadata": {},
   "source": [
    "Let's generalize this now and build a series of functions to find the highest average GPA within a specfic attribute (e.g. Finding the gender that has the highest GPA or finding the major that has the highest GPA)."
   ]
  },
  {
   "cell_type": "code",
   "execution_count": null,
   "metadata": {
    "collapsed": true
   },
   "outputs": [],
   "source": [
    "def get_avg_gpa(attribute, value):\n",
    "    #<insert code here>"
   ]
  },
  {
   "cell_type": "markdown",
   "metadata": {},
   "source": [
    "Now let's find the highest average GPA amongst all of the possible values of an attribute."
   ]
  },
  {
   "cell_type": "code",
   "execution_count": null,
   "metadata": {
    "collapsed": true
   },
   "outputs": [],
   "source": [
    "#Write function to find all of the possible values of an attribute\n",
    "def get_all_possible_values\n"
   ]
  },
  {
   "cell_type": "code",
   "execution_count": null,
   "metadata": {
    "collapsed": true
   },
   "outputs": [],
   "source": [
    "#Write function to compute all of the average GPAs for each value of an attribute\n",
    "def compute_avg_gpa_given_value\n"
   ]
  },
  {
   "cell_type": "code",
   "execution_count": null,
   "metadata": {
    "collapsed": true
   },
   "outputs": [],
   "source": [
    "#Write a function to find the key with the largest value within a dictionary\n",
    "def find_key_with_largest_value\n"
   ]
  },
  {
   "cell_type": "code",
   "execution_count": null,
   "metadata": {
    "collapsed": true
   },
   "outputs": [],
   "source": [
    "#Put it all together to find the value with the highest GPA within an attribute\n",
    "def find_group_with_highest_avg_gpa\n"
   ]
  },
  {
   "cell_type": "markdown",
   "metadata": {},
   "source": [
    "The problem with the above code is that we've assumed the existance of **`students`** as a global variable. If we had created **`students`** within another function and tried calling all of the previous functions, nothing would work because the students data would be local to this newly created function."
   ]
  },
  {
   "cell_type": "code",
   "execution_count": null,
   "metadata": {
    "collapsed": true
   },
   "outputs": [],
   "source": [
    "#Let's put it all together but not assume that we have the global variable 'students'\n",
    "import json\n",
    "def find_group_with_highest_avg_gpa\n",
    "    students = json.load(open('students.json', 'r'))\n"
   ]
  },
  {
   "cell_type": "markdown",
   "metadata": {},
   "source": [
    "When building functions, you should ALWAYS pass the arguments that the function needs. You should never assume that a global variable will exist. This could causes several issues regarding possible naming conflicts, debugging, and may prevent the possibility of the code running at all."
   ]
  },
  {
   "cell_type": "markdown",
   "metadata": {},
   "source": [
    "##### Fundamentals of using variables vs. other data structures\n",
    "It's important to remember that data structures can serve the exact same purpose as variables to store data. The difference is that they *can* give you incredible flexibility to do things.\n",
    "\n",
    "In the problem where we wanted to see whether numbers were divisible by a certain divisor, we **could** have done this:"
   ]
  },
  {
   "cell_type": "code",
   "execution_count": null,
   "metadata": {
    "collapsed": false
   },
   "outputs": [],
   "source": [
    "nums_divisible_by_2 = []\n",
    "nums_divisible_by_3 = []\n",
    "nums_divisible_by_4 = []\n",
    "nums_divisible_by_5 = []\n",
    "nums_divisible_by_6 = []\n",
    "nums_divisible_by_7 = []\n",
    "nums_divisible_by_8 = []\n",
    "nums_divisible_by_9 = []\n",
    "for i in range(1,51):\n",
    "    if i % 2 == 0:\n",
    "        nums_divisible_by_2.append(i)\n",
    "    if i % 3 == 0:\n",
    "        nums_divisible_by_3.append(i)\n",
    "    if i % 4 == 0:\n",
    "        nums_divisible_by_4.append(i)\n",
    "    if i % 5 == 0:\n",
    "        nums_divisible_by_5.append(i)\n",
    "    if i % 6 == 0:\n",
    "        nums_divisible_by_6.append(i)\n",
    "    if i % 7 == 0:\n",
    "        nums_divisible_by_7.append(i)\n",
    "    if i % 8 == 0:\n",
    "        nums_divisible_by_8.append(i)\n",
    "    if i % 9 == 0:\n",
    "        nums_divisible_by_9.append(i)\n",
    "print(nums_divisible_by_2)\n",
    "print(nums_divisible_by_3)\n",
    "print(nums_divisible_by_4)\n",
    "print(nums_divisible_by_5)\n",
    "print(nums_divisible_by_6)\n",
    "print(nums_divisible_by_7)\n",
    "print(nums_divisible_by_8)\n",
    "print(nums_divisible_by_9)\n"
   ]
  },
  {
   "cell_type": "markdown",
   "metadata": {},
   "source": [
    "Any time you find yourself re-writing very similar looking code, think about whether you can use loops and data structures to achieve your desired result"
   ]
  },
  {
   "cell_type": "code",
   "execution_count": null,
   "metadata": {
    "collapsed": true
   },
   "outputs": [],
   "source": [
    "#Let's generalize this so we don't have to repeat so much code\n",
    "nums_divisible_by = {}\n"
   ]
  },
  {
   "cell_type": "markdown",
   "metadata": {},
   "source": [
    "I want to close by providing a few tips about choosing variable and function names.\n",
    "- Be descriptive in your names\n",
    "- If you have multiple variables holding similar data, consider using a more versatile data structure\n",
    "- Use lower-case for all letters separated by underscores"
   ]
  }
 ],
 "metadata": {
  "kernelspec": {
   "display_name": "Python [conda env:py35]",
   "language": "python",
   "name": "conda-env-py35-py"
  },
  "language_info": {
   "codemirror_mode": {
    "name": "ipython",
    "version": 3
   },
   "file_extension": ".py",
   "mimetype": "text/x-python",
   "name": "python",
   "nbconvert_exporter": "python",
   "pygments_lexer": "ipython3",
   "version": "3.5.4"
  }
 },
 "nbformat": 4,
 "nbformat_minor": 1
}
