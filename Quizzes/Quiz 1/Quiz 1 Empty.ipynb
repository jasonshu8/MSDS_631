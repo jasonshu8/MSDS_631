{
 "cells": [
  {
   "cell_type": "markdown",
   "metadata": {},
   "source": [
    "# Quiz 1 Answer Key"
   ]
  },
  {
   "cell_type": "markdown",
   "metadata": {},
   "source": [
    "### Question 1\n",
    "What is the output of 3.0 == 3"
   ]
  },
  {
   "cell_type": "raw",
   "metadata": {
    "collapsed": false
   },
   "source": []
  },
  {
   "cell_type": "markdown",
   "metadata": {},
   "source": [
    "### Question 2\n",
    "What data type is returned by 4 / 2"
   ]
  },
  {
   "cell_type": "raw",
   "metadata": {
    "collapsed": false
   },
   "source": []
  },
  {
   "cell_type": "markdown",
   "metadata": {},
   "source": [
    "### Question 3\n",
    "What data type is returned by 4 // 2"
   ]
  },
  {
   "cell_type": "raw",
   "metadata": {
    "collapsed": false
   },
   "source": []
  },
  {
   "cell_type": "markdown",
   "metadata": {},
   "source": [
    "### Question 4\n",
    "What is the output of 'abc' + 'abc' (Please be exact)"
   ]
  },
  {
   "cell_type": "raw",
   "metadata": {
    "collapsed": false
   },
   "source": []
  },
  {
   "cell_type": "markdown",
   "metadata": {},
   "source": [
    "### Question 5\n",
    "What is the output of 'abc' - 'a'"
   ]
  },
  {
   "cell_type": "raw",
   "metadata": {
    "collapsed": false
   },
   "source": []
  },
  {
   "cell_type": "markdown",
   "metadata": {},
   "source": [
    "### Question 6\n",
    "What is the output of 2 + 3 // 2 + 2 ** 2"
   ]
  },
  {
   "cell_type": "raw",
   "metadata": {
    "collapsed": false
   },
   "source": []
  },
  {
   "cell_type": "markdown",
   "metadata": {},
   "source": [
    "### Question 7-9 Details\n",
    "Imagine you work at a restaurant and you are responsible for building the Python tools to keep track of orders. The menu is prix fix, so they must choose from an appetizer (soup or salad), a main course (beef, chicken or fish), and a dessert (cake or ice cream). Every table has 8 seats. At any given table, your server must go around and ask what each patron wants to eat. The tables are scattered, but are identifiable by a U.S. City. Food is delivered one table at a time, so it's important to keep track of things to facilitate this."
   ]
  },
  {
   "cell_type": "markdown",
   "metadata": {},
   "source": [
    "(7) What data structure would you use to keep track of a single individual's order (i.e. what did person the person sitting at in the first seat order?). Why do you think this is the BEST choice?"
   ]
  },
  {
   "cell_type": "raw",
   "metadata": {},
   "source": []
  },
  {
   "cell_type": "markdown",
   "metadata": {},
   "source": [
    "(8) What data structure would you use to keep track of all of the individuals' orders (from Question 7) at a single table? Why do you think this is the BEST choice?"
   ]
  },
  {
   "cell_type": "raw",
   "metadata": {},
   "source": []
  },
  {
   "cell_type": "markdown",
   "metadata": {},
   "source": [
    "(9) What data structure would you use to keep track of all of the tables' orders (from Question (8)) for the whole room? Why do you think this is the BEST choice?"
   ]
  },
  {
   "cell_type": "raw",
   "metadata": {},
   "source": []
  },
  {
   "cell_type": "markdown",
   "metadata": {},
   "source": [
    "### Question 10-11 Details\n",
    "Imagine you are also responsible for procuring the food for this restaurant and you need to compute the amount of raw ingredients needed to service the expected patrons. To ensure customer satisfaction, you add a little bit of buffer just in case more patrons than normal are ordering a particular dish that day. The following are the variables that you have at your disposal:\n",
    "\n",
    "- estimated_num_beef_dishes_ordered\n",
    "- pounds_beef_per_beef_dish\n",
    "- pounds_beef_per_cow\n",
    "- estimate_error_buffer (% error band for the number of dishes ordered)"
   ]
  },
  {
   "cell_type": "markdown",
   "metadata": {},
   "source": [
    "(10) Beef can only be purchased in units of whole cows. Please write the code you would implement to determine how many cows you need to buy? Be sure to choose a good variable names! (NOTE: You can assume that you will have a bit of leftover beef in the end)"
   ]
  },
  {
   "cell_type": "raw",
   "metadata": {},
   "source": []
  },
  {
   "cell_type": "markdown",
   "metadata": {},
   "source": [
    "(11) The estimate_error_buffer actually represents the high AND the low-end of what customers order (e.g. +/- 20%). The worst case scenario is if the low-end of the estimate actually occurs in real life when you purchase enough for the high-end. However, this only really matters if you had to purchase an extra cow as a result. Please write the code you would implement to determine how many extra cows you have purchased?"
   ]
  },
  {
   "cell_type": "raw",
   "metadata": {},
   "source": []
  }
 ],
 "metadata": {
  "anaconda-cloud": {},
  "kernelspec": {
   "display_name": "Python [conda env:py35]",
   "language": "python",
   "name": "conda-env-py35-py"
  },
  "language_info": {
   "codemirror_mode": {
    "name": "ipython",
    "version": 3
   },
   "file_extension": ".py",
   "mimetype": "text/x-python",
   "name": "python",
   "nbconvert_exporter": "python",
   "pygments_lexer": "ipython3",
   "version": "3.5.4"
  }
 },
 "nbformat": 4,
 "nbformat_minor": 1
}
