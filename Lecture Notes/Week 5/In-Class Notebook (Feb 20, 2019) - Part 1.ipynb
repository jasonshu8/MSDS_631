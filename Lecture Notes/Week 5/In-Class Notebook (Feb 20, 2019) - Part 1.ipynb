{
 "cells": [
  {
   "cell_type": "markdown",
   "metadata": {},
   "source": [
    "# MSDS 631 - Lecture 5 (February 20, 2019)\n",
    "\n",
    "## Refresher about functions, variables, data structures\n",
    "There are several key concepts that we need to fully internalize before moving forward."
   ]
  },
  {
   "cell_type": "markdown",
   "metadata": {},
   "source": [
    "##### Fundamentals of functions\n",
    "\n",
    "There is a lot of confusion regarding how to use functions, including the calling of functions from other functions, assuming the availability of global variables, and knowing how/what to return.\n",
    "\n",
    "First, let's talk about the calling of functions from other functions."
   ]
  },
  {
   "cell_type": "code",
   "execution_count": 38,
   "metadata": {
    "collapsed": false
   },
   "outputs": [],
   "source": [
    "#Let's start by loading the students data.\n",
    "import json\n",
    "students = json.load(open('students.json', 'r'))"
   ]
  },
  {
   "cell_type": "code",
   "execution_count": 39,
   "metadata": {
    "collapsed": false
   },
   "outputs": [
    {
     "data": {
      "text/plain": [
       "{'class': 'Junior',\n",
       " 'first': 'Janis',\n",
       " 'gender': 'Female',\n",
       " 'gpa': 3.12,\n",
       " 'last': 'Brown',\n",
       " 'major': 'Economics',\n",
       " 'student_id': '5a397209-3782-4764-a285-10fae807ee71'}"
      ]
     },
     "execution_count": 39,
     "metadata": {},
     "output_type": "execute_result"
    }
   ],
   "source": [
    "students[0]"
   ]
  },
  {
   "cell_type": "markdown",
   "metadata": {},
   "source": [
    "Let's say we want to compute the average GPA given a specific value for a specific attribute. For example, what is the average GPA for \"Females\" within the attribute of \"gender\"."
   ]
  },
  {
   "cell_type": "code",
   "execution_count": 43,
   "metadata": {
    "collapsed": false
   },
   "outputs": [
    {
     "data": {
      "text/plain": [
       "3.430955090428767"
      ]
     },
     "execution_count": 43,
     "metadata": {},
     "output_type": "execute_result"
    }
   ],
   "source": [
    "#Average GPA for females\n",
    "gpas = []\n",
    "for student in students:\n",
    "    if student['gender'] == 'Female':\n",
    "        gpa = student['gpa']\n",
    "        gpas.append(gpa)\n",
    "avg_gpa = sum(gpas) / len(gpas)\n",
    "avg_gpa"
   ]
  },
  {
   "cell_type": "markdown",
   "metadata": {},
   "source": [
    "Let's generalize this now and build a series of functions to find the highest average GPA within a specfic attribute (e.g. Finding the gender that has the highest GPA or finding the major that has the highest GPA)."
   ]
  },
  {
   "cell_type": "code",
   "execution_count": 44,
   "metadata": {
    "collapsed": true
   },
   "outputs": [],
   "source": [
    "def get_avg_gpa(attribute, value):\n",
    "    gpas = []\n",
    "    for student in students:\n",
    "        if student[attribute] == value:\n",
    "            gpa = student['gpa']\n",
    "            gpas.append(gpa)\n",
    "    avg_gpa = sum(gpas) / len(gpas)\n",
    "    rounded_gpa = round(avg_gpa, 4)\n",
    "    return rounded_gpa"
   ]
  },
  {
   "cell_type": "code",
   "execution_count": 45,
   "metadata": {
    "collapsed": false
   },
   "outputs": [
    {
     "data": {
      "text/plain": [
       "3.431"
      ]
     },
     "execution_count": 45,
     "metadata": {},
     "output_type": "execute_result"
    }
   ],
   "source": [
    "#Let's see if we get the same answer for females\n",
    "get_avg_gpa('gender', 'Female')"
   ]
  },
  {
   "cell_type": "markdown",
   "metadata": {},
   "source": [
    "Now let's find the highest average GPA amongst all of the possible values of an attribute."
   ]
  },
  {
   "cell_type": "code",
   "execution_count": 50,
   "metadata": {
    "collapsed": true
   },
   "outputs": [],
   "source": [
    "#Write function to find all of the possible values of an attribute\n",
    "def get_all_possible_values(attribute):\n",
    "    values = []\n",
    "    for student in students:\n",
    "        value = student[attribute]\n",
    "        values.append(value)\n",
    "    possible_values = set(values)\n",
    "    return possible_values"
   ]
  },
  {
   "cell_type": "code",
   "execution_count": 51,
   "metadata": {
    "collapsed": false
   },
   "outputs": [
    {
     "data": {
      "text/plain": [
       "{'Chemistry', 'Economics', 'Engineering', 'Finance', 'Math', 'Physics'}"
      ]
     },
     "execution_count": 51,
     "metadata": {},
     "output_type": "execute_result"
    }
   ],
   "source": [
    "#Let's see if we get the same answer for majors\n",
    "get_all_possible_values('major') #Keys are case sensitive, so be careful!!!"
   ]
  },
  {
   "cell_type": "code",
   "execution_count": 52,
   "metadata": {
    "collapsed": true
   },
   "outputs": [],
   "source": [
    "#Write function to compute all of the average GPAs for each value of an attribute\n",
    "def compute_avg_gpa_given_value(attribute):\n",
    "    all_avg_gpas = {}\n",
    "    possible_values = get_all_possible_values(attribute)\n",
    "    for value in possible_values:\n",
    "        avg_gpa = get_avg_gpa(attribute, value)\n",
    "        all_avg_gpas[value] = avg_gpa\n",
    "    return all_avg_gpas"
   ]
  },
  {
   "cell_type": "code",
   "execution_count": 55,
   "metadata": {
    "collapsed": false
   },
   "outputs": [],
   "source": [
    "#Let's see what we get for genders\n",
    "all_avg_gpas = compute_avg_gpa_given_value('gender')"
   ]
  },
  {
   "cell_type": "code",
   "execution_count": 56,
   "metadata": {
    "collapsed": true
   },
   "outputs": [],
   "source": [
    "#Write a function to find the key with the largest value within a dictionary\n",
    "def find_key_with_largest_value(dictionary_of_gpas):\n",
    "    highest_avg_gpa = -10000\n",
    "    value_w_highest_avg_gpa = None\n",
    "    possible_values = dictionary_of_gpas.keys()\n",
    "\n",
    "    for value in possible_values:\n",
    "        gpa = dictionary_of_gpas[value]\n",
    "        if gpa > highest_avg_gpa:\n",
    "            highest_avg_gpa = gpa\n",
    "            value_w_highest_avg_gpa = value\n",
    "    return value_w_highest_avg_gpa, highest_avg_gpa\n"
   ]
  },
  {
   "cell_type": "code",
   "execution_count": 58,
   "metadata": {
    "collapsed": false
   },
   "outputs": [
    {
     "data": {
      "text/plain": [
       "('Female', 3.431)"
      ]
     },
     "execution_count": 58,
     "metadata": {},
     "output_type": "execute_result"
    }
   ],
   "source": [
    "#Let's see what we get for the previously generated dictionary of gender GPAs\n",
    "find_key_with_largest_value(all_avg_gpas)"
   ]
  },
  {
   "cell_type": "code",
   "execution_count": 59,
   "metadata": {
    "collapsed": true
   },
   "outputs": [],
   "source": [
    "#Put it all together to find the value with the highest GPA within an attribute\n",
    "def find_group_with_highest_avg_gpa(attribute):\n",
    "    dictionary_of_gpas = compute_avg_gpa_given_value(attribute)\n",
    "    value_w_highest_avg_gpa, highest_avg_gpa = find_key_with_largest_value(dictionary_of_gpas)\n",
    "    return value_w_highest_avg_gpa, highest_avg_gpa"
   ]
  },
  {
   "cell_type": "code",
   "execution_count": 60,
   "metadata": {
    "collapsed": false
   },
   "outputs": [
    {
     "data": {
      "text/plain": [
       "('Finance', 3.615)"
      ]
     },
     "execution_count": 60,
     "metadata": {},
     "output_type": "execute_result"
    }
   ],
   "source": [
    "find_group_with_highest_avg_gpa('major')"
   ]
  },
  {
   "cell_type": "code",
   "execution_count": 61,
   "metadata": {
    "collapsed": false
   },
   "outputs": [
    {
     "data": {
      "text/plain": [
       "('Female', 3.431)"
      ]
     },
     "execution_count": 61,
     "metadata": {},
     "output_type": "execute_result"
    }
   ],
   "source": [
    "find_group_with_highest_avg_gpa('gender')"
   ]
  },
  {
   "cell_type": "code",
   "execution_count": 62,
   "metadata": {
    "collapsed": false
   },
   "outputs": [
    {
     "data": {
      "text/plain": [
       "('Freshman', 3.3809)"
      ]
     },
     "execution_count": 62,
     "metadata": {},
     "output_type": "execute_result"
    }
   ],
   "source": [
    "find_group_with_highest_avg_gpa('class')"
   ]
  },
  {
   "cell_type": "markdown",
   "metadata": {},
   "source": [
    "The problem with the above code is that we've assumed the existance of **`students`** as a global variable. If we had created **`students`** within another function and tried calling all of the previous functions, nothing would work because the students data would be local to this newly created function."
   ]
  },
  {
   "cell_type": "code",
   "execution_count": null,
   "metadata": {
    "collapsed": true
   },
   "outputs": [],
   "source": [
    "#Let's put it all together but not assume that we have the global variable 'students'\n",
    "import json\n",
    "def find_group_with_highest_avg_gpa\n",
    "    students = json.load(open('students.json', 'r'))\n",
    "    dictionary_of_gpas = compute_avg_gpa_given_value(students, attribute) #Need to pass function `students` as an argument\n",
    "    value_w_highest_avg_gpa, highest_avg_gpa = find_key_with_largest_value(dictionary_of_gpas)\n",
    "    return value_w_highest_avg_gpa, highest_avg_gpa"
   ]
  },
  {
   "cell_type": "markdown",
   "metadata": {},
   "source": [
    "When building functions, you should ALWAYS pass the arguments that the function needs. You should never assume that a global variable will exist. This could causes several issues regarding possible naming conflicts, debugging, and may prevent the possibility of the code running at all."
   ]
  },
  {
   "cell_type": "markdown",
   "metadata": {},
   "source": [
    "##### Fundamentals of using variables vs. other data structures\n",
    "It's important to remember that data structures can serve the exact same purpose as variables to store data. The difference is that they *can* give you incredible flexibility to do things.\n",
    "\n",
    "In the problem where we wanted to see whether numbers were divisible by a certain divisor, we **could** have done this:"
   ]
  },
  {
   "cell_type": "code",
   "execution_count": null,
   "metadata": {
    "collapsed": false
   },
   "outputs": [],
   "source": [
    "nums_divisible_by_2 = []\n",
    "nums_divisible_by_3 = []\n",
    "nums_divisible_by_4 = []\n",
    "nums_divisible_by_5 = []\n",
    "nums_divisible_by_6 = []\n",
    "nums_divisible_by_7 = []\n",
    "nums_divisible_by_8 = []\n",
    "nums_divisible_by_9 = []\n",
    "for i in range(1,51):\n",
    "    if i % 2 == 0:\n",
    "        nums_divisible_by_2.append(i)\n",
    "    if i % 3 == 0:\n",
    "        nums_divisible_by_3.append(i)\n",
    "    if i % 4 == 0:\n",
    "        nums_divisible_by_4.append(i)\n",
    "    if i % 5 == 0:\n",
    "        nums_divisible_by_5.append(i)\n",
    "    if i % 6 == 0:\n",
    "        nums_divisible_by_6.append(i)\n",
    "    if i % 7 == 0:\n",
    "        nums_divisible_by_7.append(i)\n",
    "    if i % 8 == 0:\n",
    "        nums_divisible_by_8.append(i)\n",
    "    if i % 9 == 0:\n",
    "        nums_divisible_by_9.append(i)\n",
    "print(nums_divisible_by_2)\n",
    "print(nums_divisible_by_3)\n",
    "print(nums_divisible_by_4)\n",
    "print(nums_divisible_by_5)\n",
    "print(nums_divisible_by_6)\n",
    "print(nums_divisible_by_7)\n",
    "print(nums_divisible_by_8)\n",
    "print(nums_divisible_by_9)\n"
   ]
  },
  {
   "cell_type": "markdown",
   "metadata": {},
   "source": [
    "Any time you find yourself re-writing very similar looking code, think about whether you can use loops and data structures to achieve your desired result"
   ]
  },
  {
   "cell_type": "code",
   "execution_count": 64,
   "metadata": {
    "collapsed": false
   },
   "outputs": [
    {
     "data": {
      "text/plain": [
       "{2: [2,\n",
       "  4,\n",
       "  6,\n",
       "  8,\n",
       "  10,\n",
       "  12,\n",
       "  14,\n",
       "  16,\n",
       "  18,\n",
       "  20,\n",
       "  22,\n",
       "  24,\n",
       "  26,\n",
       "  28,\n",
       "  30,\n",
       "  32,\n",
       "  34,\n",
       "  36,\n",
       "  38,\n",
       "  40,\n",
       "  42,\n",
       "  44,\n",
       "  46,\n",
       "  48,\n",
       "  50],\n",
       " 3: [3, 6, 9, 12, 15, 18, 21, 24, 27, 30, 33, 36, 39, 42, 45, 48],\n",
       " 4: [4, 8, 12, 16, 20, 24, 28, 32, 36, 40, 44, 48],\n",
       " 5: [5, 10, 15, 20, 25, 30, 35, 40, 45, 50],\n",
       " 6: [6, 12, 18, 24, 30, 36, 42, 48],\n",
       " 7: [7, 14, 21, 28, 35, 42, 49],\n",
       " 8: [8, 16, 24, 32, 40, 48],\n",
       " 9: [9, 18, 27, 36, 45]}"
      ]
     },
     "execution_count": 64,
     "metadata": {},
     "output_type": "execute_result"
    }
   ],
   "source": [
    "#Let's generalize this so we don't have to repeat so much code\n",
    "nums_divisible_by = {}\n",
    "for divisor in range(2,10):\n",
    "    nums_divisible_by[divisor] = []\n",
    "    for dividend in range(1,51):\n",
    "        if dividend % divisor == 0:\n",
    "            nums_divisible_by[divisor].append(dividend)\n",
    "nums_divisible_by"
   ]
  },
  {
   "cell_type": "markdown",
   "metadata": {},
   "source": [
    "I want to close by providing a few tips about choosing variable and function names.\n",
    "- Be descriptive in your names\n",
    "- If you have multiple variables holding similar data, consider using a more versatile data structure\n",
    "- Use lower-case for all letters separated by underscores"
   ]
  }
 ],
 "metadata": {
  "kernelspec": {
   "display_name": "Python [conda env:py35]",
   "language": "python",
   "name": "conda-env-py35-py"
  },
  "language_info": {
   "codemirror_mode": {
    "name": "ipython",
    "version": 3
   },
   "file_extension": ".py",
   "mimetype": "text/x-python",
   "name": "python",
   "nbconvert_exporter": "python",
   "pygments_lexer": "ipython3",
   "version": "3.5.4"
  }
 },
 "nbformat": 4,
 "nbformat_minor": 1
}
