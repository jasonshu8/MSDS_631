{
 "cells": [
  {
   "cell_type": "markdown",
   "metadata": {},
   "source": [
    "# Introduction to Visualizations in R (ggplot2)\n",
    "\n",
    "While Python is my preferred language to do most thing, there are several very impressive capabilities that R brings to the table. R far surpasses anything that Python libraries can offer for statistical, linear, and time-series modeling. By most standards, R also has a superior plotting capability over Python. Most graphics you will see in academic research will come from R. Thus, a common workflow will be to use Python for your data wrangling needs, then imporing simple csv files in R for analysis and plotting.\n",
    "\n",
    "Today we will learn the basics of ggplot2 and the idea of the \"Grammar of Graphics.\" Matplotlib is widely viewed as cumbersome, unintuitive, and difficult to use. On the contrary, most view ggplot2 as more intuitive and easy to learn/remember. That being said, ggplot2 is still a massive library with capabilities that can take a long time to master. Our focus will be on the basic structure as well as some basic plotting features that you can expect to use."
   ]
  },
  {
   "cell_type": "code",
   "execution_count": null,
   "metadata": {},
   "outputs": [],
   "source": [
    "library(ggplot2)"
   ]
  },
  {
   "cell_type": "code",
   "execution_count": null,
   "metadata": {},
   "outputs": [],
   "source": [
    "#Let's open our trusty students data set\n",
    "students = read.csv('students.csv')"
   ]
  },
  {
   "cell_type": "code",
   "execution_count": null,
   "metadata": {},
   "outputs": [],
   "source": [
    "head(students)"
   ]
  },
  {
   "cell_type": "markdown",
   "metadata": {},
   "source": [
    "One of the most used plots in visualizing data is the histogram."
   ]
  },
  {
   "cell_type": "code",
   "execution_count": null,
   "metadata": {},
   "outputs": [],
   "source": [
    "ggplot(students, aes(x=gpa)) + geom_histogram(binwidth=.2)"
   ]
  },
  {
   "cell_type": "code",
   "execution_count": null,
   "metadata": {},
   "outputs": [],
   "source": [
    "ggplot(students, aes(x=major, y=gpa)) + geom_point()"
   ]
  },
  {
   "cell_type": "code",
   "execution_count": null,
   "metadata": {},
   "outputs": [],
   "source": [
    "agg <- aggregate(students$gpa, by = list(Major=students$major), FUN=mean, data=students)"
   ]
  },
  {
   "cell_type": "code",
   "execution_count": null,
   "metadata": {},
   "outputs": [],
   "source": [
    "agg"
   ]
  },
  {
   "cell_type": "code",
   "execution_count": null,
   "metadata": {},
   "outputs": [],
   "source": [
    "ggplot(students) + \n",
    "    geom_point(aes(x=major, y=gpa)) + \n",
    "    geom_point(data=agg, aes(x=Major, y=x), colour = 'red', size=3)"
   ]
  },
  {
   "cell_type": "code",
   "execution_count": null,
   "metadata": {},
   "outputs": [],
   "source": [
    "ggplot(students) + \n",
    "    geom_boxplot(aes(x=major, y=gpa))"
   ]
  },
  {
   "cell_type": "code",
   "execution_count": null,
   "metadata": {},
   "outputs": [],
   "source": [
    "data(mtcars)"
   ]
  },
  {
   "cell_type": "markdown",
   "metadata": {},
   "source": [
    "head(mtcars)"
   ]
  },
  {
   "cell_type": "code",
   "execution_count": null,
   "metadata": {},
   "outputs": [],
   "source": [
    "ggplot(data=mtcars, aes(hp, qsec)) + \n",
    "    geom_point() +\n",
    "    geom_smooth(method=lm)"
   ]
  },
  {
   "cell_type": "code",
   "execution_count": null,
   "metadata": {},
   "outputs": [],
   "source": [
    "pairs(mtcars)"
   ]
  },
  {
   "cell_type": "code",
   "execution_count": null,
   "metadata": {},
   "outputs": [],
   "source": [
    "data(iris)"
   ]
  },
  {
   "cell_type": "code",
   "execution_count": null,
   "metadata": {},
   "outputs": [],
   "source": [
    "head(iris)"
   ]
  },
  {
   "cell_type": "code",
   "execution_count": null,
   "metadata": {},
   "outputs": [],
   "source": [
    "avgs <- aggregate(x=iris[,1:4], by=list(Species=iris$Species), FUN=mean)"
   ]
  },
  {
   "cell_type": "code",
   "execution_count": null,
   "metadata": {},
   "outputs": [],
   "source": [
    "avgs"
   ]
  },
  {
   "cell_type": "code",
   "execution_count": null,
   "metadata": {},
   "outputs": [],
   "source": [
    "\n",
    "s.len <- ggplot(avgs, aes(x=Species, y=Sepal.Length)) + \n",
    "    geom_bar(stat='identity', fill='#d60000') +\n",
    "    labs(title='asdf', x='qwer', y='zxv')\n",
    "\n",
    "p.length <- ggplot(avgs, aes(x=Species, y=Petal.Length)) + \n",
    "    geom_bar(stat='identity', fill='#797c77') + \n",
    "    ggtitle('This is a title') + xlab('This is x') + ylab('This is y')\n",
    "\n",
    "p.width <- ggplot(avgs, aes(x=Species, y=Petal.Width)) + \n",
    "    geom_bar(stat='identity', fill='#438e88') + \n",
    "    ggtitle('This is a title') + theme(plot.title = element_text(hjust = 0.5)) + \n",
    "    xlab('This is x') + \n",
    "    ylab('This is y')\n",
    "\n"
   ]
  },
  {
   "cell_type": "code",
   "execution_count": null,
   "metadata": {},
   "outputs": [],
   "source": [
    "install.packages(\"gridExtra\")\n",
    "library(\"gridExtra\")"
   ]
  },
  {
   "cell_type": "code",
   "execution_count": null,
   "metadata": {},
   "outputs": [],
   "source": [
    "grid.arrange(s.len, p.length, p.width, ncol=2, nrow=2, widths=c(4,4), heights=c(2,1))"
   ]
  },
  {
   "cell_type": "code",
   "execution_count": null,
   "metadata": {},
   "outputs": [],
   "source": []
  }
 ],
 "metadata": {
  "kernelspec": {
   "display_name": "R",
   "language": "R",
   "name": "ir"
  },
  "language_info": {
   "codemirror_mode": "r",
   "file_extension": ".r",
   "mimetype": "text/x-r-source",
   "name": "R",
   "pygments_lexer": "r",
   "version": "3.5.1"
  }
 },
 "nbformat": 4,
 "nbformat_minor": 2
}
