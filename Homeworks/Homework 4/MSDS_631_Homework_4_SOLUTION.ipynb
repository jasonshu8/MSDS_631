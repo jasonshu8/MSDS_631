{
 "cells": [
  {
   "cell_type": "markdown",
   "metadata": {},
   "source": [
    "# Homework 4"
   ]
  },
  {
   "cell_type": "markdown",
   "metadata": {},
   "source": [
    "### Opening and Saving Data to Files\n",
    "\n",
    "In this assignment, you will practice loading and saving data used for your analyses using various data file types. We are going to write some functions that will help us load data, depending on the file format.\n",
    "\n",
    "#### Part 1 - CSVs"
   ]
  },
  {
   "cell_type": "markdown",
   "metadata": {},
   "source": [
    "1.1) Comma Separated Value (csv) files are probably the most commonly used file format to store data. If this is the case, you can assume that the data is in a standard \"row-column\" format. In the cell below, import the library that will help us open our files."
   ]
  },
  {
   "cell_type": "code",
   "execution_count": 1,
   "metadata": {
    "collapsed": true
   },
   "outputs": [],
   "source": [
    "import csv"
   ]
  },
  {
   "cell_type": "markdown",
   "metadata": {},
   "source": [
    "Now let's write a little helper function. We can assume that the file will be in the same folder as where your Python script exists.\n",
    "\n",
    "1.2) In the cell below, write a function that allows you to open a csv file and return the data extracted from the file. There should be only one argument - the name of the file you wish to load. You can name your argument whatever you would like.\n",
    "\n",
    "Please do not copy and paste the code from the notes - please type the code out to help familiarize yourself and improve muscle memory."
   ]
  },
  {
   "cell_type": "code",
   "execution_count": 2,
   "metadata": {
    "collapsed": true
   },
   "outputs": [],
   "source": [
    "def open_csv(filepath):\n",
    "    data = []\n",
    "    with open(filepath, 'r') as f:\n",
    "        reader = csv.reader(f)\n",
    "        for row in reader:\n",
    "            data.append(row)\n",
    "    return data"
   ]
  },
  {
   "cell_type": "markdown",
   "metadata": {},
   "source": [
    "1.3) Use your function to open the file \"students.csv\" and assign it to a variable called `students`. Please do not copy and paste the code from the notes - please type the code out to help familiarize yourself and improve muscle memory."
   ]
  },
  {
   "cell_type": "code",
   "execution_count": 3,
   "metadata": {
    "collapsed": true
   },
   "outputs": [],
   "source": [
    "students = open_csv('students.csv')"
   ]
  },
  {
   "cell_type": "markdown",
   "metadata": {},
   "source": [
    "1.4) How many students were in the \"students.csv\" file?"
   ]
  },
  {
   "cell_type": "code",
   "execution_count": 5,
   "metadata": {
    "collapsed": false
   },
   "outputs": [
    {
     "data": {
      "text/plain": [
       "list"
      ]
     },
     "execution_count": 5,
     "metadata": {},
     "output_type": "execute_result"
    }
   ],
   "source": [
    "type(students)"
   ]
  },
  {
   "cell_type": "code",
   "execution_count": 6,
   "metadata": {
    "collapsed": false
   },
   "outputs": [
    {
     "data": {
      "text/plain": [
       "10001"
      ]
     },
     "execution_count": 6,
     "metadata": {},
     "output_type": "execute_result"
    }
   ],
   "source": [
    "len(students)"
   ]
  },
  {
   "cell_type": "code",
   "execution_count": 9,
   "metadata": {
    "collapsed": false
   },
   "outputs": [
    {
     "name": "stdout",
     "output_type": "stream",
     "text": [
      "['student_id', 'first', 'last', 'gender', 'class', 'major', 'gpa']\n",
      "['5a397209-3782-4764-a285-10fae807ee71', 'Janis', 'Brown', 'Female', 'Junior', 'Economics', '3.12']\n",
      "['e26c3d69-3c74-49b6-81d7-47232787fad9', 'Timothy', 'Bishop', 'Male', 'Sophomore', 'Economics', '3.48']\n",
      "['975c1581-5ba2-430c-a3d1-01ce03bd83f9', 'Elizabeth', 'Owens', 'Female', 'Freshman', 'Finance', '3.4']\n",
      "['6081f91d-365c-46ce-ad1b-38af120781d9', 'Edward', 'Pearson', 'Male', 'Freshman', 'Math', '3.84']\n",
      "['84cec8f4-0b64-44ce-a628-c0eb73f6ca6f', 'Lisa', 'Gonzalez', 'Female', 'Junior', 'Finance', '4.0']\n",
      "['6c849c3e-e640-4bba-a86a-4323fd513b90', 'Alphonse', 'Allen', 'Male', 'Freshman', 'Engineering', '2.99']\n",
      "['a5c87c39-447c-4c29-92af-fa702a8d5595', 'Linwood', 'Coleman', 'Male', 'Freshman', 'Engineering', '3.58']\n",
      "['f6b177e8-e00a-480e-b62e-906c2ad80f85', 'Arthur', 'Mccolpin', 'Male', 'Junior', 'Math', '3.04']\n",
      "['8387594f-c9b2-4daa-ae93-c3e40f58cb26', 'Daniel', 'Carter', 'Male', 'Junior', 'Chemistry', '2.41']\n"
     ]
    }
   ],
   "source": [
    "for student in students[:10]:\n",
    "    print(student)"
   ]
  },
  {
   "cell_type": "raw",
   "metadata": {},
   "source": [
    "Since there is a header row, there are actually 10000 students in this file."
   ]
  },
  {
   "cell_type": "markdown",
   "metadata": {},
   "source": [
    "1.5) The first row of the file should contain the attributes that each \"column\" of the data represents. What are the attributes provided for each student?"
   ]
  },
  {
   "cell_type": "code",
   "execution_count": 10,
   "metadata": {
    "collapsed": false
   },
   "outputs": [
    {
     "data": {
      "text/plain": [
       "['student_id', 'first', 'last', 'gender', 'class', 'major', 'gpa']"
      ]
     },
     "execution_count": 10,
     "metadata": {},
     "output_type": "execute_result"
    }
   ],
   "source": [
    "students[0]"
   ]
  },
  {
   "cell_type": "markdown",
   "metadata": {},
   "source": [
    "1.6) Create a new list of lists that only contains the students' 1) student IDs, 2) first names, and 3) last names. Be sure to include the header as the first list in your list of lists (hint: use the indices of the attributes from 1.5)."
   ]
  },
  {
   "cell_type": "code",
   "execution_count": 11,
   "metadata": {
    "collapsed": true
   },
   "outputs": [],
   "source": [
    "students_names = []\n",
    "for student in students:\n",
    "    row = [student[0], student[1], student[2]]\n",
    "    students_names.append(row)"
   ]
  },
  {
   "cell_type": "code",
   "execution_count": 13,
   "metadata": {
    "collapsed": false
   },
   "outputs": [
    {
     "data": {
      "text/plain": [
       "[['student_id', 'first', 'last'],\n",
       " ['5a397209-3782-4764-a285-10fae807ee71', 'Janis', 'Brown'],\n",
       " ['e26c3d69-3c74-49b6-81d7-47232787fad9', 'Timothy', 'Bishop'],\n",
       " ['975c1581-5ba2-430c-a3d1-01ce03bd83f9', 'Elizabeth', 'Owens'],\n",
       " ['6081f91d-365c-46ce-ad1b-38af120781d9', 'Edward', 'Pearson']]"
      ]
     },
     "execution_count": 13,
     "metadata": {},
     "output_type": "execute_result"
    }
   ],
   "source": [
    "#Verify that the data looks good\n",
    "students_names[:5]"
   ]
  },
  {
   "cell_type": "markdown",
   "metadata": {},
   "source": [
    "1.7) In the cell below, write a function that allows you to store the data in a list of lists into a csv file. The function should assume to accept a list of lists and a filename (be sure it includes the extension .csv). Please do not copy and paste the code from the notes - please type the code out to help familiarize yourself and improve muscle memory."
   ]
  },
  {
   "cell_type": "code",
   "execution_count": 16,
   "metadata": {
    "collapsed": true
   },
   "outputs": [],
   "source": [
    "def write_csv(list_of_lists, filename):\n",
    "    with open(filename, 'w') as f:\n",
    "        writer = csv.writer(f)\n",
    "        writer.writerows(list_of_lists)"
   ]
  },
  {
   "cell_type": "markdown",
   "metadata": {},
   "source": [
    "1.8) Use your function above to store your list of lists from 1.6 and call it \"students_names.csv\""
   ]
  },
  {
   "cell_type": "code",
   "execution_count": 17,
   "metadata": {
    "collapsed": false
   },
   "outputs": [],
   "source": [
    "write_csv(students_names, 'students_names.csv')"
   ]
  },
  {
   "cell_type": "markdown",
   "metadata": {},
   "source": [
    "#### Part 2 - JSONs"
   ]
  },
  {
   "cell_type": "markdown",
   "metadata": {},
   "source": [
    "2.1) JSON files are problably the second most common way to store data. In the cell below, import the library that will help us open our files."
   ]
  },
  {
   "cell_type": "code",
   "execution_count": 18,
   "metadata": {
    "collapsed": true
   },
   "outputs": [],
   "source": [
    "import json"
   ]
  },
  {
   "cell_type": "markdown",
   "metadata": {},
   "source": [
    "2.2) In the cell below, write a function that allows you to open a `json` file and return the data extracted from the file. There should be only one argument - the name of the file you wish to load. You can name your argument whatever you would like. Please do not copy and paste the code from the notes - please type the code out to help familiarize yourself and improve muscle memory."
   ]
  },
  {
   "cell_type": "code",
   "execution_count": 19,
   "metadata": {
    "collapsed": true
   },
   "outputs": [],
   "source": [
    "def open_json(filename):\n",
    "    with open(filename, 'r') as f:\n",
    "        data = json.load(f)\n",
    "    return data"
   ]
  },
  {
   "cell_type": "markdown",
   "metadata": {},
   "source": [
    "2.3) Use your function to open the file \"students.json\" and assign it to a variable called students. Please do not copy and paste the code from the notes - please type the code out to help familiarize yourself and improve muscle memory."
   ]
  },
  {
   "cell_type": "code",
   "execution_count": 20,
   "metadata": {
    "collapsed": true
   },
   "outputs": [],
   "source": [
    "students = open_json('students.json')"
   ]
  },
  {
   "cell_type": "code",
   "execution_count": 21,
   "metadata": {
    "collapsed": false
   },
   "outputs": [
    {
     "data": {
      "text/plain": [
       "list"
      ]
     },
     "execution_count": 21,
     "metadata": {},
     "output_type": "execute_result"
    }
   ],
   "source": [
    "type(students)"
   ]
  },
  {
   "cell_type": "code",
   "execution_count": 23,
   "metadata": {
    "collapsed": false
   },
   "outputs": [
    {
     "data": {
      "text/plain": [
       "[{'class': 'Junior',\n",
       "  'first': 'Janis',\n",
       "  'gender': 'Female',\n",
       "  'gpa': 3.12,\n",
       "  'last': 'Brown',\n",
       "  'major': 'Economics',\n",
       "  'student_id': '5a397209-3782-4764-a285-10fae807ee71'},\n",
       " {'class': 'Sophomore',\n",
       "  'first': 'Timothy',\n",
       "  'gender': 'Male',\n",
       "  'gpa': 3.48,\n",
       "  'last': 'Bishop',\n",
       "  'major': 'Economics',\n",
       "  'student_id': 'e26c3d69-3c74-49b6-81d7-47232787fad9'}]"
      ]
     },
     "execution_count": 23,
     "metadata": {},
     "output_type": "execute_result"
    }
   ],
   "source": [
    "students[:2]"
   ]
  },
  {
   "cell_type": "markdown",
   "metadata": {},
   "source": [
    "In order to save a JSON file, you follow a very similar process as you would use to open a file:"
   ]
  },
  {
   "cell_type": "raw",
   "metadata": {},
   "source": [
    "with open('students_new.json', 'w') as f:\n",
    "    json.dump(<your Python dict or list>, f)"
   ]
  },
  {
   "cell_type": "markdown",
   "metadata": {},
   "source": [
    "2.4) In the cell below, take the code above and turn it into a function so that you can easily save your data to a file in the future."
   ]
  },
  {
   "cell_type": "code",
   "execution_count": 24,
   "metadata": {
    "collapsed": true
   },
   "outputs": [],
   "source": [
    "def write_json(list_of_dicts, filename):\n",
    "    with open(filename, 'w') as f:\n",
    "        json.dump(list_of_dicts, f)"
   ]
  }
 ],
 "metadata": {
  "anaconda-cloud": {},
  "kernelspec": {
   "display_name": "Python [conda env:py35]",
   "language": "python",
   "name": "conda-env-py35-py"
  },
  "language_info": {
   "codemirror_mode": {
    "name": "ipython",
    "version": 3
   },
   "file_extension": ".py",
   "mimetype": "text/x-python",
   "name": "python",
   "nbconvert_exporter": "python",
   "pygments_lexer": "ipython3",
   "version": "3.5.4"
  }
 },
 "nbformat": 4,
 "nbformat_minor": 1
}
