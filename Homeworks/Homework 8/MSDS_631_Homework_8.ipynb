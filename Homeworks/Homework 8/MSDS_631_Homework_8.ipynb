{
 "cells": [
  {
   "cell_type": "markdown",
   "metadata": {},
   "source": [
    "# Homework 8\n",
    "\n",
    "### Intro to Matplotlib\n",
    "In this assignment, you will practice using Matplotlib (integrated with Pandas) to visualize and analyze your data set. Your visuals should provide a meaningful analysis of the data as it pertains to your working hypothesis.\n",
    "\n",
    "(Reminder: a chart is a single plot or set of plots intended to convey a total idea)\n",
    "\n",
    "Your visuals should include at least one of the following:\n",
    "- Bar plot (both horizontal and vertical)\n",
    "- Line plot\n",
    "- Histogram\n",
    "- Scatter plot (if you have only time series data, you may not be able to do this; email me if this is the case and I will waive the requirement)\n",
    "\n",
    "Each chart should be accompanied with a meaningful interpretation of the data (\"x category has the most observations\" is not meaningful unless it is accompanied with a reason why having the most observations is important to your hypothesis). Graphics are meant to provide insights into the data that cannot be easily or effectively explained (i.e. \"a picture is worth a thousand words\"). If you are just plotting for the sake of plotting, you will not receive full credit.\n",
    "\n",
    "Your charts should be structured using at least one of each of the following (which will contain one or some of your plots above):\n",
    "- A chart with a single plot\n",
    "- A chart with side-by-side plots\n",
    "- A multi-plot chart with three or more plots\n",
    "\n",
    "For each chart, you should put: \n",
    "- A meaningful title\n",
    "- Descriptive subtitles\n",
    "- Modify the x- and y-labels appropriately\n",
    "- A legend for your line plot placed in a non-obstructive location\n",
    "\n",
    "I've created sections in this notebook for you to create each of your three major charts."
   ]
  },
  {
   "cell_type": "markdown",
   "metadata": {},
   "source": [
    "## Data Topic\n",
    "\n",
    "In the space below, describe the topic you are analyzing"
   ]
  },
  {
   "cell_type": "markdown",
   "metadata": {},
   "source": [
    "Student GPAs with majors and class year included"
   ]
  },
  {
   "cell_type": "markdown",
   "metadata": {},
   "source": [
    "In the space below, describe your working hypothesis. A hypothesis is an idea that you are trying to prove through analysis"
   ]
  },
  {
   "cell_type": "markdown",
   "metadata": {},
   "source": [
    "Finance majors have the highest GPAs<br/>\n",
    "Female finance majors get more 4.0s than male finance majors<br/>\n",
    "Female finance majors show more improvement in their 4 years of school than females in all other majors"
   ]
  },
  {
   "cell_type": "markdown",
   "metadata": {},
   "source": [
    "## Data Load\n",
    "\n",
    "Use this section to load your data from Homework 7 so that you can either re-create your analyses or create new analysis so that you can generate the plots for this homework."
   ]
  },
  {
   "cell_type": "code",
   "execution_count": 18,
   "metadata": {},
   "outputs": [],
   "source": [
    "import matplotlib\n",
    "from matplotlib import pyplot as plt\n",
    "%matplotlib inline\n",
    "import pandas as pd\n",
    "import numpy as np\n",
    "import json\n",
    "import csv\n",
    "from datetime import datetime\n",
    "from matplotlib import colors\n",
    "from matplotlib.ticker import PercentFormatter"
   ]
  },
  {
   "cell_type": "code",
   "execution_count": 227,
   "metadata": {},
   "outputs": [],
   "source": [
    "student_info = pd.read_csv('students.csv')"
   ]
  },
  {
   "cell_type": "code",
   "execution_count": 228,
   "metadata": {},
   "outputs": [
    {
     "data": {
      "text/html": [
       "<div>\n",
       "<style scoped>\n",
       "    .dataframe tbody tr th:only-of-type {\n",
       "        vertical-align: middle;\n",
       "    }\n",
       "\n",
       "    .dataframe tbody tr th {\n",
       "        vertical-align: top;\n",
       "    }\n",
       "\n",
       "    .dataframe thead th {\n",
       "        text-align: right;\n",
       "    }\n",
       "</style>\n",
       "<table border=\"1\" class=\"dataframe\">\n",
       "  <thead>\n",
       "    <tr style=\"text-align: right;\">\n",
       "      <th></th>\n",
       "      <th>student_id</th>\n",
       "      <th>first</th>\n",
       "      <th>last</th>\n",
       "      <th>gender</th>\n",
       "      <th>class</th>\n",
       "      <th>major</th>\n",
       "      <th>gpa</th>\n",
       "    </tr>\n",
       "  </thead>\n",
       "  <tbody>\n",
       "    <tr>\n",
       "      <td>0</td>\n",
       "      <td>5a397209-3782-4764-a285-10fae807ee71</td>\n",
       "      <td>Janis</td>\n",
       "      <td>Brown</td>\n",
       "      <td>Female</td>\n",
       "      <td>Junior</td>\n",
       "      <td>Economics</td>\n",
       "      <td>3.12</td>\n",
       "    </tr>\n",
       "    <tr>\n",
       "      <td>1</td>\n",
       "      <td>e26c3d69-3c74-49b6-81d7-47232787fad9</td>\n",
       "      <td>Timothy</td>\n",
       "      <td>Bishop</td>\n",
       "      <td>Male</td>\n",
       "      <td>Sophomore</td>\n",
       "      <td>Economics</td>\n",
       "      <td>3.48</td>\n",
       "    </tr>\n",
       "    <tr>\n",
       "      <td>2</td>\n",
       "      <td>975c1581-5ba2-430c-a3d1-01ce03bd83f9</td>\n",
       "      <td>Elizabeth</td>\n",
       "      <td>Owens</td>\n",
       "      <td>Female</td>\n",
       "      <td>Freshman</td>\n",
       "      <td>Finance</td>\n",
       "      <td>3.40</td>\n",
       "    </tr>\n",
       "    <tr>\n",
       "      <td>3</td>\n",
       "      <td>6081f91d-365c-46ce-ad1b-38af120781d9</td>\n",
       "      <td>Edward</td>\n",
       "      <td>Pearson</td>\n",
       "      <td>Male</td>\n",
       "      <td>Freshman</td>\n",
       "      <td>Math</td>\n",
       "      <td>3.84</td>\n",
       "    </tr>\n",
       "    <tr>\n",
       "      <td>4</td>\n",
       "      <td>84cec8f4-0b64-44ce-a628-c0eb73f6ca6f</td>\n",
       "      <td>Lisa</td>\n",
       "      <td>Gonzalez</td>\n",
       "      <td>Female</td>\n",
       "      <td>Junior</td>\n",
       "      <td>Finance</td>\n",
       "      <td>4.00</td>\n",
       "    </tr>\n",
       "  </tbody>\n",
       "</table>\n",
       "</div>"
      ],
      "text/plain": [
       "                             student_id      first      last  gender  \\\n",
       "0  5a397209-3782-4764-a285-10fae807ee71      Janis     Brown  Female   \n",
       "1  e26c3d69-3c74-49b6-81d7-47232787fad9    Timothy    Bishop    Male   \n",
       "2  975c1581-5ba2-430c-a3d1-01ce03bd83f9  Elizabeth     Owens  Female   \n",
       "3  6081f91d-365c-46ce-ad1b-38af120781d9     Edward   Pearson    Male   \n",
       "4  84cec8f4-0b64-44ce-a628-c0eb73f6ca6f       Lisa  Gonzalez  Female   \n",
       "\n",
       "       class      major   gpa  \n",
       "0     Junior  Economics  3.12  \n",
       "1  Sophomore  Economics  3.48  \n",
       "2   Freshman    Finance  3.40  \n",
       "3   Freshman       Math  3.84  \n",
       "4     Junior    Finance  4.00  "
      ]
     },
     "execution_count": 228,
     "metadata": {},
     "output_type": "execute_result"
    }
   ],
   "source": [
    "student_info.head()"
   ]
  },
  {
   "cell_type": "code",
   "execution_count": 229,
   "metadata": {},
   "outputs": [
    {
     "data": {
      "text/html": [
       "<div>\n",
       "<style scoped>\n",
       "    .dataframe tbody tr th:only-of-type {\n",
       "        vertical-align: middle;\n",
       "    }\n",
       "\n",
       "    .dataframe tbody tr th {\n",
       "        vertical-align: top;\n",
       "    }\n",
       "\n",
       "    .dataframe thead th {\n",
       "        text-align: right;\n",
       "    }\n",
       "</style>\n",
       "<table border=\"1\" class=\"dataframe\">\n",
       "  <thead>\n",
       "    <tr style=\"text-align: right;\">\n",
       "      <th></th>\n",
       "      <th>gpa</th>\n",
       "    </tr>\n",
       "  </thead>\n",
       "  <tbody>\n",
       "    <tr>\n",
       "      <td>count</td>\n",
       "      <td>10000.000000</td>\n",
       "    </tr>\n",
       "    <tr>\n",
       "      <td>mean</td>\n",
       "      <td>3.376526</td>\n",
       "    </tr>\n",
       "    <tr>\n",
       "      <td>std</td>\n",
       "      <td>0.370042</td>\n",
       "    </tr>\n",
       "    <tr>\n",
       "      <td>min</td>\n",
       "      <td>1.720000</td>\n",
       "    </tr>\n",
       "    <tr>\n",
       "      <td>25%</td>\n",
       "      <td>3.120000</td>\n",
       "    </tr>\n",
       "    <tr>\n",
       "      <td>50%</td>\n",
       "      <td>3.380000</td>\n",
       "    </tr>\n",
       "    <tr>\n",
       "      <td>75%</td>\n",
       "      <td>3.650000</td>\n",
       "    </tr>\n",
       "    <tr>\n",
       "      <td>max</td>\n",
       "      <td>4.000000</td>\n",
       "    </tr>\n",
       "  </tbody>\n",
       "</table>\n",
       "</div>"
      ],
      "text/plain": [
       "                gpa\n",
       "count  10000.000000\n",
       "mean       3.376526\n",
       "std        0.370042\n",
       "min        1.720000\n",
       "25%        3.120000\n",
       "50%        3.380000\n",
       "75%        3.650000\n",
       "max        4.000000"
      ]
     },
     "execution_count": 229,
     "metadata": {},
     "output_type": "execute_result"
    }
   ],
   "source": [
    "student_info.describe()"
   ]
  },
  {
   "cell_type": "markdown",
   "metadata": {},
   "source": [
    "## Chart 1 - Single Chart\n",
    "\n",
    "In this section, please analyze your data to generate a single chart that represents a critical high level observation/insight about your data."
   ]
  },
  {
   "cell_type": "code",
   "execution_count": 248,
   "metadata": {
    "scrolled": true
   },
   "outputs": [
    {
     "data": {
      "image/png": "[encoded data removed]",
      "text/plain": [
       "<Figure size 432x288 with 1 Axes>"
      ]
     },
     "metadata": {
      "needs_background": "light"
     },
     "output_type": "display_data"
    }
   ],
   "source": [
    "student_info_agg = student_info.groupby([\"major\"])[[\"gpa\"]].mean().sort_values('gpa')\n",
    "\n",
    "ax = student_info_agg.plot.bar(rot=0)\n",
    "ax.set_title('Average GPA by Major\\nThe average GPA of ecah major sorted in ascending order')\n",
    "ax.set_ylabel('GPA')\n",
    "ax.set_xlabel('Major')\n",
    "\n",
    "plt.show()"
   ]
  },
  {
   "cell_type": "markdown",
   "metadata": {},
   "source": [
    "#### Chart 1 Key Insight or Takeaway\n",
    "Please describe what you analyzed and how it supports or refutes your working hypothesis. You do not necessarily have to have proven your hypothesis - just that you understand how your chart supports or disputes your hypothesis."
   ]
  },
  {
   "cell_type": "markdown",
   "metadata": {
    "collapsed": true
   },
   "source": [
    "This shows us that Finance does have the highest average GPA"
   ]
  },
  {
   "cell_type": "markdown",
   "metadata": {
    "collapsed": true
   },
   "source": [
    "## Chart 2 - Side-by-Side Chart\n",
    "\n",
    "In this section, , positioned side-by-side, and put them into a single chart .\n",
    "\n",
    "In this section, please analyze your data to generate two plots, positioned side-by-side, in a single chart that can be looked at *together* to generate a comparison."
   ]
  },
  {
   "cell_type": "code",
   "execution_count": 319,
   "metadata": {},
   "outputs": [
    {
     "data": {
      "image/png": "[encoded data removed]",
      "text/plain": [
       "<Figure size 1080x432 with 2 Axes>"
      ]
     },
     "metadata": {
      "needs_background": "light"
     },
     "output_type": "display_data"
    }
   ],
   "source": [
    "plt.figure(figsize=(15,6))\n",
    "\n",
    "bins = [0,.25,.5,.75,1,1.25,1.5,1.75,2,2.25,2.5,2.75,3,3.25,3.5,3.75,4]\n",
    "plt.subplot(1, 2, 1)\n",
    "plt.hist(female_finance_df[\"gpa\"], density=False, bins=bins, weights=np.ones(len(female_finance_df[\"gpa\"])) / len(female_finance_df[\"gpa\"]), facecolor='green', alpha=0.5, label=\"Female Finance Majors\")\n",
    "plt.hist(male_finance_df[\"gpa\"], density=False, bins=bins, weights=np.ones(len(male_finance_df[\"gpa\"])) / len(male_finance_df[\"gpa\"]), facecolor='orange', alpha=0.5, label=\"Male Finance Majors\")\n",
    "plt.legend(loc='upper left')\n",
    "plt.ylabel('Percent')\n",
    "plt.xlabel('GPA')\n",
    "plt.title(\"Finance Major GPAs\\nDistribution by Gender\")\n",
    "\n",
    "\n",
    "\n",
    "student_info_agg2 = student_info.groupby([\"class\"])[[\"gpa\"]].mean().sort_values('gpa')\n",
    "\n",
    "#Having to do this was super annoying but I couldn't find any way to reference the original class and got sick of wasting time \n",
    "class_list = student_info_agg2.index.tolist()\n",
    "student_info_agg2[\"class_reference\"] = class_list\n",
    "class_rank_dict = {'Freshman' : 1, 'Sophomore' : 2, 'Junior' : 3, 'Senior' : 4}\n",
    "student_info_agg2[\"class_rank\"] = student_info_agg2[\"class_reference\"].map(class_rank_dict)\n",
    "student_info_agg2.sort_values(by=[\"class_rank\"], inplace=True)\n",
    "student_info_agg2\n",
    "\n",
    "plt.subplot(1, 2, 2)\n",
    "plt.scatter(student_info_agg2[\"class_reference\"], student_info_agg2[\"gpa\"])\n",
    "plt.ylabel(\"Average GPA\")\n",
    "plt.xlabel(\"Class\")\n",
    "plt.title(\"GPA\\nBy Class\")\n",
    "\n",
    "#plt.subplots_adjust(left=None, bottom=None, right=None, top=None, wspace=.2, hspace=None)\n",
    "plt.show()"
   ]
  },
  {
   "cell_type": "markdown",
   "metadata": {},
   "source": [
    "#### Chart 2 Key Insight or Takeaway\n",
    "Please describe what you analyzed and how it supports or refutes your working hypothesis. You do not necessarily have to have proven your hypothesis - just that you understand how your chart supports or disputes your hypothesis."
   ]
  },
  {
   "cell_type": "markdown",
   "metadata": {},
   "source": [
    "Compared to males, a higher proportion of females get 4.0s in Finance.<br/>\n",
    "Overall it doesn't appear that grades get higher as students progress through their years of study, but perhaps if we start splitting that by gender and major that will change."
   ]
  },
  {
   "cell_type": "markdown",
   "metadata": {},
   "source": [
    "## Chart 3 - Multi-Plot Chart\n",
    "\n",
    "In this section, please generate three or more plots, positioned , and put them into a single chart that can be looked at *together* to generate a summary visual that conveys a complex insight or comparison."
   ]
  },
  {
   "cell_type": "code",
   "execution_count": 478,
   "metadata": {},
   "outputs": [
    {
     "data": {
      "image/png": "[encoded data removed]",
      "text/plain": [
       "<Figure size 432x288 with 6 Axes>"
      ]
     },
     "metadata": {
      "needs_background": "light"
     },
     "output_type": "display_data"
    },
    {
     "data": {
      "text/plain": [
       "<Figure size 216x144 with 0 Axes>"
      ]
     },
     "metadata": {},
     "output_type": "display_data"
    }
   ],
   "source": [
    "student_info_agg3 = student_info.groupby([\"gender\",\"major\",\"class\"])[[\"gpa\"]].mean()\n",
    "#student_info_agg3\n",
    "\n",
    "#Having to do this was super annoying but I couldn't find any way to reference the original class and got sick of wasting time but the fact that it's not automatically referenceable sucks, when you groupby in Spark you can reference the groupBy variable regularly no bullshit \n",
    "class_list3 = student_info_agg3.index.tolist()\n",
    "class_list_final = []\n",
    "gender_list_final = []\n",
    "major_list_final = []\n",
    "for i in range(len(class_list3)):\n",
    "    class_list_final.append(class_list3[i][2])\n",
    "    gender_list_final.append(class_list3[i][0])\n",
    "    major_list_final.append(class_list3[i][1])\n",
    "student_info_agg3[\"class_reference\"] = class_list_final\n",
    "student_info_agg3[\"gender_reference\"] = gender_list_final\n",
    "student_info_agg3[\"major_reference\"] = major_list_final\n",
    "student_info_agg3\n",
    "\n",
    "class_rank_dict = {'Freshman' : 1, 'Sophomore' : 2, 'Junior' : 3, 'Senior' : 4}\n",
    "student_info_agg3[\"class_rank\"] = student_info_agg3[\"class_reference\"].map(class_rank_dict)\n",
    "student_info_agg3.sort_values(by=[\"gender\",\"class_rank\"], inplace=True)\n",
    "females = student_info_agg3[student_info_agg3[\"gender_reference\"]==\"Female\"]\n",
    "males = student_info_agg3[student_info_agg3[\"gender_reference\"]==\"Male\"]\n",
    "\n",
    "female_filt = student_info_agg3[\"gender_reference\"] == \"Female\"\n",
    "fin_filt = student_info_agg3[\"major_reference\"] == \"Finance\"\n",
    "chem_filt = student_info_agg3[\"major_reference\"] == \"Chemistry\"\n",
    "econ_filt = student_info_agg3[\"major_reference\"] == \"Economics\"\n",
    "eng_filt = student_info_agg3[\"major_reference\"] == \"Engineering\"\n",
    "mth_filt = student_info_agg3[\"major_reference\"] == \"Math\"\n",
    "phys_filt = student_info_agg3[\"major_reference\"] == \"Physics\"\n",
    "\n",
    "student_info_agg3_female_finance = student_info_agg3[female_filt & fin_filt]\n",
    "student_info_agg3_female_chem = student_info_agg3[female_filt & chem_filt]\n",
    "student_info_agg3_female_econ = student_info_agg3[female_filt & econ_filt]\n",
    "student_info_agg3_female_eng = student_info_agg3[female_filt & eng_filt]\n",
    "student_info_agg3_female_math = student_info_agg3[female_filt & mth_filt]\n",
    "student_info_agg3_female_phys = student_info_agg3[female_filt & phys_filt]\n",
    "\n",
    "plt.subplot(2,3,1)\n",
    "plt.plot(student_info_agg3_female_finance[\"class_reference\"],student_info_agg3_female_finance[\"gpa\"])\n",
    "plt.ylabel(\"Average GPA\")\n",
    "plt.xlabel(\"Class\")\n",
    "plt.title(\"GPA Trend\\nFemale Finance Majors\")\n",
    "\n",
    "plt.subplot(2,3,2)\n",
    "plt.plot(student_info_agg3_female_chem[\"class_reference\"],student_info_agg3_female_chem[\"gpa\"])\n",
    "plt.ylabel(\"Average GPA\")\n",
    "plt.xlabel(\"Class\")\n",
    "plt.title(\"GPA Trend\\nFemale Chemistry Majors\")\n",
    "\n",
    "plt.subplot(2,3,3)\n",
    "plt.plot(student_info_agg3_female_econ[\"class_reference\"],student_info_agg3_female_econ[\"gpa\"])\n",
    "plt.ylabel(\"Average GPA\")\n",
    "plt.xlabel(\"Class\")\n",
    "plt.title(\"GPA Trend\\nFemale Economics Majors\")\n",
    "\n",
    "plt.subplot(2,3,4)\n",
    "plt.plot(student_info_agg3_female_eng[\"class_reference\"],student_info_agg3_female_eng[\"gpa\"])\n",
    "plt.ylabel(\"Average GPA\")\n",
    "plt.xlabel(\"Class\")\n",
    "plt.title(\"GPA Trend\\nFemale Engineering Majors\")\n",
    "\n",
    "plt.subplot(2,3,5)\n",
    "plt.plot(student_info_agg3_female_math[\"class_reference\"],student_info_agg3_female_math[\"gpa\"])\n",
    "plt.ylabel(\"Average GPA\")\n",
    "plt.xlabel(\"Class\")\n",
    "plt.title(\"GPA Trend\\nFemale Math Majors\")\n",
    "\n",
    "plt.subplot(2,3,6)\n",
    "plt.plot(student_info_agg3_female_phys[\"class_reference\"],student_info_agg3_female_phys[\"gpa\"])\n",
    "plt.ylabel(\"Average GPA\")\n",
    "plt.xlabel(\"Class\")\n",
    "plt.title(\"GPA Trend\\nFemale Physics Majors\")\n",
    "\n",
    "#fig = plt.figure(figsize=(2,4))\n",
    "#plt.subplots_adjust(left=None, bottom=None, right=None, top=None)#, wspace=2, hspace=2)\n",
    "fig = plt.figure(figsize=(3,2))\n",
    "plt.tight_layout(pad=0.4, w_pad=6, h_pad=3)\n",
    "\n",
    "plt.show()"
   ]
  },
  {
   "cell_type": "markdown",
   "metadata": {},
   "source": [
    "#### Chart 3 Key Insight or Takeaway\n",
    "Please describe what you analyzed and how it supports or refutes your working hypothesis. You do not necessarily have to have proven your hypothesis - just that you understand how your chart supports or disputes your hypothesis."
   ]
  },
  {
   "cell_type": "markdown",
   "metadata": {},
   "source": [
    "Female finance majors do not show the most improvement of all female majors - Chemistry does"
   ]
  }
 ],
 "metadata": {
  "anaconda-cloud": {},
  "kernelspec": {
   "display_name": "Python 3",
   "language": "python",
   "name": "python3"
  },
  "language_info": {
   "codemirror_mode": {
    "name": "ipython",
    "version": 3
   },
   "file_extension": ".py",
   "mimetype": "text/x-python",
   "name": "python",
   "nbconvert_exporter": "python",
   "pygments_lexer": "ipython3",
   "version": "3.7.4"
  }
 },
 "nbformat": 4,
 "nbformat_minor": 1
}
