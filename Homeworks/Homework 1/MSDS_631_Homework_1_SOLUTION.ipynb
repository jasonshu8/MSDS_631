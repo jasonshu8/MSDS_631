{
 "cells": [
  {
   "cell_type": "markdown",
   "metadata": {},
   "source": [
    "# Homework 1\n"
   ]
  },
  {
   "cell_type": "markdown",
   "metadata": {},
   "source": [
    "### Part 1 - \"Doing Data Science\"\n",
    "Please read Chapter 1 of \"Doing Data Science\" by Cathy O'Neil and Rachel Schutt entitled \"What is Data Science?\" here: https://www.safaribooksonline.com/library/view/doing-data-science/9781449363871/ch01.html<br><br>\n",
    "Be prepared to have a discussion about the subject matter."
   ]
  },
  {
   "cell_type": "markdown",
   "metadata": {},
   "source": [
    "### Part 2 - Markdown\n",
    "Please learn a bit about Markdown Language and use the space below to tell me a little bit about yourself. What got you interested in taking this course and how do you hope to use your learnings in the immediate future? What previous experience do you have in the topics that we are going to cover this semester? Also feel free to tell me anything else interesting about yourself that you’d like to share.<br>\n",
    "Please include (at least) the following Markdown elements to ensure you get enough practice:\n",
    "* One header\n",
    "* At least two paragraphs\n",
    "* One bulleted list\n",
    "* One numbered list\n",
    "* One bolded word\n",
    "* One italicized word  \n",
    "\n",
    "Please keep your work to a single cell (i.e. don't use two cells to achieve your two paragraphs)"
   ]
  },
  {
   "cell_type": "markdown",
   "metadata": {
    "collapsed": true
   },
   "source": [
    "-------\n",
    "### Self Introduction\n",
    "My name is Jason Shu. I am currently Senior Vice President of Data Science at an AdTech startup called *Aki Technologies*. At Aki, I am responsible for the creation of all of our Machine Learning algoirthms, as well as the development of our analytics platform. Other companies I've worked at include:\n",
    "- The Boeing Company\n",
    "- Womply\n",
    "\n",
    "My degrees include:\n",
    "1. B.S. in Mechanical Engineering (University of Illinois)\n",
    "2. M.S. in Systems Engineering (Southern California University)\n",
    "3. Masters in Business Administration (Georgetown University)\n",
    "4. M.S. in Data Science (University of San Francisco)\n",
    "\n",
    "I'm excited to be teaching this class. It's going to be tough, but I know you are all going to learn <strong>a lot</strong>.\n",
    "\n",
    "-------"
   ]
  },
  {
   "cell_type": "markdown",
   "metadata": {},
   "source": [
    "### Part 3 - Data Structures and Types"
   ]
  },
  {
   "cell_type": "markdown",
   "metadata": {},
   "source": [
    "1) In your own words, when is a good time to use a dictionary instead of a list? What is the downside of using dictionaries?"
   ]
  },
  {
   "cell_type": "raw",
   "metadata": {},
   "source": [
    "Dictionaries are great for storing data that need to be accessed by some specific name. This makes it easier to find stored data that you need. However, the keys of dictionaries are not ordered, so if you want to list things, you will often need to hard-code some things in order to get what you want."
   ]
  },
  {
   "cell_type": "markdown",
   "metadata": {},
   "source": [
    "2) What are three applications of using sets?"
   ]
  },
  {
   "cell_type": "raw",
   "metadata": {},
   "source": [
    "Sets are great for quickly finding the unique values in a list. They are also great for quickly finding the unique values that are different between two lists. Another good use is to quickly generate the unique values that are the union of two lists."
   ]
  },
  {
   "cell_type": "markdown",
   "metadata": {},
   "source": [
    "### Part 4 - Variables, order of operations, and code organization\n",
    "In this assignment, you will practice using Python to solve basic problems. Please follow the instructions for each problem closely."
   ]
  },
  {
   "cell_type": "markdown",
   "metadata": {},
   "source": [
    "1) In the cell below, I've initialized several variables that I wish to use to solve a problem. In the subsequent cell, you will be asked to add parentheses in order to achieve the desired outcome."
   ]
  },
  {
   "cell_type": "code",
   "execution_count": 2,
   "metadata": {
    "collapsed": true
   },
   "outputs": [],
   "source": [
    "num_apples = 10\n",
    "num_oranges = 20\n",
    "banana_factor = 2\n",
    "cost_per_rd_fruit = 0.5\n",
    "cost_per_banana = 0.29\n",
    "tax_rate = 8.25"
   ]
  },
  {
   "cell_type": "markdown",
   "metadata": {},
   "source": [
    "Susie is going to the grocery store but does not know how much cash to bring. She wants to bring the exact amount so that she does not have to deal with any change jiggling around in her pocket. On top of this, she's splitting the bill with her friend Tom. They want to buy 30 round fruits (10 apples and 20 oranges), both of which cost \\$0.50 each. Bananas are $0.29 each and they figure they need twice as many bananas as round fruits. Tax on produce where they live is 8.25%.<br><br>\n",
    "All of the elements for solving this are in the cell below - You just need to add the parentheses. Please add the minimum number of parentheses possible to figure out how much Susie needs to bring."
   ]
  },
  {
   "cell_type": "code",
   "execution_count": 3,
   "metadata": {},
   "outputs": [
    {
     "data": {
      "text/plain": [
       "17.5365"
      ]
     },
     "execution_count": 3,
     "metadata": {},
     "output_type": "execute_result"
    }
   ],
   "source": [
    "((num_apples + num_oranges) * cost_per_rd_fruit + banana_factor * (num_apples + num_oranges) * cost_per_banana) * (1 + tax_rate / 100) / 2"
   ]
  },
  {
   "cell_type": "markdown",
   "metadata": {},
   "source": [
    "2) Obviously the equation above is very confusing. In the cell below, take the equation above and introduce some new variables. Use these variables to break apart the equation into more logical steps that will improve the readability of the solution. At the end of your solution, please print your result as a sentence where the code automatically fills in the amount Susie needs to bring."
   ]
  },
  {
   "cell_type": "code",
   "execution_count": 4,
   "metadata": {},
   "outputs": [
    {
     "data": {
      "text/plain": [
       "17.5365"
      ]
     },
     "execution_count": 4,
     "metadata": {},
     "output_type": "execute_result"
    }
   ],
   "source": [
    "total_round_fruit = num_apples + num_oranges\n",
    "round_fruit_cost = total_round_fruit * cost_per_rd_fruit\n",
    "total_bananas = banana_factor * total_round_fruit\n",
    "banana_cost = total_bananas * cost_per_banana\n",
    "tax_factor = 1 + (tax_rate / 100)\n",
    "total_fruit_cost = round_fruit_cost + banana_cost\n",
    "after_tax_cost = total_fruit_cost * tax_factor\n",
    "susie_portion = after_tax_cost / 2\n",
    "susie_portion"
   ]
  },
  {
   "cell_type": "markdown",
   "metadata": {},
   "source": [
    "### Part 5 - More operators\n",
    "Highland High School is preparing to go on a field trip to the Museum of Data Science. The school needs to plan how many buses it needs to transport all of its students. Please answer the following questions given the data in the cell below."
   ]
  },
  {
   "cell_type": "code",
   "execution_count": 5,
   "metadata": {
    "collapsed": true
   },
   "outputs": [],
   "source": [
    "number_of_students = 1000\n",
    "capacity_of_each_bus = 72"
   ]
  },
  {
   "cell_type": "markdown",
   "metadata": {},
   "source": [
    "1) What is the minimum number of buses that the school will need to transport all of the students?"
   ]
  },
  {
   "cell_type": "code",
   "execution_count": 6,
   "metadata": {},
   "outputs": [
    {
     "data": {
      "text/plain": [
       "14"
      ]
     },
     "execution_count": 6,
     "metadata": {},
     "output_type": "execute_result"
    }
   ],
   "source": [
    "total_buses = number_of_students // capacity_of_each_bus + 1\n",
    "total_buses"
   ]
  },
  {
   "cell_type": "markdown",
   "metadata": {},
   "source": [
    "2) If the school tries to fill each school bus before starting to load children onto the next bus, what percent of the total capacity of the last bus will be used?"
   ]
  },
  {
   "cell_type": "code",
   "execution_count": 7,
   "metadata": {},
   "outputs": [
    {
     "data": {
      "text/plain": [
       "0.8888888888888888"
      ]
     },
     "execution_count": 7,
     "metadata": {},
     "output_type": "execute_result"
    }
   ],
   "source": [
    "remaining_students_on_last_bus = number_of_students % capacity_of_each_bus\n",
    "last_bus_utilization = remaining_students_on_last_bus / capacity_of_each_bus\n",
    "last_bus_utilization"
   ]
  },
  {
   "cell_type": "markdown",
   "metadata": {},
   "source": [
    "3) If the school wanted to keep the number of children on each bus as close to one another as possible, what is the maximum number of students that would be on a single bus?"
   ]
  },
  {
   "cell_type": "code",
   "execution_count": 8,
   "metadata": {},
   "outputs": [
    {
     "data": {
      "text/plain": [
       "72"
      ]
     },
     "execution_count": 8,
     "metadata": {},
     "output_type": "execute_result"
    }
   ],
   "source": [
    "min_students_per_bus = number_of_students // total_buses\n",
    "max_students_per_bus = min_students_per_bus + 1\n",
    "max_students_per_bus"
   ]
  },
  {
   "cell_type": "markdown",
   "metadata": {},
   "source": [
    "From the previous question, if they try to keep the number of children as close as possible, how many buses will be carrying the maximum number of students?"
   ]
  },
  {
   "cell_type": "code",
   "execution_count": 9,
   "metadata": {},
   "outputs": [
    {
     "data": {
      "text/plain": [
       "6"
      ]
     },
     "execution_count": 9,
     "metadata": {},
     "output_type": "execute_result"
    }
   ],
   "source": [
    "number_of_students - (min_students_per_bus * total_buses)"
   ]
  },
  {
   "cell_type": "code",
   "execution_count": 10,
   "metadata": {},
   "outputs": [
    {
     "data": {
      "text/plain": [
       "6"
      ]
     },
     "execution_count": 10,
     "metadata": {},
     "output_type": "execute_result"
    }
   ],
   "source": [
    "number_of_students % total_buses #A quicker more clever way"
   ]
  }
 ],
 "metadata": {
  "anaconda-cloud": {},
  "kernelspec": {
   "display_name": "Python 3",
   "language": "python",
   "name": "python3"
  },
  "language_info": {
   "codemirror_mode": {
    "name": "ipython",
    "version": 3
   },
   "file_extension": ".py",
   "mimetype": "text/x-python",
   "name": "python",
   "nbconvert_exporter": "python",
   "pygments_lexer": "ipython3",
   "version": "3.7.4"
  }
 },
 "nbformat": 4,
 "nbformat_minor": 1
}
