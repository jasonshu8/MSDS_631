{
 "cells": [
  {
   "cell_type": "markdown",
   "metadata": {},
   "source": [
    "# Homework 1\n"
   ]
  },
  {
   "cell_type": "markdown",
   "metadata": {},
   "source": [
    "### Part 1 - \"Doing Data Science\"\n",
    "Please read Chapter 1 of \"Doing Data Science\" by Cathy O'Neil and Rachel Schutt entitled \"What is Data Science?\" here: https://www.safaribooksonline.com/library/view/doing-data-science/9781449363871/ch01.html<br><br>\n",
    "Be prepared to have a discussion about the subject matter."
   ]
  },
  {
   "cell_type": "markdown",
   "metadata": {},
   "source": [
    "### Part 2 - Markdown\n",
    "Please learn a bit about Markdown Language and use the space below to tell me a little bit about yourself. What got you interested in taking this course and how do you hope to use your learnings in the immediate future? What previous experience do you have in the topics that we are going to cover this semester? Also feel free to tell me anything else interesting about yourself that you’d like to share.<br>\n",
    "Please include (at least) the following Markdown elements to ensure you get enough practice:\n",
    "* One header\n",
    "* At least two paragraphs\n",
    "* One bulleted list\n",
    "* One numbered list\n",
    "* One bolded word\n",
    "* One italicized word  \n",
    "\n",
    "Please keep your work to a single cell (i.e. don't use two cells to achieve your two paragraphs)"
   ]
  },
  {
   "cell_type": "markdown",
   "metadata": {
    "collapsed": true
   },
   "source": [
    "## What I want to learn at Aki\n",
    "\n",
    "Aki presents an opportunity to not only hone in on my technical skills, but also further develop my career on the client facing side. The development of each skill set directly impacts the other and should be treated equally. I hope to develop in the following progams and skills over the next **several months**.\n",
    "\n",
    "* Python\n",
    "* Github\n",
    "* Upselling\n",
    "* Jupyter\n",
    "\n",
    "I hope my future at Aki can develop into a _technical consulting role_. With these skills will allow me to someday do consulting independently in the analytics space. Potential industries I'd like to work in include:\n",
    "\n",
    "1. Medical Devices\n",
    "2. Ad Tech\n",
    "3. Small Business Development\n",
    "\n"
   ]
  },
  {
   "cell_type": "markdown",
   "metadata": {},
   "source": [
    "### Part 3 - Data Structures and Types"
   ]
  },
  {
   "cell_type": "markdown",
   "metadata": {},
   "source": [
    "1) In your own words, when is a good time to use a dictionary instead of a list? What is the downside of using dictionaries?"
   ]
  },
  {
   "cell_type": "raw",
   "metadata": {},
   "source": [
    "Dictionaries are used as a way to call keys instead of calling by the order (done with a list). This would be useful for large data sets with many layers. They also allow for categorization and easy calls. \n",
    "\n",
    "The downside of a dictionary is that the items are not ordered. This makes calling a particular ordered item within the list more cumbersome."
   ]
  },
  {
   "cell_type": "markdown",
   "metadata": {},
   "source": [
    "2) What are three applications of using sets?"
   ]
  },
  {
   "cell_type": "raw",
   "metadata": {},
   "source": [
    "1. Sets only provide one unique value regardless of how many times the item occurs in the initial creation of the set. \n",
    "1. Math functions would be easier to execute\n",
    "2. Unions would be optimized\n",
    "3. Adding new values at a future date would not affect if something had been submitted\n",
    "4. Can be used to create keys in a dictionary."
   ]
  },
  {
   "cell_type": "markdown",
   "metadata": {},
   "source": [
    "### Part 4 - Variables, order of operations, and code organization\n",
    "In this assignment, you will practice using Python to solve basic problems. Please follow the instructions for each problem closely."
   ]
  },
  {
   "cell_type": "markdown",
   "metadata": {},
   "source": [
    "1) In the cell below, I've initialized several variables that I wish to use to solve a problem. In the subsequent cell, you will be asked to add parentheses in order to achieve the desired outcome."
   ]
  },
  {
   "cell_type": "code",
   "execution_count": 1,
   "metadata": {},
   "outputs": [],
   "source": [
    "num_apples = 10\n",
    "num_oranges = 20\n",
    "banana_factor = 2\n",
    "cost_per_rd_fruit = 0.5\n",
    "cost_per_banana = 0.29\n",
    "tax_rate = 8.25"
   ]
  },
  {
   "cell_type": "markdown",
   "metadata": {},
   "source": [
    "Susie is going to the grocery store but does not know how much cash to bring. She wants to bring the exact amount so that she does not have to deal with any change jiggling around in her pocket. On top of this, she's splitting the bill with her friend Tom. They want to buy 30 round fruits (10 apples and 20 oranges), both of which cost \\$0.50 each. Bananas are $0.29 each and they figure they need twice as many bananas as round fruits. Tax on produce where they live is 8.25%.<br><br>\n",
    "All of the elements for solving this are in the cell below - You just need to add the parentheses. Please add the minimum number of parentheses possible to figure out how much Susie needs to bring."
   ]
  },
  {
   "cell_type": "code",
   "execution_count": 2,
   "metadata": {},
   "outputs": [
    {
     "data": {
      "text/plain": [
       "17.5365"
      ]
     },
     "execution_count": 2,
     "metadata": {},
     "output_type": "execute_result"
    }
   ],
   "source": [
    "((num_apples + num_oranges) * cost_per_rd_fruit + banana_factor * (num_apples + num_oranges) * cost_per_banana) * (1 + tax_rate / 100) / 2"
   ]
  },
  {
   "cell_type": "markdown",
   "metadata": {},
   "source": [
    "2) Obviously the equation above is very confusing. In the cell below, take the equation above and introduce some new variables. Use these variables to break apart the equation into more logical steps that will improve the readability of the solution. At the end of your solution, please print your result as a sentence where the code automatically fills in the amount Susie needs to bring.]"
   ]
  },
  {
   "cell_type": "code",
   "execution_count": 8,
   "metadata": {},
   "outputs": [
    {
     "name": "stdout",
     "output_type": "stream",
     "text": [
      "Susie needs to bring 17.54\n"
     ]
    }
   ],
   "source": [
    "rd_fruit = num_apples + num_oranges\n",
    "rd_fruit_cost = rd_fruit * cost_per_rd_fruit\n",
    "bananas = rd_fruit * banana_factor\n",
    "banana_cost = bananas * cost_per_banana\n",
    "pre_tax_total = rd_fruit_cost + banana_cost\n",
    "post_tax_total = pre_tax_total * (1 + tax_rate/100)\n",
    "split_cost_final = round(post_tax_total / 2, 2)\n",
    "\n",
    "print('Susie needs to bring', split_cost_final)"
   ]
  },
  {
   "cell_type": "markdown",
   "metadata": {},
   "source": [
    "### Part 5 - More operators\n",
    "Highland High School is preparing to go on a field trip to the Museum of Data Science. The school needs to plan how many buses it needs to transport all of its students. Please answer the following questions given the data in the cell below."
   ]
  },
  {
   "cell_type": "code",
   "execution_count": 2,
   "metadata": {},
   "outputs": [],
   "source": [
    "number_of_students = 1000\n",
    "capacity_of_each_bus = 72"
   ]
  },
  {
   "cell_type": "markdown",
   "metadata": {},
   "source": [
    "1) What is the minimum number of buses that the school will need to transport all of the students?"
   ]
  },
  {
   "cell_type": "code",
   "execution_count": 4,
   "metadata": {},
   "outputs": [
    {
     "name": "stdout",
     "output_type": "stream",
     "text": [
      "Minimum number of buses is 14\n"
     ]
    }
   ],
   "source": [
    "min_bus = number_of_students // capacity_of_each_bus + 1\n",
    "\n",
    "print('Minimum number of buses is', min_bus)"
   ]
  },
  {
   "cell_type": "markdown",
   "metadata": {},
   "source": [
    "2) If the school tries to fill each school bus before starting to load children onto the next bus, what percent of the total capacity of the last bus will be used?"
   ]
  },
  {
   "cell_type": "code",
   "execution_count": 40,
   "metadata": {},
   "outputs": [
    {
     "name": "stdout",
     "output_type": "stream",
     "text": [
      "Capacity of last bus 0.89\n"
     ]
    }
   ],
   "source": [
    "percent_final_capacity = round((number_of_students % capacity_of_each_bus) / capacity_of_each_bus,2)\n",
    "\n",
    "print('Capacity of last bus', percent_final_capacity)"
   ]
  },
  {
   "cell_type": "markdown",
   "metadata": {},
   "source": [
    "3) If the school wanted to keep the number of children on each bus as close to one another as possible, what is the maximum number of students that would be on a single bus?"
   ]
  },
  {
   "cell_type": "code",
   "execution_count": 52,
   "metadata": {},
   "outputs": [
    {
     "name": "stdout",
     "output_type": "stream",
     "text": [
      "Max students in a bus is 72\n"
     ]
    }
   ],
   "source": [
    "equal_distro = number_of_students / min_bus\n",
    "whole_student = int(equal_distro)\n",
    "\n",
    "if equal_distro > whole_student:\n",
    "    print('Max students in a bus is', whole_student + 1)\n",
    "else:\n",
    "    print('Max students in a bus is', whole_student)"
   ]
  },
  {
   "cell_type": "markdown",
   "metadata": {},
   "source": [
    "From the previous question, if they try to keep the number of children as close as possible, how many buses will be carrying the maximum number of students?"
   ]
  },
  {
   "cell_type": "code",
   "execution_count": 64,
   "metadata": {},
   "outputs": [
    {
     "name": "stdout",
     "output_type": "stream",
     "text": [
      "6\n"
     ]
    }
   ],
   "source": [
    "maximum_headcount = capacity_of_each_bus * min_bus\n",
    "buses_max_student = prev_calced_min_bus - (maximum_headcount - number_of_students)\n",
    "\n",
    "print(buses_max_student, 'buses will be carrying the max number of students')"
   ]
  }
 ],
 "metadata": {
  "kernelspec": {
   "display_name": "Python 3",
   "language": "python",
   "name": "python3"
  },
  "language_info": {
   "codemirror_mode": {
    "name": "ipython",
    "version": 3
   },
   "file_extension": ".py",
   "mimetype": "text/x-python",
   "name": "python",
   "nbconvert_exporter": "python",
   "pygments_lexer": "ipython3",
   "version": "3.7.4"
  }
 },
 "nbformat": 4,
 "nbformat_minor": 1
}
