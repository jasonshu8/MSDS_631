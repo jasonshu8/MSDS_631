{
 "cells": [
  {
   "cell_type": "markdown",
   "metadata": {},
   "source": [
    "# MSDS 631 - Lecture 2 (January 30, 2019)\n",
    "### Modifying Data Structures, Built-in Functions/Methods"
   ]
  },
  {
   "cell_type": "markdown",
   "metadata": {},
   "source": [
    "### More about Data Types\n",
    "\n",
    "#### Strings\n",
    "There are several characters that have special interpretations in Python (and many other languages). As a result, they cannot be printed as you would normally in quotes. The easiest example of this would be if I wanted to print 'He's pretty happy.' Here, I have a single quote for the conjunction \"He's\". I gave you one alternative to this by telling you to just use double quotes, but if you run into a situation where you cannot do this, you can use the backslash character (\\) in front of the character to \"escape\" it. This means Python will ignore its special properties and just consider it a normal string character."
   ]
  },
  {
   "cell_type": "code",
   "execution_count": 1,
   "metadata": {},
   "outputs": [
    {
     "ename": "SyntaxError",
     "evalue": "invalid syntax (<ipython-input-1-f2e4ae73f749>, line 2)",
     "output_type": "error",
     "traceback": [
      "\u001b[0;36m  File \u001b[0;32m\"<ipython-input-1-f2e4ae73f749>\"\u001b[0;36m, line \u001b[0;32m2\u001b[0m\n\u001b[0;31m    print('He's pretty happy')\u001b[0m\n\u001b[0m              ^\u001b[0m\n\u001b[0;31mSyntaxError\u001b[0m\u001b[0;31m:\u001b[0m invalid syntax\n"
     ]
    }
   ],
   "source": [
    "#Case above\n",
    "print('He's pretty happy')"
   ]
  },
  {
   "cell_type": "code",
   "execution_count": 2,
   "metadata": {},
   "outputs": [
    {
     "name": "stdout",
     "output_type": "stream",
     "text": [
      "He's pretty happy\n"
     ]
    }
   ],
   "source": [
    "#Case above\n",
    "print('He\\'s pretty happy')"
   ]
  },
  {
   "cell_type": "markdown",
   "metadata": {},
   "source": [
    "### Postscript on Data Structures\n",
    "\n",
    "Remember that all data structures can have lengths. Their lengths are measured by the number of accessable values for that container. This means that a list inside of a list does not inherit the length of other objects that they contain. In the example below, you have a list with four (4) values: three integers and one list. The internal list only counts as one value, not three.\n",
    "\n",
    "Remember that the choice to reassign values to intermediate variables is a personal one based on what you think makes easily understood code to you and to other people. You want to improve the ability to detect errors when you find \"bugs\" and you want to reduce the chance of introducing bugs due to excessively complex and difficult to understand code (think about the grocery bill example from Homework #1)."
   ]
  },
  {
   "cell_type": "code",
   "execution_count": 3,
   "metadata": {},
   "outputs": [
    {
     "name": "stdout",
     "output_type": "stream",
     "text": [
      "4\n"
     ]
    }
   ],
   "source": [
    "list1 = [1,2,3,[6,7,8]]\n",
    "print(len(list1))"
   ]
  },
  {
   "cell_type": "code",
   "execution_count": 4,
   "metadata": {},
   "outputs": [
    {
     "name": "stdout",
     "output_type": "stream",
     "text": [
      "7\n"
     ]
    }
   ],
   "source": [
    "#You can access the internal list without having to assign its existance as a separate list.\n",
    "internal_list = list1[3]\n",
    "second_value_of_internal = internal_list[1] #Option 1\n",
    "print(second_value_of_internal)"
   ]
  },
  {
   "cell_type": "code",
   "execution_count": 5,
   "metadata": {},
   "outputs": [
    {
     "name": "stdout",
     "output_type": "stream",
     "text": [
      "7\n"
     ]
    }
   ],
   "source": [
    "second_value_of_internal = list1[3][1] #Option 2\n",
    "print(second_value_of_internal)"
   ]
  },
  {
   "cell_type": "markdown",
   "metadata": {},
   "source": [
    "## Modifying data structures\n",
    "Last week we defined what the different Python data structures are. However, these \"containers\" do not have to be static. You can add and remove items as is required. Each type has a different way of achieving the desired effects. Below we'll dive into different things we can do to the structures to modify them."
   ]
  },
  {
   "cell_type": "markdown",
   "metadata": {},
   "source": [
    "### Modifying Lists\n",
    "##### Adding data"
   ]
  },
  {
   "cell_type": "code",
   "execution_count": 6,
   "metadata": {},
   "outputs": [
    {
     "name": "stdout",
     "output_type": "stream",
     "text": [
      "['apples', 'oranges', 'limes', 'kumquats']\n"
     ]
    }
   ],
   "source": [
    "# When we need to add to a list, we append to it.\n",
    "fruit_list = ['apples', 'oranges', 'limes']\n",
    "fruit_list.append('kumquats') # Appending is an \"in-place\" method, meaning that you don't have to redefine it\n",
    "print(fruit_list)"
   ]
  },
  {
   "cell_type": "code",
   "execution_count": 7,
   "metadata": {},
   "outputs": [
    {
     "name": "stdout",
     "output_type": "stream",
     "text": [
      "None\n"
     ]
    }
   ],
   "source": [
    "# If you try to store the output of the appended list into a new variable, you'll not get what you thought you'd get\n",
    "bigger_list = fruit_list.append('bananas')\n",
    "print(bigger_list)"
   ]
  },
  {
   "cell_type": "code",
   "execution_count": 8,
   "metadata": {},
   "outputs": [
    {
     "name": "stdout",
     "output_type": "stream",
     "text": [
      "['apples', 'oranges', 'limes', 'kumquats', 'bananas']\n"
     ]
    }
   ],
   "source": [
    "# Despite nothing getting getting assigned to the bigger list, grocery_list was still modified\n",
    "print(fruit_list)"
   ]
  },
  {
   "cell_type": "code",
   "execution_count": 13,
   "metadata": {},
   "outputs": [
    {
     "name": "stdout",
     "output_type": "stream",
     "text": [
      "['apples', 'oranges', 'limes', 'kumquats', 'bananas', 'grapes', 'grapes', 'grapes', 'grapes', 'grapes']\n"
     ]
    }
   ],
   "source": [
    "# If you keep running the same code, you'll find yourself with more items than you anticipated\n",
    "fruit_list.append('grapes')\n",
    "# fruit_list.append('strawberries')\n",
    "print(fruit_list)\n",
    "unwantedFruit = fruit_list.pop"
   ]
  },
  {
   "cell_type": "code",
   "execution_count": 14,
   "metadata": {},
   "outputs": [
    {
     "name": "stdout",
     "output_type": "stream",
     "text": [
      "['apples', 'oranges', 'limes', 'kumquats', 'bananas', 'grapes', 'grapes', 'grapes', 'grapes', 'grapes', 'turkey', 'bacon', 'bacon', 'bacon', 'bacon']\n"
     ]
    }
   ],
   "source": [
    "# You can also combine the elements of lists\n",
    "meat_list = ['turkey', 'bacon', 'bacon', 'bacon', 'bacon']\n",
    "grocery_list = fruit_list + meat_list # This is the equivalent of fruit_list.extend(meats) done in-place\n",
    "print(grocery_list)"
   ]
  },
  {
   "cell_type": "markdown",
   "metadata": {},
   "source": [
    "##### Removing items from lists"
   ]
  },
  {
   "cell_type": "code",
   "execution_count": 20,
   "metadata": {},
   "outputs": [
    {
     "name": "stdout",
     "output_type": "stream",
     "text": [
      "grapes\n",
      "['apples', 'oranges', 'limes', 'kumquats', 'bananas', 'grapes', 'turkey', 'bacon', 'bacon', 'bacon']\n"
     ]
    }
   ],
   "source": [
    "# Sometimes you want to retrieve an item from a list AND remove it\n",
    "one_removed_item = grocery_list.pop(6)\n",
    "print(one_removed_item)\n",
    "print(grocery_list)\n",
    "\n"
   ]
  },
  {
   "cell_type": "code",
   "execution_count": 116,
   "metadata": {},
   "outputs": [
    {
     "name": "stdout",
     "output_type": "stream",
     "text": [
      "turkey\n",
      "['apples', 'oranges']\n"
     ]
    }
   ],
   "source": [
    "one_specific_item = grocery_list.pop()\n",
    "print(one_specific_item)\n",
    "print(grocery_list)"
   ]
  },
  {
   "cell_type": "code",
   "execution_count": 26,
   "metadata": {},
   "outputs": [
    {
     "name": "stdout",
     "output_type": "stream",
     "text": [
      "['apples', 'oranges', 'turkey', 'bacon', 'bacon', 'bacon']\n"
     ]
    }
   ],
   "source": [
    "nice_try = grocery_list.pop(2)\n",
    "print (grocery_list)"
   ]
  },
  {
   "cell_type": "markdown",
   "metadata": {},
   "source": [
    "##### Changing items in a list"
   ]
  },
  {
   "cell_type": "code",
   "execution_count": 27,
   "metadata": {},
   "outputs": [
    {
     "name": "stdout",
     "output_type": "stream",
     "text": [
      "['apples', 'oranges', 'limes', 'kumquats', 'bananas', 'grapes', 'grapes', 'grapes', 'grapes', 'grapes']\n",
      "['honeycrisp apples', 'oranges', 'limes', 'kumquats', 'bananas', 'grapes', 'grapes', 'grapes', 'grapes', 'grapes']\n"
     ]
    }
   ],
   "source": [
    "print(fruit_list)\n",
    "fruit_list[0] = 'honeycrisp apples'\n",
    "print(fruit_list)"
   ]
  },
  {
   "cell_type": "code",
   "execution_count": 28,
   "metadata": {},
   "outputs": [
    {
     "name": "stdout",
     "output_type": "stream",
     "text": [
      "['eat ice cream', 'pay rent', 'finish homework', 'call mom']\n"
     ]
    }
   ],
   "source": [
    "# BE CAREFUL CHANGING ITEMS IN A LIST!!!\n",
    "important_things = ['do taxes', 'pay rent', 'finish homework', 'call mom']\n",
    "tasks_today = important_things\n",
    "tasks_today[0] = 'eat ice cream'\n",
    "print(important_things)"
   ]
  },
  {
   "cell_type": "markdown",
   "metadata": {},
   "source": [
    "Lists are what are called \"mutable\" objects in Python. In the simplest terms, this means that they can be modified. It also means that when you create another instance of that variable, you aren't actually creating a new object, but rather a \"pointer\" to the same location in the computer's memory. If you change the derived version of the data, you will change the original version of the data. We will encounter this challenge frequently, so be aware when you are dealing with mutable objects and the ramification of modifying them."
   ]
  },
  {
   "cell_type": "code",
   "execution_count": 29,
   "metadata": {},
   "outputs": [
    {
     "name": "stdout",
     "output_type": "stream",
     "text": [
      "[1, 2, 3, 4]\n"
     ]
    }
   ],
   "source": [
    "# Assigning b as a does not actually create a new place in memory\n",
    "a = [1,2,3]\n",
    "b = a\n",
    "b.append(4)\n",
    "print(a)"
   ]
  },
  {
   "cell_type": "code",
   "execution_count": 32,
   "metadata": {},
   "outputs": [
    {
     "name": "stdout",
     "output_type": "stream",
     "text": [
      "[1, 2, 3]\n"
     ]
    },
    {
     "ename": "AttributeError",
     "evalue": "'list' object has no attribute 'add'",
     "output_type": "error",
     "traceback": [
      "\u001b[0;31m---------------------------------------------------------------------------\u001b[0m",
      "\u001b[0;31mAttributeError\u001b[0m                            Traceback (most recent call last)",
      "\u001b[0;32m<ipython-input-32-6e63120b24ff>\u001b[0m in \u001b[0;36m<module>\u001b[0;34m\u001b[0m\n\u001b[1;32m      4\u001b[0m \u001b[0mb\u001b[0m\u001b[0;34m.\u001b[0m\u001b[0mappend\u001b[0m\u001b[0;34m(\u001b[0m\u001b[0;36m4\u001b[0m\u001b[0;34m)\u001b[0m\u001b[0;34m\u001b[0m\u001b[0;34m\u001b[0m\u001b[0m\n\u001b[1;32m      5\u001b[0m \u001b[0mprint\u001b[0m\u001b[0;34m(\u001b[0m\u001b[0ma\u001b[0m\u001b[0;34m)\u001b[0m\u001b[0;34m\u001b[0m\u001b[0;34m\u001b[0m\u001b[0m\n\u001b[0;32m----> 6\u001b[0;31m \u001b[0mb\u001b[0m\u001b[0;34m.\u001b[0m\u001b[0madd\u001b[0m\u001b[0;34m(\u001b[0m\u001b[0;36m5\u001b[0m\u001b[0;34m)\u001b[0m\u001b[0;34m\u001b[0m\u001b[0;34m\u001b[0m\u001b[0m\n\u001b[0m\u001b[1;32m      7\u001b[0m \u001b[0mprint\u001b[0m\u001b[0;34m(\u001b[0m\u001b[0mb\u001b[0m\u001b[0;34m)\u001b[0m\u001b[0;34m\u001b[0m\u001b[0;34m\u001b[0m\u001b[0m\n",
      "\u001b[0;31mAttributeError\u001b[0m: 'list' object has no attribute 'add'"
     ]
    }
   ],
   "source": [
    "# It is not the values of a that matters, but rather the way in which you create the assignment\n",
    "a = [1,2,3]\n",
    "b = a + [] #This tricks Python into creating a new place in memory for b\n",
    "b.append(4)\n",
    "print(a)\n"
   ]
  },
  {
   "cell_type": "markdown",
   "metadata": {},
   "source": [
    "There are other methods to modify lists such as <strong>`insert`</strong> and <strong>`remove`</strong>. These are not typically used in data science, so I will not cover them."
   ]
  },
  {
   "cell_type": "markdown",
   "metadata": {},
   "source": [
    "### Modifying Sets\n",
    "##### Adding data"
   ]
  },
  {
   "cell_type": "code",
   "execution_count": 31,
   "metadata": {},
   "outputs": [
    {
     "name": "stdout",
     "output_type": "stream",
     "text": [
      "{'apples', 'limes', 'oranges', 'kumquats'}\n"
     ]
    }
   ],
   "source": [
    "# When we need to add to a set, we add to it.\n",
    "fruit_set = {'apples', 'oranges', 'limes'}\n",
    "fruit_set.add('kumquats') # Appending is an \"in-place\" method, meaning that you don't have to redefine it\n",
    "print(fruit_set) # The order of the set is not guaranteed"
   ]
  },
  {
   "cell_type": "code",
   "execution_count": 40,
   "metadata": {},
   "outputs": [
    {
     "name": "stdout",
     "output_type": "stream",
     "text": [
      "None\n"
     ]
    },
    {
     "ename": "TypeError",
     "evalue": "unsupported operand type(s) for |: 'set' and 'str'",
     "output_type": "error",
     "traceback": [
      "\u001b[0;31m---------------------------------------------------------------------------\u001b[0m",
      "\u001b[0;31mTypeError\u001b[0m                                 Traceback (most recent call last)",
      "\u001b[0;32m<ipython-input-40-d4cf6764f253>\u001b[0m in \u001b[0;36m<module>\u001b[0;34m\u001b[0m\n\u001b[1;32m      3\u001b[0m \u001b[0mprint\u001b[0m\u001b[0;34m(\u001b[0m\u001b[0mbigger_set\u001b[0m\u001b[0;34m)\u001b[0m\u001b[0;34m\u001b[0m\u001b[0;34m\u001b[0m\u001b[0m\n\u001b[1;32m      4\u001b[0m \u001b[0;34m\u001b[0m\u001b[0m\n\u001b[0;32m----> 5\u001b[0;31m \u001b[0mbigger_set\u001b[0m \u001b[0;34m=\u001b[0m \u001b[0mfruit_set\u001b[0m \u001b[0;34m|\u001b[0m \u001b[0;34m(\u001b[0m\u001b[0;34m'lemons'\u001b[0m\u001b[0;34m)\u001b[0m\u001b[0;34m\u001b[0m\u001b[0;34m\u001b[0m\u001b[0m\n\u001b[0m",
      "\u001b[0;31mTypeError\u001b[0m: unsupported operand type(s) for |: 'set' and 'str'"
     ]
    }
   ],
   "source": [
    "# If you try to store the output of the appended list into a new variable, you'll not get what you thought you'd get\n",
    "bigger_set = fruit_set.add('bananas')\n",
    "print(bigger_set)\n",
    "\n",
    "bigger_set = fruit_set | ('lemons')\n"
   ]
  },
  {
   "cell_type": "code",
   "execution_count": 41,
   "metadata": {},
   "outputs": [
    {
     "name": "stdout",
     "output_type": "stream",
     "text": [
      "{'limes', 'kumquats', 'bananas', 'apples', 'oranges'}\n"
     ]
    }
   ],
   "source": [
    "# Despite nothing getting getting assigned to the bigger list, grocery_list was still modified\n",
    "print(fruit_set)"
   ]
  },
  {
   "cell_type": "code",
   "execution_count": 42,
   "metadata": {},
   "outputs": [
    {
     "name": "stdout",
     "output_type": "stream",
     "text": [
      "{'limes', 'kumquats', 'bananas', 'turkey', 'apples', 'bacon', 'oranges'}\n"
     ]
    }
   ],
   "source": [
    "# You can also combine the elements of sets\n",
    "meat_set = {'turkey', 'bacon', 'bacon', 'bacon', 'bacon'}\n",
    "grocery_set = fruit_set | meat_set # Note how the 'bacon' was reduced to a single instance\n",
    "print(grocery_set)"
   ]
  },
  {
   "cell_type": "markdown",
   "metadata": {},
   "source": [
    "##### Removing items from a set"
   ]
  },
  {
   "cell_type": "code",
   "execution_count": 43,
   "metadata": {},
   "outputs": [
    {
     "name": "stdout",
     "output_type": "stream",
     "text": [
      "limes\n",
      "{'kumquats', 'bananas', 'turkey', 'apples', 'bacon', 'oranges'}\n"
     ]
    }
   ],
   "source": [
    "# Sometimes you want to retrieve an item from a set AND remove it\n",
    "one_removed_item = grocery_set.pop() # You won't know which item you'll get back and cannot specify which one either\n",
    "print(one_removed_item)\n",
    "print(grocery_set)"
   ]
  },
  {
   "cell_type": "code",
   "execution_count": 49,
   "metadata": {},
   "outputs": [
    {
     "name": "stdout",
     "output_type": "stream",
     "text": [
      "{'kumquats', 'bananas', 'turkey', 'apples', 'oranges'}\n"
     ]
    }
   ],
   "source": [
    "# Unlike lists, you CAN \"subtract\" out items from a set\n",
    "bacon_set = {'bacon'}\n",
    "reduced_grocery_set = grocery_set - bacon_set # Items in meat_set do not HAVE to be in grocery_set\n",
    "print(reduced_grocery_set)\n",
    "\n"
   ]
  },
  {
   "cell_type": "markdown",
   "metadata": {},
   "source": [
    "##### Changing items in a set"
   ]
  },
  {
   "cell_type": "code",
   "execution_count": 52,
   "metadata": {},
   "outputs": [
    {
     "ename": "SyntaxError",
     "evalue": "invalid syntax (<ipython-input-52-14feb5461b6e>, line 8)",
     "output_type": "error",
     "traceback": [
      "\u001b[0;36m  File \u001b[0;32m\"<ipython-input-52-14feb5461b6e>\"\u001b[0;36m, line \u001b[0;32m8\u001b[0m\n\u001b[0;31m    b = a {}\u001b[0m\n\u001b[0m          ^\u001b[0m\n\u001b[0;31mSyntaxError\u001b[0m\u001b[0;31m:\u001b[0m invalid syntax\n"
     ]
    }
   ],
   "source": [
    "# You cannot modify specific values of a set (since you cannot index a set)\n",
    "# You still have challenges with sets being mutable\n",
    "a = {1,2,3}\n",
    "b = a\n",
    "b.add(4)\n",
    "print(a)\n",
    "print(b)\n"
   ]
  },
  {
   "cell_type": "markdown",
   "metadata": {},
   "source": [
    "### Modifying Dictionaries\n",
    "##### Adding data"
   ]
  },
  {
   "cell_type": "code",
   "execution_count": 53,
   "metadata": {},
   "outputs": [
    {
     "name": "stdout",
     "output_type": "stream",
     "text": [
      "{'fruit': ['honeycrisp apples', 'oranges', 'limes', 'lemons', 'kumquats', 'bananas', 'grapes'], 'meat': ['turkey', 'bacon', 'bacon', 'bacon', 'bacon'], 'drinks': ['Coke', 'coffee', 'orange juice', 'milk']}\n"
     ]
    }
   ],
   "source": [
    "# We can add to either the keys OR the values\n",
    "grocery_dict = {'fruit': ['honeycrisp apples', 'oranges', 'limes', 'lemons', 'kumquats', 'bananas', 'grapes'],\n",
    "                'meat': ['turkey', 'bacon', 'bacon', 'bacon', 'bacon']}\n",
    "grocery_dict['drinks'] = ['Coke', 'coffee', 'orange juice', 'milk'] # When adding new key, must also add some value\n",
    "print(grocery_dict)"
   ]
  },
  {
   "cell_type": "code",
   "execution_count": 54,
   "metadata": {},
   "outputs": [
    {
     "name": "stdout",
     "output_type": "stream",
     "text": [
      "{'fruit': ['honeycrisp apples', 'oranges', 'limes', 'lemons', 'kumquats', 'bananas', 'grapes'], 'meat': ['turkey', 'bacon', 'bacon', 'bacon', 'bacon'], 'drinks': ['Coke', 'coffee', 'orange juice', 'milk', 'apple juice']}\n"
     ]
    }
   ],
   "source": [
    "# We can also add a single item to one of the values\n",
    "grocery_dict['drinks'].append('apple juice')\n",
    "print(grocery_dict)"
   ]
  },
  {
   "cell_type": "code",
   "execution_count": 65,
   "metadata": {},
   "outputs": [
    {
     "name": "stdout",
     "output_type": "stream",
     "text": [
      "50\n",
      "25\n",
      "10\n"
     ]
    }
   ],
   "source": [
    "# Remember, that you can add many layers of different types into your dictionary\n",
    "grocery_dict['budget'] = [{'fruit': 50, 'meat': 25, 'drinks': {'alcoholic': 10, 'non-alcoholic': 20}}, 10]\n",
    "print(grocery_dict['budget'][0]['fruit'])\n",
    "print(grocery_dict['budget'][0]['meat'])\n",
    "print(grocery_dict['budget'][1])"
   ]
  },
  {
   "cell_type": "code",
   "execution_count": 66,
   "metadata": {},
   "outputs": [
    {
     "name": "stdout",
     "output_type": "stream",
     "text": [
      "['honeycrisp apples', 'oranges', 'limes', 'lemons', 'kumquats', 'bananas', 'grapes']\n",
      "[{'fruit': 50, 'meat': 25, 'drinks': {'alcoholic': 10, 'non-alcoholic': 20}}, 10]\n"
     ]
    }
   ],
   "source": [
    "print(grocery_dict['fruit'])\n",
    "print(grocery_dict['budget'])"
   ]
  },
  {
   "cell_type": "code",
   "execution_count": 67,
   "metadata": {},
   "outputs": [
    {
     "data": {
      "text/plain": [
       "{'fruit': ['honeycrisp apples',\n",
       "  'oranges',\n",
       "  'limes',\n",
       "  'lemons',\n",
       "  'kumquats',\n",
       "  'bananas',\n",
       "  'grapes'],\n",
       " 'meat': ['turkey', 'bacon', 'bacon', 'bacon', 'bacon'],\n",
       " 'drinks': ['Coke', 'coffee', 'orange juice', 'milk', 'apple juice'],\n",
       " 'budget': 100}"
      ]
     },
     "execution_count": 67,
     "metadata": {},
     "output_type": "execute_result"
    }
   ],
   "source": [
    "# Remember, the values of the dictionary do not need to be of the same type\n",
    "grocery_dict['budget'] = 100\n",
    "grocery_dict"
   ]
  },
  {
   "cell_type": "markdown",
   "metadata": {},
   "source": [
    "##### Removing data from a dictionary"
   ]
  },
  {
   "cell_type": "code",
   "execution_count": 68,
   "metadata": {},
   "outputs": [
    {
     "name": "stdout",
     "output_type": "stream",
     "text": [
      "{'fruit': ['honeycrisp apples', 'oranges', 'limes', 'lemons', 'kumquats', 'bananas', 'grapes'], 'drinks': ['Coke', 'coffee', 'orange juice', 'milk', 'apple juice'], 'budget': 100}\n"
     ]
    }
   ],
   "source": [
    "# You can delete a key\n",
    "del(grocery_dict['meat'])\n",
    "print(grocery_dict)"
   ]
  },
  {
   "cell_type": "code",
   "execution_count": 69,
   "metadata": {},
   "outputs": [
    {
     "name": "stdout",
     "output_type": "stream",
     "text": [
      "grapes\n",
      "{'fruit': ['honeycrisp apples', 'oranges', 'limes', 'lemons', 'kumquats', 'bananas'], 'drinks': ['Coke', 'coffee', 'orange juice', 'milk', 'apple juice'], 'budget': 100}\n"
     ]
    }
   ],
   "source": [
    "# You cannot just delete a whole value, but you CAN remove elements from data structures within a value\n",
    "removed_from_dict_value = grocery_dict['fruit'].pop()\n",
    "print(removed_from_dict_value)\n",
    "print(grocery_dict)"
   ]
  },
  {
   "cell_type": "markdown",
   "metadata": {},
   "source": [
    "##### Changing values in a dictionary"
   ]
  },
  {
   "cell_type": "code",
   "execution_count": 70,
   "metadata": {},
   "outputs": [
    {
     "data": {
      "text/plain": [
       "100"
      ]
     },
     "execution_count": 70,
     "metadata": {},
     "output_type": "execute_result"
    }
   ],
   "source": [
    "grocery_dict['budget']"
   ]
  },
  {
   "cell_type": "code",
   "execution_count": 71,
   "metadata": {},
   "outputs": [
    {
     "name": "stdout",
     "output_type": "stream",
     "text": [
      "100\n",
      "101\n"
     ]
    }
   ],
   "source": [
    "# You can also modify any value in any valid way\n",
    "print(grocery_dict['budget'])\n",
    "grocery_dict['budget'] += 1 # Compound operator that adds to the value of a numeric value by 1\n",
    "print(grocery_dict['budget'])"
   ]
  },
  {
   "cell_type": "code",
   "execution_count": 74,
   "metadata": {},
   "outputs": [
    {
     "name": "stdout",
     "output_type": "stream",
     "text": [
      "[1, 3, 3, 45]\n"
     ]
    }
   ],
   "source": [
    "groceryList = [1,2,3,45]\n",
    "groceryList[1] += 1\n",
    "print (groceryList)\n"
   ]
  },
  {
   "cell_type": "markdown",
   "metadata": {},
   "source": [
    "## Built-in Functions and Methods"
   ]
  },
  {
   "cell_type": "markdown",
   "metadata": {},
   "source": [
    "Python has several capabilities built into its code base. We will go into much greater detail next week about functions, but for now, just know that a function \"does something\" with that you \"pass\" it. Methods are when you ask an object to do something to itself."
   ]
  },
  {
   "cell_type": "code",
   "execution_count": 81,
   "metadata": {},
   "outputs": [
    {
     "data": {
      "text/plain": [
       "3"
      ]
     },
     "execution_count": 81,
     "metadata": {},
     "output_type": "execute_result"
    }
   ],
   "source": [
    "# How long is a string?\n",
    "len('my_list1') # \"len\" is a function\n",
    "maisiesList= [1,2,3]\n",
    "len(maisiesList)\n"
   ]
  },
  {
   "cell_type": "code",
   "execution_count": 82,
   "metadata": {},
   "outputs": [
    {
     "data": {
      "text/plain": [
       "15"
      ]
     },
     "execution_count": 82,
     "metadata": {},
     "output_type": "execute_result"
    }
   ],
   "source": [
    "# How long is a list?\n",
    "my_list1 = [12, 39, 27, 57, 23, 95, 12, 63, 96, 54, 10, 38, 91, 36, 7]\n",
    "len(my_list1) # \"len\" is a function"
   ]
  },
  {
   "cell_type": "code",
   "execution_count": 83,
   "metadata": {},
   "outputs": [
    {
     "data": {
      "text/plain": [
       "[0, 1, 2, 3, 4]"
      ]
     },
     "execution_count": 83,
     "metadata": {},
     "output_type": "execute_result"
    }
   ],
   "source": [
    "# Cast the range object as a list\n",
    "list(range(5)) # \"list\" is a function (can also do for set or tuple)"
   ]
  },
  {
   "cell_type": "code",
   "execution_count": 101,
   "metadata": {},
   "outputs": [
    {
     "name": "stdout",
     "output_type": "stream",
     "text": [
      "7\n",
      "96\n",
      "7\n",
      "96\n"
     ]
    }
   ],
   "source": [
    "# Find the minimum and maximum values of a list (note that I am chaining functions)\n",
    "list_of_numbers = [15, 39, 27, 57, 26, 95, 12, 63, 96, 54, 10, 38, 91, 36, 7]\n",
    "print(min(list_of_numbers)) # print and min are functions (can also do for set or tuple)\n",
    "print(max(list_of_numbers)) # print and max are functions (can also do for set or tuple)\n",
    "# Want to avoid doing too much within the arguments of a function; try creating new variables whenever possible\n",
    "min_of_nums = min(list_of_numbers)\n",
    "max_of_nums = max(list_of_numbers)\n",
    "print(min_of_nums)\n",
    "print(max_of_nums)"
   ]
  },
  {
   "cell_type": "code",
   "execution_count": 102,
   "metadata": {},
   "outputs": [
    {
     "name": "stdout",
     "output_type": "stream",
     "text": [
      "3\n",
      "3.1\n",
      "3.141592654\n"
     ]
    }
   ],
   "source": [
    "# Round a float value\n",
    "pi_0 = round(3.1415926535) # Round float value to 0 decimals\n",
    "pi_1 = round(3.1415926535, 1) # Round float value to 1 decimal\n",
    "pi_9 = round(3.1415926535, 9) # Round float value to 9 decimals\n",
    "print(pi_0)\n",
    "print(pi_1)\n",
    "print(pi_9)"
   ]
  },
  {
   "cell_type": "code",
   "execution_count": 103,
   "metadata": {},
   "outputs": [
    {
     "name": "stdout",
     "output_type": "stream",
     "text": [
      "[1, 2, 3]\n"
     ]
    }
   ],
   "source": [
    "list1 = [1.222, 2.222, 3.222]\n",
    "roundedList1 = [round(elem) for elem in list1]\n",
    "print(roundedList1)"
   ]
  },
  {
   "cell_type": "code",
   "execution_count": 104,
   "metadata": {},
   "outputs": [
    {
     "name": "stdout",
     "output_type": "stream",
     "text": [
      "666\n"
     ]
    }
   ],
   "source": [
    "# Sum of list of numbers\n",
    "sum_nums = sum(list_of_numbers) # \"sum\" is a function (can also do for set or tuple)\n",
    "print(sum_nums)"
   ]
  },
  {
   "cell_type": "code",
   "execution_count": 105,
   "metadata": {},
   "outputs": [
    {
     "name": "stdout",
     "output_type": "stream",
     "text": [
      "[7, 10, 12, 15, 26, 27, 36, 38, 39, 54, 57, 63, 91, 95, 96]\n"
     ]
    }
   ],
   "source": [
    "# Sort values in a list\n",
    "list_of_numbers.sort() # Note that this is an in-place method; do NOT need to re-assign output\n",
    "print(list_of_numbers)"
   ]
  },
  {
   "cell_type": "code",
   "execution_count": 107,
   "metadata": {},
   "outputs": [
    {
     "name": "stdout",
     "output_type": "stream",
     "text": [
      "[12, 39, 27, 57, 23, 95, 12, 63, 96, 54, 10, 38, 91, 36, 7]\n",
      "[7, 36, 91, 38, 10, 54, 96, 63, 12, 95, 23, 57, 27, 39, 12]\n"
     ]
    }
   ],
   "source": [
    "# Rerverses the order of a list (NOT the same as ordering things in reverse)\n",
    "list_of_numbers = [12, 39, 27, 57, 23, 95, 12, 63, 96, 54, 10, 38, 91, 36, 7]\n",
    "print(list_of_numbers)\n",
    "list_of_numbers.reverse() # Note that this is an in-place method; do NOT need to re-assign output\n",
    "print(list_of_numbers)\n",
    "list_of_numbers.sort()\n"
   ]
  },
  {
   "cell_type": "code",
   "execution_count": null,
   "metadata": {},
   "outputs": [],
   "source": [
    "# Strings can cause unintuitive results\n",
    "max(['1', '2', '10']) # The first digit of '10' comes before the first digit of '2'; thus '2' has a \"larger\" value"
   ]
  },
  {
   "cell_type": "code",
   "execution_count": null,
   "metadata": {},
   "outputs": [],
   "source": [
    "max(['1', '2', '10', 'a']) # Letters have larger values than integer characters"
   ]
  }
 ],
 "metadata": {
  "anaconda-cloud": {},
  "kernelspec": {
   "display_name": "Python 3",
   "language": "python",
   "name": "python3"
  },
  "language_info": {
   "codemirror_mode": {
    "name": "ipython",
    "version": 3
   },
   "file_extension": ".py",
   "mimetype": "text/x-python",
   "name": "python",
   "nbconvert_exporter": "python",
   "pygments_lexer": "ipython3",
   "version": "3.8.5"
  }
 },
 "nbformat": 4,
 "nbformat_minor": 1
}
