{
 "cells": [
  {
   "cell_type": "markdown",
   "metadata": {},
   "source": [
    "# Purpose-Driven Data Science\n",
    "\n",
    "Up until now, we have focused our attention on learning what and how and less so on the when and why. Today we are going to take an outcome-based approach to learning about what types of problems warrant the usage of various techniques.\n",
    "\n",
    "It is important to understand that these techniques are often nuanced, and applying them blindly without full understanding proper usage can wind up with unintended consequences. We are only going to scratch the surface on these techniques so that you can 1) know of their existence, and 2) know what situations may warrant their usage. It is still incumbent upon you to learn more about these techniques before using them.\n",
    "\n",
    "Before we get into the details, I want to go over two final concepts that are critical to understanding applied data science:\n",
    "- Hypothesis testing\n",
    "- Statistical error types\n",
    "\n",
    "Hypothesis testing is a foundational tool for statistical inference. Hypothesis testing is set up such that it is the analyst's burden to \"prove\" that two values are NOT the same or that some outcome is NOT likely.\n",
    "\n",
    "For example, let's take the following data set predicting mobile phone usage based on various user characteristics."
   ]
  },
  {
   "cell_type": "code",
   "execution_count": null,
   "metadata": {},
   "outputs": [],
   "source": [
    "phone_usage_df = read.csv('device_usage.csv')"
   ]
  },
  {
   "cell_type": "code",
   "execution_count": null,
   "metadata": {},
   "outputs": [],
   "source": [
    "head(phone_usage_df, 5)"
   ]
  },
  {
   "cell_type": "code",
   "execution_count": null,
   "metadata": {},
   "outputs": [],
   "source": [
    "mean(phone_usage_df$avg_usage_hrs)"
   ]
  },
  {
   "cell_type": "markdown",
   "metadata": {},
   "source": [
    "### Identifying Appropriate Hypothesis Statements\n",
    "\n",
    "If we were to perform an analysis on phone usage based on gender, we could ask ourselves two similar, but very different analytitical hypotheses:\n",
    "1. \"Females use their phones more than males\", or\n",
    "2. \"The amount of time females use their phones differs from that of males\"\n",
    "\n",
    "The way you frame your question is completely dependent on the study you are trying to perform. Sometimes being different is sufficient while other times you need to see a particular outcome in order for the results to be relevant.\n",
    "\n",
    "What are possible analyses where we'd be more interested in Hypothesis 1. What about Hypothesis 2?"
   ]
  },
  {
   "cell_type": "markdown",
   "metadata": {},
   "source": [
    "If we wanted to pursue Hypothesis 1, then the following would be the null and alternate hypotheses:\n",
    "\\begin{equation*}\n",
    "\\mu_0: \\mu_{female} = \\mu_{male}\n",
    "\\end{equation*}\n",
    "\\begin{equation*}\n",
    "\\mu_a: \\mu_{female} \\ne \\mu_{male}\n",
    "\\end{equation*}\n",
    "\n",
    "In this case, we would \"reject the null hypothesis\" if we could prove that females used their phones more OR less than males."
   ]
  },
  {
   "cell_type": "markdown",
   "metadata": {},
   "source": [
    "If we wanted to pursue Hypotheis 2 ,then the following would be the null and alternate hypotheses:\n",
    "\\begin{equation*}\n",
    "\\mu_0: \\mu_{female} <= \\mu_{male}\n",
    "\\end{equation*}\n",
    "\\begin{equation*}\n",
    "\\mu_a: \\mu_{female} > \\mu_{male}\n",
    "\\end{equation*}"
   ]
  },
  {
   "cell_type": "markdown",
   "metadata": {},
   "source": [
    "#### Why can't I just use the sample means to make this assessment?\n",
    "\n",
    "You may be wondering, why can't I just make my determination based on the means of the males and females from our sample? For our data, the following are our means:"
   ]
  },
  {
   "cell_type": "code",
   "execution_count": null,
   "metadata": {},
   "outputs": [],
   "source": [
    "means_by_gender = aggregate(phone_usage_df$avg_usage_hrs, by=list(Gender=phone_usage_df$gender), FUN=mean, data=phone_usage_df)\n",
    "means_by_gender"
   ]
  },
  {
   "cell_type": "markdown",
   "metadata": {},
   "source": [
    "While it seems that females use their phones more than males based on this data, we don't *know* whether they do because the true mean for females remains unknown. Let's look at the graphic below to understand why we can't just use these sample statistics to make a determination."
   ]
  },
  {
   "cell_type": "markdown",
   "metadata": {},
   "source": [
    "<img src=\"https://i.stack.imgur.com/ZfxV9m.png\">"
   ]
  },
  {
   "cell_type": "markdown",
   "metadata": {},
   "source": [
    "If we say that the confidence interval around the males is the curve on the left while the confidence interval for the females is the curve on the right, we can see that there is overlap in where the true mean for each gender *could* be. Even though it seems that the curve on the right is \"further right\" than the one on the one on the left, there are regions of the left curve that actually exceed that of the right curve. The amount of uncertainty is what determines whether we can or cannot reject the null hypothesis."
   ]
  },
  {
   "cell_type": "code",
   "execution_count": null,
   "metadata": {},
   "outputs": [],
   "source": [
    "males <- subset(phone_usage_df, gender=='Male', select=avg_usage_hrs)\n",
    "females <- subset(phone_usage_df, gender=='Female', select=avg_usage_hrs)\n",
    "t.test(males$avg_usage_hrs, females$avg_usage_hrs)"
   ]
  },
  {
   "cell_type": "code",
   "execution_count": null,
   "metadata": {},
   "outputs": [],
   "source": [
    "t.test(females$avg_usage_hrs, males$avg_usage_hrs, alternative='greater')"
   ]
  },
  {
   "cell_type": "markdown",
   "metadata": {},
   "source": [
    "If we set our cutoff for \"statistical significance\" at 95%, then alpha would be 5%. Since our p-value is less than our alpha value we can reject the null hypothesis and \"accept\" the alternate hypothesis."
   ]
  },
  {
   "cell_type": "markdown",
   "metadata": {},
   "source": [
    "### Linear Modeling\n"
   ]
  },
  {
   "cell_type": "code",
   "execution_count": null,
   "metadata": {},
   "outputs": [],
   "source": [
    "phone_usage_df$gender <- factor(phone_usage_df$gender)\n",
    "phone_usage_df$age <- factor(phone_usage_df$age)\n",
    "phone_usage_df$income <- factor(phone_usage_df$income)\n",
    "phone_usage_df$phone <- factor(phone_usage_df$phone)\n",
    "phone_usage_df$has_degree <- factor(phone_usage_df$phone)\n",
    "model <- lm(avg_usage_hrs ~ gender + phone, data=phone_usage_df)"
   ]
  },
  {
   "cell_type": "code",
   "execution_count": null,
   "metadata": {},
   "outputs": [],
   "source": [
    "summary(model)"
   ]
  },
  {
   "cell_type": "code",
   "execution_count": null,
   "metadata": {},
   "outputs": [],
   "source": [
    "plot(model)"
   ]
  },
  {
   "cell_type": "code",
   "execution_count": null,
   "metadata": {},
   "outputs": [],
   "source": []
  }
 ],
 "metadata": {
  "kernelspec": {
   "display_name": "R",
   "language": "R",
   "name": "ir"
  },
  "language_info": {
   "codemirror_mode": "r",
   "file_extension": ".r",
   "mimetype": "text/x-r-source",
   "name": "R",
   "pygments_lexer": "r",
   "version": "3.5.1"
  }
 },
 "nbformat": 4,
 "nbformat_minor": 2
}
