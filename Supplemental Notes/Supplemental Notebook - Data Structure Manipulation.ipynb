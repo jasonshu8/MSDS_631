{
 "cells": [
  {
   "cell_type": "markdown",
   "metadata": {},
   "source": [
    "# MSDS 631 - Supplemental Notes\n",
    "## Data Structure Manipulation and Usage\n",
    "\n",
    "### Accessing and Storing Data\n",
    "Let's start by getting some data."
   ]
  },
  {
   "cell_type": "code",
   "execution_count": null,
   "metadata": {
    "collapsed": true
   },
   "outputs": [],
   "source": [
    "import json\n",
    "students = json.load(open('data/students.json', 'r'))"
   ]
  },
  {
   "cell_type": "code",
   "execution_count": null,
   "metadata": {
    "collapsed": false
   },
   "outputs": [],
   "source": [
    "#Let's take a look at the first record of students\n",
    "students[0]"
   ]
  },
  {
   "cell_type": "markdown",
   "metadata": {},
   "source": [
    "So what we're seeing in the `students` object is a list of 10,000 dictionaries, each containing a student's information. Included in the record is their:\n",
    "- Student ID\n",
    "- First name\n",
    "- Last name\n",
    "- Gender\n",
    "- Major\n",
    "- Class\n",
    "- GPA\n",
    "\n",
    "Note that the keys of the dictionary are in no particular order.\n",
    "\n",
    "If I wanted to get the first student's info and store it in variables, I *could* do this:"
   ]
  },
  {
   "cell_type": "code",
   "execution_count": null,
   "metadata": {
    "collapsed": true
   },
   "outputs": [],
   "source": [
    "student_1_id = students[0]['student_id']\n",
    "student_1_first = students[0]['first']\n",
    "student_1_last = students[0]['last']\n",
    "student_1_gender = students[0]['gender']\n",
    "student_1_major = students[0]['major']\n",
    "student_1_class = students[0]['class']\n",
    "student_1_gpa = students[0]['gpa']"
   ]
  },
  {
   "cell_type": "code",
   "execution_count": null,
   "metadata": {
    "collapsed": false
   },
   "outputs": [],
   "source": [
    "print(student_1_id)\n",
    "print(student_1_first)\n",
    "print(student_1_last)\n",
    "print(student_1_gender)\n",
    "print(student_1_major)\n",
    "print(student_1_class)\n",
    "print(student_1_gpa)"
   ]
  },
  {
   "cell_type": "markdown",
   "metadata": {},
   "source": [
    "Unfortunately, this is completely infeasible to create all of these variables. Also, using generic names like `student_1_first` makes it difficult to access **specific** students' info. If I wanted a better structure, I could create a directory based on each student's ID. I can use a dictionary for this because I know that students' IDs are going to be unique.\n",
    "\n",
    "Let's go ahead and do this, one step at a time.\n",
    "\n",
    "## Reshaping Data\n",
    "### Converting a list of unique objects into a keyed dictionary"
   ]
  },
  {
   "cell_type": "code",
   "execution_count": null,
   "metadata": {
    "collapsed": true
   },
   "outputs": [],
   "source": [
    "#First we need to create a dictionary that we will store data into.\n",
    "students_directory = {}"
   ]
  },
  {
   "cell_type": "code",
   "execution_count": null,
   "metadata": {
    "collapsed": false
   },
   "outputs": [],
   "source": [
    "#Now let's create a key for each student and create a value that is another dict\n",
    "for student in students: #This will loop through each of the 10,000 students and assign it to a variable 'student'\n",
    "    specific_student_id = student['student_id'] #'student' contains a value within the 'students' list (which is a dictionary)\n",
    "    students_directory[specific_student_id] = {} #Assign the new dictionary"
   ]
  },
  {
   "cell_type": "code",
   "execution_count": null,
   "metadata": {
    "collapsed": false
   },
   "outputs": [],
   "source": [
    "#Let's verify that students_directory is in fact a dictionary\n",
    "type(students_directory)"
   ]
  },
  {
   "cell_type": "code",
   "execution_count": null,
   "metadata": {
    "collapsed": true
   },
   "outputs": [],
   "source": [
    "#Let's store the keys of the directory in a new variable\n",
    "all_students_ids = list(students_directory.keys())"
   ]
  },
  {
   "cell_type": "code",
   "execution_count": null,
   "metadata": {
    "collapsed": false
   },
   "outputs": [],
   "source": [
    "#Let's look at the first 10 IDs\n",
    "all_students_ids[:10]"
   ]
  },
  {
   "cell_type": "code",
   "execution_count": null,
   "metadata": {
    "collapsed": false
   },
   "outputs": [],
   "source": [
    "#So now let's look at the placeholder for the information for the first student ID\n",
    "first_id = all_students_ids[0]\n",
    "students_directory[first_id]"
   ]
  },
  {
   "cell_type": "markdown",
   "metadata": {},
   "source": [
    "Now, rather than creating an empty dictionary while creating this student ID record, let's fill it in with the necessary data."
   ]
  },
  {
   "cell_type": "code",
   "execution_count": null,
   "metadata": {
    "collapsed": false
   },
   "outputs": [],
   "source": [
    "#First we need to get the keys. Let's automate this rather than hard-coding them.\n",
    "first_student_dict = students[0]\n",
    "student_keys = []\n",
    "for key in first_student_dict.keys():\n",
    "    student_keys.append(key)\n",
    "print(student_keys)"
   ]
  },
  {
   "cell_type": "code",
   "execution_count": null,
   "metadata": {
    "collapsed": false
   },
   "outputs": [],
   "source": [
    "#Now let's run the previous code but fill in the data we need\n",
    "for student in students: #This will loop through each of the 10,000 students and assign it to a variable 'student'\n",
    "    specific_student_id = student['student_id'] #'student' contains a value within the 'students' list (which is a dictionary)\n",
    "    students_directory[specific_student_id] = {} #We need to initiate a new dictionary where we can store things\n",
    "    # Now we need to go through and add keys to each student dictionary so that we have a dictionary of dictionaries\n",
    "    for key in student_keys: #We found the keys in the previous cell\n",
    "        if key != 'student_id': #We can ignore student ID since we already have it as the key\n",
    "            students_directory[specific_student_id][key] = student[key] #Extracting data from the original data structure"
   ]
  },
  {
   "cell_type": "markdown",
   "metadata": {},
   "source": [
    "So what does the record look like for our first student?"
   ]
  },
  {
   "cell_type": "code",
   "execution_count": null,
   "metadata": {
    "collapsed": false
   },
   "outputs": [],
   "source": [
    "students_directory[first_id]"
   ]
  },
  {
   "cell_type": "markdown",
   "metadata": {},
   "source": [
    "Perfect!! Now the data is much more accessible whenever we want to look up a specific student! Dictionaries are great for keeping track of specific things like this."
   ]
  },
  {
   "cell_type": "markdown",
   "metadata": {},
   "source": [
    "## Analyzing Data\n",
    "### Using \"counters\"\n",
    "Sometimes we want to keep track of how often we see things. In this case, we want to use a counter. Let's go through a list and see how many times we're seeing a certain major. For this example, let's use \"Economics\" as our major to look for."
   ]
  },
  {
   "cell_type": "code",
   "execution_count": null,
   "metadata": {
    "collapsed": true
   },
   "outputs": [],
   "source": [
    "male_counter = 0 #To start, we know we've seen the word \"Male\" zero times\n",
    "female_counter = 0 #To start, we know we've seen the word \"Female\" zero times\n",
    "master_counter = 0 #To start, we know we've counted zero students"
   ]
  },
  {
   "cell_type": "code",
   "execution_count": null,
   "metadata": {
    "collapsed": false
   },
   "outputs": [],
   "source": [
    "for student in students:\n",
    "    student_gender = student['gender']\n",
    "    if student_gender == 'Male':\n",
    "        male_counter += 1 #Only increment the male_counter if the condition is satisfied\n",
    "    elif student_gender == 'Female':\n",
    "        female_counter += 1 #Only increment the female_counter if the condition is satisfied\n",
    "    master_counter += 1 #Increment the master_counter every time\n",
    "pct_male = male_counter / master_counter\n",
    "print('There were {} male students. This is {:.1%} of students'.format(male_counter, pct_male))"
   ]
  },
  {
   "cell_type": "markdown",
   "metadata": {},
   "source": [
    "### Storing data in lists\n",
    "\n",
    "Another commonly used method is to store information in dictionaries as we see them. In the previous example, we only cared how many students were a specific gender. In this case, we want to know **which** students are a specific gender.\n",
    "\n",
    "First, we need to find out the names of the genders. Never assume you know what the labels should be because many things can happen that result in unexpected values that will break your code. For instance, if the data had Males, Females, males, and females, then Python would think you have four different values. If you only created keys for Males and Femals, your code would break whenever you tried accessing the key for male or female (lowercase)."
   ]
  },
  {
   "cell_type": "code",
   "execution_count": null,
   "metadata": {
    "collapsed": false
   },
   "outputs": [],
   "source": [
    "all_students_genders = []\n",
    "for student in students:\n",
    "    all_students_genders.append(student['gender'])\n",
    "all_genders = set(all_students_genders)\n",
    "all_genders"
   ]
  },
  {
   "cell_type": "code",
   "execution_count": null,
   "metadata": {
    "collapsed": true
   },
   "outputs": [],
   "source": [
    "gender_lists = {}\n",
    "for gender in all_genders:\n",
    "    gender_lists[gender] = [] #Create an empty list in each key of the dictionary so we can store IDs"
   ]
  },
  {
   "cell_type": "code",
   "execution_count": null,
   "metadata": {
    "collapsed": false
   },
   "outputs": [],
   "source": [
    "#Let's go through each studetn record and add the student ID of the student to the appropriate list\n",
    "master_counter = 0\n",
    "for i in students: #You can assign any name as your counter variable. I discourage the use of \"i\" as I'm using here\n",
    "    student_id = i['student_id']\n",
    "    gender = i['gender']\n",
    "    gender_lists[gender].append(student_id) #You don't need an if-statement because your gender is already in the dictionary\n",
    "    master_counter += 1\n",
    "pct_male = len(gender_lists['Male']) / master_counter"
   ]
  },
  {
   "cell_type": "code",
   "execution_count": null,
   "metadata": {
    "collapsed": false
   },
   "outputs": [],
   "source": [
    "print('There were {} male students. This is {:.1%} of students'.format(male_counter, pct_male))"
   ]
  },
  {
   "cell_type": "markdown",
   "metadata": {},
   "source": [
    "Different approach, same answer!!"
   ]
  },
  {
   "cell_type": "markdown",
   "metadata": {},
   "source": [
    "### Counting unique instances amongst many choices\n",
    "Let's now think about how we might see what the most popular name amongst the students is.\n",
    "\n",
    "We're going to keep track of each time we see the name by using a dictionary and leveraging the idea of a \"counter\" from earlier in these notes. We could use the same approach used for finding the different genders in order to find all of the names, but I'll show you an alternative way here."
   ]
  },
  {
   "cell_type": "code",
   "execution_count": null,
   "metadata": {
    "collapsed": true
   },
   "outputs": [],
   "source": [
    "#First we need to create a dictionary that we will store data into.\n",
    "names_dict = {}"
   ]
  },
  {
   "cell_type": "markdown",
   "metadata": {},
   "source": [
    "If we go through each record of the original `students` list and pick out each name, we can see if the name is already in the dictionary. If it is not, then we can add to the counter. If not, we can add the key and simultaneously set the counter to a value of 1."
   ]
  },
  {
   "cell_type": "code",
   "execution_count": null,
   "metadata": {
    "collapsed": true
   },
   "outputs": [],
   "source": [
    "for student in students:\n",
    "    name = student['first']\n",
    "    if name in names_dict.keys():\n",
    "        names_dict[name] += 1\n",
    "    else:\n",
    "        names_dict[name] = 1"
   ]
  },
  {
   "cell_type": "code",
   "execution_count": null,
   "metadata": {
    "collapsed": false
   },
   "outputs": [],
   "source": [
    "print('There were {} names seen in total.'.format(len(names_dict)))"
   ]
  },
  {
   "cell_type": "markdown",
   "metadata": {},
   "source": [
    "Now we'll do the same thing but find the names by gender."
   ]
  },
  {
   "cell_type": "code",
   "execution_count": null,
   "metadata": {
    "collapsed": true
   },
   "outputs": [],
   "source": [
    "#We need to create the keys and empty dictionaries for each gender\n",
    "gender_names_dict = {}\n",
    "for gender in all_genders:\n",
    "    gender_names_dict[gender] = {}"
   ]
  },
  {
   "cell_type": "code",
   "execution_count": null,
   "metadata": {
    "collapsed": false
   },
   "outputs": [],
   "source": [
    "#Just to be sure, let's take a look at the data structure we created\n",
    "gender_names_dict['Male']"
   ]
  },
  {
   "cell_type": "code",
   "execution_count": null,
   "metadata": {
    "collapsed": false
   },
   "outputs": [],
   "source": [
    "gender_names_dict['Female']"
   ]
  },
  {
   "cell_type": "code",
   "execution_count": null,
   "metadata": {
    "collapsed": false
   },
   "outputs": [],
   "source": [
    "#Now let's use similar logic to what we did in the previous example\n",
    "for student in students:\n",
    "    name = student['first']\n",
    "    gender = student['gender']\n",
    "    if name in gender_names_dict[gender]: #You dont actually have to tell Python to look in the keys. It's assumed.\n",
    "        gender_names_dict[gender][name] += 1\n",
    "    else:\n",
    "        gender_names_dict[gender][name] = 1"
   ]
  },
  {
   "cell_type": "code",
   "execution_count": null,
   "metadata": {
    "collapsed": false
   },
   "outputs": [],
   "source": [
    "#Let's look at the first few names in the female names dictionary\n",
    "list(gender_names_dict['Female'].keys())[:10]"
   ]
  },
  {
   "cell_type": "markdown",
   "metadata": {},
   "source": [
    "Now that we have the counts of each name, let's find out which ones occur the most. We'll start by only looking at females."
   ]
  },
  {
   "cell_type": "code",
   "execution_count": null,
   "metadata": {
    "collapsed": false
   },
   "outputs": [],
   "source": [
    "#Let's find the most common female name now!\n",
    "current_most_common_name = None #Initialize this value. Initialization is only necessary because we want to modify it later\n",
    "current_most_common_name_counter = 0 #We've seen no names yet, so we've seen no names more than zero times\n",
    "for key in gender_names_dict['Female'].keys():\n",
    "    name = key #This line is not necessary, but I want you to see that the key is the student's name\n",
    "    counter = gender_names_dict['Female'][name] #See how many times this name has appeared\n",
    "    if counter > current_most_common_name_counter: #Check to see if the current name has more instances than previous most\n",
    "        current_most_common_name_counter = counter\n",
    "        current_most_common_name = name\n",
    "print(\"The most common female name was {} and it appeared {} times\".format(current_most_common_name, current_most_common_name_counter))"
   ]
  },
  {
   "cell_type": "markdown",
   "metadata": {},
   "source": [
    "Let's do this for all genders now"
   ]
  },
  {
   "cell_type": "code",
   "execution_count": null,
   "metadata": {
    "collapsed": true
   },
   "outputs": [],
   "source": [
    "#Let's do this for all of the genders now\n",
    "most_common = {} #Instead of hardcoding variable names as we did above, let's create a data structure to store our results\n",
    "for gender in all_genders:\n",
    "    most_common[gender] = {'most_common_name': None, 'most_common_name_counter': 0} #Initialize values for each gender"
   ]
  },
  {
   "cell_type": "code",
   "execution_count": null,
   "metadata": {
    "collapsed": false
   },
   "outputs": [],
   "source": [
    "#Now let's count similarly to the example above\n",
    "\n",
    "#In order to keep track of whats happening, I created a phrase to let me know what's going on\n",
    "update_phrase = 'Updated previous leader ({}) which had {} occurrences and replaced it with {} which has {}'\n",
    "\n",
    "for gender in gender_names_dict:\n",
    "    print(gender)\n",
    "    for key in gender_names_dict[gender].keys(): #It's actually implied you are looking in keys for a for loop, but I was explicit here\n",
    "        name = key #This line is not necessary, but I want you to see that the key is the student's name\n",
    "        num_occurrences = gender_names_dict[gender][name] #See how many times this name has appeared\n",
    "        if num_occurrences > most_common[gender]['most_common_name_counter']: #Check to see if the current name has more instances than previous most\n",
    "            old_name = most_common[gender]['most_common_name']\n",
    "            old_value = most_common[gender]['most_common_name_counter']\n",
    "            most_common[gender]['most_common_name_counter'] = num_occurrences\n",
    "            most_common[gender]['most_common_name'] = name\n",
    "            print(update_phrase.format(old_name, old_value, name, num_occurrences))"
   ]
  },
  {
   "cell_type": "code",
   "execution_count": null,
   "metadata": {
    "collapsed": false
   },
   "outputs": [],
   "source": [
    "print(\"The most common female name was {} and it appeared {} times\".format(most_common['Female']['most_common_name'], most_common['Female']['most_common_name_counter']))\n",
    "print(\"The most common female name was {} and it appeared {} times\".format(most_common['Male']['most_common_name'], most_common['Male']['most_common_name_counter']))"
   ]
  },
  {
   "cell_type": "markdown",
   "metadata": {},
   "source": [
    "The example above had a lot of loops and logic, and even I had problems getting the code to work. How about we think about using functions to simplify this and make our code more testable.\n",
    "\n",
    "Let's start by assuming a single gender for our analysis."
   ]
  },
  {
   "cell_type": "code",
   "execution_count": null,
   "metadata": {
    "collapsed": true
   },
   "outputs": [],
   "source": [
    "def find_most_common_name(gender, gender_names_dict):\n",
    "    specific_gender_names_dict = gender_names_dict[gender] #We're only going to need one gender's data for this function\n",
    "    all_names = specific_gender_names_dict.keys() #These are all of the names for one gender\n",
    "\n",
    "    current_most_common_name = None #Initialize this value. Initialization is only necessary because we want to modify it later\n",
    "    current_most_common_name_counter = 0 #We've seen no names yet, so we've seen no names more than zero times\n",
    "    \n",
    "    for name in all_names:\n",
    "        num_occurrences = specific_gender_names_dict[name] #See how many times this name has appeared\n",
    "        if num_occurrences > current_most_common_name_counter: #Check to see if the current name has more instances than previous most\n",
    "            old_name = current_most_common_name\n",
    "            old_value = current_most_common_name_counter\n",
    "            current_most_common_name_counter = num_occurrences\n",
    "            current_most_common_name = name\n",
    "            print(update_phrase.format(old_name, old_value, name, num_occurrences))"
   ]
  },
  {
   "cell_type": "code",
   "execution_count": null,
   "metadata": {
    "collapsed": false
   },
   "outputs": [],
   "source": [
    "find_most_common_name('Male', gender_names_dict)"
   ]
  },
  {
   "cell_type": "markdown",
   "metadata": {},
   "source": [
    "Perfect! Now we can run a for loop on genders and only call this function. We also were able to use local variables that were easier to understand and avoid hurting our heads trying to keep track of levels within nested data structures. Data structures provide flexibility, but they aren't the most easily understandable.\n",
    "\n",
    "So while we're at a simpler state now, it's still a bit complicated. Let's try to simplify things even more. Rather than keeping all of the update-logic inside of the loop, let's move that into yet another function and run some tests."
   ]
  },
  {
   "cell_type": "code",
   "execution_count": null,
   "metadata": {
    "collapsed": true
   },
   "outputs": [],
   "source": [
    "def update_values_if_necessary(leader, leader_count, challenger_name, challenger_count):\n",
    "    update_phrase = 'Updated previous leader ({}) which had {} occurrences and replaced it with {} which has {}'\n",
    "    \n",
    "    if leader_count > challenger_count:\n",
    "        return leader, leader_count\n",
    "    else:\n",
    "        print(update_phrase.format(leader, leader_count, challenger_name, challenger_count))\n",
    "        return challenger_name, challenger_count"
   ]
  },
  {
   "cell_type": "code",
   "execution_count": null,
   "metadata": {
    "collapsed": false
   },
   "outputs": [],
   "source": [
    "#Let's test our function using dummy data\n",
    "print(update_values_if_necessary('Old', 10, 'New', 8)) #Should return Old as being higher"
   ]
  },
  {
   "cell_type": "code",
   "execution_count": null,
   "metadata": {
    "collapsed": false
   },
   "outputs": [],
   "source": [
    "#Let's test our function using dummy data\n",
    "print(update_values_if_necessary('Old', 10, 'New', 12)) #Should return New as being higher"
   ]
  },
  {
   "cell_type": "code",
   "execution_count": null,
   "metadata": {
    "collapsed": true
   },
   "outputs": [],
   "source": [
    "#Now let's build a function to call this over and over again using a loop:\n",
    "def find_largest_count(specific_gender_names_dict):\n",
    "    all_names = specific_gender_names_dict.keys()\n",
    "    leader_name = None #Initialize this value. Initialization is only necessary because we want to modify it later\n",
    "    leader_count = 0 #We've seen no names yet, so we've seen no names more than zero times\n",
    "\n",
    "    for name in all_names:\n",
    "        challenger_count = specific_gender_names_dict[name]\n",
    "        leader_name, leader_count = update_values_if_necessary(leader_name, leader_count, name, challenger_count)\n",
    "    return leader_name, leader_count"
   ]
  },
  {
   "cell_type": "code",
   "execution_count": null,
   "metadata": {
    "collapsed": false
   },
   "outputs": [],
   "source": [
    "find_largest_count(gender_names_dict['Male'])"
   ]
  },
  {
   "cell_type": "code",
   "execution_count": null,
   "metadata": {
    "collapsed": false
   },
   "outputs": [],
   "source": [
    "#Putting it all together, the new code looks like this:\n",
    "most_common = {}\n",
    "    \n",
    "for gender in all_genders:\n",
    "    print(gender)\n",
    "    name, count = find_largest_count(gender_names_dict[gender])\n",
    "    \n",
    "    #Now that we know the final answer, we don't have to keep updating the values of our dictionary. This is simplier.\n",
    "    most_common[gender] = {'most_common_name': name, 'most_common_name_count': count}"
   ]
  },
  {
   "cell_type": "code",
   "execution_count": null,
   "metadata": {
    "collapsed": false
   },
   "outputs": [],
   "source": [
    "#Let's put a bow on this and print it nicely\n",
    "for gender in most_common:\n",
    "    name = most_common[gender]['most_common_name']\n",
    "    count = most_common[gender]['most_common_name_count']\n",
    "    print(\"The most common {} name was {} and it appeared {} times\".format(gender, name, count))"
   ]
  },
  {
   "cell_type": "markdown",
   "metadata": {},
   "source": [
    "Breaking apart code into smaller snippets, testing it with values you know should work, and eliminating some of the complicated data structures that result in errors is a good practice when coding. There are infinite ways to solve the same problem, and breaking things into more manageable pieces is a recipe for fewer errors and improved ability to take bites of the elephant rather than trying to eat the whole elephant every time."
   ]
  }
 ],
 "metadata": {
  "anaconda-cloud": {},
  "kernelspec": {
   "display_name": "Python [conda env:py35]",
   "language": "python",
   "name": "conda-env-py35-py"
  },
  "language_info": {
   "codemirror_mode": {
    "name": "ipython",
    "version": 3
   },
   "file_extension": ".py",
   "mimetype": "text/x-python",
   "name": "python",
   "nbconvert_exporter": "python",
   "pygments_lexer": "ipython3",
   "version": "3.5.4"
  }
 },
 "nbformat": 4,
 "nbformat_minor": 1
}
