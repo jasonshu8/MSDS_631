{
 "cells": [
  {
   "cell_type": "markdown",
   "metadata": {},
   "source": [
    "# Homework 1\n"
   ]
  },
  {
   "cell_type": "markdown",
   "metadata": {},
   "source": [
    "### Part 1 - \"Doing Data Science\"\n",
    "Please read Chapter 1 of \"Doing Data Science\" by Cathy O'Neil and Rachel Schutt entitled \"What is Data Science?\" here: https://www.safaribooksonline.com/library/view/doing-data-science/9781449363871/ch01.html<br><br>\n",
    "Be prepared to have a discussion about the subject matter."
   ]
  },
  {
   "cell_type": "markdown",
   "metadata": {},
   "source": [
    "### Part 2 - Markdown\n",
    "Please learn a bit about Markdown Language and use the space below to tell me a little bit about yourself. What got you interested in taking this course and how do you hope to use your learnings in the immediate future? What previous experience do you have in the topics that we are going to cover this semester? Also feel free to tell me anything else interesting about yourself that you’d like to share.<br>\n",
    "Please include (at least) the following Markdown elements to ensure you get enough practice:\n",
    "* One header\n",
    "* At least two paragraphs\n",
    "* One bulleted list\n",
    "* One numbered list\n",
    "* One bolded word\n",
    "* One italicized word  \n",
    "\n",
    "Please keep your work to a single cell (i.e. don't use two cells to achieve your two paragraphs)"
   ]
  },
  {
   "cell_type": "markdown",
   "metadata": {
    "collapsed": true
   },
   "source": [
    "# Paul Van Wert's Markdown Intro Section\n",
    "### 2/10/2020\n",
    "\n",
    "\n",
    "I'm interested in taking this course to:\n",
    "* Start learning about different types of data structures and their uses\n",
    "* Start learning how to use markdown language\n",
    "* Start learning how to use Python \n",
    "* Start learning the best practices of Python coding\n",
    "* Start learning about git technology\n",
    "\n",
    "These are important to my immediate future because:\n",
    "1. I need these tools to do my new job at Aki\n",
    "2. I want to master these tools to optimize my time and efficiently do my job at Aki as soon as possible\n",
    "3. I'd like to learn these for myself and my career moving forward as they will be how I push forward new innovations to help Aki continue it's success trajectory\n",
    "\n",
    "Unfortunately I do _not_ have much experience in these specific areas as most of my work used to be in Scala and in the cloud at Eyeview.  I am **very** excited, however, to get going on building up my toolkit with this new knowledge.\n",
    " "
   ]
  },
  {
   "cell_type": "markdown",
   "metadata": {},
   "source": [
    "### Part 3 - Data Structures and Types"
   ]
  },
  {
   "cell_type": "markdown",
   "metadata": {},
   "source": [
    "1) In your own words, when is a good time to use a dictionary instead of a list? What is the downside of using dictionaries?"
   ]
  },
  {
   "cell_type": "markdown",
   "metadata": {},
   "source": [
    "A dictionary is good to use instead of a list when you need to be able to efficiently store variables in easy to find places using key value pairs which give a label (key) to the values stored within (value).\n",
    "\n",
    "Dictionaries don't retain any specific ordering of the keys, however, and must also be one of the hashable types (integer, float, string, tuple, None)."
   ]
  },
  {
   "cell_type": "markdown",
   "metadata": {},
   "source": [
    "2) What are three applications of using sets?"
   ]
  },
  {
   "cell_type": "markdown",
   "metadata": {},
   "source": [
    "1. Sets dedupe lists with duplicate values\n",
    "2. Quickly find and use these functions to evaluate two sets of data:\n",
    " * Unions\n",
    " * Intersections\n",
    " * Differences\n",
    " * Etc \n",
    "3. Quickly finding a specific value within a set of values"
   ]
  },
  {
   "cell_type": "markdown",
   "metadata": {},
   "source": [
    "### Part 4 - Variables, order of operations, and code organization\n",
    "In this assignment, you will practice using Python to solve basic problems. Please follow the instructions for each problem closely."
   ]
  },
  {
   "cell_type": "markdown",
   "metadata": {},
   "source": [
    "1) In the cell below, I've initialized several variables that I wish to use to solve a problem. In the subsequent cell, you will be asked to add parentheses in order to achieve the desired outcome."
   ]
  },
  {
   "cell_type": "code",
   "execution_count": 5,
   "metadata": {},
   "outputs": [],
   "source": [
    "num_apples = 10\n",
    "num_oranges = 20\n",
    "banana_factor = 2\n",
    "cost_per_rd_fruit = 0.5\n",
    "cost_per_banana = 0.29\n",
    "tax_rate = 8.25"
   ]
  },
  {
   "cell_type": "markdown",
   "metadata": {},
   "source": [
    "Susie is going to the grocery store but does not know how much cash to bring. She wants to bring the exact amount so that she does not have to deal with any change jiggling around in her pocket. On top of this, she's splitting the bill with her friend Tom. They want to buy 30 round fruits (10 apples and 20 oranges), both of which cost \\$0.50 each. Bananas are $0.29 each and they figure they need twice as many bananas as round fruits. Tax on produce where they live is 8.25%.<br><br>\n",
    "All of the elements for solving this are in the cell below - You just need to add the parentheses. Please add the minimum number of parentheses possible to figure out how much Susie needs to bring."
   ]
  },
  {
   "cell_type": "code",
   "execution_count": 13,
   "metadata": {},
   "outputs": [
    {
     "data": {
      "text/plain": [
       "17.5365"
      ]
     },
     "execution_count": 13,
     "metadata": {},
     "output_type": "execute_result"
    }
   ],
   "source": [
    "(((num_apples + num_oranges) * cost_per_rd_fruit) + ((banana_factor * (num_apples + num_oranges)) * cost_per_banana)) * (1 + (tax_rate / 100)) / 2"
   ]
  },
  {
   "cell_type": "markdown",
   "metadata": {},
   "source": [
    "2) Obviously the equation above is very confusing. In the cell below, take the equation above and introduce some new variables. Use these variables to break apart the equation into more logical steps that will improve the readability of the solution. At the end of your solution, please print your result as a sentence where the code automatically fills in the amount Susie needs to bring."
   ]
  },
  {
   "cell_type": "code",
   "execution_count": 23,
   "metadata": {},
   "outputs": [
    {
     "name": "stdout",
     "output_type": "stream",
     "text": [
      "Susie, bring $17.54 to the grocery store to cover the fruits.  Make sure to bring exact change, I'm sick of covering when you're short! \n",
      "\n",
      "-Tom\n"
     ]
    }
   ],
   "source": [
    "num_round_fruit = num_apples + num_oranges\n",
    "num_cylindrical_fruit = num_round_fruit * banana_factor\n",
    "round_fruit_cost = num_round_fruit * cost_per_rd_fruit\n",
    "cylindrical_fruit_cost = num_cylindrical_fruit * cost_per_banana\n",
    "tax_multiplier = 1 + (tax_rate / 100)\n",
    "\n",
    "susie_bill = round((round_fruit_cost + cylindrical_fruit_cost) * tax_multiplier / 2, 2)\n",
    "\n",
    "print('Susie, bring ${} to the grocery store to cover the fruits.  Make sure to bring exact change, I\\'m sick of covering when you\\'re short! \\n\\n-Tom'.format(susie_bill))"
   ]
  },
  {
   "cell_type": "markdown",
   "metadata": {},
   "source": [
    "### Part 5 - More operators\n",
    "Highland High School is preparing to go on a field trip to the Museum of Data Science. The school needs to plan how many buses it needs to transport all of its students. Please answer the following questions given the data in the cell below."
   ]
  },
  {
   "cell_type": "code",
   "execution_count": 45,
   "metadata": {},
   "outputs": [],
   "source": [
    "number_of_students = 1000\n",
    "capacity_of_each_bus = 72"
   ]
  },
  {
   "cell_type": "markdown",
   "metadata": {},
   "source": [
    "1) What is the minimum number of buses that the school will need to transport all of the students?"
   ]
  },
  {
   "cell_type": "code",
   "execution_count": 48,
   "metadata": {},
   "outputs": [
    {
     "data": {
      "text/plain": [
       "14"
      ]
     },
     "execution_count": 48,
     "metadata": {},
     "output_type": "execute_result"
    }
   ],
   "source": [
    "import math\n",
    "\n",
    "bus_count = math.ceil(number_of_students / capacity_of_each_bus)\n",
    "bus_count"
   ]
  },
  {
   "cell_type": "markdown",
   "metadata": {},
   "source": [
    "2) If the school tries to fill each school bus before starting to load children onto the next bus, what percent of the total capacity of the last bus will be used?"
   ]
  },
  {
   "cell_type": "code",
   "execution_count": 53,
   "metadata": {},
   "outputs": [
    {
     "data": {
      "text/plain": [
       "0.8888888888888888"
      ]
     },
     "execution_count": 53,
     "metadata": {},
     "output_type": "execute_result"
    }
   ],
   "source": [
    "students_last_bus = number_of_students % capacity_of_each_bus\n",
    "last_bus_fill_capacity = students_last_bus / capacity_of_each_bus\n",
    "last_bus_fill_capacity"
   ]
  },
  {
   "cell_type": "markdown",
   "metadata": {},
   "source": [
    "3) If the school wanted to keep the number of children on each bus as close to one another as possible, what is the maximum number of students that would be on a single bus?"
   ]
  },
  {
   "cell_type": "code",
   "execution_count": 55,
   "metadata": {},
   "outputs": [
    {
     "data": {
      "text/plain": [
       "72"
      ]
     },
     "execution_count": 55,
     "metadata": {},
     "output_type": "execute_result"
    }
   ],
   "source": [
    "min_students_per_bus = number_of_students // bus_count\n",
    "max_students_per_bus = min_students_per_bus + 1\n",
    "max_students_per_bus"
   ]
  },
  {
   "cell_type": "markdown",
   "metadata": {},
   "source": [
    "From the previous question, if they try to keep the number of children as close as possible, how many buses will be carrying the maximum number of students?"
   ]
  },
  {
   "cell_type": "code",
   "execution_count": 57,
   "metadata": {},
   "outputs": [
    {
     "data": {
      "text/plain": [
       "6"
      ]
     },
     "execution_count": 57,
     "metadata": {},
     "output_type": "execute_result"
    }
   ],
   "source": [
    "number_of_students % bus_count"
   ]
  }
 ],
 "metadata": {
  "kernelspec": {
   "display_name": "Python 3",
   "language": "python",
   "name": "python3"
  },
  "language_info": {
   "codemirror_mode": {
    "name": "ipython",
    "version": 3
   },
   "file_extension": ".py",
   "mimetype": "text/x-python",
   "name": "python",
   "nbconvert_exporter": "python",
   "pygments_lexer": "ipython3",
   "version": "3.7.4"
  }
 },
 "nbformat": 4,
 "nbformat_minor": 1
}
