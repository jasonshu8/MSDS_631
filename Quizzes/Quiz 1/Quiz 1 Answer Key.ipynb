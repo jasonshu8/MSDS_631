{
 "cells": [
  {
   "cell_type": "markdown",
   "metadata": {},
   "source": [
    "# Quiz 1 Answer Key"
   ]
  },
  {
   "cell_type": "markdown",
   "metadata": {},
   "source": [
    "### Question 1\n",
    "What is the output of 3.0 == 3"
   ]
  },
  {
   "cell_type": "code",
   "execution_count": 1,
   "metadata": {
    "collapsed": false
   },
   "outputs": [
    {
     "data": {
      "text/plain": [
       "True"
      ]
     },
     "execution_count": 1,
     "metadata": {},
     "output_type": "execute_result"
    }
   ],
   "source": [
    "3.0 == 3"
   ]
  },
  {
   "cell_type": "markdown",
   "metadata": {},
   "source": [
    "### Question 2\n",
    "What data type is returned by 4 / 2"
   ]
  },
  {
   "cell_type": "code",
   "execution_count": 3,
   "metadata": {
    "collapsed": false
   },
   "outputs": [
    {
     "data": {
      "text/plain": [
       "float"
      ]
     },
     "execution_count": 3,
     "metadata": {},
     "output_type": "execute_result"
    }
   ],
   "source": [
    "type(4/2)"
   ]
  },
  {
   "cell_type": "markdown",
   "metadata": {},
   "source": [
    "### Question 3\n",
    "What data type is returned by 4 // 2"
   ]
  },
  {
   "cell_type": "code",
   "execution_count": 4,
   "metadata": {
    "collapsed": false
   },
   "outputs": [
    {
     "data": {
      "text/plain": [
       "int"
      ]
     },
     "execution_count": 4,
     "metadata": {},
     "output_type": "execute_result"
    }
   ],
   "source": [
    "type(4 // 2)"
   ]
  },
  {
   "cell_type": "markdown",
   "metadata": {},
   "source": [
    "### Question 4\n",
    "What is the output of 'abc' + 'abc' (Please be exact)"
   ]
  },
  {
   "cell_type": "code",
   "execution_count": 5,
   "metadata": {
    "collapsed": false
   },
   "outputs": [
    {
     "data": {
      "text/plain": [
       "'abcabc'"
      ]
     },
     "execution_count": 5,
     "metadata": {},
     "output_type": "execute_result"
    }
   ],
   "source": [
    "'abc' + 'abc'"
   ]
  },
  {
   "cell_type": "markdown",
   "metadata": {},
   "source": [
    "### Question 5\n",
    "What is the output of 'abc' - 'a'"
   ]
  },
  {
   "cell_type": "code",
   "execution_count": 6,
   "metadata": {
    "collapsed": false
   },
   "outputs": [
    {
     "ename": "TypeError",
     "evalue": "unsupported operand type(s) for -: 'str' and 'str'",
     "output_type": "error",
     "traceback": [
      "\u001b[0;31m---------------------------------------------------------------------------\u001b[0m",
      "\u001b[0;31mTypeError\u001b[0m                                 Traceback (most recent call last)",
      "\u001b[0;32m<ipython-input-6-fad19baf605d>\u001b[0m in \u001b[0;36m<module>\u001b[0;34m()\u001b[0m\n\u001b[0;32m----> 1\u001b[0;31m \u001b[0;34m'abc'\u001b[0m \u001b[0;34m-\u001b[0m \u001b[0;34m'a'\u001b[0m\u001b[0;34m\u001b[0m\u001b[0m\n\u001b[0m",
      "\u001b[0;31mTypeError\u001b[0m: unsupported operand type(s) for -: 'str' and 'str'"
     ]
    }
   ],
   "source": [
    "'abc' - 'a'"
   ]
  },
  {
   "cell_type": "markdown",
   "metadata": {},
   "source": [
    "### Question 6\n",
    "What is the output of 2 + 3 // 2 + 2 ** 2"
   ]
  },
  {
   "cell_type": "code",
   "execution_count": 7,
   "metadata": {
    "collapsed": false
   },
   "outputs": [
    {
     "data": {
      "text/plain": [
       "7"
      ]
     },
     "execution_count": 7,
     "metadata": {},
     "output_type": "execute_result"
    }
   ],
   "source": [
    "2 + 3 // 2 + 2 ** 2"
   ]
  },
  {
   "cell_type": "code",
   "execution_count": 8,
   "metadata": {
    "collapsed": false
   },
   "outputs": [
    {
     "data": {
      "text/plain": [
       "7"
      ]
     },
     "execution_count": 8,
     "metadata": {},
     "output_type": "execute_result"
    }
   ],
   "source": [
    "2 + (3 // 2) + (2 ** 2)"
   ]
  },
  {
   "cell_type": "markdown",
   "metadata": {},
   "source": [
    "### Question 7-9 Details\n",
    "Imagine you work at a restaurant and you are responsible for building the Python tools to keep track of orders. The menu is prix fix, so they must choose from an appetizer (soup or salad), a main course (beef, chicken or fish), and a dessert (cake or ice cream). Every table has 8 seats. At any given table, your server must go around and ask what each patron wants to eat. The tables are scattered, but are identifiable by a U.S. City. Food is delivered one table at a time, so it's important to keep track of things to facilitate this."
   ]
  },
  {
   "cell_type": "markdown",
   "metadata": {},
   "source": [
    "(7) What data structure would you use to keep track of a single individual's order (i.e. what did person the person sitting at in the first seat order?). Why do you think this is the BEST choice?"
   ]
  },
  {
   "cell_type": "raw",
   "metadata": {},
   "source": [
    "Either a list or a dictionary would work here. The key points here are that the meal courses are ordered, so they can be stored in order (via a list). Alternatively, you could store each person's order in a dictionary with the course name (appetizer, main, or dessert) as keys."
   ]
  },
  {
   "cell_type": "markdown",
   "metadata": {},
   "source": [
    "(8) What data structure would you use to keep track of all of the individuals' orders (from Question 7) at a single table? Why do you think this is the BEST choice?"
   ]
  },
  {
   "cell_type": "raw",
   "metadata": {},
   "source": [
    "A list would be the best option here. The seats can be assigned by order without having to get anybody's name. That way the server could ask around and get orders one-by-one and add a value (from Question 7) at each list index corresponding to the seat. I accepted a dictionary as an answer if you cited that the keys could be the seat numbers. This is less ideal, but it is a fine line."
   ]
  },
  {
   "cell_type": "markdown",
   "metadata": {},
   "source": [
    "(9) What data structure would you use to keep track of all of the tables' orders (from Question (8)) for the whole room? Why do you think this is the BEST choice?"
   ]
  },
  {
   "cell_type": "raw",
   "metadata": {},
   "source": [
    "A dictionary is the only option here. Since the tables are scattered, you have a need to create a coherent way to assign each table's orders to a table. Data in a set is virtually inaccessible, and a list requires knowledge of a specific order. Keys here would be the U.S. City names, and the values would be whatever was selected from Question 8"
   ]
  },
  {
   "cell_type": "markdown",
   "metadata": {},
   "source": [
    "### Question 10-11 Details\n",
    "Imagine you are also responsible for procuring the food for this restaurant and you need to compute the amount of raw ingredients needed to service the expected patrons. To ensure customer satisfaction, you add a little bit of buffer just in case more patrons than normal are ordering a particular dish that day. The following are the variables that you have at your disposal:\n",
    "\n",
    "- estimated_num_beef_dishes_ordered\n",
    "- pounds_beef_per_beef_dish\n",
    "- pounds_beef_per_cow\n",
    "- estimate_error_buffer (error band is for the number of dishes ordered, not number of cows)"
   ]
  },
  {
   "cell_type": "markdown",
   "metadata": {},
   "source": [
    "(10) Beef can only be purchased in units of whole cows. Please write the code you would implement to determine how many cows you need to buy? Be sure to choose a good variable names! (NOTE: You can assume that you will have a bit of leftover beef in the end)"
   ]
  },
  {
   "cell_type": "raw",
   "metadata": {},
   "source": [
    "# Assuming you thought the buffer was a percentage\n",
    "\n",
    "total_dishes_predicted = estimated_num_beef_dishes_ordered * (1 + estimate_error_buffer)\n",
    "total_pounds_beef_needed = pounds_beef_per_beef_dish * total_dishes_predicted\n",
    "whole_cows_needed = total_pounds_beef_needed // pounds_beef_per_cow\n",
    "total_cows_needed = whole_cows_needed + 1 # Assumes you don't use all of the beef from the last cow"
   ]
  },
  {
   "cell_type": "raw",
   "metadata": {},
   "source": [
    "# Assuming you thought the buffer was an absolute number\n",
    "\n",
    "total_dishes_predicted = estimated_num_beef_dishes_ordered + estimate_error_buffer\n",
    "total_pounds_beef_needed = pounds_beef_per_beef_dish * total_dishes_predicted\n",
    "whole_cows_needed = total_pounds_beef_needed // pounds_beef_per_cow\n",
    "total_cows_needed = whole_cows_needed + 1 # Assumes you don't use all of the beef from the last cow"
   ]
  },
  {
   "cell_type": "markdown",
   "metadata": {},
   "source": [
    "(11) The estimate_error_buffer actually represents the high AND the low-end of what customers order (e.g. +/- 20%). The worst case scenario is if the low-end of the estimate actually occurs in real life when you purchase enough for the high-end. However, this only really matters if you had to purchase an extra cow as a result. Please write the code you would implement to determine how many extra cows you have purchased?"
   ]
  },
  {
   "cell_type": "raw",
   "metadata": {},
   "source": [
    "high_estimate_dishes_predicted = estimated_num_beef_dishes_ordered * (1 + estimate_error_buffer)\n",
    "high_estimate_pounds_beef_needed = pounds_beef_per_beef_dish * high_estimate_dishes_predicted\n",
    "high_estimate_whole_cows_needed = high_estimate_pounds_beef_needed // pounds_beef_per_cow\n",
    "high_estimate_cows_needed = high_estimate_whole_cows_needed + 1\n",
    "\n",
    "low_possibility_dishes_served = estimated_num_beef_dishes_ordered * (1 - estimate_error_buffer)\n",
    "low_possibility_pounds_beef_used = pounds_beef_per_beef_dish * low_possibility_dishes_served\n",
    "low_possibility_whole_cows_used = low_possibility_pounds_beef_used // pounds_beef_per_cow\n",
    "low_possibility_cows_needed = low_possibility_whole_cows_used + 1\n",
    "\n",
    "extra_cows = high_estimate_cows_needed - low_possibility_cows_needed"
   ]
  }
 ],
 "metadata": {
  "anaconda-cloud": {},
  "kernelspec": {
   "display_name": "Python [conda env:py35]",
   "language": "python",
   "name": "conda-env-py35-py"
  },
  "language_info": {
   "codemirror_mode": {
    "name": "ipython",
    "version": 3
   },
   "file_extension": ".py",
   "mimetype": "text/x-python",
   "name": "python",
   "nbconvert_exporter": "python",
   "pygments_lexer": "ipython3",
   "version": "3.5.4"
  }
 },
 "nbformat": 4,
 "nbformat_minor": 1
}
