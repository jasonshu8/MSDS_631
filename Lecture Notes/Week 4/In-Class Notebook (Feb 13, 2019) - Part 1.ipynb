{
 "cells": [
  {
   "cell_type": "markdown",
   "metadata": {},
   "source": [
    "# MSDS 631 - Lecture 4 (February 13, 2019)\n",
    "\n",
    "### Libraries"
   ]
  },
  {
   "cell_type": "markdown",
   "metadata": {},
   "source": [
    "Coding has become powerful because of the kind of open sharing that allows the collective creativity and problem solving of a few to be disseminated to everyone. We are no longer forced to reinvent the wheel every single time we want to solve a problem. Each time someone solves something new and decides to make their code public, they are contributing to the collective knowledge-base of all coders of that language.\n",
    "\n",
    "Consider the most frequently used library we've used to date: random. It's actually deceptively difficult to come up with truly random numbers. Some people figured out how to come pretty darn close to representing randomness and wrote a library. Now, I never have to think about writing a random number generator whenever I'm doing things."
   ]
  },
  {
   "cell_type": "code",
   "execution_count": 1,
   "metadata": {},
   "outputs": [],
   "source": [
    "# Let's import random\n",
    "import random"
   ]
  },
  {
   "cell_type": "markdown",
   "metadata": {},
   "source": [
    "Now, all of the capabilities of this library are at my fingertips."
   ]
  },
  {
   "cell_type": "code",
   "execution_count": 2,
   "metadata": {},
   "outputs": [
    {
     "data": {
      "text/plain": [
       "45"
      ]
     },
     "execution_count": 2,
     "metadata": {},
     "output_type": "execute_result"
    }
   ],
   "source": [
    "random_integer = random.randint(1,100) # Random integer between 1 and 100 (inclusive)\n",
    "random_integer"
   ]
  },
  {
   "cell_type": "code",
   "execution_count": 3,
   "metadata": {},
   "outputs": [
    {
     "data": {
      "text/plain": [
       "0.2570385485147024"
      ]
     },
     "execution_count": 3,
     "metadata": {},
     "output_type": "execute_result"
    }
   ],
   "source": [
    "random_float = random.random() # Random float between 0 and 1\n",
    "random_float"
   ]
  },
  {
   "cell_type": "code",
   "execution_count": 4,
   "metadata": {},
   "outputs": [
    {
     "data": {
      "text/plain": [
       "57.1595486844216"
      ]
     },
     "execution_count": 4,
     "metadata": {},
     "output_type": "execute_result"
    }
   ],
   "source": [
    "random_float_big = random.random() * 100 # Random float between 0 and 100\n",
    "random_float_big"
   ]
  },
  {
   "cell_type": "code",
   "execution_count": 5,
   "metadata": {},
   "outputs": [
    {
     "data": {
      "text/plain": [
       "10.74775808954527"
      ]
     },
     "execution_count": 5,
     "metadata": {},
     "output_type": "execute_result"
    }
   ],
   "source": [
    "random_normal = random.normalvariate(10,2) # Random from normal distribution with mean of 10 and sd of 1\n",
    "random_normal"
   ]
  },
  {
   "cell_type": "code",
   "execution_count": 6,
   "metadata": {},
   "outputs": [],
   "source": [
    "#datetime is another library I use a lot\n",
    "from datetime import datetime as dt"
   ]
  },
  {
   "cell_type": "code",
   "execution_count": 7,
   "metadata": {},
   "outputs": [],
   "source": [
    "def convert_to_date(date_str):\n",
    "    date_obj = dt.strptime(date_str, '%Y-%m-%d')  #YYYY-MM-DD\n",
    "    return date_obj"
   ]
  },
  {
   "cell_type": "code",
   "execution_count": 8,
   "metadata": {},
   "outputs": [],
   "source": [
    "my_bday = convert_to_date(\"1979-03-08\")"
   ]
  },
  {
   "cell_type": "code",
   "execution_count": 11,
   "metadata": {},
   "outputs": [
    {
     "data": {
      "text/plain": [
       "1979"
      ]
     },
     "execution_count": 11,
     "metadata": {},
     "output_type": "execute_result"
    }
   ],
   "source": [
    "my_bday.year"
   ]
  },
  {
   "cell_type": "markdown",
   "metadata": {},
   "source": [
    "Now let's build our own library!\n",
    "\n",
    "Open up Spyder and then open the file `people.py` in the Week 4 lecture folder."
   ]
  },
  {
   "cell_type": "code",
   "execution_count": 12,
   "metadata": {},
   "outputs": [],
   "source": [
    "import people"
   ]
  },
  {
   "cell_type": "code",
   "execution_count": 13,
   "metadata": {},
   "outputs": [],
   "source": [
    "# Let's create an \"instance\" of an \"Object\" that we imported\n",
    "jason = people.Person('Jason', 'Shu', 'Data Science', '1979-03-08')"
   ]
  },
  {
   "cell_type": "code",
   "execution_count": 19,
   "metadata": {},
   "outputs": [
    {
     "name": "stdout",
     "output_type": "stream",
     "text": [
      "Jason was born on 1979-03-08 00:00:00, which was a 3. His major is Data Science\n"
     ]
    }
   ],
   "source": [
    "jason.tell_me_a_story()"
   ]
  },
  {
   "cell_type": "code",
   "execution_count": 18,
   "metadata": {},
   "outputs": [
    {
     "data": {
      "text/plain": [
       "'Jason was born on 1979-03-08 00:00:00, which was a 3. His major is Data Science'"
      ]
     },
     "execution_count": 18,
     "metadata": {},
     "output_type": "execute_result"
    }
   ],
   "source": [
    "#jason.phrase ONLY exists if we \"call\" the method tell_me_a_story OR store_a_story\n",
    "jason.phrase"
   ]
  },
  {
   "cell_type": "markdown",
   "metadata": {},
   "source": [
    "#### Let's look at some attributes of me"
   ]
  },
  {
   "cell_type": "code",
   "execution_count": 20,
   "metadata": {},
   "outputs": [
    {
     "data": {
      "text/plain": [
       "'Jason'"
      ]
     },
     "execution_count": 20,
     "metadata": {},
     "output_type": "execute_result"
    }
   ],
   "source": [
    "#first_name is an attribute of the object person. In this case, \"Jason\" was assigned as its value\n",
    "jason.first_name"
   ]
  },
  {
   "cell_type": "code",
   "execution_count": 21,
   "metadata": {},
   "outputs": [
    {
     "data": {
      "text/plain": [
       "'Shu'"
      ]
     },
     "execution_count": 21,
     "metadata": {},
     "output_type": "execute_result"
    }
   ],
   "source": [
    "#last_name is an attribute of the object person. In this case, \"Jason\" was assigned as its value\n",
    "jason.last_name"
   ]
  },
  {
   "cell_type": "code",
   "execution_count": 22,
   "metadata": {},
   "outputs": [
    {
     "ename": "TypeError",
     "evalue": "'Person' object does not support item assignment",
     "output_type": "error",
     "traceback": [
      "\u001b[0;31m---------------------------------------------------------------------------\u001b[0m",
      "\u001b[0;31mTypeError\u001b[0m                                 Traceback (most recent call last)",
      "\u001b[0;32m<ipython-input-22-c0fb3fbc9e74>\u001b[0m in \u001b[0;36m<module>\u001b[0;34m\u001b[0m\n\u001b[1;32m      1\u001b[0m \u001b[0;31m#Attributes can only be added if they are part of the object\u001b[0m\u001b[0;34m\u001b[0m\u001b[0;34m\u001b[0m\u001b[0;34m\u001b[0m\u001b[0m\n\u001b[0;32m----> 2\u001b[0;31m \u001b[0mjason\u001b[0m\u001b[0;34m[\u001b[0m\u001b[0;34m'favorite_sport'\u001b[0m\u001b[0;34m]\u001b[0m \u001b[0;34m=\u001b[0m \u001b[0;34m'golf'\u001b[0m \u001b[0;31m#Since it's not built into the object, this doesn't work\u001b[0m\u001b[0;34m\u001b[0m\u001b[0;34m\u001b[0m\u001b[0m\n\u001b[0m",
      "\u001b[0;31mTypeError\u001b[0m: 'Person' object does not support item assignment"
     ]
    }
   ],
   "source": [
    "#Attributes can only be added if they are part of the object\n",
    "jason['favorite_sport'] = 'golf' #Since it's not built into the object, this doesn't work"
   ]
  },
  {
   "cell_type": "markdown",
   "metadata": {},
   "source": [
    "### Input / Output (IO)\n",
    "\n",
    "#### Different Data Storage Formats\n",
    "Data is at the heart of analysis, but it has to get to your computer *somehow*. Sometimes it comes from databases, but many data scientists use downloaded files and load them into their analysis tools.\n",
    "\n",
    "Data is often labeled as either \"structured\" or \"unstructured.\" Structured data is defined by the ability to \"label\" values with some sort of attribute. So given a group of students, I can find each of their majors or genders. Unstructured data would be something like text from a Yelp review or the noise signal of an audio recording. For our purposes, structured data is the only thing we are going to care about.\n",
    "\n",
    "Structured data comes in a few major formats: 1) tabular, and 2) JSON-based\n",
    "- Tabular data is what we are accustomed to seeing. Think about an excel file with rows and columns\n",
    "- JSON-based data comes in either attribute–value pairs or arrays (or some combination of the two)\n",
    "\n",
    "Tabular data is almost always stored via something called comma-separated value (csv) files. csv files differ from Excel files in that they are as bare-bones as you can get. Excel files carry all sorts of formatting, tabs, and other features that most computer programs can't understand. When you save excel files as csv's, everything is stripped away to only include data needed.\n",
    "\n",
    "JSON-based data closely resemble Python dictionaries and lists. They are less \"pretty\" to look at but are infinitely flexible.\n",
    "\n",
    "Let's take a look at some files.\n",
    "\n",
    "`students.csv`<br>\n",
    "`students.json`<br>\n",
    "`by_gender_and_major.json`\n"
   ]
  },
  {
   "cell_type": "markdown",
   "metadata": {},
   "source": [
    "Now let's open these files in Python to see how they look as a data structure.\n",
    "\n",
    "#### CSVs"
   ]
  },
  {
   "cell_type": "code",
   "execution_count": 29,
   "metadata": {},
   "outputs": [],
   "source": [
    "import csv"
   ]
  },
  {
   "cell_type": "code",
   "execution_count": 24,
   "metadata": {},
   "outputs": [],
   "source": [
    "# Read a file\n",
    "csv_data = []\n",
    "with open('students.csv', 'r') as f:\n",
    "    reader = csv.reader(f)\n",
    "    for row in reader:\n",
    "        csv_data.append(row)"
   ]
  },
  {
   "cell_type": "code",
   "execution_count": 25,
   "metadata": {},
   "outputs": [
    {
     "data": {
      "text/plain": [
       "list"
      ]
     },
     "execution_count": 25,
     "metadata": {},
     "output_type": "execute_result"
    }
   ],
   "source": [
    "# What data type is csv_data?\n",
    "type(csv_data)"
   ]
  },
  {
   "cell_type": "code",
   "execution_count": 26,
   "metadata": {},
   "outputs": [
    {
     "data": {
      "text/plain": [
       "['student_id', 'first', 'last', 'gender', 'class', 'major', 'gpa']"
      ]
     },
     "execution_count": 26,
     "metadata": {},
     "output_type": "execute_result"
    }
   ],
   "source": [
    "# What is the first row of data?\n",
    "headers = csv_data[0]\n",
    "headers"
   ]
  },
  {
   "cell_type": "code",
   "execution_count": 27,
   "metadata": {},
   "outputs": [
    {
     "data": {
      "text/plain": [
       "['5a397209-3782-4764-a285-10fae807ee71',\n",
       " 'Janis',\n",
       " 'Brown',\n",
       " 'Female',\n",
       " 'Junior',\n",
       " 'Economics',\n",
       " '3.12']"
      ]
     },
     "execution_count": 27,
     "metadata": {},
     "output_type": "execute_result"
    }
   ],
   "source": [
    "# What is the second row of data?\n",
    "csv_data[1]"
   ]
  },
  {
   "cell_type": "code",
   "execution_count": 28,
   "metadata": {},
   "outputs": [],
   "source": [
    "another_student = ['2bef3439-ef05-47cf-976e-cc13c6d5b7a5', 'Jason', 'Shu', 'Male', 'Senior', 'Data Science', 3.2]"
   ]
  },
  {
   "cell_type": "code",
   "execution_count": null,
   "metadata": {},
   "outputs": [],
   "source": [
    "csv_data.append(another_student)"
   ]
  },
  {
   "cell_type": "markdown",
   "metadata": {},
   "source": [
    "Let's learn on our own how to write data\n",
    "\n",
    "https://docs.python.org/3/library/csv.html"
   ]
  },
  {
   "cell_type": "code",
   "execution_count": null,
   "metadata": {},
   "outputs": [],
   "source": [
    "# Write your list to a new file\n",
    "with open('students_1.csv', 'w') as f:\n",
    "    writer = csv.writer(f) #writer is an Object within the library csv; we've also created an instance also called writer\n",
    "    for row in csv_data:\n",
    "        writer.writerow(row) #writerow takes a list and adds it to a file; a for-loop allows us to add all of our data"
   ]
  },
  {
   "cell_type": "markdown",
   "metadata": {},
   "source": [
    "#### JSONs"
   ]
  },
  {
   "cell_type": "code",
   "execution_count": null,
   "metadata": {},
   "outputs": [],
   "source": [
    "import json"
   ]
  },
  {
   "cell_type": "code",
   "execution_count": null,
   "metadata": {},
   "outputs": [],
   "source": [
    "# Let's open a json file\n",
    "with open('students.json', 'r') as f:\n",
    "    json_data_1 = json.load(f)"
   ]
  },
  {
   "cell_type": "code",
   "execution_count": null,
   "metadata": {},
   "outputs": [],
   "source": [
    "# What type is json_data?\n",
    "type(json_data_1) #JSONs can also hold Python dictionaries"
   ]
  },
  {
   "cell_type": "code",
   "execution_count": null,
   "metadata": {},
   "outputs": [],
   "source": [
    "len(json_data_1)"
   ]
  },
  {
   "cell_type": "code",
   "execution_count": null,
   "metadata": {},
   "outputs": [],
   "source": [
    "json_data_1[0]"
   ]
  },
  {
   "cell_type": "markdown",
   "metadata": {},
   "source": [
    "Let's find out all of the majors for our enrolled students."
   ]
  },
  {
   "cell_type": "code",
   "execution_count": null,
   "metadata": {},
   "outputs": [],
   "source": [
    "all_majors = []\n",
    "all_gpas = []\n",
    "counter = 0\n",
    "for student in json_data_1:\n",
    "    all_majors.append(student['major'])\n",
    "    all_gpas.append(student['gpa'])"
   ]
  },
  {
   "cell_type": "code",
   "execution_count": null,
   "metadata": {},
   "outputs": [],
   "source": [
    "all_majors[:10]"
   ]
  },
  {
   "cell_type": "code",
   "execution_count": null,
   "metadata": {},
   "outputs": [],
   "source": [
    "#We can find out the unique majors by using the list of all students' majors\n",
    "all_available_majors = set(all_majors)\n",
    "all_available_majors"
   ]
  },
  {
   "cell_type": "code",
   "execution_count": null,
   "metadata": {},
   "outputs": [],
   "source": [
    "#We can find out the average GPA by using the list of all students' GPAs\n",
    "avg_gpa = sum(all_gpas) / len(all_gpas)\n",
    "avg_gpa"
   ]
  },
  {
   "cell_type": "code",
   "execution_count": null,
   "metadata": {},
   "outputs": [],
   "source": [
    "#Let's open another file\n",
    "with open('by_gender_and_major.json', 'r') as f:\n",
    "    json_data_2 = json.load(f)"
   ]
  },
  {
   "cell_type": "code",
   "execution_count": null,
   "metadata": {},
   "outputs": [],
   "source": [
    "#What type is json_data?"
   ]
  },
  {
   "cell_type": "code",
   "execution_count": null,
   "metadata": {},
   "outputs": [],
   "source": [
    "type(json_data_2)"
   ]
  },
  {
   "cell_type": "code",
   "execution_count": null,
   "metadata": {},
   "outputs": [],
   "source": [
    "#What are the keys of this dictionary?\n",
    "json_data_2.keys()"
   ]
  },
  {
   "cell_type": "code",
   "execution_count": null,
   "metadata": {},
   "outputs": [],
   "source": [
    "#What data type is the value for one of these keys look like?\n",
    "type(json_data_2['Female'])"
   ]
  },
  {
   "cell_type": "code",
   "execution_count": null,
   "metadata": {},
   "outputs": [],
   "source": [
    "#What are the keys of this nested dictionary?\n",
    "json_data_2['Female'].keys()"
   ]
  },
  {
   "cell_type": "markdown",
   "metadata": {},
   "source": [
    "Looks like the keys are the various majors. Let's look at the value of these."
   ]
  },
  {
   "cell_type": "code",
   "execution_count": null,
   "metadata": {},
   "outputs": [],
   "source": [
    "type(json_data_2['Female']['Finance'])"
   ]
  },
  {
   "cell_type": "code",
   "execution_count": null,
   "metadata": {},
   "outputs": [],
   "source": [
    "#It's a list. Let's take a look at the first few values\n",
    "json_data_2['Female']['Finance'][:10]"
   ]
  },
  {
   "cell_type": "markdown",
   "metadata": {},
   "source": [
    "Seems like these are all of the student IDs for female students majoring in finance."
   ]
  },
  {
   "cell_type": "markdown",
   "metadata": {},
   "source": [
    "Let's learn on our own how to write data\n",
    "\n",
    "https://docs.python.org/3/library/json.html"
   ]
  },
  {
   "cell_type": "markdown",
   "metadata": {},
   "source": [
    "#### Preview of next week!"
   ]
  },
  {
   "cell_type": "code",
   "execution_count": null,
   "metadata": {},
   "outputs": [],
   "source": [
    "import pandas as pd"
   ]
  },
  {
   "cell_type": "code",
   "execution_count": null,
   "metadata": {},
   "outputs": [],
   "source": [
    "way_better = pd.DataFrame(json_data_1)"
   ]
  },
  {
   "cell_type": "code",
   "execution_count": null,
   "metadata": {},
   "outputs": [],
   "source": [
    "way_better.head()"
   ]
  },
  {
   "cell_type": "code",
   "execution_count": null,
   "metadata": {},
   "outputs": [],
   "source": [
    "from matplotlib import pyplot as plt\n",
    "way_better.groupby('major')[['major']].count().plot(kind='bar')\n",
    "plt.show()"
   ]
  }
 ],
 "metadata": {
  "anaconda-cloud": {},
  "kernelspec": {
   "display_name": "Python 3",
   "language": "python",
   "name": "python3"
  },
  "language_info": {
   "codemirror_mode": {
    "name": "ipython",
    "version": 3
   },
   "file_extension": ".py",
   "mimetype": "text/x-python",
   "name": "python",
   "nbconvert_exporter": "python",
   "pygments_lexer": "ipython3",
   "version": "3.8.5"
  }
 },
 "nbformat": 4,
 "nbformat_minor": 1
}
